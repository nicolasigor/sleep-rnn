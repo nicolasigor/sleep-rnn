{
 "cells": [
  {
   "cell_type": "code",
   "execution_count": 1,
   "id": "75dff063",
   "metadata": {},
   "outputs": [
    {
     "data": {
      "text/html": [
       "<style>.container { width:100% !important; }</style>"
      ],
      "text/plain": [
       "<IPython.core.display.HTML object>"
      ]
     },
     "metadata": {},
     "output_type": "display_data"
    }
   ],
   "source": [
    "import os\n",
    "from pprint import pprint\n",
    "import sys\n",
    "\n",
    "import matplotlib.pyplot as plt\n",
    "import matplotlib\n",
    "import numpy as np\n",
    "import pandas as pd\n",
    "from scipy import stats\n",
    "from scipy.signal import find_peaks, hilbert\n",
    "import pickle\n",
    "import ipywidgets as widgets\n",
    "\n",
    "project_root = '..'\n",
    "sys.path.append(project_root)\n",
    "\n",
    "from sleeprnn.common import viz, constants\n",
    "from sleeprnn.helpers import reader, plotter, misc, performer\n",
    "from sleeprnn.detection import metrics, det_utils, ensemble\n",
    "from figs_thesis import fig_utils\n",
    "from baselines_scripts.butils import get_partitions\n",
    "from sleeprnn.detection.feeder_dataset import FeederDataset\n",
    "from sklearn.linear_model import LinearRegression, HuberRegressor\n",
    "from sleeprnn.data import utils, stamp_correction\n",
    "\n",
    "RESULTS_PATH = os.path.join(project_root, 'results')\n",
    "BASELINES_PATH = os.path.join(project_root, 'resources', 'comparison_data', 'baselines_2021')\n",
    "\n",
    "%matplotlib inline\n",
    "viz.notebook_full_width()\n",
    "\n",
    "param_filtering_fn = fig_utils.get_filtered_signal_for_event\n",
    "param_frequency_fn = fig_utils.get_frequency_by_fft\n",
    "param_amplitude_fn = fig_utils.get_amplitude_event"
   ]
  },
  {
   "cell_type": "markdown",
   "id": "7c691819",
   "metadata": {},
   "source": [
    "# CAP whole"
   ]
  },
  {
   "cell_type": "code",
   "execution_count": 18,
   "id": "34edbc43",
   "metadata": {},
   "outputs": [
    {
     "name": "stdout",
     "output_type": "stream",
     "text": [
      "\n",
      "Loading {'dataset_name': 'cap_ss', 'expert': 2, 'strategy': '5cv', 'seeds': 1}\n",
      "Loading predictions from 20210621_thesis_whole_5cv_e2_n2_train_cap_ss/v2_time_subjectsize100.0\n",
      "Loading predictions from 20210621_thesis_whole_5cv_e2_n2_train_cap_ss/v2_cwt1d_subjectsize100.0\n",
      "\n",
      "Loading {'dataset_name': 'cap_ss', 'expert': 3, 'strategy': '5cv', 'seeds': 1}\n",
      "Loading predictions from 20210621_thesis_whole_5cv_e3_n2_train_cap_ss/v2_time_subjectsize100.0\n",
      "Loading predictions from 20210621_thesis_whole_5cv_e3_n2_train_cap_ss/v2_cwt1d_subjectsize100.0\n",
      "\n",
      "Loading {'dataset_name': 'cap_ss', 'expert': 1, 'strategy': '5cv', 'seeds': 1}\n",
      "Loading predictions from 20210621_thesis_whole_5cv_e1_n2_train_cap_ss/v2_time_subjectsize100.0\n",
      "Loading predictions from 20210621_thesis_whole_5cv_e1_n2_train_cap_ss/v2_cwt1d_subjectsize100.0\n",
      "Done.\n"
     ]
    }
   ],
   "source": [
    "models = [constants.V2_TIME, constants.V2_CWT1D]\n",
    "print_model_names = {\n",
    "    constants.V2_TIME: 'REDv2-Time',\n",
    "    constants.V2_CWT1D: 'REDv2-CWT'\n",
    "}\n",
    "print_dataset_names = {\n",
    "    (constants.CAP_SS_NAME, 1): \"CAP-A7\",\n",
    "    (constants.CAP_SS_NAME, 2): \"CAP-S1\",\n",
    "    (constants.CAP_SS_NAME, 3): \"CAP-S2\",\n",
    "}\n",
    "eval_configs = [\n",
    "    dict(dataset_name=constants.CAP_SS_NAME, expert=2, strategy='5cv', seeds=1),\n",
    "    dict(dataset_name=constants.CAP_SS_NAME, expert=3, strategy='5cv', seeds=1),\n",
    "    dict(dataset_name=constants.CAP_SS_NAME, expert=1, strategy='5cv', seeds=1),\n",
    "]\n",
    "\n",
    "metrics_list = []\n",
    "for config in eval_configs:\n",
    "    print(\"\\nLoading\", config)\n",
    "    dataset = reader.load_dataset(config[\"dataset_name\"], verbose=False)\n",
    "    pred_dict = {}\n",
    "    for model_version in models:\n",
    "        tmp_dict = fig_utils.get_red_predictions_for_cap_whole(model_version, dataset, config[\"expert\"], verbose=True)\n",
    "        # Retrieve only predictions, same format as baselines\n",
    "        pred_dict[model_version] = {}\n",
    "        for k in tmp_dict.keys():\n",
    "            fold_subjects = tmp_dict[k][constants.TEST_SUBSET].all_ids\n",
    "            fold_predictions = tmp_dict[k][constants.TEST_SUBSET].get_stamps()\n",
    "            pred_dict[model_version][k] = {s: pred for s, pred in zip(fold_subjects, fold_predictions)}\n",
    "    \n",
    "    # Measure performance by subject\n",
    "    _, _, test_ids_list = get_partitions(dataset, config[\"strategy\"], config[\"seeds\"])\n",
    "    n_folds = len(test_ids_list)\n",
    "    table = {'Detector': [], 'F1-score': [], 'Recall': [], 'Precision': [], 'mIoU': [], 'Subject': [], 'Fold': []}\n",
    "    valid_subjects = dataset.all_ids\n",
    "    for model_name in models:\n",
    "        for k in range(n_folds):\n",
    "            subject_ids = test_ids_list[k]\n",
    "            feed_d = FeederDataset(dataset, subject_ids, constants.N2_RECORD, which_expert=config[\"expert\"])\n",
    "            events_list = feed_d.get_stamps()\n",
    "            detections_list = [pred_dict[model_name][k][subject_id] for subject_id in subject_ids]\n",
    "            performance = fig_utils.compute_subject_performance(events_list, detections_list)\n",
    "            for i, subject_id in enumerate(subject_ids):\n",
    "                if subject_id in valid_subjects:\n",
    "                    table['Detector'].append(model_name)\n",
    "                    table['F1-score'].append(performance['F1-score'][i])\n",
    "                    table['Recall'].append(performance['Recall'][i])\n",
    "                    table['Precision'].append(performance['Precision'][i])\n",
    "                    table['mIoU'].append(performance['mIoU'][i])\n",
    "                    table['Subject'].append(subject_id)\n",
    "                    table['Fold'].append(k)\n",
    "    table = pd.DataFrame.from_dict(table)\n",
    "    metrics_list.append(table)\n",
    "print(\"Done.\")"
   ]
  },
  {
   "cell_type": "code",
   "execution_count": 21,
   "id": "a5d66e9c",
   "metadata": {},
   "outputs": [
    {
     "name": "stdout",
     "output_type": "stream",
     "text": [
      "Datos & Detector & F1-score (\\%) & Recall (\\%) & Precision (\\%) & mIoU (\\%) \\\\\n",
      "\n",
      "CAP-S1\n",
      "& REDv2-Time & $95.5\\pm 0.4$ & $96.1\\pm 0.5$ & $94.9\\pm 0.5$ & $94.7\\pm 0.2$ \\\\\n",
      "& REDv2-CWT  & $96.1\\pm 0.3$ & $96.4\\pm 0.4$ & $95.8\\pm 0.5$ & $95.2\\pm 0.2$ \\\\\n",
      "REDv2-CWT vs REDv2-Time: P 0.0615\n",
      "\n",
      "CAP-S2\n",
      "& REDv2-Time & $82.2\\pm 1.0$ & $85.2\\pm 4.5$ & $82.3\\pm 3.3$ & $88.0\\pm 0.6$ \\\\\n",
      "& REDv2-CWT  & $82.4\\pm 0.9$ & $84.4\\pm 4.5$ & $83.3\\pm 3.9$ & $88.5\\pm 0.2$ \\\\\n",
      "REDv2-CWT vs REDv2-Time: P 0.7461\n",
      "\n",
      "CAP-A7\n",
      "& REDv2-Time & $88.1\\pm 0.3$ & $89.5\\pm 1.8$ & $87.2\\pm 1.4$ & $88.3\\pm 0.4$ \\\\\n",
      "& REDv2-CWT  & $88.2\\pm 0.4$ & $89.5\\pm 2.2$ & $87.5\\pm 1.7$ & $88.2\\pm 0.5$ \\\\\n",
      "REDv2-CWT vs REDv2-Time: P 0.5632\n"
     ]
    }
   ],
   "source": [
    "# Tabla desempeño by-fold\n",
    "print(\"Datos & Detector & F1-score (\\%) & Recall (\\%) & Precision (\\%) & mIoU (\\%) \\\\\\\\\")\n",
    "for i_config, config in enumerate(eval_configs):\n",
    "    table = metrics_list[i_config]\n",
    "    # Form by-fold metrics (it is macro-average for each fold)\n",
    "    table_fold = table.drop(columns=[\"Subject\"]).groupby(by=[\"Detector\", \"Fold\"]).mean().reset_index()  # macro-avg\n",
    "    table_fold_mean = table_fold.drop(columns=[\"Fold\"]).groupby(by=[\"Detector\"]).mean().add_suffix(\"_mean\")\n",
    "    table_fold_std = table_fold.drop(columns=[\"Fold\"]).groupby(by=[\"Detector\"]).std(ddof=0).add_suffix(\"_std\")\n",
    "    table_fold_stat = table_fold_mean.join(table_fold_std).reset_index()\n",
    "    \n",
    "    dataset_str = print_dataset_names[(config['dataset_name'], config['expert'])]\n",
    "    print(\"\\n%s\" % dataset_str)\n",
    "    table_fold_stat = table_fold_stat.set_index('Detector').to_dict(orient='index')\n",
    "    for model_name in models:\n",
    "        metrics_model = table_fold_stat[model_name]\n",
    "        metric_str = \"& %s & %s & %s & %s & %s \\\\\\\\\" % (\n",
    "            print_model_names[model_name].ljust(10),\n",
    "            fig_utils.format_metric(metrics_model['F1-score_mean'], metrics_model['F1-score_std']),\n",
    "            fig_utils.format_metric(metrics_model['Recall_mean'], metrics_model['Recall_std']),\n",
    "            fig_utils.format_metric(metrics_model['Precision_mean'], metrics_model['Precision_std']),\n",
    "            fig_utils.format_metric(metrics_model['mIoU_mean'], metrics_model['mIoU_std']),\n",
    "        )\n",
    "        print(metric_str)\n",
    "        \n",
    "    # Statistical tests\n",
    "    time_metrics = table_fold[table_fold[\"Detector\"] == constants.V2_TIME]['F1-score'].values\n",
    "    cwt_metrics = table_fold[table_fold[\"Detector\"] == constants.V2_CWT1D]['F1-score'].values\n",
    "    pvalue = stats.ttest_ind(cwt_metrics, time_metrics, equal_var=False)[1]\n",
    "    print(\"%s vs %s: P %1.4f\" % (print_model_names[constants.V2_CWT1D], print_model_names[constants.V2_TIME], pvalue))"
   ]
  },
  {
   "cell_type": "code",
   "execution_count": 65,
   "id": "845ea230",
   "metadata": {
    "scrolled": false
   },
   "outputs": [
    {
     "data": {
      "image/png": "[encoded data removed]",
      "text/plain": [
       "<Figure size 720x480 with 6 Axes>"
      ]
     },
     "metadata": {
      "needs_background": "light"
     },
     "output_type": "display_data"
    }
   ],
   "source": [
    "# PR by-subject\n",
    "save_figure = False\n",
    "\n",
    "colors = {constants.V2_TIME: viz.PALETTE['blue'], constants.V2_CWT1D: viz.PALETTE['red']}\n",
    "marker_size = 3\n",
    "marker_alpha = 0.5\n",
    "letters = [['A', 'B', 'C'], ['D', 'E', 'F']]\n",
    "fig, axes = plt.subplots(2, 3, figsize=(6, 4), dpi=200, sharex=True, sharey=True)\n",
    "\n",
    "for i_config, config in enumerate(eval_configs):\n",
    "    table = metrics_list[i_config]\n",
    "    # Form by-subject metrics \n",
    "    table_subject = table.drop(columns=[\"Fold\"]).groupby(by=[\"Detector\", \"Subject\"]).mean().reset_index()  # subject avg\n",
    "    for j, model_version in enumerate(models):\n",
    "        ax = axes[j, i_config]\n",
    "        \n",
    "        table_model = table_subject[table_subject['Detector'] == model_version]\n",
    "        recalls = table_model['Recall'].values\n",
    "        precisions = table_model['Precision'].values\n",
    "        \n",
    "        # Draw\n",
    "        ax.plot(\n",
    "            recalls, precisions, color=colors[model_version], linestyle='None', alpha=marker_alpha,\n",
    "            markeredgewidth=0.0, marker='o', markersize=marker_size)\n",
    "        model_str = print_model_names[model_version]\n",
    "        dataset_str = print_dataset_names[(config['dataset_name'], config['expert'])]\n",
    "        ax.set_title('%s en %s' % (model_str, dataset_str), fontsize=8, loc=\"left\")\n",
    "        \n",
    "        # subjects = table_model['Subject'].values\n",
    "        # print(\"\\n\", dataset_str, model_str)\n",
    "        # sorted_locs = np.argsort(precisions)\n",
    "        # for loc in sorted_locs:\n",
    "        #     this_prec = precisions[loc]\n",
    "        #     this_subject = subjects[loc]\n",
    "        #     if this_prec < 0:\n",
    "        #         print(\"Subject %s, Precision %1.1f\" % (this_subject, this_prec * 100))\n",
    "        \n",
    "        ax.text(\n",
    "            x=-0.15, y=1.06, fontsize=16, s=r\"$\\bf{%s}$\" % letters[j][i_config],\n",
    "            ha=\"left\", transform=ax.transAxes)\n",
    "\n",
    "        \n",
    "for ax in axes.flatten():\n",
    "    plotter.format_precision_recall_plot_simple(\n",
    "        ax, axis_range=(0.0, 1.0), \n",
    "        show_quadrants=False, show_grid=True, \n",
    "        axis_markers=[0, 1], minor_axis_markers=np.arange(0, 1 + 0.001, 0.1))\n",
    "    ax.tick_params(labelsize=8)\n",
    "    # Get labels closer to axis\n",
    "    ax.xaxis.labelpad = -8\n",
    "    ax.yaxis.labelpad = -8\n",
    "\n",
    "for ax in axes[:, 0]:\n",
    "    ax.set_ylabel(\"Precision\", fontsize=8)\n",
    "for ax in axes[1, :]:\n",
    "    ax.set_xlabel(\"Recall\", fontsize=8)\n",
    "    \n",
    "    \n",
    "plt.tight_layout()\n",
    "\n",
    "if save_figure:\n",
    "    # Save figure\n",
    "    fname_prefix = \"result_indata_cap_whole_pr\"\n",
    "    plt.savefig(\"%s.pdf\" % fname_prefix, bbox_inches=\"tight\", pad_inches=0.4)\n",
    "    plt.savefig(\"%s.png\" % fname_prefix, bbox_inches=\"tight\", pad_inches=0.4)\n",
    "    plt.savefig(\"%s.svg\" % fname_prefix, bbox_inches=\"tight\", pad_inches=0.4)\n",
    "\n",
    "plt.show()"
   ]
  },
  {
   "cell_type": "code",
   "execution_count": null,
   "id": "4e44b61f",
   "metadata": {},
   "outputs": [],
   "source": [
    "outliers_by_expert = {\n",
    "    1: ['3-001', '1-012', '1-009'],  # cap-a7\n",
    "    2: ['7-019', '8-001', '7-021'],  # cap-s1\n",
    "    3: ['7-016'],  # cap-s2\n",
    "}\n"
   ]
  },
  {
   "cell_type": "code",
   "execution_count": null,
   "id": "c1fab54f",
   "metadata": {},
   "outputs": [],
   "source": []
  },
  {
   "cell_type": "code",
   "execution_count": null,
   "id": "b6513c1f",
   "metadata": {},
   "outputs": [],
   "source": []
  },
  {
   "cell_type": "code",
   "execution_count": null,
   "id": "54bcf188",
   "metadata": {},
   "outputs": [],
   "source": []
  },
  {
   "cell_type": "code",
   "execution_count": null,
   "id": "1189766c",
   "metadata": {},
   "outputs": [],
   "source": []
  },
  {
   "cell_type": "code",
   "execution_count": null,
   "id": "3e8ca737",
   "metadata": {},
   "outputs": [],
   "source": []
  },
  {
   "cell_type": "code",
   "execution_count": null,
   "id": "c4a38e14",
   "metadata": {},
   "outputs": [],
   "source": []
  }
 ],
 "metadata": {
  "kernelspec": {
   "display_name": "Python 3",
   "language": "python",
   "name": "python3"
  },
  "language_info": {
   "codemirror_mode": {
    "name": "ipython",
    "version": 3
   },
   "file_extension": ".py",
   "mimetype": "text/x-python",
   "name": "python",
   "nbconvert_exporter": "python",
   "pygments_lexer": "ipython3",
   "version": "3.7.10"
  }
 },
 "nbformat": 4,
 "nbformat_minor": 5
}
