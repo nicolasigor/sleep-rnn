{
 "cells": [
  {
   "cell_type": "code",
   "execution_count": 2,
   "id": "75dff063",
   "metadata": {},
   "outputs": [
    {
     "data": {
      "text/html": [
       "<style>.container { width:100% !important; }</style>"
      ],
      "text/plain": [
       "<IPython.core.display.HTML object>"
      ]
     },
     "metadata": {},
     "output_type": "display_data"
    }
   ],
   "source": [
    "import os\n",
    "from pprint import pprint\n",
    "import sys\n",
    "\n",
    "import matplotlib.pyplot as plt\n",
    "import matplotlib\n",
    "import numpy as np\n",
    "import pandas as pd\n",
    "from scipy import stats\n",
    "from scipy.signal import find_peaks, hilbert\n",
    "import pickle\n",
    "import ipywidgets as widgets\n",
    "\n",
    "project_root = '..'\n",
    "sys.path.append(project_root)\n",
    "\n",
    "from sleeprnn.common import viz, constants\n",
    "from sleeprnn.helpers import reader, plotter, misc, performer\n",
    "from sleeprnn.detection import metrics, det_utils, ensemble\n",
    "from figs_thesis import fig_utils\n",
    "from baselines_scripts.butils import get_partitions\n",
    "from sleeprnn.detection.feeder_dataset import FeederDataset\n",
    "from sklearn.linear_model import LinearRegression, HuberRegressor\n",
    "from sleeprnn.data import utils, stamp_correction\n",
    "\n",
    "RESULTS_PATH = os.path.join(project_root, 'results')\n",
    "BASELINES_PATH = os.path.join(project_root, 'resources', 'comparison_data', 'baselines_2021')\n",
    "\n",
    "%matplotlib inline\n",
    "viz.notebook_full_width()\n",
    "\n",
    "param_filtering_fn = fig_utils.get_filtered_signal_for_event\n",
    "param_frequency_fn = fig_utils.get_frequency_by_fft\n",
    "param_amplitude_fn = fig_utils.get_amplitude_event"
   ]
  },
  {
   "cell_type": "markdown",
   "id": "7c691819",
   "metadata": {},
   "source": [
    "# CAP whole"
   ]
  },
  {
   "cell_type": "code",
   "execution_count": null,
   "id": "34edbc43",
   "metadata": {},
   "outputs": [],
   "source": [
    "models = [constants.V2_TIME, constants.V2_CWT1D]\n",
    "print_model_names = {\n",
    "    constants.V2_TIME: 'REDv2-Time',\n",
    "    constants.V2_CWT1D: 'REDv2-CWT'\n",
    "}\n",
    "print_dataset_names = {\n",
    "    (constants.CAP_SS_NAME, 1): \"CAP-A7\",\n",
    "    (constants.CAP_SS_NAME, 2): \"CAP-S1\",\n",
    "    (constants.CAP_SS_NAME, 3): \"CAP-S2\",\n",
    "}\n",
    "eval_configs = [\n",
    "    dict(dataset_name=constants.CAP_SS_NAME, expert=2, strategy='5cv', seeds=1),\n",
    "    dict(dataset_name=constants.CAP_SS_NAME, expert=3, strategy='5cv', seeds=1),\n",
    "    dict(dataset_name=constants.CAP_SS_NAME, expert=1, strategy='5cv', seeds=1),\n",
    "]\n",
    "\n",
    "metrics_list = []\n",
    "for config in eval_configs:\n",
    "    print(\"\\nLoading\", config)\n",
    "    dataset = reader.load_dataset(config[\"dataset_name\"], verbose=False)\n",
    "    pred_dict = {}\n",
    "    for model_version in models:\n",
    "        tmp_dict = fig_utils.get_red_predictions_for_cap_whole(model_version, dataset, config[\"expert\"], verbose=True)\n",
    "        # Retrieve only predictions, same format as baselines\n",
    "        pred_dict[model_version] = {}\n",
    "        for k in tmp_dict.keys():\n",
    "            fold_subjects = tmp_dict[k][constants.TEST_SUBSET].all_ids\n",
    "            fold_predictions = tmp_dict[k][constants.TEST_SUBSET].get_stamps()\n",
    "            pred_dict[model_version][k] = {s: pred for s, pred in zip(fold_subjects, fold_predictions)}\n",
    "    \n",
    "    # Measure performance by subject\n",
    "    _, _, test_ids_list = get_partitions(dataset, config[\"strategy\"], config[\"seeds\"])\n",
    "    n_folds = len(test_ids_list)\n",
    "    table = {'Detector': [], 'F1-score': [], 'Recall': [], 'Precision': [], 'mIoU': [], 'Subject': [], 'Fold': []}\n",
    "    valid_subjects = dataset.all_ids\n",
    "    for model_name in models:\n",
    "        for k in range(n_folds):\n",
    "            subject_ids = test_ids_list[k]\n",
    "            feed_d = FeederDataset(dataset, subject_ids, constants.N2_RECORD, which_expert=config[\"expert\"])\n",
    "            events_list = feed_d.get_stamps()\n",
    "            detections_list = [pred_dict[model_name][k][subject_id] for subject_id in subject_ids]\n",
    "            performance = fig_utils.compute_subject_performance(events_list, detections_list)\n",
    "            for i, subject_id in enumerate(subject_ids):\n",
    "                if subject_id in valid_subjects:\n",
    "                    table['Detector'].append(model_name)\n",
    "                    table['F1-score'].append(performance['F1-score'][i])\n",
    "                    table['Recall'].append(performance['Recall'][i])\n",
    "                    table['Precision'].append(performance['Precision'][i])\n",
    "                    table['mIoU'].append(performance['mIoU'][i])\n",
    "                    table['Subject'].append(subject_id)\n",
    "                    table['Fold'].append(k)\n",
    "    table = pd.DataFrame.from_dict(table)\n",
    "    metrics_list.append(table)\n",
    "print(\"Done.\")"
   ]
  },
  {
   "cell_type": "code",
   "execution_count": null,
   "id": "a5d66e9c",
   "metadata": {},
   "outputs": [],
   "source": [
    "# Tabla desempeño by-fold\n",
    "print(\"Datos & Detector & F1-score (\\%) & Recall (\\%) & Precision (\\%) & mIoU (\\%) \\\\\\\\\")\n",
    "for i_config, config in enumerate(eval_configs):\n",
    "    table = metrics_list[i_config]\n",
    "    # Form by-fold metrics (it is macro-average for each fold)\n",
    "    table_fold = table.drop(columns=[\"Subject\"]).groupby(by=[\"Detector\", \"Fold\"]).mean().reset_index()  # macro-avg\n",
    "    table_fold_mean = table_fold.drop(columns=[\"Fold\"]).groupby(by=[\"Detector\"]).mean().add_suffix(\"_mean\")\n",
    "    table_fold_std = table_fold.drop(columns=[\"Fold\"]).groupby(by=[\"Detector\"]).std(ddof=0).add_suffix(\"_std\")\n",
    "    table_fold_stat = table_fold_mean.join(table_fold_std).reset_index()\n",
    "    \n",
    "    dataset_str = print_dataset_names[(config['dataset_name'], config['expert'])]\n",
    "    print(\"\\n%s\" % dataset_str)\n",
    "    table_fold_stat = table_fold_stat.set_index('Detector').to_dict(orient='index')\n",
    "    for model_name in models:\n",
    "        metrics_model = table_fold_stat[model_name]\n",
    "        metric_str = \"& %s & %s & %s & %s & %s \\\\\\\\\" % (\n",
    "            print_model_names[model_name].ljust(10),\n",
    "            fig_utils.format_metric(metrics_model['F1-score_mean'], metrics_model['F1-score_std']),\n",
    "            fig_utils.format_metric(metrics_model['Recall_mean'], metrics_model['Recall_std']),\n",
    "            fig_utils.format_metric(metrics_model['Precision_mean'], metrics_model['Precision_std']),\n",
    "            fig_utils.format_metric(metrics_model['mIoU_mean'], metrics_model['mIoU_std']),\n",
    "        )\n",
    "        print(metric_str)\n",
    "        \n",
    "    # Statistical tests\n",
    "    time_metrics = table_fold[table_fold[\"Detector\"] == constants.V2_TIME]['F1-score'].values\n",
    "    cwt_metrics = table_fold[table_fold[\"Detector\"] == constants.V2_CWT1D]['F1-score'].values\n",
    "    pvalue = stats.ttest_ind(cwt_metrics, time_metrics, equal_var=False)[1]\n",
    "    print(\"%s vs %s: P %1.4f\" % (print_model_names[constants.V2_CWT1D], print_model_names[constants.V2_TIME], pvalue))"
   ]
  },
  {
   "cell_type": "code",
   "execution_count": null,
   "id": "845ea230",
   "metadata": {
    "scrolled": false
   },
   "outputs": [],
   "source": [
    "# PR by-subject\n",
    "save_figure = False\n",
    "\n",
    "colors = {constants.V2_TIME: viz.PALETTE['blue'], constants.V2_CWT1D: viz.PALETTE['red']}\n",
    "marker_size = 3\n",
    "marker_alpha = 0.5\n",
    "letters = [['A', 'B', 'C'], ['D', 'E', 'F']]\n",
    "fig, axes = plt.subplots(2, 3, figsize=(6, 4), dpi=200, sharex=True, sharey=True)\n",
    "\n",
    "for i_config, config in enumerate(eval_configs):\n",
    "    table = metrics_list[i_config]\n",
    "    # Form by-subject metrics \n",
    "    table_subject = table.drop(columns=[\"Fold\"]).groupby(by=[\"Detector\", \"Subject\"]).mean().reset_index()  # subject avg\n",
    "    for j, model_version in enumerate(models):\n",
    "        ax = axes[j, i_config]\n",
    "        \n",
    "        table_model = table_subject[table_subject['Detector'] == model_version]\n",
    "        recalls = table_model['Recall'].values\n",
    "        precisions = table_model['Precision'].values\n",
    "        \n",
    "        # Draw\n",
    "        ax.plot(\n",
    "            recalls, precisions, color=colors[model_version], linestyle='None', alpha=marker_alpha,\n",
    "            markeredgewidth=0.0, marker='o', markersize=marker_size)\n",
    "        model_str = print_model_names[model_version]\n",
    "        dataset_str = print_dataset_names[(config['dataset_name'], config['expert'])]\n",
    "        ax.set_title('%s en %s' % (model_str, dataset_str), fontsize=8, loc=\"left\")\n",
    "        \n",
    "        # subjects = table_model['Subject'].values\n",
    "        # print(\"\\n\", dataset_str, model_str)\n",
    "        # sorted_locs = np.argsort(precisions)\n",
    "        # for loc in sorted_locs:\n",
    "        #     this_prec = precisions[loc]\n",
    "        #     this_subject = subjects[loc]\n",
    "        #     if this_prec < 0:\n",
    "        #         print(\"Subject %s, Precision %1.1f\" % (this_subject, this_prec * 100))\n",
    "        \n",
    "        ax.text(\n",
    "            x=-0.15, y=1.06, fontsize=16, s=r\"$\\bf{%s}$\" % letters[j][i_config],\n",
    "            ha=\"left\", transform=ax.transAxes)\n",
    "\n",
    "        \n",
    "for ax in axes.flatten():\n",
    "    plotter.format_precision_recall_plot_simple(\n",
    "        ax, axis_range=(0.0, 1.0), \n",
    "        show_quadrants=False, show_grid=True, \n",
    "        axis_markers=[0, 1], minor_axis_markers=np.arange(0, 1 + 0.001, 0.1))\n",
    "    ax.tick_params(labelsize=8)\n",
    "    # Get labels closer to axis\n",
    "    ax.xaxis.labelpad = -8\n",
    "    ax.yaxis.labelpad = -8\n",
    "\n",
    "for ax in axes[:, 0]:\n",
    "    ax.set_ylabel(\"Precision\", fontsize=8)\n",
    "for ax in axes[1, :]:\n",
    "    ax.set_xlabel(\"Recall\", fontsize=8)\n",
    "    \n",
    "    \n",
    "plt.tight_layout()\n",
    "\n",
    "if save_figure:\n",
    "    # Save figure\n",
    "    fname_prefix = \"result_indata_cap_whole_pr\"\n",
    "    plt.savefig(\"%s.pdf\" % fname_prefix, bbox_inches=\"tight\", pad_inches=0.4)\n",
    "    plt.savefig(\"%s.png\" % fname_prefix, bbox_inches=\"tight\", pad_inches=0.4)\n",
    "    plt.savefig(\"%s.svg\" % fname_prefix, bbox_inches=\"tight\", pad_inches=0.4)\n",
    "\n",
    "plt.show()"
   ]
  },
  {
   "cell_type": "markdown",
   "id": "3364009d",
   "metadata": {},
   "source": [
    "# Outlier analysis"
   ]
  },
  {
   "cell_type": "code",
   "execution_count": 3,
   "id": "c1fab54f",
   "metadata": {},
   "outputs": [
    {
     "name": "stdout",
     "output_type": "stream",
     "text": [
      "Loading predictions from 20210621_thesis_whole_5cv_e1_n2_train_cap_ss/v2_time_subjectsize100.0\n",
      "Loading predictions from 20210621_thesis_whole_5cv_e1_n2_train_cap_ss/v2_cwt1d_subjectsize100.0\n",
      "Done.\n"
     ]
    }
   ],
   "source": [
    "# Load CAP-A7\n",
    "expert = 1\n",
    "models = [constants.V2_TIME, constants.V2_CWT1D]\n",
    "\n",
    "dataset = reader.load_dataset(constants.CAP_SS_NAME, verbose=False)\n",
    "pred_dict = {}\n",
    "for model_version in models:\n",
    "    tmp_dict = fig_utils.get_red_predictions_for_cap_whole(model_version, dataset, expert, verbose=True)\n",
    "    # Retrieve only predictions, same format as baselines\n",
    "    pred_dict[model_version] = {}\n",
    "    for k in tmp_dict.keys():\n",
    "        fold_subjects = tmp_dict[k][constants.TEST_SUBSET].all_ids\n",
    "        fold_predictions = tmp_dict[k][constants.TEST_SUBSET].get_stamps()\n",
    "        pred_dict[model_version][k] = {s: pred for s, pred in zip(fold_subjects, fold_predictions)}\n",
    "print(\"Done.\")"
   ]
  },
  {
   "cell_type": "code",
   "execution_count": 4,
   "id": "4e44b61f",
   "metadata": {},
   "outputs": [],
   "source": [
    "outliers_by_expert = {\n",
    "    1: ['3-001', '1-012', '1-009'],  # cap-a7\n",
    "    2: ['7-019', '8-001', '7-021'],  # cap-s1\n",
    "    3: ['7-016'],  # cap-s2\n",
    "}"
   ]
  },
  {
   "cell_type": "code",
   "execution_count": 5,
   "id": "ac36ce5d",
   "metadata": {},
   "outputs": [
    {
     "name": "stdout",
     "output_type": "stream",
     "text": [
      "Done.\n"
     ]
    }
   ],
   "source": [
    "model_version = constants.V2_CWT1D\n",
    "subjects_of_interest = dataset.all_ids # outliers_by_expert[expert]\n",
    "\n",
    "subject_parameters = {}\n",
    "for k in range(5):\n",
    "    fold_subjects = list(pred_dict[model_version][k].keys())\n",
    "    for subject_id in fold_subjects:\n",
    "        if subject_id not in subjects_of_interest:\n",
    "            continue\n",
    "        subject_dets = pred_dict[model_version][k][subject_id]\n",
    "        subject_annots = dataset.get_subject_stamps(subject_id, which_expert=expert, pages_subset='n2')\n",
    "        # identify TP and FP\n",
    "        iou_values, idx_values = metrics.matching(subject_annots, subject_dets)\n",
    "        false_dets_locs = [loc for loc in range(subject_dets.shape[0]) if loc not in idx_values]\n",
    "        true_annots_locs = np.where(idx_values != -1)[0]\n",
    "        fp_events = subject_dets[false_dets_locs]\n",
    "        tp_events = subject_annots[true_annots_locs]\n",
    "        \n",
    "        signal = dataset.get_subject_signal(subject_id, normalize_clip=False, which_expert=expert)\n",
    "        \n",
    "        # compute parameters -- frequency\n",
    "        #filt_signal = param_filtering_fn(signal, dataset.fs, constants.SPINDLE)\n",
    "        #signal_tp = [filt_signal[e[0]:(e[1]+1)] for e in tp_events]\n",
    "        #signal_fp = [filt_signal[e[0]:(e[1]+1)] for e in fp_events]\n",
    "        #be_frequency_tp = np.array([param_frequency_fn(s, dataset.fs) for s in signal_tp])\n",
    "        #be_frequency_fp = np.array([param_frequency_fn(s, dataset.fs) for s in signal_fp])\n",
    "        \n",
    "        # Compute parameters -- power ratio lacourse A7\n",
    "        signal_tp = [signal[e[0]:(e[1]+1)] for e in tp_events]\n",
    "        signal_fp = [signal[e[0]:(e[1]+1)] for e in fp_events]\n",
    "        \n",
    "        be_ratio_tp = []\n",
    "        for event in signal_tp:\n",
    "            freq, power = fig_utils.get_fft_spectrum(\n",
    "                event, dataset.fs, pad_to_duration=10, f_min=1, f_max=30, apply_hann_window=False)\n",
    "            # a) Absolute sigma power \n",
    "            abs_sigma_power = power[(freq >= 11) & (freq <= 16)].mean()\n",
    "            # b) Relative sigma power (as in Lacourse)\n",
    "            broad_power = power[(freq >= 4.5) & (freq <= 30)].mean()\n",
    "            rel_sigma_power = abs_sigma_power / broad_power\n",
    "            be_ratio_tp.append(rel_sigma_power)\n",
    "        be_ratio_fp = []\n",
    "        for event in signal_fp:\n",
    "            freq, power = fig_utils.get_fft_spectrum(\n",
    "                event, dataset.fs, pad_to_duration=10, f_min=1, f_max=30, apply_hann_window=False)\n",
    "            # a) Absolute sigma power \n",
    "            abs_sigma_power = power[(freq >= 11) & (freq <= 16)].mean()\n",
    "            # b) Relative sigma power (as in Lacourse)\n",
    "            broad_power = power[(freq >= 4.5) & (freq <= 30)].mean()\n",
    "            rel_sigma_power = abs_sigma_power / broad_power\n",
    "            be_ratio_fp.append(rel_sigma_power)\n",
    "        be_ratio_tp = np.array(be_ratio_tp)\n",
    "        be_ratio_fp = np.array(be_ratio_fp)\n",
    "        \n",
    "        subject_parameters[subject_id] = {\n",
    "            # 'frequency_tp':  be_frequency_tp,\n",
    "            # 'frequency_fp': be_frequency_fp,\n",
    "            'ratio_tp': be_ratio_tp,\n",
    "            'ratio_fp': be_ratio_fp,\n",
    "        }\n",
    "print(\"Done.\")"
   ]
  },
  {
   "cell_type": "code",
   "execution_count": 31,
   "id": "0593c1a3",
   "metadata": {},
   "outputs": [
    {
     "data": {
      "image/png": "[encoded data removed]",
      "text/plain": [
       "<Figure size 960x240 with 1 Axes>"
      ]
     },
     "metadata": {
      "needs_background": "light"
     },
     "output_type": "display_data"
    }
   ],
   "source": [
    "# All subjects, comparison between TP and FP distributions of PR\n",
    "fig, ax = plt.subplots(1, 1, figsize=(8, 2), dpi=120)\n",
    "all_tp = []\n",
    "all_fp = []\n",
    "all_pvalue = []\n",
    "subject_ids = np.array(list(subject_parameters.keys()))\n",
    "for i, subject_id in enumerate(subject_ids):\n",
    "    tp_data = subject_parameters[subject_id]['ratio_tp']\n",
    "    fp_data = subject_parameters[subject_id]['ratio_fp']\n",
    "    pvalue = stats.ttest_ind(tp_data, fp_data, equal_var=False)[1]\n",
    "    mean_tp = np.mean(tp_data)\n",
    "    mean_fp = np.mean(fp_data)\n",
    "    all_tp.append(mean_tp)\n",
    "    all_fp.append(mean_fp)\n",
    "    all_pvalue.append(pvalue)\n",
    "all_tp = np.array(all_tp)\n",
    "all_fp = np.array(all_fp)\n",
    "all_pvalue = np.array(all_pvalue)\n",
    "sorted_locs = np.argsort(all_pvalue)\n",
    "ax.plot(all_tp[sorted_locs], marker='o', linestyle=\"none\", color=\"b\", alpha=0.5, markersize=3)\n",
    "ax.plot(all_fp[sorted_locs], marker='o', linestyle=\"none\", color=\"r\", alpha=0.5, markersize=3)\n",
    "ax.set_xticks(np.arange(80), minor=True)\n",
    "ax.grid(which=\"minor\")\n",
    "plt.show()"
   ]
  },
  {
   "cell_type": "code",
   "execution_count": 23,
   "id": "5b2ea5e1",
   "metadata": {},
   "outputs": [
    {
     "data": {
      "text/plain": [
       "['3-001', '1-012', '1-009']"
      ]
     },
     "execution_count": 23,
     "metadata": {},
     "output_type": "execute_result"
    }
   ],
   "source": [
    "outliers_by_expert[1]"
   ]
  },
  {
   "cell_type": "code",
   "execution_count": 25,
   "id": "49785dd9",
   "metadata": {},
   "outputs": [
    {
     "data": {
      "text/plain": [
       "array(['3-001', '1-012', '5-018', '7-016', '5-028', '5-030', '1-009',\n",
       "       '3-007', '5-009', '5-005', '5-010', '3-005', '1-015', '1-002',\n",
       "       '5-003', '1-004', '6-001', '5-016', '5-037', '5-014', '1-010',\n",
       "       '1-005', '5-004', '3-004', '5-036', '5-021', '1-001', '5-002',\n",
       "       '2-002', '5-012', '5-008', '5-039', '5-019', '5-029', '3-008',\n",
       "       '1-006', '5-034', '5-026', '5-038', '4-003', '1-007', '2-001',\n",
       "       '7-012', '8-001', '1-016', '5-025', '5-023', '5-017', '7-022',\n",
       "       '5-015', '7-006', '5-011', '5-013', '4-004', '1-013', '6-003',\n",
       "       '1-003', '3-006', '6-008', '5-032', '4-001', '5-020', '8-002',\n",
       "       '6-005', '3-009', '5-022', '5-040', '1-011', '7-021', '1-014',\n",
       "       '5-007', '7-019', '5-024', '1-008', '6-002', '6-010', '6-009',\n",
       "       '7-018', '5-035', '4-005'], dtype='<U5')"
      ]
     },
     "execution_count": 25,
     "metadata": {},
     "output_type": "execute_result"
    }
   ],
   "source": [
    "subject_ids[sorted_locs]"
   ]
  },
  {
   "cell_type": "code",
   "execution_count": 12,
   "id": "6d2d0208",
   "metadata": {},
   "outputs": [
    {
     "data": {
      "text/plain": [
       "0.7125"
      ]
     },
     "execution_count": 12,
     "metadata": {},
     "output_type": "execute_result"
    }
   ],
   "source": [
    "np.mean(np.array(all_pvalue) < 0.05)"
   ]
  },
  {
   "cell_type": "code",
   "execution_count": null,
   "id": "1e287b80",
   "metadata": {},
   "outputs": [],
   "source": []
  },
  {
   "cell_type": "code",
   "execution_count": null,
   "id": "eb4473d4",
   "metadata": {},
   "outputs": [],
   "source": []
  },
  {
   "cell_type": "code",
   "execution_count": null,
   "id": "54bcf188",
   "metadata": {},
   "outputs": [],
   "source": [
    "fig, axes = plt.subplots(1, 3, figsize=(8, 2), dpi=120)\n",
    "bins = np.arange(9, 18 + 0.001, 1)\n",
    "for i, subject_id in enumerate(subject_parameters.keys()):\n",
    "    ax = axes[i]\n",
    "    ax.hist(subject_parameters[subject_id]['frequency_tp'], density=True, histtype=\"step\", bins=bins)\n",
    "    ax.hist(subject_parameters[subject_id]['frequency_fp'], density=True, histtype=\"step\", bins=bins)\n",
    "    n_tp = np.sum(subject_parameters[subject_id]['frequency_tp']>12.5)\n",
    "    n_fp = np.sum(subject_parameters[subject_id]['frequency_fp']>12.5)\n",
    "    precision = n_tp / (n_tp + n_fp)\n",
    "    print(subject_id, \"precision\", precision)\n",
    "    ax.set_xlim([9, 18])\n",
    "    ax.set_title(\"%s (TP %1.1f FP %1.1f)\" % (\n",
    "        subject_id, \n",
    "        np.mean(subject_parameters[subject_id]['frequency_tp']),\n",
    "        np.mean(subject_parameters[subject_id]['frequency_fp']),\n",
    "    ), fontsize=8)\n",
    "plt.tight_layout()\n",
    "plt.show()"
   ]
  },
  {
   "cell_type": "code",
   "execution_count": 27,
   "id": "1189766c",
   "metadata": {},
   "outputs": [
    {
     "name": "stdout",
     "output_type": "stream",
     "text": [
      "3-001 8.637951809250164e-65\n",
      "3-001 precision 0.6203353163872364\n",
      "1-012 2.197884360007228e-64\n",
      "1-012 precision 0.6650537634408602\n",
      "1-009 8.7907598137076e-28\n",
      "1-009 precision 0.6896758703481393\n"
     ]
    },
    {
     "data": {
      "image/png": "[encoded data removed]",
      "text/plain": [
       "<Figure size 960x240 with 3 Axes>"
      ]
     },
     "metadata": {
      "needs_background": "light"
     },
     "output_type": "display_data"
    }
   ],
   "source": [
    "# By spindle relative sigma power\n",
    "fig, axes = plt.subplots(1, 3, figsize=(8, 2), dpi=120)\n",
    "for i, subject_id in enumerate(outliers_by_expert[expert]):\n",
    "    ax = axes[i]\n",
    "    ax.hist(subject_parameters[subject_id]['ratio_tp'], density=True, histtype=\"step\")\n",
    "    ax.hist(subject_parameters[subject_id]['ratio_fp'], density=True, histtype=\"step\")\n",
    "    \n",
    "    # stat test of means\n",
    "    pvalue = stats.ttest_ind(\n",
    "        subject_parameters[subject_id]['ratio_tp'],\n",
    "        subject_parameters[subject_id]['ratio_fp'], \n",
    "        equal_var=False)[1]\n",
    "    print(subject_id, pvalue)\n",
    "    \n",
    "    n_tp = np.sum(subject_parameters[subject_id]['ratio_tp']>0)\n",
    "    n_fp = np.sum(subject_parameters[subject_id]['ratio_fp']>0)\n",
    "    precision = n_tp / (n_tp + n_fp)\n",
    "    print(subject_id, \"precision\", precision)\n",
    "    \n",
    "    ax.set_title(\"%s (TP %1.1f FP %1.1f)\" % (\n",
    "        subject_id, \n",
    "        np.mean(subject_parameters[subject_id]['ratio_tp']),\n",
    "        np.mean(subject_parameters[subject_id]['ratio_fp']),\n",
    "    ), fontsize=8)\n",
    "plt.tight_layout()\n",
    "plt.show()"
   ]
  },
  {
   "cell_type": "code",
   "execution_count": null,
   "id": "3e8ca737",
   "metadata": {},
   "outputs": [],
   "source": []
  },
  {
   "cell_type": "code",
   "execution_count": null,
   "id": "c4a38e14",
   "metadata": {},
   "outputs": [],
   "source": []
  }
 ],
 "metadata": {
  "kernelspec": {
   "display_name": "Python 3",
   "language": "python",
   "name": "python3"
  },
  "language_info": {
   "codemirror_mode": {
    "name": "ipython",
    "version": 3
   },
   "file_extension": ".py",
   "mimetype": "text/x-python",
   "name": "python",
   "nbconvert_exporter": "python",
   "pygments_lexer": "ipython3",
   "version": "3.7.10"
  }
 },
 "nbformat": 4,
 "nbformat_minor": 5
}
