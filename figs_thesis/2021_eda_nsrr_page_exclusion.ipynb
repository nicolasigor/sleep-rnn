{
 "cells": [
  {
   "cell_type": "code",
   "execution_count": 4,
   "metadata": {},
   "outputs": [
    {
     "data": {
      "text/html": [
       "<style>.container { width:100% !important; }</style>"
      ],
      "text/plain": [
       "<IPython.core.display.HTML object>"
      ]
     },
     "metadata": {},
     "output_type": "display_data"
    }
   ],
   "source": [
    "import os\n",
    "import sys\n",
    "import pickle\n",
    "\n",
    "PROJECT_ROOT = os.path.abspath('..')\n",
    "sys.path.append(PROJECT_ROOT)\n",
    "\n",
    "import numpy as np\n",
    "import matplotlib.pyplot as plt\n",
    "import pandas as pd\n",
    "import scipy\n",
    "from tqdm import tqdm\n",
    "\n",
    "from sleeprnn.helpers.reader import load_dataset\n",
    "from sleeprnn.common import constants, viz, pkeys\n",
    "from sleeprnn.data import utils, stamp_correction\n",
    "from sleeprnn.detection.postprocessor import PostProcessor\n",
    "from sleeprnn.detection.predicted_dataset import PredictedDataset\n",
    "from sleeprnn.detection.feeder_dataset import FeederDataset\n",
    "from sleeprnn.detection import det_utils\n",
    "from figs_thesis import fig_utils\n",
    "\n",
    "viz.notebook_full_width()\n",
    "\n",
    "param_filtering_fn = fig_utils.get_filtered_signal_for_event\n",
    "param_frequency_fn = fig_utils.get_frequency_by_fft\n",
    "param_amplitude_fn = fig_utils.get_amplitude_event\n",
    "\n",
    "RESULTS_PATH = os.path.join(PROJECT_ROOT, 'results')"
   ]
  },
  {
   "cell_type": "code",
   "execution_count": 2,
   "metadata": {},
   "outputs": [],
   "source": [
    "def compute_pagewise_fft(x, fs, window_duration=2):\n",
    "    # Input x is [n_pages, n_samples]\n",
    "    n_pages, n_samples = x.shape\n",
    "    window_size = int(fs * window_duration)\n",
    "    x = x.reshape(n_pages, -1, window_size)\n",
    "    window_shape = np.hanning(window_size).reshape(1, 1, -1)\n",
    "    x = x * window_shape\n",
    "    y = np.fft.rfft(x, axis=2) / window_size\n",
    "    y = np.abs(y).mean(axis=1)\n",
    "    f = np.fft.rfftfreq(window_size, d=1. / fs)\n",
    "    return f, y\n",
    "\n",
    "\n",
    "def compute_pagewise_powerlaw(f, y, broad_band=(4, 30), sigma_band=(10, 17)):\n",
    "    # Input y is [n_pages, n_freqs]\n",
    "    locs_to_use = np.where(\n",
    "        ((f >= broad_band[0]) & (f < sigma_band[0])) | ((f > sigma_band[1]) & (f <= broad_band[1]))\n",
    "    )[0]\n",
    "    x_data = f[locs_to_use]\n",
    "    y_data = y[:, locs_to_use]\n",
    "    log_x = np.log(x_data)\n",
    "    log_y = np.log(y_data)\n",
    "    scale_l = []\n",
    "    exponent_l = []\n",
    "    for page_log_y in log_y:\n",
    "        polycoefs = np.polynomial.Polynomial.fit(log_x, page_log_y, deg=1).convert().coef\n",
    "        scale = np.exp(polycoefs[0])\n",
    "        exponent = polycoefs[1]\n",
    "        # power = scale * (freq ** exponent)\n",
    "        scale_l.append(scale)\n",
    "        exponent_l.append(exponent)\n",
    "    scale_l = np.array(scale_l)\n",
    "    exponent_l = np.array(exponent_l)\n",
    "    return scale_l, exponent_l"
   ]
  },
  {
   "cell_type": "markdown",
   "metadata": {},
   "source": [
    "# Max amplitude preliminaries (MASS-KC)"
   ]
  },
  {
   "cell_type": "code",
   "execution_count": null,
   "metadata": {},
   "outputs": [],
   "source": [
    "mass = load_dataset('mass_kc')\n",
    "signals = mass.get_signals(normalize_clip=False)\n",
    "marks = mass.get_stamps(pages_subset='n2')"
   ]
  },
  {
   "cell_type": "code",
   "execution_count": null,
   "metadata": {},
   "outputs": [],
   "source": [
    "all_kc_min = []\n",
    "all_kc_max = []\n",
    "for sub_signal, sub_marks in zip(signals, marks):\n",
    "    kc = [sub_signal[m[0]:m[1]+1] for m in sub_marks]\n",
    "    kc_min = np.array([np.min(s) for s in kc])\n",
    "    kc_max = np.array([np.max(s) for s in kc])\n",
    "    all_kc_min.append(kc_min)\n",
    "    all_kc_max.append(kc_max)\n",
    "all_kc_min = np.concatenate(all_kc_min)\n",
    "all_kc_max = np.concatenate(all_kc_max)\n",
    "print(all_kc_min.shape, all_kc_max.shape)"
   ]
  },
  {
   "cell_type": "code",
   "execution_count": null,
   "metadata": {
    "scrolled": true
   },
   "outputs": [],
   "source": [
    "fig, axes = plt.subplots(1, 2, figsize=(6, 3), dpi=100)\n",
    "ax = axes[0]\n",
    "ax.hist(all_kc_min)\n",
    "ax.set_title(\"Neg Peak\")\n",
    "ax = axes[1]\n",
    "ax.hist(all_kc_max)\n",
    "ax.set_title(\"Pos Peak\")\n",
    "plt.tight_layout()\n",
    "plt.show()\n",
    "\n",
    "prct = 98\n",
    "\n",
    "print(\"Negative Peak prct %d: %1.4f uV\" % (prct, np.percentile(all_kc_min, 100-prct)))\n",
    "print(\"Positive Peak prct %d: %1.4f uV\" % (prct, np.percentile(all_kc_max, prct)))"
   ]
  },
  {
   "cell_type": "markdown",
   "metadata": {},
   "source": [
    "# Signal parameters preliminaries (MODA)"
   ]
  },
  {
   "cell_type": "code",
   "execution_count": 15,
   "metadata": {},
   "outputs": [
    {
     "name": "stdout",
     "output_type": "stream",
     "text": [
      "Dataset moda_ss with 180 patients.\n",
      "Loading from checkpoint... "
     ]
    },
    {
     "name": "stderr",
     "output_type": "stream",
     "text": [
      "8it [00:00, 65.20it/s]"
     ]
    },
    {
     "name": "stdout",
     "output_type": "stream",
     "text": [
      "Loaded\n",
      "Global STD: None\n"
     ]
    },
    {
     "name": "stderr",
     "output_type": "stream",
     "text": [
      "180it [00:02, 88.79it/s] "
     ]
    },
    {
     "name": "stdout",
     "output_type": "stream",
     "text": [
      "scale (4494,)\n",
      "exponent (4494,)\n",
      "max_ratio (4494,)\n",
      "standard_deviation (4494,)\n"
     ]
    },
    {
     "name": "stderr",
     "output_type": "stream",
     "text": [
      "\n"
     ]
    }
   ],
   "source": [
    "moda = load_dataset('moda_ss')\n",
    "signals = moda.get_signals(normalize_clip=False)\n",
    "pages = moda.get_pages(pages_subset='n2')\n",
    "\n",
    "moda_page_stats = {\n",
    "    'scale': [],\n",
    "    'exponent': [],\n",
    "    'max_ratio': [],\n",
    "    'standard_deviation': [],\n",
    "}\n",
    "\n",
    "for sub_signal, sub_pages in tqdm(zip(signals, pages)):\n",
    "    sub_signal = sub_signal.reshape(-1, moda.fs * moda.page_duration)[sub_pages]  # [n_pages, n_samples]\n",
    "    freq, pages_spectrum = compute_pagewise_fft(sub_signal, moda.fs, window_duration=2)\n",
    "    pages_scales, pages_exponents = compute_pagewise_powerlaw(freq, pages_spectrum)  # (n_pages,)\n",
    "    \n",
    "    # Deviation from power law\n",
    "    f_min = 4\n",
    "    f_max = 30\n",
    "    valid_locs = np.where((freq >= f_min) & (freq <= f_max))[0]\n",
    "    dev_f = freq[valid_locs]\n",
    "    dev_x = pages_spectrum[:, valid_locs]\n",
    "    dev_x_law = [fit_s * (dev_f ** fit_e) for fit_s, fit_e in zip(pages_scales, pages_exponents)]\n",
    "    dev_x_law = np.stack(dev_x_law, axis=0)\n",
    "    error = dev_x / dev_x_law  # n_pages, n_freqs\n",
    "    max_error = np.max(error, axis=1)  # to detect weird peaks, shape (n_pages,)\n",
    "    \n",
    "    moda_page_stats['scale'].append(pages_scales)\n",
    "    moda_page_stats['exponent'].append(pages_exponents)\n",
    "    moda_page_stats['max_ratio'].append(max_error)\n",
    "    moda_page_stats['standard_deviation'].append(sub_signal.std(axis=1))\n",
    "\n",
    "for key in moda_page_stats.keys():\n",
    "    moda_page_stats[key] = np.concatenate(moda_page_stats[key])\n",
    "    print(key, moda_page_stats[key].shape)"
   ]
  },
  {
   "cell_type": "code",
   "execution_count": 27,
   "metadata": {},
   "outputs": [
    {
     "name": "stdout",
     "output_type": "stream",
     "text": [
      "scale 1.2271685614053935 86.08213710727028\n",
      "exponent -2.193588429779783 -0.6201407594801163\n",
      "max_ratio 1.2749653290350327 7.724136167325558\n",
      "standard_deviation 5.0895143 37.46395\n"
     ]
    },
    {
     "data": {
      "image/png": "[encoded data removed]",
      "text/plain": [
       "<Figure size 1680x480 with 4 Axes>"
      ]
     },
     "metadata": {
      "needs_background": "light"
     },
     "output_type": "display_data"
    }
   ],
   "source": [
    "fig, axes = plt.subplots(1, 4, figsize=(14, 4), dpi=120)\n",
    "for i_k, key in enumerate(moda_page_stats.keys()):\n",
    "    ax = axes[i_k]\n",
    "    ax.hist(moda_page_stats[key], bins=20)\n",
    "    ax.set_title('MODA\\n%s. Min %1.4f Max %1.4f' % (key, moda_page_stats[key].min(), moda_page_stats[key].max()), fontsize=8)\n",
    "    print(key, moda_page_stats[key].min(), moda_page_stats[key].max())\n",
    "    ax.tick_params(labelsize=8)\n",
    "plt.tight_layout()\n",
    "plt.show()"
   ]
  },
  {
   "cell_type": "markdown",
   "metadata": {},
   "source": [
    "# NSRR EXPLORATION"
   ]
  },
  {
   "cell_type": "code",
   "execution_count": 7,
   "metadata": {},
   "outputs": [],
   "source": [
    "class PredictedNSRR(object):\n",
    "    def __init__(\n",
    "        self,\n",
    "        experiment_folder='20210716_from_20210529_thesis_indata_5cv_e1_n2_train_moda_ss_ensemble_to_e1_n2_train_nsrr_ss',\n",
    "        grid_folder='v2_time',\n",
    "        page_duration=30,\n",
    "        min_separation=0.3,\n",
    "        min_duration=0.3,\n",
    "        max_duration=3.0,\n",
    "        repair_long_detections=False,\n",
    "    ):\n",
    "        self.experiment_folder = experiment_folder\n",
    "        self.grid_folder = grid_folder\n",
    "        self.subject_to_fold_map = self._hash_predictions()\n",
    "        self.all_ids = np.sort(list(self.subject_to_fold_map.keys()))        \n",
    "        self.post_params = {\n",
    "            pkeys.PAGE_DURATION: page_duration,\n",
    "            pkeys.SS_MIN_SEPARATION: min_separation,\n",
    "            pkeys.SS_MIN_DURATION: min_duration,\n",
    "            pkeys.SS_MAX_DURATION: max_duration,\n",
    "            pkeys.REPAIR_LONG_DETECTIONS: repair_long_detections,\n",
    "        }\n",
    "\n",
    "    def get_predictions(self, fold_ids_list, dataset, threshold=0.5):\n",
    "        proba_dict = {}\n",
    "        for fold_id in fold_ids_list:\n",
    "            t_proba_dict = self.get_fold_probabilities(fold_id)\n",
    "            proba_dict.update(t_proba_dict)\n",
    "        subject_ids = list(proba_dict.keys())\n",
    "        subject_ids.sort()\n",
    "        feed_d = FeederDataset(dataset, subject_ids, constants.N2_RECORD, which_expert=1)\n",
    "        feed_d.unknown_id = dataset.unknown_id\n",
    "        feed_d.n2_id = dataset.n2_id\n",
    "        feed_d.original_page_duration = dataset.original_page_duration\n",
    "        prediction = PredictedDataset(\n",
    "            dataset=feed_d,\n",
    "            probabilities_dict=proba_dict,\n",
    "            params=self.post_params.copy(), skip_setting_threshold=True)\n",
    "        prediction.set_probability_threshold(threshold)\n",
    "        return prediction\n",
    "        \n",
    "    def get_subject_fold(self, subject_id):\n",
    "        return self.subject_to_fold_map[subject_id]\n",
    "    \n",
    "    def get_fold_probabilities(self, fold_id):\n",
    "        pred_path = os.path.join(RESULTS_PATH, 'predictions_nsrr_ss', self.experiment_folder, self.grid_folder)\n",
    "        fold_path = os.path.join(pred_path, 'fold%d' % fold_id, 'prediction_n2_test.pkl')\n",
    "        with open(fold_path, 'rb') as handle:\n",
    "            proba_dict = pickle.load(handle)\n",
    "        return proba_dict\n",
    "    \n",
    "    def _hash_predictions(self):\n",
    "        pred_path = os.path.join(RESULTS_PATH, 'predictions_nsrr_ss', self.experiment_folder, self.grid_folder)\n",
    "        folds = os.listdir(pred_path)\n",
    "        folds = [int(f.split(\"fold\")[-1]) for f in folds]\n",
    "        folds = np.sort(folds)\n",
    "        \n",
    "        subject_to_fold_map = {}\n",
    "        for fold_id in folds:\n",
    "            proba_dict = self.get_fold_probabilities(fold_id)\n",
    "            fold_subjects = list(proba_dict.keys())\n",
    "            for subject_id in fold_subjects:\n",
    "                subject_to_fold_map[subject_id] = fold_id\n",
    "        return subject_to_fold_map"
   ]
  },
  {
   "cell_type": "code",
   "execution_count": 8,
   "metadata": {},
   "outputs": [],
   "source": [
    "nsrr_preds = PredictedNSRR()"
   ]
  },
  {
   "cell_type": "code",
   "execution_count": 9,
   "metadata": {},
   "outputs": [
    {
     "name": "stdout",
     "output_type": "stream",
     "text": [
      "Dataset nsrr_ss with 3 patients.\n",
      "Loading from checkpoint... Loaded\n",
      "Global STD: None\n",
      "Dataset nsrr_ss with 11593 patients.\n"
     ]
    }
   ],
   "source": [
    "nsrr = load_dataset(constants.NSRR_SS_NAME, load_checkpoint=True)"
   ]
  },
  {
   "cell_type": "markdown",
   "metadata": {},
   "source": [
    "# Reproducción de tendencias"
   ]
  },
  {
   "cell_type": "code",
   "execution_count": 10,
   "metadata": {},
   "outputs": [
    {
     "name": "stdout",
     "output_type": "stream",
     "text": [
      "Loaded predictions for 1000 subjects\n"
     ]
    }
   ],
   "source": [
    "n_folds = 10\n",
    "\n",
    "fold_ids_list = np.arange(n_folds)\n",
    "predictions = nsrr_preds.get_predictions(fold_ids_list, nsrr)\n",
    "\n",
    "print(\"Loaded predictions for %d subjects\" % (len(predictions.all_ids)))"
   ]
  },
  {
   "cell_type": "code",
   "execution_count": null,
   "metadata": {},
   "outputs": [],
   "source": [
    "min_n2_minutes = 60\n",
    "\n",
    "subject_ids = predictions.all_ids\n",
    "\n",
    "table_byevent = {'duration': []}\n",
    "table_bysubject = {\n",
    "    'subject_id': [], \n",
    "    'duration': [], 'density': [], 'proba_event': [], \n",
    "    'n2_minutes': [], 'origin': [],\n",
    "    'age': [], 'female': [],\n",
    "}\n",
    "for i in range(len(subject_ids)):\n",
    "    subject_id = subject_ids[i]\n",
    "    n2_pages = predictions.data[subject_id]['n2_pages']\n",
    "    n2_minutes = n2_pages.size * nsrr.original_page_duration / 60\n",
    "    \n",
    "    if n2_minutes < min_n2_minutes:\n",
    "        print(\"Skipped by N2 minutes: Subject %s with %d N2 minutes\" % (subject_id, n2_minutes))\n",
    "        continue\n",
    "    \n",
    "    marks = predictions.get_subject_stamps(subject_id)\n",
    "    n_marks = marks.shape[0]\n",
    "    \n",
    "    if n_marks == 0:\n",
    "        print(\"Skipped by Marks     : Subject %s with %d marks (%d N2 minutes)\" % (subject_id, n_marks, n2_minutes))\n",
    "        continue\n",
    "\n",
    "    durations = (marks[:, 1] - marks[:, 0] + 1) / nsrr.fs\n",
    "    subject_proba = predictions.get_subject_stamps_probabilities(subject_id)\n",
    "    \n",
    "    subject_mean_duration = np.mean(durations)\n",
    "    subject_density = n_marks / n2_minutes\n",
    "    subject_mean_proba = np.mean(subject_proba)\n",
    "    subdataset = subject_id[:-4]\n",
    "    \n",
    "    subject_data = nsrr.read_subject_data(subject_id)\n",
    "    age = float(subject_data['age'].item())\n",
    "    female = int(subject_data['sex'].item() == 'f')\n",
    "    \n",
    "    table_byevent['duration'].append(durations)\n",
    "    table_bysubject['subject_id'].append(subject_id)\n",
    "    table_bysubject['duration'].append(subject_mean_duration)\n",
    "    table_bysubject['density'].append(subject_density)\n",
    "    table_bysubject['proba_event'].append(subject_mean_proba)\n",
    "    table_bysubject['n2_minutes'].append(n2_minutes)\n",
    "    table_bysubject['origin'].append(subdataset)\n",
    "    table_bysubject['age'].append(age)\n",
    "    table_bysubject['female'].append(female)\n",
    "    \n",
    "for key in table_byevent:\n",
    "    table_byevent[key] = np.concatenate(table_byevent[key])\n",
    "table_byevent = pd.DataFrame.from_dict(table_byevent)\n",
    "table_bysubject = pd.DataFrame.from_dict(table_bysubject)\n",
    "print(\"Done.\")"
   ]
  },
  {
   "cell_type": "code",
   "execution_count": null,
   "metadata": {},
   "outputs": [],
   "source": [
    "table_byevent"
   ]
  },
  {
   "cell_type": "code",
   "execution_count": null,
   "metadata": {},
   "outputs": [],
   "source": [
    "table_bysubject"
   ]
  },
  {
   "cell_type": "code",
   "execution_count": null,
   "metadata": {},
   "outputs": [],
   "source": [
    "# by-event stuff\n",
    "table_byevent.hist(bins=np.arange(0.3, 3.0 + 0.001, 0.1))\n",
    "plt.tight_layout()\n",
    "plt.show()"
   ]
  },
  {
   "cell_type": "code",
   "execution_count": null,
   "metadata": {},
   "outputs": [],
   "source": [
    "table_bysubject.hist(bins=20)\n",
    "plt.tight_layout()\n",
    "plt.show()"
   ]
  },
  {
   "cell_type": "code",
   "execution_count": null,
   "metadata": {},
   "outputs": [],
   "source": [
    "a = (table_bysubject['n2_minutes'] * table_bysubject['density'])\n",
    "a[a <= 20].hist(bins=np.arange(0, 20 + 0.001, 1))\n",
    "plt.show()\n",
    "print(a.min())"
   ]
  },
  {
   "cell_type": "code",
   "execution_count": null,
   "metadata": {},
   "outputs": [],
   "source": [
    "zoom_density = 0.5\n",
    "\n",
    "table_zoom = table_bysubject[table_bysubject.density < zoom_density]\n",
    "table_zoom.hist()\n",
    "plt.tight_layout()\n",
    "plt.show()"
   ]
  },
  {
   "cell_type": "code",
   "execution_count": null,
   "metadata": {
    "scrolled": false
   },
   "outputs": [],
   "source": [
    "# correlations\n",
    "\n",
    "param_names = table_bysubject.select_dtypes(include=np.number).columns.tolist()\n",
    "n_params = len(param_names)\n",
    "n_plots = n_params * (n_params - 1) / 2\n",
    "n_cols = 5\n",
    "n_rows = int(np.ceil(n_plots / n_cols))\n",
    "\n",
    "fig, axes = plt.subplots(n_rows, n_cols, figsize=(n_cols * 2.5, n_rows* 2.5), dpi=100)\n",
    "axes = axes.flatten()\n",
    "global_count = -1\n",
    "for i in range(n_params):\n",
    "    for j in range(i + 1, n_params):\n",
    "        global_count += 1\n",
    "        ax = axes[global_count]\n",
    "        \n",
    "        x_data = table_bysubject[param_names[i]].values\n",
    "        y_data = table_bysubject[param_names[j]].values\n",
    "        \n",
    "        ax.plot(x_data, y_data, linestyle=\"none\", marker='o', markersize=3, alpha=0.1)\n",
    "        ax.set_xlabel(param_names[i], fontsize=8)\n",
    "        ax.set_ylabel(param_names[j], fontsize=8)\n",
    "        \n",
    "        ax.tick_params(labelsize=8)\n",
    "        ax.grid()\n",
    "plt.tight_layout()\n",
    "plt.show()"
   ]
  },
  {
   "cell_type": "code",
   "execution_count": null,
   "metadata": {},
   "outputs": [],
   "source": [
    "table_bysubject[table_bysubject.duration > 1.2]"
   ]
  },
  {
   "cell_type": "markdown",
   "metadata": {},
   "source": [
    "# Check stats of all pages"
   ]
  },
  {
   "cell_type": "code",
   "execution_count": 13,
   "metadata": {},
   "outputs": [
    {
     "name": "stderr",
     "output_type": "stream",
     "text": [
      "100%|██████████| 1000/1000 [03:19<00:00,  5.09it/s]"
     ]
    },
    {
     "name": "stdout",
     "output_type": "stream",
     "text": [
      "scale (396666,)\n",
      "exponent (396666,)\n",
      "max_ratio (396666,)\n",
      "standard_deviation (396666,)\n"
     ]
    },
    {
     "name": "stderr",
     "output_type": "stream",
     "text": [
      "\n"
     ]
    }
   ],
   "source": [
    "page_stats = {\n",
    "    'scale': [],\n",
    "    'exponent': [],\n",
    "    'max_ratio': [],\n",
    "    'standard_deviation': [],\n",
    "}\n",
    "\n",
    "for subject_id in tqdm(predictions.all_ids):\n",
    "    sub_signal = nsrr.get_subject_signal(subject_id, normalize_clip=False)\n",
    "    sub_pages = predictions.data[subject_id]['n2_pages']\n",
    "    \n",
    "    n2_minutes = sub_pages.size * nsrr.original_page_duration / 60\n",
    "    if n2_minutes < 60:\n",
    "        continue\n",
    "    \n",
    "    sub_signal = sub_signal.reshape(-1, nsrr.fs * nsrr.original_page_duration)[sub_pages]  # [n_pages, n_samples]\n",
    "    freq, pages_spectrum = compute_pagewise_fft(sub_signal, nsrr.fs, window_duration=2)\n",
    "    pages_scales, pages_exponents = compute_pagewise_powerlaw(freq, pages_spectrum)  # (n_pages,)\n",
    "    \n",
    "    # Deviation from power law\n",
    "    f_min = 4\n",
    "    f_max = 30\n",
    "    valid_locs = np.where((freq >= f_min) & (freq <= f_max))[0]\n",
    "    dev_f = freq[valid_locs]\n",
    "    dev_x = pages_spectrum[:, valid_locs]\n",
    "    dev_x_law = [fit_s * (dev_f ** fit_e) for fit_s, fit_e in zip(pages_scales, pages_exponents)]\n",
    "    dev_x_law = np.stack(dev_x_law, axis=0)\n",
    "    error = dev_x / dev_x_law  # n_pages, n_freqs\n",
    "    max_error = np.max(error, axis=1)  # to detect weird peaks, shape (n_pages,)\n",
    "    \n",
    "    page_stats['scale'].append(pages_scales)\n",
    "    page_stats['exponent'].append(pages_exponents)\n",
    "    page_stats['max_ratio'].append(max_error)\n",
    "    page_stats['standard_deviation'].append(sub_signal.std(axis=1))\n",
    "\n",
    "for key in page_stats.keys():\n",
    "    page_stats[key] = np.concatenate(page_stats[key])\n",
    "    print(key, page_stats[key].shape)"
   ]
  },
  {
   "cell_type": "code",
   "execution_count": 26,
   "metadata": {},
   "outputs": [
    {
     "data": {
      "image/png": "[encoded data removed]",
      "text/plain": [
       "<Figure size 1680x480 with 4 Axes>"
      ]
     },
     "metadata": {
      "needs_background": "light"
     },
     "output_type": "display_data"
    }
   ],
   "source": [
    "fig, axes = plt.subplots(1, 4, figsize=(14, 4), dpi=120)\n",
    "for i_k, key in enumerate(page_stats.keys()):\n",
    "    ax = axes[i_k]\n",
    "    \n",
    "    value_vector = page_stats[key]\n",
    "    moda_value_vector = moda_page_stats[key]\n",
    "    \n",
    "    if key in ['scale', 'max_ratio', 'standard_deviation']:\n",
    "        value_vector = np.log(value_vector)\n",
    "        moda_value_vector = np.log(moda_value_vector)\n",
    "        name_str = 'log %s' % key\n",
    "    else:\n",
    "        name_str = key\n",
    "        \n",
    "    moda_min = moda_value_vector.min()\n",
    "    moda_max = moda_value_vector.max()\n",
    "    \n",
    "    # Count number of pages falling outside MODA ranges\n",
    "    n_inliers = np.sum((value_vector >= moda_min) * (value_vector <= moda_max))\n",
    "    n_total = value_vector.size\n",
    "    fraction_inliers = 100 * n_inliers / n_total\n",
    "    \n",
    "    ax.hist(value_vector, bins=50)\n",
    "    ax.set_title('NSRR\\n%s\\nMin %1.4f Max %1.4f\\n(MODA Min %1.4f Max %1.4f)\\nInliers: %1.2f%%' % (\n",
    "        name_str, value_vector.min(), value_vector.max(), moda_min, moda_max, fraction_inliers), fontsize=8)\n",
    "    ax.tick_params(labelsize=8)\n",
    "    ax.axvline(moda_min, color=\"k\", linestyle=\"--\", linewidth=0.8)\n",
    "    ax.axvline(moda_max, color=\"k\", linestyle=\"--\", linewidth=0.8)\n",
    "    ax.set_yticks([])\n",
    "plt.tight_layout()\n",
    "plt.show()"
   ]
  },
  {
   "cell_type": "code",
   "execution_count": null,
   "metadata": {},
   "outputs": [],
   "source": []
  },
  {
   "cell_type": "code",
   "execution_count": null,
   "metadata": {},
   "outputs": [],
   "source": []
  },
  {
   "cell_type": "code",
   "execution_count": null,
   "metadata": {},
   "outputs": [],
   "source": [
    "spectra = []\n",
    "all_std = []\n",
    "large_subjects = []\n",
    "origin_subject_id = []\n",
    "origin_page_id = []\n",
    "for subject_id in predictions.all_ids:\n",
    "    signal = nsrr.get_subject_signal(subject_id, normalize_clip=False)\n",
    "    n2_pages = predictions.data[subject_id]['n2_pages']\n",
    "    n2_minutes = n2_pages.size * nsrr.original_page_duration / 60\n",
    "    \n",
    "    if n2_minutes < 60:\n",
    "        continue\n",
    "    \n",
    "    x_pages = signal.reshape(-1, nsrr.original_page_duration * nsrr.fs)[n2_pages]\n",
    "    for i_n2, x in enumerate(x_pages):\n",
    "        freq, power = utils.power_spectrum_by_sliding_window(x, nsrr.fs, window_duration=2)\n",
    "        spectra.append(power)\n",
    "        this_std = x.std()\n",
    "        all_std.append(this_std)\n",
    "        origin_subject_id.append(subject_id)\n",
    "        origin_page_id.append(n2_pages[i_n2])\n",
    "        if this_std > 50:\n",
    "            large_subjects.append(subject_id)\n",
    "spectra = np.stack(spectra, axis=0)\n",
    "all_std = np.array(all_std)\n",
    "large_subjects = np.unique(large_subjects)\n",
    "origin_subject_id = np.array(origin_subject_id)\n",
    "origin_page_id = np.array(origin_page_id)\n",
    "print(\"Done\")\n",
    "print(spectra.shape, all_std.shape, large_subjects.shape)"
   ]
  },
  {
   "cell_type": "code",
   "execution_count": null,
   "metadata": {},
   "outputs": [],
   "source": [
    "# std hist\n",
    "fig, ax = plt.subplots(1, 1, figsize=(8, 3), dpi=100)\n",
    "ax.hist(all_std, bins=np.arange(0, 130 + 0.001, 2.5))\n",
    "ax.set_xticks(np.arange(0, 130 + 0.001, 10))\n",
    "ax.grid()\n",
    "plt.show()\n",
    "\n",
    "print(\"STD -- Min %1.4f, Mean %1.4f, Median %1.4f, Max %1.4f\" % (all_std.min(), all_std.mean(), np.median(all_std), all_std.max()))\n",
    "\n",
    "# Central 95% of pages\n",
    "# STD between 7.5 and 36.\n",
    "# Central 99% of pages\n",
    "# STD between 6.15 and 73.34\n",
    "\n",
    "prctl = 0.5\n",
    "print(\"STD -- Percentile %s: %1.4f\" % (prctl, np.percentile(all_std, prctl)))\n",
    "\n",
    "prctl = 99.5\n",
    "print(\"STD -- Percentile %s: %1.4f\" % (prctl, np.percentile(all_std, prctl)))\n",
    "print(np.sum(all_std > 50), all_std.size, 100 * np.sum(all_std > 50)/all_std.size)"
   ]
  },
  {
   "cell_type": "code",
   "execution_count": null,
   "metadata": {},
   "outputs": [],
   "source": [
    "valid_locs = np.where((freq >= 0.3) & (freq <= 30))[0]\n",
    "freq_short = freq[valid_locs]\n",
    "spectra_short = spectra[:, valid_locs]\n",
    "\n",
    "# Compute power law\n",
    "locs_to_use = np.where(freq_short >= 4)[0]\n",
    "x_data = freq_short[locs_to_use]\n",
    "y_data = spectra_short[350, locs_to_use]\n",
    "\n",
    "locs_no_sigma = np.where((x_data < 10) | (x_data > 17))[0]\n",
    "x_data_no_sigma = x_data[locs_no_sigma]\n",
    "y_data_no_sigma = y_data[locs_no_sigma]\n",
    "\n",
    "log_x = np.log(x_data_no_sigma)\n",
    "log_y = np.log(y_data_no_sigma)\n",
    "pl_exponent, pl_intercept, _, _, _ = scipy.stats.linregress(log_x,log_y)\n",
    "def fitted_power_law(x):\n",
    "    return (x ** pl_exponent) * np.exp(pl_intercept)\n",
    "print(pl_exponent, pl_intercept)\n",
    "\n",
    "fig, axes = plt.subplots(1, 2, figsize=(6, 3), dpi=140)\n",
    "\n",
    "ax = axes[0]\n",
    "ax.plot(x_data, y_data, linewidth=0.8)\n",
    "ax.plot(x_data_no_sigma, y_data_no_sigma, linewidth=0.8)\n",
    "ax.plot(x_data, fitted_power_law(x_data), linewidth=0.8)\n",
    "ax.set_xlim([3, 35])\n",
    "ax.tick_params(labelsize=8)\n",
    "ax.set_xlabel(\"Frequency (Hz)\", fontsize=8)\n",
    "\n",
    "ax = axes[1]\n",
    "ax.plot(x_data, y_data, linewidth=0.8)\n",
    "ax.plot(x_data_no_sigma, y_data_no_sigma, linewidth=0.8)\n",
    "ax.plot(x_data, fitted_power_law(x_data), linewidth=0.8)\n",
    "ax.set_xlim([3, 35])\n",
    "ax.set_xscale('log')\n",
    "ax.set_yscale('log')\n",
    "ax.tick_params(labelsize=8)\n",
    "ax.set_xlabel(\"Frequency (Hz)\", fontsize=8)\n",
    "plt.tight_layout()\n",
    "plt.show()"
   ]
  },
  {
   "cell_type": "code",
   "execution_count": null,
   "metadata": {},
   "outputs": [],
   "source": [
    "exponent_list = []\n",
    "for curve in spectra_short:\n",
    "    #Compute power law\n",
    "    locs_to_use = np.where(freq_short >= 4)[0]\n",
    "    x_data = freq_short[locs_to_use]\n",
    "    y_data = curve[locs_to_use]\n",
    "\n",
    "    locs_no_sigma = np.where((x_data < 10) | (x_data > 17))[0]\n",
    "    x_data_no_sigma = x_data[locs_no_sigma]\n",
    "    y_data_no_sigma = y_data[locs_no_sigma]\n",
    "    # Therefore we are considering frequencies 4-10 and 17-30 Hz for the power law.\n",
    "\n",
    "    log_x = np.log(x_data_no_sigma)\n",
    "    log_y = np.log(y_data_no_sigma)\n",
    "    pl_exponent, pl_intercept, _, _, _ = scipy.stats.linregress(log_x,log_y)\n",
    "    exponent_list.append(pl_exponent)\n",
    "exponent_list = np.array(exponent_list)"
   ]
  },
  {
   "cell_type": "code",
   "execution_count": null,
   "metadata": {},
   "outputs": [],
   "source": [
    "exponent_list.shape"
   ]
  },
  {
   "cell_type": "code",
   "execution_count": null,
   "metadata": {},
   "outputs": [],
   "source": [
    "mean_val = np.median(exponent_list)\n",
    "disp_val = scipy.stats.median_absolute_deviation(exponent_list)  # dispersion around median\n",
    "disp_width = 2.2\n",
    "\n",
    "lower_bound = mean_val - disp_width * disp_val\n",
    "upper_bound = mean_val + disp_width * disp_val\n",
    "\n",
    "n_inliers = np.sum((exponent_list >= lower_bound) * (exponent_list <= upper_bound))\n",
    "print(n_inliers, 100 * n_inliers / exponent_list.size)\n",
    "print(lower_bound, upper_bound)\n",
    "print(\"\")\n",
    "\n",
    "fig, ax = plt.subplots(1, 1, figsize=(4, 3), dpi=120)\n",
    "ax.hist(exponent_list, bins=50)\n",
    "ax.axvline(mean_val, color=\"k\", linestyle=\"--\", linewidth=1)\n",
    "ax.axvline(upper_bound, color=\"k\", linestyle=\"--\", linewidth=1)\n",
    "ax.axvline(lower_bound, color=\"k\", linestyle=\"--\", linewidth=1)\n",
    "ax.set_title(\"Mean %1.4f\" % mean_val)\n",
    "plt.show()\n",
    "\n",
    "for prct in [0, 0.5, 5, 95, 99.5, 100]:\n",
    "    value = np.percentile(exponent_list, prct)\n",
    "    print(\"Percentile %s is %1.4f\" % (prct, value))"
   ]
  },
  {
   "cell_type": "code",
   "execution_count": null,
   "metadata": {},
   "outputs": [],
   "source": [
    "valid_locs = np.where((freq >= 0.3) & (freq <= 30))[0]\n",
    "freq_short = freq[valid_locs]\n",
    "spectra_short = spectra[:, valid_locs]\n",
    "\n",
    "# Compute avg power of 2Hz freq bands\n",
    "all_p_avg = []\n",
    "all_f_avg = []\n",
    "start_freq = 0\n",
    "width = 2\n",
    "n_bands = int(np.ceil((freq_short.max() - start_freq) / width))\n",
    "for i_band in range(n_bands):\n",
    "    end_freq = start_freq + width\n",
    "    locs = np.where((f >= start_freq) & (f < end_freq))[0]\n",
    "    center_freq = (start_freq + end_freq)/2\n",
    "    start_freq = end_freq\n",
    "    if center_freq < 2:\n",
    "        continue\n",
    "    this_power = spectra_short[:, locs].mean(axis=1)\n",
    "    all_p_avg.append(this_power)\n",
    "    all_f_avg.append(center_freq)\n",
    "    \n",
    "all_f_avg = np.array(all_f_avg)\n",
    "all_p_avg = np.stack(all_p_avg, axis=1)\n",
    "\n",
    "fig, axes = plt.subplots(1, 2, figsize=(6, 3), dpi=200)\n",
    "\n",
    "ax = axes[0]\n",
    "prctl_results = np.percentile(all_p_avg, (0, 0.5, 25, 50, 75, 99.5, 100), axis=0)\n",
    "for curve in prctl_results:\n",
    "    ax.plot(all_f_avg, curve, linewidth=0.8, marker='o')\n",
    "ax.set_xlim([0.1, 35])\n",
    "ax.tick_params(labelsize=8)\n",
    "ax.set_xlabel(\"Frequency (Hz)\", fontsize=8)\n",
    "\n",
    "ax = axes[1]\n",
    "for curve in prctl_results:\n",
    "    ax.plot(all_f_avg, curve, linewidth=0.8, marker='o')\n",
    "ax.set_xlim([0.1, 35])\n",
    "ax.set_xscale('log')\n",
    "ax.set_yscale('log')\n",
    "ax.tick_params(labelsize=8)\n",
    "ax.set_xlabel(\"Frequency (Hz)\", fontsize=8)\n",
    "plt.tight_layout()\n",
    "plt.show()"
   ]
  },
  {
   "cell_type": "code",
   "execution_count": null,
   "metadata": {},
   "outputs": [],
   "source": [
    "valid_locs = np.where((freq >= 0.3) & (freq <= 30))[0]\n",
    "freq_short = freq[valid_locs]\n",
    "spectra_short = spectra[:, valid_locs]\n",
    "\n",
    "fig, axes = plt.subplots(1, 2, figsize=(6, 3), dpi=200)\n",
    "\n",
    "prctl_results = np.percentile(all_p_avg, (0.5, 99.5), axis=0)\n",
    "\n",
    "ax = axes[0]\n",
    "for curve in prctl_results:\n",
    "    ax.plot(all_f_avg, curve, linewidth=0.8, marker='o', markersize=3, color=\"b\")\n",
    "for curve in spectra_short[outliers_locs]:\n",
    "    ax.plot(freq_short, curve, linewidth=0.8, color=\"k\", alpha=0.1)\n",
    "ax.set_xlim([0.1, 35])\n",
    "ax.tick_params(labelsize=8)\n",
    "ax.set_xlabel(\"Frequency (Hz)\", fontsize=8)\n",
    "\n",
    "ax = axes[1]\n",
    "for curve in prctl_results:\n",
    "    ax.plot(all_f_avg, curve, linewidth=0.8, marker='o', markersize=3, color=\"b\")\n",
    "for curve in spectra_short[outliers_locs]:\n",
    "    ax.plot(freq_short, curve, linewidth=0.8, color=\"k\", alpha=0.1)\n",
    "ax.set_xlim([0.1, 35])\n",
    "ax.set_xscale('log')\n",
    "ax.set_yscale('log')\n",
    "ax.tick_params(labelsize=8)\n",
    "ax.set_xlabel(\"Frequency (Hz)\", fontsize=8)\n",
    "plt.tight_layout()\n",
    "plt.show()"
   ]
  },
  {
   "cell_type": "code",
   "execution_count": null,
   "metadata": {},
   "outputs": [],
   "source": [
    "loc = 350\n",
    "\n",
    "p = spectra_short[loc]\n",
    "f = freq_short\n",
    "# Compute avg power of 2Hz freq bands\n",
    "p_avg = []\n",
    "f_avg = []\n",
    "start_freq = 0\n",
    "width = 2\n",
    "n_bands = int(np.ceil((f.max() - start_freq) / width))\n",
    "for i_band in range(n_bands):\n",
    "    end_freq = start_freq + width\n",
    "    locs = np.where((f >= start_freq) & (f < end_freq))[0]\n",
    "    f_avg.append((start_freq + end_freq)/2)\n",
    "    p_avg.append(p[locs].mean())\n",
    "    start_freq = end_freq\n",
    "f_avg = np.array(f_avg)\n",
    "p_avg = np.array(p_avg)\n",
    "\n",
    "plt.plot(f, p)\n",
    "plt.plot(f_avg, p_avg, marker='o')\n",
    "print(f_avg)\n",
    "plt.title(\"Subject %s, page %d\" % (origin_subject_id[loc], origin_page_id[loc]))\n",
    "plt.show()\n",
    "print(\"Subject %s, page %d\" % (origin_subject_id[loc], origin_page_id[loc]))"
   ]
  },
  {
   "cell_type": "code",
   "execution_count": null,
   "metadata": {},
   "outputs": [],
   "source": [
    "lower_bound, upper_bound = np.percentile(all_p_avg, (0.5, 99.5), axis=0)\n",
    "print(\"Original: \", all_p_avg.shape)\n",
    "spectra_filt = []\n",
    "inliers_locs = []\n",
    "outliers_locs = []\n",
    "for i_page, spec_page in enumerate(all_p_avg):\n",
    "    if np.all(spec_page >= lower_bound) and np.all(spec_page <= upper_bound):\n",
    "        spectra_filt.append(spec_page)\n",
    "        inliers_locs.append(i_page)\n",
    "    else:\n",
    "        outliers_locs.append(i_page)\n",
    "spectra_filt = np.stack(spectra_filt, axis=0)\n",
    "print(\"Filtered:\", spectra_filt.shape)\n",
    "print(\"Percentage kept: %1.4f\" % (100 * spectra_filt.shape[0] / all_p_avg.shape[0]))"
   ]
  },
  {
   "cell_type": "markdown",
   "metadata": {},
   "source": [
    "# Check single subject"
   ]
  },
  {
   "cell_type": "code",
   "execution_count": null,
   "metadata": {},
   "outputs": [],
   "source": [
    "subject_id = 'shhs1-202456'   # 'shhs1-201711'  # 'sof-visit-8-02332'\n",
    "\n",
    "print(\"subject %s\" % subject_id)\n",
    "subject_data = nsrr.read_subject_data(subject_id)\n",
    "signal = subject_data['signal']\n",
    "n2_pages = subject_data['n2_pages']\n",
    "n2_minutes = n2_pages.size * nsrr.original_page_duration / 60\n",
    "marks = predictions.get_subject_stamps(subject_id, pages_subset='n2')\n",
    "proba = predictions.get_subject_probabilities(subject_id)\n",
    "proba_up = np.repeat(proba, 8)\n",
    "durations = (marks[:, 1] - marks[:, 0] + 1) / nsrr.fs\n",
    "\n",
    "print(\"Marks\", marks.shape)\n",
    "print(\"N2 minutes\", n2_minutes)\n",
    "\n",
    "plt.plot(signal)\n",
    "plt.show()\n",
    "\n",
    "std_to_find = 50\n",
    "\n",
    "x_pages_std = signal.reshape(-1, nsrr.original_page_duration * nsrr.fs)[n2_pages].std(axis=1)\n",
    "n2_pages_locs = np.where(x_pages_std > std_to_find)[0]\n",
    "std_selected = x_pages_std[n2_pages_locs]\n",
    "pages_locs = n2_pages[n2_pages_locs]\n",
    "start_sample = pages_locs * nsrr.original_page_duration * nsrr.fs\n",
    "center_sample = start_sample + nsrr.original_page_duration * nsrr.fs // 2\n",
    "print(\"Center samples where STD is greater than %1.4f\" % std_to_find)\n",
    "print(center_sample)\n",
    "print(std_selected)"
   ]
  },
  {
   "cell_type": "code",
   "execution_count": null,
   "metadata": {},
   "outputs": [],
   "source": [
    "# mark_selected = marks[5]\n",
    "\n",
    "center_sample = int(25.5 * 30 * 200) # mark_selected.mean()\n",
    "\n",
    "window_duration = 30\n",
    "window_size = nsrr.fs * window_duration\n",
    "start_sample = int(center_sample - window_size // 2)\n",
    "end_sample = int(start_sample + window_size)\n",
    "time_axis = np.arange(start_sample, end_sample) / nsrr.fs\n",
    "\n",
    "fig, ax = plt.subplots(1, 1, figsize=(10, 2.5), dpi=100)\n",
    "\n",
    "ax.plot(time_axis, signal[start_sample:end_sample], linewidth=.6)\n",
    "\n",
    "# ax.plot(mark_selected / nsrr.fs, [-100, -100], linewidth=4, color=viz.PALETTE['red'], alpha=0.7)\n",
    "\n",
    "ax.fill_between(\n",
    "    time_axis, \n",
    "    -300 - 50 * proba_up[start_sample:end_sample], \n",
    "    -300 + 50 * proba_up[start_sample:end_sample],\n",
    "    color=viz.PALETTE['red'], alpha=1.0\n",
    ")\n",
    "ax.axhline(-300 - 50, linewidth=0.7, linestyle=\"-\", color=\"k\")\n",
    "ax.axhline(-300 + 50, linewidth=0.7, linestyle=\"-\", color=\"k\")\n",
    "ax.axhline(-300 - 25, linewidth=0.7, linestyle=\"--\", color=\"k\")\n",
    "ax.axhline(-300 + 25, linewidth=0.7, linestyle=\"--\", color=\"k\")\n",
    "ax.axhline(-300 + 0, linewidth=0.7, linestyle=\"-\", color=\"k\")\n",
    "\n",
    "ax.set_ylim([-400, 200])\n",
    "ax.set_xlim([start_sample/nsrr.fs, end_sample/nsrr.fs])\n",
    "\n",
    "ax.grid()\n",
    "ax.set_xlabel(\"Time (s)\", fontsize=8)\n",
    "ax.tick_params(labelsize=8)\n",
    "\n",
    "page_std = signal[start_sample:end_sample].std()\n",
    "\n",
    "ax.set_title(\"Subject %s (Age %1.4f, Sex %s). Page STD %1.4f\" % (\n",
    "    subject_id, subject_data['age'], subject_data['sex'], page_std\n",
    "))\n",
    "\n",
    "plt.tight_layout()\n",
    "plt.show()\n",
    "\n",
    "print(\"Page STD: %1.4f\" % page_std)\n",
    "\n",
    "# Compute spectrum of page\n",
    "freq, power = utils.power_spectrum_by_sliding_window(signal[start_sample:end_sample], nsrr.fs, window_duration=2)\n",
    "valid_locs = np.where((freq >= 0.3) & (freq <= 30))[0]\n",
    "freq = freq[valid_locs]\n",
    "power = power[valid_locs]\n",
    "\n",
    "locs_to_use = np.where(freq >= 4)[0]\n",
    "x_data = freq[locs_to_use]\n",
    "y_data = power[locs_to_use]\n",
    "locs_no_sigma = np.where((x_data < 10) | (x_data > 17))[0]\n",
    "x_data_no_sigma = x_data[locs_no_sigma]\n",
    "y_data_no_sigma = y_data[locs_no_sigma]\n",
    "log_x = np.log(x_data_no_sigma)\n",
    "log_y = np.log(y_data_no_sigma)\n",
    "pl_exponent, pl_intercept, _, _, _ = scipy.stats.linregress(log_x,log_y)\n",
    "def fitted_power_law(x):\n",
    "    return (x ** pl_exponent) * np.exp(pl_intercept)\n",
    "print(pl_exponent, pl_intercept)\n",
    "\n",
    "fig, axes = plt.subplots(1, 2, figsize=(6, 2), dpi=100)\n",
    "\n",
    "ax = axes[0]\n",
    "ax.plot(freq, power)\n",
    "ax.set_xlim([0.1, 30])\n",
    "ax.tick_params(labelsize=8)\n",
    "ax.set_xlabel(\"Frequency (Hz)\", fontsize=8)\n",
    "\n",
    "ax = axes[1]\n",
    "ax.plot(freq, power)\n",
    "ax.plot(freq, fitted_power_law(freq))\n",
    "ax.set_xlim([0.1, 30])\n",
    "ax.set_xscale('log')\n",
    "ax.set_yscale('log')\n",
    "ax.tick_params(labelsize=8)\n",
    "ax.set_xlabel(\"Frequency (Hz)\", fontsize=8)\n",
    "ax.set_title(\"Exponent %1.4f\" % (pl_exponent), fontsize=8)\n",
    "plt.tight_layout()\n",
    "plt.show()"
   ]
  },
  {
   "cell_type": "code",
   "execution_count": null,
   "metadata": {},
   "outputs": [],
   "source": []
  }
 ],
 "metadata": {
  "kernelspec": {
   "display_name": "Python 3",
   "language": "python",
   "name": "python3"
  },
  "language_info": {
   "codemirror_mode": {
    "name": "ipython",
    "version": 3
   },
   "file_extension": ".py",
   "mimetype": "text/x-python",
   "name": "python",
   "nbconvert_exporter": "python",
   "pygments_lexer": "ipython3",
   "version": "3.6.9"
  }
 },
 "nbformat": 4,
 "nbformat_minor": 2
}
