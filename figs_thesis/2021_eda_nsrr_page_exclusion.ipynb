{
 "cells": [
  {
   "cell_type": "code",
   "execution_count": 1,
   "metadata": {},
   "outputs": [
    {
     "name": "stderr",
     "output_type": "stream",
     "text": [
      "/home/ntapia/miniconda3/envs/tf/lib/python3.6/importlib/_bootstrap.py:219: RuntimeWarning: numpy.ufunc size changed, may indicate binary incompatibility. Expected 192 from C header, got 216 from PyObject\n",
      "  return f(*args, **kwds)\n"
     ]
    },
    {
     "data": {
      "text/html": [
       "<style>.container { width:100% !important; }</style>"
      ],
      "text/plain": [
       "<IPython.core.display.HTML object>"
      ]
     },
     "metadata": {},
     "output_type": "display_data"
    }
   ],
   "source": [
    "import os\n",
    "import sys\n",
    "import pickle\n",
    "\n",
    "PROJECT_ROOT = os.path.abspath('..')\n",
    "sys.path.append(PROJECT_ROOT)\n",
    "\n",
    "import numpy as np\n",
    "import matplotlib.pyplot as plt\n",
    "import pandas as pd\n",
    "import scipy\n",
    "from tqdm import tqdm\n",
    "\n",
    "from sleeprnn.helpers.reader import load_dataset\n",
    "from sleeprnn.common import constants, viz, pkeys\n",
    "from sleeprnn.data import utils, stamp_correction\n",
    "from sleeprnn.detection.postprocessor import PostProcessor\n",
    "from sleeprnn.detection.predicted_dataset import PredictedDataset\n",
    "from sleeprnn.detection.feeder_dataset import FeederDataset\n",
    "from sleeprnn.detection import det_utils\n",
    "from figs_thesis import fig_utils\n",
    "\n",
    "viz.notebook_full_width()\n",
    "\n",
    "param_filtering_fn = fig_utils.get_filtered_signal_for_event\n",
    "param_frequency_fn = fig_utils.get_frequency_by_fft\n",
    "param_amplitude_fn = fig_utils.get_amplitude_event\n",
    "\n",
    "RESULTS_PATH = os.path.join(PROJECT_ROOT, 'results')"
   ]
  },
  {
   "cell_type": "markdown",
   "metadata": {},
   "source": [
    "# Max amplitude preliminaries (MASS-KC)"
   ]
  },
  {
   "cell_type": "code",
   "execution_count": null,
   "metadata": {},
   "outputs": [],
   "source": [
    "mass = load_dataset('mass_kc')\n",
    "signals = mass.get_signals(normalize_clip=False)\n",
    "marks = mass.get_stamps(pages_subset='n2')"
   ]
  },
  {
   "cell_type": "code",
   "execution_count": null,
   "metadata": {},
   "outputs": [],
   "source": [
    "all_kc_min = []\n",
    "all_kc_max = []\n",
    "for sub_signal, sub_marks in zip(signals, marks):\n",
    "    kc = [sub_signal[m[0]:m[1]+1] for m in sub_marks]\n",
    "    kc_min = np.array([np.min(s) for s in kc])\n",
    "    kc_max = np.array([np.max(s) for s in kc])\n",
    "    all_kc_min.append(kc_min)\n",
    "    all_kc_max.append(kc_max)\n",
    "all_kc_min = np.concatenate(all_kc_min)\n",
    "all_kc_max = np.concatenate(all_kc_max)\n",
    "print(all_kc_min.shape, all_kc_max.shape)"
   ]
  },
  {
   "cell_type": "code",
   "execution_count": null,
   "metadata": {
    "scrolled": true
   },
   "outputs": [],
   "source": [
    "fig, axes = plt.subplots(1, 2, figsize=(6, 3), dpi=100)\n",
    "ax = axes[0]\n",
    "ax.hist(all_kc_min)\n",
    "ax.set_title(\"Neg Peak\")\n",
    "ax = axes[1]\n",
    "ax.hist(all_kc_max)\n",
    "ax.set_title(\"Pos Peak\")\n",
    "plt.tight_layout()\n",
    "plt.show()\n",
    "\n",
    "prct = 98\n",
    "\n",
    "print(\"Negative Peak prct %d: %1.4f uV\" % (prct, np.percentile(all_kc_min, 100-prct)))\n",
    "print(\"Positive Peak prct %d: %1.4f uV\" % (prct, np.percentile(all_kc_max, prct)))"
   ]
  },
  {
   "cell_type": "markdown",
   "metadata": {},
   "source": [
    "# Signal parameters preliminaries (MODA)"
   ]
  },
  {
   "cell_type": "code",
   "execution_count": null,
   "metadata": {},
   "outputs": [],
   "source": [
    "moda = load_dataset('moda_ss')\n",
    "signals = moda.get_signals(normalize_clip=False)\n",
    "pages = moda.get_pages(pages_subset='n2')\n",
    "\n",
    "moda_page_stats = {\n",
    "    'scale': [],\n",
    "    'exponent': [],\n",
    "    'max_ratio': [],\n",
    "    'standard_deviation': [],\n",
    "    'r2': [],\n",
    "}\n",
    "\n",
    "for sub_signal, sub_pages in tqdm(zip(signals, pages)):\n",
    "    sub_signal = sub_signal.reshape(-1, moda.fs * moda.page_duration)[sub_pages]  # [n_pages, n_samples]\n",
    "    freq, pages_spectrum = utils.compute_pagewise_fft(sub_signal, moda.fs, window_duration=2)\n",
    "    pages_scales, pages_exponents = utils.compute_pagewise_powerlaw(freq, pages_spectrum)  # (n_pages,)\n",
    "    \n",
    "    # Deviation from power law\n",
    "    f_min = 2\n",
    "    f_max = 30\n",
    "    valid_locs = np.where((freq >= f_min) & (freq <= f_max))[0]\n",
    "    dev_f = freq[valid_locs]\n",
    "    dev_x = pages_spectrum[:, valid_locs]\n",
    "    dev_x_law = [fit_s * (dev_f ** fit_e) for fit_s, fit_e in zip(pages_scales, pages_exponents)]\n",
    "    dev_x_law = np.stack(dev_x_law, axis=0)\n",
    "    error = dev_x / dev_x_law  # n_pages, n_freqs\n",
    "    max_error = np.max(error, axis=1)  # to detect weird peaks, shape (n_pages,)\n",
    "    \n",
    "    # for r2, we remove sigma\n",
    "    valid_locs = np.where((dev_f < 10) | (dev_f > 17))[0]\n",
    "    dev_f = dev_f[valid_locs]\n",
    "    log_dev_x = np.log(dev_x[:, valid_locs])\n",
    "    log_dev_x_law = np.log(dev_x_law[:, valid_locs])\n",
    "    squared_data = np.sum((log_dev_x - log_dev_x.mean(axis=1).reshape(-1, 1)) ** 2, axis=1)\n",
    "    squared_residuals = np.sum((log_dev_x - log_dev_x_law) ** 2, axis=1)\n",
    "    r2 = 1 - squared_residuals / squared_data  # (n_pages,)\n",
    "    \n",
    "    moda_page_stats['scale'].append(pages_scales)\n",
    "    moda_page_stats['exponent'].append(pages_exponents)\n",
    "    moda_page_stats['max_ratio'].append(max_error)\n",
    "    moda_page_stats['standard_deviation'].append(sub_signal.std(axis=1))\n",
    "    moda_page_stats['r2'].append(r2)\n",
    "\n",
    "for key in moda_page_stats.keys():\n",
    "    moda_page_stats[key] = np.concatenate(moda_page_stats[key])\n",
    "    print(key, moda_page_stats[key].shape)"
   ]
  },
  {
   "cell_type": "code",
   "execution_count": null,
   "metadata": {},
   "outputs": [],
   "source": [
    "fig, axes = plt.subplots(1, 5, figsize=(14, 4), dpi=120)\n",
    "for i_k, key in enumerate(moda_page_stats.keys()):\n",
    "    ax = axes[i_k]\n",
    "    ax.hist(moda_page_stats[key], bins=20)\n",
    "    ax.set_title('MODA\\n%s. Min %1.4f Max %1.4f' % (key, moda_page_stats[key].min(), moda_page_stats[key].max()), fontsize=8)\n",
    "    print(key, moda_page_stats[key].min(), moda_page_stats[key].max())\n",
    "    ax.tick_params(labelsize=8)\n",
    "plt.tight_layout()\n",
    "plt.show()"
   ]
  },
  {
   "cell_type": "code",
   "execution_count": null,
   "metadata": {},
   "outputs": [],
   "source": [
    "moda = load_dataset('moda_ss')\n",
    "signals = moda.get_signals(normalize_clip=False)\n",
    "marks = moda.get_stamps(pages_subset='n2')\n",
    "\n",
    "moda_page_stats = {\n",
    "    'duration': [],\n",
    "    'amplitude': [],\n",
    "}\n",
    "\n",
    "to_visualize = []\n",
    "\n",
    "for sub_signal, sub_marks in tqdm(zip(signals, marks)):\n",
    "    \n",
    "    durations = (sub_marks[:, 1] - sub_marks[:, 0]) / moda.fs\n",
    "    \n",
    "    filt_signal = param_filtering_fn(sub_signal, moda.fs, constants.SPINDLE)\n",
    "    signal_events = [filt_signal[e[0]:e[1]+1] for e in sub_marks]\n",
    "    amplitudes = np.array([param_amplitude_fn(s, moda.fs, constants.SPINDLE) for s in signal_events])\n",
    "    n_marks = durations.size\n",
    "    for i in range(n_marks):\n",
    "        if amplitudes[i] > 100:\n",
    "            # visualize it, with 1 second context\n",
    "            e = sub_marks[i]\n",
    "            e[0] -= moda.fs \n",
    "            e[1] += moda.fs\n",
    "            segment_signal = sub_signal[e[0]:e[1]+1]\n",
    "            to_visualize.append(segment_signal)\n",
    "    \n",
    "    moda_page_stats['duration'].append(durations)\n",
    "    moda_page_stats['amplitude'].append(amplitudes)\n",
    "\n",
    "for key in moda_page_stats.keys():\n",
    "    moda_page_stats[key] = np.concatenate(moda_page_stats[key])\n",
    "    print(key, moda_page_stats[key].shape)"
   ]
  },
  {
   "cell_type": "code",
   "execution_count": null,
   "metadata": {},
   "outputs": [],
   "source": [
    "fig, axes = plt.subplots(1, 2, figsize=(14, 4), dpi=120)\n",
    "for i_k, key in enumerate(moda_page_stats.keys()):\n",
    "    ax = axes[i_k]\n",
    "    ax.hist(moda_page_stats[key], bins=20)\n",
    "    ax.set_title('MODA\\n%s. Min %1.4f Max %1.4f' % (key, moda_page_stats[key].min(), moda_page_stats[key].max()), fontsize=8)\n",
    "    print(key, moda_page_stats[key].min(), moda_page_stats[key].max())\n",
    "    ax.tick_params(labelsize=8)\n",
    "plt.tight_layout()\n",
    "plt.show()"
   ]
  },
  {
   "cell_type": "code",
   "execution_count": null,
   "metadata": {},
   "outputs": [],
   "source": [
    "which_to_visualize = 0\n",
    "\n",
    "segment_signal = to_visualize[which_to_visualize]\n",
    "time_axis = np.arange(segment_signal.size) / moda.fs\n",
    "mark_to_viz = np.array([moda.fs, segment_signal.size - moda.fs], dtype=np.int32)\n",
    "filt_signal = param_filtering_fn(segment_signal, moda.fs, constants.SPINDLE)\n",
    "spindle = filt_signal[mark_to_viz[0]:mark_to_viz[1]+1]\n",
    "amplitude = param_amplitude_fn(spindle, moda.fs, constants.SPINDLE)\n",
    "\n",
    "fig, ax = plt.subplots(1, 1, figsize=(8, 3), dpi=120)\n",
    "ax.plot(time_axis, segment_signal, linewidth=0.8)\n",
    "ax.plot(mark_to_viz / moda.fs, [-75, -75], linewidth=3, color=\"r\", alpha=0.5)\n",
    "ax.set_ylim([-100, 100])\n",
    "ax.set_title(\"amplitude %1.4f uV\" % amplitude)\n",
    "ax.grid()\n",
    "plt.show()"
   ]
  },
  {
   "cell_type": "code",
   "execution_count": null,
   "metadata": {},
   "outputs": [],
   "source": []
  },
  {
   "cell_type": "code",
   "execution_count": null,
   "metadata": {},
   "outputs": [],
   "source": []
  },
  {
   "cell_type": "markdown",
   "metadata": {},
   "source": [
    "# NSRR EXPLORATION"
   ]
  },
  {
   "cell_type": "code",
   "execution_count": 2,
   "metadata": {},
   "outputs": [],
   "source": [
    "nsrr_preds = fig_utils.PredictedNSRR()"
   ]
  },
  {
   "cell_type": "code",
   "execution_count": 3,
   "metadata": {},
   "outputs": [
    {
     "name": "stdout",
     "output_type": "stream",
     "text": [
      "Dataset nsrr_ss with 3 patients.\n",
      "Loading from checkpoint... Loaded\n",
      "Global STD: None\n",
      "Dataset nsrr_ss with 11593 patients.\n"
     ]
    }
   ],
   "source": [
    "nsrr = load_dataset(constants.NSRR_SS_NAME, load_checkpoint=True)"
   ]
  },
  {
   "cell_type": "markdown",
   "metadata": {},
   "source": [
    "# Reproducción de tendencias"
   ]
  },
  {
   "cell_type": "code",
   "execution_count": 4,
   "metadata": {},
   "outputs": [
    {
     "name": "stdout",
     "output_type": "stream",
     "text": [
      "Loaded predictions for 1000 subjects\n"
     ]
    }
   ],
   "source": [
    "n_folds = 10\n",
    "\n",
    "fold_ids_list = np.arange(n_folds)\n",
    "# fold_ids_list = [3]\n",
    "predictions = nsrr_preds.get_predictions(fold_ids_list, nsrr)\n",
    "\n",
    "print(\"Loaded predictions for %d subjects\" % (len(predictions.all_ids)))"
   ]
  },
  {
   "cell_type": "code",
   "execution_count": 5,
   "metadata": {},
   "outputs": [
    {
     "name": "stdout",
     "output_type": "stream",
     "text": [
      "Skipped by N2 minutes: Subject cfs-visit5-800280 with 13 N2 minutes\n",
      "Skipped by N2 minutes: Subject cfs-visit5-800393 with 1 N2 minutes\n",
      "Skipped by N2 minutes: Subject chat-baseline-300365 with 0 N2 minutes\n",
      "Skipped by N2 minutes: Subject chat-baseline-300805 with 47 N2 minutes\n",
      "Skipped by N2 minutes: Subject chat-baseline-300915 with 36 N2 minutes\n",
      "Skipped by N2 minutes: Subject chat-baseline-301091 with 32 N2 minutes\n",
      "Skipped by N2 minutes: Subject chat-baseline-301108 with 53 N2 minutes\n",
      "Skipped by N2 minutes: Subject chat-baseline-nonrandomized-300060 with 56 N2 minutes\n",
      "Skipped by N2 minutes: Subject chat-baseline-nonrandomized-300521 with 0 N2 minutes\n",
      "Skipped by N2 minutes: Subject chat-baseline-nonrandomized-300607 with 0 N2 minutes\n",
      "Skipped by N2 minutes: Subject chat-baseline-nonrandomized-300775 with 49 N2 minutes\n",
      "Skipped by N2 minutes: Subject mros-visit1-aa0121 with 9 N2 minutes\n",
      "Skipped by N2 minutes: Subject mros-visit1-aa0965 with 15 N2 minutes\n",
      "Skipped by N2 minutes: Subject mros-visit1-aa4895 with 45 N2 minutes\n",
      "Skipped by N2 minutes: Subject mros-visit1-aa5622 with 10 N2 minutes\n",
      "Skipped by N2 minutes: Subject shhs1-200489 with 24 N2 minutes\n",
      "Zero Marks     : Subject shhs1-200721 with 0 marks (87 N2 minutes)\n"
     ]
    },
    {
     "name": "stderr",
     "output_type": "stream",
     "text": [
      "/home/ntapia/miniconda3/envs/tf/lib/python3.6/site-packages/numpy/core/fromnumeric.py:3118: RuntimeWarning: Mean of empty slice.\n",
      "  out=out, **kwargs)\n",
      "/home/ntapia/miniconda3/envs/tf/lib/python3.6/site-packages/numpy/core/_methods.py:85: RuntimeWarning: invalid value encountered in true_divide\n",
      "  ret = ret.dtype.type(ret / rcount)\n"
     ]
    },
    {
     "name": "stdout",
     "output_type": "stream",
     "text": [
      "Skipped by N2 minutes: Subject shhs1-201581 with 0 N2 minutes\n",
      "Skipped by N2 minutes: Subject shhs1-201711 with 0 N2 minutes\n",
      "Skipped by N2 minutes: Subject shhs1-201788 with 28 N2 minutes\n",
      "Skipped by N2 minutes: Subject shhs1-202005 with 20 N2 minutes\n",
      "Skipped by N2 minutes: Subject shhs1-202274 with 59 N2 minutes\n",
      "Skipped by N2 minutes: Subject shhs1-202418 with 0 N2 minutes\n",
      "Skipped by N2 minutes: Subject shhs1-202444 with 37 N2 minutes\n",
      "Skipped by N2 minutes: Subject shhs1-202456 with 0 N2 minutes\n",
      "Skipped by N2 minutes: Subject shhs1-202519 with 0 N2 minutes\n",
      "Skipped by N2 minutes: Subject shhs1-202616 with 28 N2 minutes\n",
      "Skipped by N2 minutes: Subject shhs1-203313 with 50 N2 minutes\n",
      "Skipped by N2 minutes: Subject shhs1-203474 with 39 N2 minutes\n",
      "Skipped by N2 minutes: Subject shhs1-203643 with 0 N2 minutes\n",
      "Skipped by N2 minutes: Subject shhs1-205404 with 0 N2 minutes\n",
      "Skipped by N2 minutes: Subject shhs1-205483 with 57 N2 minutes\n",
      "Skipped by N2 minutes: Subject shhs1-205545 with 20 N2 minutes\n",
      "Skipped by N2 minutes: Subject shhs1-205547 with 49 N2 minutes\n",
      "Skipped by N2 minutes: Subject shhs1-205649 with 27 N2 minutes\n",
      "Skipped by N2 minutes: Subject shhs1-205708 with 54 N2 minutes\n",
      "Skipped by N2 minutes: Subject sof-visit-8-02027 with 23 N2 minutes\n",
      "Done.\n"
     ]
    }
   ],
   "source": [
    "min_n2_minutes = 60\n",
    "\n",
    "subject_ids = predictions.all_ids\n",
    "\n",
    "table_byevent = {\n",
    "    'subject_id': [],\n",
    "    'mark_id': [],\n",
    "    'duration': [], \n",
    "    'amplitude': [],\n",
    "    'sigma_to_beta': [],\n",
    "    'entropy': [],\n",
    "}\n",
    "table_bysubject = {\n",
    "    'subject_id': [], \n",
    "    'duration': [],\n",
    "    'amplitude': [],\n",
    "    'density': [], \n",
    "    'proba_event': [], \n",
    "    'n2_minutes': [], \n",
    "    'origin': [],\n",
    "    'age': [], \n",
    "    'female': [],\n",
    "    'pr_lacourse': [],\n",
    "    'pl_exponent': [],\n",
    "}\n",
    "for i in range(len(subject_ids)):\n",
    "    subject_id = subject_ids[i]\n",
    "    n2_pages = predictions.data[subject_id]['n2_pages']\n",
    "    n2_minutes = n2_pages.size * nsrr.original_page_duration / 60\n",
    "    \n",
    "    if n2_minutes < min_n2_minutes:\n",
    "        print(\"Skipped by N2 minutes: Subject %s with %d N2 minutes\" % (subject_id, n2_minutes))\n",
    "        continue\n",
    "    \n",
    "    marks = predictions.get_subject_stamps(subject_id)\n",
    "    n_marks = marks.shape[0]\n",
    "    \n",
    "    if n_marks == 0:\n",
    "        print(\"Zero Marks     : Subject %s with %d marks (%d N2 minutes)\" % (subject_id, n_marks, n2_minutes))\n",
    "        durations = np.zeros((0,), dtype=np.float32)\n",
    "        subject_proba = np.zeros((0,), dtype=np.float32)\n",
    "    else:\n",
    "        durations = (marks[:, 1] - marks[:, 0] + 1) / nsrr.fs\n",
    "        subject_proba = predictions.get_subject_stamps_probabilities(subject_id)\n",
    "\n",
    "    subject_mean_duration = np.mean(durations)\n",
    "    subject_density = n_marks / n2_minutes\n",
    "    subject_mean_proba = np.mean(subject_proba)\n",
    "    subdataset = subject_id[:-4]\n",
    "\n",
    "    subject_data = nsrr.read_subject_data(subject_id, exclusion_of_pages=False)\n",
    "    age = float(subject_data['age'].item())\n",
    "    female = int(subject_data['sex'].item() == 'f')\n",
    "    \n",
    "    # Get signal mark stuff\n",
    "    if n_marks == 0:\n",
    "        amplitudes = np.zeros((0,), dtype=np.float32)\n",
    "        sigma_to_beta = [np.nan]\n",
    "        entropies = [np.nan]\n",
    "    else:\n",
    "        signal = subject_data['signal']\n",
    "        filt_signal = param_filtering_fn(signal, nsrr.fs, constants.SPINDLE)\n",
    "        signal_events = [filt_signal[e[0]:e[1]+1] for e in marks]\n",
    "        amplitudes = np.array([param_amplitude_fn(s, nsrr.fs, constants.SPINDLE) for s in signal_events])\n",
    "        \n",
    "        # Sigma to beta (quality factor)\n",
    "        spindles = [signal[e[0]:e[1]+1] for e in marks]\n",
    "        sigma_to_beta = []\n",
    "        entropies = []\n",
    "        for sp in spindles:\n",
    "            f, y = fig_utils.get_fft_spectrum(sp, nsrr.fs, pad_to_duration=10, f_min=1, f_max=30, apply_hann_window=False)\n",
    "            this_sigma_to_beta = np.mean(y[(f >= 11) * (f <= 16)]) / np.mean(y[(f > 16) * (f <= 30)])\n",
    "            sigma_to_beta.append(this_sigma_to_beta)\n",
    "            \n",
    "            spectrum_subset = y[(f >= 11) * (f <= 30)]\n",
    "            spectrum_subset = spectrum_subset / spectrum_subset.sum()\n",
    "            spectrum_subset = spectrum_subset.astype(np.float64)\n",
    "            entropy = np.sum(-spectrum_subset * np.log(spectrum_subset + 1e-6))\n",
    "            entropies.append(entropy)\n",
    "            \n",
    "        \n",
    "    subject_mean_amplitude = np.mean(amplitudes)\n",
    "    \n",
    "    if n_marks == 0:\n",
    "        marks_id = [-1]\n",
    "        subject_ids_to_append = [subject_id]\n",
    "        durations = [np.nan]\n",
    "        amplitudes = [np.nan]\n",
    "    else:\n",
    "        marks_id = np.arange(durations.size)\n",
    "        subject_ids_to_append = [subject_id] * durations.size\n",
    "        \n",
    "    signal = subject_data['signal']\n",
    "    signal_n2 = signal.reshape(-1, nsrr.fs * nsrr.original_page_duration)[n2_pages].flatten()\n",
    "    freq, power = utils.power_spectrum_by_sliding_window(signal_n2, nsrr.fs, window_duration=5)\n",
    "    # Measure sigma peak ratio \n",
    "    sigma_power = power[(freq >= 11) & (freq <= 16)].mean()\n",
    "    broad_power = power[(freq >= 4.5) & (freq <= 30)].mean()\n",
    "    pr_lacourse = sigma_power / broad_power\n",
    "    # Measure power law exponent\n",
    "    locs_to_use = np.where(((freq >= 2) & (freq < 10)) | ((freq > 17) & (freq <= 30)))[0]\n",
    "    x_data = freq[locs_to_use]\n",
    "    y_data = power[locs_to_use]\n",
    "    log_x = np.log(x_data)\n",
    "    log_y = np.log(y_data)\n",
    "    pl_exponent, _, _, _, _ = scipy.stats.linregress(log_x, log_y)\n",
    "    \n",
    "    # Save\n",
    "    table_byevent['duration'].append(durations)\n",
    "    table_byevent['amplitude'].append(amplitudes)\n",
    "    table_byevent['subject_id'].append(subject_ids_to_append)\n",
    "    table_byevent['mark_id'].append(marks_id)\n",
    "    table_byevent['sigma_to_beta'].append(sigma_to_beta)\n",
    "    table_byevent['entropy'].append(entropies)\n",
    "    \n",
    "    table_bysubject['subject_id'].append(subject_id)\n",
    "    table_bysubject['duration'].append(subject_mean_duration)\n",
    "    table_bysubject['amplitude'].append(subject_mean_amplitude)\n",
    "    table_bysubject['density'].append(subject_density)\n",
    "    table_bysubject['proba_event'].append(subject_mean_proba)\n",
    "    table_bysubject['n2_minutes'].append(n2_minutes)\n",
    "    table_bysubject['origin'].append(subdataset)\n",
    "    table_bysubject['age'].append(age)\n",
    "    table_bysubject['female'].append(female)\n",
    "    table_bysubject['pr_lacourse'].append(pr_lacourse)\n",
    "    table_bysubject['pl_exponent'].append(pl_exponent)\n",
    "    \n",
    "for key in table_byevent:\n",
    "    table_byevent[key] = np.concatenate(table_byevent[key])\n",
    "table_byevent = pd.DataFrame.from_dict(table_byevent)\n",
    "table_bysubject = pd.DataFrame.from_dict(table_bysubject)\n",
    "print(\"Done.\")"
   ]
  },
  {
   "cell_type": "code",
   "execution_count": 6,
   "metadata": {},
   "outputs": [
    {
     "data": {
      "text/html": [
       "<div>\n",
       "<style scoped>\n",
       "    .dataframe tbody tr th:only-of-type {\n",
       "        vertical-align: middle;\n",
       "    }\n",
       "\n",
       "    .dataframe tbody tr th {\n",
       "        vertical-align: top;\n",
       "    }\n",
       "\n",
       "    .dataframe thead th {\n",
       "        text-align: right;\n",
       "    }\n",
       "</style>\n",
       "<table border=\"1\" class=\"dataframe\">\n",
       "  <thead>\n",
       "    <tr style=\"text-align: right;\">\n",
       "      <th></th>\n",
       "      <th>subject_id</th>\n",
       "      <th>mark_id</th>\n",
       "      <th>duration</th>\n",
       "      <th>amplitude</th>\n",
       "      <th>sigma_to_beta</th>\n",
       "      <th>entropy</th>\n",
       "    </tr>\n",
       "  </thead>\n",
       "  <tbody>\n",
       "    <tr>\n",
       "      <td>0</td>\n",
       "      <td>ccshs-trec-1800034</td>\n",
       "      <td>0</td>\n",
       "      <td>0.44</td>\n",
       "      <td>24.371809</td>\n",
       "      <td>4.515578</td>\n",
       "      <td>4.850695</td>\n",
       "    </tr>\n",
       "    <tr>\n",
       "      <td>1</td>\n",
       "      <td>ccshs-trec-1800034</td>\n",
       "      <td>1</td>\n",
       "      <td>0.72</td>\n",
       "      <td>28.900696</td>\n",
       "      <td>4.275740</td>\n",
       "      <td>4.856860</td>\n",
       "    </tr>\n",
       "    <tr>\n",
       "      <td>2</td>\n",
       "      <td>ccshs-trec-1800034</td>\n",
       "      <td>2</td>\n",
       "      <td>1.48</td>\n",
       "      <td>23.536839</td>\n",
       "      <td>0.421026</td>\n",
       "      <td>5.082756</td>\n",
       "    </tr>\n",
       "    <tr>\n",
       "      <td>3</td>\n",
       "      <td>ccshs-trec-1800034</td>\n",
       "      <td>3</td>\n",
       "      <td>0.60</td>\n",
       "      <td>26.453024</td>\n",
       "      <td>6.213959</td>\n",
       "      <td>4.745415</td>\n",
       "    </tr>\n",
       "    <tr>\n",
       "      <td>4</td>\n",
       "      <td>ccshs-trec-1800034</td>\n",
       "      <td>4</td>\n",
       "      <td>0.64</td>\n",
       "      <td>68.478527</td>\n",
       "      <td>7.569849</td>\n",
       "      <td>4.570531</td>\n",
       "    </tr>\n",
       "    <tr>\n",
       "      <td>...</td>\n",
       "      <td>...</td>\n",
       "      <td>...</td>\n",
       "      <td>...</td>\n",
       "      <td>...</td>\n",
       "      <td>...</td>\n",
       "      <td>...</td>\n",
       "    </tr>\n",
       "    <tr>\n",
       "      <td>192516</td>\n",
       "      <td>sof-visit-8-09666</td>\n",
       "      <td>32</td>\n",
       "      <td>0.40</td>\n",
       "      <td>23.096822</td>\n",
       "      <td>4.093372</td>\n",
       "      <td>4.801654</td>\n",
       "    </tr>\n",
       "    <tr>\n",
       "      <td>192517</td>\n",
       "      <td>sof-visit-8-09666</td>\n",
       "      <td>33</td>\n",
       "      <td>0.68</td>\n",
       "      <td>30.118468</td>\n",
       "      <td>3.218246</td>\n",
       "      <td>4.884056</td>\n",
       "    </tr>\n",
       "    <tr>\n",
       "      <td>192518</td>\n",
       "      <td>sof-visit-8-09666</td>\n",
       "      <td>34</td>\n",
       "      <td>0.36</td>\n",
       "      <td>26.908962</td>\n",
       "      <td>4.793505</td>\n",
       "      <td>4.830603</td>\n",
       "    </tr>\n",
       "    <tr>\n",
       "      <td>192519</td>\n",
       "      <td>sof-visit-8-09666</td>\n",
       "      <td>35</td>\n",
       "      <td>0.84</td>\n",
       "      <td>25.503003</td>\n",
       "      <td>6.211208</td>\n",
       "      <td>4.731753</td>\n",
       "    </tr>\n",
       "    <tr>\n",
       "      <td>192520</td>\n",
       "      <td>sof-visit-8-09666</td>\n",
       "      <td>36</td>\n",
       "      <td>0.72</td>\n",
       "      <td>39.440492</td>\n",
       "      <td>7.499857</td>\n",
       "      <td>4.551186</td>\n",
       "    </tr>\n",
       "  </tbody>\n",
       "</table>\n",
       "<p>192521 rows × 6 columns</p>\n",
       "</div>"
      ],
      "text/plain": [
       "                subject_id  mark_id  duration  amplitude  sigma_to_beta  \\\n",
       "0       ccshs-trec-1800034        0      0.44  24.371809       4.515578   \n",
       "1       ccshs-trec-1800034        1      0.72  28.900696       4.275740   \n",
       "2       ccshs-trec-1800034        2      1.48  23.536839       0.421026   \n",
       "3       ccshs-trec-1800034        3      0.60  26.453024       6.213959   \n",
       "4       ccshs-trec-1800034        4      0.64  68.478527       7.569849   \n",
       "...                    ...      ...       ...        ...            ...   \n",
       "192516   sof-visit-8-09666       32      0.40  23.096822       4.093372   \n",
       "192517   sof-visit-8-09666       33      0.68  30.118468       3.218246   \n",
       "192518   sof-visit-8-09666       34      0.36  26.908962       4.793505   \n",
       "192519   sof-visit-8-09666       35      0.84  25.503003       6.211208   \n",
       "192520   sof-visit-8-09666       36      0.72  39.440492       7.499857   \n",
       "\n",
       "         entropy  \n",
       "0       4.850695  \n",
       "1       4.856860  \n",
       "2       5.082756  \n",
       "3       4.745415  \n",
       "4       4.570531  \n",
       "...          ...  \n",
       "192516  4.801654  \n",
       "192517  4.884056  \n",
       "192518  4.830603  \n",
       "192519  4.731753  \n",
       "192520  4.551186  \n",
       "\n",
       "[192521 rows x 6 columns]"
      ]
     },
     "execution_count": 6,
     "metadata": {},
     "output_type": "execute_result"
    }
   ],
   "source": [
    "table_byevent"
   ]
  },
  {
   "cell_type": "code",
   "execution_count": 7,
   "metadata": {},
   "outputs": [
    {
     "data": {
      "text/html": [
       "<div>\n",
       "<style scoped>\n",
       "    .dataframe tbody tr th:only-of-type {\n",
       "        vertical-align: middle;\n",
       "    }\n",
       "\n",
       "    .dataframe tbody tr th {\n",
       "        vertical-align: top;\n",
       "    }\n",
       "\n",
       "    .dataframe thead th {\n",
       "        text-align: right;\n",
       "    }\n",
       "</style>\n",
       "<table border=\"1\" class=\"dataframe\">\n",
       "  <thead>\n",
       "    <tr style=\"text-align: right;\">\n",
       "      <th></th>\n",
       "      <th>subject_id</th>\n",
       "      <th>duration</th>\n",
       "      <th>amplitude</th>\n",
       "      <th>density</th>\n",
       "      <th>proba_event</th>\n",
       "      <th>n2_minutes</th>\n",
       "      <th>origin</th>\n",
       "      <th>age</th>\n",
       "      <th>female</th>\n",
       "      <th>pr_lacourse</th>\n",
       "      <th>pl_exponent</th>\n",
       "    </tr>\n",
       "  </thead>\n",
       "  <tbody>\n",
       "    <tr>\n",
       "      <td>0</td>\n",
       "      <td>ccshs-trec-1800034</td>\n",
       "      <td>1.116099</td>\n",
       "      <td>46.538635</td>\n",
       "      <td>4.969325</td>\n",
       "      <td>0.924815</td>\n",
       "      <td>163.0</td>\n",
       "      <td>ccshs-trec-180</td>\n",
       "      <td>17.40</td>\n",
       "      <td>1</td>\n",
       "      <td>1.859941</td>\n",
       "      <td>-1.279945</td>\n",
       "    </tr>\n",
       "    <tr>\n",
       "      <td>1</td>\n",
       "      <td>ccshs-trec-1800038</td>\n",
       "      <td>1.102703</td>\n",
       "      <td>39.584287</td>\n",
       "      <td>4.422989</td>\n",
       "      <td>0.884689</td>\n",
       "      <td>217.5</td>\n",
       "      <td>ccshs-trec-180</td>\n",
       "      <td>17.40</td>\n",
       "      <td>1</td>\n",
       "      <td>1.510728</td>\n",
       "      <td>-1.136783</td>\n",
       "    </tr>\n",
       "    <tr>\n",
       "      <td>2</td>\n",
       "      <td>ccshs-trec-1800065</td>\n",
       "      <td>0.955740</td>\n",
       "      <td>31.335450</td>\n",
       "      <td>3.038202</td>\n",
       "      <td>0.883258</td>\n",
       "      <td>222.5</td>\n",
       "      <td>ccshs-trec-180</td>\n",
       "      <td>17.68</td>\n",
       "      <td>1</td>\n",
       "      <td>1.522630</td>\n",
       "      <td>-1.228495</td>\n",
       "    </tr>\n",
       "    <tr>\n",
       "      <td>3</td>\n",
       "      <td>ccshs-trec-1800074</td>\n",
       "      <td>0.874654</td>\n",
       "      <td>40.135913</td>\n",
       "      <td>2.901869</td>\n",
       "      <td>0.874962</td>\n",
       "      <td>214.0</td>\n",
       "      <td>ccshs-trec-180</td>\n",
       "      <td>17.86</td>\n",
       "      <td>1</td>\n",
       "      <td>1.389635</td>\n",
       "      <td>-1.336513</td>\n",
       "    </tr>\n",
       "    <tr>\n",
       "      <td>4</td>\n",
       "      <td>ccshs-trec-1800078</td>\n",
       "      <td>0.834952</td>\n",
       "      <td>32.414402</td>\n",
       "      <td>2.630252</td>\n",
       "      <td>0.856754</td>\n",
       "      <td>238.0</td>\n",
       "      <td>ccshs-trec-180</td>\n",
       "      <td>17.77</td>\n",
       "      <td>0</td>\n",
       "      <td>1.328701</td>\n",
       "      <td>-1.223523</td>\n",
       "    </tr>\n",
       "    <tr>\n",
       "      <td>...</td>\n",
       "      <td>...</td>\n",
       "      <td>...</td>\n",
       "      <td>...</td>\n",
       "      <td>...</td>\n",
       "      <td>...</td>\n",
       "      <td>...</td>\n",
       "      <td>...</td>\n",
       "      <td>...</td>\n",
       "      <td>...</td>\n",
       "      <td>...</td>\n",
       "      <td>...</td>\n",
       "    </tr>\n",
       "    <tr>\n",
       "      <td>959</td>\n",
       "      <td>sof-visit-8-09018</td>\n",
       "      <td>0.717977</td>\n",
       "      <td>29.631529</td>\n",
       "      <td>1.266010</td>\n",
       "      <td>0.871988</td>\n",
       "      <td>203.0</td>\n",
       "      <td>sof-visit-8-0</td>\n",
       "      <td>81.00</td>\n",
       "      <td>1</td>\n",
       "      <td>1.184157</td>\n",
       "      <td>-1.137382</td>\n",
       "    </tr>\n",
       "    <tr>\n",
       "      <td>960</td>\n",
       "      <td>sof-visit-8-09036</td>\n",
       "      <td>0.728224</td>\n",
       "      <td>29.692975</td>\n",
       "      <td>0.924406</td>\n",
       "      <td>0.849786</td>\n",
       "      <td>231.5</td>\n",
       "      <td>sof-visit-8-0</td>\n",
       "      <td>81.00</td>\n",
       "      <td>1</td>\n",
       "      <td>1.160043</td>\n",
       "      <td>-1.204618</td>\n",
       "    </tr>\n",
       "    <tr>\n",
       "      <td>961</td>\n",
       "      <td>sof-visit-8-09614</td>\n",
       "      <td>0.948444</td>\n",
       "      <td>39.849900</td>\n",
       "      <td>0.497238</td>\n",
       "      <td>0.725876</td>\n",
       "      <td>90.5</td>\n",
       "      <td>sof-visit-8-0</td>\n",
       "      <td>83.00</td>\n",
       "      <td>1</td>\n",
       "      <td>1.132153</td>\n",
       "      <td>-1.082930</td>\n",
       "    </tr>\n",
       "    <tr>\n",
       "      <td>962</td>\n",
       "      <td>sof-visit-8-09627</td>\n",
       "      <td>0.699478</td>\n",
       "      <td>34.449030</td>\n",
       "      <td>1.079812</td>\n",
       "      <td>0.788725</td>\n",
       "      <td>106.5</td>\n",
       "      <td>sof-visit-8-0</td>\n",
       "      <td>82.00</td>\n",
       "      <td>1</td>\n",
       "      <td>1.140398</td>\n",
       "      <td>-1.177473</td>\n",
       "    </tr>\n",
       "    <tr>\n",
       "      <td>963</td>\n",
       "      <td>sof-visit-8-09666</td>\n",
       "      <td>0.663784</td>\n",
       "      <td>28.152031</td>\n",
       "      <td>0.143411</td>\n",
       "      <td>0.750320</td>\n",
       "      <td>258.0</td>\n",
       "      <td>sof-visit-8-0</td>\n",
       "      <td>86.00</td>\n",
       "      <td>1</td>\n",
       "      <td>1.074706</td>\n",
       "      <td>-1.166335</td>\n",
       "    </tr>\n",
       "  </tbody>\n",
       "</table>\n",
       "<p>964 rows × 11 columns</p>\n",
       "</div>"
      ],
      "text/plain": [
       "             subject_id  duration  amplitude   density  proba_event  \\\n",
       "0    ccshs-trec-1800034  1.116099  46.538635  4.969325     0.924815   \n",
       "1    ccshs-trec-1800038  1.102703  39.584287  4.422989     0.884689   \n",
       "2    ccshs-trec-1800065  0.955740  31.335450  3.038202     0.883258   \n",
       "3    ccshs-trec-1800074  0.874654  40.135913  2.901869     0.874962   \n",
       "4    ccshs-trec-1800078  0.834952  32.414402  2.630252     0.856754   \n",
       "..                  ...       ...        ...       ...          ...   \n",
       "959   sof-visit-8-09018  0.717977  29.631529  1.266010     0.871988   \n",
       "960   sof-visit-8-09036  0.728224  29.692975  0.924406     0.849786   \n",
       "961   sof-visit-8-09614  0.948444  39.849900  0.497238     0.725876   \n",
       "962   sof-visit-8-09627  0.699478  34.449030  1.079812     0.788725   \n",
       "963   sof-visit-8-09666  0.663784  28.152031  0.143411     0.750320   \n",
       "\n",
       "     n2_minutes          origin    age  female  pr_lacourse  pl_exponent  \n",
       "0         163.0  ccshs-trec-180  17.40       1     1.859941    -1.279945  \n",
       "1         217.5  ccshs-trec-180  17.40       1     1.510728    -1.136783  \n",
       "2         222.5  ccshs-trec-180  17.68       1     1.522630    -1.228495  \n",
       "3         214.0  ccshs-trec-180  17.86       1     1.389635    -1.336513  \n",
       "4         238.0  ccshs-trec-180  17.77       0     1.328701    -1.223523  \n",
       "..          ...             ...    ...     ...          ...          ...  \n",
       "959       203.0   sof-visit-8-0  81.00       1     1.184157    -1.137382  \n",
       "960       231.5   sof-visit-8-0  81.00       1     1.160043    -1.204618  \n",
       "961        90.5   sof-visit-8-0  83.00       1     1.132153    -1.082930  \n",
       "962       106.5   sof-visit-8-0  82.00       1     1.140398    -1.177473  \n",
       "963       258.0   sof-visit-8-0  86.00       1     1.074706    -1.166335  \n",
       "\n",
       "[964 rows x 11 columns]"
      ]
     },
     "execution_count": 7,
     "metadata": {},
     "output_type": "execute_result"
    }
   ],
   "source": [
    "table_bysubject"
   ]
  },
  {
   "cell_type": "code",
   "execution_count": 8,
   "metadata": {},
   "outputs": [
    {
     "data": {
      "image/png": "[encoded data removed]",
      "text/plain": [
       "<Figure size 432x288 with 6 Axes>"
      ]
     },
     "metadata": {
      "needs_background": "light"
     },
     "output_type": "display_data"
    }
   ],
   "source": [
    "# by-event stuff\n",
    "table_byevent.hist(bins=30)\n",
    "plt.tight_layout()\n",
    "plt.show()"
   ]
  },
  {
   "cell_type": "code",
   "execution_count": 9,
   "metadata": {},
   "outputs": [
    {
     "data": {
      "image/png": "[encoded data removed]",
      "text/plain": [
       "<Figure size 432x288 with 9 Axes>"
      ]
     },
     "metadata": {
      "needs_background": "light"
     },
     "output_type": "display_data"
    }
   ],
   "source": [
    "# by-subject stuff\n",
    "table_bysubject.hist(bins=20)\n",
    "plt.tight_layout()\n",
    "plt.show()"
   ]
  },
  {
   "cell_type": "markdown",
   "metadata": {},
   "source": [
    "# Check tendencies"
   ]
  },
  {
   "cell_type": "code",
   "execution_count": null,
   "metadata": {},
   "outputs": [],
   "source": [
    "a = (table_bysubject['n2_minutes'] * table_bysubject['density'])\n",
    "a[a <= 20].hist(bins=np.arange(0, 20 + 0.001, 1))\n",
    "plt.show()\n",
    "print(a.min())"
   ]
  },
  {
   "cell_type": "code",
   "execution_count": null,
   "metadata": {},
   "outputs": [],
   "source": [
    "zoom_density = 0.5\n",
    "\n",
    "table_zoom = table_bysubject[table_bysubject.density < zoom_density]\n",
    "table_zoom.hist()\n",
    "plt.tight_layout()\n",
    "plt.show()"
   ]
  },
  {
   "cell_type": "code",
   "execution_count": null,
   "metadata": {
    "scrolled": false
   },
   "outputs": [],
   "source": [
    "# correlations\n",
    "\n",
    "param_names = table_bysubject.select_dtypes(include=np.number).columns.tolist()\n",
    "n_params = len(param_names)\n",
    "n_plots = n_params * (n_params - 1) / 2\n",
    "n_cols = 5\n",
    "n_rows = int(np.ceil(n_plots / n_cols))\n",
    "\n",
    "fig, axes = plt.subplots(n_rows, n_cols, figsize=(n_cols * 2.5, n_rows* 2.5), dpi=100)\n",
    "axes = axes.flatten()\n",
    "global_count = -1\n",
    "for i in range(n_params):\n",
    "    for j in range(i + 1, n_params):\n",
    "        global_count += 1\n",
    "        ax = axes[global_count]\n",
    "        \n",
    "        x_data = table_bysubject[param_names[i]].values\n",
    "        y_data = table_bysubject[param_names[j]].values\n",
    "        \n",
    "        ax.plot(x_data, y_data, linestyle=\"none\", marker='o', markersize=3, alpha=0.1)\n",
    "        ax.set_xlabel(param_names[i], fontsize=8)\n",
    "        ax.set_ylabel(param_names[j], fontsize=8)\n",
    "        \n",
    "        ax.tick_params(labelsize=8)\n",
    "        ax.grid()\n",
    "plt.tight_layout()\n",
    "plt.show()"
   ]
  },
  {
   "cell_type": "code",
   "execution_count": null,
   "metadata": {},
   "outputs": [],
   "source": [
    "table_bysubject[table_bysubject.duration > 1.2]"
   ]
  },
  {
   "cell_type": "markdown",
   "metadata": {},
   "source": [
    "# Check by-event anomalies"
   ]
  },
  {
   "cell_type": "code",
   "execution_count": null,
   "metadata": {},
   "outputs": [],
   "source": [
    "# poor spindles\n",
    "subtable = table_byevent[table_byevent.sigma_to_beta < 2]\n",
    "\n",
    "unique_subjects = np.unique(subtable.subject_id)\n",
    "print(\"Unique subjects:\", len(unique_subjects))\n",
    "subtable.sort_values(by=[\"sigma_to_beta\"], ascending=True)"
   ]
  },
  {
   "cell_type": "code",
   "execution_count": null,
   "metadata": {},
   "outputs": [],
   "source": [
    "subtable.sigma_to_beta.hist()"
   ]
  },
  {
   "cell_type": "code",
   "execution_count": null,
   "metadata": {},
   "outputs": [],
   "source": [
    "# too long spindles\n",
    "subtable = table_byevent[table_byevent.duration > 2.95]\n",
    "\n",
    "unique_subjects = np.unique(subtable.subject_id)\n",
    "print(\"Unique subjects:\", len(unique_subjects))\n",
    "subtable.sort_values(by=[\"amplitude\"], ascending=False)"
   ]
  },
  {
   "cell_type": "code",
   "execution_count": null,
   "metadata": {},
   "outputs": [],
   "source": [
    "subtable.duration.hist()"
   ]
  },
  {
   "cell_type": "code",
   "execution_count": null,
   "metadata": {},
   "outputs": [],
   "source": [
    "# weird amplitudes\n",
    "cutoff = 0.1\n",
    "\n",
    "bottom_thr, upper_thr = np.percentile(table_byevent.amplitude.dropna().values, (cutoff, 100 - cutoff))\n",
    "print(\"Top %s%% PP amplitudes are larger than %1.4f uV\" % (cutoff, upper_thr))\n",
    "print(\"Bottom %s%% PP amplitudes are smaller than %1.4f uV\" % (cutoff, bottom_thr))"
   ]
  },
  {
   "cell_type": "code",
   "execution_count": null,
   "metadata": {},
   "outputs": [],
   "source": [
    "# too small spindles\n",
    "subtable = table_byevent[table_byevent.amplitude < 10]\n",
    "\n",
    "unique_subjects = np.unique(subtable.subject_id)\n",
    "print(\"Unique subjects:\", len(unique_subjects))\n",
    "subtable.sort_values(by=[\"amplitude\"], ascending=True)"
   ]
  },
  {
   "cell_type": "code",
   "execution_count": null,
   "metadata": {},
   "outputs": [],
   "source": [
    "subtable.amplitude.hist()"
   ]
  },
  {
   "cell_type": "code",
   "execution_count": null,
   "metadata": {},
   "outputs": [],
   "source": [
    "# too large spindles\n",
    "subtable = table_byevent[table_byevent.amplitude > 200]\n",
    "\n",
    "unique_subjects = np.unique(subtable.subject_id)\n",
    "print(\"Unique subjects:\", len(unique_subjects))\n",
    "subtable.sort_values(by=[\"amplitude\"], ascending=False)"
   ]
  },
  {
   "cell_type": "code",
   "execution_count": null,
   "metadata": {},
   "outputs": [],
   "source": [
    "subtable.amplitude.hist()"
   ]
  },
  {
   "cell_type": "code",
   "execution_count": 10,
   "metadata": {},
   "outputs": [
    {
     "name": "stdout",
     "output_type": "stream",
     "text": [
      "Unique subjects: 0\n"
     ]
    },
    {
     "data": {
      "text/html": [
       "<div>\n",
       "<style scoped>\n",
       "    .dataframe tbody tr th:only-of-type {\n",
       "        vertical-align: middle;\n",
       "    }\n",
       "\n",
       "    .dataframe tbody tr th {\n",
       "        vertical-align: top;\n",
       "    }\n",
       "\n",
       "    .dataframe thead th {\n",
       "        text-align: right;\n",
       "    }\n",
       "</style>\n",
       "<table border=\"1\" class=\"dataframe\">\n",
       "  <thead>\n",
       "    <tr style=\"text-align: right;\">\n",
       "      <th></th>\n",
       "      <th>subject_id</th>\n",
       "      <th>mark_id</th>\n",
       "      <th>duration</th>\n",
       "      <th>amplitude</th>\n",
       "      <th>sigma_to_beta</th>\n",
       "      <th>entropy</th>\n",
       "    </tr>\n",
       "  </thead>\n",
       "  <tbody>\n",
       "  </tbody>\n",
       "</table>\n",
       "</div>"
      ],
      "text/plain": [
       "Empty DataFrame\n",
       "Columns: [subject_id, mark_id, duration, amplitude, sigma_to_beta, entropy]\n",
       "Index: []"
      ]
     },
     "execution_count": 10,
     "metadata": {},
     "output_type": "execute_result"
    }
   ],
   "source": [
    "# too large spindles according to MODA stats (max encountered in entire MODA dataset)\n",
    "subtable = table_byevent[table_byevent.amplitude > 134.12087769782073]\n",
    "\n",
    "unique_subjects = np.unique(subtable.subject_id)\n",
    "print(\"Unique subjects:\", len(unique_subjects))\n",
    "subtable.sort_values(by=[\"amplitude\"], ascending=False)"
   ]
  },
  {
   "cell_type": "code",
   "execution_count": 11,
   "metadata": {},
   "outputs": [
    {
     "name": "stdout",
     "output_type": "stream",
     "text": [
      "Fraction of events affected: 0.0000%\n"
     ]
    },
    {
     "data": {
      "image/png": "[encoded data removed]",
      "text/plain": [
       "<Figure size 432x288 with 6 Axes>"
      ]
     },
     "metadata": {
      "needs_background": "light"
     },
     "output_type": "display_data"
    }
   ],
   "source": [
    "# fraction of spindles in this situation:\n",
    "n_outliers = len(subtable)\n",
    "n_total = len(table_byevent)\n",
    "fraction_outliers = 100 * n_outliers / n_total\n",
    "print(\"Fraction of events affected: %1.4f%%\" % fraction_outliers)\n",
    "\n",
    "subtable.hist()\n",
    "plt.tight_layout()\n",
    "plt.show()"
   ]
  },
  {
   "cell_type": "code",
   "execution_count": null,
   "metadata": {},
   "outputs": [],
   "source": [
    "table_byevent.hist()\n",
    "plt.tight_layout()\n",
    "plt.show()"
   ]
  },
  {
   "cell_type": "code",
   "execution_count": null,
   "metadata": {},
   "outputs": [],
   "source": [
    "fig, axes = plt.subplots(2, 4, figsize=(8, 3), dpi=200)\n",
    "table_byevent.drop(columns=[\"mark_id\"]).hist(ax=axes[0, :], bins=30)\n",
    "subtable.drop(columns=[\"mark_id\"]).hist(ax=axes[1, :], bins=10)\n",
    "\n",
    "axes[0, 0].set_xlim([0, 300])\n",
    "axes[1, 0].set_xlim([0, 300])\n",
    "\n",
    "axes[0, 1].set_xlim([0, 3])\n",
    "axes[1, 1].set_xlim([0, 3])\n",
    "\n",
    "axes[0, 2].set_xlim([3.5, 5.5])\n",
    "axes[1, 2].set_xlim([3.5, 5.5])\n",
    "\n",
    "axes[0, 3].set_xlim([0, 30])\n",
    "axes[1, 3].set_xlim([0, 30])\n",
    "\n",
    "for ax in axes.flatten():\n",
    "    ax.tick_params(labelsize=8)\n",
    "\n",
    "axes[0, 0].set_title(\"Amplitud PP ($\\mu$V)\", fontsize=9)\n",
    "axes[1, 0].set_title(\"Amplitud PP ($\\mu$V)\\n(anómalos)\", fontsize=9)\n",
    "\n",
    "axes[0, 1].set_title(\"Duración (s)\", fontsize=9)\n",
    "axes[1, 1].set_title(\"Duración (s)\\n(anómalos)\", fontsize=9)\n",
    "\n",
    "axes[0, 2].set_title(\"Entropía 11-30 Hz\", fontsize=9)\n",
    "axes[1, 2].set_title(\"Entropía 11-30 Hz\\n(anómalos)\", fontsize=9)\n",
    "\n",
    "axes[0, 3].set_title(\"Razón sigma:beta\", fontsize=9)\n",
    "axes[1, 3].set_title(\"Razón sigma:beta\\n(anómalos)\", fontsize=9)\n",
    "\n",
    "plt.tight_layout()\n",
    "plt.show()"
   ]
  },
  {
   "cell_type": "code",
   "execution_count": null,
   "metadata": {},
   "outputs": [],
   "source": [
    "subtable = table_byevent[table_byevent.amplitude <= 134.12087769782073]\n",
    "subtable.hist(bins=30)\n",
    "plt.tight_layout()\n",
    "plt.show()"
   ]
  },
  {
   "cell_type": "markdown",
   "metadata": {},
   "source": [
    "# Check by-subject anomalies"
   ]
  },
  {
   "cell_type": "code",
   "execution_count": 10,
   "metadata": {},
   "outputs": [
    {
     "name": "stdout",
     "output_type": "stream",
     "text": [
      "Dataset moda_ss with 180 patients.\n",
      "Loading from checkpoint... Loaded\n",
      "Global STD: None\n"
     ]
    }
   ],
   "source": [
    "# Check subjects with abnormal densities\n",
    "# MODA by-subject ranges (N=28)\n",
    "# Duration: 0.55 - 0.96 s aprox\n",
    "# Density: 0.8 - 8.7 epm aprox (if we count that subject with 2 events then the min is 0.1 epm)\n",
    "# Amplitude: 20 - 44 uV aprox\n",
    "# Frequency: 11.5 - 13.9 Hz aprox\n",
    "\n",
    "moda = load_dataset('moda_ss')\n",
    "subject_ids = moda.all_ids # [sub_id for sub_id in moda.all_ids if moda.data[sub_id]['n_blocks'] == 10]\n",
    "\n",
    "moda_table_bysubject = {\n",
    "    'subject_id': [],\n",
    "    'density': [],\n",
    "    'pr_lacourse': [],\n",
    "    # 'duration': [],\n",
    "    # 'amplitude': [],\n",
    "    # 'frequency': [],\n",
    "}\n",
    "\n",
    "for subject_id in subject_ids:\n",
    "    signal = moda.get_subject_signal(subject_id, normalize_clip=False)\n",
    "    marks = moda.get_subject_stamps(subject_id, pages_subset='n2')\n",
    "    n2_pages = moda.get_subject_pages(subject_id, pages_subset='n2')\n",
    "    n2_minutes = n2_pages.shape[0] * moda.page_duration / 60\n",
    "    density = marks.shape[0] / n2_minutes\n",
    "    \n",
    "    signal_n2 = signal.reshape(-1, moda.page_size)[n2_pages].flatten()\n",
    "    freq, power = utils.power_spectrum_by_sliding_window(signal_n2, moda.fs, window_duration=5)\n",
    "    # Measure sigma peak ratio \n",
    "    sigma_power = power[(freq >= 11) & (freq <= 16)].mean()\n",
    "    broad_power = power[(freq >= 4.5) & (freq <= 30)].mean()\n",
    "    pr_lacourse = sigma_power / broad_power\n",
    "    \n",
    "    moda_table_bysubject['subject_id'].append(subject_id)\n",
    "    moda_table_bysubject['density'].append(density)\n",
    "    moda_table_bysubject['pr_lacourse'].append(pr_lacourse)\n",
    "\n",
    "moda_table_bysubject = pd.DataFrame.from_dict(moda_table_bysubject)\n",
    "# moda_table_bysubject.sort_values(by=[\"density\"])"
   ]
  },
  {
   "cell_type": "code",
   "execution_count": 11,
   "metadata": {},
   "outputs": [
    {
     "data": {
      "image/png": "[encoded data removed]",
      "text/plain": [
       "<Figure size 432x288 with 2 Axes>"
      ]
     },
     "metadata": {
      "needs_background": "light"
     },
     "output_type": "display_data"
    }
   ],
   "source": [
    "moda_table_bysubject.hist()\n",
    "plt.show()"
   ]
  },
  {
   "cell_type": "code",
   "execution_count": 12,
   "metadata": {},
   "outputs": [
    {
     "data": {
      "image/png": "[encoded data removed]",
      "text/plain": [
       "<Figure size 480x480 with 1 Axes>"
      ]
     },
     "metadata": {
      "needs_background": "light"
     },
     "output_type": "display_data"
    }
   ],
   "source": [
    "fig, ax = plt.subplots(1, 1, figsize=(4, 4), dpi=120)\n",
    "ax.plot(\n",
    "    moda_table_bysubject.density.values, \n",
    "    moda_table_bysubject.pr_lacourse.values,\n",
    "    markersize=3,\n",
    "    marker='o',\n",
    "    linestyle=\"none\", \n",
    "    alpha=0.5)\n",
    "ax.axvline(0.2, linewidth=0.9, color=\"k\", linestyle=\"--\")\n",
    "ax.set_xlabel(\"Density (epm)\")\n",
    "ax.set_ylabel(\"PR Lacourse\")\n",
    "ax.set_title(\"MODA (N=%d)\" % len(moda_table_bysubject.density.values))\n",
    "plt.show()"
   ]
  },
  {
   "cell_type": "code",
   "execution_count": 16,
   "metadata": {},
   "outputs": [],
   "source": [
    "def simulated_mean_power(pl_exponent, freq_low, freq_high):\n",
    "    if pl_exponent == -1:\n",
    "        return np.log(freq_high / freq_low) / (freq_high - freq_low)\n",
    "    else:\n",
    "        return (freq_high ** (pl_exponent + 1) - freq_low ** (pl_exponent + 1)) / (pl_exponent + 1)"
   ]
  },
  {
   "cell_type": "code",
   "execution_count": 18,
   "metadata": {},
   "outputs": [
    {
     "data": {
      "image/png": "[encoded data removed]",
      "text/plain": [
       "<Figure size 432x288 with 1 Axes>"
      ]
     },
     "metadata": {
      "needs_background": "light"
     },
     "output_type": "display_data"
    },
    {
     "data": {
      "image/png": "[encoded data removed]",
      "text/plain": [
       "<Figure size 432x288 with 1 Axes>"
      ]
     },
     "metadata": {
      "needs_background": "light"
     },
     "output_type": "display_data"
    }
   ],
   "source": [
    "# simulated PR Lacourse when no sigma peak exists\n",
    "moda_power_law_exponent_min = -1.8909820062793914\n",
    "moda_power_law_exponent_max = -0.6304845212942357\n",
    "pl_exponent_l = np.arange(moda_power_law_exponent_min, moda_power_law_exponent_max + 0.001, 0.01)\n",
    "ratio_l = []\n",
    "for pl_exponent in pl_exponent_l:\n",
    "    freq = np.arange(0.1, 30 + 0.001, 0.01)\n",
    "    power = freq ** pl_exponent\n",
    "    # Measure sigma peak ratio \n",
    "    sigma_power = power[(freq >= 11) & (freq <= 16)].mean()\n",
    "    broad_power = power[(freq >= 4.5) & (freq <= 30)].mean()\n",
    "    pr_lacourse = sigma_power / broad_power\n",
    "    \n",
    "    # pr_lacourse = simulated_mean_power(pl_exponent, 11, 16) / simulated_mean_power(pl_exponent, 4.5, 30)\n",
    "    \n",
    "    ratio_l.append(pr_lacourse)\n",
    "\n",
    "plt.plot(ratio_l, pl_exponent_l)\n",
    "plt.xlabel(\"PR Lacourse\")\n",
    "plt.ylabel(\"Power Law Exponent\")\n",
    "plt.show()\n",
    "\n",
    "plt.hist(ratio_l, bins=20)\n",
    "plt.xlabel(\"PR Lacourse\")\n",
    "plt.show()"
   ]
  },
  {
   "cell_type": "code",
   "execution_count": 15,
   "metadata": {},
   "outputs": [
    {
     "data": {
      "image/png": "[encoded data removed]",
      "text/plain": [
       "<Figure size 960x480 with 2 Axes>"
      ]
     },
     "metadata": {
      "needs_background": "light"
     },
     "output_type": "display_data"
    }
   ],
   "source": [
    "# now nsrr\n",
    "fig, axes = plt.subplots(1, 2, figsize=(8, 4), dpi=120, sharex=True, sharey=True)\n",
    "ax = axes[0]\n",
    "ax.plot(\n",
    "    moda_table_bysubject.density.values, \n",
    "    moda_table_bysubject.pr_lacourse.values,\n",
    "    markersize=3,\n",
    "    marker='o',\n",
    "    linestyle=\"none\", \n",
    "    alpha=0.5)\n",
    "ax.axvline(0.2, linewidth=0.9, color=\"k\", linestyle=\"--\")\n",
    "ax.set_xlabel(\"Density (epm)\")\n",
    "ax.set_ylabel(\"PR Lacourse\")\n",
    "ax.set_title(\"MODA (N=%d)\" % len(moda_table_bysubject.density.values))\n",
    "ax = axes[1]\n",
    "ax.plot(\n",
    "    table_bysubject.density.values, \n",
    "    table_bysubject.pr_lacourse.values,\n",
    "    markersize=3,\n",
    "    marker='o',\n",
    "    linestyle=\"none\", \n",
    "    alpha=0.5)\n",
    "ax.axvline(0.2, linewidth=0.9, color=\"k\", linestyle=\"--\")\n",
    "ax.set_xlabel(\"Density (epm)\")\n",
    "ax.set_ylabel(\"PR Lacourse\")\n",
    "ax.set_title(\"NSRR (N=%d)\" % len(table_bysubject.density.values))\n",
    "plt.tight_layout()\n",
    "plt.show()"
   ]
  },
  {
   "cell_type": "markdown",
   "metadata": {},
   "source": [
    "# Check stats of all pages"
   ]
  },
  {
   "cell_type": "code",
   "execution_count": null,
   "metadata": {},
   "outputs": [],
   "source": [
    "page_stats = {\n",
    "    'scale': [],\n",
    "    'exponent': [],\n",
    "    'max_ratio': [],\n",
    "    'standard_deviation': [],\n",
    "    'r2': [],\n",
    "}\n",
    "\n",
    "for subject_id in tqdm(predictions.all_ids):\n",
    "    subject_data = nsrr.read_subject_data(subject_id, exclusion_of_pages=False)\n",
    "    sub_signal = subject_data['signal']\n",
    "    sub_pages = predictions.data[subject_id]['n2_pages']\n",
    "    \n",
    "    n2_minutes = sub_pages.size * nsrr.original_page_duration / 60\n",
    "    if n2_minutes < 60:\n",
    "        continue\n",
    "    \n",
    "    sub_signal = sub_signal.reshape(-1, nsrr.fs * nsrr.original_page_duration)[sub_pages]  # [n_pages, n_samples]\n",
    "    freq, pages_spectrum = utils.compute_pagewise_fft(sub_signal, nsrr.fs, window_duration=2)\n",
    "    pages_scales, pages_exponents = utils.compute_pagewise_powerlaw(freq, pages_spectrum)  # (n_pages,)\n",
    "    \n",
    "    # Deviation from power law\n",
    "    f_min = 2\n",
    "    f_max = 30\n",
    "    valid_locs = np.where((freq >= f_min) & (freq <= f_max))[0]\n",
    "    dev_f = freq[valid_locs]\n",
    "    dev_x = pages_spectrum[:, valid_locs]\n",
    "    dev_x_law = [fit_s * (dev_f ** fit_e) for fit_s, fit_e in zip(pages_scales, pages_exponents)]\n",
    "    dev_x_law = np.stack(dev_x_law, axis=0)\n",
    "    error = dev_x / dev_x_law  # n_pages, n_freqs\n",
    "    max_error = np.max(error, axis=1)  # to detect weird peaks, shape (n_pages,)\n",
    "    \n",
    "    # for r2, we remove sigma\n",
    "    valid_locs = np.where((dev_f < 10) | (dev_f > 17))[0]\n",
    "    dev_f = dev_f[valid_locs]\n",
    "    log_dev_x = np.log(dev_x[:, valid_locs])\n",
    "    log_dev_x_law = np.log(dev_x_law[:, valid_locs])\n",
    "    squared_data = np.sum((log_dev_x - log_dev_x.mean(axis=1).reshape(-1, 1)) ** 2, axis=1)\n",
    "    squared_residuals = np.sum((log_dev_x - log_dev_x_law) ** 2, axis=1)\n",
    "    r2 = 1 - squared_residuals / squared_data  # (n_pages,)\n",
    "    \n",
    "    page_stats['scale'].append(pages_scales)\n",
    "    page_stats['exponent'].append(pages_exponents)\n",
    "    page_stats['max_ratio'].append(max_error)\n",
    "    page_stats['standard_deviation'].append(sub_signal.std(axis=1))\n",
    "    page_stats['r2'].append(r2)\n",
    "\n",
    "for key in page_stats.keys():\n",
    "    page_stats[key] = np.concatenate(page_stats[key])\n",
    "    print(key, page_stats[key].shape)"
   ]
  },
  {
   "cell_type": "code",
   "execution_count": null,
   "metadata": {},
   "outputs": [],
   "source": [
    "fig, axes = plt.subplots(1, 5, figsize=(14, 4), dpi=120)\n",
    "for i_k, key in enumerate(page_stats.keys()):\n",
    "    ax = axes[i_k]\n",
    "    \n",
    "    value_vector = page_stats[key]\n",
    "    moda_value_vector = moda_page_stats[key]\n",
    "    \n",
    "    if key in ['scale', 'max_ratio', 'standard_deviation']:\n",
    "        value_vector = np.log(value_vector)\n",
    "        moda_value_vector = np.log(moda_value_vector)\n",
    "        name_str = 'log %s' % key\n",
    "    else:\n",
    "        name_str = key\n",
    "        \n",
    "    moda_min = moda_value_vector.min()\n",
    "    moda_max = moda_value_vector.max()\n",
    "    \n",
    "    # Count number of pages falling outside MODA ranges\n",
    "    n_inliers = np.sum((value_vector >= moda_min) * (value_vector <= moda_max))\n",
    "    n_total = value_vector.size\n",
    "    fraction_inliers = 100 * n_inliers / n_total\n",
    "    \n",
    "    ax.hist(value_vector, bins=50)\n",
    "    ax.set_title('NSRR\\n%s\\nMin %1.4f Max %1.4f\\n(MODA Min %1.4f Max %1.4f)\\nInliers: %1.2f%%' % (\n",
    "        name_str, value_vector.min(), value_vector.max(), moda_min, moda_max, fraction_inliers), fontsize=8)\n",
    "    ax.tick_params(labelsize=8)\n",
    "    ax.axvline(moda_min, color=\"k\", linestyle=\"--\", linewidth=0.8)\n",
    "    ax.axvline(moda_max, color=\"k\", linestyle=\"--\", linewidth=0.8)\n",
    "    ax.set_yticks([])\n",
    "plt.tight_layout()\n",
    "plt.show()"
   ]
  },
  {
   "cell_type": "code",
   "execution_count": null,
   "metadata": {},
   "outputs": [],
   "source": []
  },
  {
   "cell_type": "code",
   "execution_count": null,
   "metadata": {},
   "outputs": [],
   "source": []
  },
  {
   "cell_type": "code",
   "execution_count": null,
   "metadata": {},
   "outputs": [],
   "source": [
    "spectra = []\n",
    "all_std = []\n",
    "large_subjects = []\n",
    "origin_subject_id = []\n",
    "origin_page_id = []\n",
    "for subject_id in predictions.all_ids:\n",
    "    signal = nsrr.get_subject_signal(subject_id, normalize_clip=False)\n",
    "    n2_pages = predictions.data[subject_id]['n2_pages']\n",
    "    n2_minutes = n2_pages.size * nsrr.original_page_duration / 60\n",
    "    \n",
    "    if n2_minutes < 60:\n",
    "        continue\n",
    "    \n",
    "    x_pages = signal.reshape(-1, nsrr.original_page_duration * nsrr.fs)[n2_pages]\n",
    "    for i_n2, x in enumerate(x_pages):\n",
    "        freq, power = utils.power_spectrum_by_sliding_window(x, nsrr.fs, window_duration=2)\n",
    "        spectra.append(power)\n",
    "        this_std = x.std()\n",
    "        all_std.append(this_std)\n",
    "        origin_subject_id.append(subject_id)\n",
    "        origin_page_id.append(n2_pages[i_n2])\n",
    "        if this_std > 50:\n",
    "            large_subjects.append(subject_id)\n",
    "spectra = np.stack(spectra, axis=0)\n",
    "all_std = np.array(all_std)\n",
    "large_subjects = np.unique(large_subjects)\n",
    "origin_subject_id = np.array(origin_subject_id)\n",
    "origin_page_id = np.array(origin_page_id)\n",
    "print(\"Done\")\n",
    "print(spectra.shape, all_std.shape, large_subjects.shape)"
   ]
  },
  {
   "cell_type": "code",
   "execution_count": null,
   "metadata": {},
   "outputs": [],
   "source": [
    "# std hist\n",
    "fig, ax = plt.subplots(1, 1, figsize=(8, 3), dpi=100)\n",
    "ax.hist(all_std, bins=np.arange(0, 130 + 0.001, 2.5))\n",
    "ax.set_xticks(np.arange(0, 130 + 0.001, 10))\n",
    "ax.grid()\n",
    "plt.show()\n",
    "\n",
    "print(\"STD -- Min %1.4f, Mean %1.4f, Median %1.4f, Max %1.4f\" % (all_std.min(), all_std.mean(), np.median(all_std), all_std.max()))\n",
    "\n",
    "# Central 95% of pages\n",
    "# STD between 7.5 and 36.\n",
    "# Central 99% of pages\n",
    "# STD between 6.15 and 73.34\n",
    "\n",
    "prctl = 0.5\n",
    "print(\"STD -- Percentile %s: %1.4f\" % (prctl, np.percentile(all_std, prctl)))\n",
    "\n",
    "prctl = 99.5\n",
    "print(\"STD -- Percentile %s: %1.4f\" % (prctl, np.percentile(all_std, prctl)))\n",
    "print(np.sum(all_std > 50), all_std.size, 100 * np.sum(all_std > 50)/all_std.size)"
   ]
  },
  {
   "cell_type": "code",
   "execution_count": null,
   "metadata": {},
   "outputs": [],
   "source": [
    "valid_locs = np.where((freq >= 0.3) & (freq <= 30))[0]\n",
    "freq_short = freq[valid_locs]\n",
    "spectra_short = spectra[:, valid_locs]\n",
    "\n",
    "# Compute power law\n",
    "locs_to_use = np.where(freq_short >= 4)[0]\n",
    "x_data = freq_short[locs_to_use]\n",
    "y_data = spectra_short[350, locs_to_use]\n",
    "\n",
    "locs_no_sigma = np.where((x_data < 10) | (x_data > 17))[0]\n",
    "x_data_no_sigma = x_data[locs_no_sigma]\n",
    "y_data_no_sigma = y_data[locs_no_sigma]\n",
    "\n",
    "log_x = np.log(x_data_no_sigma)\n",
    "log_y = np.log(y_data_no_sigma)\n",
    "pl_exponent, pl_intercept, _, _, _ = scipy.stats.linregress(log_x,log_y)\n",
    "def fitted_power_law(x):\n",
    "    return (x ** pl_exponent) * np.exp(pl_intercept)\n",
    "print(pl_exponent, pl_intercept)\n",
    "\n",
    "fig, axes = plt.subplots(1, 2, figsize=(6, 3), dpi=140)\n",
    "\n",
    "ax = axes[0]\n",
    "ax.plot(x_data, y_data, linewidth=0.8)\n",
    "ax.plot(x_data_no_sigma, y_data_no_sigma, linewidth=0.8)\n",
    "ax.plot(x_data, fitted_power_law(x_data), linewidth=0.8)\n",
    "ax.set_xlim([3, 35])\n",
    "ax.tick_params(labelsize=8)\n",
    "ax.set_xlabel(\"Frequency (Hz)\", fontsize=8)\n",
    "\n",
    "ax = axes[1]\n",
    "ax.plot(x_data, y_data, linewidth=0.8)\n",
    "ax.plot(x_data_no_sigma, y_data_no_sigma, linewidth=0.8)\n",
    "ax.plot(x_data, fitted_power_law(x_data), linewidth=0.8)\n",
    "ax.set_xlim([3, 35])\n",
    "ax.set_xscale('log')\n",
    "ax.set_yscale('log')\n",
    "ax.tick_params(labelsize=8)\n",
    "ax.set_xlabel(\"Frequency (Hz)\", fontsize=8)\n",
    "plt.tight_layout()\n",
    "plt.show()"
   ]
  },
  {
   "cell_type": "code",
   "execution_count": null,
   "metadata": {},
   "outputs": [],
   "source": [
    "exponent_list = []\n",
    "for curve in spectra_short:\n",
    "    #Compute power law\n",
    "    locs_to_use = np.where(freq_short >= 4)[0]\n",
    "    x_data = freq_short[locs_to_use]\n",
    "    y_data = curve[locs_to_use]\n",
    "\n",
    "    locs_no_sigma = np.where((x_data < 10) | (x_data > 17))[0]\n",
    "    x_data_no_sigma = x_data[locs_no_sigma]\n",
    "    y_data_no_sigma = y_data[locs_no_sigma]\n",
    "    # Therefore we are considering frequencies 4-10 and 17-30 Hz for the power law.\n",
    "\n",
    "    log_x = np.log(x_data_no_sigma)\n",
    "    log_y = np.log(y_data_no_sigma)\n",
    "    pl_exponent, pl_intercept, _, _, _ = scipy.stats.linregress(log_x,log_y)\n",
    "    exponent_list.append(pl_exponent)\n",
    "exponent_list = np.array(exponent_list)"
   ]
  },
  {
   "cell_type": "code",
   "execution_count": null,
   "metadata": {},
   "outputs": [],
   "source": [
    "exponent_list.shape"
   ]
  },
  {
   "cell_type": "code",
   "execution_count": null,
   "metadata": {},
   "outputs": [],
   "source": [
    "mean_val = np.median(exponent_list)\n",
    "disp_val = scipy.stats.median_absolute_deviation(exponent_list)  # dispersion around median\n",
    "disp_width = 2.2\n",
    "\n",
    "lower_bound = mean_val - disp_width * disp_val\n",
    "upper_bound = mean_val + disp_width * disp_val\n",
    "\n",
    "n_inliers = np.sum((exponent_list >= lower_bound) * (exponent_list <= upper_bound))\n",
    "print(n_inliers, 100 * n_inliers / exponent_list.size)\n",
    "print(lower_bound, upper_bound)\n",
    "print(\"\")\n",
    "\n",
    "fig, ax = plt.subplots(1, 1, figsize=(4, 3), dpi=120)\n",
    "ax.hist(exponent_list, bins=50)\n",
    "ax.axvline(mean_val, color=\"k\", linestyle=\"--\", linewidth=1)\n",
    "ax.axvline(upper_bound, color=\"k\", linestyle=\"--\", linewidth=1)\n",
    "ax.axvline(lower_bound, color=\"k\", linestyle=\"--\", linewidth=1)\n",
    "ax.set_title(\"Mean %1.4f\" % mean_val)\n",
    "plt.show()\n",
    "\n",
    "for prct in [0, 0.5, 5, 95, 99.5, 100]:\n",
    "    value = np.percentile(exponent_list, prct)\n",
    "    print(\"Percentile %s is %1.4f\" % (prct, value))"
   ]
  },
  {
   "cell_type": "code",
   "execution_count": null,
   "metadata": {},
   "outputs": [],
   "source": [
    "valid_locs = np.where((freq >= 0.3) & (freq <= 30))[0]\n",
    "freq_short = freq[valid_locs]\n",
    "spectra_short = spectra[:, valid_locs]\n",
    "\n",
    "# Compute avg power of 2Hz freq bands\n",
    "all_p_avg = []\n",
    "all_f_avg = []\n",
    "start_freq = 0\n",
    "width = 2\n",
    "n_bands = int(np.ceil((freq_short.max() - start_freq) / width))\n",
    "for i_band in range(n_bands):\n",
    "    end_freq = start_freq + width\n",
    "    locs = np.where((f >= start_freq) & (f < end_freq))[0]\n",
    "    center_freq = (start_freq + end_freq)/2\n",
    "    start_freq = end_freq\n",
    "    if center_freq < 2:\n",
    "        continue\n",
    "    this_power = spectra_short[:, locs].mean(axis=1)\n",
    "    all_p_avg.append(this_power)\n",
    "    all_f_avg.append(center_freq)\n",
    "    \n",
    "all_f_avg = np.array(all_f_avg)\n",
    "all_p_avg = np.stack(all_p_avg, axis=1)\n",
    "\n",
    "fig, axes = plt.subplots(1, 2, figsize=(6, 3), dpi=200)\n",
    "\n",
    "ax = axes[0]\n",
    "prctl_results = np.percentile(all_p_avg, (0, 0.5, 25, 50, 75, 99.5, 100), axis=0)\n",
    "for curve in prctl_results:\n",
    "    ax.plot(all_f_avg, curve, linewidth=0.8, marker='o')\n",
    "ax.set_xlim([0.1, 35])\n",
    "ax.tick_params(labelsize=8)\n",
    "ax.set_xlabel(\"Frequency (Hz)\", fontsize=8)\n",
    "\n",
    "ax = axes[1]\n",
    "for curve in prctl_results:\n",
    "    ax.plot(all_f_avg, curve, linewidth=0.8, marker='o')\n",
    "ax.set_xlim([0.1, 35])\n",
    "ax.set_xscale('log')\n",
    "ax.set_yscale('log')\n",
    "ax.tick_params(labelsize=8)\n",
    "ax.set_xlabel(\"Frequency (Hz)\", fontsize=8)\n",
    "plt.tight_layout()\n",
    "plt.show()"
   ]
  },
  {
   "cell_type": "code",
   "execution_count": null,
   "metadata": {},
   "outputs": [],
   "source": [
    "valid_locs = np.where((freq >= 0.3) & (freq <= 30))[0]\n",
    "freq_short = freq[valid_locs]\n",
    "spectra_short = spectra[:, valid_locs]\n",
    "\n",
    "fig, axes = plt.subplots(1, 2, figsize=(6, 3), dpi=200)\n",
    "\n",
    "prctl_results = np.percentile(all_p_avg, (0.5, 99.5), axis=0)\n",
    "\n",
    "ax = axes[0]\n",
    "for curve in prctl_results:\n",
    "    ax.plot(all_f_avg, curve, linewidth=0.8, marker='o', markersize=3, color=\"b\")\n",
    "for curve in spectra_short[outliers_locs]:\n",
    "    ax.plot(freq_short, curve, linewidth=0.8, color=\"k\", alpha=0.1)\n",
    "ax.set_xlim([0.1, 35])\n",
    "ax.tick_params(labelsize=8)\n",
    "ax.set_xlabel(\"Frequency (Hz)\", fontsize=8)\n",
    "\n",
    "ax = axes[1]\n",
    "for curve in prctl_results:\n",
    "    ax.plot(all_f_avg, curve, linewidth=0.8, marker='o', markersize=3, color=\"b\")\n",
    "for curve in spectra_short[outliers_locs]:\n",
    "    ax.plot(freq_short, curve, linewidth=0.8, color=\"k\", alpha=0.1)\n",
    "ax.set_xlim([0.1, 35])\n",
    "ax.set_xscale('log')\n",
    "ax.set_yscale('log')\n",
    "ax.tick_params(labelsize=8)\n",
    "ax.set_xlabel(\"Frequency (Hz)\", fontsize=8)\n",
    "plt.tight_layout()\n",
    "plt.show()"
   ]
  },
  {
   "cell_type": "code",
   "execution_count": null,
   "metadata": {},
   "outputs": [],
   "source": [
    "loc = 350\n",
    "\n",
    "p = spectra_short[loc]\n",
    "f = freq_short\n",
    "# Compute avg power of 2Hz freq bands\n",
    "p_avg = []\n",
    "f_avg = []\n",
    "start_freq = 0\n",
    "width = 2\n",
    "n_bands = int(np.ceil((f.max() - start_freq) / width))\n",
    "for i_band in range(n_bands):\n",
    "    end_freq = start_freq + width\n",
    "    locs = np.where((f >= start_freq) & (f < end_freq))[0]\n",
    "    f_avg.append((start_freq + end_freq)/2)\n",
    "    p_avg.append(p[locs].mean())\n",
    "    start_freq = end_freq\n",
    "f_avg = np.array(f_avg)\n",
    "p_avg = np.array(p_avg)\n",
    "\n",
    "plt.plot(f, p)\n",
    "plt.plot(f_avg, p_avg, marker='o')\n",
    "print(f_avg)\n",
    "plt.title(\"Subject %s, page %d\" % (origin_subject_id[loc], origin_page_id[loc]))\n",
    "plt.show()\n",
    "print(\"Subject %s, page %d\" % (origin_subject_id[loc], origin_page_id[loc]))"
   ]
  },
  {
   "cell_type": "code",
   "execution_count": null,
   "metadata": {},
   "outputs": [],
   "source": [
    "lower_bound, upper_bound = np.percentile(all_p_avg, (0.5, 99.5), axis=0)\n",
    "print(\"Original: \", all_p_avg.shape)\n",
    "spectra_filt = []\n",
    "inliers_locs = []\n",
    "outliers_locs = []\n",
    "for i_page, spec_page in enumerate(all_p_avg):\n",
    "    if np.all(spec_page >= lower_bound) and np.all(spec_page <= upper_bound):\n",
    "        spectra_filt.append(spec_page)\n",
    "        inliers_locs.append(i_page)\n",
    "    else:\n",
    "        outliers_locs.append(i_page)\n",
    "spectra_filt = np.stack(spectra_filt, axis=0)\n",
    "print(\"Filtered:\", spectra_filt.shape)\n",
    "print(\"Percentage kept: %1.4f\" % (100 * spectra_filt.shape[0] / all_p_avg.shape[0]))"
   ]
  },
  {
   "cell_type": "markdown",
   "metadata": {},
   "source": [
    "# Check single subject"
   ]
  },
  {
   "cell_type": "code",
   "execution_count": null,
   "metadata": {},
   "outputs": [],
   "source": [
    "subject_id = 'shhs1-202398'  # 'shhs1-201480' #  'shhs1-200721'   # 'shhs1-201711'  # 'sof-visit-8-02332'\n",
    "\n",
    "print(\"subject %s\" % subject_id)\n",
    "subject_data = nsrr.read_subject_data(subject_id, exclusion_of_pages=False)\n",
    "signal = subject_data['signal']\n",
    "n2_pages = predictions.data[subject_id]['n2_pages']\n",
    "n2_minutes = n2_pages.size * nsrr.original_page_duration / 60\n",
    "marks = predictions.get_subject_stamps(subject_id, pages_subset='n2')\n",
    "proba = predictions.get_subject_probabilities(subject_id)\n",
    "proba_up = np.repeat(proba, 8)\n",
    "durations = (marks[:, 1] - marks[:, 0] + 1) / nsrr.fs\n",
    "\n",
    "print(\"Marks\", marks.shape)\n",
    "print(\"N2 minutes\", n2_minutes)\n",
    "\n",
    "plt.plot(signal)\n",
    "plt.show()"
   ]
  },
  {
   "cell_type": "code",
   "execution_count": null,
   "metadata": {},
   "outputs": [],
   "source": [
    "signal.size"
   ]
  },
  {
   "cell_type": "code",
   "execution_count": null,
   "metadata": {},
   "outputs": [],
   "source": [
    "3221848/200"
   ]
  },
  {
   "cell_type": "code",
   "execution_count": null,
   "metadata": {},
   "outputs": [],
   "source": [
    "n2_pages"
   ]
  },
  {
   "cell_type": "code",
   "execution_count": null,
   "metadata": {},
   "outputs": [],
   "source": [
    "mark_selected = None  # marks[17]\n",
    "\n",
    "center_sample = int((536 + 0.5) * 30 * 200) # mark_selected.mean()  # int((199 + 0.5) * 30 * 200) # mark_selected.mean()\n",
    "\n",
    "window_duration = 30\n",
    "window_size = nsrr.fs * window_duration\n",
    "start_sample = int(center_sample - window_size // 2)\n",
    "end_sample = int(start_sample + window_size)\n",
    "time_axis = np.arange(start_sample, end_sample) / nsrr.fs\n",
    "\n",
    "fig, ax = plt.subplots(1, 1, figsize=(12, 2.5), dpi=140)\n",
    "\n",
    "ax.plot(time_axis, signal[start_sample:end_sample], linewidth=.6)\n",
    "\n",
    "if mark_selected is not None:\n",
    "    ax.plot(mark_selected / nsrr.fs, [-100, -100], linewidth=4, color=viz.PALETTE['red'], alpha=0.7)\n",
    "\n",
    "ax.fill_between(\n",
    "    time_axis, \n",
    "    -300 - 50 * proba_up[start_sample:end_sample], \n",
    "    -300 + 50 * proba_up[start_sample:end_sample],\n",
    "    color=viz.PALETTE['red'], alpha=1.0\n",
    ")\n",
    "ax.axhline(-300 - 50, linewidth=0.7, linestyle=\"-\", color=\"k\")\n",
    "ax.axhline(-300 + 50, linewidth=0.7, linestyle=\"-\", color=\"k\")\n",
    "ax.axhline(-300 - 25, linewidth=0.7, linestyle=\"--\", color=\"k\")\n",
    "ax.axhline(-300 + 25, linewidth=0.7, linestyle=\"--\", color=\"k\")\n",
    "ax.axhline(-300 + 0, linewidth=0.7, linestyle=\"-\", color=\"k\")\n",
    "\n",
    "ax.set_ylim([-400, 200])\n",
    "ax.set_xlim([start_sample/nsrr.fs, end_sample/nsrr.fs])\n",
    "\n",
    "ax.grid()\n",
    "ax.set_xlabel(\"Time (s)\", fontsize=8)\n",
    "ax.tick_params(labelsize=8)\n",
    "\n",
    "page_std = signal[start_sample:end_sample].std()\n",
    "\n",
    "ax.set_title(\"Subject %s (Age %1.4f, Sex %s). Page STD %1.4f\" % (\n",
    "    subject_id, subject_data['age'], subject_data['sex'], page_std\n",
    "))\n",
    "\n",
    "plt.tight_layout()\n",
    "plt.show()\n",
    "\n",
    "print(\"Page STD: %1.4f\" % page_std)\n",
    "\n",
    "# Compute spectrum of page\n",
    "freq, power = utils.power_spectrum_by_sliding_window(signal[start_sample:end_sample], nsrr.fs, window_duration=2)\n",
    "valid_locs = np.where((freq >= 0.3) & (freq <= 30))[0]\n",
    "freq = freq[valid_locs]\n",
    "power = power[valid_locs]\n",
    "\n",
    "locs_to_use = np.where(freq >= 2)[0]\n",
    "x_data = freq[locs_to_use]\n",
    "y_data = power[locs_to_use]\n",
    "locs_no_sigma = np.where((x_data < 10) | (x_data > 17))[0]\n",
    "x_data_no_sigma = x_data[locs_no_sigma]\n",
    "y_data_no_sigma = y_data[locs_no_sigma]\n",
    "log_x = np.log(x_data_no_sigma)\n",
    "log_y = np.log(y_data_no_sigma)\n",
    "pl_exponent, pl_intercept, _, _, _ = scipy.stats.linregress(log_x,log_y)\n",
    "def fitted_power_law(x):\n",
    "    return (x ** pl_exponent) * np.exp(pl_intercept)\n",
    "print(pl_exponent, pl_intercept)\n",
    "\n",
    "fig, axes = plt.subplots(1, 2, figsize=(6, 2), dpi=100)\n",
    "\n",
    "ax = axes[0]\n",
    "ax.plot(freq, power)\n",
    "ax.set_xlim([0.1, 30])\n",
    "ax.tick_params(labelsize=8)\n",
    "ax.set_xlabel(\"Frequency (Hz)\", fontsize=8)\n",
    "\n",
    "ax = axes[1]\n",
    "ax.plot(freq, power)\n",
    "ax.plot(freq, fitted_power_law(freq))\n",
    "ax.set_xlim([0.1, 30])\n",
    "ax.set_xscale('log')\n",
    "ax.set_yscale('log')\n",
    "ax.tick_params(labelsize=8)\n",
    "ax.set_xlabel(\"Frequency (Hz)\", fontsize=8)\n",
    "ax.set_title(\"Exponent %1.4f\" % (pl_exponent), fontsize=8)\n",
    "plt.tight_layout()\n",
    "plt.show()\n",
    "\n",
    "if mark_selected is not None:\n",
    "    # Spindle spectral quality\n",
    "    spindle = signal[mark_selected[0]:mark_selected[1]+1]\n",
    "    f, y = fig_utils.get_fft_spectrum(spindle, nsrr.fs, pad_to_duration=10, f_min=1, f_max=30, apply_hann_window=False)\n",
    "    sigma_to_beta = np.mean(y[(f >= 11) * (f <= 16)]) / np.mean(y[(f >= 16) * (f <= 30)])\n",
    "    print(\"Sigma to beta\", sigma_to_beta)\n",
    "\n",
    "    spectrum_subset = y[(f >= 11) * (f <= 30)]\n",
    "    spectrum_subset = spectrum_subset / spectrum_subset.sum()\n",
    "    entropy = np.sum(-spectrum_subset * np.log(spectrum_subset + 1e-6))\n",
    "    print(\"Entropy:\", entropy)\n",
    "\n",
    "    fig, axes = plt.subplots(1, 2, figsize=(8, 3), dpi=80)\n",
    "    axes[0].plot(np.arange(spindle.size) / nsrr.fs, spindle)\n",
    "    axes[0].set_ylim([-100, 100])\n",
    "    axes[1].plot(f, y)\n",
    "    plt.tight_layout()\n",
    "    plt.show()"
   ]
  },
  {
   "cell_type": "code",
   "execution_count": null,
   "metadata": {
    "scrolled": false
   },
   "outputs": [],
   "source": [
    "# Sanity check\n",
    "diff_l = []\n",
    "for subject_id in predictions.all_ids:\n",
    "    n2_pages = predictions.data[subject_id]['n2_pages']\n",
    "    if n2_pages.size == 0:\n",
    "        continue\n",
    "    subject_data = nsrr.read_subject_data(subject_id, exclusion_of_pages=False)\n",
    "    signal = subject_data['signal']\n",
    "    last_n2 = n2_pages.max()\n",
    "    last_page = signal.size / (nsrr.original_page_duration * nsrr.fs) - 1\n",
    "    diff = last_page - last_n2\n",
    "    diff_l.append(diff)\n",
    "diff_l = np.array(diff_l)\n",
    "print(\"Min diff is\", diff_l.min())"
   ]
  },
  {
   "cell_type": "code",
   "execution_count": null,
   "metadata": {},
   "outputs": [],
   "source": []
  }
 ],
 "metadata": {
  "kernelspec": {
   "display_name": "Python 3",
   "language": "python",
   "name": "python3"
  },
  "language_info": {
   "codemirror_mode": {
    "name": "ipython",
    "version": 3
   },
   "file_extension": ".py",
   "mimetype": "text/x-python",
   "name": "python",
   "nbconvert_exporter": "python",
   "pygments_lexer": "ipython3",
   "version": "3.6.9"
  }
 },
 "nbformat": 4,
 "nbformat_minor": 2
}
