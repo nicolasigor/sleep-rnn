{
 "cells": [
  {
   "cell_type": "code",
   "execution_count": 1,
   "metadata": {},
   "outputs": [
    {
     "name": "stderr",
     "output_type": "stream",
     "text": [
      "/home/ntapia/miniconda3/envs/tf/lib/python3.6/importlib/_bootstrap.py:219: RuntimeWarning: numpy.ufunc size changed, may indicate binary incompatibility. Expected 192 from C header, got 216 from PyObject\n",
      "  return f(*args, **kwds)\n"
     ]
    },
    {
     "data": {
      "text/html": [
       "<style>.container { width:100% !important; }</style>"
      ],
      "text/plain": [
       "<IPython.core.display.HTML object>"
      ]
     },
     "metadata": {},
     "output_type": "display_data"
    }
   ],
   "source": [
    "import os\n",
    "import sys\n",
    "import pickle\n",
    "\n",
    "PROJECT_ROOT = os.path.abspath('..')\n",
    "sys.path.append(PROJECT_ROOT)\n",
    "\n",
    "import numpy as np\n",
    "import matplotlib.pyplot as plt\n",
    "import pandas as pd\n",
    "import scipy\n",
    "from tqdm import tqdm\n",
    "\n",
    "from sleeprnn.helpers.reader import load_dataset\n",
    "from sleeprnn.common import constants, viz, pkeys\n",
    "from sleeprnn.data import utils, stamp_correction\n",
    "from sleeprnn.detection.postprocessor import PostProcessor\n",
    "from sleeprnn.detection.predicted_dataset import PredictedDataset\n",
    "from sleeprnn.detection.feeder_dataset import FeederDataset\n",
    "from sleeprnn.detection import det_utils\n",
    "from figs_thesis import fig_utils\n",
    "\n",
    "viz.notebook_full_width()\n",
    "\n",
    "param_filtering_fn = fig_utils.get_filtered_signal_for_event\n",
    "param_frequency_fn = fig_utils.get_frequency_by_fft\n",
    "param_amplitude_fn = fig_utils.get_amplitude_event\n",
    "\n",
    "RESULTS_PATH = os.path.join(PROJECT_ROOT, 'results')"
   ]
  },
  {
   "cell_type": "markdown",
   "metadata": {},
   "source": [
    "# Max amplitude preliminaries (MASS-KC)"
   ]
  },
  {
   "cell_type": "code",
   "execution_count": null,
   "metadata": {},
   "outputs": [],
   "source": [
    "mass = load_dataset('mass_kc')\n",
    "signals = mass.get_signals(normalize_clip=False)\n",
    "marks = mass.get_stamps(pages_subset='n2')"
   ]
  },
  {
   "cell_type": "code",
   "execution_count": null,
   "metadata": {},
   "outputs": [],
   "source": [
    "all_kc_min = []\n",
    "all_kc_max = []\n",
    "for sub_signal, sub_marks in zip(signals, marks):\n",
    "    kc = [sub_signal[m[0]:m[1]+1] for m in sub_marks]\n",
    "    kc_min = np.array([np.min(s) for s in kc])\n",
    "    kc_max = np.array([np.max(s) for s in kc])\n",
    "    all_kc_min.append(kc_min)\n",
    "    all_kc_max.append(kc_max)\n",
    "all_kc_min = np.concatenate(all_kc_min)\n",
    "all_kc_max = np.concatenate(all_kc_max)\n",
    "print(all_kc_min.shape, all_kc_max.shape)"
   ]
  },
  {
   "cell_type": "code",
   "execution_count": null,
   "metadata": {
    "scrolled": true
   },
   "outputs": [],
   "source": [
    "fig, axes = plt.subplots(1, 2, figsize=(6, 3), dpi=100)\n",
    "ax = axes[0]\n",
    "ax.hist(all_kc_min)\n",
    "ax.set_title(\"Neg Peak\")\n",
    "ax = axes[1]\n",
    "ax.hist(all_kc_max)\n",
    "ax.set_title(\"Pos Peak\")\n",
    "plt.tight_layout()\n",
    "plt.show()\n",
    "\n",
    "prct = 98\n",
    "\n",
    "print(\"Negative Peak prct %d: %1.4f uV\" % (prct, np.percentile(all_kc_min, 100-prct)))\n",
    "print(\"Positive Peak prct %d: %1.4f uV\" % (prct, np.percentile(all_kc_max, prct)))"
   ]
  },
  {
   "cell_type": "markdown",
   "metadata": {},
   "source": [
    "# Signal parameters preliminaries (MODA)"
   ]
  },
  {
   "cell_type": "code",
   "execution_count": 2,
   "metadata": {},
   "outputs": [
    {
     "name": "stdout",
     "output_type": "stream",
     "text": [
      "Dataset moda_ss with 180 patients.\n",
      "Loading from checkpoint... "
     ]
    },
    {
     "name": "stderr",
     "output_type": "stream",
     "text": [
      "6it [00:00, 59.54it/s]"
     ]
    },
    {
     "name": "stdout",
     "output_type": "stream",
     "text": [
      "Loaded\n",
      "Global STD: None\n"
     ]
    },
    {
     "name": "stderr",
     "output_type": "stream",
     "text": [
      "180it [00:02, 86.12it/s] "
     ]
    },
    {
     "name": "stdout",
     "output_type": "stream",
     "text": [
      "scale (4494,)\n",
      "exponent (4494,)\n",
      "max_ratio (4494,)\n",
      "standard_deviation (4494,)\n",
      "r2 (4494,)\n"
     ]
    },
    {
     "name": "stderr",
     "output_type": "stream",
     "text": [
      "\n"
     ]
    }
   ],
   "source": [
    "moda = load_dataset('moda_ss')\n",
    "signals = moda.get_signals(normalize_clip=False)\n",
    "pages = moda.get_pages(pages_subset='n2')\n",
    "\n",
    "moda_page_stats = {\n",
    "    'scale': [],\n",
    "    'exponent': [],\n",
    "    'max_ratio': [],\n",
    "    'standard_deviation': [],\n",
    "    'r2': [],\n",
    "}\n",
    "\n",
    "for sub_signal, sub_pages in tqdm(zip(signals, pages)):\n",
    "    sub_signal = sub_signal.reshape(-1, moda.fs * moda.page_duration)[sub_pages]  # [n_pages, n_samples]\n",
    "    freq, pages_spectrum = utils.compute_pagewise_fft(sub_signal, moda.fs, window_duration=2)\n",
    "    pages_scales, pages_exponents = utils.compute_pagewise_powerlaw(freq, pages_spectrum)  # (n_pages,)\n",
    "    \n",
    "    # Deviation from power law\n",
    "    f_min = 2\n",
    "    f_max = 30\n",
    "    valid_locs = np.where((freq >= f_min) & (freq <= f_max))[0]\n",
    "    dev_f = freq[valid_locs]\n",
    "    dev_x = pages_spectrum[:, valid_locs]\n",
    "    dev_x_law = [fit_s * (dev_f ** fit_e) for fit_s, fit_e in zip(pages_scales, pages_exponents)]\n",
    "    dev_x_law = np.stack(dev_x_law, axis=0)\n",
    "    error = dev_x / dev_x_law  # n_pages, n_freqs\n",
    "    max_error = np.max(error, axis=1)  # to detect weird peaks, shape (n_pages,)\n",
    "    \n",
    "    # for r2, we remove sigma\n",
    "    valid_locs = np.where((dev_f < 10) | (dev_f > 17))[0]\n",
    "    dev_f = dev_f[valid_locs]\n",
    "    log_dev_x = np.log(dev_x[:, valid_locs])\n",
    "    log_dev_x_law = np.log(dev_x_law[:, valid_locs])\n",
    "    squared_data = np.sum((log_dev_x - log_dev_x.mean(axis=1).reshape(-1, 1)) ** 2, axis=1)\n",
    "    squared_residuals = np.sum((log_dev_x - log_dev_x_law) ** 2, axis=1)\n",
    "    r2 = 1 - squared_residuals / squared_data  # (n_pages,)\n",
    "    \n",
    "    moda_page_stats['scale'].append(pages_scales)\n",
    "    moda_page_stats['exponent'].append(pages_exponents)\n",
    "    moda_page_stats['max_ratio'].append(max_error)\n",
    "    moda_page_stats['standard_deviation'].append(sub_signal.std(axis=1))\n",
    "    moda_page_stats['r2'].append(r2)\n",
    "\n",
    "for key in moda_page_stats.keys():\n",
    "    moda_page_stats[key] = np.concatenate(moda_page_stats[key])\n",
    "    print(key, moda_page_stats[key].shape)"
   ]
  },
  {
   "cell_type": "code",
   "execution_count": 3,
   "metadata": {},
   "outputs": [
    {
     "name": "stdout",
     "output_type": "stream",
     "text": [
      "scale 1.2120386356729853 34.88810450777444\n",
      "exponent -1.8909820062793914 -0.6304845212942357\n",
      "max_ratio 1.3373466066438329 8.041562207454062\n",
      "standard_deviation 5.0895143 37.46395\n",
      "r2 0.6995619824694014 0.9837734660788804\n"
     ]
    },
    {
     "data": {
      "image/png": "[encoded data removed]",
      "text/plain": [
       "<Figure size 1680x480 with 5 Axes>"
      ]
     },
     "metadata": {
      "needs_background": "light"
     },
     "output_type": "display_data"
    }
   ],
   "source": [
    "fig, axes = plt.subplots(1, 5, figsize=(14, 4), dpi=120)\n",
    "for i_k, key in enumerate(moda_page_stats.keys()):\n",
    "    ax = axes[i_k]\n",
    "    ax.hist(moda_page_stats[key], bins=20)\n",
    "    ax.set_title('MODA\\n%s. Min %1.4f Max %1.4f' % (key, moda_page_stats[key].min(), moda_page_stats[key].max()), fontsize=8)\n",
    "    print(key, moda_page_stats[key].min(), moda_page_stats[key].max())\n",
    "    ax.tick_params(labelsize=8)\n",
    "plt.tight_layout()\n",
    "plt.show()"
   ]
  },
  {
   "cell_type": "markdown",
   "metadata": {},
   "source": [
    "# NSRR EXPLORATION"
   ]
  },
  {
   "cell_type": "code",
   "execution_count": 4,
   "metadata": {},
   "outputs": [],
   "source": [
    "nsrr_preds = fig_utils.PredictedNSRR()"
   ]
  },
  {
   "cell_type": "code",
   "execution_count": 5,
   "metadata": {},
   "outputs": [
    {
     "name": "stdout",
     "output_type": "stream",
     "text": [
      "Dataset nsrr_ss with 3 patients.\n",
      "Loading from checkpoint... Loaded\n",
      "Global STD: None\n",
      "Dataset nsrr_ss with 11593 patients.\n"
     ]
    }
   ],
   "source": [
    "nsrr = load_dataset(constants.NSRR_SS_NAME, load_checkpoint=True)"
   ]
  },
  {
   "cell_type": "markdown",
   "metadata": {},
   "source": [
    "# Reproducción de tendencias"
   ]
  },
  {
   "cell_type": "code",
   "execution_count": 6,
   "metadata": {},
   "outputs": [
    {
     "name": "stdout",
     "output_type": "stream",
     "text": [
      "Loaded predictions for 1000 subjects\n"
     ]
    }
   ],
   "source": [
    "n_folds = 10\n",
    "\n",
    "fold_ids_list = np.arange(n_folds)\n",
    "predictions = nsrr_preds.get_predictions(fold_ids_list, nsrr)\n",
    "\n",
    "print(\"Loaded predictions for %d subjects\" % (len(predictions.all_ids)))"
   ]
  },
  {
   "cell_type": "code",
   "execution_count": 7,
   "metadata": {},
   "outputs": [
    {
     "name": "stdout",
     "output_type": "stream",
     "text": [
      "Skipped by N2 minutes: Subject cfs-visit5-800280 with 13 N2 minutes\n",
      "Skipped by N2 minutes: Subject cfs-visit5-800393 with 1 N2 minutes\n",
      "Skipped by N2 minutes: Subject chat-baseline-300365 with 0 N2 minutes\n",
      "Skipped by N2 minutes: Subject chat-baseline-300805 with 47 N2 minutes\n",
      "Skipped by N2 minutes: Subject chat-baseline-300915 with 36 N2 minutes\n",
      "Skipped by N2 minutes: Subject chat-baseline-301091 with 32 N2 minutes\n",
      "Skipped by N2 minutes: Subject chat-baseline-301108 with 53 N2 minutes\n",
      "Skipped by N2 minutes: Subject chat-baseline-nonrandomized-300060 with 56 N2 minutes\n",
      "Skipped by N2 minutes: Subject chat-baseline-nonrandomized-300521 with 0 N2 minutes\n",
      "Skipped by N2 minutes: Subject chat-baseline-nonrandomized-300607 with 0 N2 minutes\n",
      "Skipped by N2 minutes: Subject chat-baseline-nonrandomized-300775 with 49 N2 minutes\n",
      "Skipped by N2 minutes: Subject mros-visit1-aa0121 with 9 N2 minutes\n",
      "Skipped by N2 minutes: Subject mros-visit1-aa0965 with 15 N2 minutes\n",
      "Skipped by N2 minutes: Subject mros-visit1-aa4895 with 45 N2 minutes\n",
      "Skipped by N2 minutes: Subject mros-visit1-aa5622 with 10 N2 minutes\n",
      "Skipped by N2 minutes: Subject shhs1-200489 with 24 N2 minutes\n",
      "Skipped by Marks     : Subject shhs1-200721 with 0 marks (87 N2 minutes)\n",
      "Skipped by N2 minutes: Subject shhs1-201581 with 0 N2 minutes\n",
      "Skipped by N2 minutes: Subject shhs1-201711 with 0 N2 minutes\n",
      "Skipped by N2 minutes: Subject shhs1-201788 with 28 N2 minutes\n",
      "Skipped by N2 minutes: Subject shhs1-202005 with 20 N2 minutes\n",
      "Skipped by N2 minutes: Subject shhs1-202274 with 59 N2 minutes\n",
      "Skipped by N2 minutes: Subject shhs1-202418 with 0 N2 minutes\n",
      "Skipped by N2 minutes: Subject shhs1-202444 with 37 N2 minutes\n",
      "Skipped by N2 minutes: Subject shhs1-202456 with 0 N2 minutes\n",
      "Skipped by N2 minutes: Subject shhs1-202519 with 0 N2 minutes\n",
      "Skipped by N2 minutes: Subject shhs1-202616 with 28 N2 minutes\n",
      "Skipped by N2 minutes: Subject shhs1-203313 with 50 N2 minutes\n",
      "Skipped by N2 minutes: Subject shhs1-203474 with 39 N2 minutes\n",
      "Skipped by N2 minutes: Subject shhs1-203643 with 0 N2 minutes\n",
      "Skipped by N2 minutes: Subject shhs1-205404 with 0 N2 minutes\n",
      "Skipped by N2 minutes: Subject shhs1-205483 with 57 N2 minutes\n",
      "Skipped by N2 minutes: Subject shhs1-205545 with 20 N2 minutes\n",
      "Skipped by N2 minutes: Subject shhs1-205547 with 49 N2 minutes\n",
      "Skipped by N2 minutes: Subject shhs1-205649 with 27 N2 minutes\n",
      "Skipped by N2 minutes: Subject shhs1-205708 with 54 N2 minutes\n",
      "Skipped by N2 minutes: Subject sof-visit-8-02027 with 23 N2 minutes\n",
      "Done.\n"
     ]
    }
   ],
   "source": [
    "min_n2_minutes = 60\n",
    "\n",
    "subject_ids = predictions.all_ids\n",
    "\n",
    "table_byevent = {'duration': []}\n",
    "table_bysubject = {\n",
    "    'subject_id': [], \n",
    "    'duration': [], 'density': [], 'proba_event': [], \n",
    "    'n2_minutes': [], 'origin': [],\n",
    "    'age': [], 'female': [],\n",
    "}\n",
    "for i in range(len(subject_ids)):\n",
    "    subject_id = subject_ids[i]\n",
    "    n2_pages = predictions.data[subject_id]['n2_pages']\n",
    "    n2_minutes = n2_pages.size * nsrr.original_page_duration / 60\n",
    "    \n",
    "    if n2_minutes < min_n2_minutes:\n",
    "        print(\"Skipped by N2 minutes: Subject %s with %d N2 minutes\" % (subject_id, n2_minutes))\n",
    "        continue\n",
    "    \n",
    "    marks = predictions.get_subject_stamps(subject_id)\n",
    "    n_marks = marks.shape[0]\n",
    "    \n",
    "    if n_marks == 0:\n",
    "        print(\"Skipped by Marks     : Subject %s with %d marks (%d N2 minutes)\" % (subject_id, n_marks, n2_minutes))\n",
    "        continue\n",
    "\n",
    "    durations = (marks[:, 1] - marks[:, 0] + 1) / nsrr.fs\n",
    "    subject_proba = predictions.get_subject_stamps_probabilities(subject_id)\n",
    "    \n",
    "    subject_mean_duration = np.mean(durations)\n",
    "    subject_density = n_marks / n2_minutes\n",
    "    subject_mean_proba = np.mean(subject_proba)\n",
    "    subdataset = subject_id[:-4]\n",
    "    \n",
    "    subject_data = nsrr.read_subject_data(subject_id, exclusion_of_pages=False)\n",
    "    age = float(subject_data['age'].item())\n",
    "    female = int(subject_data['sex'].item() == 'f')\n",
    "    \n",
    "    table_byevent['duration'].append(durations)\n",
    "    table_bysubject['subject_id'].append(subject_id)\n",
    "    table_bysubject['duration'].append(subject_mean_duration)\n",
    "    table_bysubject['density'].append(subject_density)\n",
    "    table_bysubject['proba_event'].append(subject_mean_proba)\n",
    "    table_bysubject['n2_minutes'].append(n2_minutes)\n",
    "    table_bysubject['origin'].append(subdataset)\n",
    "    table_bysubject['age'].append(age)\n",
    "    table_bysubject['female'].append(female)\n",
    "    \n",
    "for key in table_byevent:\n",
    "    table_byevent[key] = np.concatenate(table_byevent[key])\n",
    "table_byevent = pd.DataFrame.from_dict(table_byevent)\n",
    "table_bysubject = pd.DataFrame.from_dict(table_bysubject)\n",
    "print(\"Done.\")"
   ]
  },
  {
   "cell_type": "code",
   "execution_count": null,
   "metadata": {},
   "outputs": [],
   "source": [
    "table_byevent"
   ]
  },
  {
   "cell_type": "code",
   "execution_count": 8,
   "metadata": {},
   "outputs": [
    {
     "data": {
      "text/html": [
       "<div>\n",
       "<style scoped>\n",
       "    .dataframe tbody tr th:only-of-type {\n",
       "        vertical-align: middle;\n",
       "    }\n",
       "\n",
       "    .dataframe tbody tr th {\n",
       "        vertical-align: top;\n",
       "    }\n",
       "\n",
       "    .dataframe thead th {\n",
       "        text-align: right;\n",
       "    }\n",
       "</style>\n",
       "<table border=\"1\" class=\"dataframe\">\n",
       "  <thead>\n",
       "    <tr style=\"text-align: right;\">\n",
       "      <th></th>\n",
       "      <th>subject_id</th>\n",
       "      <th>duration</th>\n",
       "      <th>density</th>\n",
       "      <th>proba_event</th>\n",
       "      <th>n2_minutes</th>\n",
       "      <th>origin</th>\n",
       "      <th>age</th>\n",
       "      <th>female</th>\n",
       "    </tr>\n",
       "  </thead>\n",
       "  <tbody>\n",
       "    <tr>\n",
       "      <td>0</td>\n",
       "      <td>ccshs-trec-1800034</td>\n",
       "      <td>1.116099</td>\n",
       "      <td>4.969325</td>\n",
       "      <td>0.924815</td>\n",
       "      <td>163.0</td>\n",
       "      <td>ccshs-trec-180</td>\n",
       "      <td>17.40</td>\n",
       "      <td>1</td>\n",
       "    </tr>\n",
       "    <tr>\n",
       "      <td>1</td>\n",
       "      <td>ccshs-trec-1800038</td>\n",
       "      <td>1.102703</td>\n",
       "      <td>4.422989</td>\n",
       "      <td>0.884689</td>\n",
       "      <td>217.5</td>\n",
       "      <td>ccshs-trec-180</td>\n",
       "      <td>17.40</td>\n",
       "      <td>1</td>\n",
       "    </tr>\n",
       "    <tr>\n",
       "      <td>2</td>\n",
       "      <td>ccshs-trec-1800065</td>\n",
       "      <td>0.955740</td>\n",
       "      <td>3.038202</td>\n",
       "      <td>0.883258</td>\n",
       "      <td>222.5</td>\n",
       "      <td>ccshs-trec-180</td>\n",
       "      <td>17.68</td>\n",
       "      <td>1</td>\n",
       "    </tr>\n",
       "    <tr>\n",
       "      <td>3</td>\n",
       "      <td>ccshs-trec-1800074</td>\n",
       "      <td>0.874654</td>\n",
       "      <td>2.901869</td>\n",
       "      <td>0.874962</td>\n",
       "      <td>214.0</td>\n",
       "      <td>ccshs-trec-180</td>\n",
       "      <td>17.86</td>\n",
       "      <td>1</td>\n",
       "    </tr>\n",
       "    <tr>\n",
       "      <td>4</td>\n",
       "      <td>ccshs-trec-1800078</td>\n",
       "      <td>0.834952</td>\n",
       "      <td>2.630252</td>\n",
       "      <td>0.856754</td>\n",
       "      <td>238.0</td>\n",
       "      <td>ccshs-trec-180</td>\n",
       "      <td>17.77</td>\n",
       "      <td>0</td>\n",
       "    </tr>\n",
       "    <tr>\n",
       "      <td>...</td>\n",
       "      <td>...</td>\n",
       "      <td>...</td>\n",
       "      <td>...</td>\n",
       "      <td>...</td>\n",
       "      <td>...</td>\n",
       "      <td>...</td>\n",
       "      <td>...</td>\n",
       "      <td>...</td>\n",
       "    </tr>\n",
       "    <tr>\n",
       "      <td>958</td>\n",
       "      <td>sof-visit-8-09018</td>\n",
       "      <td>0.717977</td>\n",
       "      <td>1.262899</td>\n",
       "      <td>0.871988</td>\n",
       "      <td>203.5</td>\n",
       "      <td>sof-visit-8-0</td>\n",
       "      <td>81.00</td>\n",
       "      <td>1</td>\n",
       "    </tr>\n",
       "    <tr>\n",
       "      <td>959</td>\n",
       "      <td>sof-visit-8-09036</td>\n",
       "      <td>0.728224</td>\n",
       "      <td>0.924406</td>\n",
       "      <td>0.849786</td>\n",
       "      <td>231.5</td>\n",
       "      <td>sof-visit-8-0</td>\n",
       "      <td>81.00</td>\n",
       "      <td>1</td>\n",
       "    </tr>\n",
       "    <tr>\n",
       "      <td>960</td>\n",
       "      <td>sof-visit-8-09614</td>\n",
       "      <td>0.948444</td>\n",
       "      <td>0.497238</td>\n",
       "      <td>0.725876</td>\n",
       "      <td>90.5</td>\n",
       "      <td>sof-visit-8-0</td>\n",
       "      <td>83.00</td>\n",
       "      <td>1</td>\n",
       "    </tr>\n",
       "    <tr>\n",
       "      <td>961</td>\n",
       "      <td>sof-visit-8-09627</td>\n",
       "      <td>0.699478</td>\n",
       "      <td>1.074766</td>\n",
       "      <td>0.788725</td>\n",
       "      <td>107.0</td>\n",
       "      <td>sof-visit-8-0</td>\n",
       "      <td>82.00</td>\n",
       "      <td>1</td>\n",
       "    </tr>\n",
       "    <tr>\n",
       "      <td>962</td>\n",
       "      <td>sof-visit-8-09666</td>\n",
       "      <td>0.663784</td>\n",
       "      <td>0.143411</td>\n",
       "      <td>0.750320</td>\n",
       "      <td>258.0</td>\n",
       "      <td>sof-visit-8-0</td>\n",
       "      <td>86.00</td>\n",
       "      <td>1</td>\n",
       "    </tr>\n",
       "  </tbody>\n",
       "</table>\n",
       "<p>963 rows × 8 columns</p>\n",
       "</div>"
      ],
      "text/plain": [
       "             subject_id  duration   density  proba_event  n2_minutes  \\\n",
       "0    ccshs-trec-1800034  1.116099  4.969325     0.924815       163.0   \n",
       "1    ccshs-trec-1800038  1.102703  4.422989     0.884689       217.5   \n",
       "2    ccshs-trec-1800065  0.955740  3.038202     0.883258       222.5   \n",
       "3    ccshs-trec-1800074  0.874654  2.901869     0.874962       214.0   \n",
       "4    ccshs-trec-1800078  0.834952  2.630252     0.856754       238.0   \n",
       "..                  ...       ...       ...          ...         ...   \n",
       "958   sof-visit-8-09018  0.717977  1.262899     0.871988       203.5   \n",
       "959   sof-visit-8-09036  0.728224  0.924406     0.849786       231.5   \n",
       "960   sof-visit-8-09614  0.948444  0.497238     0.725876        90.5   \n",
       "961   sof-visit-8-09627  0.699478  1.074766     0.788725       107.0   \n",
       "962   sof-visit-8-09666  0.663784  0.143411     0.750320       258.0   \n",
       "\n",
       "             origin    age  female  \n",
       "0    ccshs-trec-180  17.40       1  \n",
       "1    ccshs-trec-180  17.40       1  \n",
       "2    ccshs-trec-180  17.68       1  \n",
       "3    ccshs-trec-180  17.86       1  \n",
       "4    ccshs-trec-180  17.77       0  \n",
       "..              ...    ...     ...  \n",
       "958   sof-visit-8-0  81.00       1  \n",
       "959   sof-visit-8-0  81.00       1  \n",
       "960   sof-visit-8-0  83.00       1  \n",
       "961   sof-visit-8-0  82.00       1  \n",
       "962   sof-visit-8-0  86.00       1  \n",
       "\n",
       "[963 rows x 8 columns]"
      ]
     },
     "execution_count": 8,
     "metadata": {},
     "output_type": "execute_result"
    }
   ],
   "source": [
    "table_bysubject"
   ]
  },
  {
   "cell_type": "code",
   "execution_count": null,
   "metadata": {},
   "outputs": [],
   "source": [
    "# by-event stuff\n",
    "table_byevent.hist(bins=np.arange(0.3, 3.0 + 0.001, 0.1))\n",
    "plt.tight_layout()\n",
    "plt.show()"
   ]
  },
  {
   "cell_type": "code",
   "execution_count": null,
   "metadata": {},
   "outputs": [],
   "source": [
    "table_bysubject.hist(bins=20)\n",
    "plt.tight_layout()\n",
    "plt.show()"
   ]
  },
  {
   "cell_type": "code",
   "execution_count": null,
   "metadata": {},
   "outputs": [],
   "source": [
    "a = (table_bysubject['n2_minutes'] * table_bysubject['density'])\n",
    "a[a <= 20].hist(bins=np.arange(0, 20 + 0.001, 1))\n",
    "plt.show()\n",
    "print(a.min())"
   ]
  },
  {
   "cell_type": "code",
   "execution_count": null,
   "metadata": {},
   "outputs": [],
   "source": [
    "zoom_density = 0.5\n",
    "\n",
    "table_zoom = table_bysubject[table_bysubject.density < zoom_density]\n",
    "table_zoom.hist()\n",
    "plt.tight_layout()\n",
    "plt.show()"
   ]
  },
  {
   "cell_type": "code",
   "execution_count": null,
   "metadata": {
    "scrolled": false
   },
   "outputs": [],
   "source": [
    "# correlations\n",
    "\n",
    "param_names = table_bysubject.select_dtypes(include=np.number).columns.tolist()\n",
    "n_params = len(param_names)\n",
    "n_plots = n_params * (n_params - 1) / 2\n",
    "n_cols = 5\n",
    "n_rows = int(np.ceil(n_plots / n_cols))\n",
    "\n",
    "fig, axes = plt.subplots(n_rows, n_cols, figsize=(n_cols * 2.5, n_rows* 2.5), dpi=100)\n",
    "axes = axes.flatten()\n",
    "global_count = -1\n",
    "for i in range(n_params):\n",
    "    for j in range(i + 1, n_params):\n",
    "        global_count += 1\n",
    "        ax = axes[global_count]\n",
    "        \n",
    "        x_data = table_bysubject[param_names[i]].values\n",
    "        y_data = table_bysubject[param_names[j]].values\n",
    "        \n",
    "        ax.plot(x_data, y_data, linestyle=\"none\", marker='o', markersize=3, alpha=0.1)\n",
    "        ax.set_xlabel(param_names[i], fontsize=8)\n",
    "        ax.set_ylabel(param_names[j], fontsize=8)\n",
    "        \n",
    "        ax.tick_params(labelsize=8)\n",
    "        ax.grid()\n",
    "plt.tight_layout()\n",
    "plt.show()"
   ]
  },
  {
   "cell_type": "code",
   "execution_count": null,
   "metadata": {},
   "outputs": [],
   "source": [
    "table_bysubject[table_bysubject.duration > 1.2]"
   ]
  },
  {
   "cell_type": "markdown",
   "metadata": {},
   "source": [
    "# Check stats of all pages"
   ]
  },
  {
   "cell_type": "code",
   "execution_count": 9,
   "metadata": {},
   "outputs": [
    {
     "name": "stderr",
     "output_type": "stream",
     "text": [
      "100%|██████████| 1000/1000 [03:08<00:00,  5.03it/s]"
     ]
    },
    {
     "name": "stdout",
     "output_type": "stream",
     "text": [
      "scale (372794,)\n",
      "exponent (372794,)\n",
      "max_ratio (372794,)\n",
      "standard_deviation (372794,)\n",
      "r2 (372794,)\n"
     ]
    },
    {
     "name": "stderr",
     "output_type": "stream",
     "text": [
      "\n"
     ]
    }
   ],
   "source": [
    "page_stats = {\n",
    "    'scale': [],\n",
    "    'exponent': [],\n",
    "    'max_ratio': [],\n",
    "    'standard_deviation': [],\n",
    "    'r2': [],\n",
    "}\n",
    "\n",
    "for subject_id in tqdm(predictions.all_ids):\n",
    "    subject_data = nsrr.read_subject_data(subject_id, exclusion_of_pages=False)\n",
    "    sub_signal = subject_data['signal']\n",
    "    sub_pages = predictions.data[subject_id]['n2_pages']\n",
    "    \n",
    "    n2_minutes = sub_pages.size * nsrr.original_page_duration / 60\n",
    "    if n2_minutes < 60:\n",
    "        continue\n",
    "    \n",
    "    sub_signal = sub_signal.reshape(-1, nsrr.fs * nsrr.original_page_duration)[sub_pages]  # [n_pages, n_samples]\n",
    "    freq, pages_spectrum = utils.compute_pagewise_fft(sub_signal, nsrr.fs, window_duration=2)\n",
    "    pages_scales, pages_exponents = utils.compute_pagewise_powerlaw(freq, pages_spectrum)  # (n_pages,)\n",
    "    \n",
    "    # Deviation from power law\n",
    "    f_min = 2\n",
    "    f_max = 30\n",
    "    valid_locs = np.where((freq >= f_min) & (freq <= f_max))[0]\n",
    "    dev_f = freq[valid_locs]\n",
    "    dev_x = pages_spectrum[:, valid_locs]\n",
    "    dev_x_law = [fit_s * (dev_f ** fit_e) for fit_s, fit_e in zip(pages_scales, pages_exponents)]\n",
    "    dev_x_law = np.stack(dev_x_law, axis=0)\n",
    "    error = dev_x / dev_x_law  # n_pages, n_freqs\n",
    "    max_error = np.max(error, axis=1)  # to detect weird peaks, shape (n_pages,)\n",
    "    \n",
    "    # for r2, we remove sigma\n",
    "    valid_locs = np.where((dev_f < 10) | (dev_f > 17))[0]\n",
    "    dev_f = dev_f[valid_locs]\n",
    "    log_dev_x = np.log(dev_x[:, valid_locs])\n",
    "    log_dev_x_law = np.log(dev_x_law[:, valid_locs])\n",
    "    squared_data = np.sum((log_dev_x - log_dev_x.mean(axis=1).reshape(-1, 1)) ** 2, axis=1)\n",
    "    squared_residuals = np.sum((log_dev_x - log_dev_x_law) ** 2, axis=1)\n",
    "    r2 = 1 - squared_residuals / squared_data  # (n_pages,)\n",
    "    \n",
    "    page_stats['scale'].append(pages_scales)\n",
    "    page_stats['exponent'].append(pages_exponents)\n",
    "    page_stats['max_ratio'].append(max_error)\n",
    "    page_stats['standard_deviation'].append(sub_signal.std(axis=1))\n",
    "    page_stats['r2'].append(r2)\n",
    "\n",
    "for key in page_stats.keys():\n",
    "    page_stats[key] = np.concatenate(page_stats[key])\n",
    "    print(key, page_stats[key].shape)"
   ]
  },
  {
   "cell_type": "code",
   "execution_count": 10,
   "metadata": {},
   "outputs": [
    {
     "data": {
      "image/png": "[encoded data removed]",
      "text/plain": [
       "<Figure size 1680x480 with 5 Axes>"
      ]
     },
     "metadata": {
      "needs_background": "light"
     },
     "output_type": "display_data"
    }
   ],
   "source": [
    "fig, axes = plt.subplots(1, 5, figsize=(14, 4), dpi=120)\n",
    "for i_k, key in enumerate(page_stats.keys()):\n",
    "    ax = axes[i_k]\n",
    "    \n",
    "    value_vector = page_stats[key]\n",
    "    moda_value_vector = moda_page_stats[key]\n",
    "    \n",
    "    if key in ['scale', 'max_ratio', 'standard_deviation']:\n",
    "        value_vector = np.log(value_vector)\n",
    "        moda_value_vector = np.log(moda_value_vector)\n",
    "        name_str = 'log %s' % key\n",
    "    else:\n",
    "        name_str = key\n",
    "        \n",
    "    moda_min = moda_value_vector.min()\n",
    "    moda_max = moda_value_vector.max()\n",
    "    \n",
    "    # Count number of pages falling outside MODA ranges\n",
    "    n_inliers = np.sum((value_vector >= moda_min) * (value_vector <= moda_max))\n",
    "    n_total = value_vector.size\n",
    "    fraction_inliers = 100 * n_inliers / n_total\n",
    "    \n",
    "    ax.hist(value_vector, bins=50)\n",
    "    ax.set_title('NSRR\\n%s\\nMin %1.4f Max %1.4f\\n(MODA Min %1.4f Max %1.4f)\\nInliers: %1.2f%%' % (\n",
    "        name_str, value_vector.min(), value_vector.max(), moda_min, moda_max, fraction_inliers), fontsize=8)\n",
    "    ax.tick_params(labelsize=8)\n",
    "    ax.axvline(moda_min, color=\"k\", linestyle=\"--\", linewidth=0.8)\n",
    "    ax.axvline(moda_max, color=\"k\", linestyle=\"--\", linewidth=0.8)\n",
    "    ax.set_yticks([])\n",
    "plt.tight_layout()\n",
    "plt.show()"
   ]
  },
  {
   "cell_type": "code",
   "execution_count": null,
   "metadata": {},
   "outputs": [],
   "source": []
  },
  {
   "cell_type": "code",
   "execution_count": null,
   "metadata": {},
   "outputs": [],
   "source": []
  },
  {
   "cell_type": "code",
   "execution_count": null,
   "metadata": {},
   "outputs": [],
   "source": [
    "spectra = []\n",
    "all_std = []\n",
    "large_subjects = []\n",
    "origin_subject_id = []\n",
    "origin_page_id = []\n",
    "for subject_id in predictions.all_ids:\n",
    "    signal = nsrr.get_subject_signal(subject_id, normalize_clip=False)\n",
    "    n2_pages = predictions.data[subject_id]['n2_pages']\n",
    "    n2_minutes = n2_pages.size * nsrr.original_page_duration / 60\n",
    "    \n",
    "    if n2_minutes < 60:\n",
    "        continue\n",
    "    \n",
    "    x_pages = signal.reshape(-1, nsrr.original_page_duration * nsrr.fs)[n2_pages]\n",
    "    for i_n2, x in enumerate(x_pages):\n",
    "        freq, power = utils.power_spectrum_by_sliding_window(x, nsrr.fs, window_duration=2)\n",
    "        spectra.append(power)\n",
    "        this_std = x.std()\n",
    "        all_std.append(this_std)\n",
    "        origin_subject_id.append(subject_id)\n",
    "        origin_page_id.append(n2_pages[i_n2])\n",
    "        if this_std > 50:\n",
    "            large_subjects.append(subject_id)\n",
    "spectra = np.stack(spectra, axis=0)\n",
    "all_std = np.array(all_std)\n",
    "large_subjects = np.unique(large_subjects)\n",
    "origin_subject_id = np.array(origin_subject_id)\n",
    "origin_page_id = np.array(origin_page_id)\n",
    "print(\"Done\")\n",
    "print(spectra.shape, all_std.shape, large_subjects.shape)"
   ]
  },
  {
   "cell_type": "code",
   "execution_count": null,
   "metadata": {},
   "outputs": [],
   "source": [
    "# std hist\n",
    "fig, ax = plt.subplots(1, 1, figsize=(8, 3), dpi=100)\n",
    "ax.hist(all_std, bins=np.arange(0, 130 + 0.001, 2.5))\n",
    "ax.set_xticks(np.arange(0, 130 + 0.001, 10))\n",
    "ax.grid()\n",
    "plt.show()\n",
    "\n",
    "print(\"STD -- Min %1.4f, Mean %1.4f, Median %1.4f, Max %1.4f\" % (all_std.min(), all_std.mean(), np.median(all_std), all_std.max()))\n",
    "\n",
    "# Central 95% of pages\n",
    "# STD between 7.5 and 36.\n",
    "# Central 99% of pages\n",
    "# STD between 6.15 and 73.34\n",
    "\n",
    "prctl = 0.5\n",
    "print(\"STD -- Percentile %s: %1.4f\" % (prctl, np.percentile(all_std, prctl)))\n",
    "\n",
    "prctl = 99.5\n",
    "print(\"STD -- Percentile %s: %1.4f\" % (prctl, np.percentile(all_std, prctl)))\n",
    "print(np.sum(all_std > 50), all_std.size, 100 * np.sum(all_std > 50)/all_std.size)"
   ]
  },
  {
   "cell_type": "code",
   "execution_count": null,
   "metadata": {},
   "outputs": [],
   "source": [
    "valid_locs = np.where((freq >= 0.3) & (freq <= 30))[0]\n",
    "freq_short = freq[valid_locs]\n",
    "spectra_short = spectra[:, valid_locs]\n",
    "\n",
    "# Compute power law\n",
    "locs_to_use = np.where(freq_short >= 4)[0]\n",
    "x_data = freq_short[locs_to_use]\n",
    "y_data = spectra_short[350, locs_to_use]\n",
    "\n",
    "locs_no_sigma = np.where((x_data < 10) | (x_data > 17))[0]\n",
    "x_data_no_sigma = x_data[locs_no_sigma]\n",
    "y_data_no_sigma = y_data[locs_no_sigma]\n",
    "\n",
    "log_x = np.log(x_data_no_sigma)\n",
    "log_y = np.log(y_data_no_sigma)\n",
    "pl_exponent, pl_intercept, _, _, _ = scipy.stats.linregress(log_x,log_y)\n",
    "def fitted_power_law(x):\n",
    "    return (x ** pl_exponent) * np.exp(pl_intercept)\n",
    "print(pl_exponent, pl_intercept)\n",
    "\n",
    "fig, axes = plt.subplots(1, 2, figsize=(6, 3), dpi=140)\n",
    "\n",
    "ax = axes[0]\n",
    "ax.plot(x_data, y_data, linewidth=0.8)\n",
    "ax.plot(x_data_no_sigma, y_data_no_sigma, linewidth=0.8)\n",
    "ax.plot(x_data, fitted_power_law(x_data), linewidth=0.8)\n",
    "ax.set_xlim([3, 35])\n",
    "ax.tick_params(labelsize=8)\n",
    "ax.set_xlabel(\"Frequency (Hz)\", fontsize=8)\n",
    "\n",
    "ax = axes[1]\n",
    "ax.plot(x_data, y_data, linewidth=0.8)\n",
    "ax.plot(x_data_no_sigma, y_data_no_sigma, linewidth=0.8)\n",
    "ax.plot(x_data, fitted_power_law(x_data), linewidth=0.8)\n",
    "ax.set_xlim([3, 35])\n",
    "ax.set_xscale('log')\n",
    "ax.set_yscale('log')\n",
    "ax.tick_params(labelsize=8)\n",
    "ax.set_xlabel(\"Frequency (Hz)\", fontsize=8)\n",
    "plt.tight_layout()\n",
    "plt.show()"
   ]
  },
  {
   "cell_type": "code",
   "execution_count": null,
   "metadata": {},
   "outputs": [],
   "source": [
    "exponent_list = []\n",
    "for curve in spectra_short:\n",
    "    #Compute power law\n",
    "    locs_to_use = np.where(freq_short >= 4)[0]\n",
    "    x_data = freq_short[locs_to_use]\n",
    "    y_data = curve[locs_to_use]\n",
    "\n",
    "    locs_no_sigma = np.where((x_data < 10) | (x_data > 17))[0]\n",
    "    x_data_no_sigma = x_data[locs_no_sigma]\n",
    "    y_data_no_sigma = y_data[locs_no_sigma]\n",
    "    # Therefore we are considering frequencies 4-10 and 17-30 Hz for the power law.\n",
    "\n",
    "    log_x = np.log(x_data_no_sigma)\n",
    "    log_y = np.log(y_data_no_sigma)\n",
    "    pl_exponent, pl_intercept, _, _, _ = scipy.stats.linregress(log_x,log_y)\n",
    "    exponent_list.append(pl_exponent)\n",
    "exponent_list = np.array(exponent_list)"
   ]
  },
  {
   "cell_type": "code",
   "execution_count": null,
   "metadata": {},
   "outputs": [],
   "source": [
    "exponent_list.shape"
   ]
  },
  {
   "cell_type": "code",
   "execution_count": null,
   "metadata": {},
   "outputs": [],
   "source": [
    "mean_val = np.median(exponent_list)\n",
    "disp_val = scipy.stats.median_absolute_deviation(exponent_list)  # dispersion around median\n",
    "disp_width = 2.2\n",
    "\n",
    "lower_bound = mean_val - disp_width * disp_val\n",
    "upper_bound = mean_val + disp_width * disp_val\n",
    "\n",
    "n_inliers = np.sum((exponent_list >= lower_bound) * (exponent_list <= upper_bound))\n",
    "print(n_inliers, 100 * n_inliers / exponent_list.size)\n",
    "print(lower_bound, upper_bound)\n",
    "print(\"\")\n",
    "\n",
    "fig, ax = plt.subplots(1, 1, figsize=(4, 3), dpi=120)\n",
    "ax.hist(exponent_list, bins=50)\n",
    "ax.axvline(mean_val, color=\"k\", linestyle=\"--\", linewidth=1)\n",
    "ax.axvline(upper_bound, color=\"k\", linestyle=\"--\", linewidth=1)\n",
    "ax.axvline(lower_bound, color=\"k\", linestyle=\"--\", linewidth=1)\n",
    "ax.set_title(\"Mean %1.4f\" % mean_val)\n",
    "plt.show()\n",
    "\n",
    "for prct in [0, 0.5, 5, 95, 99.5, 100]:\n",
    "    value = np.percentile(exponent_list, prct)\n",
    "    print(\"Percentile %s is %1.4f\" % (prct, value))"
   ]
  },
  {
   "cell_type": "code",
   "execution_count": null,
   "metadata": {},
   "outputs": [],
   "source": [
    "valid_locs = np.where((freq >= 0.3) & (freq <= 30))[0]\n",
    "freq_short = freq[valid_locs]\n",
    "spectra_short = spectra[:, valid_locs]\n",
    "\n",
    "# Compute avg power of 2Hz freq bands\n",
    "all_p_avg = []\n",
    "all_f_avg = []\n",
    "start_freq = 0\n",
    "width = 2\n",
    "n_bands = int(np.ceil((freq_short.max() - start_freq) / width))\n",
    "for i_band in range(n_bands):\n",
    "    end_freq = start_freq + width\n",
    "    locs = np.where((f >= start_freq) & (f < end_freq))[0]\n",
    "    center_freq = (start_freq + end_freq)/2\n",
    "    start_freq = end_freq\n",
    "    if center_freq < 2:\n",
    "        continue\n",
    "    this_power = spectra_short[:, locs].mean(axis=1)\n",
    "    all_p_avg.append(this_power)\n",
    "    all_f_avg.append(center_freq)\n",
    "    \n",
    "all_f_avg = np.array(all_f_avg)\n",
    "all_p_avg = np.stack(all_p_avg, axis=1)\n",
    "\n",
    "fig, axes = plt.subplots(1, 2, figsize=(6, 3), dpi=200)\n",
    "\n",
    "ax = axes[0]\n",
    "prctl_results = np.percentile(all_p_avg, (0, 0.5, 25, 50, 75, 99.5, 100), axis=0)\n",
    "for curve in prctl_results:\n",
    "    ax.plot(all_f_avg, curve, linewidth=0.8, marker='o')\n",
    "ax.set_xlim([0.1, 35])\n",
    "ax.tick_params(labelsize=8)\n",
    "ax.set_xlabel(\"Frequency (Hz)\", fontsize=8)\n",
    "\n",
    "ax = axes[1]\n",
    "for curve in prctl_results:\n",
    "    ax.plot(all_f_avg, curve, linewidth=0.8, marker='o')\n",
    "ax.set_xlim([0.1, 35])\n",
    "ax.set_xscale('log')\n",
    "ax.set_yscale('log')\n",
    "ax.tick_params(labelsize=8)\n",
    "ax.set_xlabel(\"Frequency (Hz)\", fontsize=8)\n",
    "plt.tight_layout()\n",
    "plt.show()"
   ]
  },
  {
   "cell_type": "code",
   "execution_count": null,
   "metadata": {},
   "outputs": [],
   "source": [
    "valid_locs = np.where((freq >= 0.3) & (freq <= 30))[0]\n",
    "freq_short = freq[valid_locs]\n",
    "spectra_short = spectra[:, valid_locs]\n",
    "\n",
    "fig, axes = plt.subplots(1, 2, figsize=(6, 3), dpi=200)\n",
    "\n",
    "prctl_results = np.percentile(all_p_avg, (0.5, 99.5), axis=0)\n",
    "\n",
    "ax = axes[0]\n",
    "for curve in prctl_results:\n",
    "    ax.plot(all_f_avg, curve, linewidth=0.8, marker='o', markersize=3, color=\"b\")\n",
    "for curve in spectra_short[outliers_locs]:\n",
    "    ax.plot(freq_short, curve, linewidth=0.8, color=\"k\", alpha=0.1)\n",
    "ax.set_xlim([0.1, 35])\n",
    "ax.tick_params(labelsize=8)\n",
    "ax.set_xlabel(\"Frequency (Hz)\", fontsize=8)\n",
    "\n",
    "ax = axes[1]\n",
    "for curve in prctl_results:\n",
    "    ax.plot(all_f_avg, curve, linewidth=0.8, marker='o', markersize=3, color=\"b\")\n",
    "for curve in spectra_short[outliers_locs]:\n",
    "    ax.plot(freq_short, curve, linewidth=0.8, color=\"k\", alpha=0.1)\n",
    "ax.set_xlim([0.1, 35])\n",
    "ax.set_xscale('log')\n",
    "ax.set_yscale('log')\n",
    "ax.tick_params(labelsize=8)\n",
    "ax.set_xlabel(\"Frequency (Hz)\", fontsize=8)\n",
    "plt.tight_layout()\n",
    "plt.show()"
   ]
  },
  {
   "cell_type": "code",
   "execution_count": null,
   "metadata": {},
   "outputs": [],
   "source": [
    "loc = 350\n",
    "\n",
    "p = spectra_short[loc]\n",
    "f = freq_short\n",
    "# Compute avg power of 2Hz freq bands\n",
    "p_avg = []\n",
    "f_avg = []\n",
    "start_freq = 0\n",
    "width = 2\n",
    "n_bands = int(np.ceil((f.max() - start_freq) / width))\n",
    "for i_band in range(n_bands):\n",
    "    end_freq = start_freq + width\n",
    "    locs = np.where((f >= start_freq) & (f < end_freq))[0]\n",
    "    f_avg.append((start_freq + end_freq)/2)\n",
    "    p_avg.append(p[locs].mean())\n",
    "    start_freq = end_freq\n",
    "f_avg = np.array(f_avg)\n",
    "p_avg = np.array(p_avg)\n",
    "\n",
    "plt.plot(f, p)\n",
    "plt.plot(f_avg, p_avg, marker='o')\n",
    "print(f_avg)\n",
    "plt.title(\"Subject %s, page %d\" % (origin_subject_id[loc], origin_page_id[loc]))\n",
    "plt.show()\n",
    "print(\"Subject %s, page %d\" % (origin_subject_id[loc], origin_page_id[loc]))"
   ]
  },
  {
   "cell_type": "code",
   "execution_count": null,
   "metadata": {},
   "outputs": [],
   "source": [
    "lower_bound, upper_bound = np.percentile(all_p_avg, (0.5, 99.5), axis=0)\n",
    "print(\"Original: \", all_p_avg.shape)\n",
    "spectra_filt = []\n",
    "inliers_locs = []\n",
    "outliers_locs = []\n",
    "for i_page, spec_page in enumerate(all_p_avg):\n",
    "    if np.all(spec_page >= lower_bound) and np.all(spec_page <= upper_bound):\n",
    "        spectra_filt.append(spec_page)\n",
    "        inliers_locs.append(i_page)\n",
    "    else:\n",
    "        outliers_locs.append(i_page)\n",
    "spectra_filt = np.stack(spectra_filt, axis=0)\n",
    "print(\"Filtered:\", spectra_filt.shape)\n",
    "print(\"Percentage kept: %1.4f\" % (100 * spectra_filt.shape[0] / all_p_avg.shape[0]))"
   ]
  },
  {
   "cell_type": "markdown",
   "metadata": {},
   "source": [
    "# Check single subject"
   ]
  },
  {
   "cell_type": "code",
   "execution_count": 10,
   "metadata": {},
   "outputs": [
    {
     "name": "stdout",
     "output_type": "stream",
     "text": [
      "subject shhs1-200721\n",
      "Marks (0, 2)\n",
      "N2 minutes 87.5\n"
     ]
    },
    {
     "data": {
      "image/png": "[encoded data removed]",
      "text/plain": [
       "<Figure size 432x288 with 1 Axes>"
      ]
     },
     "metadata": {
      "needs_background": "light"
     },
     "output_type": "display_data"
    },
    {
     "name": "stdout",
     "output_type": "stream",
     "text": [
      "Center samples where STD is greater than 50.0000\n",
      "[]\n",
      "[]\n"
     ]
    }
   ],
   "source": [
    "subject_id = 'shhs1-200721'   # 'shhs1-201711'  # 'sof-visit-8-02332'\n",
    "\n",
    "print(\"subject %s\" % subject_id)\n",
    "subject_data = nsrr.read_subject_data(subject_id)\n",
    "signal = subject_data['signal']\n",
    "n2_pages = subject_data['n2_pages']\n",
    "n2_minutes = n2_pages.size * nsrr.original_page_duration / 60\n",
    "marks = predictions.get_subject_stamps(subject_id, pages_subset='n2')\n",
    "proba = predictions.get_subject_probabilities(subject_id)\n",
    "proba_up = np.repeat(proba, 8)\n",
    "durations = (marks[:, 1] - marks[:, 0] + 1) / nsrr.fs\n",
    "\n",
    "print(\"Marks\", marks.shape)\n",
    "print(\"N2 minutes\", n2_minutes)\n",
    "\n",
    "plt.plot(signal)\n",
    "plt.show()\n",
    "\n",
    "std_to_find = 50\n",
    "\n",
    "x_pages_std = signal.reshape(-1, nsrr.original_page_duration * nsrr.fs)[n2_pages].std(axis=1)\n",
    "n2_pages_locs = np.where(x_pages_std > std_to_find)[0]\n",
    "std_selected = x_pages_std[n2_pages_locs]\n",
    "pages_locs = n2_pages[n2_pages_locs]\n",
    "start_sample = pages_locs * nsrr.original_page_duration * nsrr.fs\n",
    "center_sample = start_sample + nsrr.original_page_duration * nsrr.fs // 2\n",
    "print(\"Center samples where STD is greater than %1.4f\" % std_to_find)\n",
    "print(center_sample)\n",
    "print(std_selected)"
   ]
  },
  {
   "cell_type": "code",
   "execution_count": 12,
   "metadata": {},
   "outputs": [
    {
     "data": {
      "image/png": "[encoded data removed]",
      "text/plain": [
       "<Figure size 1000x250 with 1 Axes>"
      ]
     },
     "metadata": {
      "needs_background": "light"
     },
     "output_type": "display_data"
    },
    {
     "name": "stdout",
     "output_type": "stream",
     "text": [
      "Page STD: 5.5420\n",
      "-0.8674193622400079 0.25012926279166225\n"
     ]
    },
    {
     "data": {
      "image/png": "[encoded data removed]",
      "text/plain": [
       "<Figure size 600x200 with 2 Axes>"
      ]
     },
     "metadata": {
      "needs_background": "light"
     },
     "output_type": "display_data"
    }
   ],
   "source": [
    "# mark_selected = marks[5]\n",
    "\n",
    "center_sample = int((n2_pages[0] + 0.5) * 30 * 200) # mark_selected.mean()\n",
    "\n",
    "window_duration = 30\n",
    "window_size = nsrr.fs * window_duration\n",
    "start_sample = int(center_sample - window_size // 2)\n",
    "end_sample = int(start_sample + window_size)\n",
    "time_axis = np.arange(start_sample, end_sample) / nsrr.fs\n",
    "\n",
    "fig, ax = plt.subplots(1, 1, figsize=(10, 2.5), dpi=100)\n",
    "\n",
    "ax.plot(time_axis, signal[start_sample:end_sample], linewidth=.6)\n",
    "\n",
    "# ax.plot(mark_selected / nsrr.fs, [-100, -100], linewidth=4, color=viz.PALETTE['red'], alpha=0.7)\n",
    "\n",
    "ax.fill_between(\n",
    "    time_axis, \n",
    "    -300 - 50 * proba_up[start_sample:end_sample], \n",
    "    -300 + 50 * proba_up[start_sample:end_sample],\n",
    "    color=viz.PALETTE['red'], alpha=1.0\n",
    ")\n",
    "ax.axhline(-300 - 50, linewidth=0.7, linestyle=\"-\", color=\"k\")\n",
    "ax.axhline(-300 + 50, linewidth=0.7, linestyle=\"-\", color=\"k\")\n",
    "ax.axhline(-300 - 25, linewidth=0.7, linestyle=\"--\", color=\"k\")\n",
    "ax.axhline(-300 + 25, linewidth=0.7, linestyle=\"--\", color=\"k\")\n",
    "ax.axhline(-300 + 0, linewidth=0.7, linestyle=\"-\", color=\"k\")\n",
    "\n",
    "ax.set_ylim([-400, 200])\n",
    "ax.set_xlim([start_sample/nsrr.fs, end_sample/nsrr.fs])\n",
    "\n",
    "ax.grid()\n",
    "ax.set_xlabel(\"Time (s)\", fontsize=8)\n",
    "ax.tick_params(labelsize=8)\n",
    "\n",
    "page_std = signal[start_sample:end_sample].std()\n",
    "\n",
    "ax.set_title(\"Subject %s (Age %1.4f, Sex %s). Page STD %1.4f\" % (\n",
    "    subject_id, subject_data['age'], subject_data['sex'], page_std\n",
    "))\n",
    "\n",
    "plt.tight_layout()\n",
    "plt.show()\n",
    "\n",
    "print(\"Page STD: %1.4f\" % page_std)\n",
    "\n",
    "# Compute spectrum of page\n",
    "freq, power = utils.power_spectrum_by_sliding_window(signal[start_sample:end_sample], nsrr.fs, window_duration=2)\n",
    "valid_locs = np.where((freq >= 0.3) & (freq <= 30))[0]\n",
    "freq = freq[valid_locs]\n",
    "power = power[valid_locs]\n",
    "\n",
    "locs_to_use = np.where(freq >= 2)[0]\n",
    "x_data = freq[locs_to_use]\n",
    "y_data = power[locs_to_use]\n",
    "locs_no_sigma = np.where((x_data < 10) | (x_data > 17))[0]\n",
    "x_data_no_sigma = x_data[locs_no_sigma]\n",
    "y_data_no_sigma = y_data[locs_no_sigma]\n",
    "log_x = np.log(x_data_no_sigma)\n",
    "log_y = np.log(y_data_no_sigma)\n",
    "pl_exponent, pl_intercept, _, _, _ = scipy.stats.linregress(log_x,log_y)\n",
    "def fitted_power_law(x):\n",
    "    return (x ** pl_exponent) * np.exp(pl_intercept)\n",
    "print(pl_exponent, pl_intercept)\n",
    "\n",
    "fig, axes = plt.subplots(1, 2, figsize=(6, 2), dpi=100)\n",
    "\n",
    "ax = axes[0]\n",
    "ax.plot(freq, power)\n",
    "ax.set_xlim([0.1, 30])\n",
    "ax.tick_params(labelsize=8)\n",
    "ax.set_xlabel(\"Frequency (Hz)\", fontsize=8)\n",
    "\n",
    "ax = axes[1]\n",
    "ax.plot(freq, power)\n",
    "ax.plot(freq, fitted_power_law(freq))\n",
    "ax.set_xlim([0.1, 30])\n",
    "ax.set_xscale('log')\n",
    "ax.set_yscale('log')\n",
    "ax.tick_params(labelsize=8)\n",
    "ax.set_xlabel(\"Frequency (Hz)\", fontsize=8)\n",
    "ax.set_title(\"Exponent %1.4f\" % (pl_exponent), fontsize=8)\n",
    "plt.tight_layout()\n",
    "plt.show()"
   ]
  },
  {
   "cell_type": "code",
   "execution_count": null,
   "metadata": {},
   "outputs": [],
   "source": []
  }
 ],
 "metadata": {
  "kernelspec": {
   "display_name": "Python 3",
   "language": "python",
   "name": "python3"
  },
  "language_info": {
   "codemirror_mode": {
    "name": "ipython",
    "version": 3
   },
   "file_extension": ".py",
   "mimetype": "text/x-python",
   "name": "python",
   "nbconvert_exporter": "python",
   "pygments_lexer": "ipython3",
   "version": "3.6.9"
  }
 },
 "nbformat": 4,
 "nbformat_minor": 2
}
