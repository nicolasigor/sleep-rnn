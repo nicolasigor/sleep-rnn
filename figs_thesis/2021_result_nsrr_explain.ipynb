{
 "cells": [
  {
   "cell_type": "code",
   "execution_count": 1,
   "metadata": {},
   "outputs": [
    {
     "name": "stderr",
     "output_type": "stream",
     "text": [
      "/home/ntapia/miniconda3/envs/tf/lib/python3.6/importlib/_bootstrap.py:219: RuntimeWarning: numpy.ufunc size changed, may indicate binary incompatibility. Expected 192 from C header, got 216 from PyObject\n",
      "  return f(*args, **kwds)\n"
     ]
    },
    {
     "data": {
      "text/html": [
       "<style>.container { width:100% !important; }</style>"
      ],
      "text/plain": [
       "<IPython.core.display.HTML object>"
      ]
     },
     "metadata": {},
     "output_type": "display_data"
    }
   ],
   "source": [
    "import os\n",
    "import sys\n",
    "import pickle\n",
    "import time\n",
    "\n",
    "PROJECT_ROOT = os.path.abspath('..')\n",
    "sys.path.append(PROJECT_ROOT)\n",
    "\n",
    "import numpy as np\n",
    "import matplotlib.pyplot as plt\n",
    "from matplotlib.lines import Line2D\n",
    "import pandas as pd\n",
    "import scipy\n",
    "from scipy import stats\n",
    "from tqdm import tqdm\n",
    "\n",
    "from sleeprnn.helpers.reader import load_dataset\n",
    "from sleeprnn.common import constants, viz, pkeys\n",
    "from sleeprnn.data import utils, stamp_correction\n",
    "from sleeprnn.detection.postprocessor import PostProcessor\n",
    "from sleeprnn.detection.predicted_dataset import PredictedDataset\n",
    "from sleeprnn.detection.feeder_dataset import FeederDataset\n",
    "from sleeprnn.detection import det_utils\n",
    "from figs_thesis import fig_utils\n",
    "\n",
    "viz.notebook_full_width()\n",
    "\n",
    "param_filtering_fn = fig_utils.get_filtered_signal_for_event\n",
    "param_frequency_fn = fig_utils.get_frequency_by_fft\n",
    "param_amplitude_fn = fig_utils.get_amplitude_event\n",
    "\n",
    "RESULTS_PATH = os.path.join(PROJECT_ROOT, 'results')\n",
    "LETTERS = ['A', 'B', 'C', 'D', 'E', 'F', 'G', 'H', 'I', 'J', 'K', 'L', 'M', 'N', 'O', 'P']"
   ]
  },
  {
   "cell_type": "code",
   "execution_count": 56,
   "metadata": {},
   "outputs": [],
   "source": [
    "def load_predictions(parts_to_load, dataset, thr=0.5, verbose=True):\n",
    "    if thr == 0.5:\n",
    "        extra_str = ''\n",
    "    else:\n",
    "        extra_str = '_%1.2f' % thr\n",
    "    pred_objects = []\n",
    "    for part in parts_to_load:\n",
    "        filepath = os.path.join(\n",
    "            RESULTS_PATH, 'predictions_nsrr_ss',\n",
    "            'ckpt_20210716_from_20210529_thesis_indata_5cv_e1_n2_train_moda_ss_ensemble_to_e1_n2_train_nsrr_ss',\n",
    "            'v2_time',\n",
    "            'prediction%s_part%d.pkl' % (extra_str, part)\n",
    "        )\n",
    "        with open(filepath, 'rb') as handle:\n",
    "            pred_object = pickle.load(handle)\n",
    "        pred_object.set_parent_dataset(dataset)\n",
    "        # Set proper page size and duration in internal parameters\n",
    "        pred_object.page_duration = dataset.original_page_duration\n",
    "        pred_object.page_size = int(dataset.original_page_duration * dataset.fs)\n",
    "        pred_objects.append(pred_object)\n",
    "    return pred_objects"
   ]
  },
  {
   "cell_type": "markdown",
   "metadata": {},
   "source": [
    "# Debug"
   ]
  },
  {
   "cell_type": "code",
   "execution_count": 60,
   "metadata": {},
   "outputs": [
    {
     "name": "stdout",
     "output_type": "stream",
     "text": [
      "Dataset nsrr_ss with 3 patients.\n",
      "Loading from checkpoint... Loaded\n",
      "Global STD: None\n",
      "Dataset nsrr_ss with 11593 patients.\n"
     ]
    }
   ],
   "source": [
    "nsrr = load_dataset(constants.NSRR_SS_NAME, load_checkpoint=True)\n",
    "predictions_1 = load_predictions([0], nsrr)[0]"
   ]
  },
  {
   "cell_type": "code",
   "execution_count": 72,
   "metadata": {},
   "outputs": [
    {
     "data": {
      "text/plain": [
       "6000"
      ]
     },
     "execution_count": 72,
     "metadata": {},
     "output_type": "execute_result"
    }
   ],
   "source": [
    "predictions_1.pos"
   ]
  },
  {
   "cell_type": "code",
   "execution_count": 70,
   "metadata": {},
   "outputs": [
    {
     "data": {
      "text/plain": [
       "{'fs': 200,\n",
       " 'clip_value': 10,\n",
       " 'norm_computation_mode': 'norm_global',\n",
       " 'shuffle_buffer_size': 100000,\n",
       " 'prefetch_buffer_size': 5,\n",
       " 'page_duration': 30,\n",
       " 'border_duration_cwt': 2.31,\n",
       " 'border_duration_conv': 0.6,\n",
       " 'border_duration': None,\n",
       " 'aug_indep_uniform_noise_proba': 1.0,\n",
       " 'aug_indep_uniform_noise_intensity': None,\n",
       " 'aug_random_waves_proba': 1.0,\n",
       " 'aug_random_waves_params': None,\n",
       " 'aug_random_anti_waves_proba': 1.0,\n",
       " 'aug_random_anti_waves_params': None,\n",
       " 'forced_separation_duration': 0,\n",
       " 'total_downsampling_factor': 8,\n",
       " 'aligned_downsampling': True,\n",
       " 'cwt_expansion_factor': 0.9,\n",
       " 'fb_list': [0.1323],\n",
       " 'trainable_wavelet': True,\n",
       " 'wavelet_size_factor': 1.5,\n",
       " 'n_scales': 32,\n",
       " 'lower_freq': 0.5,\n",
       " 'upper_freq': 30,\n",
       " 'cwt_noise_intensity': 0.02,\n",
       " 'cwt_return_real_part': True,\n",
       " 'cwt_return_imag_part': True,\n",
       " 'cwt_return_magnitude': False,\n",
       " 'cwt_return_phase': False,\n",
       " 'model_version': None,\n",
       " 'bigger_stem_filters': 64,\n",
       " 'bigger_max_dilation': 8,\n",
       " 'bigger_lstm_1_size': 256,\n",
       " 'bigger_lstm_2_size': 256,\n",
       " 'fc_units': 128,\n",
       " 'batchnorm': 'bn',\n",
       " 'dropout': 'sequence_dropout',\n",
       " 'drop_rate_before_lstm': 0.2,\n",
       " 'drop_rate_hidden': 0.5,\n",
       " 'drop_rate_output': 0.0,\n",
       " 'init_positive_proba': 0.1,\n",
       " 'type_loss': 'masked_soft_focal_loss',\n",
       " 'soft_focal_gamma': 0.0,\n",
       " 'soft_focal_epsilon': 1.0,\n",
       " 'class_weights': [1.0, 1.0],\n",
       " 'batch_size': 32,\n",
       " 'type_optimizer': 'adam_optimizer',\n",
       " 'learning_rate': 0.0001,\n",
       " 'clip_norm': 1,\n",
       " 'rel_tol_criterion': 0.0,\n",
       " 'lr_update_factor': 0.5,\n",
       " 'lr_update_criterion': 'metric_criterion',\n",
       " 'lr_update_reset_optimizer': False,\n",
       " 'keep_best_validation': True,\n",
       " 'max_epochs': 200,\n",
       " 'stats_per_epoch': 5,\n",
       " 'epochs_lr_update': 5,\n",
       " 'max_lr_updates': 4,\n",
       " 'validation_average_mode': None,\n",
       " 'pretrain_epochs_init': None,\n",
       " 'pretrain_epochs_anneal': None,\n",
       " 'pretrain_max_lr_updates': 3,\n",
       " 'factor_init_lr_fine_tune': 0.5,\n",
       " 'predict_with_augmented_page': True,\n",
       " 'ss_min_separation': 0.3,\n",
       " 'ss_min_duration': 0.3,\n",
       " 'ss_max_duration': 3.0,\n",
       " 'kc_min_separation': None,\n",
       " 'kc_min_duration': 0.3,\n",
       " 'kc_max_duration': None,\n",
       " 'repair_long_detections': False}"
      ]
     },
     "execution_count": 70,
     "metadata": {},
     "output_type": "execute_result"
    }
   ],
   "source": [
    "predictions_1.postprocessor.params"
   ]
  },
  {
   "cell_type": "code",
   "execution_count": 63,
   "metadata": {},
   "outputs": [
    {
     "data": {
      "text/plain": [
       "dict_keys(['signal', 'n2_pages', 'all_pages', 'marks_1'])"
      ]
     },
     "execution_count": 63,
     "metadata": {},
     "output_type": "execute_result"
    }
   ],
   "source": [
    "predictions_1.read_subject_data(subject_id).keys()"
   ]
  },
  {
   "cell_type": "code",
   "execution_count": 67,
   "metadata": {},
   "outputs": [
    {
     "data": {
      "text/plain": [
       "(516,)"
      ]
     },
     "execution_count": 67,
     "metadata": {},
     "output_type": "execute_result"
    }
   ],
   "source": [
    "predictions_1.read_subject_data(subject_id)['n2_pages'].shape"
   ]
  },
  {
   "cell_type": "code",
   "execution_count": 69,
   "metadata": {},
   "outputs": [
    {
     "data": {
      "text/plain": [
       "'n2'"
      ]
     },
     "execution_count": 69,
     "metadata": {},
     "output_type": "execute_result"
    }
   ],
   "source": [
    "predictions_1.task_mode"
   ]
  },
  {
   "cell_type": "code",
   "execution_count": 68,
   "metadata": {},
   "outputs": [],
   "source": [
    "for subject_id in predictions_1.all_ids:\n",
    "    marks_a = predictions_1.get_subject_stamps(subject_id, pages_subset='n2')\n",
    "    marks_b = predictions_1.get_subject_stamps(subject_id, pages_subset='wn')\n",
    "    diff = marks_b.shape[0]-marks_a.shape[0]\n",
    "    if diff != 0:\n",
    "        print(subject_id, marks_a.shape[0], marks_b.shape[0])"
   ]
  },
  {
   "cell_type": "code",
   "execution_count": 54,
   "metadata": {},
   "outputs": [
    {
     "name": "stdout",
     "output_type": "stream",
     "text": [
      "N2: 326 pages, 163.0 minutes\n",
      "(1778, 2) (1778, 2) (1778, 2)\n"
     ]
    }
   ],
   "source": [
    "i_subject = 0\n",
    "\n",
    "subject_id = predictions_1.all_ids[i_subject]\n",
    "n2_pages = predictions_1.read_subject_data(subject_id)['n2_pages']\n",
    "n2_minutes = n2_pages.size * nsrr.original_page_duration / 60\n",
    "print(\"N2: %d pages, %s minutes\" % (n2_pages.size, n2_minutes))\n",
    "\n",
    "# Test 1\n",
    "marks_a = predictions_1.get_subject_stamps(subject_id, pages_subset='n2')\n",
    "marks_b = predictions_1.get_subject_stamps(subject_id, pages_subset='wn')\n",
    "\n",
    "page_size = int(nsrr.fs * nsrr.original_page_duration)\n",
    "marks_c = utils.extract_pages_for_stamps(marks_b, n2_pages, page_size)\n",
    "\n",
    "print(marks_a.shape, marks_b.shape, marks_c.shape)"
   ]
  },
  {
   "cell_type": "code",
   "execution_count": 36,
   "metadata": {},
   "outputs": [
    {
     "name": "stdout",
     "output_type": "stream",
     "text": [
      "473\n"
     ]
    }
   ],
   "source": [
    "signal = nsrr.read_subject_data(subject_id, exclusion_of_pages=False)['signal']\n",
    "total_pages = int(signal.size / page_size)\n",
    "print(total_pages)"
   ]
  },
  {
   "cell_type": "code",
   "execution_count": 52,
   "metadata": {},
   "outputs": [
    {
     "data": {
      "text/plain": [
       "4000"
      ]
     },
     "execution_count": 52,
     "metadata": {},
     "output_type": "execute_result"
    }
   ],
   "source": [
    "predictions_1.page_size"
   ]
  },
  {
   "cell_type": "code",
   "execution_count": 51,
   "metadata": {},
   "outputs": [
    {
     "data": {
      "image/png": "[encoded data removed]",
      "text/plain": [
       "<Figure size 2100x420 with 1 Axes>"
      ]
     },
     "metadata": {
      "needs_background": "light"
     },
     "output_type": "display_data"
    }
   ],
   "source": [
    "page_to_viz = 4\n",
    "\n",
    "\n",
    "start_sample = page_to_viz * page_size\n",
    "end_sample = (page_to_viz + 1) * page_size\n",
    "time_axis = np.arange(start_sample, end_sample) / nsrr.fs\n",
    "fig, ax = plt.subplots(1, 1, figsize=(15, 3), dpi=140)\n",
    "ax.plot(time_axis, signal[start_sample:end_sample], linewidth=0.6, color=viz.PALETTE['dark'])\n",
    "ax.set_ylim([-200, 200])\n",
    "m_a = utils.filter_stamps(marks_a, start_sample, end_sample)\n",
    "m_b = utils.filter_stamps(marks_b, start_sample, end_sample)\n",
    "for m in m_a:\n",
    "    ax.plot(m/nsrr.fs, [-100]*2, linewidth=2, color=viz.PALETTE['red'])\n",
    "for m in m_b:\n",
    "    ax.plot(m/nsrr.fs, [-150]*2, linewidth=2, color=viz.PALETTE['green'])\n",
    "ax.set_title(\"N2: %s\" % (page_to_viz in n2_pages))\n",
    "plt.show()"
   ]
  },
  {
   "cell_type": "code",
   "execution_count": null,
   "metadata": {},
   "outputs": [],
   "source": []
  },
  {
   "cell_type": "code",
   "execution_count": 21,
   "metadata": {},
   "outputs": [
    {
     "name": "stdout",
     "output_type": "stream",
     "text": [
      "(1778,)\n"
     ]
    }
   ],
   "source": [
    "stamps_start_page = np.floor(marks_b[:, 0] / page_size)\n",
    "stamps_end_page = np.floor(marks_b[:, 1] / page_size)\n",
    "useful_idx = np.where(\n",
    "    np.isin(stamps_start_page, n2_pages) | np.isin(stamps_end_page, n2_pages)\n",
    ")[0]\n",
    "print(useful_idx.shape)"
   ]
  },
  {
   "cell_type": "code",
   "execution_count": 35,
   "metadata": {},
   "outputs": [
    {
     "data": {
      "text/plain": [
       "array([  1,   2,   3,   4,   5,   7,   8,   9,  10,  12,  13,  14,  15,\n",
       "        16,  18,  19,  20,  22,  32,  33,  34,  37,  38,  41,  43,  44,\n",
       "        46,  47,  48,  49,  50,  52,  53,  54,  55,  56,  57,  58,  59,\n",
       "        60,  61,  64,  69,  70,  74,  77,  78,  80,  81,  82,  83,  86,\n",
       "        87,  88,  91,  94,  95,  96,  97,  99, 100, 101, 102, 103, 104,\n",
       "       105, 106, 107, 108, 110, 112, 113, 114, 117, 119, 120, 121, 122,\n",
       "       123, 124, 126, 128, 129, 130, 132, 134, 135, 136, 137, 138, 141,\n",
       "       142, 144, 145, 146, 147, 148, 149, 150, 151, 152, 156, 160, 161,\n",
       "       163, 164, 165, 167, 168, 169, 171, 172, 174, 176, 179, 181, 183,\n",
       "       184, 185, 188, 191, 192, 193, 195, 196, 197, 199, 200, 202, 203,\n",
       "       206, 212, 213, 214, 215, 216, 218, 219, 220, 221, 222, 223, 226,\n",
       "       227, 228, 231, 233, 235, 236, 238, 239, 240, 241, 242, 243, 246,\n",
       "       247, 248, 249, 250, 251, 252, 253, 254, 255, 256, 257, 258, 259,\n",
       "       260, 261, 262, 263, 264, 265, 266, 267, 268, 269, 270, 271, 272,\n",
       "       273, 274, 275, 276, 277, 278, 279, 281, 282, 283, 284, 286, 288,\n",
       "       291, 292, 293, 295, 296, 297, 298, 299, 300, 301, 302, 303, 304,\n",
       "       305, 307, 308, 312, 313, 314, 315, 316, 317, 318, 319, 320, 321,\n",
       "       322, 323, 324, 326, 327, 328, 331, 332, 333, 338, 339, 340, 345,\n",
       "       346, 347, 348, 349, 350, 351, 353, 354, 355, 356, 357, 358, 359,\n",
       "       361, 362, 363, 365, 366, 367, 369, 370, 371, 372, 373, 374, 375,\n",
       "       377, 378, 379, 381, 383, 384, 385, 387, 391, 393, 394, 397, 398,\n",
       "       399, 400, 401, 402, 403, 406, 407, 408, 409, 410, 411, 412, 414,\n",
       "       415, 416, 417, 418, 419, 421, 422, 423, 425, 427, 428, 429, 430,\n",
       "       431, 432, 435, 436, 437, 438, 439, 440, 442, 443, 444, 445, 447,\n",
       "       449, 450, 451, 452, 455, 456, 457, 460, 464, 465, 468, 469, 470,\n",
       "       471])"
      ]
     },
     "execution_count": 35,
     "metadata": {},
     "output_type": "execute_result"
    }
   ],
   "source": [
    "n2_pages"
   ]
  },
  {
   "cell_type": "code",
   "execution_count": 34,
   "metadata": {},
   "outputs": [
    {
     "data": {
      "text/plain": [
       "array([[  1.068     ,   1.0825    ],\n",
       "       [  2.34666667,   2.3705    ],\n",
       "       [  2.69466667,   2.74383333],\n",
       "       ...,\n",
       "       [468.45066667, 468.48516667],\n",
       "       [468.55733333, 468.58783333],\n",
       "       [469.51866667, 469.5425    ]])"
      ]
     },
     "execution_count": 34,
     "metadata": {},
     "output_type": "execute_result"
    }
   ],
   "source": [
    "marks_b / page_size"
   ]
  },
  {
   "cell_type": "code",
   "execution_count": 27,
   "metadata": {},
   "outputs": [
    {
     "data": {
      "text/plain": [
       "(341,)"
      ]
     },
     "execution_count": 27,
     "metadata": {},
     "output_type": "execute_result"
    }
   ],
   "source": [
    "pages_to_check = np.unique(stamps_start_page)\n",
    "pages_to_check.shape"
   ]
  },
  {
   "cell_type": "code",
   "execution_count": 30,
   "metadata": {},
   "outputs": [
    {
     "data": {
      "text/plain": [
       "0.9881889763779528"
      ]
     },
     "execution_count": 30,
     "metadata": {},
     "output_type": "execute_result"
    }
   ],
   "source": [
    "np.isin(stamps_start_page, n2_pages).mean()"
   ]
  },
  {
   "cell_type": "code",
   "execution_count": 31,
   "metadata": {},
   "outputs": [
    {
     "data": {
      "text/plain": [
       "0.9893138357705287"
      ]
     },
     "execution_count": 31,
     "metadata": {},
     "output_type": "execute_result"
    }
   ],
   "source": [
    "np.isin(stamps_end_page, n2_pages).mean()"
   ]
  },
  {
   "cell_type": "markdown",
   "metadata": {},
   "source": [
    "# Load NSRR dataset and pre-computed predicted dataset"
   ]
  },
  {
   "cell_type": "code",
   "execution_count": null,
   "metadata": {},
   "outputs": [],
   "source": [
    "parts_to_load = [0]  # 0 to 11\n",
    "\n",
    "nsrr = load_dataset(constants.NSRR_SS_NAME, load_checkpoint=True)\n",
    "pred_objects_1 = load_predictions(parts_to_load, nsrr)\n",
    "pred_objects_0 = load_predictions(parts_to_load, nsrr, thr=0.25)"
   ]
  },
  {
   "cell_type": "code",
   "execution_count": null,
   "metadata": {},
   "outputs": [],
   "source": [
    "# Filenames of dataset checkpoints\n",
    "byevent_proba_ckpt_path = os.path.join(\n",
    "    RESULTS_PATH, 'predictions_nsrr_ss',\n",
    "    'ckpt_20210716_from_20210529_thesis_indata_5cv_e1_n2_train_moda_ss_ensemble_to_e1_n2_train_nsrr_ss',\n",
    "    'v2_time',\n",
    "    'table_byevent_proba.csv'\n",
    ")"
   ]
  },
  {
   "cell_type": "code",
   "execution_count": null,
   "metadata": {},
   "outputs": [],
   "source": [
    "params_load_checkpoint = False\n",
    "\n",
    "# ############################\n",
    "\n",
    "if params_load_checkpoint:\n",
    "    print(\"Loading from checkpoint\")\n",
    "    table_byevent_proba = pd.read_csv(byevent_proba_ckpt_path)\n",
    "\n",
    "else:\n",
    "    # Perform computation and save checkpoint\n",
    "    table_byevent_proba = {\n",
    "        'subject_id': [],\n",
    "        'center_sample': [],\n",
    "        'prediction_part': [],\n",
    "        'category': [],\n",
    "        'probability': [],\n",
    "        'duration': [], \n",
    "        #'frequency': [],\n",
    "        #'amplitude_pp': [],\n",
    "        #'amplitude_rms': [],\n",
    "        #'c10_density': [],\n",
    "        #'c20_density': [],\n",
    "    }\n",
    "\n",
    "    min_n2_minutes = 60\n",
    "    verbose_min_minutes = False\n",
    "\n",
    "    start_time = time.time()\n",
    "    print(\"Generating table of parameters\")\n",
    "    n_parts = len(pred_objects_1)\n",
    "    \n",
    "    counter = 0\n",
    "    \n",
    "    for part_id in range(n_parts):\n",
    "        predictions_1 = pred_objects_1[part_id]\n",
    "        predictions_0 = pred_objects_0[part_id]\n",
    "        print(\"Processing Part %d / %d\" % (part_id + 1, n_parts))\n",
    "        for i_subject in range(10):\n",
    "        # for i_subject in tqdm(range(100)):\n",
    "            subject_id = predictions_1.all_ids[i_subject]\n",
    "            n2_pages = predictions_1.data[subject_id]['n2_pages']\n",
    "            n2_minutes = n2_pages.size * nsrr.original_page_duration / 60\n",
    "            if n2_minutes < min_n2_minutes:\n",
    "                if verbose_min_minutes:\n",
    "                    print(\"Skipped by N2 minutes: Subject %s with %d N2 minutes\" % (subject_id, n2_minutes))\n",
    "                continue\n",
    "\n",
    "            # Class 1 spindles (real):\n",
    "            marks_1 = predictions_1.get_subject_stamps(subject_id, pages_subset='wn')\n",
    "            # Class 0 \"spindles\" (false):\n",
    "            marks_0 = predictions_0.get_subject_stamps(subject_id, pages_subset='wn')\n",
    "            # Let only those class 0 without intersecting class 1\n",
    "            # If marks_1.size = 0 then marks_0 is by definition not intersecting\n",
    "            if marks_1.size > 0:\n",
    "                ov_mat = utils.get_overlap_matrix(marks_0, marks_1)\n",
    "                is_intersecting = ov_mat.sum(axis=1)\n",
    "                marks_0 = marks_0[is_intersecting == 0]\n",
    "            if (marks_1.size + marks_0.size) == 0:\n",
    "                continue  # There are no marks to work with\n",
    "            \n",
    "            #print(marks_0.shape[0], marks_1.shape[0])\n",
    "            \n",
    "            # Now only keep N2 stage marks\n",
    "            n2_pages = predictions_1.data[subject_id]['n2_pages']\n",
    "            print(n2_pages.shape)\n",
    "            page_size = int(nsrr.fs * nsrr.original_page_duration)\n",
    "            if marks_1.size > 0:\n",
    "                #print(marks_1.shape)\n",
    "                marks_1 = utils.extract_pages_for_stamps(marks_1, n2_pages, page_size)\n",
    "                #print(marks_1.shape)\n",
    "            #if marks_0.size > 0:\n",
    "            #    marks_0 = utils.extract_pages_for_stamps(marks_0, n2_pages, page_size)\n",
    "            if (marks_1.size + marks_0.size) == 0:\n",
    "                continue  # There are no marks to work with\n",
    "                \n",
    "            print(marks_0.shape[0], marks_1.shape[0])\n",
    "            \n",
    "            marks = []\n",
    "            marks_class = []\n",
    "            if marks_1.size > 0:\n",
    "                marks.append(marks_1)\n",
    "                marks_class.append([1] * marks_1.shape[0])\n",
    "            if marks_0.size > 0:\n",
    "                marks.append(marks_0)\n",
    "                marks_class.append([0] * marks_0.shape[0])\n",
    "            marks = np.concatenate(marks, axis=0).astype(np.int32)\n",
    "            marks_class = np.concatenate(marks_class).astype(np.int32)\n",
    "            n_marks = marks.shape[0]\n",
    "            counter += n_marks\n",
    "            \n",
    "            # Extract proba\n",
    "            subject_proba = predictions_1.get_subject_probabilities(subject_id, return_adjusted=False)\n",
    "            marks_proba = det_utils.get_event_probabilities(marks, subject_proba, downsampling_factor=8, proba_prc=75)\n",
    "            marks_proba = marks_proba.astype(np.float32)\n",
    "            \n",
    "            # Parameters\n",
    "            duration = (marks[:, 1] - marks[:, 0] + 1) / nsrr.fs\n",
    "            \n",
    "            table_byevent_proba['subject_id'].append([subject_id] * n_marks)\n",
    "            table_byevent_proba['center_sample'].append(marks.mean(axis=1).astype(np.int32))\n",
    "            table_byevent_proba['prediction_part'].append(np.array([part_id] * n_marks, dtype=np.int32))\n",
    "            table_byevent_proba['category'].append(marks_class)\n",
    "            table_byevent_proba['probability'].append(marks_proba)\n",
    "            table_byevent_proba['duration'].append(duration)\n",
    "            \n",
    "    for key in table_byevent_proba:\n",
    "        table_byevent_proba[key] = np.concatenate(table_byevent_proba[key])\n",
    "    table_byevent_proba = pd.DataFrame.from_dict(table_byevent_proba)\n",
    "    print(\"Done.\") \n",
    "    \n",
    "print(counter)\n",
    "print(table_byevent_proba.shape)"
   ]
  },
  {
   "cell_type": "code",
   "execution_count": null,
   "metadata": {},
   "outputs": [],
   "source": [
    "marks_1.shape"
   ]
  },
  {
   "cell_type": "code",
   "execution_count": null,
   "metadata": {},
   "outputs": [],
   "source": [
    "a = utils.extract_pages_for_stamps(marks_1, [10], page_size)\n",
    "a.shape"
   ]
  },
  {
   "cell_type": "code",
   "execution_count": null,
   "metadata": {},
   "outputs": [],
   "source": [
    "a"
   ]
  },
  {
   "cell_type": "code",
   "execution_count": null,
   "metadata": {},
   "outputs": [],
   "source": [
    "plt.scatter(table_byevent_proba.probability, table_byevent_proba.category)\n",
    "plt.show()"
   ]
  },
  {
   "cell_type": "code",
   "execution_count": null,
   "metadata": {},
   "outputs": [],
   "source": []
  },
  {
   "cell_type": "code",
   "execution_count": null,
   "metadata": {},
   "outputs": [],
   "source": [
    "locs = table_byevent_proba.category == 0\n",
    "plt.scatter(table_byevent_proba.probability[locs], table_byevent_proba.duration[locs], alpha=0.5)\n",
    "plt.show()"
   ]
  },
  {
   "cell_type": "code",
   "execution_count": null,
   "metadata": {},
   "outputs": [],
   "source": [
    "table_byevent_proba[\n",
    "    (table_byevent_proba.category == 0) & (table_byevent_proba.probability > 0.6)\n",
    "].sort_values(by=\"probability\", ascending=False)"
   ]
  },
  {
   "cell_type": "code",
   "execution_count": null,
   "metadata": {},
   "outputs": [],
   "source": [
    "table_byevent_proba[\n",
    "    (table_byevent_proba.subject_id == \"ccshs-trec-1800065\") \n",
    "    & (table_byevent_proba.center_sample > 1692000)\n",
    "    & (table_byevent_proba.center_sample < 1692400)\n",
    "]"
   ]
  },
  {
   "cell_type": "code",
   "execution_count": null,
   "metadata": {},
   "outputs": [],
   "source": [
    "# visualize\n",
    "loc_to_viz = 5197\n",
    "window_duration = 20\n",
    "\n",
    "#\n",
    "subject_info = table_byevent_proba.loc[loc_to_viz]\n",
    "print(subject_info)\n",
    "subject_data = nsrr.read_subject_data(subject_info.subject_id, exclusion_of_pages=False)\n",
    "signal = subject_data['signal']\n",
    "predictions = pred_objects_1[subject_info.prediction_part]\n",
    "center_sample = subject_info.center_sample\n",
    "start_sample = int(center_sample - window_duration * nsrr.fs // 2)\n",
    "end_sample = int(start_sample + window_duration * nsrr.fs)\n",
    "proba = predictions.get_subject_probabilities(\n",
    "    subject_info.subject_id, )\n",
    "proba_up = np.repeat(proba, 8)\n",
    "time_axis = np.arange(start_sample, end_sample) / nsrr.fs\n",
    "n2_pages = predictions.data[subject_info.subject_id]['n2_pages']\n",
    "n2_pages_vector = np.zeros(signal.shape, dtype=np.int32)\n",
    "page_size = int(nsrr.original_page_duration * nsrr.fs)\n",
    "for p in n2_pages:\n",
    "    start_page = p * page_size\n",
    "    end_page = start_page + page_size\n",
    "    n2_pages_vector[start_page:end_page] = 1\n",
    "\n",
    "fig, ax = plt.subplots(1, 1, figsize=(12, 2.5), dpi=140)\n",
    "ax.plot(time_axis, signal[start_sample:end_sample], linewidth=.6)\n",
    "ax.fill_between(\n",
    "    time_axis,\n",
    "    200 * (1 - n2_pages_vector[start_sample:end_sample]),\n",
    "    -200 * (1 - n2_pages_vector[start_sample:end_sample]),\n",
    "    facecolor=\"k\", alpha=0.1\n",
    ")\n",
    "\n",
    "ax.fill_between(\n",
    "    time_axis, \n",
    "    -300 - 50 * proba_up[start_sample:end_sample], \n",
    "    -300 + 50 * proba_up[start_sample:end_sample],\n",
    "    color=viz.PALETTE['red'], alpha=1.0\n",
    ")\n",
    "ax.axhline(-300 - 50, linewidth=0.7, linestyle=\"-\", color=\"k\")\n",
    "ax.axhline(-300 + 50, linewidth=0.7, linestyle=\"-\", color=\"k\")\n",
    "ax.axhline(-300 - 25, linewidth=0.7, linestyle=\"--\", color=\"k\")\n",
    "ax.axhline(-300 + 25, linewidth=0.7, linestyle=\"--\", color=\"k\")\n",
    "ax.axhline(-300 + 0, linewidth=0.7, linestyle=\"-\", color=\"k\")\n",
    "ax.set_ylim([-400, 200])\n",
    "ax.set_xlim([start_sample/nsrr.fs, end_sample/nsrr.fs])\n",
    "\n",
    "ax.grid()\n",
    "ax.set_xlabel(\"Time (s)\", fontsize=8)\n",
    "ax.tick_params(labelsize=8)\n",
    "title_str = 'Subject %s. Loc %d. Center category %d' % (subject_info.subject_id, loc_to_viz, subject_info.category)\n",
    "ax.set_title(title_str)\n",
    "plt.tight_layout()\n",
    "plt.show()"
   ]
  },
  {
   "cell_type": "code",
   "execution_count": null,
   "metadata": {},
   "outputs": [],
   "source": []
  },
  {
   "cell_type": "code",
   "execution_count": null,
   "metadata": {},
   "outputs": [],
   "source": [
    "signal.shape"
   ]
  },
  {
   "cell_type": "code",
   "execution_count": null,
   "metadata": {},
   "outputs": [],
   "source": []
  }
 ],
 "metadata": {
  "kernelspec": {
   "display_name": "Python 3",
   "language": "python",
   "name": "python3"
  },
  "language_info": {
   "codemirror_mode": {
    "name": "ipython",
    "version": 3
   },
   "file_extension": ".py",
   "mimetype": "text/x-python",
   "name": "python",
   "nbconvert_exporter": "python",
   "pygments_lexer": "ipython3",
   "version": "3.6.9"
  }
 },
 "nbformat": 4,
 "nbformat_minor": 2
}
