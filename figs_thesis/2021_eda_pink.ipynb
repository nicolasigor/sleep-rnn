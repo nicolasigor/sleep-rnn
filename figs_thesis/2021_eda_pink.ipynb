{
 "cells": [
  {
   "cell_type": "code",
   "execution_count": 115,
   "id": "75dff063",
   "metadata": {},
   "outputs": [
    {
     "data": {
      "text/html": [
       "<style>.container { width:100% !important; }</style>"
      ],
      "text/plain": [
       "<IPython.core.display.HTML object>"
      ]
     },
     "metadata": {},
     "output_type": "display_data"
    }
   ],
   "source": [
    "import os\n",
    "from pprint import pprint\n",
    "import sys\n",
    "\n",
    "import matplotlib.pyplot as plt\n",
    "import matplotlib\n",
    "import numpy as np\n",
    "import pandas as pd\n",
    "from scipy import stats\n",
    "from scipy.signal import find_peaks, hilbert\n",
    "import pickle\n",
    "import ipywidgets as widgets\n",
    "\n",
    "project_root = '..'\n",
    "sys.path.append(project_root)\n",
    "\n",
    "from sleeprnn.common import viz, constants\n",
    "from sleeprnn.helpers import reader, plotter, misc, performer\n",
    "from sleeprnn.detection import metrics, det_utils, ensemble\n",
    "from figs_thesis import fig_utils\n",
    "from baselines_scripts.butils import get_partitions\n",
    "from sleeprnn.detection.feeder_dataset import FeederDataset\n",
    "from sklearn.linear_model import LinearRegression, HuberRegressor\n",
    "from sleeprnn.data import utils, stamp_correction\n",
    "\n",
    "RESULTS_PATH = os.path.join(project_root, 'results')\n",
    "BASELINES_PATH = os.path.join(project_root, 'resources', 'comparison_data', 'baselines_2021')\n",
    "\n",
    "%matplotlib inline\n",
    "viz.notebook_full_width()\n",
    "\n",
    "param_filtering_fn = fig_utils.get_filtered_signal_for_event\n",
    "param_frequency_fn = fig_utils.get_frequency_by_fft\n",
    "param_amplitude_fn = fig_utils.get_amplitude_event"
   ]
  },
  {
   "cell_type": "code",
   "execution_count": 35,
   "id": "cf2086dc",
   "metadata": {},
   "outputs": [],
   "source": [
    "models = [constants.V2_TIME, constants.V2_CWT1D]\n",
    "print_model_names = {\n",
    "    constants.V2_TIME: 'REDv2-Time',\n",
    "    constants.V2_CWT1D: 'REDv2-CWT'\n",
    "}\n",
    "print_dataset_names = {\n",
    "    (constants.MASS_SS_NAME, 1): \"MASS-SS2-E1SS\",\n",
    "    (constants.MASS_SS_NAME, 2): \"MASS-SS2-E2SS\",\n",
    "    (constants.MASS_KC_NAME, 1): \"MASS-SS2-KC\",\n",
    "    (constants.MODA_SS_NAME, 1): \"MASS-MODA\",\n",
    "    (constants.INTA_SS_NAME, 1): \"INTA-UCH\",\n",
    "}\n",
    "eval_configs = [\n",
    "    dict(dataset_name=constants.MODA_SS_NAME, expert=1, strategy='5cv', seeds=3),\n",
    "    dict(dataset_name=constants.MASS_KC_NAME, expert=1, strategy='5cv', seeds=3),\n",
    "]\n",
    "fs = 200"
   ]
  },
  {
   "cell_type": "code",
   "execution_count": 215,
   "id": "464fcc86",
   "metadata": {},
   "outputs": [
    {
     "name": "stdout",
     "output_type": "stream",
     "text": [
      "\n",
      "Loading {'dataset_name': 'mass_kc', 'expert': 1, 'strategy': '5cv', 'seeds': 3}\n",
      "Creating cache that does not exist\n"
     ]
    },
    {
     "name": "stderr",
     "output_type": "stream",
     "text": [
      "/home/ntapia/miniconda3/envs/tf/lib/python3.7/site-packages/scipy/signal/_arraytools.py:45: FutureWarning: Using a non-tuple sequence for multidimensional indexing is deprecated; use `arr[tuple(seq)]` instead of `arr[seq]`. In the future this will be interpreted as an array index, `arr[np.array(seq)]`, which will result either in an error or a different result.\n",
      "  b = a[a_slice]\n"
     ]
    },
    {
     "name": "stdout",
     "output_type": "stream",
     "text": [
      "Done.\n"
     ]
    }
   ],
   "source": [
    "config = eval_configs[1]\n",
    "\n",
    "# Collect predictions\n",
    "print(\"\\nLoading\", config)\n",
    "source_dataset = reader.load_dataset(config[\"dataset_name\"], verbose=False)\n",
    "pink = reader.load_dataset(constants.PINK_NAME, verbose=False)\n",
    "pink.event_name = source_dataset.event_name\n",
    "_, _, test_ids_list = get_partitions(source_dataset, config[\"strategy\"], config[\"seeds\"])\n",
    "n_folds = len(test_ids_list)\n",
    "pred_dict = {}\n",
    "for model_version in models:\n",
    "    pred_dict[model_version] = {}\n",
    "    tmp_pert_dict = fig_utils.get_red_predictions_for_pink(\n",
    "        model_version, config[\"strategy\"], source_dataset, config[\"expert\"], \n",
    "        pink_dataset=pink, verbose=False)\n",
    "    perturbations = list(tmp_pert_dict.keys())\n",
    "    for perturbation_name in perturbations:\n",
    "        pred_dict[model_version][perturbation_name] = {}\n",
    "        tmp_dict = tmp_pert_dict[perturbation_name]\n",
    "        for k in tmp_dict.keys():\n",
    "            fold_subjects = tmp_dict[k][constants.TEST_SUBSET].all_ids\n",
    "            fold_predictions = tmp_dict[k][constants.TEST_SUBSET].get_stamps()\n",
    "            pred_dict[model_version][perturbation_name][k] = {s: pred for s, pred in zip(fold_subjects, fold_predictions)}   \n",
    "print(\"Done.\")"
   ]
  },
  {
   "cell_type": "code",
   "execution_count": 216,
   "id": "21fddfe4",
   "metadata": {},
   "outputs": [],
   "source": [
    "# Medir numero de detecciones por minuto (epm)\n",
    "scales = ['scale-1.0', 'scale-1.5', 'scale-2.0']\n",
    "n_folds = 15\n",
    "subject_ids = pink.all_ids\n",
    "table = []\n",
    "for model_version in models:\n",
    "    for scale in scales:\n",
    "        for k in range(n_folds):\n",
    "            for subject_id in subject_ids:\n",
    "                this_pred = pred_dict[model_version][scale][k][subject_id]\n",
    "                table.append(\n",
    "                    {'model': model_version, 'scale': scale, 'fold': k, 'subject_id': subject_id, 'n_events': this_pred.shape[0]}\n",
    "                )\n",
    "table = pd.DataFrame(table)"
   ]
  },
  {
   "cell_type": "code",
   "execution_count": 217,
   "id": "ea688fd6",
   "metadata": {},
   "outputs": [],
   "source": [
    "total_n2_hours = np.concatenate(pink.get_pages(pages_subset=constants.N2_RECORD)).size * pink.page_duration / 3600"
   ]
  },
  {
   "cell_type": "code",
   "execution_count": 218,
   "id": "7673d32d",
   "metadata": {},
   "outputs": [
    {
     "data": {
      "text/html": [
       "<div>\n",
       "<style scoped>\n",
       "    .dataframe tbody tr th:only-of-type {\n",
       "        vertical-align: middle;\n",
       "    }\n",
       "\n",
       "    .dataframe tbody tr th {\n",
       "        vertical-align: top;\n",
       "    }\n",
       "\n",
       "    .dataframe thead th {\n",
       "        text-align: right;\n",
       "    }\n",
       "</style>\n",
       "<table border=\"1\" class=\"dataframe\">\n",
       "  <thead>\n",
       "    <tr style=\"text-align: right;\">\n",
       "      <th></th>\n",
       "      <th>model</th>\n",
       "      <th>scale</th>\n",
       "      <th>n_events_mean</th>\n",
       "      <th>n_events_std</th>\n",
       "      <th>n_events_sum</th>\n",
       "      <th>density_hour_mean</th>\n",
       "      <th>density_hour_std</th>\n",
       "    </tr>\n",
       "  </thead>\n",
       "  <tbody>\n",
       "    <tr>\n",
       "      <th>0</th>\n",
       "      <td>v2_cwt1d</td>\n",
       "      <td>scale-1.0</td>\n",
       "      <td>319.933333</td>\n",
       "      <td>32.866329</td>\n",
       "      <td>4799</td>\n",
       "      <td>12.797333</td>\n",
       "      <td>1.314653</td>\n",
       "    </tr>\n",
       "    <tr>\n",
       "      <th>1</th>\n",
       "      <td>v2_cwt1d</td>\n",
       "      <td>scale-1.5</td>\n",
       "      <td>5090.666667</td>\n",
       "      <td>352.743848</td>\n",
       "      <td>76360</td>\n",
       "      <td>203.626667</td>\n",
       "      <td>14.109754</td>\n",
       "    </tr>\n",
       "    <tr>\n",
       "      <th>2</th>\n",
       "      <td>v2_cwt1d</td>\n",
       "      <td>scale-2.0</td>\n",
       "      <td>11919.933333</td>\n",
       "      <td>726.904897</td>\n",
       "      <td>178799</td>\n",
       "      <td>476.797333</td>\n",
       "      <td>29.076196</td>\n",
       "    </tr>\n",
       "    <tr>\n",
       "      <th>3</th>\n",
       "      <td>v2_time</td>\n",
       "      <td>scale-1.0</td>\n",
       "      <td>329.866667</td>\n",
       "      <td>48.443598</td>\n",
       "      <td>4948</td>\n",
       "      <td>13.194667</td>\n",
       "      <td>1.937744</td>\n",
       "    </tr>\n",
       "    <tr>\n",
       "      <th>4</th>\n",
       "      <td>v2_time</td>\n",
       "      <td>scale-1.5</td>\n",
       "      <td>5156.066667</td>\n",
       "      <td>558.569657</td>\n",
       "      <td>77341</td>\n",
       "      <td>206.242667</td>\n",
       "      <td>22.342786</td>\n",
       "    </tr>\n",
       "    <tr>\n",
       "      <th>5</th>\n",
       "      <td>v2_time</td>\n",
       "      <td>scale-2.0</td>\n",
       "      <td>12862.933333</td>\n",
       "      <td>1162.173852</td>\n",
       "      <td>192944</td>\n",
       "      <td>514.517333</td>\n",
       "      <td>46.486954</td>\n",
       "    </tr>\n",
       "  </tbody>\n",
       "</table>\n",
       "</div>"
      ],
      "text/plain": [
       "      model      scale  n_events_mean  n_events_std  n_events_sum  \\\n",
       "0  v2_cwt1d  scale-1.0     319.933333     32.866329          4799   \n",
       "1  v2_cwt1d  scale-1.5    5090.666667    352.743848         76360   \n",
       "2  v2_cwt1d  scale-2.0   11919.933333    726.904897        178799   \n",
       "3   v2_time  scale-1.0     329.866667     48.443598          4948   \n",
       "4   v2_time  scale-1.5    5156.066667    558.569657         77341   \n",
       "5   v2_time  scale-2.0   12862.933333   1162.173852        192944   \n",
       "\n",
       "   density_hour_mean  density_hour_std  \n",
       "0          12.797333          1.314653  \n",
       "1         203.626667         14.109754  \n",
       "2         476.797333         29.076196  \n",
       "3          13.194667          1.937744  \n",
       "4         206.242667         22.342786  \n",
       "5         514.517333         46.486954  "
      ]
     },
     "execution_count": 218,
     "metadata": {},
     "output_type": "execute_result"
    }
   ],
   "source": [
    "# mean and std across folds, each fold predicts on 25 hours of signal\n",
    "\n",
    "density_table = table.drop(columns=[\"subject_id\"]).groupby(by=[\"model\", \"scale\", \"fold\"]).sum()\n",
    "density_per_hour_table = density_table / total_n2_hours\n",
    "density_per_hour_table = density_per_hour_table.rename(columns={'n_events': 'density_hour'})\n",
    "density_per_hour_table = density_per_hour_table.reset_index()\n",
    "density_table = density_table.reset_index()\n",
    "density_table_per_hour_mean = density_per_hour_table.drop(columns=[\"fold\"]).groupby(by=[\"model\", \"scale\"]).mean().add_suffix(\"_mean\")\n",
    "density_table_per_hour_std = density_per_hour_table.drop(columns=[\"fold\"]).groupby(by=[\"model\", \"scale\"]).std(ddof=0).add_suffix(\"_std\")\n",
    "density_table_sum = density_table.drop(columns=[\"fold\"]).groupby(by=[\"model\", \"scale\"]).sum().add_suffix(\"_sum\")\n",
    "density_table_mean = density_table.drop(columns=[\"fold\"]).groupby(by=[\"model\", \"scale\"]).mean().add_suffix(\"_mean\")\n",
    "density_table_std = density_table.drop(columns=[\"fold\"]).groupby(by=[\"model\", \"scale\"]).std(ddof=0).add_suffix(\"_std\")\n",
    "density_table_stats = pd.concat(\n",
    "    [density_table_mean, density_table_std, density_table_sum, density_table_per_hour_mean, density_table_per_hour_std], axis=1).reset_index()\n",
    "density_table_stats"
   ]
  },
  {
   "cell_type": "code",
   "execution_count": 219,
   "id": "4bcd1a41",
   "metadata": {
    "scrolled": false
   },
   "outputs": [
    {
     "name": "stdout",
     "output_type": "stream",
     "text": [
      "v2_time - scale-1.0: total events 614\n",
      "v2_time - scale-1.5: total events 7818\n",
      "v2_time - scale-2.0: total events 18178\n",
      "v2_cwt1d - scale-1.0: total events 594\n",
      "v2_cwt1d - scale-1.5: total events 7906\n",
      "v2_cwt1d - scale-2.0: total events 17224\n"
     ]
    }
   ],
   "source": [
    "# find unique events (OR ensemble) -> intervals detected by at least one checkpoint\n",
    "scales = ['scale-1.0', 'scale-1.5', 'scale-2.0']\n",
    "n_folds = 15\n",
    "subject_ids = pink.all_ids\n",
    "unique_events = {}\n",
    "for model_version in models:\n",
    "    unique_events[model_version] = {}\n",
    "    for scale in scales:\n",
    "        unique_events[model_version][scale] = {}\n",
    "        n_events = 0\n",
    "        for subject_id in subject_ids:\n",
    "            tmp_signal = np.zeros(int(fs * 3600))\n",
    "            for k in range(n_folds):\n",
    "                this_pred = pred_dict[model_version][scale][k][subject_id]\n",
    "                for m in this_pred:\n",
    "                    tmp_signal[m[0]:m[1]+1] = tmp_signal[m[0]:m[1]+1] + 1\n",
    "            tmp_signal = (tmp_signal>0).astype(np.int32)\n",
    "            unique_stamps = utils.seq2stamp(tmp_signal)\n",
    "            # unique_stamps = stamp_correction.combine_close_stamps(unique_stamps, fs, min_separation=0.3)\n",
    "            unique_events[model_version][scale][subject_id] = unique_stamps\n",
    "            n_events += unique_stamps.shape[0]\n",
    "        print(\"%s - %s: total events %d\" % (model_version, scale, n_events))"
   ]
  },
  {
   "cell_type": "code",
   "execution_count": 220,
   "id": "ccb9e0e1",
   "metadata": {},
   "outputs": [
    {
     "name": "stdout",
     "output_type": "stream",
     "text": [
      "0.32 1.12\n",
      "0.2 2.08\n",
      "0.2 2.4\n",
      "0.32 1.04\n",
      "0.16 2.08\n",
      "0.2 2.44\n"
     ]
    },
    {
     "data": {
      "image/png": "[encoded data removed]",
      "text/plain": [
       "<Figure size 720x320 with 6 Axes>"
      ]
     },
     "metadata": {
      "needs_background": "light"
     },
     "output_type": "display_data"
    }
   ],
   "source": [
    "bins = np.arange(0.2, 2.5 + 0.001, 0.1)\n",
    "colors = [viz.PALETTE['blue'], viz.PALETTE['green'], viz.PALETTE['red']]\n",
    "fig, axes = plt.subplots(2, 3, figsize=(9, 4), dpi=80, sharex=True)\n",
    "for i, model_version in enumerate(models):\n",
    "    for j, scale in enumerate(scales):\n",
    "        all_events = [unique_events[model_version][scale][s] for s in subject_ids]\n",
    "        all_events = np.concatenate(all_events, axis=0)\n",
    "        durations = (all_events[:, 1] - all_events[:, 0] + 1) / fs\n",
    "        if durations.size > 0:\n",
    "            print(durations.min(), durations.max())\n",
    "        ax = axes[i, j]\n",
    "        ax.tick_params(labelsize=8)\n",
    "        ax.hist(durations, bins=bins, histtype='step', color=colors[j], linewidth=2)\n",
    "        ax.set_title(\"%s - %s\" % (model_version, scale), fontsize=8)\n",
    "plt.tight_layout()\n",
    "plt.show()"
   ]
  },
  {
   "cell_type": "code",
   "execution_count": 221,
   "id": "b9683c16",
   "metadata": {},
   "outputs": [
    {
     "name": "stdout",
     "output_type": "stream",
     "text": [
      "(23, 2)\n",
      "[[ 22616  22759]\n",
      " [ 46952  47095]\n",
      " [112912 113015]\n",
      " [176280 176383]\n",
      " [200528 200655]\n",
      " [264480 264591]\n",
      " [304496 304695]\n",
      " [310920 311031]\n",
      " [318112 318223]\n",
      " [335832 335959]\n",
      " [348752 348847]\n",
      " [372968 373103]\n",
      " [395824 395935]\n",
      " [396464 396639]\n",
      " [421512 421647]\n",
      " [425376 425519]\n",
      " [446064 446207]\n",
      " [506128 506279]\n",
      " [555880 555975]\n",
      " [590528 590663]\n",
      " [674424 674543]\n",
      " [706208 706335]\n",
      " [709544 709703]]\n",
      "[0.72 0.72 0.52 0.52 0.64 0.56 1.   0.56 0.56 0.64 0.48 0.68 0.56 0.88\n",
      " 0.68 0.72 0.72 0.76 0.48 0.68 0.6  0.64 0.8 ]\n"
     ]
    }
   ],
   "source": [
    "# KC: only scale 1.0\n",
    "# Observe some detections from subject 1\n",
    "\n",
    "\n",
    "selected_subject_id = 1\n",
    "selected_scale = \"scale-1.0\"\n",
    "\n",
    "print(unique_events['v2_time'][selected_scale][selected_subject_id].shape)\n",
    "tmp_marks = unique_events['v2_time'][selected_scale][selected_subject_id]\n",
    "print(tmp_marks)\n",
    "durations = (tmp_marks[:, 1] - tmp_marks[:, 0] + 1) / fs\n",
    "print(durations)"
   ]
  },
  {
   "cell_type": "code",
   "execution_count": 193,
   "id": "54dc814a",
   "metadata": {},
   "outputs": [
    {
     "name": "stdout",
     "output_type": "stream",
     "text": [
      "\n",
      "Loading {'dataset_name': 'moda_ss', 'expert': 1, 'strategy': '5cv', 'seeds': 3}\n",
      "Done.\n"
     ]
    }
   ],
   "source": [
    "# mostra todas las probabilidades predichas para dicho sujeto\n",
    "models = [constants.V2_TIME, constants.V2_CWT1D]\n",
    "print(\"\\nLoading\", config)\n",
    "source_dataset = reader.load_dataset(config[\"dataset_name\"], verbose=False)\n",
    "_, _, test_ids_list = get_partitions(source_dataset, config[\"strategy\"], config[\"seeds\"])\n",
    "n_folds = len(test_ids_list)\n",
    "proba_dict = {}\n",
    "for model_version in models:\n",
    "    proba_dict[model_version] = []\n",
    "    tmp_pert_dict = fig_utils.get_red_predictions_for_pink(\n",
    "        model_version, config[\"strategy\"], source_dataset, config[\"expert\"], \n",
    "        pink_dataset=pink, verbose=False)\n",
    "    tmp_dict = tmp_pert_dict[selected_scale]\n",
    "    for k in tmp_dict.keys():\n",
    "        this_proba = tmp_dict[k][constants.TEST_SUBSET].get_subject_probabilities(selected_subject_id, return_adjusted=True)\n",
    "        this_proba = np.repeat(this_proba, 8)\n",
    "        proba_dict[model_version].append(this_proba)\n",
    "print(\"Done.\")"
   ]
  },
  {
   "cell_type": "code",
   "execution_count": 194,
   "id": "f2951bb6",
   "metadata": {},
   "outputs": [
    {
     "name": "stdout",
     "output_type": "stream",
     "text": [
      "4 marks\n"
     ]
    }
   ],
   "source": [
    "tmp_signal = pink.get_subject_signal(subject_id=selected_subject_id, normalize_clip=False)\n",
    "tmp_marks = unique_events['v2_time'][selected_scale][selected_subject_id]\n",
    "print(\"%d marks\" % tmp_marks.shape[0])"
   ]
  },
  {
   "cell_type": "code",
   "execution_count": 195,
   "id": "88394de8",
   "metadata": {},
   "outputs": [],
   "source": [
    "def show_mark(mark_index):\n",
    "    mark = tmp_marks[mark_index]\n",
    "    scale_factor = float(selected_scale.split(\"-\")[-1])\n",
    "    window_duration = 5\n",
    "    fs = pink.fs\n",
    "    center_sample = int(mark.mean())\n",
    "    window_size = int(window_duration * fs)\n",
    "    start_sample = int(center_sample - window_size // 2)\n",
    "    end_sample = start_sample + window_size\n",
    "    segment_signal = scale_factor * tmp_signal[start_sample:end_sample]\n",
    "    time_axis = np.arange(start_sample, end_sample) / fs\n",
    "    \n",
    "    start_spindle_relative = mark[0] - start_sample\n",
    "    end_spindle_relative = mark[1] - start_sample\n",
    "    \n",
    "    # measure params\n",
    "    filt_signal = param_filtering_fn(segment_signal, fs, pink.event_name)\n",
    "    filt_signal_event = filt_signal[start_spindle_relative:end_spindle_relative]\n",
    "    event_duration = (mark[1] - mark[0] + 1) / fs\n",
    "    event_amplitude = param_amplitude_fn(filt_signal_event, fs, pink.event_name)\n",
    "    if pink.event_name == constants.SPINDLE:\n",
    "        event_frequency = param_frequency_fn(filt_signal_event, fs)\n",
    "    else:\n",
    "        event_frequency = None\n",
    "\n",
    "    y_lim = 100\n",
    "\n",
    "    fig, axes = plt.subplots(3, 1, figsize=(4, 4.5), dpi=120, sharex=True)\n",
    "    ax = axes[0]\n",
    "    ax.plot(\n",
    "        time_axis, segment_signal, linewidth=0.8, label=\"EEG 0-35 Hz\", \n",
    "        color=viz.PALETTE['blue'])\n",
    "    # ax.plot(\n",
    "    #    time_axis[start_spindle_relative:end_spindle_relative], segment_signal[start_spindle_relative:end_spindle_relative], linewidth=1.1,\n",
    "    #    color=viz.PALETTE['red'])\n",
    "    ax.plot(mark/fs, [-y_lim*0.8]*2, linewidth=4, color=viz.PALETTE['red'])\n",
    "    ax.set_ylim([-y_lim, y_lim])\n",
    "    ax.tick_params(labelsize=8)\n",
    "    ax.set_xticks(np.arange(start_sample/fs, end_sample/fs + 0.001, 2))\n",
    "    ax.set_xticks(np.arange(start_sample/fs, end_sample/fs + 0.001, 0.25), minor=True)\n",
    "    ax.set_yticks(np.arange(-y_lim, y_lim + 0.001, 50))\n",
    "    ax.set_yticks(np.arange(-y_lim, y_lim + 0.001, 25), minor=True)\n",
    "    ax.grid(which=\"minor\")\n",
    "    ax.legend(loc=\"upper right\", fontsize=8)\n",
    "    if event_frequency is None:\n",
    "        param_str = 'd=%1.2f s, App=%1.1f $\\mu$V' % (event_duration, event_amplitude)\n",
    "    else:\n",
    "        param_str = 'd=%1.2f s, App=%1.1f $\\mu$V, f=%1.1f Hz' % (event_duration, event_amplitude, event_frequency)\n",
    "    ax.set_title(\"PINK-S%02d. %s\" % (selected_subject_id, param_str), fontsize=8)\n",
    "\n",
    "    ax = axes[1]\n",
    "    model_version = \"v2_time\"\n",
    "    for proba in proba_dict[model_version]:\n",
    "        proba_segment = proba[start_sample:end_sample]\n",
    "        ax.fill_between(time_axis, 0, proba_segment, facecolor=viz.PALETTE['red'], alpha=0.1)\n",
    "        # ax.plot(time_axis, proba_segment, linewidth=1.5, alpha=0.3, color=viz.PALETTE['red'])\n",
    "    ax.tick_params(labelsize=8)\n",
    "    ax.set_ylim([0, 1])\n",
    "    ax.set_yticks([0, 0.5, 1])\n",
    "    ax.grid(which=\"minor\")\n",
    "    ax.axhline(0.5, linewidth=0.8, color=\"k\", label=\"REDv2-Time\", linestyle=\"--\")\n",
    "    ax.axhline(0.5*0.85, linewidth=0.8, color=\"k\", linestyle=\"--\")\n",
    "    ax.legend(loc=\"upper right\", fontsize=8)\n",
    "\n",
    "    ax = axes[2]\n",
    "    model_version = \"v2_cwt1d\"\n",
    "    for proba in proba_dict[model_version]:\n",
    "        proba_segment = proba[start_sample:end_sample]\n",
    "        ax.fill_between(time_axis, 0, proba_segment, facecolor=viz.PALETTE['red'], alpha=0.1)\n",
    "        # ax.plot(time_axis, proba_segment, linewidth=1.5, alpha=0.3, color=viz.PALETTE['red'])\n",
    "    ax.tick_params(labelsize=8)\n",
    "    ax.set_ylim([0, 1])\n",
    "    ax.set_yticks([0, 0.5, 1])\n",
    "    ax.grid(which=\"minor\")\n",
    "    ax.axhline(0.5, linewidth=0.8, color=\"k\", label=\"REDv2-CWT\", linestyle=\"--\")\n",
    "    ax.axhline(0.5*0.85, linewidth=0.8, color=\"k\", linestyle=\"--\")\n",
    "    ax.legend(loc=\"upper right\", fontsize=8)\n",
    "\n",
    "    plt.tight_layout()\n",
    "    plt.show()"
   ]
  },
  {
   "cell_type": "code",
   "execution_count": 196,
   "id": "14c9c39d",
   "metadata": {},
   "outputs": [
    {
     "name": "stdout",
     "output_type": "stream",
     "text": [
      "4 marks\n"
     ]
    },
    {
     "data": {
      "application/vnd.jupyter.widget-view+json": {
       "model_id": "b5c55daeecc94513b2a004fbc332908c",
       "version_major": 2,
       "version_minor": 0
      },
      "text/plain": [
       "interactive(children=(IntSlider(value=0, continuous_update=False, description='mark_idx', layout=Layout(width=…"
      ]
     },
     "metadata": {},
     "output_type": "display_data"
    }
   ],
   "source": [
    "print(\"%d marks\" % tmp_marks.shape[0])\n",
    "\n",
    "init_mark_idx = 0\n",
    "\n",
    "style = {'description_width': 'initial'}\n",
    "layout= widgets.Layout(width='1000px')\n",
    "widgets.interact(\n",
    "    lambda mark_idx: show_mark(mark_idx),\n",
    "    mark_idx=widgets.IntSlider(\n",
    "        min=0, max=tmp_marks.shape[0]-1, step=1, value=init_mark_idx, \n",
    "        continuous_update=False,\n",
    "        style=style,\n",
    "        layout=layout\n",
    "    ));"
   ]
  },
  {
   "cell_type": "code",
   "execution_count": 222,
   "id": "359ca03f",
   "metadata": {},
   "outputs": [
    {
     "name": "stdout",
     "output_type": "stream",
     "text": [
      "Scaling by 1.0\n"
     ]
    },
    {
     "name": "stderr",
     "output_type": "stream",
     "text": [
      "/home/ntapia/miniconda3/envs/tf/lib/python3.7/site-packages/scipy/signal/signaltools.py:1344: FutureWarning: Using a non-tuple sequence for multidimensional indexing is deprecated; use `arr[tuple(seq)]` instead of `arr[seq]`. In the future this will be interpreted as an array index, `arr[np.array(seq)]`, which will result either in an error or a different result.\n",
      "  out = out_full[ind]\n"
     ]
    },
    {
     "name": "stdout",
     "output_type": "stream",
     "text": [
      "Done.\n"
     ]
    }
   ],
   "source": [
    "# parameters of unique events\n",
    "\n",
    "selected_scale = \"scale-1.0\"\n",
    "\n",
    "table = {\n",
    "    'Detector': [],\n",
    "    'Duration': [], \n",
    "    'AmplitudePP': [],\n",
    "    'Frequency': [],\n",
    "}\n",
    "scale_factor = float(selected_scale.split(\"-\")[-1])\n",
    "print(\"Scaling by\", scale_factor)\n",
    "for model_version in models:\n",
    "    tmp_table = {\n",
    "        'Duration': [], \n",
    "        'AmplitudePP': [],\n",
    "        'Frequency': [],\n",
    "    }\n",
    "    for subject_id in pink.all_ids:\n",
    "        subject_signal = scale_factor * pink.get_subject_signal(subject_id, normalize_clip=False)\n",
    "        events = unique_events[model_version][selected_scale][subject_id]\n",
    "        if events.size == 0:\n",
    "            continue\n",
    "        # Duration\n",
    "        duration = (events[:, 1] - events[:, 0] + 1) / fs\n",
    "        tmp_table['Duration'].append(duration)\n",
    "        # Amplitude\n",
    "        filt_signal = param_filtering_fn(subject_signal, fs, pink.event_name)\n",
    "        signal_events = [filt_signal[e[0]:e[1]+1] for e in events]\n",
    "        amplitude = np.array([param_amplitude_fn(s, fs, pink.event_name) for s in signal_events])\n",
    "        tmp_table['AmplitudePP'].append(amplitude)\n",
    "        # Frequency\n",
    "        if pink.event_name == constants.SPINDLE:\n",
    "            freq_central = np.array([param_frequency_fn(s, fs) for s in signal_events])\n",
    "        else:\n",
    "            freq_central = np.array([1] * len(signal_events))\n",
    "        tmp_table['Frequency'].append(freq_central)\n",
    "    table['Detector'].append(model_version)\n",
    "    for key in tmp_table.keys():\n",
    "        table[key].append(np.concatenate(tmp_table[key]))\n",
    "print(\"Done.\")"
   ]
  },
  {
   "cell_type": "code",
   "execution_count": 232,
   "id": "6a61e844",
   "metadata": {},
   "outputs": [
    {
     "name": "stdout",
     "output_type": "stream",
     "text": [
      "31.11587915596415 103.36559096522691\n"
     ]
    },
    {
     "data": {
      "image/png": "[encoded data removed]",
      "text/plain": [
       "<Figure size 480x240 with 2 Axes>"
      ]
     },
     "metadata": {
      "needs_background": "light"
     },
     "output_type": "display_data"
    },
    {
     "name": "stdout",
     "output_type": "stream",
     "text": [
      "32.1249939135692 103.36559096522691\n"
     ]
    },
    {
     "data": {
      "image/png": "[encoded data removed]",
      "text/plain": [
       "<Figure size 480x240 with 2 Axes>"
      ]
     },
     "metadata": {
      "needs_background": "light"
     },
     "output_type": "display_data"
    }
   ],
   "source": [
    "for i, model_version in enumerate(table['Detector']):\n",
    "    durations = table['Duration'][i]\n",
    "    amplitudes = table['AmplitudePP'][i]\n",
    "    if pink.event_name == constants.SPINDLE:\n",
    "        frequencies = table['Frequency'][i]\n",
    "        n_params = 3\n",
    "    else:\n",
    "        frequencies = None\n",
    "        n_params = 2\n",
    "    fig, axes = plt.subplots(1, n_params, figsize=(3*n_params, 3), dpi=80)\n",
    "    \n",
    "    ax = axes[0]\n",
    "    ax.set_title(\"Durations %s\" % model_version)\n",
    "    if frequencies is None:\n",
    "        ax.hist(durations, bins=np.arange(0.2, 1.1 + 1e-3, 0.1))\n",
    "        ax.set_xlim([0.2, 1.2])\n",
    "    else:\n",
    "        ax.hist(durations, bins=np.arange(0.2, 1.1 + 1e-3, 0.1))\n",
    "        ax.set_xlim([0.2, 1.1])\n",
    "    \n",
    "    ax = axes[1]\n",
    "    if frequencies is None:\n",
    "        ax.set_title(\"App %s\" % model_version)\n",
    "        print(amplitudes.min(), amplitudes.max())\n",
    "        ax.hist(amplitudes, bins=np.arange(30, 110 + 1e-3, 10))\n",
    "    else:\n",
    "        ax.hist(amplitudes, bins=np.arange(10, 50 + 1e-3, 5))\n",
    "        ax.set_xlim([10, 50])\n",
    "    \n",
    "    if frequencies is not None:\n",
    "        ax = axes[2]\n",
    "        ax.set_title(\"Freqs %s\" % model_version)\n",
    "        ax.hist(frequencies, bins=np.arange(9, 17 + 1e-3, 0.5))\n",
    "        ax.set_xlim([9, 17])\n",
    "    \n",
    "    plt.tight_layout()\n",
    "    plt.show()"
   ]
  },
  {
   "cell_type": "code",
   "execution_count": null,
   "id": "c4a38e14",
   "metadata": {},
   "outputs": [],
   "source": []
  }
 ],
 "metadata": {
  "kernelspec": {
   "display_name": "Python 3",
   "language": "python",
   "name": "python3"
  },
  "language_info": {
   "codemirror_mode": {
    "name": "ipython",
    "version": 3
   },
   "file_extension": ".py",
   "mimetype": "text/x-python",
   "name": "python",
   "nbconvert_exporter": "python",
   "pygments_lexer": "ipython3",
   "version": "3.7.10"
  }
 },
 "nbformat": 4,
 "nbformat_minor": 5
}
