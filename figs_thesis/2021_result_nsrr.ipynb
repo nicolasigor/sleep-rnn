{
 "cells": [
  {
   "cell_type": "code",
   "execution_count": 6,
   "metadata": {},
   "outputs": [
    {
     "data": {
      "text/html": [
       "<style>.container { width:100% !important; }</style>"
      ],
      "text/plain": [
       "<IPython.core.display.HTML object>"
      ]
     },
     "metadata": {},
     "output_type": "display_data"
    }
   ],
   "source": [
    "import os\n",
    "import sys\n",
    "import pickle\n",
    "\n",
    "PROJECT_ROOT = os.path.abspath('..')\n",
    "sys.path.append(PROJECT_ROOT)\n",
    "\n",
    "import numpy as np\n",
    "import matplotlib.pyplot as plt\n",
    "import pandas as pd\n",
    "\n",
    "from sleeprnn.helpers.reader import load_dataset\n",
    "from sleeprnn.common import constants, viz, pkeys\n",
    "from sleeprnn.data import utils, stamp_correction\n",
    "from sleeprnn.detection.postprocessor import PostProcessor\n",
    "from sleeprnn.detection import det_utils\n",
    "from figs_thesis import fig_utils\n",
    "\n",
    "viz.notebook_full_width()\n",
    "\n",
    "RESULTS_PATH = os.path.join(PROJECT_ROOT, 'results')"
   ]
  },
  {
   "cell_type": "code",
   "execution_count": 11,
   "metadata": {},
   "outputs": [],
   "source": [
    "class PredictedNSRR(object):\n",
    "    def __init__(\n",
    "        self,\n",
    "        experiment_folder='20210716_from_20210529_thesis_indata_5cv_e1_n2_train_moda_ss_ensemble_to_e1_n2_train_nsrr_ss',\n",
    "        grid_folder='v2_time',\n",
    "        page_duration=30,\n",
    "        min_separation=0.5,\n",
    "        min_duration=0.5,\n",
    "        max_duration=3.0,\n",
    "    ):\n",
    "        self.experiment_folder = experiment_folder\n",
    "        self.grid_folder = grid_folder\n",
    "        self.subject_to_fold_map = self._hash_predictions()\n",
    "        self.all_ids = np.sort(list(self.subject_to_fold_map.keys()))\n",
    "        \n",
    "        post_params = {\n",
    "            pkeys.PAGE_DURATION: page_duration,\n",
    "            pkeys.SS_MIN_SEPARATION: min_separation,\n",
    "            pkeys.SS_MIN_DURATION: min_duration,\n",
    "            pkeys.SS_MAX_DURATION: max_duration,\n",
    "        }\n",
    "        self.postprocessor = PostProcessor(constants.SPINDLE, params=post_params)\n",
    "    \n",
    "    def get_fold_probabilities(self, fold_id):\n",
    "        pred_path = os.path.join(RESULTS_PATH, 'predictions_nsrr_ss', self.experiment_folder, self.grid_folder)\n",
    "        fold_path = os.path.join(pred_path, 'fold%d' % fold_id, 'prediction_n2_test.pkl')\n",
    "        with open(fold_path, 'rb') as handle:\n",
    "            proba_dict = pickle.load(handle)\n",
    "        return proba_dict\n",
    "    \n",
    "    def get_subject_probabilities(self, subject_id):\n",
    "        fold_id = self.subject_to_fold_map[subject_id]\n",
    "        proba_dict = self.get_fold_probabilities(fold_id)\n",
    "        subject_proba = proba_dict[subject_id]\n",
    "        return subject_proba\n",
    "    \n",
    "    def get_subject_stamps(self, subject_id, subject_n2_pages=None, subject_probabilities=None, threshold=0.5):\n",
    "        if subject_probabilities is None:\n",
    "            subject_proba = self.get_subject_probabilities(subject_id)\n",
    "        marks = self.postprocessor.proba2stamps(subject_proba, thr=threshold, pages_indices_subset=subject_n2_pages)\n",
    "        return marks\n",
    "    \n",
    "    def get_fold_stamps(self, fold_id, fold_n2_pages_dict=None, threshold=0.5):\n",
    "        proba_dict = self.get_fold_probabilities(fold_id)\n",
    "        fold_subjects = list(proba_dict.keys())\n",
    "        \n",
    "        if fold_n2_pages_dict is None:\n",
    "            fold_n2_pages_dict = {s: None for subject_id in fold_subjects}\n",
    "        \n",
    "        marks_dict = {}\n",
    "        for subject_id in fold_subjects:\n",
    "            subject_proba = proba_dict[subject_id]\n",
    "            subject_marks = self.get_subject_stamps(\n",
    "                subject_id, \n",
    "                subject_n2_pages=fold_n2_pages_dict[subject_id], \n",
    "                subject_probabilities=subject_proba, threshold=threshold)\n",
    "            marks_dict[subject_id] = subject_marks\n",
    "        return marks_dict, proba_dict\n",
    "    \n",
    "    def get_\n",
    "    \n",
    "    def _hash_predictions(self):\n",
    "        pred_path = os.path.join(RESULTS_PATH, 'predictions_nsrr_ss', self.experiment_folder, self.grid_folder)\n",
    "        folds = os.listdir(pred_path)\n",
    "        folds = [int(f.split(\"fold\")[-1]) for f in folds]\n",
    "        folds = np.sort(folds)\n",
    "        \n",
    "        subject_to_fold_map = {}\n",
    "        for fold_id in folds:\n",
    "            proba_dict = self.get_fold_probabilities(fold_id)\n",
    "            fold_subjects = list(proba_dict.keys())\n",
    "            for subject_id in fold_subjects:\n",
    "                subject_to_fold_map[subject_id] = fold_id\n",
    "        return subject_to_fold_map"
   ]
  },
  {
   "cell_type": "code",
   "execution_count": 12,
   "metadata": {},
   "outputs": [],
   "source": [
    "preds = PredictedNSRR()"
   ]
  },
  {
   "cell_type": "code",
   "execution_count": 16,
   "metadata": {},
   "outputs": [
    {
     "name": "stdout",
     "output_type": "stream",
     "text": [
      "Dataset nsrr_ss with 3 patients.\n",
      "Loading from checkpoint... Loaded\n",
      "Global STD: None\n",
      "Dataset nsrr_ss with 11593 patients.\n"
     ]
    }
   ],
   "source": [
    "nsrr = load_dataset(constants.NSRR_SS_NAME, load_checkpoint=True)"
   ]
  },
  {
   "cell_type": "markdown",
   "metadata": {},
   "source": [
    "# Reproducción de tendencias"
   ]
  },
  {
   "cell_type": "code",
   "execution_count": null,
   "metadata": {},
   "outputs": [],
   "source": [
    "n_folds = 2\n",
    "\n",
    "\n"
   ]
  }
 ],
 "metadata": {
  "kernelspec": {
   "display_name": "Python 3",
   "language": "python",
   "name": "python3"
  },
  "language_info": {
   "codemirror_mode": {
    "name": "ipython",
    "version": 3
   },
   "file_extension": ".py",
   "mimetype": "text/x-python",
   "name": "python",
   "nbconvert_exporter": "python",
   "pygments_lexer": "ipython3",
   "version": "3.6.9"
  }
 },
 "nbformat": 4,
 "nbformat_minor": 2
}
