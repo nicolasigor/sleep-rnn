{
 "cells": [
  {
   "cell_type": "code",
   "execution_count": 133,
   "metadata": {},
   "outputs": [
    {
     "data": {
      "text/html": [
       "<style>.container { width:100% !important; }</style>"
      ],
      "text/plain": [
       "<IPython.core.display.HTML object>"
      ]
     },
     "metadata": {},
     "output_type": "display_data"
    }
   ],
   "source": [
    "import os\n",
    "import sys\n",
    "import pickle\n",
    "import time\n",
    "\n",
    "PROJECT_ROOT = os.path.abspath('..')\n",
    "sys.path.append(PROJECT_ROOT)\n",
    "\n",
    "import numpy as np\n",
    "import matplotlib.pyplot as plt\n",
    "import pandas as pd\n",
    "import scipy\n",
    "from tqdm import tqdm\n",
    "\n",
    "from sleeprnn.helpers.reader import load_dataset\n",
    "from sleeprnn.common import constants, viz, pkeys\n",
    "from sleeprnn.data import utils, stamp_correction\n",
    "from sleeprnn.detection.postprocessor import PostProcessor\n",
    "from sleeprnn.detection.predicted_dataset import PredictedDataset\n",
    "from sleeprnn.detection.feeder_dataset import FeederDataset\n",
    "from sleeprnn.detection import det_utils\n",
    "from figs_thesis import fig_utils\n",
    "\n",
    "viz.notebook_full_width()\n",
    "\n",
    "param_filtering_fn = fig_utils.get_filtered_signal_for_event\n",
    "param_frequency_fn = fig_utils.get_frequency_by_fft\n",
    "param_amplitude_fn = fig_utils.get_amplitude_event\n",
    "\n",
    "RESULTS_PATH = os.path.join(PROJECT_ROOT, 'results')\n",
    "LETTERS = ['A', 'B', 'C', 'D', 'E', 'F', 'G', 'H', 'I', 'J', 'K', 'L', 'M', 'N', 'O', 'P']"
   ]
  },
  {
   "cell_type": "markdown",
   "metadata": {},
   "source": [
    "# Load NSRR dataset and pre-computed predicted dataset"
   ]
  },
  {
   "cell_type": "code",
   "execution_count": null,
   "metadata": {},
   "outputs": [],
   "source": [
    "nsrr = load_dataset(constants.NSRR_SS_NAME, load_checkpoint=True)"
   ]
  },
  {
   "cell_type": "code",
   "execution_count": null,
   "metadata": {},
   "outputs": [],
   "source": [
    "parts_to_load = [0]  # 0 to 11\n",
    "\n",
    "pred_objects = []\n",
    "for part in parts_to_load:\n",
    "    filepath = os.path.join(\n",
    "        RESULTS_PATH, 'predictions_nsrr_ss',\n",
    "        'ckpt_20210716_from_20210529_thesis_indata_5cv_e1_n2_train_moda_ss_ensemble_to_e1_n2_train_nsrr_ss',\n",
    "        'v2_time',\n",
    "        'prediction_part%d.pkl' % part\n",
    "    )\n",
    "    with open(filepath, 'rb') as handle:\n",
    "        pred_object = pickle.load(handle)\n",
    "    pred_object.set_parent_dataset(nsrr)\n",
    "    pred_objects.append(pred_object)"
   ]
  },
  {
   "cell_type": "markdown",
   "metadata": {},
   "source": [
    "<h1> Dataset de parámetros</h1>\n",
    "\n",
    "Parámetros no definidos son NaN."
   ]
  },
  {
   "cell_type": "code",
   "execution_count": 2,
   "metadata": {},
   "outputs": [],
   "source": [
    "# Filenames of dataset checkpoints\n",
    "byevent_ckpt_path = os.path.join(\n",
    "    RESULTS_PATH, 'predictions_nsrr_ss',\n",
    "    'ckpt_20210716_from_20210529_thesis_indata_5cv_e1_n2_train_moda_ss_ensemble_to_e1_n2_train_nsrr_ss',\n",
    "    'v2_time',\n",
    "    'table_byevent.csv'\n",
    ")\n",
    "bysubject_ckpt_path = os.path.join(\n",
    "    RESULTS_PATH, 'predictions_nsrr_ss',\n",
    "    'ckpt_20210716_from_20210529_thesis_indata_5cv_e1_n2_train_moda_ss_ensemble_to_e1_n2_train_nsrr_ss',\n",
    "    'v2_time',\n",
    "    'table_bysubject.csv'\n",
    ")"
   ]
  },
  {
   "cell_type": "code",
   "execution_count": 3,
   "metadata": {},
   "outputs": [
    {
     "name": "stdout",
     "output_type": "stream",
     "text": [
      "Loading from checkpoint\n"
     ]
    }
   ],
   "source": [
    "params_load_checkpoint = True\n",
    "\n",
    "# ############################\n",
    "\n",
    "if params_load_checkpoint:\n",
    "    print(\"Loading from checkpoint\")\n",
    "    table_byevent = pd.read_csv(byevent_ckpt_path)\n",
    "    table_bysubject = pd.read_csv(bysubject_ckpt_path)\n",
    "\n",
    "else:\n",
    "    # Perform computation and save checkpoint\n",
    "    table_byevent = {\n",
    "        'subject_id': [],\n",
    "        'mark_id': [],\n",
    "        'duration': [], \n",
    "        'amplitude': [],\n",
    "        'frequency': [],\n",
    "    }\n",
    "    table_bysubject = {\n",
    "        'subject_id': [],\n",
    "        'age': [], \n",
    "        'female': [],\n",
    "        'n2_minutes': [],\n",
    "        'n2_abs_sigma_power': [],\n",
    "        'n2_rel_sigma_power': [],\n",
    "        'n2_pl_exponent': [],\n",
    "        'density': [],\n",
    "        'duration': [], \n",
    "        'amplitude': [],\n",
    "        'frequency': [],\n",
    "    }\n",
    "\n",
    "    min_n2_minutes = 60\n",
    "    verbose_min_minutes = False\n",
    "\n",
    "    start_time = time.time()\n",
    "    print(\"Generating table of parameters\")\n",
    "    for part_id, predictions in enumerate(pred_objects):\n",
    "        print(\"Processing Part %d / %d\" % (part_id + 1, len(pred_objects)))\n",
    "        for subject_id in tqdm(predictions.all_ids):\n",
    "            n2_pages = predictions.data[subject_id]['n2_pages']\n",
    "            n2_minutes = n2_pages.size * nsrr.original_page_duration / 60\n",
    "            if n2_minutes < min_n2_minutes:\n",
    "                if verbose_min_minutes:\n",
    "                    print(\"Skipped by N2 minutes: Subject %s with %d N2 minutes\" % (subject_id, n2_minutes))\n",
    "                continue\n",
    "\n",
    "            # Now compute parameters\n",
    "            subject_data = nsrr.read_subject_data(subject_id, exclusion_of_pages=False)\n",
    "            signal = subject_data['signal']\n",
    "            age = float(subject_data['age'].item())\n",
    "            female = int(subject_data['sex'].item() == 'f')\n",
    "\n",
    "            # By-subject spectral parameters\n",
    "            signal_n2 = signal.reshape(-1, nsrr.fs * nsrr.original_page_duration)[n2_pages].flatten()\n",
    "            freq, power = utils.power_spectrum_by_sliding_window(signal_n2, nsrr.fs, window_duration=5)\n",
    "            # a) Absolute sigma power \n",
    "            n2_abs_sigma_power = power[(freq >= 11) & (freq <= 16)].mean()\n",
    "            # b) Relative sigma power (as in Lacourse)\n",
    "            n2_broad_power = power[(freq >= 4.5) & (freq <= 30)].mean()\n",
    "            n2_rel_sigma_power = n2_abs_sigma_power / n2_broad_power\n",
    "            # c) Power law exponent 2-30 Hz without sigma band (same as exclusion process)\n",
    "            locs_to_use = np.where(((freq >= 2) & (freq < 10)) | ((freq > 17) & (freq <= 30)))[0]\n",
    "            log_x = np.log(freq[locs_to_use])\n",
    "            log_y = np.log(power[locs_to_use])\n",
    "            n2_pl_exponent, _, _, _, _ = scipy.stats.linregress(log_x, log_y)\n",
    "\n",
    "            # Spindle parameters\n",
    "            marks = predictions.get_subject_stamps(subject_id, pages_subset='n2')\n",
    "            n_marks = marks.shape[0]\n",
    "            density = n_marks / n2_minutes  # epm\n",
    "            if n_marks == 0:\n",
    "                # Dummy entries\n",
    "                be_subject_id = [subject_id]\n",
    "                be_mark_id = [np.nan]\n",
    "                be_duration = [np.nan]\n",
    "                be_amplitude = [np.nan]\n",
    "                be_frequency = [np.nan]\n",
    "            else:\n",
    "                be_subject_id = [subject_id] * n_marks\n",
    "                be_mark_id = np.arange(n_marks)\n",
    "\n",
    "                be_duration = (marks[:, 1] - marks[:, 0] + 1) / nsrr.fs\n",
    "\n",
    "                filt_signal = param_filtering_fn(signal, nsrr.fs, constants.SPINDLE)\n",
    "                signal_events = [filt_signal[e[0]:(e[1]+1)] for e in marks]\n",
    "\n",
    "                be_amplitude = np.array([\n",
    "                    param_amplitude_fn(s, nsrr.fs, constants.SPINDLE) for s in signal_events\n",
    "                ])\n",
    "\n",
    "                be_frequency = np.array([\n",
    "                    param_frequency_fn(s, nsrr.fs) for s in signal_events\n",
    "                ])\n",
    "\n",
    "            # By-subject averages\n",
    "            bs_duration = np.mean(be_duration)\n",
    "            bs_amplitude = np.mean(be_amplitude)\n",
    "            bs_frequency = np.mean(be_frequency)\n",
    "\n",
    "            # Save parameters\n",
    "            table_byevent['subject_id'].append(be_subject_id)\n",
    "            table_byevent['mark_id'].append(be_mark_id)\n",
    "            table_byevent['duration'].append(be_duration)\n",
    "            table_byevent['amplitude'].append(be_amplitude)\n",
    "            table_byevent['frequency'].append(be_frequency)\n",
    "\n",
    "            table_bysubject['subject_id'].append(subject_id)\n",
    "            table_bysubject['age'].append(age)\n",
    "            table_bysubject['female'].append(female)\n",
    "            table_bysubject['n2_minutes'].append(n2_minutes)\n",
    "            table_bysubject['n2_abs_sigma_power'].append(n2_abs_sigma_power)\n",
    "            table_bysubject['n2_rel_sigma_power'].append(n2_rel_sigma_power)\n",
    "            table_bysubject['n2_pl_exponent'].append(n2_pl_exponent)\n",
    "            table_bysubject['density'].append(density)\n",
    "            table_bysubject['duration'].append(bs_duration)\n",
    "            table_bysubject['amplitude'].append(bs_amplitude)\n",
    "            table_bysubject['frequency'].append(bs_frequency) \n",
    "    end_time = time.time()\n",
    "    et_time = (end_time - start_time) / 60  # minutes\n",
    "    print(\"Elapsed time: %1.4f minutes\" % et_time)\n",
    "    \n",
    "    for key in table_byevent:\n",
    "        table_byevent[key] = np.concatenate(table_byevent[key])\n",
    "    table_byevent = pd.DataFrame.from_dict(table_byevent)\n",
    "    table_bysubject = pd.DataFrame.from_dict(table_bysubject)\n",
    "   \n",
    "    # Save checkpoint\n",
    "    print(\"Saving checkpoint\")\n",
    "    table_byevent.to_csv(byevent_ckpt_path, index=False)\n",
    "    table_bysubject.to_csv(bysubject_ckpt_path, index=False)\n",
    "    print(\"Done.\")"
   ]
  },
  {
   "cell_type": "code",
   "execution_count": 4,
   "metadata": {},
   "outputs": [
    {
     "name": "stdout",
     "output_type": "stream",
     "text": [
      "(2319290, 5)\n"
     ]
    },
    {
     "data": {
      "text/html": [
       "<div>\n",
       "<style scoped>\n",
       "    .dataframe tbody tr th:only-of-type {\n",
       "        vertical-align: middle;\n",
       "    }\n",
       "\n",
       "    .dataframe tbody tr th {\n",
       "        vertical-align: top;\n",
       "    }\n",
       "\n",
       "    .dataframe thead th {\n",
       "        text-align: right;\n",
       "    }\n",
       "</style>\n",
       "<table border=\"1\" class=\"dataframe\">\n",
       "  <thead>\n",
       "    <tr style=\"text-align: right;\">\n",
       "      <th></th>\n",
       "      <th>subject_id</th>\n",
       "      <th>mark_id</th>\n",
       "      <th>duration</th>\n",
       "      <th>amplitude</th>\n",
       "      <th>frequency</th>\n",
       "    </tr>\n",
       "  </thead>\n",
       "  <tbody>\n",
       "    <tr>\n",
       "      <th>0</th>\n",
       "      <td>ccshs-trec-1800034</td>\n",
       "      <td>0.0</td>\n",
       "      <td>0.44</td>\n",
       "      <td>24.371809</td>\n",
       "      <td>13.9</td>\n",
       "    </tr>\n",
       "    <tr>\n",
       "      <th>1</th>\n",
       "      <td>ccshs-trec-1800034</td>\n",
       "      <td>1.0</td>\n",
       "      <td>0.72</td>\n",
       "      <td>28.900696</td>\n",
       "      <td>14.8</td>\n",
       "    </tr>\n",
       "    <tr>\n",
       "      <th>2</th>\n",
       "      <td>ccshs-trec-1800034</td>\n",
       "      <td>2.0</td>\n",
       "      <td>1.48</td>\n",
       "      <td>23.536839</td>\n",
       "      <td>15.4</td>\n",
       "    </tr>\n",
       "    <tr>\n",
       "      <th>3</th>\n",
       "      <td>ccshs-trec-1800034</td>\n",
       "      <td>3.0</td>\n",
       "      <td>0.60</td>\n",
       "      <td>26.453024</td>\n",
       "      <td>15.2</td>\n",
       "    </tr>\n",
       "    <tr>\n",
       "      <th>4</th>\n",
       "      <td>ccshs-trec-1800034</td>\n",
       "      <td>4.0</td>\n",
       "      <td>0.64</td>\n",
       "      <td>68.478527</td>\n",
       "      <td>14.3</td>\n",
       "    </tr>\n",
       "  </tbody>\n",
       "</table>\n",
       "</div>"
      ],
      "text/plain": [
       "           subject_id  mark_id  duration  amplitude  frequency\n",
       "0  ccshs-trec-1800034      0.0      0.44  24.371809       13.9\n",
       "1  ccshs-trec-1800034      1.0      0.72  28.900696       14.8\n",
       "2  ccshs-trec-1800034      2.0      1.48  23.536839       15.4\n",
       "3  ccshs-trec-1800034      3.0      0.60  26.453024       15.2\n",
       "4  ccshs-trec-1800034      4.0      0.64  68.478527       14.3"
      ]
     },
     "execution_count": 4,
     "metadata": {},
     "output_type": "execute_result"
    }
   ],
   "source": [
    "print(table_byevent.shape)\n",
    "table_byevent.head()"
   ]
  },
  {
   "cell_type": "code",
   "execution_count": 5,
   "metadata": {},
   "outputs": [
    {
     "name": "stdout",
     "output_type": "stream",
     "text": [
      "(11224, 11)\n"
     ]
    },
    {
     "data": {
      "text/html": [
       "<div>\n",
       "<style scoped>\n",
       "    .dataframe tbody tr th:only-of-type {\n",
       "        vertical-align: middle;\n",
       "    }\n",
       "\n",
       "    .dataframe tbody tr th {\n",
       "        vertical-align: top;\n",
       "    }\n",
       "\n",
       "    .dataframe thead th {\n",
       "        text-align: right;\n",
       "    }\n",
       "</style>\n",
       "<table border=\"1\" class=\"dataframe\">\n",
       "  <thead>\n",
       "    <tr style=\"text-align: right;\">\n",
       "      <th></th>\n",
       "      <th>subject_id</th>\n",
       "      <th>age</th>\n",
       "      <th>female</th>\n",
       "      <th>n2_minutes</th>\n",
       "      <th>n2_abs_sigma_power</th>\n",
       "      <th>n2_rel_sigma_power</th>\n",
       "      <th>n2_pl_exponent</th>\n",
       "      <th>density</th>\n",
       "      <th>duration</th>\n",
       "      <th>amplitude</th>\n",
       "      <th>frequency</th>\n",
       "    </tr>\n",
       "  </thead>\n",
       "  <tbody>\n",
       "    <tr>\n",
       "      <th>0</th>\n",
       "      <td>ccshs-trec-1800034</td>\n",
       "      <td>17.40</td>\n",
       "      <td>1</td>\n",
       "      <td>163.0</td>\n",
       "      <td>0.386454</td>\n",
       "      <td>1.859941</td>\n",
       "      <td>-1.279945</td>\n",
       "      <td>4.969325</td>\n",
       "      <td>1.116099</td>\n",
       "      <td>46.538635</td>\n",
       "      <td>13.508025</td>\n",
       "    </tr>\n",
       "    <tr>\n",
       "      <th>1</th>\n",
       "      <td>ccshs-trec-1800038</td>\n",
       "      <td>17.40</td>\n",
       "      <td>1</td>\n",
       "      <td>217.5</td>\n",
       "      <td>0.308670</td>\n",
       "      <td>1.510728</td>\n",
       "      <td>-1.136783</td>\n",
       "      <td>4.422989</td>\n",
       "      <td>1.102703</td>\n",
       "      <td>39.584287</td>\n",
       "      <td>12.762682</td>\n",
       "    </tr>\n",
       "    <tr>\n",
       "      <th>2</th>\n",
       "      <td>ccshs-trec-1800065</td>\n",
       "      <td>17.68</td>\n",
       "      <td>1</td>\n",
       "      <td>222.5</td>\n",
       "      <td>0.226842</td>\n",
       "      <td>1.522630</td>\n",
       "      <td>-1.228495</td>\n",
       "      <td>3.038202</td>\n",
       "      <td>0.955740</td>\n",
       "      <td>31.335450</td>\n",
       "      <td>12.873225</td>\n",
       "    </tr>\n",
       "    <tr>\n",
       "      <th>3</th>\n",
       "      <td>ccshs-trec-1800074</td>\n",
       "      <td>17.86</td>\n",
       "      <td>1</td>\n",
       "      <td>214.0</td>\n",
       "      <td>0.284249</td>\n",
       "      <td>1.389635</td>\n",
       "      <td>-1.336513</td>\n",
       "      <td>2.901869</td>\n",
       "      <td>0.874654</td>\n",
       "      <td>40.135913</td>\n",
       "      <td>13.146055</td>\n",
       "    </tr>\n",
       "    <tr>\n",
       "      <th>4</th>\n",
       "      <td>ccshs-trec-1800078</td>\n",
       "      <td>17.77</td>\n",
       "      <td>0</td>\n",
       "      <td>238.0</td>\n",
       "      <td>0.253408</td>\n",
       "      <td>1.328701</td>\n",
       "      <td>-1.223523</td>\n",
       "      <td>2.630252</td>\n",
       "      <td>0.834952</td>\n",
       "      <td>32.414402</td>\n",
       "      <td>13.200639</td>\n",
       "    </tr>\n",
       "  </tbody>\n",
       "</table>\n",
       "</div>"
      ],
      "text/plain": [
       "           subject_id    age  female  n2_minutes  n2_abs_sigma_power  \\\n",
       "0  ccshs-trec-1800034  17.40       1       163.0            0.386454   \n",
       "1  ccshs-trec-1800038  17.40       1       217.5            0.308670   \n",
       "2  ccshs-trec-1800065  17.68       1       222.5            0.226842   \n",
       "3  ccshs-trec-1800074  17.86       1       214.0            0.284249   \n",
       "4  ccshs-trec-1800078  17.77       0       238.0            0.253408   \n",
       "\n",
       "   n2_rel_sigma_power  n2_pl_exponent   density  duration  amplitude  \\\n",
       "0            1.859941       -1.279945  4.969325  1.116099  46.538635   \n",
       "1            1.510728       -1.136783  4.422989  1.102703  39.584287   \n",
       "2            1.522630       -1.228495  3.038202  0.955740  31.335450   \n",
       "3            1.389635       -1.336513  2.901869  0.874654  40.135913   \n",
       "4            1.328701       -1.223523  2.630252  0.834952  32.414402   \n",
       "\n",
       "   frequency  \n",
       "0  13.508025  \n",
       "1  12.762682  \n",
       "2  12.873225  \n",
       "3  13.146055  \n",
       "4  13.200639  "
      ]
     },
     "execution_count": 5,
     "metadata": {},
     "output_type": "execute_result"
    }
   ],
   "source": [
    "print(table_bysubject.shape)\n",
    "table_bysubject.head()"
   ]
  },
  {
   "cell_type": "markdown",
   "metadata": {},
   "source": [
    "# Final NSRR composition statistics\n",
    "\n",
    "Measure number of subjects and N2 hours of each subdataset (consider also zero marks subjects because this table should be independent from the detector). The idea is to say: the dataset was reduced from X subjects/hours to Y subjects/hours. On this dataset, there are Z total spindle detections to analyze."
   ]
  },
  {
   "cell_type": "code",
   "execution_count": 8,
   "metadata": {},
   "outputs": [
    {
     "data": {
      "text/html": [
       "<div>\n",
       "<style scoped>\n",
       "    .dataframe tbody tr th:only-of-type {\n",
       "        vertical-align: middle;\n",
       "    }\n",
       "\n",
       "    .dataframe tbody tr th {\n",
       "        vertical-align: top;\n",
       "    }\n",
       "\n",
       "    .dataframe thead th {\n",
       "        text-align: right;\n",
       "    }\n",
       "</style>\n",
       "<table border=\"1\" class=\"dataframe\">\n",
       "  <thead>\n",
       "    <tr style=\"text-align: right;\">\n",
       "      <th></th>\n",
       "      <th>subject_id</th>\n",
       "      <th>age</th>\n",
       "      <th>female</th>\n",
       "      <th>n2_minutes</th>\n",
       "      <th>n2_abs_sigma_power</th>\n",
       "      <th>n2_rel_sigma_power</th>\n",
       "      <th>n2_pl_exponent</th>\n",
       "      <th>density</th>\n",
       "      <th>duration</th>\n",
       "      <th>amplitude</th>\n",
       "      <th>frequency</th>\n",
       "      <th>origin</th>\n",
       "    </tr>\n",
       "  </thead>\n",
       "  <tbody>\n",
       "    <tr>\n",
       "      <th>0</th>\n",
       "      <td>ccshs-trec-1800034</td>\n",
       "      <td>17.40</td>\n",
       "      <td>1</td>\n",
       "      <td>163.0</td>\n",
       "      <td>0.386454</td>\n",
       "      <td>1.859941</td>\n",
       "      <td>-1.279945</td>\n",
       "      <td>4.969325</td>\n",
       "      <td>1.116099</td>\n",
       "      <td>46.538635</td>\n",
       "      <td>13.508025</td>\n",
       "      <td>ccshs</td>\n",
       "    </tr>\n",
       "    <tr>\n",
       "      <th>1</th>\n",
       "      <td>ccshs-trec-1800038</td>\n",
       "      <td>17.40</td>\n",
       "      <td>1</td>\n",
       "      <td>217.5</td>\n",
       "      <td>0.308670</td>\n",
       "      <td>1.510728</td>\n",
       "      <td>-1.136783</td>\n",
       "      <td>4.422989</td>\n",
       "      <td>1.102703</td>\n",
       "      <td>39.584287</td>\n",
       "      <td>12.762682</td>\n",
       "      <td>ccshs</td>\n",
       "    </tr>\n",
       "    <tr>\n",
       "      <th>2</th>\n",
       "      <td>ccshs-trec-1800065</td>\n",
       "      <td>17.68</td>\n",
       "      <td>1</td>\n",
       "      <td>222.5</td>\n",
       "      <td>0.226842</td>\n",
       "      <td>1.522630</td>\n",
       "      <td>-1.228495</td>\n",
       "      <td>3.038202</td>\n",
       "      <td>0.955740</td>\n",
       "      <td>31.335450</td>\n",
       "      <td>12.873225</td>\n",
       "      <td>ccshs</td>\n",
       "    </tr>\n",
       "    <tr>\n",
       "      <th>3</th>\n",
       "      <td>ccshs-trec-1800074</td>\n",
       "      <td>17.86</td>\n",
       "      <td>1</td>\n",
       "      <td>214.0</td>\n",
       "      <td>0.284249</td>\n",
       "      <td>1.389635</td>\n",
       "      <td>-1.336513</td>\n",
       "      <td>2.901869</td>\n",
       "      <td>0.874654</td>\n",
       "      <td>40.135913</td>\n",
       "      <td>13.146055</td>\n",
       "      <td>ccshs</td>\n",
       "    </tr>\n",
       "    <tr>\n",
       "      <th>4</th>\n",
       "      <td>ccshs-trec-1800078</td>\n",
       "      <td>17.77</td>\n",
       "      <td>0</td>\n",
       "      <td>238.0</td>\n",
       "      <td>0.253408</td>\n",
       "      <td>1.328701</td>\n",
       "      <td>-1.223523</td>\n",
       "      <td>2.630252</td>\n",
       "      <td>0.834952</td>\n",
       "      <td>32.414402</td>\n",
       "      <td>13.200639</td>\n",
       "      <td>ccshs</td>\n",
       "    </tr>\n",
       "  </tbody>\n",
       "</table>\n",
       "</div>"
      ],
      "text/plain": [
       "           subject_id    age  female  n2_minutes  n2_abs_sigma_power  \\\n",
       "0  ccshs-trec-1800034  17.40       1       163.0            0.386454   \n",
       "1  ccshs-trec-1800038  17.40       1       217.5            0.308670   \n",
       "2  ccshs-trec-1800065  17.68       1       222.5            0.226842   \n",
       "3  ccshs-trec-1800074  17.86       1       214.0            0.284249   \n",
       "4  ccshs-trec-1800078  17.77       0       238.0            0.253408   \n",
       "\n",
       "   n2_rel_sigma_power  n2_pl_exponent   density  duration  amplitude  \\\n",
       "0            1.859941       -1.279945  4.969325  1.116099  46.538635   \n",
       "1            1.510728       -1.136783  4.422989  1.102703  39.584287   \n",
       "2            1.522630       -1.228495  3.038202  0.955740  31.335450   \n",
       "3            1.389635       -1.336513  2.901869  0.874654  40.135913   \n",
       "4            1.328701       -1.223523  2.630252  0.834952  32.414402   \n",
       "\n",
       "   frequency origin  \n",
       "0  13.508025  ccshs  \n",
       "1  12.762682  ccshs  \n",
       "2  12.873225  ccshs  \n",
       "3  13.146055  ccshs  \n",
       "4  13.200639  ccshs  "
      ]
     },
     "execution_count": 8,
     "metadata": {},
     "output_type": "execute_result"
    }
   ],
   "source": [
    "table_bysubject['origin'] = [s.split(\"-\")[0] for s in table_bysubject.subject_id.values]\n",
    "table_bysubject.head()"
   ]
  },
  {
   "cell_type": "code",
   "execution_count": 9,
   "metadata": {},
   "outputs": [
    {
     "name": "stdout",
     "output_type": "stream",
     "text": [
      "        subject_id         hours    min_age   max_age      female\n",
      "origin                                                           \n",
      "ccshs          513   1734.691667  16.140000  19.56000   49.512671\n",
      "cfs            711   2271.033333   6.765229  88.53388   54.992968\n",
      "chat          1053   2271.208333   4.500000  10.00000   52.706553\n",
      "mros          2862  10158.808333  67.000000  90.00000    0.000000\n",
      "shhs1         5648  18755.566667  39.000000  90.00000   52.283994\n",
      "sof            437   1356.741667  75.000000  90.00000  100.000000\n",
      "\n",
      "Total:\n",
      "Number of subjects: 11224\n",
      "Number of hours: 36548.050000\n",
      "Age: 4.5 90.0\n",
      "Female: 40.89451176051318\n"
     ]
    }
   ],
   "source": [
    "origin_stats = table_bysubject[[\"subject_id\", \"origin\"]].groupby(by=\"origin\").count()\n",
    "origin_stats['hours'] = table_bysubject[[\"n2_minutes\", \"origin\"]].groupby(by=\"origin\").sum() / 60  # hours\n",
    "origin_stats['min_age'] = table_bysubject[[\"age\", \"origin\"]].groupby(by=\"origin\").min()\n",
    "origin_stats['max_age'] = table_bysubject[[\"age\", \"origin\"]].groupby(by=\"origin\").max()\n",
    "origin_stats['female'] = table_bysubject[[\"female\", \"origin\"]].groupby(by=\"origin\").mean() * 100\n",
    "print(origin_stats)\n",
    "print(\"\")\n",
    "print(\"Total:\")\n",
    "print(\"Number of subjects:\", len(table_bysubject))\n",
    "print(\"Number of hours: %1.6f\" % (table_bysubject[\"n2_minutes\"].sum() / 60))\n",
    "# print(origin_stats[[\"subject_id\", \"hours\"]].sum())\n",
    "print(\"Age:\", table_bysubject[\"age\"].min(), table_bysubject[\"age\"].max())\n",
    "print(\"Female:\", 100 * table_bysubject[\"female\"].mean())"
   ]
  },
  {
   "cell_type": "code",
   "execution_count": 10,
   "metadata": {},
   "outputs": [
    {
     "name": "stdout",
     "output_type": "stream",
     "text": [
      "Subjects without detections:\n"
     ]
    },
    {
     "data": {
      "text/html": [
       "<div>\n",
       "<style scoped>\n",
       "    .dataframe tbody tr th:only-of-type {\n",
       "        vertical-align: middle;\n",
       "    }\n",
       "\n",
       "    .dataframe tbody tr th {\n",
       "        vertical-align: top;\n",
       "    }\n",
       "\n",
       "    .dataframe thead th {\n",
       "        text-align: right;\n",
       "    }\n",
       "</style>\n",
       "<table border=\"1\" class=\"dataframe\">\n",
       "  <thead>\n",
       "    <tr style=\"text-align: right;\">\n",
       "      <th></th>\n",
       "      <th>subject_id</th>\n",
       "      <th>age</th>\n",
       "      <th>female</th>\n",
       "      <th>n2_minutes</th>\n",
       "      <th>n2_abs_sigma_power</th>\n",
       "      <th>n2_rel_sigma_power</th>\n",
       "      <th>n2_pl_exponent</th>\n",
       "      <th>density</th>\n",
       "      <th>duration</th>\n",
       "      <th>amplitude</th>\n",
       "      <th>frequency</th>\n",
       "      <th>origin</th>\n",
       "    </tr>\n",
       "  </thead>\n",
       "  <tbody>\n",
       "    <tr>\n",
       "      <th>487</th>\n",
       "      <td>shhs1-200721</td>\n",
       "      <td>61.00000</td>\n",
       "      <td>0</td>\n",
       "      <td>87.5</td>\n",
       "      <td>0.120748</td>\n",
       "      <td>1.205779</td>\n",
       "      <td>-1.016663</td>\n",
       "      <td>0.0</td>\n",
       "      <td>NaN</td>\n",
       "      <td>NaN</td>\n",
       "      <td>NaN</td>\n",
       "      <td>shhs1</td>\n",
       "    </tr>\n",
       "    <tr>\n",
       "      <th>2965</th>\n",
       "      <td>cfs-visit5-801177</td>\n",
       "      <td>76.38056</td>\n",
       "      <td>0</td>\n",
       "      <td>62.0</td>\n",
       "      <td>0.226105</td>\n",
       "      <td>1.084217</td>\n",
       "      <td>-1.244129</td>\n",
       "      <td>0.0</td>\n",
       "      <td>NaN</td>\n",
       "      <td>NaN</td>\n",
       "      <td>NaN</td>\n",
       "      <td>cfs</td>\n",
       "    </tr>\n",
       "    <tr>\n",
       "      <th>3328</th>\n",
       "      <td>mros-visit1-aa5843</td>\n",
       "      <td>73.00000</td>\n",
       "      <td>0</td>\n",
       "      <td>81.5</td>\n",
       "      <td>0.157315</td>\n",
       "      <td>0.821180</td>\n",
       "      <td>-1.475405</td>\n",
       "      <td>0.0</td>\n",
       "      <td>NaN</td>\n",
       "      <td>NaN</td>\n",
       "      <td>NaN</td>\n",
       "      <td>mros</td>\n",
       "    </tr>\n",
       "    <tr>\n",
       "      <th>4022</th>\n",
       "      <td>chat-baseline-nonrandomized-300577</td>\n",
       "      <td>4.80000</td>\n",
       "      <td>1</td>\n",
       "      <td>137.0</td>\n",
       "      <td>0.115866</td>\n",
       "      <td>0.846627</td>\n",
       "      <td>-1.507882</td>\n",
       "      <td>0.0</td>\n",
       "      <td>NaN</td>\n",
       "      <td>NaN</td>\n",
       "      <td>NaN</td>\n",
       "      <td>chat</td>\n",
       "    </tr>\n",
       "    <tr>\n",
       "      <th>7102</th>\n",
       "      <td>mros-visit1-aa3593</td>\n",
       "      <td>68.00000</td>\n",
       "      <td>0</td>\n",
       "      <td>170.5</td>\n",
       "      <td>0.130469</td>\n",
       "      <td>1.094755</td>\n",
       "      <td>-1.068446</td>\n",
       "      <td>0.0</td>\n",
       "      <td>NaN</td>\n",
       "      <td>NaN</td>\n",
       "      <td>NaN</td>\n",
       "      <td>mros</td>\n",
       "    </tr>\n",
       "    <tr>\n",
       "      <th>10151</th>\n",
       "      <td>shhs1-200323</td>\n",
       "      <td>67.00000</td>\n",
       "      <td>0</td>\n",
       "      <td>142.5</td>\n",
       "      <td>0.151972</td>\n",
       "      <td>1.093194</td>\n",
       "      <td>-1.007131</td>\n",
       "      <td>0.0</td>\n",
       "      <td>NaN</td>\n",
       "      <td>NaN</td>\n",
       "      <td>NaN</td>\n",
       "      <td>shhs1</td>\n",
       "    </tr>\n",
       "  </tbody>\n",
       "</table>\n",
       "</div>"
      ],
      "text/plain": [
       "                               subject_id       age  female  n2_minutes  \\\n",
       "487                          shhs1-200721  61.00000       0        87.5   \n",
       "2965                    cfs-visit5-801177  76.38056       0        62.0   \n",
       "3328                   mros-visit1-aa5843  73.00000       0        81.5   \n",
       "4022   chat-baseline-nonrandomized-300577   4.80000       1       137.0   \n",
       "7102                   mros-visit1-aa3593  68.00000       0       170.5   \n",
       "10151                        shhs1-200323  67.00000       0       142.5   \n",
       "\n",
       "       n2_abs_sigma_power  n2_rel_sigma_power  n2_pl_exponent  density  \\\n",
       "487              0.120748            1.205779       -1.016663      0.0   \n",
       "2965             0.226105            1.084217       -1.244129      0.0   \n",
       "3328             0.157315            0.821180       -1.475405      0.0   \n",
       "4022             0.115866            0.846627       -1.507882      0.0   \n",
       "7102             0.130469            1.094755       -1.068446      0.0   \n",
       "10151            0.151972            1.093194       -1.007131      0.0   \n",
       "\n",
       "       duration  amplitude  frequency origin  \n",
       "487         NaN        NaN        NaN  shhs1  \n",
       "2965        NaN        NaN        NaN    cfs  \n",
       "3328        NaN        NaN        NaN   mros  \n",
       "4022        NaN        NaN        NaN   chat  \n",
       "7102        NaN        NaN        NaN   mros  \n",
       "10151       NaN        NaN        NaN  shhs1  "
      ]
     },
     "execution_count": 10,
     "metadata": {},
     "output_type": "execute_result"
    }
   ],
   "source": [
    "print(\"Subjects without detections:\")\n",
    "table_bysubject[table_bysubject['density'] <= 0]"
   ]
  },
  {
   "cell_type": "code",
   "execution_count": 11,
   "metadata": {},
   "outputs": [
    {
     "name": "stdout",
     "output_type": "stream",
     "text": [
      "Subjects with less than 10 detections: 338 (3.0114%)\n"
     ]
    }
   ],
   "source": [
    "min_detections = 10\n",
    "\n",
    "event_counts = np.round(table_bysubject[\"n2_minutes\"] * table_bysubject[\"density\"])\n",
    "subjects_with_few_detections = np.sum(event_counts < min_detections)\n",
    "print(\"Subjects with less than %d detections: %d (%1.4f%%)\" % (\n",
    "    min_detections, subjects_with_few_detections, 100 * subjects_with_few_detections / len(table_bysubject)))"
   ]
  },
  {
   "cell_type": "code",
   "execution_count": null,
   "metadata": {},
   "outputs": [],
   "source": []
  },
  {
   "cell_type": "markdown",
   "metadata": {},
   "source": [
    "# Gráficos por evento (sin agrupar por demografía)"
   ]
  },
  {
   "cell_type": "code",
   "execution_count": 6,
   "metadata": {},
   "outputs": [],
   "source": [
    "table_byevent_valid = table_byevent.dropna()"
   ]
  },
  {
   "cell_type": "code",
   "execution_count": 161,
   "metadata": {},
   "outputs": [
    {
     "data": {
      "image/png": "[encoded data removed]",
      "text/plain": [
       "<Figure size 960x240 with 4 Axes>"
      ]
     },
     "metadata": {
      "needs_background": "light"
     },
     "output_type": "display_data"
    }
   ],
   "source": [
    "fig, axes = plt.subplots(1, 4, figsize=(8, 2), dpi=120)\n",
    "\n",
    "show_average = False\n",
    "\n",
    "factor_to_lim = 1.35 if show_average else 1.1\n",
    "\n",
    "ax = axes[0]\n",
    "n, _, _ = ax.hist(table_byevent_valid.duration.values, bins=np.arange(0.3, 3.0 + 0.001, 0.1), color=viz.PALETTE['blue'])\n",
    "max_count = np.max(n)\n",
    "ax.set_ylim([0, factor_to_lim * max_count])\n",
    "ax.set_xlabel(\"Duración (s)\", fontsize=8)\n",
    "mean_value = np.mean(table_byevent_valid.duration.values)\n",
    "if show_average:\n",
    "    ax.axvline(mean_value, linewidth=0.8, color=\"k\", linestyle=\"--\", label=\"Promedio %1.2f s\" % mean_value)\n",
    "ax.set_xticks(np.arange(0, 3 + 0.001, 0.5))\n",
    "ax.set_xlim([0, 3])\n",
    "ax.set_ylabel(\"Número de husos\", fontsize=8)\n",
    "\n",
    "ax = axes[1]\n",
    "n, _, _ = ax.hist(table_byevent_valid.amplitude.values, bins=np.arange(0, 135 + 0.001, 5), color=viz.PALETTE['blue'])\n",
    "max_count = np.max(n)\n",
    "ax.set_ylim([0, factor_to_lim * max_count])\n",
    "ax.set_xlabel(\"Amplitud PP ($\\mu$V)\", fontsize=8)\n",
    "mean_value = np.mean(table_byevent_valid.amplitude.values)\n",
    "if show_average:\n",
    "    ax.axvline(mean_value, linewidth=0.8, color=\"k\", linestyle=\"--\", label=\"Promedio %1.1f $\\mu$V\" % mean_value)\n",
    "ax.set_xticks(np.arange(0, 140 + 0.001, 20))\n",
    "ax.set_xlim([0, 140])\n",
    "ax.set_ylabel(\"Número de husos\", fontsize=8)\n",
    "\n",
    "ax = axes[2]\n",
    "n, _, _ = ax.hist(table_byevent_valid.frequency.values, bins=np.arange(8.5, 17.5 + 0.001, 0.5), color=viz.PALETTE['blue'])\n",
    "max_count = np.max(n)\n",
    "ax.set_ylim([0, factor_to_lim * max_count])\n",
    "ax.set_xlabel(\"Frecuencia (Hz)\", fontsize=8)\n",
    "mean_value = np.mean(table_byevent_valid.frequency.values)\n",
    "if show_average:\n",
    "    ax.axvline(mean_value, linewidth=0.8, color=\"k\", linestyle=\"--\", label=\"Promedio %1.1f Hz\" % mean_value)\n",
    "ax.set_xticks(np.arange(8, 18 + 0.001, 1))\n",
    "ax.set_xlim([8, 18])\n",
    "ax.set_ylabel(\"Número de husos\", fontsize=8)\n",
    "\n",
    "# oscilaciones\n",
    "#ax = axes[3]\n",
    "#oscils = table_byevent_valid.frequency.values * table_byevent_valid.duration.values\n",
    "#n, _, _ = ax.hist(oscils, color=viz.PALETTE['blue'], bins=np.arange(0, 50 + 0.001, 2.5))\n",
    "#max_count = np.max(n)\n",
    "#ax.set_ylim([0, factor_to_lim * max_count])\n",
    "#ax.set_xlabel(\"Oscilaciones\", fontsize=8)\n",
    "#mean_value = np.mean(oscils)\n",
    "#ax.axvline(mean_value, linewidth=0.8, color=\"k\", linestyle=\"--\", label=\"Promedio %1.1f\" % mean_value)\n",
    "#ax.set_xticks(np.arange(0, 50 + 0.001, 5))\n",
    "#ax.set_xlim([0, 50])\n",
    "\n",
    "# Densidad \n",
    "ax = axes[3]\n",
    "n, _, _ = ax.hist(table_bysubject.density.values, color=viz.PALETTE['blue'], bins=np.arange(0, 8 + 0.001, 0.5))\n",
    "max_count = np.max(n)\n",
    "ax.set_ylim([0, factor_to_lim * max_count])\n",
    "ax.set_xlabel(\"Densidad (epm)\", fontsize=8)\n",
    "mean_value = np.mean(table_bysubject.density.values)\n",
    "if show_average:\n",
    "    ax.axvline(mean_value, linewidth=0.8, color=\"k\", linestyle=\"--\", label=\"Promedio %1.1f epm\" % mean_value)\n",
    "ax.set_xticks(np.arange(0, 8 + 0.001, 1))\n",
    "ax.set_xlim([0, 8])\n",
    "ax.set_ylabel(\"Número de sujetos\", fontsize=8)\n",
    "\n",
    "\n",
    "for i_ax, ax in enumerate(axes.flatten()):\n",
    "    ax.tick_params(labelsize=8)\n",
    "    ax.set_yticks([])\n",
    "    ax.grid()\n",
    "    if show_average:\n",
    "        ax.legend(loc=\"upper right\", fontsize=8, frameon=True)\n",
    "    ax.text(\n",
    "        x=-0.01, y=1.05, fontsize=14, s=r\"$\\bf{%s}$\" % LETTERS[i_ax],\n",
    "        ha=\"left\", transform=ax.transAxes)\n",
    "    \n",
    "plt.tight_layout()\n",
    "\n",
    "plt.show()"
   ]
  },
  {
   "cell_type": "markdown",
   "metadata": {},
   "source": [
    "# Gráficos de densidad vs potencia en banda sigma"
   ]
  },
  {
   "cell_type": "code",
   "execution_count": 162,
   "metadata": {},
   "outputs": [
    {
     "name": "stderr",
     "output_type": "stream",
     "text": [
      "/home/ntapia/miniconda3/envs/tf/lib/python3.7/site-packages/pandas/plotting/_matplotlib/boxplot.py:391: UserWarning: When passing multiple axes, sharex and sharey are ignored. These settings must be specified when creating axes\n",
      "  **kwds,\n"
     ]
    },
    {
     "data": {
      "image/png": "[encoded data removed]",
      "text/plain": [
       "<Figure size 960x360 with 2 Axes>"
      ]
     },
     "metadata": {
      "needs_background": "light"
     },
     "output_type": "display_data"
    }
   ],
   "source": [
    "df = table_bysubject.copy()\n",
    "df['density_bin'] = pd.cut(table_bysubject.density, bins=[0, 0.1, 0.5, 1.0, 1.5, 2, 3, 4, 5, 6, 8])\n",
    "\n",
    "fig, axes = plt.subplots(1, 2, figsize=(8, 3), dpi=120)\n",
    "df.boxplot(\n",
    "    column=[\"n2_abs_sigma_power\", \"n2_rel_sigma_power\"],\n",
    "    by=\"density_bin\", \n",
    "    ax=axes, fontsize=8, rot=90,\n",
    "    flierprops=dict(markersize=3, marker='o', markerfacecolor=\"k\", alpha=0.4, markeredgewidth=0)\n",
    ")\n",
    "\n",
    "fig.suptitle('')\n",
    "for i_ax, ax in enumerate(axes):\n",
    "    ax.set_title('')\n",
    "    ax.set_xlabel(\"Densidad (epm)\", fontsize=8)\n",
    "    ax.text(\n",
    "        x=-0.07, y=1.05, fontsize=14, s=r\"$\\bf{%s}$\" % LETTERS[i_ax],\n",
    "        ha=\"left\", transform=ax.transAxes)\n",
    "    \n",
    "axes[0].set_title(\"Potencia sigma absoluta en etapa N2\", fontsize=8, loc=\"left\")\n",
    "axes[0].set_ylim([0, 0.7])\n",
    "axes[1].set_title(\"Potencia sigma relativa en etapa N2\", fontsize=8, loc=\"left\")\n",
    "axes[1].set_ylim([0.6, 2.0])\n",
    "    \n",
    "plt.tight_layout()\n",
    "    \n",
    "plt.show()"
   ]
  },
  {
   "cell_type": "code",
   "execution_count": 163,
   "metadata": {},
   "outputs": [
    {
     "data": {
      "text/plain": [
       "837"
      ]
     },
     "execution_count": 163,
     "metadata": {},
     "output_type": "execute_result"
    }
   ],
   "source": [
    "np.sum(table_bysubject.density <= 0.1)"
   ]
  },
  {
   "cell_type": "code",
   "execution_count": 164,
   "metadata": {},
   "outputs": [
    {
     "data": {
      "text/plain": [
       "7.457234497505346"
      ]
     },
     "execution_count": 164,
     "metadata": {},
     "output_type": "execute_result"
    }
   ],
   "source": [
    "100 * np.sum(table_bysubject.density <= 0.1) / len(table_bysubject)"
   ]
  },
  {
   "cell_type": "markdown",
   "metadata": {},
   "source": [
    "# Gráficos by-subject con suficientes detecciones"
   ]
  },
  {
   "cell_type": "code",
   "execution_count": 176,
   "metadata": {},
   "outputs": [
    {
     "name": "stderr",
     "output_type": "stream",
     "text": [
      "/home/ntapia/miniconda3/envs/tf/lib/python3.7/site-packages/ipykernel_launcher.py:8: SettingWithCopyWarning: \n",
      "A value is trying to be set on a copy of a slice from a DataFrame.\n",
      "Try using .loc[row_indexer,col_indexer] = value instead\n",
      "\n",
      "See the caveats in the documentation: https://pandas.pydata.org/pandas-docs/stable/user_guide/indexing.html#returning-a-view-versus-a-copy\n",
      "  \n"
     ]
    },
    {
     "name": "stdout",
     "output_type": "stream",
     "text": [
      "[ 476.   33.  284.   27.   19.   15.   17.  186.  206.  317.  439.  412.\n",
      "  672. 1296. 1083.  624.  273.]\n",
      "[534.  34. 292.  34.  21.  14.  26. 219. 265. 355. 519. 408. 394. 408.\n",
      " 401. 418. 165.]\n"
     ]
    },
    {
     "data": {
      "image/png": "[encoded data removed]",
      "text/plain": [
       "<Figure size 960x300 with 2 Axes>"
      ]
     },
     "metadata": {
      "needs_background": "light"
     },
     "output_type": "display_data"
    }
   ],
   "source": [
    "# Demographics of subjects with enough detections\n",
    "min_detections = 10\n",
    "event_counts = np.round(table_bysubject[\"n2_minutes\"] * table_bysubject[\"density\"])\n",
    "enough_dets = table_bysubject[event_counts >= min_detections]\n",
    "\n",
    "# Those with less than 5 years are three subjects with 4.5, 4.9 and 4.9 y.o.. For statistics purposes those\n",
    "# subjects will be within the bin containing 5 years old.\n",
    "enough_dets[\"age\"] = np.clip(enough_dets[\"age\"], a_min=5, a_max=None)\n",
    "\n",
    "ages_m = enough_dets[enough_dets.female == 0][\"age\"].values\n",
    "ages_f = enough_dets[enough_dets.female == 1][\"age\"].values\n",
    "\n",
    "bins = np.arange(5, 90 + 0.001, 5)\n",
    "fig, axes = plt.subplots(1, 2, figsize=(8, 2.5), dpi=120, sharey=True)\n",
    "\n",
    "ax = axes[0]\n",
    "n, _, _ = ax.hist(ages_m, bins=bins)\n",
    "ax.set_title(\"Hombres (N = %d)\" % len(ages_m), fontsize=8, loc=\"left\")\n",
    "print(n)\n",
    "\n",
    "ax = axes[1]\n",
    "n, _, _ = ax.hist(ages_f, bins=bins)\n",
    "ax.set_title(\"Mujeres (N = %d)\" % len(ages_f), fontsize=8, loc=\"left\")\n",
    "print(n)\n",
    "\n",
    "for i_ax, ax in enumerate(axes):\n",
    "    ax.tick_params(labelsize=8)\n",
    "    ax.set_xlabel(\"Edad (años)\", fontsize=8)\n",
    "    ax.set_xticks(bins)\n",
    "    ax.grid()\n",
    "    ax.set_xlim([bins[0], bins[-1]])\n",
    "    ax.text(\n",
    "        x=-0.01, y=1.15, fontsize=14, s=r\"$\\bf{%s}$\" % LETTERS[i_ax],\n",
    "        ha=\"left\", transform=ax.transAxes)\n",
    "\n",
    "plt.tight_layout()\n",
    "plt.show()"
   ]
  },
  {
   "cell_type": "code",
   "execution_count": 177,
   "metadata": {},
   "outputs": [],
   "source": [
    "# by-subject params vs demographics\n",
    "# params to vary: duration, amplitude, frequency, density"
   ]
  },
  {
   "cell_type": "code",
   "execution_count": 189,
   "metadata": {},
   "outputs": [
    {
     "data": {
      "image/png": "[encoded data removed]",
      "text/plain": [
       "<Figure size 960x600 with 4 Axes>"
      ]
     },
     "metadata": {
      "needs_background": "light"
     },
     "output_type": "display_data"
    }
   ],
   "source": [
    "# Age differences\n",
    "\n",
    "df = enough_dets.copy()\n",
    "df['age_bin'] = pd.cut(enough_dets.age, bins=np.arange(5, 90 + 0.001, 5).astype(np.int32))\n",
    "\n",
    "fig, axes = plt.subplots(2, 2, figsize=(8, 5), dpi=120, sharex=True)\n",
    "df.boxplot(\n",
    "    column=[\"duration\", \"amplitude\", \"frequency\", \"density\"],\n",
    "    by=\"age_bin\", \n",
    "    ax=axes, fontsize=8, rot=90,\n",
    "    flierprops=dict(markersize=3, marker='o', markerfacecolor=\"k\", alpha=0.4, markeredgewidth=0)\n",
    ")\n",
    "fig.suptitle('')\n",
    "for i_ax, ax in enumerate(axes.flatten()):\n",
    "    ax.tick_params(labelsize=8)\n",
    "    ax.set_title('')\n",
    "    ax.set_xlabel('')\n",
    "    ax.text(\n",
    "        x=-0.06, y=1.05, fontsize=14, s=r\"$\\bf{%s}$\" % LETTERS[i_ax],\n",
    "        ha=\"left\", transform=ax.transAxes)\n",
    "axes[0, 0].set_title(\"Duración por sujeto (s)\", fontsize=8, loc=\"left\")\n",
    "axes[0, 1].set_title(\"Amplitud PP por sujeto ($\\mu$V)\", fontsize=8, loc=\"left\")\n",
    "axes[1, 0].set_title(\"Frecuencia por sujeto (Hz)\", fontsize=8, loc=\"left\")\n",
    "axes[1, 1].set_title(\"Densidad (epm)\", fontsize=8, loc=\"left\")\n",
    "axes[1, 0].set_xlabel(\"Edad (años)\", fontsize=8)\n",
    "axes[1, 1].set_xlabel(\"Edad (años)\", fontsize=8)\n",
    "    \n",
    "plt.tight_layout()\n",
    "plt.show()"
   ]
  },
  {
   "cell_type": "code",
   "execution_count": 203,
   "metadata": {},
   "outputs": [
    {
     "name": "stderr",
     "output_type": "stream",
     "text": [
      "/home/ntapia/miniconda3/envs/tf/lib/python3.7/site-packages/pandas/plotting/_matplotlib/boxplot.py:391: UserWarning: When passing multiple axes, sharex and sharey are ignored. These settings must be specified when creating axes\n",
      "  **kwds,\n",
      "/home/ntapia/miniconda3/envs/tf/lib/python3.7/site-packages/pandas/plotting/_matplotlib/boxplot.py:391: UserWarning: When passing multiple axes, sharex and sharey are ignored. These settings must be specified when creating axes\n",
      "  **kwds,\n"
     ]
    },
    {
     "data": {
      "image/png": "[encoded data removed]",
      "text/plain": [
       "<Figure size 960x600 with 4 Axes>"
      ]
     },
     "metadata": {
      "needs_background": "light"
     },
     "output_type": "display_data"
    }
   ],
   "source": [
    "# sex differences\n",
    "\n",
    "df = enough_dets.copy()\n",
    "df['age_bin'] = pd.cut(enough_dets.age, bins=[5, 12, 50, 90])\n",
    "\n",
    "fig, axes = plt.subplots(2, 2, figsize=(8, 5), dpi=120, sharex=True)\n",
    "df[df.female==0].boxplot(\n",
    "    column=[\"duration\", \"amplitude\", \"frequency\", \"density\"],\n",
    "    by=[\"age_bin\"], \n",
    "    fontsize=8, rot=0, ax=axes,\n",
    "    flierprops=dict(markersize=3, marker='o', markerfacecolor=\"k\", alpha=0.4, markeredgewidth=0),\n",
    "    positions=[0.75, 2.25, 3.75],\n",
    ")\n",
    "df[df.female==1].boxplot(\n",
    "    column=[\"duration\", \"amplitude\", \"frequency\", \"density\"],\n",
    "    by=[\"age_bin\"], \n",
    "    fontsize=8, rot=0, ax=axes,\n",
    "    flierprops=dict(markersize=3, marker='o', markerfacecolor=\"k\", alpha=0.4, markeredgewidth=0),\n",
    "    positions=[1.25, 2.75, 4.25],\n",
    ")\n",
    "\n",
    "fig.suptitle('')\n",
    "for i_ax, ax in enumerate(axes.flatten()):\n",
    "    ax.tick_params(labelsize=8)\n",
    "    ax.set_title('')\n",
    "    ax.set_xlabel('')\n",
    "    ax.set_xlim([0.25, 4.75])\n",
    "    ax.set_xticks([1, 2.5, 4])\n",
    "axes[0, 0].set_title(\"Duración por sujeto (s)\", fontsize=8, loc=\"left\")\n",
    "axes[0, 1].set_title(\"Amplitud PP por sujeto ($\\mu$V)\", fontsize=8, loc=\"left\")\n",
    "axes[1, 0].set_title(\"Frecuencia por sujeto (Hz)\", fontsize=8, loc=\"left\")\n",
    "axes[1, 1].set_title(\"Densidad (epm)\", fontsize=8, loc=\"left\")\n",
    "axes[1, 0].set_xlabel(\"Edad (años)\", fontsize=8)\n",
    "axes[1, 1].set_xlabel(\"Edad (años)\", fontsize=8)\n",
    "\n",
    "plt.tight_layout()\n",
    "plt.show()"
   ]
  },
  {
   "cell_type": "code",
   "execution_count": null,
   "metadata": {},
   "outputs": [],
   "source": []
  }
 ],
 "metadata": {
  "kernelspec": {
   "display_name": "Python 3",
   "language": "python",
   "name": "python3"
  },
  "language_info": {
   "codemirror_mode": {
    "name": "ipython",
    "version": 3
   },
   "file_extension": ".py",
   "mimetype": "text/x-python",
   "name": "python",
   "nbconvert_exporter": "python",
   "pygments_lexer": "ipython3",
   "version": "3.7.10"
  }
 },
 "nbformat": 4,
 "nbformat_minor": 2
}
