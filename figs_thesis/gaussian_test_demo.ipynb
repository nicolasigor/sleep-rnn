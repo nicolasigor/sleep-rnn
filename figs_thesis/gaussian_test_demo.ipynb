{
 "cells": [
  {
   "cell_type": "code",
   "execution_count": 1,
   "id": "bcee5a0d",
   "metadata": {},
   "outputs": [],
   "source": [
    "import numpy as np"
   ]
  },
  {
   "cell_type": "code",
   "execution_count": 2,
   "id": "5d7ca432",
   "metadata": {},
   "outputs": [],
   "source": [
    "# Para la testear la normalidad hay que hacer un test de Kolmogorov-Smirnov. \n",
    "# Si el test es significativo, significa que la distribución no es gaussiana. \n",
    "# Aquí va una versión para Python: \n",
    "# https://docs.scipy.org/doc/scipy/reference/generated/scipy.stats.kstest.html\n",
    "\n",
    "# Si la distribución de los datos NO es gaussiana, puedes usar un test no paramétrico como el Mann–Whitney U test. \n",
    "# Aquí va una versión para Python: \n",
    "# https://docs.scipy.org/doc/scipy/reference/generated/scipy.stats.mannwhitneyu.html"
   ]
  },
  {
   "cell_type": "code",
   "execution_count": 13,
   "id": "a6dd3648",
   "metadata": {},
   "outputs": [],
   "source": [
    "from scipy import stats\n",
    "\n",
    "\n",
    "def is_gaussian_test(samples, alpha=0.05):\n",
    "    samples = np.asarray(samples).flatten()\n",
    "    zscore = (samples - samples.mean()) / (samples.std() + 1e-6)\n",
    "    result = stats.kstest(zscore, stats.norm.cdf, alternative='two-sided')\n",
    "    pvalue = result.pvalue\n",
    "    is_gaussian = pvalue >= alpha\n",
    "    return is_gaussian, pvalue"
   ]
  },
  {
   "cell_type": "code",
   "execution_count": 5,
   "id": "ca9112a5",
   "metadata": {},
   "outputs": [
    {
     "data": {
      "text/plain": [
       "array([80.93286172, 77.39147771, 80.37776026, 81.01038295, 81.56513179,\n",
       "       75.77538613, 79.90782418, 79.97059174, 77.09092817, 84.24953806,\n",
       "       81.65914738, 78.32732854, 81.22635522, 79.32654375, 79.97848956])"
      ]
     },
     "execution_count": 5,
     "metadata": {},
     "output_type": "execute_result"
    }
   ],
   "source": [
    "mu, sigma = 80, 2 # mean and standard deviation\n",
    "s = np.random.normal(mu, sigma, 15)\n",
    "s"
   ]
  },
  {
   "cell_type": "code",
   "execution_count": 14,
   "id": "52c8e170",
   "metadata": {},
   "outputs": [
    {
     "data": {
      "text/plain": [
       "(True, 0.7538662017561348)"
      ]
     },
     "execution_count": 14,
     "metadata": {},
     "output_type": "execute_result"
    }
   ],
   "source": [
    "is_gaussian, pvalue = is_gaussian_test(s)\n",
    "is_gaussian, pvalue"
   ]
  },
  {
   "cell_type": "code",
   "execution_count": null,
   "id": "85483e0c",
   "metadata": {},
   "outputs": [],
   "source": []
  },
  {
   "cell_type": "code",
   "execution_count": null,
   "id": "87fb6f7c",
   "metadata": {},
   "outputs": [],
   "source": []
  },
  {
   "cell_type": "code",
   "execution_count": null,
   "id": "c292333a",
   "metadata": {},
   "outputs": [],
   "source": []
  }
 ],
 "metadata": {
  "kernelspec": {
   "display_name": "Python 3 (ipykernel)",
   "language": "python",
   "name": "python3"
  },
  "language_info": {
   "codemirror_mode": {
    "name": "ipython",
    "version": 3
   },
   "file_extension": ".py",
   "mimetype": "text/x-python",
   "name": "python",
   "nbconvert_exporter": "python",
   "pygments_lexer": "ipython3",
   "version": "3.9.16"
  }
 },
 "nbformat": 4,
 "nbformat_minor": 5
}
