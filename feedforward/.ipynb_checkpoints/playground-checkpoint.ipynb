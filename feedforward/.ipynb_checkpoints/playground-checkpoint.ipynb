{
 "cells": [
  {
   "cell_type": "code",
   "execution_count": 1,
   "metadata": {},
   "outputs": [],
   "source": [
    "\n",
    "from __future__ import division\n",
    "import numpy as np\n",
    "import pyedflib\n",
    "import matplotlib.pyplot as plt\n",
    "%matplotlib inline\n"
   ]
  },
  {
   "cell_type": "code",
   "execution_count": 2,
   "metadata": {},
   "outputs": [
    {
     "name": "stdout",
     "output_type": "stream",
     "text": [
      "<pyedflib.edfreader.EdfReader object at 0x3160838>\n",
      "signal_labels: ['F4-C4', 'C4-O2', 'F3-C3', 'C3-O1', 'C4-C3', 'MOR', 'EMG', 'MOV SUP', 'MOV INF', 'ECG', 'RESP NASAL', 'RESP ABD', 'T`', 'PULSO', 'SAO2', 'POSICION', 'RONQUIDOS']\n",
      "200\n"
     ]
    }
   ],
   "source": [
    "\n",
    "\n",
    "f = pyedflib.EdfReader(\"ssdata/register/ADGU101504.rec\")\n",
    "print(f)\n",
    "\n",
    "# Show what signals are in there\n",
    "signal_labels = f.getSignalLabels()\n",
    "print(\"signal_labels:\", signal_labels)\n",
    "\n",
    "# Get signal from channel 1 only\n",
    "signal_1 = f.readSignal(1)\n",
    "# Get sampling frequency\n",
    "fs_1 = f.getSampleFrequency(1)\n",
    "\n",
    "# Close reader\n",
    "f._close()\n",
    "del f\n",
    "\n",
    "# Show numbers\n",
    "print(fs_1) \n"
   ]
  },
  {
   "cell_type": "code",
   "execution_count": 3,
   "metadata": {},
   "outputs": [
    {
     "name": "stdout",
     "output_type": "stream",
     "text": [
      "(2672, 6)\n",
      "(2672, 2)\n"
     ]
    }
   ],
   "source": [
    "marks_example = \"ssdata/label/marks/FixedSS_ADGU101504.txt\"\n",
    "states_example = \"ssdata/label/states/StagesOnly_ADGU101504.txt\"\n",
    "\n",
    "# Format is 1:SQ4  2:SQ3  3:SQ2  4:SQ1  5:REM  6:WA\n",
    "states = np.loadtxt(states_example, dtype='i', delimiter=' ')\n",
    "#print(states[0])\n",
    "\n",
    "# First two are start and end for mark. Last two are validity and channel\n",
    "marks_file = np.loadtxt(marks_example, dtype='i', delimiter=' ')\n",
    "#print(marks_file[0, :])\n",
    "\n",
    "#print(marks_file.shape)\n",
    "\n",
    "#print(marks_file[marks_file[:, 5] == 1, :].shape)\n",
    "\n",
    "#\n",
    "path_marks_file = marks_example\n",
    "marks_file = np.loadtxt(path_marks_file, dtype='i', delimiter=' ')\n",
    "print(marks_file.shape)\n",
    "marks_and_validity = marks_file[marks_file[:, 5] == 1][:, [0,1]]\n",
    "print(marks_and_validity.shape)\n"
   ]
  },
  {
   "cell_type": "code",
   "execution_count": 5,
   "metadata": {},
   "outputs": [
    {
     "name": "stdout",
     "output_type": "stream",
     "text": [
      "[[ 1.    1.    0.1 ]\n",
      " [ 1.    2.    0.05]\n",
      " [ 2.    1.   -0.1 ]]\n",
      "   ID_SEG          EEG_DATA  ID_REG\n",
      "0     1.0   [1.0, 1.0, 0.1]     1.0\n",
      "1     2.0  [1.0, 2.0, 0.05]     1.0\n",
      "2     1.0  [2.0, 1.0, -0.1]     2.0\n"
     ]
    },
    {
     "data": {
      "text/plain": [
       "True"
      ]
     },
     "execution_count": 5,
     "metadata": {},
     "output_type": "execute_result"
    }
   ],
   "source": [
    "\n",
    "# Playground with pandas\n",
    "import pandas as pd\n",
    "\n",
    "a = np.array([[1,1,0.1],[1,2,0.05],[2,1,-0.1]])\n",
    "print(a)\n",
    "rows_list = []\n",
    "for i in range(len(a)):\n",
    "        dict1 = {}\n",
    "        # get input row in dictionary format\n",
    "        # key = col_name\n",
    "        dict1.update({'ID_REG': a[i, 0]})\n",
    "        dict1.update({'ID_SEG': a[i, 1]})\n",
    "        dict1.update({'EEG_DATA': a[i, :]})\n",
    "        rows_list.append(dict1)\n",
    "df = pd.DataFrame(rows_list, columns = rows_list[0].keys())  \n",
    "print(df)\n",
    "\n",
    "\n",
    "# Check binary\n",
    "a = np.array([1,1,1,0,0,0,0,1,1,1,1,1,0,1])\n",
    "np.array_equal(a, a.astype(bool))\n",
    "\n",
    "def split_rows(row,)\n"
   ]
  },
  {
   "cell_type": "code",
   "execution_count": null,
   "metadata": {},
   "outputs": [],
   "source": [
    "\n",
    "# Save and load an object using pickle\n",
    "# with open('mypickle.pickle', 'wb') as f:\n",
    "#     pickle.dump(some_obj, f)\n",
    "    \n",
    "# with open('mypickle.pickle') as f:\n",
    "#     loaded_obj = pickle.load(f)"
   ]
  }
 ],
 "metadata": {
  "kernelspec": {
   "display_name": "Python 3",
   "language": "python",
   "name": "python3"
  },
  "language_info": {
   "codemirror_mode": {
    "name": "ipython",
    "version": 3
   },
   "file_extension": ".py",
   "mimetype": "text/x-python",
   "name": "python",
   "nbconvert_exporter": "python",
   "pygments_lexer": "ipython3",
   "version": "3.5.2"
  }
 },
 "nbformat": 4,
 "nbformat_minor": 1
}
