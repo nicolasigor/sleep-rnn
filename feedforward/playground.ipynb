{
 "cells": [
  {
   "cell_type": "heading",
   "metadata": {
    "collapsed": true
   },
   "level": 1,
   "source": [
    "Imports"
   ]
  },
  {
   "cell_type": "code",
   "execution_count": 1,
   "metadata": {
    "collapsed": true
   },
   "outputs": [],
   "source": [
    "\n",
    "from __future__ import division\n",
    "import numpy as np\n",
    "import pyedflib\n",
    "import matplotlib.pyplot as plt\n",
    "%matplotlib inline\n"
   ]
  },
  {
   "cell_type": "heading",
   "metadata": {},
   "level": 1,
   "source": [
    "PyEDFLib Example"
   ]
  },
  {
   "cell_type": "code",
   "execution_count": null,
   "metadata": {
    "collapsed": true
   },
   "outputs": [],
   "source": [
    "\n",
    "\n",
    "f = pyedflib.EdfReader(\"ssdata/register/ADGU101504.rec\")\n",
    "print(f)\n",
    "\n",
    "# Show what signals are in there\n",
    "signal_labels = f.getSignalLabels()\n",
    "print(\"signal_labels:\", signal_labels)\n",
    "\n",
    "# Get signal from channel 1 only\n",
    "signal_1 = f.readSignal(1)\n",
    "# Get sampling frequency\n",
    "fs_1 = f.getSampleFrequency(1)\n",
    "\n",
    "# Close reader\n",
    "f._close()\n",
    "del f\n",
    "\n",
    "# Show numbers\n",
    "print(fs_1) \n"
   ]
  },
  {
   "cell_type": "heading",
   "metadata": {
    "collapsed": true
   },
   "level": 1,
   "source": [
    "Reading numeric data from files\n"
   ]
  },
  {
   "cell_type": "code",
   "execution_count": null,
   "metadata": {},
   "outputs": [],
   "source": [
    "marks_example = \"ssdata/label/marks/FixedSS_ADGU101504.txt\"\n",
    "states_example = \"ssdata/label/states/StagesOnly_ADGU101504.txt\"\n",
    "\n",
    "# Format is 1:SQ4  2:SQ3  3:SQ2  4:SQ1  5:REM  6:WA\n",
    "states = np.loadtxt(states_example, dtype='i', delimiter=' ')\n",
    "#print(states[0])\n",
    "\n",
    "# First two are start and end for mark. Last two are validity and channel\n",
    "marks_file = np.loadtxt(marks_example, dtype='i', delimiter=' ')\n",
    "#print(marks_file[0, :])\n",
    "\n",
    "#print(marks_file.shape)\n",
    "\n",
    "#print(marks_file[marks_file[:, 5] == 1, :].shape)\n",
    "\n",
    "#\n",
    "path_marks_file = marks_example\n",
    "marks_file = np.loadtxt(path_marks_file, dtype='i', delimiter=' ')\n",
    "print(marks_file.shape)\n",
    "marks_and_validity = marks_file[marks_file[:, 5] == 1][:, [0,1]]\n",
    "print(marks_and_validity.shape)\n"
   ]
  },
  {
   "cell_type": "heading",
   "metadata": {},
   "level": 1,
   "source": [
    "Creating a Pandas Dataframe"
   ]
  },
  {
   "cell_type": "code",
   "execution_count": null,
   "metadata": {},
   "outputs": [],
   "source": [
    "\n",
    "# Playground with pandas\n",
    "\n",
    "a = np.array([[1,1,0.1],[1,2,0.05],[2,1,-0.1]])\n",
    "print(a)\n",
    "rows_list = []\n",
    "for i in range(len(a)):\n",
    "        dict1 = {}\n",
    "        # get input row in dictionary format\n",
    "        # key = col_name\n",
    "        dict1.update({'ID_REG': a[i, 0]})\n",
    "        dict1.update({'ID_SEG': a[i, 1]})\n",
    "        dict1.update({'EEG_DATA': a[i, 2]})\n",
    "        rows_list.append(dict1)\n",
    "df = pd.DataFrame(rows_list, columns = rows_list[0].keys())  \n",
    "print(df)\n",
    "\n",
    "\n",
    "# Check binary\n",
    "a = np.array([1,1,1,0,0,0,0,1,1,1,1,1,0,1])\n",
    "np.array_equal(a, a.astype(bool))\n"
   ]
  },
  {
   "cell_type": "heading",
   "metadata": {},
   "level": 1,
   "source": [
    "Using Pickle\n"
   ]
  },
  {
   "cell_type": "code",
   "execution_count": null,
   "metadata": {},
   "outputs": [],
   "source": [
    "\n",
    "# Save and load an object using pickle\n",
    "# with open('mypickle.pickle', 'wb') as f:\n",
    "#     pickle.dump(some_obj, f)\n",
    "    \n",
    "# with open('mypickle.pickle') as f:\n",
    "#     loaded_obj = pickle.load(f)"
   ]
  }
 ],
 "metadata": {
  "kernelspec": {
   "display_name": "Python 2",
   "language": "python",
   "name": "python2"
  },
  "language_info": {
   "codemirror_mode": {
    "name": "ipython",
    "version": 2
   },
   "file_extension": ".py",
   "mimetype": "text/x-python",
   "name": "python",
   "nbconvert_exporter": "python",
   "pygments_lexer": "ipython2",
   "version": "2.7.6"
  }
 },
 "nbformat": 4,
 "nbformat_minor": 0
}
