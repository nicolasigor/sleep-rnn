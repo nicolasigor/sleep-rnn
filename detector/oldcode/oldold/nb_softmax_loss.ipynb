{
 "cells": [
  {
   "cell_type": "code",
   "execution_count": 1,
   "metadata": {},
   "outputs": [
    {
     "name": "stderr",
     "output_type": "stream",
     "text": [
      "/usr/lib/python3.5/importlib/_bootstrap.py:222: RuntimeWarning: numpy.dtype size changed, may indicate binary incompatibility. Expected 96, got 88\n",
      "  return f(*args, **kwds)\n",
      "/usr/lib/python3.5/importlib/_bootstrap.py:222: RuntimeWarning: numpy.dtype size changed, may indicate binary incompatibility. Expected 96, got 88\n",
      "  return f(*args, **kwds)\n",
      "/usr/lib/python3.5/importlib/_bootstrap.py:222: RuntimeWarning: numpy.dtype size changed, may indicate binary incompatibility. Expected 96, got 88\n",
      "  return f(*args, **kwds)\n",
      "/usr/lib/python3.5/importlib/_bootstrap.py:222: RuntimeWarning: numpy.dtype size changed, may indicate binary incompatibility. Expected 96, got 88\n",
      "  return f(*args, **kwds)\n"
     ]
    }
   ],
   "source": [
    "import numpy as np\n",
    "import tensorflow as tf"
   ]
  },
  {
   "cell_type": "code",
   "execution_count": 2,
   "metadata": {},
   "outputs": [
    {
     "name": "stdout",
     "output_type": "stream",
     "text": [
      "labels shape (7, 4)\n",
      "[[0 1 1 0]\n",
      " [1 0 0 0]\n",
      " [0 1 1 1]\n",
      " [1 0 1 0]\n",
      " [1 1 1 1]\n",
      " [1 1 1 1]\n",
      " [0 0 0 0]]\n",
      "(7, 4)\n",
      "[[0 1 1 0]\n",
      " [1 0 0 0]\n",
      " [0 1 1 1]\n",
      " [1 0 1 0]\n",
      " [1 1 1 1]\n",
      " [1 1 1 1]\n",
      " [0 0 0 0]]\n"
     ]
    }
   ],
   "source": [
    "tf.reset_default_graph()\n",
    "# labels\n",
    "labels = np.array([\n",
    "    [0,1,1,0],[1,0,0,0],[0,1,1,1],[1,0,1,0],[1,1,1,1],[1,1,1,1],[0,0,0,0]\n",
    "])\n",
    "\n",
    "print(\"labels shape\",labels.shape)\n",
    "depth = 2\n",
    "labels_onehot = tf.one_hot(labels, depth)\n",
    "\n",
    "logits = labels_onehot\n",
    "\n",
    "loss = tf.nn.softmax_cross_entropy_with_logits_v2(labels=labels_onehot, logits=logits)\n",
    "loss_prom =tf.reduce_mean(loss)\n",
    "\n",
    "labels_single = tf.argmax(labels_onehot, axis=-1)\n",
    "\n",
    "with tf.Session() as sess:\n",
    "    #labels_onehot_np = sess.run(labels_onehot)\n",
    "    out_np = sess.run(labels_single)\n",
    "print(out_np)\n",
    "print(out_np.shape)\n",
    "print(labels)    \n",
    "\n",
    "#print(labels_onehot_np)\n",
    "#print(labels_onehot_np.shape)"
   ]
  },
  {
   "cell_type": "code",
   "execution_count": 20,
   "metadata": {},
   "outputs": [
    {
     "name": "stdout",
     "output_type": "stream",
     "text": [
      "labels shape (7, 4)\n",
      "logits shape (7, 4, 2)\n",
      "loss_normal (7, 4)\n",
      "loss_normal_prom () 0.31326166\n",
      "loss_sparse () 0.18348183\n",
      "weights [[0.1 0.9 0.9 0.1]\n",
      " [0.9 0.1 0.1 0.1]\n",
      " [0.1 0.9 0.9 0.9]\n",
      " [0.9 0.1 0.9 0.1]\n",
      " [0.9 0.9 0.9 0.9]\n",
      " [0.9 0.9 0.9 0.9]\n",
      " [0.1 0.1 0.9 0.1]]\n",
      "labels [[0 1 1 0]\n",
      " [1 0 0 0]\n",
      " [0 1 1 1]\n",
      " [1 0 1 0]\n",
      " [1 1 1 1]\n",
      " [1 1 1 1]\n",
      " [0 0 1 0]]\n",
      "loss [[0.31326163 0.31326163 0.31326163 0.31326163]\n",
      " [0.31326163 0.31326163 0.31326163 0.31326163]\n",
      " [0.31326163 0.31326163 0.31326163 0.31326163]\n",
      " [0.31326163 0.31326163 0.31326163 0.31326163]\n",
      " [0.31326163 0.31326163 0.31326163 0.31326163]\n",
      " [0.31326163 0.31326163 0.31326163 0.31326163]\n",
      " [0.31326166 0.31326166 0.31326166 0.31326166]]\n",
      "weighted loss [[0.03132616 0.28193545 0.28193545 0.03132616]\n",
      " [0.28193545 0.03132616 0.03132616 0.03132616]\n",
      " [0.03132616 0.28193545 0.28193545 0.28193545]\n",
      " [0.28193545 0.03132616 0.28193545 0.03132616]\n",
      " [0.28193545 0.28193545 0.28193545 0.28193545]\n",
      " [0.28193545 0.28193545 0.28193545 0.28193545]\n",
      " [0.03132617 0.03132617 0.28193548 0.03132617]] 0.18348183\n"
     ]
    }
   ],
   "source": [
    "tf.reset_default_graph()\n",
    "# labels of shape [batch, timesteps]\n",
    "labels = np.array([\n",
    "    [0,1,1,0],[1,0,0,0],[0,1,1,1],[1,0,1,0],[1,1,1,1],[1,1,1,1],[0,0,1,0]\n",
    "])\n",
    "print(\"labels shape\",labels.shape)\n",
    "\n",
    "# Fake logits of two classes, of shape [batch, timesteps, 2]\n",
    "depth = 2\n",
    "labels_onehot = tf.one_hot(labels, depth)\n",
    "logits = labels_onehot\n",
    "\n",
    "# Create weights\n",
    "class_weights = tf.constant([0.1, 0.9])\n",
    "weights = tf.gather(class_weights, labels)\n",
    "\n",
    "loss_normal = tf.nn.softmax_cross_entropy_with_logits_v2(labels=labels_onehot, logits=logits)\n",
    "loss_normal_prom = tf.reduce_mean(loss_normal)\n",
    "loss_sparse = tf.losses.sparse_softmax_cross_entropy(labels=labels, logits=logits, weights=weights)\n",
    "\n",
    "with tf.Session() as sess:\n",
    "    logits_np = sess.run(logits)\n",
    "    loss_normal_np = sess.run(loss_normal)\n",
    "    loss_normal_prom_np = sess.run(loss_normal_prom)\n",
    "    loss_sparse_np = sess.run(loss_sparse)\n",
    "    weights_np = sess.run(weights)\n",
    "    \n",
    "print(\"logits shape\", logits_np.shape)\n",
    "print(\"loss_normal\", loss_normal_np.shape)\n",
    "print(\"loss_normal_prom\", loss_normal_prom_np.shape, loss_normal_prom_np)\n",
    "print(\"loss_sparse\", loss_sparse_np.shape, loss_sparse_np)\n",
    "print(\"weights\", weights_np)\n",
    "\n",
    "print(\"labels\", labels)\n",
    "\n",
    "# Desired results:\n",
    "print(\"loss\", loss_normal_np)\n",
    "print(\"weighted loss\", weights_np*loss_normal_np, np.mean(weights_np*loss_normal_np))\n",
    "\n",
    "\n"
   ]
  }
 ],
 "metadata": {
  "kernelspec": {
   "display_name": "Python 3",
   "language": "python",
   "name": "python3"
  },
  "language_info": {
   "codemirror_mode": {
    "name": "ipython",
    "version": 3
   },
   "file_extension": ".py",
   "mimetype": "text/x-python",
   "name": "python",
   "nbconvert_exporter": "python",
   "pygments_lexer": "ipython3",
   "version": "3.5.2"
  }
 },
 "nbformat": 4,
 "nbformat_minor": 2
}
