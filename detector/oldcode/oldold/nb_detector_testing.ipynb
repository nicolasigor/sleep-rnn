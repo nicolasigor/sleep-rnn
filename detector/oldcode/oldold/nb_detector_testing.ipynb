{
 "cells": [
  {
   "cell_type": "code",
   "execution_count": null,
   "metadata": {},
   "outputs": [],
   "source": [
    "from ss_detector_fc_1 import Detector\n",
    "import time\n",
    "import numpy as np\n",
    "import matplotlib.pyplot as plt\n",
    "import matplotlib.cm as cm\n",
    "%matplotlib inline"
   ]
  },
  {
   "cell_type": "code",
   "execution_count": null,
   "metadata": {},
   "outputs": [],
   "source": [
    "# Settings\n",
    "\n",
    "all_names = [\n",
    "    'ADGU101504',\n",
    "    'ALUR012904',\n",
    "    # 'BECA011405',  we will skip this one for now\n",
    "    'BRCA062405',\n",
    "    'BRLO041102',\n",
    "    'BTOL083105',\n",
    "    'BTOL090105',\n",
    "    'CAPO092605',\n",
    "    'CRCA020205',\n",
    "    'ESCI031905',\n",
    "    'TAGO061203']\n",
    "\n",
    "path_rec = \"ssdata/register/\"\n",
    "rec_postamble = \".rec\"\n",
    "\n",
    "path_marks = \"ssdata/label/marks/\"\n",
    "marks_preamble = \"FixedSS_\"\n",
    "marks_postamble = \".txt\"\n",
    "\n",
    "path_states = \"ssdata/label/states/\"\n",
    "states_preamble = \"StagesOnly_\"\n",
    "states_postamble = \".txt\"\n",
    "\n",
    "params = {\n",
    "    'channel': 1,             # Channel to be used\n",
    "    'dur_epoch': 30,          # Time of window page [s]\n",
    "    'n2_val': 3,              # N2 state coding value\n",
    "    'context': 1.28,          # Length of context for timestep, in [s]\n",
    "    'factor_border': 2,\n",
    "    # spectrogram will be computed in a segment of length (factor_border+1)*context to avoid border effects\n",
    "    'mark_smooth': 1,          # Number of samples to average at the center to get the segment central mark.\n",
    "    'percentile': 99,   # percentil for clipping\n",
    "    'fs': 200  # Sampling frequency of the dataset\n",
    "}\n",
    "\n",
    "# Build list of paths\n",
    "data_path_list = []\n",
    "for i in range(len(all_names)):\n",
    "    path_edf_file = path_rec + all_names[i] + rec_postamble\n",
    "    path_marks_file = path_marks + marks_preamble + all_names[i] + marks_postamble\n",
    "    path_states_file = path_states + states_preamble + all_names[i] + states_postamble\n",
    "    # Save data\n",
    "    ind_dict = {'file_edf': path_edf_file,\n",
    "                'file_marks': path_marks_file,\n",
    "                'file_states': path_states_file}\n",
    "    data_path_list.append(ind_dict)\n",
    "print(len(data_path_list), ' records in dataset.')\n",
    "\n",
    "# Split in train, val and test\n",
    "random_perm = [4, 7, 3, 8, 5, 6, 2, 0, 1, 9]\n",
    "test_idx = random_perm[0:2]\n",
    "val_idx = random_perm[2:4]\n",
    "train_idx = random_perm[4:]\n",
    "\n",
    "train_path_list = [data_path_list[i] for i in train_idx]\n",
    "val_path_list = [data_path_list[i] for i in val_idx]\n",
    "test_path_list = [data_path_list[i] for i in test_idx]\n",
    "\n",
    "print('Training set size:' ,len(train_path_list), '-- Records:', train_idx)\n",
    "print('Validation set size:' ,len(val_path_list), '-- Records:', val_idx)\n",
    "print('Test set size:' ,len(test_path_list), '-- Records:', test_idx)"
   ]
  },
  {
   "cell_type": "code",
   "execution_count": null,
   "metadata": {},
   "outputs": [],
   "source": [
    "ss_detector = Detector(params)\n",
    "data_list = ss_detector.load_data(train_path_list)"
   ]
  },
  {
   "cell_type": "code",
   "execution_count": null,
   "metadata": {},
   "outputs": [],
   "source": [
    "start = time.time()\n",
    "features, labels = ss_detector.sample_minibatch(data_list, batch_size=32)\n",
    "print('Total Time: ' + str(time.time() - start) + ' [s]')\n",
    "print('Features:', features.shape, 'Labels:',labels.shape, 'With spindle:', sum(labels))"
   ]
  },
  {
   "cell_type": "code",
   "execution_count": null,
   "metadata": {},
   "outputs": [],
   "source": [
    "# Show a signal from minibatch\n",
    "example = 0\n",
    "plt.figure(figsize=(15, 2))\n",
    "plt.plot(features[example,:])\n",
    "plt.title('label '+str(labels[example]))\n",
    "plt.show"
   ]
  },
  {
   "cell_type": "code",
   "execution_count": null,
   "metadata": {},
   "outputs": [],
   "source": [
    "# Now get CWT\n",
    "start = time.time()\n",
    "features_cwt, freqs = ss_detector.get_cwt_minibatch(features)\n",
    "print('Total Time: ' + str(time.time() - start) + ' [s]')\n",
    "print('CWT Features: ',features_cwt.shape)\n",
    "print('Used frequencies [Hz]:')\n",
    "print(freqs)"
   ]
  },
  {
   "cell_type": "code",
   "execution_count": null,
   "metadata": {},
   "outputs": [],
   "source": [
    "# Show a single example\n",
    "for chan in range(features_cwt.shape[3]):\n",
    "    plt.figure(figsize=(10, 3))\n",
    "    plt.imshow(features_cwt[example,:,:,chan], interpolation='none', cmap=cm.inferno, aspect='auto')\n",
    "    plt.show()"
   ]
  },
  {
   "cell_type": "code",
   "execution_count": null,
   "metadata": {},
   "outputs": [],
   "source": [
    "# Train detector\n",
    "ss_detector = Detector(params)\n",
    "ss_detector.train(train_path_list, val_path_list, 20)"
   ]
  },
  {
   "cell_type": "code",
   "execution_count": null,
   "metadata": {},
   "outputs": [],
   "source": [
    "np.max([1,2])"
   ]
  }
 ],
 "metadata": {
  "kernelspec": {
   "display_name": "Python 3",
   "language": "python",
   "name": "python3"
  },
  "language_info": {
   "codemirror_mode": {
    "name": "ipython",
    "version": 3
   },
   "file_extension": ".py",
   "mimetype": "text/x-python",
   "name": "python",
   "nbconvert_exporter": "python",
   "pygments_lexer": "ipython3",
   "version": "3.6.2"
  }
 },
 "nbformat": 4,
 "nbformat_minor": 2
}
