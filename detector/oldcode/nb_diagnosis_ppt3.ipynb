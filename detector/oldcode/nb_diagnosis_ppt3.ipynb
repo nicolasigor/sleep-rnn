{
 "cells": [
  {
   "cell_type": "code",
   "execution_count": 1,
   "metadata": {},
   "outputs": [],
   "source": [
    "import numpy as np\n",
    "import matplotlib.pyplot as plt\n",
    "from matplotlib import gridspec\n",
    "import pywt\n",
    "from ipywidgets import interact, interactive, fixed, interact_manual\n",
    "import ipywidgets as widgets\n",
    "\n",
    "from sleep_data import SleepDataMASS\n",
    "from sleep_data import utils"
   ]
  },
  {
   "cell_type": "code",
   "execution_count": 2,
   "metadata": {},
   "outputs": [
    {
     "data": {
      "text/html": [
       "<style>.container { width:100% !important; }</style>"
      ],
      "text/plain": [
       "<IPython.core.display.HTML object>"
      ]
     },
     "metadata": {},
     "output_type": "display_data"
    }
   ],
   "source": [
    "from IPython.core.display import display, HTML\n",
    "display(HTML(\"<style>.container { width:100% !important; }</style>\"))"
   ]
  },
  {
   "cell_type": "code",
   "execution_count": 3,
   "metadata": {},
   "outputs": [
    {
     "name": "stdout",
     "output_type": "stream",
     "text": [
      "\n",
      "Loading MASS from checkpoint\n",
      "\n",
      "Pages in train set: 5838\n",
      "Pages in val set: 1869\n",
      "Pages in test set: 3094\n",
      "\n",
      "Pages in MASS dataset: 10801\n"
     ]
    }
   ],
   "source": [
    "dataset = SleepDataMASS(load_from_checkpoint=True)"
   ]
  },
  {
   "cell_type": "code",
   "execution_count": 4,
   "metadata": {},
   "outputs": [
    {
     "name": "stdout",
     "output_type": "stream",
     "text": [
      "Signal (1869, 4000)\n",
      "Expert marks (1869, 400) (1869, 400)\n",
      "NN marks (1869, 400)\n"
     ]
    }
   ],
   "source": [
    "subset_name = \"val\"\n",
    "\n",
    "fs = dataset.get_fs()\n",
    "signals, exp_1_marks = dataset.get_augmented_numpy_subset(subset_name, 1, 0)\n",
    "_, exp_2_marks = dataset.get_augmented_numpy_subset(subset_name, 2, 0)\n",
    "size_half_page = int(signals.shape[1]/4)\n",
    "signals = signals[:, size_half_page:-size_half_page]\n",
    "exp_1_marks = exp_1_marks[:, size_half_page:-size_half_page:10]\n",
    "exp_2_marks = exp_2_marks[:, size_half_page:-size_half_page:10]\n",
    "print(\"Signal\", signals.shape)\n",
    "print(\"Expert marks\", exp_1_marks.shape, exp_2_marks.shape)\n",
    "\n",
    "nn_marks = np.loadtxt(\"falcondata/marks_ppt3/predictions_\"+subset_name+\"_central.csv\")\n",
    "print(\"NN marks\", nn_marks.shape)\n",
    "\n",
    "n_pages = exp_1_marks.shape[0]"
   ]
  },
  {
   "cell_type": "code",
   "execution_count": 5,
   "metadata": {},
   "outputs": [],
   "source": [
    "# Binarize the nn output with 0.5 thr\n",
    "\n",
    "nn_marks_bin = (nn_marks > 0.5).astype(int)\n",
    "\n",
    "# Split the marks and prediction by register\n",
    "if subset_name == 'val':\n",
    "    single_npages = [496, 638, 735]\n",
    "elif subset_name == 'test': \n",
    "    single_npages = [911, 676, 689, 818]\n",
    "else:\n",
    "    raise ValueError(\"Only 'val' or 'test' is supported.\")\n",
    "    \n",
    "splitted = []\n",
    "for k in range(len(single_npages)):\n",
    "    start = sum(single_npages[:k]) if k>0 else 0\n",
    "    end = sum(single_npages[:k+1])\n",
    "    splitted.append(\n",
    "       {\n",
    "           'e1': exp_1_marks[start:end, :],\n",
    "           'e2': exp_2_marks[start:end, :],\n",
    "           'nn': nn_marks_bin[start:end, :]\n",
    "       }\n",
    "       )\n",
    "    "
   ]
  },
  {
   "cell_type": "code",
   "execution_count": 6,
   "metadata": {},
   "outputs": [
    {
     "name": "stdout",
     "output_type": "stream",
     "text": [
      "\n",
      "original marks shape (102, 2)\n",
      "after combination shape (100, 2)\n",
      "too_short 9 too_long 0\n",
      "after removing shape (91, 2)\n",
      "[3003 3016]\n",
      "(496, 400)\n",
      "\n",
      "original marks shape (883, 2)\n",
      "after combination shape (855, 2)\n",
      "too_short 16 too_long 0\n",
      "after removing shape (839, 2)\n",
      "[674 689]\n",
      "(638, 400)\n",
      "\n",
      "original marks shape (1880, 2)\n",
      "after combination shape (1808, 2)\n",
      "too_short 98 too_long 1\n",
      "after removing shape (1709, 2)\n",
      "[4310 4313]\n",
      "(735, 400)\n"
     ]
    }
   ],
   "source": [
    "# Filter nn_marks\n",
    "\n",
    "reduction_factor = exp_1_marks.shape[1] / signals.shape[1]\n",
    "# print(reduction_factor)\n",
    "\n",
    "for r in range(len(splitted)):\n",
    "    print(\"\")\n",
    "    this_nn = np.copy(splitted[r]['nn'])\n",
    "    original_page = this_nn.shape[1]\n",
    "    # print(this_nn.shape)\n",
    "    this_nn_c = np.concatenate(this_nn)\n",
    "    original_length = this_nn_c.shape[0]\n",
    "    # print(this_nn_c.shape)\n",
    "    # convert to intervals\n",
    "    this_nn_inter = utils.seq2inter(this_nn_c)\n",
    "    # print(this_nn_inter.shape)\n",
    "    \n",
    "    # combine too close marks\n",
    "    marks = this_nn_inter\n",
    "    print(\"original marks shape\", marks.shape)\n",
    "    new_marks = np.copy(marks[0, :])\n",
    "    new_marks = new_marks[np.newaxis, :]\n",
    "    # print(\"initial new marks shape\", new_marks.shape)\n",
    "    for k in range(1, marks.shape[0]):\n",
    "        distance = (marks[k, 0] - new_marks[-1, 1] - 1) / (fs * reduction_factor)\n",
    "        # Too close -> combine\n",
    "        if distance <= 0.3:\n",
    "            new_marks[-1, 1] = marks[k, 1]\n",
    "        # If not, add it\n",
    "        else:\n",
    "            new_marks = np.append(new_marks, marks[k:k+1,:], axis=0)\n",
    "    print(\"after combination shape\", new_marks.shape)\n",
    "    \n",
    "    # Remove too shorts / too long marks\n",
    "    duration = np.squeeze((np.diff(new_marks) + 1) / (fs * reduction_factor))\n",
    "    too_short = duration < 0.2\n",
    "    too_long = duration > 4\n",
    "    new_marks = new_marks[ np.invert(too_short) & np.invert(too_long), :]\n",
    "    print(\"too_short\", sum(too_short.astype(int)), \"too_long\", sum(too_long.astype(int)))\n",
    "    print(\"after removing shape\", new_marks.shape)\n",
    "\n",
    "    print(new_marks[0,:])\n",
    "    # Go back to interval\n",
    "    this_nn_filtered_c = utils.inter2seq(new_marks, 0, original_length - 1)\n",
    "    # print(this_nn_filtered_c.shape)\n",
    "    this_nn_filtered = np.reshape(this_nn_filtered_c, (-1, original_page))\n",
    "    print(this_nn_filtered.shape)\n",
    "    splitted[r]['nn'] = this_nn_filtered"
   ]
  },
  {
   "cell_type": "code",
   "execution_count": 7,
   "metadata": {},
   "outputs": [
    {
     "name": "stdout",
     "output_type": "stream",
     "text": [
      "By Sample Stats\n",
      "\n",
      "TP: 994, FP: 227, FN: 964\n",
      "Precision 0.8141, Recall 0.5077, F1-score 0.6254\n",
      "\n",
      "TP: 9486, FP: 4771, FN: 1714\n",
      "Precision 0.6654, Recall 0.8470, F1-score 0.7453\n",
      "\n",
      "TP: 8060, FP: 18861, FN: 11482\n",
      "Precision 0.2994, Recall 0.4124, F1-score 0.3469\n",
      "\n",
      "Total -- TP: 18540, FP: 23859, FN: 14160\n",
      "Total -- Precision 0.4373, Recall 0.5670, F1-score 0.4937\n"
     ]
    }
   ],
   "source": [
    "# By-sample statistics\n",
    "\n",
    "print(\"By Sample Stats\")\n",
    "bs_stats = []\n",
    "acc_tp = 0\n",
    "acc_fp = 0\n",
    "acc_fn = 0\n",
    "for reg in splitted:\n",
    "    this_nn = reg['nn']\n",
    "    this_e1 = reg['e1']\n",
    "    tp = np.sum((this_nn == 1) & (this_e1 == 1))\n",
    "    fp = np.sum((this_nn == 1) & (this_e1 == 0))\n",
    "    fn = np.sum((this_nn == 0) & (this_e1 == 1))\n",
    "    acc_tp += tp\n",
    "    acc_fp += fp\n",
    "    acc_fn += fn\n",
    "    print(\"\")\n",
    "    print(\"TP: %d, FP: %d, FN: %d\" % (tp, fp, fn))\n",
    "    precision = tp/(tp+fp)\n",
    "    recall = tp/(tp+fn)\n",
    "    f1 = 2 * precision * recall / (precision + recall)\n",
    "    print(\"Precision %1.4f, Recall %1.4f, F1-score %1.4f\" % (precision, recall, f1))\n",
    "    bs_stats.append({'precision': precision, 'recall': recall})\n",
    "print(\"\")\n",
    "print(\"Total -- TP: %d, FP: %d, FN: %d\" % (acc_tp, acc_fp, acc_fn))\n",
    "acc_precision = acc_tp/(acc_tp+acc_fp)\n",
    "acc_recall = acc_tp/(acc_tp+acc_fn)\n",
    "acc_f1 = 2 * acc_precision * acc_recall / (acc_precision + acc_recall)\n",
    "print(\"Total -- Precision %1.4f, Recall %1.4f, F1-score %1.4f\" % (acc_precision, acc_recall, acc_f1))"
   ]
  },
  {
   "cell_type": "code",
   "execution_count": 8,
   "metadata": {},
   "outputs": [],
   "source": [
    "def matching(detections, events, IoU_thr):\n",
    "    det = np.sort(detections, axis=0)\n",
    "    gs = np.sort(events, axis=0)\n",
    "    \n",
    "    # Matrix of overlap, rows are gs, columns are det\n",
    "    n_det = det.shape[0]\n",
    "    n_gs = gs.shape[0]\n",
    "    overlaps = np.zeros((n_gs, n_det))\n",
    "    for i in range(n_gs):\n",
    "        for j in range(n_det):\n",
    "            inter_samples = np.arange(max( gs[i,0], det[j,0]), min( gs[i,1], det[j,1]) + 1)\n",
    "            if inter_samples.size > 0:\n",
    "                intersection = inter_samples.size\n",
    "                union_samples =  np.arange(min( gs[i,0], det[j,0]), max( gs[i,1], det[j,1]) + 1)\n",
    "                union = union_samples.size\n",
    "                overlaps[i, j] = intersection / union\n",
    "    \n",
    "    # Greedy matching\n",
    "    IoU_array = []  # Array for IoU for every true event (gs)\n",
    "    for i in range(n_gs):\n",
    "        if np.sum(overlaps[i, :]) > 0:\n",
    "            # Find max overlap\n",
    "            max_j = np.argmax(overlaps[i, :])\n",
    "            IoU_array.append(overlaps[i, max_j])\n",
    "            # Remove this detection for further search\n",
    "            overlaps[i, max_j] = 0\n",
    "        else:\n",
    "            IoU_array.append(0)\n",
    "    IoU_array = np.array(IoU_array)        \n",
    " \n",
    "    # Now assign TP according to thr\n",
    "    tp = sum((IoU_array >= IoU_thr).astype(int))\n",
    "    \n",
    "    return tp, IoU_array"
   ]
  },
  {
   "cell_type": "code",
   "execution_count": 23,
   "metadata": {},
   "outputs": [
    {
     "name": "stdout",
     "output_type": "stream",
     "text": [
      "By Event Stats at IoU 0.20\n",
      "\n",
      "TP: 75, D: 91, E: 140\n",
      "Precision 0.8242, Recall 0.5357, F1-score 0.6494\n"
     ]
    },
    {
     "data": {
      "image/png": "[encoded data removed]",
      "text/plain": [
       "<Figure size 720x144 with 1 Axes>"
      ]
     },
     "metadata": {},
     "output_type": "display_data"
    },
    {
     "name": "stdout",
     "output_type": "stream",
     "text": [
      "\n",
      "TP: 562, D: 839, E: 602\n",
      "Precision 0.6698, Recall 0.9336, F1-score 0.7800\n"
     ]
    },
    {
     "data": {
      "image/png": "[encoded data removed]",
      "text/plain": [
       "<Figure size 720x144 with 1 Axes>"
      ]
     },
     "metadata": {},
     "output_type": "display_data"
    },
    {
     "name": "stdout",
     "output_type": "stream",
     "text": [
      "\n",
      "TP: 618, D: 1709, E: 1152\n",
      "Precision 0.3616, Recall 0.5365, F1-score 0.4320\n"
     ]
    },
    {
     "data": {
      "image/png": "[encoded data removed]",
      "text/plain": [
       "<Figure size 720x144 with 1 Axes>"
      ]
     },
     "metadata": {},
     "output_type": "display_data"
    },
    {
     "name": "stdout",
     "output_type": "stream",
     "text": [
      "\n",
      "Total -- TP: 1255, D: 2639, E: 1894\n",
      "Total -- Precision 0.4756, Recall 0.6626, F1-score 0.5537\n"
     ]
    }
   ],
   "source": [
    "# By event statistics\n",
    "IoU_thr = 0.2\n",
    "print(\"By Event Stats at IoU %1.2f\" % (IoU_thr,))\n",
    "\n",
    "be_stats = []\n",
    "acc_tp = 0\n",
    "acc_detection = 0\n",
    "acc_event = 0\n",
    "acc_IoU = []\n",
    "for reg in splitted:\n",
    "    this_nn = reg['nn']\n",
    "    this_e1 = reg['e1']\n",
    "    \n",
    "    this_nn_inter = utils.seq2inter(np.concatenate(this_nn))\n",
    "    this_e1_inter = utils.seq2inter(np.concatenate(this_e1))\n",
    "    \n",
    "    n_detection = this_nn_inter.shape[0]\n",
    "    n_event = this_e1_inter.shape[0]\n",
    "    \n",
    "    tp, IoU_array = matching(this_nn_inter, this_e1_inter, IoU_thr)\n",
    "\n",
    "    acc_IoU.append(IoU_array)\n",
    "\n",
    "    acc_tp += tp\n",
    "    acc_detection += n_detection\n",
    "    acc_event += n_event\n",
    "    print(\"\")\n",
    "    print(\"TP: %d, D: %d, E: %d\" % (tp, n_detection, n_event))\n",
    "    precision = tp / n_detection\n",
    "    recall = tp / n_event\n",
    "    f1 = 2 * precision * recall / (precision + recall)\n",
    "    print(\"Precision %1.4f, Recall %1.4f, F1-score %1.4f\" % (precision, recall, f1))\n",
    "    be_stats.append({'precision': precision, 'recall': recall})\n",
    "    \n",
    "    # Show histogram of IoU > 0 \n",
    "    fig = plt.figure(figsize=(10,2))\n",
    "    plt.hist(IoU_array[IoU_array>0])\n",
    "    plt.title('nonzero IoU histogram')\n",
    "    plt.show()\n",
    "    \n",
    "acc_IoU = np.concatenate(acc_IoU)\n",
    "\n",
    "print(\"\")\n",
    "print(\"Total -- TP: %d, D: %d, E: %d\" % (acc_tp, acc_detection, acc_event))\n",
    "acc_precision = acc_tp / acc_detection\n",
    "acc_recall = acc_tp / acc_event\n",
    "acc_f1 = 2 * acc_precision * acc_recall / (acc_precision + acc_recall)\n",
    "print(\"Total -- Precision %1.4f, Recall %1.4f, F1-score %1.4f\" % (acc_precision, acc_recall, acc_f1))\n",
    "\n",
    "# Show histogram of IoU\n",
    "# fig = plt.figure(figsize=(10,2))\n",
    "# plt.hist(acc_IoU[acc_IoU>0])\n",
    "# plt.title('Total nonzero IoU histogram')\n",
    "# plt.show()"
   ]
  },
  {
   "cell_type": "code",
   "execution_count": 10,
   "metadata": {},
   "outputs": [],
   "source": [
    "# Generate postprocessed output of NN for plot\n",
    "nn_marks_post = [reg['nn'] for reg in splitted]\n",
    "nn_marks_post = np.concatenate(nn_marks_post, axis=0)"
   ]
  },
  {
   "cell_type": "code",
   "execution_count": null,
   "metadata": {},
   "outputs": [],
   "source": []
  },
  {
   "cell_type": "code",
   "execution_count": 17,
   "metadata": {},
   "outputs": [],
   "source": [
    "import tensorflow as tf\n",
    "\n",
    "from models import cwt_ops\n",
    "\n",
    "tf.reset_default_graph()\n",
    "\n",
    "input_ph = tf.placeholder(dtype=tf.float32, shape=(None, 4000), name=\"segment_ph\")\n",
    "\n",
    "wavelets, _ = cwt_ops.complex_morlet_wavelets(\n",
    "        fb_array=np.array([1.5]),\n",
    "        fs=fs,\n",
    "        lower_freq=3,\n",
    "        upper_freq=40,\n",
    "        n_scales=32,\n",
    "        flattening=True)\n",
    "\n",
    "scalograms = cwt_ops.cwt_layer(\n",
    "        inputs=input_ph,\n",
    "        wavelets=wavelets,\n",
    "        border_crop=0,\n",
    "        stride=1,\n",
    "        data_format=\"channel_last\",\n",
    "        name=\"cwt_module\")\n",
    "\n",
    "sess = tf.Session()"
   ]
  },
  {
   "cell_type": "code",
   "execution_count": 11,
   "metadata": {},
   "outputs": [],
   "source": [
    "def set_cwt(fs):\n",
    "    # Parameters CWT\n",
    "    fb = 1.5\n",
    "    lower_freq = 3\n",
    "    upper_freq = 40\n",
    "    n_scales = 32\n",
    "    # Generate initial and last scale\n",
    "    s_0 = fs / upper_freq\n",
    "    s_n = fs / lower_freq\n",
    "    # Generate the array of scales\n",
    "    base = np.power(s_n / s_0, 1 / (n_scales - 1))\n",
    "    scales = s_0 * np.power(base, np.arange(n_scales))\n",
    "    # Pywavelets\n",
    "    w = pywt.ContinuousWavelet('cmor')\n",
    "    w.center_frequency = 1\n",
    "    w.bandwidth_frequency = fb\n",
    "    return scales, w"
   ]
  },
  {
   "cell_type": "code",
   "execution_count": 12,
   "metadata": {},
   "outputs": [],
   "source": [
    "def get_cwt(segment, scales, w, fs):\n",
    "    coef, freqs = pywt.cwt(segment, scales, w, 1/fs)\n",
    "    abs_coef = np.abs(coef)\n",
    "    return abs_coef * freqs[:, np.newaxis]"
   ]
  },
  {
   "cell_type": "code",
   "execution_count": 22,
   "metadata": {},
   "outputs": [
    {
     "data": {
      "application/vnd.jupyter.widget-view+json": {
       "model_id": "ed8f3af5d2fd48b8b2ff443fe3373d53",
       "version_major": 2,
       "version_minor": 0
      },
      "text/plain": [
       "interactive(children=(IntSlider(value=1, continuous_update=False, description='page', max=1869, min=1), Output…"
      ]
     },
     "metadata": {},
     "output_type": "display_data"
    }
   ],
   "source": [
    "def plot_page(page):\n",
    "    global signals, exp_marks, nn_marks, nn_marks_post, fs\n",
    "    fig = plt.figure(figsize=(25, 9)) \n",
    "    gs = gridspec.GridSpec(6, 1, height_ratios=[4, 6, 1, 1, 1, 1]) \n",
    "    \n",
    "    time_axis = np.arange(0, signals.shape[1])/fs\n",
    "    this_signal = signals[page, :]\n",
    "    this_mark_1 = exp_1_marks[page, :]\n",
    "    this_mark_2 = exp_2_marks[page, :]\n",
    "    this_pred = nn_marks[page, :]\n",
    "    this_pred_post = nn_marks_post[page, :]\n",
    "    # scales, w = set_cwt(fs)\n",
    "    # this_cwt = get_cwt(this_signal, scales, w, fs)\n",
    "    this_cwt = sess.run(scalograms, feed_dict={input_ph: np.array([this_signal])})\n",
    "    this_cwt = (np.squeeze(this_cwt)).T\n",
    "    \n",
    "    # Signal\n",
    "    ax0 = fig.add_subplot(gs[0])\n",
    "    ax0.plot(time_axis, this_signal)\n",
    "    ax0.set_yticks([])\n",
    "    ax0.set_xlim([0, 20])\n",
    "    ax0.set_ylim([-4, 4])\n",
    "    ax0.set_title('EEG Signal, C3-CLE (intervals of 0.5s are shown)')\n",
    "    ax0.set_xticks([0, 5, 10, 15, 20])\n",
    "    ax0.set_xticks(np.arange(0, 20, 0.5), minor=True)\n",
    "    ax0.grid(b=True, axis='x', which='minor')\n",
    "    \n",
    "    # CWT (con Pywavelets)\n",
    "    ax1 = fig.add_subplot(gs[1])\n",
    "    ax1.imshow(this_cwt, interpolation=None, aspect='auto', extent=[1, 20, 32, 1])\n",
    "    ax1.axis('off')\n",
    "    ax1.set_title('CWT CMorlet, [3, 40] Hz, Fb = 1.5')\n",
    "    \n",
    "    # Expert mark\n",
    "    ax2 = fig.add_subplot(gs[2])\n",
    "    ax2.imshow(this_mark_1[np.newaxis, :], interpolation=None, aspect='auto', extent=[1, 20, 32, 1])\n",
    "    ax2.axis('off')\n",
    "    ax2.set_title('Expert 1')\n",
    "    \n",
    "    ax3 = fig.add_subplot(gs[3])\n",
    "    ax3.imshow(this_mark_2[np.newaxis, :], interpolation=None, aspect='auto', extent=[1, 20, 32, 1])\n",
    "    ax3.axis('off')\n",
    "    ax3.set_title('Expert 2')\n",
    "    \n",
    "    # NN mark\n",
    "    ax4 = fig.add_subplot(gs[4])\n",
    "    ax4.imshow(this_pred[np.newaxis, :], interpolation=None, aspect='auto', extent=[1, 20, 32, 1])\n",
    "    ax4.axis('off')\n",
    "    ax4.set_title('Raw Neural Net Output')\n",
    "    \n",
    "    ax4 = fig.add_subplot(gs[5])\n",
    "    ax4.imshow(this_pred_post[np.newaxis, :], interpolation=None, aspect='auto', extent=[1, 20, 32, 1])\n",
    "    ax4.axis('off')\n",
    "    ax4.set_title('Post-Processed Neural Net Output')\n",
    "    \n",
    "    plt.tight_layout()\n",
    "    plt.show()\n",
    "\n",
    "interact(plot_page, page=widgets.IntSlider(min=1,max=n_pages,step=1,value=1, continuous_update=False));\n"
   ]
  },
  {
   "cell_type": "code",
   "execution_count": null,
   "metadata": {},
   "outputs": [],
   "source": []
  }
 ],
 "metadata": {
  "kernelspec": {
   "display_name": "Python 3",
   "language": "python",
   "name": "python3"
  },
  "language_info": {
   "codemirror_mode": {
    "name": "ipython",
    "version": 3
   },
   "file_extension": ".py",
   "mimetype": "text/x-python",
   "name": "python",
   "nbconvert_exporter": "python",
   "pygments_lexer": "ipython3",
   "version": "3.6.5"
  }
 },
 "nbformat": 4,
 "nbformat_minor": 2
}
