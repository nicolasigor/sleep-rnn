{
 "cells": [
  {
   "cell_type": "code",
   "execution_count": 1,
   "metadata": {},
   "outputs": [
    {
     "data": {
      "text/html": [
       "<style>.container { width:100% !important; }</style>"
      ],
      "text/plain": [
       "<IPython.core.display.HTML object>"
      ]
     },
     "metadata": {},
     "output_type": "display_data"
    }
   ],
   "source": [
    "from __future__ import absolute_import\n",
    "from __future__ import division\n",
    "from __future__ import print_function\n",
    "\n",
    "import os\n",
    "import sys\n",
    "import json\n",
    "import pprint\n",
    "\n",
    "import matplotlib.pyplot as plt\n",
    "import numpy as np\n",
    "import ipywidgets as widgets\n",
    "from matplotlib import gridspec\n",
    "import pprint\n",
    "\n",
    "detector_path = '..'\n",
    "sys.path.append(detector_path)\n",
    "\n",
    "from sleep.mass import KEY_EEG, KEY_PAGES, KEY_ID, KEY_MARKS\n",
    "from sleep.data_ops import seq2inter, inter2seq, seq2inter_with_pages\n",
    "from sleep.mass import MASS\n",
    "from evaluation import data_manipulation\n",
    "from sleep import data_ops\n",
    "from sleep import postprocessing\n",
    "from utils import param_keys\n",
    "from evaluation import metrics\n",
    "\n",
    "SEED = 123\n",
    "\n",
    "%matplotlib inline\n",
    "from IPython.core.display import display, HTML\n",
    "display(HTML(\"<style>.container { width:100% !important; }</style>\"))"
   ]
  },
  {
   "cell_type": "code",
   "execution_count": 2,
   "metadata": {},
   "outputs": [],
   "source": [
    "def get_border_size(my_p):\n",
    "    border_duration = my_p[param_keys.BORDER_DURATION]\n",
    "    fs = my_p[param_keys.FS]\n",
    "    border_size = fs * border_duration\n",
    "    return border_size\n",
    "\n",
    "\n",
    "def get_page_size(my_p):\n",
    "    page_duration = my_p[param_keys.PAGE_DURATION]\n",
    "    fs = my_p[param_keys.FS]\n",
    "    page_size = fs * page_duration\n",
    "    return page_size\n",
    "\n",
    "\n",
    "def prepare_labels(y, params):\n",
    "    \"\"\"Ensures that label data has the proper shape.\"\"\"\n",
    "    time_stride = 8\n",
    "    border_size = get_border_size(params)\n",
    "    page_size = get_page_size(params)\n",
    "    crop_size = page_size + 2 * border_size\n",
    "    if y.shape[1] == crop_size:\n",
    "        # We need to remove borders and downsampling for val labels.\n",
    "        y = y[:, border_size:-border_size:time_stride]\n",
    "    return y"
   ]
  },
  {
   "cell_type": "code",
   "execution_count": 5,
   "metadata": {},
   "outputs": [
    {
     "name": "stdout",
     "output_type": "stream",
     "text": [
      "Reading from ../results/predictions_mass/20190325_v2bn_fixed_loading_train_inta/bsf_try0\n",
      "Reading from ../results/predictions_mass/20190325_v2bn_fixed_loading_train_inta/bsf_try1\n",
      "Reading from ../results/predictions_mass/20190325_v2bn_fixed_loading_train_inta/bsf_try2\n",
      "Reading from ../results/predictions_mass/20190325_v2bn_fixed_loading_train_inta/bsf_try3\n",
      "8 3 4\n",
      "Saving predictions at ../results/predictions_mass/20190325_v2bn_fixed_loading_train_inta/bsf_avg\n",
      "Predictions saved\n"
     ]
    }
   ],
   "source": [
    "# Generate average predictions\n",
    "n_try_list = [0, 1, 2, 3]\n",
    "results_dir = os.path.join('..', 'results')\n",
    "pred_train_list = []\n",
    "pred_val_list = []\n",
    "pred_test_list = []\n",
    "for n_try_single in n_try_list:\n",
    "    ckpt_folder = '20190325_v2bn_fixed_loading_train_mass/bsf_try%d' % n_try_single\n",
    "    ckpt_path = os.path.join(results_dir, ckpt_folder)\n",
    "    save_dir = os.path.join(results_dir, 'predictions_mass', ckpt_folder)\n",
    "    print('Reading from', save_dir)\n",
    "    pred_train_list.append(np.load(os.path.join(save_dir, 'y_pred_train.npy'), allow_pickle=True))\n",
    "    pred_val_list.append(np.load(os.path.join(save_dir, 'y_pred_val.npy'), allow_pickle=True))\n",
    "    pred_test_list.append(np.load(os.path.join(save_dir, 'y_pred_test.npy'), allow_pickle=True))\n",
    "\n",
    "n_train = pred_train_list[0].shape[0]\n",
    "n_val = pred_val_list[0].shape[0]\n",
    "n_test = pred_test_list[0].shape[0]    \n",
    "print(n_train, n_val, n_test)\n",
    "\n",
    "avg_pred_train = []\n",
    "for i in range(n_train):\n",
    "    mean = pred_train_list[0][i] + pred_train_list[1][i] + pred_train_list[2][i] + pred_train_list[3][i]\n",
    "    mean = mean / 4\n",
    "    avg_pred_train.append(mean)\n",
    "\n",
    "avg_pred_val = []\n",
    "for i in range(n_val):\n",
    "    mean = pred_val_list[0][i] + pred_val_list[1][i] + pred_val_list[2][i] + pred_val_list[3][i]\n",
    "    mean = mean / 4\n",
    "    avg_pred_val.append(mean)\n",
    "    \n",
    "avg_pred_test = []\n",
    "for i in range(n_test):\n",
    "    mean = pred_test_list[0][i] + pred_test_list[1][i] + pred_test_list[2][i] + pred_test_list[3][i]\n",
    "    mean = mean / 4\n",
    "    avg_pred_test.append(mean)\n",
    "\n",
    "# save as try 4\n",
    "# Save predictions\n",
    "results_dir = os.path.join('..', 'results')\n",
    "ckpt_folder = '20190325_v2bn_fixed_loading_train_inta/bsf_avg'\n",
    "save_dir = os.path.join(results_dir, 'predictions_mass', ckpt_folder)\n",
    "if not os.path.exists(save_dir):\n",
    "    os.makedirs(save_dir)\n",
    "print('Saving predictions at %s' % save_dir)\n",
    "np.save(os.path.join(save_dir, 'y_pred_train.npy'), avg_pred_train)\n",
    "np.save(os.path.join(save_dir, 'y_pred_val.npy'), avg_pred_val)\n",
    "np.save(os.path.join(save_dir, 'y_pred_test.npy'), avg_pred_test)\n",
    "print('Predictions saved')"
   ]
  },
  {
   "cell_type": "code",
   "execution_count": 3,
   "metadata": {},
   "outputs": [
    {
     "name": "stdout",
     "output_type": "stream",
     "text": [
      "Dataset mass with 15 patients.\n",
      "Train size: 11. Test size: 4\n",
      "Train subjects: \n",
      " [1, 3, 5, 7, 9, 10, 11, 14, 17, 18, 19]\n",
      "Test subjects: \n",
      " [2, 6, 12, 13]\n",
      "Loading from checkpoint\n",
      "Loaded\n",
      "Restoring from ../results/predictions_mass/20190325_v2bn_fixed_loading_train_mass/bsf_avg\n",
      "Loading training set and splitting\n",
      "Split IDs: Total 11 -- Training 8\n",
      "Training set IDs: [1, 9, 10, 14, 17, 18, 7, 3]\n",
      "Validation set IDs: [11, 19, 5]\n",
      "Loading testing\n",
      "Testing set IDs: [2, 6, 12, 13]\n",
      "Getting ID 1, 745 N2 pages, Expert 1\n",
      "Getting ID 9, 739 N2 pages, Expert 1\n",
      "Getting ID 10, 696 N2 pages, Expert 1\n",
      "Getting ID 14, 730 N2 pages, Expert 1\n",
      "Getting ID 17, 797 N2 pages, Expert 1\n",
      "Getting ID 18, 735 N2 pages, Expert 1\n",
      "Getting ID 7, 694 N2 pages, Expert 1\n",
      "Getting ID 3, 496 N2 pages, Expert 1\n",
      "Getting ID 1, 745 N2 pages\n",
      "Getting ID 9, 739 N2 pages\n",
      "Getting ID 10, 696 N2 pages\n",
      "Getting ID 14, 730 N2 pages\n",
      "Getting ID 17, 797 N2 pages\n",
      "Getting ID 18, 735 N2 pages\n",
      "Getting ID 7, 694 N2 pages\n",
      "Getting ID 3, 496 N2 pages\n",
      "Getting ID 11, 638 N2 pages, Expert 1\n",
      "Getting ID 19, 804 N2 pages, Expert 1\n",
      "Getting ID 5, 633 N2 pages, Expert 1\n",
      "Getting ID 11, 638 N2 pages\n",
      "Getting ID 19, 804 N2 pages\n",
      "Getting ID 5, 633 N2 pages\n",
      "Getting ID 2, 911 N2 pages, Expert 1\n",
      "Getting ID 6, 676 N2 pages, Expert 1\n",
      "Getting ID 12, 689 N2 pages, Expert 1\n",
      "Getting ID 13, 818 N2 pages, Expert 1\n",
      "Getting ID 2, 911 N2 pages\n",
      "Getting ID 6, 676 N2 pages\n",
      "Getting ID 12, 689 N2 pages\n",
      "Getting ID 13, 818 N2 pages\n",
      "Predictions Loaded\n"
     ]
    }
   ],
   "source": [
    "results_dir = os.path.join('..', 'results')\n",
    "\n",
    "# ckpt_folder = 'predictions/v1_bn_fixed_files'\n",
    "ckpt_folder = 'predictions_mass/20190325_v2bn_fixed_loading_train_mass/bsf_avg'\n",
    "\n",
    "ckpt_path = os.path.join(results_dir, ckpt_folder)\n",
    "\n",
    "# Load data\n",
    "dataset = MASS(load_checkpoint=True)\n",
    "\n",
    "params = param_keys.default_params.copy()\n",
    "\n",
    "print('Restoring from %s' % ckpt_path)\n",
    "\n",
    "# Get training set ids\n",
    "print('Loading training set and splitting')\n",
    "all_train_ids = dataset.train_ids\n",
    "# Split to form validation set\n",
    "train_ids, val_ids = data_manipulation.split_ids_list(\n",
    "    all_train_ids, seed=SEED)\n",
    "print('Training set IDs:', train_ids)\n",
    "print('Validation set IDs:', val_ids)\n",
    "\n",
    "# Get test data\n",
    "print('Loading testing')\n",
    "test_ids = dataset.test_ids\n",
    "print('Testing set IDs:', test_ids)\n",
    "\n",
    "# Get data for predictions\n",
    "augmented_page = False\n",
    "which_expert = 1\n",
    "\n",
    "border_size = get_border_size(params)\n",
    "x_train, y_train = dataset.get_subset_data(\n",
    "    train_ids, augmented_page=augmented_page, border_size=border_size,\n",
    "    which_expert=which_expert, verbose=True)\n",
    "pages_train = dataset.get_subset_pages(train_ids, verbose=True)\n",
    "\n",
    "x_val, y_val = dataset.get_subset_data(\n",
    "    val_ids, augmented_page=augmented_page, border_size=border_size,\n",
    "    which_expert=which_expert, verbose=True)\n",
    "pages_val = dataset.get_subset_pages(val_ids, verbose=True)\n",
    "\n",
    "x_test, y_test = dataset.get_subset_data(\n",
    "    test_ids, augmented_page=augmented_page, border_size=border_size,\n",
    "    which_expert=which_expert, verbose=True)\n",
    "pages_test = dataset.get_subset_pages(test_ids, verbose=True)\n",
    "\n",
    "y_train = [prepare_labels(y, params) for y in y_train]\n",
    "y_val = [prepare_labels(y, params) for y in y_val]\n",
    "y_test = [prepare_labels(y, params) for y in y_test]\n",
    "\n",
    "# We keep each patient separate, to see variation of performance\n",
    "# between individuals\n",
    "# save_dir = os.path.join(results_dir, 'predictions', ckpt_folder)\n",
    "save_dir = os.path.join(results_dir, ckpt_folder)\n",
    "y_pred_train = np.load(os.path.join(save_dir, 'y_pred_train.npy'), allow_pickle=True)\n",
    "y_pred_val = np.load(os.path.join(save_dir, 'y_pred_val.npy'), allow_pickle=True)\n",
    "y_pred_test = np.load(os.path.join(save_dir, 'y_pred_test.npy'), allow_pickle=True)\n",
    "\n",
    "# Keep only class 1 probability\n",
    "y_pred_train = [y[..., 1] for y in y_pred_train]\n",
    "y_pred_val = [y[..., 1] for y in y_pred_val]\n",
    "y_pred_test = [y[..., 1] for y in y_pred_test]\n",
    "\n",
    "print('Predictions Loaded')\n",
    "\n",
    "# Threshold to binarize\n",
    "\n",
    "thr = 0.5\n",
    "# thr = 0.993\n",
    "y_pred_train = [(y >= thr).astype(np.int32) for y in y_pred_train]\n",
    "y_pred_val = [(y >= thr).astype(np.int32) for y in y_pred_val]\n",
    "y_pred_test = [(y >= thr).astype(np.int32) for y in y_pred_test]\n",
    "\n",
    "# # Compute by sample stats\n",
    "# y_train_flatten = np.concatenate(y_train, axis=0).flatten()\n",
    "# y_pred_train_flatten = np.concatenate(y_pred_train, axis=0).flatten()\n",
    "\n",
    "# y_val_flatten = np.concatenate(y_val, axis=0).flatten()\n",
    "# y_pred_val_flatten = np.concatenate(y_pred_val, axis=0).flatten()\n",
    "\n",
    "# y_test_flatten = np.concatenate(y_test, axis=0).flatten()\n",
    "# y_pred_test_flatten = np.concatenate(y_pred_test, axis=0).flatten()\n",
    "\n",
    "# bs_train = metrics.by_sample_confusion(y_train_flatten, y_pred_train_flatten, input_is_binary=True)\n",
    "# bs_val = metrics.by_sample_confusion(y_val_flatten, y_pred_val_flatten, input_is_binary=True)\n",
    "# bs_test = metrics.by_sample_confusion(y_test_flatten, y_pred_test_flatten, input_is_binary=True)\n",
    "\n",
    "# print('Train BS stats')\n",
    "# pprint.pprint(bs_train)\n",
    "\n",
    "# print('Val BS stats')\n",
    "# pprint.pprint(bs_val)\n",
    "\n",
    "# print('Test BS stats')\n",
    "# pprint.pprint(bs_test)"
   ]
  },
  {
   "cell_type": "code",
   "execution_count": 4,
   "metadata": {},
   "outputs": [],
   "source": [
    "# Now we need to concatenate the pages and transform to intervals\n",
    "y_train = [data_ops.seq2inter_with_pages(y, pages) for y, pages in zip(y_train, pages_train)]\n",
    "y_pred_train = [data_ops.seq2inter_with_pages(y, pages) for y, pages in zip(y_pred_train, pages_train)]\n",
    "\n",
    "y_val = [data_ops.seq2inter_with_pages(y, pages) for y, pages in zip(y_val, pages_val)]\n",
    "y_pred_val = [data_ops.seq2inter_with_pages(y, pages) for y, pages in zip(y_pred_val, pages_val)]\n",
    "\n",
    "y_test = [data_ops.seq2inter_with_pages(y, pages) for y, pages in zip(y_test, pages_test)]\n",
    "y_pred_test = [data_ops.seq2inter_with_pages(y, pages) for y, pages in zip(y_pred_test, pages_test)]"
   ]
  },
  {
   "cell_type": "code",
   "execution_count": 5,
   "metadata": {},
   "outputs": [
    {
     "data": {
      "text/plain": [
       "25"
      ]
     },
     "execution_count": 5,
     "metadata": {},
     "output_type": "execute_result"
    }
   ],
   "source": [
    "fs_effect = int(params[param_keys.FS] / 8)\n",
    "fs_effect"
   ]
  },
  {
   "cell_type": "code",
   "execution_count": 6,
   "metadata": {},
   "outputs": [],
   "source": [
    "def post_process(marks, fs, delta_combine=0.3, min_duration=0.2, max_duration=4.0):\n",
    "    marks = postprocessing.combine_close_marks(marks, fs, delta_combine)\n",
    "    marks = postprocessing.filter_duration_marks(marks, fs, min_duration, max_duration)\n",
    "    return marks\n",
    "\n",
    "\n",
    "y_pred_train = [post_process(y, fs_effect) for y in y_pred_train]\n",
    "y_pred_val = [post_process(y, fs_effect) for y in y_pred_val]\n",
    "y_pred_test = [post_process(y, fs_effect) for y in y_pred_test]"
   ]
  },
  {
   "cell_type": "code",
   "execution_count": 33,
   "metadata": {},
   "outputs": [
    {
     "data": {
      "text/plain": [
       "(589, 2)"
      ]
     },
     "execution_count": 33,
     "metadata": {},
     "output_type": "execute_result"
    }
   ],
   "source": []
  },
  {
   "cell_type": "code",
   "execution_count": 7,
   "metadata": {},
   "outputs": [
    {
     "name": "stdout",
     "output_type": "stream",
     "text": [
      "[0.1 0.2 0.3 0.4 0.5 0.6 0.7 0.8 0.9]\n",
      "0.1\n",
      "0.2\n",
      "0.30000000000000004\n",
      "0.4\n",
      "0.5\n",
      "0.6000000000000001\n",
      "0.7000000000000001\n",
      "0.8\n",
      "0.9\n",
      "Done\n",
      "IoU\n",
      "[0.1 0.2 0.3 0.4 0.5 0.6 0.7 0.8 0.9]\n",
      "\n",
      "Precision\n",
      "[0.8509412369848879, 0.8503388273463337, 0.8466707661033264, 0.8406274614107484, 0.8243067980884924, 0.7970242379060413, 0.7415890738500053, 0.5975866026636469, 0.26971755415779114]\n",
      "\n",
      "Recall\n",
      "[0.7460527429344848, 0.7453291539330376, 0.7423111712111408, 0.7366029516784606, 0.7231149150908844, 0.6986955357598679, 0.6501282317605923, 0.5219817243333809, 0.2340414629183722]\n",
      "\n",
      "F1score\n",
      "[0.7864724949695033, 0.7858150327735797, 0.7825440162140834, 0.7767486541891226, 0.7621056389853289, 0.7367144069303758, 0.6856407726265273, 0.5516230046984214, 0.2481998271044421]\n"
     ]
    }
   ],
   "source": [
    "# Test set performance F1 vs IoU\n",
    "iou_array = np.arange(1, 10) * 0.1\n",
    "print(iou_array)\n",
    "f1_list = []\n",
    "prec_list = []\n",
    "rec_list = []\n",
    "for iou_thr in iou_array:\n",
    "    print(iou_thr)\n",
    "    # be_train = [metrics.by_event_confusion(y, y_pred, iou_thr=0.3) for y, y_pred in zip(y_train, y_pred_train)]\n",
    "    # be_val = [metrics.by_event_confusion(y, y_pred, iou_thr=0.3) for y, y_pred in zip(y_val, y_pred_val)]\n",
    "    be_test = [metrics.by_event_confusion(y, y_pred, iou_thr=iou_thr) for y, y_pred in zip(y_test, y_pred_test)]\n",
    "    mean_f1 = np.mean([m['f1_score'] for m in be_test])\n",
    "    mean_prec = np.mean([m['precision'] for m in be_test])\n",
    "    mean_rec = np.mean([m['recall'] for m in be_test])\n",
    "    f1_list.append(mean_f1)\n",
    "    prec_list.append(mean_prec)\n",
    "    rec_list.append(mean_rec)\n",
    "print('Done')\n",
    "\n",
    "print('IoU')\n",
    "print(iou_array)\n",
    "print('')\n",
    "print('Precision')\n",
    "print(prec_list)\n",
    "print('')\n",
    "print('Recall')\n",
    "print(rec_list)\n",
    "print('')\n",
    "print('F1score')\n",
    "print(f1_list)"
   ]
  },
  {
   "cell_type": "code",
   "execution_count": 13,
   "metadata": {
    "scrolled": false
   },
   "outputs": [
    {
     "name": "stdout",
     "output_type": "stream",
     "text": [
      "IoU\n",
      "array([0.1, 0.2, 0.3, 0.4, 0.5, 0.6, 0.7, 0.8, 0.9])\n",
      "\n",
      "Precision\n",
      "[0.8230340124671368,\n",
      " 0.8227527976189928,\n",
      " 0.8200041976802741,\n",
      " 0.8081836903687655,\n",
      " 0.7938642749018326,\n",
      " 0.7564425295397685,\n",
      " 0.6767002684970888,\n",
      " 0.5392117587281273,\n",
      " 0.239542407334708]\n",
      "\n",
      "Recall\n",
      "[0.7521815919216224,\n",
      " 0.7518197974208989,\n",
      " 0.7493754131291146,\n",
      " 0.7388556141925313,\n",
      " 0.7251403957363397,\n",
      " 0.6908819907750432,\n",
      " 0.6185222812575255,\n",
      " 0.49113779497413834,\n",
      " 0.2175705745696595]\n",
      "\n",
      "F1score\n",
      "[0.7766434020637429,\n",
      " 0.7763269463675404,\n",
      " 0.7737756133308273,\n",
      " 0.7627898354916315,\n",
      " 0.7489830639312518,\n",
      " 0.7137061208155733,\n",
      " 0.6388164334198072,\n",
      " 0.5082923111229591,\n",
      " 0.22560860517475043]\n"
     ]
    }
   ],
   "source": [
    "print('IoU')\n",
    "pprint.pprint(iou_array)\n",
    "print('')\n",
    "print('Precision')\n",
    "pprint.pprint(prec_list)\n",
    "print('')\n",
    "print('Recall')\n",
    "pprint.pprint(rec_list)\n",
    "print('')\n",
    "print('F1score')\n",
    "pprint.pprint(f1_list)"
   ]
  },
  {
   "cell_type": "code",
   "execution_count": 8,
   "metadata": {},
   "outputs": [],
   "source": [
    "f1_list_try_0 = f1_list"
   ]
  },
  {
   "cell_type": "code",
   "execution_count": 15,
   "metadata": {},
   "outputs": [],
   "source": [
    "f1_list_try_1 = f1_list"
   ]
  },
  {
   "cell_type": "code",
   "execution_count": 72,
   "metadata": {},
   "outputs": [],
   "source": [
    "f1_list_try_2 = f1_list"
   ]
  },
  {
   "cell_type": "code",
   "execution_count": 81,
   "metadata": {},
   "outputs": [],
   "source": [
    "f1_list_try_3 = f1_list"
   ]
  },
  {
   "cell_type": "code",
   "execution_count": 34,
   "metadata": {},
   "outputs": [],
   "source": [
    "to_save = np.stack([iou_array, f1_list], axis=1)\n",
    "np.savetxt(\"f1_january_model_run%d.csv\" % n_try, to_save, delimiter=\",\")"
   ]
  },
  {
   "cell_type": "code",
   "execution_count": 1,
   "metadata": {},
   "outputs": [
    {
     "ename": "NameError",
     "evalue": "name 'np' is not defined",
     "output_type": "error",
     "traceback": [
      "\u001b[0;31m---------------------------------------------------------------------------\u001b[0m",
      "\u001b[0;31mNameError\u001b[0m                                 Traceback (most recent call last)",
      "\u001b[0;32m<ipython-input-1-1ba9bf8e9b9a>\u001b[0m in \u001b[0;36m<module>\u001b[0;34m()\u001b[0m\n\u001b[0;32m----> 1\u001b[0;31m \u001b[0mf1_values\u001b[0m \u001b[0;34m=\u001b[0m \u001b[0mnp\u001b[0m\u001b[0;34m.\u001b[0m\u001b[0mstack\u001b[0m\u001b[0;34m(\u001b[0m\u001b[0;34m[\u001b[0m\u001b[0mf1_list_try_0\u001b[0m\u001b[0;34m,\u001b[0m \u001b[0mf1_list_try_1\u001b[0m\u001b[0;34m,\u001b[0m \u001b[0mf1_list_try_2\u001b[0m\u001b[0;34m,\u001b[0m \u001b[0mf1_list_try_3\u001b[0m\u001b[0;34m]\u001b[0m\u001b[0;34m,\u001b[0m \u001b[0maxis\u001b[0m\u001b[0;34m=\u001b[0m\u001b[0;36m0\u001b[0m\u001b[0;34m)\u001b[0m\u001b[0;34m\u001b[0m\u001b[0m\n\u001b[0m\u001b[1;32m      2\u001b[0m \u001b[0mf1_means\u001b[0m \u001b[0;34m=\u001b[0m \u001b[0mnp\u001b[0m\u001b[0;34m.\u001b[0m\u001b[0mmean\u001b[0m\u001b[0;34m(\u001b[0m\u001b[0mf1_values\u001b[0m\u001b[0;34m,\u001b[0m \u001b[0maxis\u001b[0m\u001b[0;34m=\u001b[0m\u001b[0;36m0\u001b[0m\u001b[0;34m)\u001b[0m\u001b[0;34m\u001b[0m\u001b[0m\n\u001b[1;32m      3\u001b[0m \u001b[0mf1_std\u001b[0m \u001b[0;34m=\u001b[0m \u001b[0mnp\u001b[0m\u001b[0;34m.\u001b[0m\u001b[0mstd\u001b[0m\u001b[0;34m(\u001b[0m\u001b[0mf1_values\u001b[0m\u001b[0;34m,\u001b[0m \u001b[0maxis\u001b[0m\u001b[0;34m=\u001b[0m\u001b[0;36m0\u001b[0m\u001b[0;34m)\u001b[0m\u001b[0;34m\u001b[0m\u001b[0m\n\u001b[1;32m      4\u001b[0m \u001b[0;34m\u001b[0m\u001b[0m\n\u001b[1;32m      5\u001b[0m \u001b[0mfig\u001b[0m \u001b[0;34m=\u001b[0m \u001b[0mplt\u001b[0m\u001b[0;34m.\u001b[0m\u001b[0mfigure\u001b[0m\u001b[0;34m(\u001b[0m\u001b[0mfigsize\u001b[0m\u001b[0;34m=\u001b[0m\u001b[0;34m(\u001b[0m\u001b[0;36m4\u001b[0m\u001b[0;34m,\u001b[0m \u001b[0;36m4\u001b[0m\u001b[0;34m)\u001b[0m\u001b[0;34m,\u001b[0m \u001b[0mdpi\u001b[0m\u001b[0;34m=\u001b[0m\u001b[0;36m100\u001b[0m\u001b[0;34m)\u001b[0m\u001b[0;34m\u001b[0m\u001b[0m\n",
      "\u001b[0;31mNameError\u001b[0m: name 'np' is not defined"
     ]
    }
   ],
   "source": [
    "f1_values = np.stack([f1_list_try_0, f1_list_try_1, f1_list_try_2, f1_list_try_3], axis=0)\n",
    "f1_means = np.mean(f1_values, axis=0)\n",
    "f1_std = np.std(f1_values, axis=0)\n",
    "\n",
    "fig = plt.figure(figsize=(4, 4), dpi=100)\n",
    "plt.errorbar(iou_array, f1_means, f1_std, color='k', linewidth=2, markersize=12, marker='.')\n",
    "plt.title('Performance on test set (mean of 4 runs)', fontsize=10)\n",
    "plt.xlim([0, 1])\n",
    "plt.ylim([0, 1])\n",
    "plt.yticks([0.1*i for i in range(1, 10)])\n",
    "plt.xticks([0.1*i for i in range(1, 10)])\n",
    "plt.xlabel('Overlap threshold')\n",
    "plt.ylabel('F1-score')\n",
    "plt.grid()\n",
    "plt.show()"
   ]
  },
  {
   "cell_type": "code",
   "execution_count": 10,
   "metadata": {},
   "outputs": [
    {
     "data": {
      "image/png": "[encoded data removed]",
      "text/plain": [
       "<Figure size 400x400 with 1 Axes>"
      ]
     },
     "metadata": {
      "needs_background": "light"
     },
     "output_type": "display_data"
    }
   ],
   "source": [
    "fig = plt.figure(figsize=(4, 4), dpi=100)\n",
    "plt.plot(iou_array, f1_list, color='k', linewidth=2, markersize=12, marker='.')\n",
    "plt.title('Performance on test set (ensemble of 4 runs)', fontsize=10)\n",
    "plt.xlim([0, 1])\n",
    "plt.ylim([0, 1])\n",
    "plt.yticks([0.1*i for i in range(1, 10)])\n",
    "plt.xticks([0.1*i for i in range(1, 10)])\n",
    "plt.xlabel('Overlap threshold')\n",
    "plt.ylabel('F1-score')\n",
    "plt.grid()\n",
    "plt.show()"
   ]
  },
  {
   "cell_type": "code",
   "execution_count": 18,
   "metadata": {},
   "outputs": [
    {
     "name": "stdout",
     "output_type": "stream",
     "text": [
      "BE train stats\n",
      "[{'f1_score': 0.684106614017769,\n",
      "  'mean_all_iou': 0.42975074596236024,\n",
      "  'mean_nonzero_iou': 0.6265693649115084,\n",
      "  'n_detections': 985,\n",
      "  'n_events': 1041,\n",
      "  'precision': 0.7035532994923858,\n",
      "  'recall': 0.6657060518731989,\n",
      "  'tp': 693},\n",
      " {'f1_score': 0.6639946559786238,\n",
      "  'mean_all_iou': 0.38160100521811147,\n",
      "  'mean_nonzero_iou': 0.5858484003919957,\n",
      "  'n_detections': 691,\n",
      "  'n_events': 806,\n",
      "  'precision': 0.7192474674384949,\n",
      "  'recall': 0.6166253101736973,\n",
      "  'tp': 497},\n",
      " {'f1_score': 0.48058252427184467,\n",
      "  'mean_all_iou': 0.20700089751768916,\n",
      "  'mean_nonzero_iou': 0.5295216507468631,\n",
      "  'n_detections': 443,\n",
      "  'n_events': 793,\n",
      "  'precision': 0.6704288939051919,\n",
      "  'recall': 0.3745271122320303,\n",
      "  'tp': 297},\n",
      " {'f1_score': 0.27443609022556387,\n",
      "  'mean_all_iou': 0.14081276277014323,\n",
      "  'mean_nonzero_iou': 0.6093194240856199,\n",
      "  'n_detections': 363,\n",
      "  'n_events': 701,\n",
      "  'precision': 0.4022038567493113,\n",
      "  'recall': 0.20827389443651925,\n",
      "  'tp': 146},\n",
      " {'f1_score': 0.65,\n",
      "  'mean_all_iou': 0.4711506619526389,\n",
      "  'mean_nonzero_iou': 0.6402106053591741,\n",
      "  'n_detections': 578,\n",
      "  'n_events': 462,\n",
      "  'precision': 0.5847750865051903,\n",
      "  'recall': 0.7316017316017316,\n",
      "  'tp': 338},\n",
      " {'f1_score': 0.5647668393782384,\n",
      "  'mean_all_iou': 0.2886358176438415,\n",
      "  'mean_nonzero_iou': 0.5906725839640041,\n",
      "  'n_detections': 784,\n",
      "  'n_events': 1146,\n",
      "  'precision': 0.6951530612244898,\n",
      "  'recall': 0.4755671902268761,\n",
      "  'tp': 545},\n",
      " {'f1_score': 0.33495934959349594,\n",
      "  'mean_all_iou': 0.13289732187438508,\n",
      "  'mean_nonzero_iou': 0.5298173232058819,\n",
      "  'n_detections': 333,\n",
      "  'n_events': 897,\n",
      "  'precision': 0.6186186186186187,\n",
      "  'recall': 0.22965440356744704,\n",
      "  'tp': 206},\n",
      " {'f1_score': 0.6159169550173009,\n",
      "  'mean_all_iou': 0.4126263404711835,\n",
      "  'mean_nonzero_iou': 0.6490751423142214,\n",
      "  'n_detections': 149,\n",
      "  'n_events': 140,\n",
      "  'precision': 0.5973154362416108,\n",
      "  'recall': 0.6357142857142857,\n",
      "  'tp': 89}]\n",
      "BE val stats\n",
      "[{'f1_score': 0.5268901013250195,\n",
      "  'mean_all_iou': 0.3737106640695424,\n",
      "  'mean_nonzero_iou': 0.6301787668623656,\n",
      "  'n_detections': 681,\n",
      "  'n_events': 602,\n",
      "  'precision': 0.49632892804698975,\n",
      "  'recall': 0.5614617940199336,\n",
      "  'tp': 338},\n",
      " {'f1_score': 0.4842105263157895,\n",
      "  'mean_all_iou': 0.4964464957592396,\n",
      "  'mean_nonzero_iou': 0.6740545093282778,\n",
      "  'n_detections': 635,\n",
      "  'n_events': 315,\n",
      "  'precision': 0.36220472440944884,\n",
      "  'recall': 0.7301587301587301,\n",
      "  'tp': 230},\n",
      " {'f1_score': 0.5307346326836582,\n",
      "  'mean_all_iou': 0.31073854978316107,\n",
      "  'mean_nonzero_iou': 0.567140303975824,\n",
      "  'n_detections': 333,\n",
      "  'n_events': 334,\n",
      "  'precision': 0.5315315315315315,\n",
      "  'recall': 0.5299401197604791,\n",
      "  'tp': 177}]\n",
      "BE test stats\n",
      "[{'f1_score': 0.6332703213610585,\n",
      "  'mean_all_iou': 0.37764253294921074,\n",
      "  'mean_nonzero_iou': 0.6233838333755812,\n",
      "  'n_detections': 977,\n",
      "  'n_events': 1139,\n",
      "  'precision': 0.6857727737973388,\n",
      "  'recall': 0.5882352941176471,\n",
      "  'tp': 670},\n",
      " {'f1_score': 0.5714285714285713,\n",
      "  'mean_all_iou': 0.35345608854666605,\n",
      "  'mean_nonzero_iou': 0.5762871008913033,\n",
      "  'n_detections': 165,\n",
      "  'n_events': 150,\n",
      "  'precision': 0.5454545454545454,\n",
      "  'recall': 0.6,\n",
      "  'tp': 90},\n",
      " {'f1_score': 0.4809228039041704,\n",
      "  'mean_all_iou': 0.2307455494565612,\n",
      "  'mean_nonzero_iou': 0.5797379285278728,\n",
      "  'n_detections': 421,\n",
      "  'n_events': 706,\n",
      "  'precision': 0.6437054631828979,\n",
      "  'recall': 0.3838526912181303,\n",
      "  'tp': 271},\n",
      " {'f1_score': 0.37985136251032203,\n",
      "  'mean_all_iou': 0.2251742699735984,\n",
      "  'mean_nonzero_iou': 0.6456241516670393,\n",
      "  'n_detections': 520,\n",
      "  'n_events': 691,\n",
      "  'precision': 0.4423076923076923,\n",
      "  'recall': 0.33285094066570187,\n",
      "  'tp': 230}]\n"
     ]
    }
   ],
   "source": [
    "be_train = [metrics.by_event_confusion(y, y_pred, iou_thr=0.3) for y, y_pred in zip(y_train, y_pred_train)]\n",
    "be_val = [metrics.by_event_confusion(y, y_pred, iou_thr=0.3) for y, y_pred in zip(y_val, y_pred_val)]\n",
    "be_test = [metrics.by_event_confusion(y, y_pred, iou_thr=0.3) for y, y_pred in zip(y_test, y_pred_test)]\n",
    "\n",
    "print('BE train stats')\n",
    "pprint.pprint(be_train)\n",
    "\n",
    "print('BE val stats')\n",
    "pprint.pprint(be_val)\n",
    "\n",
    "print('BE test stats')\n",
    "pprint.pprint(be_test)"
   ]
  },
  {
   "cell_type": "code",
   "execution_count": 9,
   "metadata": {},
   "outputs": [
    {
     "name": "stdout",
     "output_type": "stream",
     "text": [
      "Train Mean F1 score: 0.5158\n",
      "Val Mean F1 score: 0.3635\n",
      "Test Mean F1 score: 0.4434\n"
     ]
    }
   ],
   "source": [
    "print('Train Mean F1 score: %1.4f' % np.mean([m['f1_score'] for m in be_train]))\n",
    "print('Val Mean F1 score: %1.4f' % np.mean([m['f1_score'] for m in be_val]))\n",
    "print('Test Mean F1 score: %1.4f' % np.mean([m['f1_score'] for m in be_test]))"
   ]
  },
  {
   "cell_type": "code",
   "execution_count": 19,
   "metadata": {},
   "outputs": [
    {
     "data": {
      "image/png": "[encoded data removed]",
      "text/plain": [
       "<Figure size 500x500 with 1 Axes>"
      ]
     },
     "metadata": {
      "needs_background": "light"
     },
     "output_type": "display_data"
    }
   ],
   "source": [
    "fig, ax = plt.subplots(1, 1, figsize=(5, 5), dpi=100)\n",
    "text_space = 0.005\n",
    "# Training results\n",
    "for i, stats in enumerate(be_train):\n",
    "    if i==0:\n",
    "        ax.scatter(stats['recall'], stats['precision'], c='g', label='Train')\n",
    "    else:\n",
    "        ax.scatter(stats['recall'], stats['precision'], c='g')\n",
    "    ax.annotate(train_ids[i], (stats['recall']+text_space, stats['precision']+text_space))\n",
    "    \n",
    "# Validation results\n",
    "for i, stats in enumerate(be_val):\n",
    "    if i==0:\n",
    "        ax.scatter(stats['recall'], stats['precision'], c='r', label='Val')\n",
    "    else:\n",
    "        ax.scatter(stats['recall'], stats['precision'], c='r')\n",
    "    ax.annotate(val_ids[i], (stats['recall']+text_space, stats['precision']+text_space))\n",
    "    \n",
    "# Testing results\n",
    "for i, stats in enumerate(be_test):\n",
    "    if i==0:\n",
    "        ax.scatter(stats['recall'], stats['precision'], c='b', label='Test')\n",
    "    else:\n",
    "        ax.scatter(stats['recall'], stats['precision'], c='b')\n",
    "    ax.annotate(test_ids[i], (stats['recall']+text_space, stats['precision']+text_space))\n",
    "    \n",
    "\n",
    "delta = 0.01 \n",
    "x_ = np.arange(1, 100) * delta \n",
    "y_ = np.arange(1, 100) * delta \n",
    "X, Y = np.meshgrid(x_, y_)\n",
    "Z = 2 * X * Y / (X + Y)\n",
    "\n",
    "CS = ax.contour(X, Y, Z)\n",
    "ax.clabel(CS, inline=1, fontsize=10)\n",
    "\n",
    "plt.xlabel('Recall')\n",
    "plt.ylabel('Precision')\n",
    "plt.xlim([0, 1])\n",
    "plt.ylim([0, 1])\n",
    "plt.grid()\n",
    "plt.legend(loc='lower left', bbox_to_anchor=(1.05, 0.35), labelspacing=1)\n",
    "plt.show()"
   ]
  },
  {
   "cell_type": "markdown",
   "metadata": {},
   "source": [
    "## Visualization on test set"
   ]
  },
  {
   "cell_type": "code",
   "execution_count": 71,
   "metadata": {},
   "outputs": [
    {
     "name": "stdout",
     "output_type": "stream",
     "text": [
      "Getting ID 7, 694 N2 pages, Expert 1\n",
      "Getting ID 7, 694 N2 pages, Expert 2\n"
     ]
    }
   ],
   "source": [
    "# Test set  [2, 6, 12, 13]\n",
    "subject_id = 7\n",
    "# subject_id = 2\n",
    "\n",
    "n2_signal, n2_marks_1 = dataset.get_subject_data(subject_id, which_expert=1, verbose=True)\n",
    "_, n2_marks_2 = dataset.get_subject_data(subject_id, which_expert=2, verbose=True)\n",
    "pages = dataset.get_subject_pages(subject_id)\n",
    "\n",
    "last_moment = (pages[-1]+1) * 4000\n",
    "\n",
    "# nnet = y_pred_test[test_ids.index(subject_id)]\n",
    "nnet = y_pred_train[train_ids.index(subject_id)]"
   ]
  },
  {
   "cell_type": "code",
   "execution_count": 69,
   "metadata": {},
   "outputs": [
    {
     "data": {
      "text/plain": [
       "[2, 6, 12, 13]"
      ]
     },
     "execution_count": 69,
     "metadata": {},
     "output_type": "execute_result"
    }
   ],
   "source": []
  },
  {
   "cell_type": "code",
   "execution_count": 72,
   "metadata": {},
   "outputs": [
    {
     "data": {
      "text/plain": [
       "0.170558"
      ]
     },
     "execution_count": 72,
     "metadata": {},
     "output_type": "execute_result"
    }
   ],
   "source": [
    "nnet[0, :].max()"
   ]
  },
  {
   "cell_type": "code",
   "execution_count": 83,
   "metadata": {},
   "outputs": [],
   "source": [
    "def plot_page(page, signal, e1_marks, e2_marks, nnet, n2_pages, fs):\n",
    "    fig = plt.figure(figsize=(15, 5), dpi=100) \n",
    "    gs = gridspec.GridSpec(4, 1, height_ratios=[4, 1, 1, 1]) \n",
    "    \n",
    "    page = page - 1\n",
    "    \n",
    "    segment_signal = signal[page, :]\n",
    "    segment_e1_marks = e1_marks[page, :]\n",
    "    segment_e2_marks = e2_marks[page, :]\n",
    "    segment_nn_marks = nnet[page, :]\n",
    "    time_axis = np.arange(signal.shape[1])/fs\n",
    "    \n",
    "    # Signal\n",
    "    ax0 = fig.add_subplot(gs[0])\n",
    "    ax0.plot(time_axis, segment_signal, linewidth=1)\n",
    "    ax0.set_yticks([])\n",
    "    ax0.set_xlim([0, 20])\n",
    "    ax0.set_ylim([-10, 10])\n",
    "    ax0.set_title('EEG Signal, C3-CLE (intervals of 0.5s are shown), original page %d' % n2_pages[page])\n",
    "    ax0.set_xticks([0, 5, 10, 15, 20])\n",
    "    ax0.set_xticks(np.arange(0, 20, 0.5), minor=True)\n",
    "    ax0.grid(b=True, axis='x', which='minor')\n",
    "    \n",
    "    # Expert mark\n",
    "    ax2 = fig.add_subplot(gs[1])\n",
    "    ax2.imshow(segment_e1_marks[np.newaxis, :], interpolation=None, aspect='auto', cmap='gray')\n",
    "    #ax2.axis('off')\n",
    "    ax2.set_xticks([])\n",
    "    ax2.set_yticks([])\n",
    "    ax2.set_title('Expert 1 (white is active)')\n",
    "    \n",
    "    ax3 = fig.add_subplot(gs[2])\n",
    "    ax3.imshow(segment_e2_marks[np.newaxis, :], interpolation=None, aspect='auto', cmap='gray')\n",
    "    # ax3.axis('off')\n",
    "    ax3.set_xticks([])\n",
    "    ax3.set_yticks([])\n",
    "    ax3.set_title('Expert 2 (White is active)')\n",
    "    \n",
    "    # Neural net\n",
    "    ax4 = fig.add_subplot(gs[3])\n",
    "    # ax4.imshow(segment_nn_marks[np.newaxis, :], interpolation=None, aspect='auto', cmap='gray', vmin=0.0, vmax=1.0)\n",
    "    ax4.plot(segment_nn_marks, linewidth=1.5, color='r')\n",
    "    ax4.set_xticks([])\n",
    "    ax4.set_ylim([0,1])\n",
    "    ax4.set_xlim([0,500])\n",
    "    ax4.set_yticks([0, 1])\n",
    "    ax4.set_yticks([0.5], minor=True)\n",
    "    ax4.grid(b=True, axis='y', which='minor')\n",
    "    # ax4.axis('off')\n",
    "    ax4.set_title('Model probability prediction (white is active)')\n",
    "    \n",
    "    plt.tight_layout()\n",
    "    plt.show()"
   ]
  },
  {
   "cell_type": "code",
   "execution_count": 84,
   "metadata": {},
   "outputs": [
    {
     "data": {
      "application/vnd.jupyter.widget-view+json": {
       "model_id": "5b93ba2214e044eba50f48a998f495d4",
       "version_major": 2,
       "version_minor": 0
      },
      "text/plain": [
       "interactive(children=(IntSlider(value=1, continuous_update=False, description='page', max=694, min=1), Output(…"
      ]
     },
     "metadata": {},
     "output_type": "display_data"
    }
   ],
   "source": [
    "widgets.interact(\n",
    "    lambda page: plot_page(page, n2_signal, n2_marks_1, n2_marks_2, nnet, pages, dataset.fs),\n",
    "    page=widgets.IntSlider(min=1,max=n2_signal.shape[0],step=1,value=1, continuous_update=False));"
   ]
  },
  {
   "cell_type": "code",
   "execution_count": null,
   "metadata": {},
   "outputs": [],
   "source": [
    "# --- Particular result on test set\n",
    "\n",
    "\n",
    "subject_id = 2\n",
    "page = 480\n",
    "fs = 200\n",
    "start_time = 0\n",
    "end_time = 20\n",
    "\n",
    "n2_signal, n2_marks_1 = dataset.get_subject_data(subject_id, which_expert=1)\n",
    "_, n2_marks_2 = dataset.get_subject_data(subject_id, which_expert=2)\n",
    "pages = dataset.get_subject_pages(subject_id)\n",
    "\n",
    "complete_segment = n2_signal[page, :]\n",
    "time_axis = np.arange(complete_segment.size) / fs\n",
    "\n",
    "\n",
    "fig = plt.figure(figsize=(10, 3), dpi=100) \n",
    "gs = gridspec.GridSpec(4, 1, height_ratios=[3, 1, 1, 3])\n",
    "\n",
    "# fig, ax = plt.subplots(1, 1, figsize=(10, 1), dpi=100)\n",
    "time_axis = np.arange(complete_segment.size) / fs\n",
    "ax = fig.add_subplot(gs[0])\n",
    "ax.plot(time_axis, complete_segment, linewidth=0.8)\n",
    "ax.set_yticks([])\n",
    "ax.set_xlim([start_time, end_time])\n",
    "ax.set_ylim([-5, 5])\n",
    "# ax0.set_title('EEG Signal, C3-CLE (intervals of 0.5s are shown), original page %d' % n2_pages[page])\n",
    "ax.set_xticks([])\n",
    "ax.set_xticks(np.arange(start_time, end_time, 0.5), minor=True)\n",
    "ax.grid(b=True, axis='x', which='minor')\n",
    "# plt.show()\n",
    "\n",
    "start_sample = int(start_time*(fs))\n",
    "end_sample = int(end_time*(fs))\n",
    "\n",
    "#fig, ax = plt.subplots(1, 1, figsize=(10, 0.3), dpi=100)\n",
    "ax = fig.add_subplot(gs[1])\n",
    "ax.imshow(n2_marks_1[page, start_sample:end_sample][np.newaxis, :], interpolation=None, aspect='auto', extent=[0, 20, 32, 1], cmap='gray')\n",
    "ax.axis('off')\n",
    "# plt.show()\n",
    "\n",
    "start_sample = int(start_time*(fs/10))\n",
    "end_sample = int(end_time*(fs/10))\n",
    "\n",
    "#fig, ax = plt.subplots(1, 1, figsize=(10, 0.3), dpi=100)\n",
    "ax = fig.add_subplot(gs[2])\n",
    "ax.imshow(test_preds[page, start_sample:end_sample][np.newaxis, :], interpolation=None, aspect='auto', extent=[0, 20, 32, 1], cmap='gray')\n",
    "ax.axis('off')\n",
    "# plt.show()\n",
    "#print(test_preds[page, start_sample:end_sample])\n",
    "\n",
    "tf.reset_default_graph()\n",
    "inputs = complete_segment[np.newaxis, :]\n",
    "outputs = compute_cwt(inputs, [1.5], 200, 1, 30, 32, flattening=True)\n",
    "outputs = tf.layers.average_pooling2d(inputs=outputs, pool_size=(8, 1), strides=(8, 1))\n",
    "# outputs = tf.log(outputs + 1e-3)\n",
    "\n",
    "with tf.Session() as sess:\n",
    "    my_cwt = sess.run(outputs)\n",
    "# print(my_cwt.shape)\n",
    "\n",
    "# fig, ax = plt.subplots(1, 1, figsize=(10, 1), dpi=100)\n",
    "ax = fig.add_subplot(gs[3])\n",
    "my_cwt_image = np.transpose(my_cwt[0, :, :, 0], (1, 0))\n",
    "ax.imshow(my_cwt_image, interpolation=None, aspect='auto', extent=[0, 20, 32, 1])\n",
    "ax.axis('off')\n",
    "# ax.set_title('CWT CMorlet, [3, 40] Hz, Fb = 1.5')\n",
    "plt.show()"
   ]
  },
  {
   "cell_type": "markdown",
   "metadata": {},
   "source": [
    "### Comparison"
   ]
  },
  {
   "cell_type": "code",
   "execution_count": 20,
   "metadata": {},
   "outputs": [],
   "source": [
    "folder = 'comparison_data'\n",
    "\n",
    "# Chambon\n",
    "convnet_data = np.loadtxt(os.path.join(folder, 'Convnet.csv'), delimiter=',')\n",
    "\n",
    "# Expert\n",
    "expert_data_mean = np.loadtxt(os.path.join(folder, 'MeanExpert.csv'), delimiter=',')\n",
    "expert_data_std = np.loadtxt(os.path.join(folder, 'UpperExpert.csv'), delimiter=',')\n",
    "expert_data_std[:, 1] = expert_data_std[:, 1] - expert_data_mean[:, 1]\n",
    "\n",
    "# Proposed model\n",
    "filename = 'f1_january_model_run%d.csv'\n",
    "model_data = []\n",
    "for n_try in [0, 1, 2, 3]:\n",
    "    tmp_data = np.loadtxt(os.path.join(folder, filename % n_try), delimiter=',')\n",
    "    model_data.append(tmp_data)\n",
    "model_data = np.stack(model_data, axis=0)\n",
    "model_data_mean = np.mean(model_data, axis=0)\n",
    "model_data_mean[:, 0] = np.around(model_data_mean[:, 0], decimals=1)\n",
    "model_data_std = np.std(model_data, axis=0)\n",
    "model_data_std[:, 0] = model_data_mean[:, 0]\n",
    "\n",
    "# Ensemble model\n",
    "model_data_ensemble = np.loadtxt(os.path.join(folder, 'f1_january_model_ensemble.csv'), delimiter=',')\n",
    "model_data_ensemble[:, 0] = np.around(model_data_ensemble[:, 0], decimals=1)\n",
    "\n",
    "# --hardcoding:\n",
    "model_data_ensemble[:, 1] = np.array(f1_list)"
   ]
  },
  {
   "cell_type": "code",
   "execution_count": 21,
   "metadata": {},
   "outputs": [
    {
     "data": {
      "image/png": "[encoded data removed]",
      "text/plain": [
       "<Figure size 900x400 with 2 Axes>"
      ]
     },
     "metadata": {
      "needs_background": "light"
     },
     "output_type": "display_data"
    }
   ],
   "source": [
    "fig, ax = plt.subplots(1, 2, figsize=(9, 4), dpi=100)\n",
    "\n",
    "# Complete plot\n",
    "ax[0].plot(expert_data_mean[:, 0], expert_data_mean[:, 1], linewidth=2, markersize=12, marker='.', label='Expert Performance')\n",
    "ax[0].fill_between(\n",
    "    expert_data_mean[:, 0], \n",
    "    expert_data_mean[:, 1]-expert_data_std[:, 1], \n",
    "    expert_data_mean[:, 1]+expert_data_std[:, 1], \n",
    "    alpha=0.3)\n",
    "\n",
    "# ax[0].plot(model_data_mean[:, 0], model_data_mean[:, 1], linewidth=2, markersize=12, marker='.', label='Proposed Model')\n",
    "ax[0].plot(model_data_ensemble[:, 0], model_data_ensemble[:, 1], linewidth=2, markersize=12, marker='.', label='Proposed Model')\n",
    "ax[0].plot(convnet_data[:, 0], convnet_data[:, 1], linewidth=2, markersize=12, marker='.', label='Chambon et al.')\n",
    "ax[0].set_title('Detection Performance', fontsize=10)\n",
    "# ax[0].axis('square')\n",
    "ax[0].set_xlim([0, 1])\n",
    "ax[0].set_ylim([0, 1])\n",
    "ax[0].set_yticks([0.1*i for i in range(1, 10)])\n",
    "ax[0].set_xticks([0.1*i for i in range(1, 10)])\n",
    "ax[0].set_xlabel('Threshold for IoU')\n",
    "ax[0].set_ylabel('F1-score')\n",
    "# ax[0].legend(loc='lower left')\n",
    "ax[0].grid()\n",
    "\n",
    "# Zoom plot\n",
    "ax[1].plot(expert_data_mean[:, 0], expert_data_mean[:, 1], linewidth=2, markersize=12, marker='.', \n",
    "           label='Expert Performance\\nPrivate Database\\nWarby et al. 2014')\n",
    "ax[1].fill_between(\n",
    "    expert_data_mean[:, 0], \n",
    "    expert_data_mean[:, 1]-expert_data_std[:, 1], \n",
    "    expert_data_mean[:, 1]+expert_data_std[:, 1], \n",
    "    alpha=0.3)\n",
    "\n",
    "# ax[0].plot(model_data_mean[:, 0], model_data_mean[:, 1], linewidth=2, markersize=12, marker='.', label='Proposed Model')\n",
    "ax[1].plot(model_data_ensemble[:, 0], model_data_ensemble[:, 1], linewidth=2, markersize=12, marker='.', \n",
    "           label='Proposed Model\\nMASS Database')\n",
    "ax[1].plot(convnet_data[:, 0], convnet_data[:, 1], linewidth=2, markersize=12, marker='.', \n",
    "           label='ConvNet\\nMASS Database\\nChambon et al. 2018')\n",
    "ax[1].set_title('Detection Performance (ZOOM)', fontsize=10)\n",
    "# ax[1].axis('square')\n",
    "ax[1].set_xlim([0.05, 0.75])\n",
    "ax[1].set_ylim([0.6, 0.85])\n",
    "# ax[1].set_yticks([0.1*i for i in range(1, 10)])\n",
    "# ax[1].set_xticks([0.1*i for i in range(1, 10)])\n",
    "ax[1].set_xlabel('Threshold for IoU')\n",
    "ax[1].set_ylabel('F1-score')\n",
    "ax[1].legend(loc='lower left', bbox_to_anchor=(1.05, 0.15), labelspacing=3)\n",
    "ax[1].grid()\n",
    "\n",
    "plt.show()"
   ]
  },
  {
   "cell_type": "code",
   "execution_count": null,
   "metadata": {},
   "outputs": [],
   "source": []
  },
  {
   "cell_type": "code",
   "execution_count": 3,
   "metadata": {},
   "outputs": [],
   "source": [
    "np.savetxt(\"f1_vs_iou_expert_mean.csv\", expert_data_mean, delimiter=\",\")\n",
    "np.savetxt(\"f1_vs_iou_expert_std.csv\", expert_data_std, delimiter=\",\")"
   ]
  },
  {
   "cell_type": "code",
   "execution_count": null,
   "metadata": {},
   "outputs": [],
   "source": []
  },
  {
   "cell_type": "code",
   "execution_count": null,
   "metadata": {},
   "outputs": [],
   "source": []
  },
  {
   "cell_type": "code",
   "execution_count": null,
   "metadata": {},
   "outputs": [],
   "source": []
  }
 ],
 "metadata": {
  "kernelspec": {
   "display_name": "Python 3",
   "language": "python",
   "name": "python3"
  },
  "language_info": {
   "codemirror_mode": {
    "name": "ipython",
    "version": 3
   },
   "file_extension": ".py",
   "mimetype": "text/x-python",
   "name": "python",
   "nbconvert_exporter": "python",
   "pygments_lexer": "ipython3",
   "version": "3.6.8"
  }
 },
 "nbformat": 4,
 "nbformat_minor": 2
}
