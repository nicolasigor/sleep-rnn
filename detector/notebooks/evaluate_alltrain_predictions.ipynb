{
 "cells": [
  {
   "cell_type": "markdown",
   "metadata": {},
   "source": [
    "## Imports and settings"
   ]
  },
  {
   "cell_type": "code",
   "execution_count": 1,
   "metadata": {},
   "outputs": [
    {
     "data": {
      "text/html": [
       "<style>.container { width:100% !important; }</style>"
      ],
      "text/plain": [
       "<IPython.core.display.HTML object>"
      ]
     },
     "metadata": {},
     "output_type": "display_data"
    }
   ],
   "source": [
    "from __future__ import absolute_import\n",
    "from __future__ import division\n",
    "from __future__ import print_function\n",
    "\n",
    "import os\n",
    "import sys\n",
    "import json\n",
    "import pprint\n",
    "\n",
    "import matplotlib.pyplot as plt\n",
    "from matplotlib import colors\n",
    "import numpy as np\n",
    "import ipywidgets as widgets\n",
    "from matplotlib import gridspec\n",
    "import pprint\n",
    "from scipy.stats import gaussian_kde\n",
    "from tqdm import tqdm\n",
    "\n",
    "detector_path = '..'\n",
    "results_path = os.path.join(detector_path, 'results')\n",
    "sys.path.append(detector_path)\n",
    "\n",
    "from utils import constants\n",
    "from utils import errors\n",
    "from sleep.mass import MASS\n",
    "from sleep.inta import INTA\n",
    "from sleep.mass_k import MASSK\n",
    "from sleep import postprocessing\n",
    "from sleep import data_ops\n",
    "from evaluation import metrics\n",
    "from evaluation import data_manipulation\n",
    "\n",
    "DPI = 200\n",
    "\n",
    "%matplotlib inline\n",
    "from IPython.core.display import display, HTML\n",
    "display(HTML(\"<style>.container { width:100% !important; }</style>\"))"
   ]
  },
  {
   "cell_type": "markdown",
   "metadata": {},
   "source": [
    "## Load database and predicted probabilities"
   ]
  },
  {
   "cell_type": "code",
   "execution_count": 2,
   "metadata": {},
   "outputs": [],
   "source": [
    "# Select database\n",
    "dataset_name = constants.MASSK_NAME\n",
    "\n",
    "# Select predictions ckpt folder\n",
    "ckpt_folder = '20190413_bsf_kc_using_angle'\n",
    "grid_folder_list = ['bsf']\n",
    "\n",
    "append_title = 'BSF'"
   ]
  },
  {
   "cell_type": "code",
   "execution_count": 3,
   "metadata": {},
   "outputs": [
    {
     "name": "stdout",
     "output_type": "stream",
     "text": [
      "Dataset mass_k with 15 patients.\n",
      "Train size: 11. Test size: 4\n",
      "Train subjects: \n",
      " [1, 3, 5, 7, 9, 10, 11, 14, 17, 18, 19]\n",
      "Test subjects: \n",
      " [2, 6, 12, 13]\n",
      "Loading from checkpoint... Loaded\n",
      "Loading train set... Signals and marks loaded... Pages loaded.\n",
      "Preparing labels... Done\n"
     ]
    }
   ],
   "source": [
    "# Load data\n",
    "verbose = False\n",
    "# Marks are binary sequences for each page, 200 fs resolution\n",
    "errors.check_valid_value(\n",
    "    dataset_name, 'dataset_name',\n",
    "    [constants.MASS_NAME, constants.INTA_NAME, constants.MASSK_NAME])\n",
    "if dataset_name == constants.MASS_NAME:\n",
    "    dataset = MASS(load_checkpoint=True)\n",
    "elif dataset_name == constants.INTA_NAME:\n",
    "    dataset = INTA(load_checkpoint=True)\n",
    "else:\n",
    "    dataset = MASSK(load_checkpoint=True)\n",
    "\n",
    "# Get training set ids\n",
    "print('Loading train set... ', end='', flush=True)\n",
    "all_train_ids = dataset.train_ids\n",
    "# Get subjects data, with the expert used for training\n",
    "all_x, all_y = dataset.get_subset_data(all_train_ids, which_expert=1, verbose=verbose)\n",
    "print('Signals and marks loaded... ', end='', flush=True)\n",
    "all_pages = dataset.get_subset_pages(all_train_ids, verbose=verbose)\n",
    "print('Pages loaded.', flush=True)\n",
    "\n",
    "# Prepare expert labels into marks\n",
    "print('Preparing labels... ', end='', flush=True)\n",
    "all_y_stamps = postprocessing.generate_mark_intervals_with_list(\n",
    "        all_y, all_pages, 200, 200, thr=None, postprocess=False)\n",
    "print('Done')\n",
    "\n",
    "if dataset_name == constants.MASSK_NAME:\n",
    "    min_separation = 0\n",
    "    min_duration = 0.3\n",
    "    max_duration = 4.0\n",
    "else:\n",
    "    min_separation = 0.3\n",
    "    min_duration = 0.3\n",
    "    max_duration = 4.0"
   ]
  },
  {
   "cell_type": "code",
   "execution_count": 4,
   "metadata": {},
   "outputs": [
    {
     "name": "stdout",
     "output_type": "stream",
     "text": [
      "\n",
      "Grid setting: bsf\n",
      "Loading predictions from /home/ntapia/Projects/GitNico/ssdetection-rnn/detector/results/predictions_massk/20190413_bsf_kc_using_angle_train_massk/bsf/avg\n",
      "\n",
      "Done\n"
     ]
    }
   ],
   "source": [
    "# Load predictions (probability vectors for each page), 200/factor resolution (default factor 8)\n",
    "set_list = ['alltrain']\n",
    "y_pred = {}\n",
    "for j, folder_name in enumerate(grid_folder_list):\n",
    "    print('\\nGrid setting: %s' % folder_name)\n",
    "    y_pred[folder_name] = []\n",
    "    # Restore predictions\n",
    "    ckpt_path = os.path.abspath(os.path.join(\n",
    "        results_path,\n",
    "        'predictions_%s' % dataset_name,\n",
    "        '%s_train_%s' % (ckpt_folder, dataset_name),\n",
    "        folder_name,\n",
    "        'avg'\n",
    "    ))\n",
    "    print('Loading predictions from %s' % ckpt_path)\n",
    "    this_dict = {}\n",
    "    for set_name in set_list:\n",
    "        this_dict[set_name] = np.load(os.path.join(ckpt_path, 'y_pred_%s.npy' % set_name), allow_pickle=True)\n",
    "        # Keep only class 1 probability\n",
    "        this_dict[set_name] = [this_y_pred[..., 1] for this_y_pred in this_dict[set_name]]\n",
    "    y_pred[folder_name].append(this_dict)\n",
    "print('\\nDone')"
   ]
  },
  {
   "cell_type": "markdown",
   "metadata": {},
   "source": [
    "## Adjusting threshold"
   ]
  },
  {
   "cell_type": "code",
   "execution_count": 5,
   "metadata": {},
   "outputs": [
    {
     "name": "stderr",
     "output_type": "stream",
     "text": [
      "Processing threshold 0.20:   0%|          | 0/31 [00:00<?, ?it/s]"
     ]
    },
    {
     "name": "stdout",
     "output_type": "stream",
     "text": [
      "Number of thresholds to be evaluated: 31\n",
      "\n",
      "Grid setting: bsf\n"
     ]
    },
    {
     "name": "stderr",
     "output_type": "stream",
     "text": [
      "Processing threshold 0.80: 100%|██████████| 31/31 [00:08<00:00,  4.13it/s]"
     ]
    },
    {
     "name": "stdout",
     "output_type": "stream",
     "text": [
      "Done\n"
     ]
    },
    {
     "name": "stderr",
     "output_type": "stream",
     "text": [
      "\n"
     ]
    }
   ],
   "source": [
    "# Performance settings\n",
    "res_thr = 0.02\n",
    "start_thr = 0.2\n",
    "end_thr = 0.8\n",
    "n_thr = int(np.round((end_thr - start_thr) / res_thr + 1))\n",
    "thr_list = [start_thr + res_thr * i for i in range(n_thr)]\n",
    "# print(thr_list)\n",
    "print('Number of thresholds to be evaluated: %d' % len(thr_list))\n",
    "\n",
    "# ---------------- Compute performance\n",
    "af1 = {}\n",
    "# Go through several IoU values\n",
    "first_iou = 0\n",
    "last_iou = 1\n",
    "res_iou = 0.01\n",
    "n_points = int(np.round((last_iou - first_iou) / res_iou))\n",
    "full_iou_list = np.arange(n_points + 1) * res_iou + first_iou\n",
    "for folder_name in grid_folder_list:\n",
    "    print('\\nGrid setting: %s' % folder_name)\n",
    "    af1[folder_name] = []\n",
    "    my_it = tqdm(thr_list)\n",
    "    for thr in my_it:\n",
    "        my_it.set_description('Processing threshold %1.2f' % thr)\n",
    "        # Prepare model predictions\n",
    "        # print('Preparing predictions', flush=True)\n",
    "        y_pred_thr = postprocessing.generate_mark_intervals_with_list(\n",
    "            y_pred['bsf'][0]['alltrain'], all_pages, \n",
    "            fs_input = 200//8, fs_output=200, thr=thr, postprocess=True,\n",
    "            min_separation=min_separation, min_duration=min_duration,\n",
    "            max_duration=max_duration)\n",
    "        # Go through several IoU values\n",
    "        # print('Computing F1 Curve... ', flush=True, end='')\n",
    "        all_f1_list = [metrics.f1_vs_iou(this_y, this_y_pred, full_iou_list) \n",
    "                       for (this_y, this_y_pred) \n",
    "                       in zip(all_y_stamps, y_pred_thr)]\n",
    "        all_f1_list = np.stack(all_f1_list, axis=1)\n",
    "        mean_f1 = np.mean(all_f1_list, axis=1)\n",
    "        # print('Ready', flush=True)\n",
    "        alltrain_af1 = mean_f1.mean(axis=0)\n",
    "        af1[folder_name].append(alltrain_af1)\n",
    "    print('Done')"
   ]
  },
  {
   "cell_type": "code",
   "execution_count": null,
   "metadata": {},
   "outputs": [],
   "source": []
  },
  {
   "cell_type": "code",
   "execution_count": 6,
   "metadata": {},
   "outputs": [
    {
     "name": "stdout",
     "output_type": "stream",
     "text": [
      "bsf: Optimum at 0.4400 with value 0.7442\n"
     ]
    },
    {
     "data": {
      "image/png": "[encoded data removed]",
      "text/plain": [
       "<Figure size 600x600 with 1 Axes>"
      ]
     },
     "metadata": {
      "needs_background": "light"
     },
     "output_type": "display_data"
    }
   ],
   "source": [
    "fig, ax = plt.subplots(1, 1, figsize=(3, 3), dpi=200)\n",
    "\n",
    "ax.set_title('Adjustment of $\\mu$ for Ensemble (%s)' % dataset_name.upper(), fontsize=10)\n",
    "# ax.set_title('Training AF1 (%s)' % dataset_name.upper(), fontsize=10)\n",
    "max_y = 1\n",
    "min_y = 0\n",
    "for j, folder_name in enumerate(grid_folder_list):\n",
    "    max_idx = np.argmax(np.array(af1[folder_name]))\n",
    "    print('%s: Optimum at %1.4f with value %1.4f' % (\n",
    "        folder_name, \n",
    "        thr_list[max_idx], \n",
    "        af1[folder_name][max_idx]))\n",
    "    # ax.plot(thr_list, af1[folder_name], label='Ensemble of 4 runs', marker='.', markersize=8, linewidth=1.5, color='C%d' % j)\n",
    "    ax.plot(thr_list, af1[folder_name], label='Training set', marker='.', markersize=10, linewidth=2.5, color='#c62828')\n",
    "    max_y = min(max_y,  np.max(np.array(af1[folder_name]) + 0.01))\n",
    "    min_y = max(min_y,  np.min(np.array(af1[folder_name]) - 0.01))\n",
    "ax.plot([thr_list[max_idx], thr_list[max_idx]], [min_y, max_y], linestyle='--', linewidth=1.5, color='#455a64', zorder=1, label='Optimal $\\mu$')\n",
    "ax.set_ylim([min_y, max_y])\n",
    "ax.set_ylabel('AF1', fontsize=8.5)\n",
    "ax.set_xlabel('Model Output Threshold ($\\mu$)', fontsize=8.5)\n",
    "ax.tick_params(labelsize=8.5)\n",
    "ax.legend(loc='upper right', fontsize=6.5)\n",
    "plt.show()"
   ]
  },
  {
   "cell_type": "markdown",
   "metadata": {},
   "source": [
    "## Validation performance: F1 vs IoU"
   ]
  },
  {
   "cell_type": "code",
   "execution_count": null,
   "metadata": {},
   "outputs": [],
   "source": [
    "# Performance settings\n",
    "# thr = 0.5\n",
    "thr = 0.525\n",
    "\n",
    "# ---------------- Compute performance\n",
    "print('Using thr %1.4f' % thr)\n",
    "\n",
    "val_f1 = {}\n",
    "iou_list = np.arange(1, 10) * 0.1\n",
    "for folder_name in grid_folder_list:\n",
    "    print('\\nGrid setting: %s' % folder_name)\n",
    "    val_f1[folder_name] = []\n",
    "    for k, seed in enumerate(seed_list):\n",
    "        # Prepare expert labels\n",
    "        _, val_ids = data_manipulation.split_ids_list(\n",
    "            all_train_ids, seed=seed)\n",
    "        print(val_ids)\n",
    "        val_idx = [all_train_ids.index(this_id) for this_id in val_ids]\n",
    "        y_thr = [all_y_stamps[i] for i in val_idx]\n",
    "        pages = [all_pages[i] for i in val_idx]\n",
    "        # Prepare model predictions\n",
    "        print('Preparing predictions', flush=True)\n",
    "        y_pred_thr = postprocessing.generate_mark_intervals_with_list(\n",
    "            y_pred[folder_name][k]['val'], pages, 200//8, 200, thr=thr)\n",
    "        # Go through several IoU values\n",
    "        print('Computing F1 Curve... ', flush=True, end='')\n",
    "        all_f1_list = [metrics.f1_vs_iou(this_y, this_y_pred, iou_list) \n",
    "                       for (this_y, this_y_pred) \n",
    "                       in zip(y_thr, y_pred_thr)]\n",
    "        all_f1_list = np.stack(all_f1_list, axis=1)\n",
    "        mean_f1 = np.mean(all_f1_list, axis=1)\n",
    "        val_f1[folder_name].append(mean_f1)\n",
    "        print('Ready', flush=True)\n",
    "print('Done')"
   ]
  },
  {
   "cell_type": "code",
   "execution_count": null,
   "metadata": {},
   "outputs": [],
   "source": [
    "# Comparison settings\n",
    "alpha = 0.2\n",
    "color_list = {}\n",
    "for k, folder_name in enumerate(grid_folder_list):\n",
    "    color_list[folder_name] = 'C%d' % k\n",
    "zoom_xlim = [0.3, 0.8]\n",
    "zoom_ylim = [0.5, 0.85]\n",
    "linewidth_mean = 1.5\n",
    "markersize_mean = 8\n",
    "linewidth_single = 1\n",
    "markersize_single = 8\n",
    "\n",
    "# -------------------- P L O T ----------------------    \n",
    "fig, ax = plt.subplots(1, 2, figsize=(9, 4), dpi=DPI)\n",
    "\n",
    "# Complete plot\n",
    "for folder_name in grid_folder_list:\n",
    "    for k in range(n_seeds):\n",
    "        ax[0].plot(iou_list, val_f1[folder_name][k], \n",
    "                   linewidth=linewidth_single, markersize=markersize_single, \n",
    "                   color=color_list[folder_name], alpha=0.25)\n",
    "    mean_val_f1 = np.stack(val_f1[folder_name], axis=1).mean(axis=1)\n",
    "    print('\\nGrid setting: %s' % folder_name)\n",
    "    pprint.pprint(mean_val_f1.tolist())\n",
    "    print('IoU list for AF1:', iou_list[2:-1])\n",
    "    val_af1 = np.stack(val_f1[folder_name], axis=1)[2:-1].mean(axis=0)\n",
    "    print(val_af1)\n",
    "    print('Val AF1: %1.4f +- %1.4f' % (val_af1.mean(), val_af1.std()))\n",
    "    ax[0].plot(iou_list, mean_val_f1, \n",
    "           linewidth=linewidth_mean, markersize=markersize_mean, marker='.',\n",
    "           color=color_list[folder_name])\n",
    "ax[0].set_title('CrossVal performance with $\\mu=%1.1f$\\n%s' % (thr, append_title), fontsize=11)\n",
    "ax[0].set_xlim([0, 1])\n",
    "ax[0].set_ylim([0, 1])\n",
    "ax[0].set_yticks([0.1*i for i in range(1, 10)])\n",
    "ax[0].set_xticks([0.1*i for i in range(1, 10)])\n",
    "ax[0].tick_params(labelsize=8.5)\n",
    "ax[0].set_xlabel('IoU Threshold', fontsize=8.5)\n",
    "ax[0].set_ylabel('F1-score', fontsize=8.5)\n",
    "ax[0].grid()\n",
    "\n",
    "# Zoom plot\n",
    "for folder_name in grid_folder_list:\n",
    "    for k in range(n_seeds):\n",
    "        ax[1].plot(iou_list, val_f1[folder_name][k], \n",
    "                   linewidth=linewidth_single, markersize=markersize_single, \n",
    "                   color=color_list[folder_name], alpha=0.25)\n",
    "    mean_val_f1 = np.stack(val_f1[folder_name], axis=1).mean(axis=1)\n",
    "    ax[1].plot(iou_list, mean_val_f1, \n",
    "           linewidth=linewidth_mean, markersize=markersize_mean, marker='.',\n",
    "           color=color_list[folder_name], label=folder_name, zorder=10)\n",
    "ax[1].set_title('Zoom in', fontsize=11)\n",
    "ax[1].set_xlim(zoom_xlim)\n",
    "ax[1].set_ylim(zoom_ylim)\n",
    "ax[1].tick_params(labelsize=8.5)\n",
    "ax[1].set_xlabel('IoU Threshold', fontsize=8.5)\n",
    "ax[1].set_ylabel('F1-score', fontsize=8.5)\n",
    "ax[1].legend(loc='lower left', bbox_to_anchor=(1.05, 0.15), labelspacing=3, fontsize=8.5)\n",
    "ax[1].grid()\n",
    "\n",
    "plt.show()"
   ]
  },
  {
   "cell_type": "markdown",
   "metadata": {},
   "source": [
    "## Tuning threshold by cross-validation and \"negative\" events"
   ]
  },
  {
   "cell_type": "code",
   "execution_count": null,
   "metadata": {},
   "outputs": [],
   "source": [
    "# Performance settings\n",
    "thr = 0.1 # we use a low threshold to generate negative events\n",
    "\n",
    "print('Using thr %1.4f' % thr)\n",
    "matching_proba = {}\n",
    "unmatching_fp_proba = {}\n",
    "iou_list = np.arange(1, 10) * 0.1\n",
    "for folder_name in grid_folder_list:\n",
    "    print('\\nGrid setting: %s' % folder_name)\n",
    "    \n",
    "    matching_proba[folder_name] = []\n",
    "    unmatching_fp_proba[folder_name] = []\n",
    "    for k, seed in enumerate(seed_list):\n",
    "        # Prepare expert labels\n",
    "        _, val_ids = data_manipulation.split_ids_list(\n",
    "            all_train_ids, seed=seed)\n",
    "        print(val_ids)\n",
    "        val_idx = [all_train_ids.index(this_id) for this_id in val_ids]\n",
    "        y_thr = [all_y_stamps[i] for i in val_idx]\n",
    "        pages = [all_pages[i] for i in val_idx]\n",
    "        n_subjects = len(y_thr)\n",
    "        # Prepare model predictions\n",
    "        print('Preparing predictions', flush=True)\n",
    "        y_pred_thr = postprocessing.generate_mark_intervals_with_list(\n",
    "            y_pred[folder_name][k]['val'], pages, 200//8, 200, thr=thr)\n",
    "        # matching\n",
    "        whole_y_proba = []\n",
    "        matching_proba[folder_name].append([])\n",
    "        unmatching_fp_proba[folder_name].append([])\n",
    "        for i in range(n_subjects):\n",
    "            events = y_thr[i]\n",
    "            detections = y_pred_thr[i]\n",
    "            this_iou_array, this_idx_array = metrics.matching(events, detections)\n",
    "            # Prepare probabilities\n",
    "            this_proba = y_pred[folder_name][k]['val'][i]\n",
    "            this_pages = pages[i]\n",
    "            page_size = this_proba.shape[1]\n",
    "            max_page = np.max(this_pages)\n",
    "            max_size = (max_page + 1) * page_size\n",
    "            whole_y_proba.append(np.zeros(max_size, dtype=np.float32))\n",
    "            for j, page in enumerate(this_pages):\n",
    "                sample_start = page * page_size\n",
    "                sample_end = (page + 1) * page_size\n",
    "                whole_y_proba[i][sample_start:sample_end] = this_proba[j, :]\n",
    "    \n",
    "            # In this case, we look for the valid detections stamps \n",
    "            idx_valid = (this_idx_array > -1)\n",
    "            y_pred_stamps = detections[this_idx_array][idx_valid]\n",
    "            # And now we need to get the probabilities inside those stamps\n",
    "            # First, we downsample the stamps\n",
    "            y_pred_stamps = y_pred_stamps // 8\n",
    "            # Now, we get the mean probability between stamps\n",
    "            mean_proba_list = []\n",
    "            for stamp in y_pred_stamps:\n",
    "                proba_inside = whole_y_proba[i][stamp[0]:(stamp[1]+1)]\n",
    "                mean_proba_inside = proba_inside.mean()\n",
    "                mean_proba_list.append(mean_proba_inside)\n",
    "            mean_proba_list = np.array(mean_proba_list)\n",
    "            matching_proba[folder_name][k].append(mean_proba_list)\n",
    "            \n",
    "            # In this case, we look for detected events with no match \n",
    "            n_detections = detections.shape[0]\n",
    "            idx_valid = [idx for idx in range(n_detections) if (idx not in this_idx_array)]\n",
    "            fp_stamps = detections[idx_valid]\n",
    "            # And now we need to get the probabilities inside those stamps\n",
    "            # First, we downsample the stamps\n",
    "            fp_stamps = fp_stamps // 8\n",
    "            # Now, we get the mean probability between stamps\n",
    "            mean_proba_list = []\n",
    "            for stamp in fp_stamps:\n",
    "                proba_inside = whole_y_proba[i][stamp[0]:(stamp[1]+1)]\n",
    "                mean_proba_inside = proba_inside.mean()\n",
    "                mean_proba_list.append(mean_proba_inside)\n",
    "            mean_proba_list = np.array(mean_proba_list)\n",
    "            unmatching_fp_proba[folder_name][k].append(mean_proba_list)\n",
    "\n",
    "print('Done')"
   ]
  },
  {
   "cell_type": "code",
   "execution_count": null,
   "metadata": {
    "scrolled": false
   },
   "outputs": [],
   "source": [
    "# --- Avg distributions over set\n",
    "# --- Histogram of probabilities\n",
    "\n",
    "n_points = 200\n",
    "x_points =np.arange(n_points + 1) / n_points\n",
    "\n",
    "fig, ax = plt.subplots(len(grid_folder_list), 1, figsize=(7, 5*len(grid_folder_list)), dpi=100, sharex=True)\n",
    "\n",
    "optimal_thr = []\n",
    "\n",
    "for j, folder_name in enumerate(grid_folder_list):\n",
    "    if len(grid_folder_list) > 1:\n",
    "        this_ax = ax[j]\n",
    "    else:\n",
    "        this_ax = ax\n",
    "    print('\\nGrid setting: %s' % folder_name)\n",
    "    curve_real = []\n",
    "    curve_false = []\n",
    "    for k, seed in enumerate(seed_list):\n",
    "\n",
    "        y_kde_list = []\n",
    "        for i in range(n_subjects):\n",
    "            kernel = gaussian_kde(matching_proba[folder_name][k][i])\n",
    "            y_kde = kernel(x_points)\n",
    "            y_kde_list.append(y_kde)\n",
    "        y_kde_avg_real = np.stack(y_kde_list, axis=1).mean(axis=1)\n",
    "        curve_real.append(y_kde_avg_real)\n",
    "        \n",
    "        y_kde_list = []\n",
    "        for i in range(n_subjects):\n",
    "            kernel = gaussian_kde(unmatching_fp_proba[folder_name][k][i])\n",
    "            y_kde = kernel(x_points)\n",
    "            y_kde_list.append(y_kde)\n",
    "        y_kde_avg_false = np.stack(y_kde_list, axis=1).mean(axis=1)\n",
    "        curve_false.append(y_kde_avg_false)\n",
    "    \n",
    "    curve_real = np.stack(curve_real, axis=1).mean(axis=1)\n",
    "    curve_false = np.stack(curve_false, axis=1).mean(axis=1)\n",
    "    \n",
    "    this_ax.set_title('Predicted Class Assignment (CrossVal). Grid Setting: %s' % folder_name, fontsize=11)\n",
    "    this_ax.plot(x_points, curve_real, color='#43a047', linewidth=2, label='Real event')\n",
    "    this_ax.fill_between(x_points, curve_real, 0*curve_real, color='#43a047', alpha=0.4)\n",
    "    this_ax.plot(x_points, curve_false, color='#c62828', linewidth=2, label='False event')\n",
    "    this_ax.fill_between(x_points, curve_false, 0*curve_false, color='#c62828', alpha=0.4)\n",
    "\n",
    "    max_y = max(np.max(curve_real), np.max(curve_false))\n",
    "\n",
    "    # Find optimal threshold\n",
    "    difference = curve_false - curve_real\n",
    "    idx_thr = np.where(np.signbit(difference))[0][0]\n",
    "    x_thr = x_points[idx_thr]\n",
    "    optimal_thr.append(x_thr)\n",
    "    print('Optimal Threshold: %1.4f' % x_thr)\n",
    "    this_ax.plot([x_thr, x_thr], [0, max_y], '--', color='k', linewidth=1.5, alpha=0.6, label='Optimal Threshold')\n",
    "\n",
    "    this_ax.tick_params(labelsize=8.5)\n",
    "    this_ax.set_xlim([0, 1])\n",
    "    this_ax.set_ylim([0, max_y])\n",
    "    this_ax.set_yticks([])\n",
    "    this_ax.legend(fontsize=8.5, loc='upper left')\n",
    "    this_ax.set_xlabel('Class Assignment', fontsize=8.5)\n",
    "    this_ax.set_xticks([i*0.1 for i in range(11)])\n",
    "\n",
    "print('\\nList of optimal threshold: ', optimal_thr)\n",
    "print('\\nMean optimal threshold of grid: %1.4f' % np.mean(optimal_thr))\n",
    "plt.show()\n"
   ]
  },
  {
   "cell_type": "code",
   "execution_count": null,
   "metadata": {},
   "outputs": [],
   "source": []
  },
  {
   "cell_type": "code",
   "execution_count": null,
   "metadata": {},
   "outputs": [],
   "source": []
  },
  {
   "cell_type": "code",
   "execution_count": null,
   "metadata": {},
   "outputs": [],
   "source": []
  },
  {
   "cell_type": "code",
   "execution_count": null,
   "metadata": {},
   "outputs": [],
   "source": []
  }
 ],
 "metadata": {
  "kernelspec": {
   "display_name": "Python 3",
   "language": "python",
   "name": "python3"
  },
  "language_info": {
   "codemirror_mode": {
    "name": "ipython",
    "version": 3
   },
   "file_extension": ".py",
   "mimetype": "text/x-python",
   "name": "python",
   "nbconvert_exporter": "python",
   "pygments_lexer": "ipython3",
   "version": "3.6.8"
  }
 },
 "nbformat": 4,
 "nbformat_minor": 2
}
