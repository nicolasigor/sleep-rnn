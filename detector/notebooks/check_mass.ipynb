{
 "cells": [
  {
   "cell_type": "code",
   "execution_count": 20,
   "metadata": {},
   "outputs": [
    {
     "data": {
      "text/html": [
       "<style>.container { width:100% !important; }</style>"
      ],
      "text/plain": [
       "<IPython.core.display.HTML object>"
      ]
     },
     "metadata": {},
     "output_type": "display_data"
    }
   ],
   "source": [
    "from __future__ import absolute_import\n",
    "from __future__ import division\n",
    "from __future__ import print_function\n",
    "\n",
    "import os\n",
    "import sys\n",
    "\n",
    "import ipywidgets as widgets\n",
    "import matplotlib.pyplot as plt\n",
    "from matplotlib import gridspec\n",
    "import numpy as np\n",
    "import pprint\n",
    "import pyedflib\n",
    "\n",
    "detector_path = '..'\n",
    "sys.path.append(detector_path)\n",
    "\n",
    "%matplotlib inline\n",
    "\n",
    "from IPython.core.display import display, HTML\n",
    "display(HTML(\"<style>.container { width:100% !important; }</style>\"))\n",
    "\n",
    "PATH_DATA = os.path.join('..', '..', 'data')\n",
    "PATH_MASS_RELATIVE = 'ssdata_mass'\n",
    "dataset_dir = os.path.join(PATH_DATA, PATH_MASS_RELATIVE)\n",
    "PATH_REC = 'register'\n",
    "PATH_MARKS_1 = 'label/marks/e1'\n",
    "PATH_MARKS_2 = 'label/marks/e2'\n",
    "PATH_STATES = 'label/states'\n",
    "\n",
    "channel = 'EEG C3-CLE'  # for mass we need to look for the index\n",
    "# channel = 13"
   ]
  },
  {
   "cell_type": "code",
   "execution_count": 25,
   "metadata": {},
   "outputs": [
    {
     "name": "stdout",
     "output_type": "stream",
     "text": [
      "Subject 01, Channel extracted: EEG C3-CLE\n",
      "Subject 02, Channel extracted: EEG C3-CLE\n",
      "Subject 03, Channel extracted: EEG C3-CLE\n",
      "Subject 04, Channel extracted: EEG C3-CLE\n",
      "Subject 05, Channel extracted: EEG C3-CLE\n",
      "Subject 06, Channel extracted: EEG C3-CLE\n",
      "Subject 07, Channel extracted: EEG C3-CLE\n",
      "Subject 08, Channel extracted: EEG C3-CLE\n",
      "Subject 09, Channel extracted: EEG C3-CLE\n",
      "Subject 10, Channel extracted: EEG C3-CLE\n",
      "Subject 11, Channel extracted: EEG C3-CLE\n",
      "Subject 12, Channel extracted: EEG C3-CLE\n",
      "Subject 13, Channel extracted: EEG C3-CLE\n",
      "Subject 14, Channel extracted: EEG C3-CLE\n",
      "Subject 15, Channel extracted: EEG C3-CLE\n",
      "Subject 16, Channel extracted: EEG C3-CLE\n",
      "Subject 17, Channel extracted: EEG C3-CLE\n",
      "Subject 18, Channel extracted: EEG C3-CLE\n",
      "Subject 19, Channel extracted: EEG C3-CLE\n"
     ]
    }
   ],
   "source": [
    "subject_id = 7\n",
    "for subject_id in range(1, 20):\n",
    "    # print(subject_id)\n",
    "    # Paths\n",
    "    path_eeg_file = os.path.join(dataset_dir, PATH_REC, '01-02-%04d PSG.edf' % subject_id)\n",
    "    path_states_file = os.path.join(dataset_dir, PATH_STATES, '01-02-%04d Base.edf' % subject_id)\n",
    "    # path_marks_1_file = os.path.join(dataset_dir, PATH_MARKS_1, '01-02-%04d SpindleE1.edf' % subject_id)\n",
    "    # path_marks_2_file = os.path.join(dataset_dir, PATH_MARKS_2, '01-02-%04d SpindleE2.edf' % subject_id)\n",
    "    path_marks_1_file = os.path.join(dataset_dir, PATH_MARKS_1, 'csv', '01-02-%04d SpindleE1.csv' % subject_id)\n",
    "    path_marks_2_file = os.path.join(dataset_dir, PATH_MARKS_2, 'csv', '01-02-%04d SpindleE2.csv' % subject_id)\n",
    "    \n",
    "    # Read signal\n",
    "    with pyedflib.EdfReader(path_eeg_file) as file:\n",
    "        channel_names = file.getSignalLabels()\n",
    "        channel_to_extract = channel_names.index(channel)\n",
    "        signal = file.readSignal(channel_to_extract)\n",
    "        this_name = file.getLabel(channel_to_extract)\n",
    "        print('Subject %02d, Channel extracted: %s' % (subject_id, this_name))"
   ]
  },
  {
   "cell_type": "code",
   "execution_count": null,
   "metadata": {},
   "outputs": [],
   "source": []
  },
  {
   "cell_type": "code",
   "execution_count": null,
   "metadata": {},
   "outputs": [],
   "source": []
  },
  {
   "cell_type": "code",
   "execution_count": null,
   "metadata": {},
   "outputs": [],
   "source": []
  }
 ],
 "metadata": {
  "kernelspec": {
   "display_name": "Python 3",
   "language": "python",
   "name": "python3"
  },
  "language_info": {
   "codemirror_mode": {
    "name": "ipython",
    "version": 3
   },
   "file_extension": ".py",
   "mimetype": "text/x-python",
   "name": "python",
   "nbconvert_exporter": "python",
   "pygments_lexer": "ipython3",
   "version": "3.6.8"
  }
 },
 "nbformat": 4,
 "nbformat_minor": 2
}
