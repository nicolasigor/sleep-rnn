{
 "cells": [
  {
   "cell_type": "code",
   "execution_count": 1,
   "metadata": {},
   "outputs": [
    {
     "data": {
      "text/html": [
       "<style>.container { width:100% !important; }</style>"
      ],
      "text/plain": [
       "<IPython.core.display.HTML object>"
      ]
     },
     "metadata": {},
     "output_type": "display_data"
    }
   ],
   "source": [
    "from __future__ import absolute_import\n",
    "from __future__ import division\n",
    "from __future__ import print_function\n",
    "\n",
    "import os\n",
    "import sys\n",
    "import json\n",
    "import pprint\n",
    "\n",
    "import matplotlib.pyplot as plt\n",
    "import numpy as np\n",
    "import ipywidgets as widgets\n",
    "from matplotlib import gridspec\n",
    "import pprint\n",
    "\n",
    "detector_path = '..'\n",
    "sys.path.append(detector_path)\n",
    "\n",
    "from sleep.inta import KEY_EEG, KEY_PAGES, KEY_ID, KEY_MARKS\n",
    "from sleep.data_ops import seq2inter, inter2seq, seq2inter_with_pages\n",
    "from sleep.inta import INTA\n",
    "from evaluation import data_manipulation\n",
    "from sleep import data_ops\n",
    "from sleep import postprocessing\n",
    "from utils import param_keys\n",
    "from evaluation import metrics\n",
    "\n",
    "SEED = 123\n",
    "\n",
    "%matplotlib inline\n",
    "from IPython.core.display import display, HTML\n",
    "display(HTML(\"<style>.container { width:100% !important; }</style>\"))"
   ]
  },
  {
   "cell_type": "code",
   "execution_count": 2,
   "metadata": {},
   "outputs": [],
   "source": [
    "def get_border_size(my_p):\n",
    "    border_duration = my_p[param_keys.BORDER_DURATION]\n",
    "    fs = my_p[param_keys.FS]\n",
    "    border_size = fs * border_duration\n",
    "    return border_size\n",
    "\n",
    "\n",
    "def get_page_size(my_p):\n",
    "    page_duration = my_p[param_keys.PAGE_DURATION]\n",
    "    fs = my_p[param_keys.FS]\n",
    "    page_size = fs * page_duration\n",
    "    return page_size\n",
    "\n",
    "\n",
    "def prepare_labels(y, params):\n",
    "    \"\"\"Ensures that label data has the proper shape.\"\"\"\n",
    "    time_stride = 8\n",
    "    border_size = get_border_size(params)\n",
    "    page_size = get_page_size(params)\n",
    "    crop_size = page_size + 2 * border_size\n",
    "    if y.shape[1] == crop_size:\n",
    "        # We need to remove borders and downsampling for val labels.\n",
    "        y = y[:, border_size:-border_size:time_stride]\n",
    "    return y"
   ]
  },
  {
   "cell_type": "code",
   "execution_count": 126,
   "metadata": {},
   "outputs": [
    {
     "name": "stdout",
     "output_type": "stream",
     "text": [
      "Reading from ../results/predictions/bsf_20190106/version_v2_typebn_bn_try_0\n",
      "Reading from ../results/predictions/bsf_20190106/version_v2_typebn_bn_try_1\n",
      "Reading from ../results/predictions/bsf_20190106/version_v2_typebn_bn_try_2\n",
      "Reading from ../results/predictions/bsf_20190106/version_v2_typebn_bn_try_3\n",
      "8 2 4\n",
      "Saving predictions at ../results/predictions/bsf_20190106/version_v2_typebn_bn_try_4\n",
      "Predictions saved\n"
     ]
    }
   ],
   "source": [
    "# Generate average predictions\n",
    "n_try_list = [0, 1, 2, 3]\n",
    "results_dir = os.path.join('..', 'results')\n",
    "pred_train_list = []\n",
    "pred_val_list = []\n",
    "pred_test_list = []\n",
    "for n_try_single in n_try_list:\n",
    "    ckpt_folder = 'bsf_20190106/version_v2_typebn_bn_try_%d' % n_try_single\n",
    "    ckpt_path = os.path.join(results_dir, ckpt_folder)\n",
    "    save_dir = os.path.join(results_dir, 'predictions', ckpt_folder)\n",
    "    print('Reading from', save_dir)\n",
    "    pred_train_list.append(np.load(os.path.join(save_dir, 'y_pred_train.npy')))\n",
    "    pred_val_list.append(np.load(os.path.join(save_dir, 'y_pred_val.npy')))\n",
    "    pred_test_list.append(np.load(os.path.join(save_dir, 'y_pred_test.npy')))\n",
    "\n",
    "n_train = pred_train_list[0].shape[0]\n",
    "n_val = pred_val_list[0].shape[0]\n",
    "n_test = pred_test_list[0].shape[0]    \n",
    "print(n_train, n_val, n_test)\n",
    "\n",
    "avg_pred_train = []\n",
    "for i in range(n_train):\n",
    "    mean = pred_train_list[0][i] + pred_train_list[1][i] + pred_train_list[2][i] + pred_train_list[3][i]\n",
    "    mean = mean / 4\n",
    "    avg_pred_train.append(mean)\n",
    "\n",
    "avg_pred_val = []\n",
    "for i in range(n_val):\n",
    "    mean = pred_val_list[0][i] + pred_val_list[1][i] + pred_val_list[2][i] + pred_val_list[3][i]\n",
    "    mean = mean / 4\n",
    "    avg_pred_val.append(mean)\n",
    "    \n",
    "avg_pred_test = []\n",
    "for i in range(n_test):\n",
    "    mean = pred_test_list[0][i] + pred_test_list[1][i] + pred_test_list[2][i] + pred_test_list[3][i]\n",
    "    mean = mean / 4\n",
    "    avg_pred_test.append(mean)\n",
    "\n",
    "# save as try 4\n",
    "# Save predictions\n",
    "results_dir = os.path.join('..', 'results')\n",
    "ckpt_folder = 'bsf_20190106/version_v2_typebn_bn_try_%d' % 4\n",
    "save_dir = os.path.join(results_dir, 'predictions', ckpt_folder)\n",
    "if not os.path.exists(save_dir):\n",
    "    os.makedirs(save_dir)\n",
    "print('Saving predictions at %s' % save_dir)\n",
    "np.save(os.path.join(save_dir, 'y_pred_train.npy'), avg_pred_train)\n",
    "np.save(os.path.join(save_dir, 'y_pred_val.npy'), avg_pred_val)\n",
    "np.save(os.path.join(save_dir, 'y_pred_test.npy'), avg_pred_test)\n",
    "print('Predictions saved')"
   ]
  },
  {
   "cell_type": "code",
   "execution_count": 3,
   "metadata": {},
   "outputs": [
    {
     "name": "stdout",
     "output_type": "stream",
     "text": [
      "Dataset inta with 10 patients.\n",
      "Train size: 7. Test size: 3\n",
      "Train subjects: \n",
      " [1, 2, 4, 6, 8, 10, 11]\n",
      "Test subjects: \n",
      " [5, 7, 9]\n",
      "Loading from checkpoint\n",
      "Loaded\n",
      "Restoring from ../results/predictions_inta/v1_bn_fixed_files\n",
      "Loading training set and splitting\n",
      "Split IDs: Total 7 -- Training 5\n",
      "Training set IDs: [2, 6, 8, 1, 4]\n",
      "Validation set IDs: [10, 11]\n",
      "Loading testing\n",
      "Testing set IDs: [5, 7, 9]\n",
      "Getting ID 2, 565 N2 pages, Expert 1\n",
      "Getting ID 6, 370 N2 pages, Expert 1\n",
      "Getting ID 8, 582 N2 pages, Expert 1\n",
      "Getting ID 1, 457 N2 pages, Expert 1\n",
      "Getting ID 4, 791 N2 pages, Expert 1\n",
      "Getting ID 2, 565 N2 pages\n",
      "Getting ID 6, 370 N2 pages\n",
      "Getting ID 8, 582 N2 pages\n",
      "Getting ID 1, 457 N2 pages\n",
      "Getting ID 4, 791 N2 pages\n",
      "Getting ID 10, 476 N2 pages, Expert 1\n",
      "Getting ID 11, 528 N2 pages, Expert 1\n",
      "Getting ID 10, 476 N2 pages\n",
      "Getting ID 11, 528 N2 pages\n",
      "Getting ID 5, 547 N2 pages, Expert 1\n",
      "Getting ID 7, 306 N2 pages, Expert 1\n",
      "Getting ID 9, 724 N2 pages, Expert 1\n",
      "Getting ID 5, 547 N2 pages\n",
      "Getting ID 7, 306 N2 pages\n",
      "Getting ID 9, 724 N2 pages\n",
      "Predictions Loaded\n"
     ]
    }
   ],
   "source": [
    "n_try = 4\n",
    "\n",
    "results_dir = os.path.join('..', 'results')\n",
    "# ckpt_folder = 'grid_20181216/loss_cross_entropy_loss_opt_adam_optimizer_lr_4_m_0.0_batch_32_trainwave_1_drop_0.3'\n",
    "# ckpt_folder = 'grid_20181217/loss_cross_entropy_loss_opt_adam_optimizer_lr_3_m_0.0_batch_32_trainwave_0_drop_0.3'\n",
    "# ckpt_folder = 'Weights_SpindleLSTM_Jan2019/predictions/bsf_20190106/version_v2_typebn_bn_try_%d' % n_try\n",
    "ckpt_folder = 'predictions_inta/v1_bn_fixed_files'\n",
    "# ckpt_folder = 'predictions_inta/v1_bn_fixed_files_trainINTA'\n",
    "\n",
    "ckpt_path = os.path.join(results_dir, ckpt_folder)\n",
    "\n",
    "# Load data\n",
    "dataset = INTA(load_checkpoint=True)\n",
    "\n",
    "params = param_keys.default_params.copy()\n",
    "\n",
    "print('Restoring from %s' % ckpt_path)\n",
    "\n",
    "# Get training set ids\n",
    "print('Loading training set and splitting')\n",
    "all_train_ids = dataset.train_ids\n",
    "# Split to form validation set\n",
    "train_ids, val_ids = data_manipulation.split_ids_list(\n",
    "    all_train_ids, seed=SEED)\n",
    "print('Training set IDs:', train_ids)\n",
    "print('Validation set IDs:', val_ids)\n",
    "\n",
    "# Get test data\n",
    "print('Loading testing')\n",
    "test_ids = dataset.test_ids\n",
    "print('Testing set IDs:', test_ids)\n",
    "\n",
    "# Get data for predictions\n",
    "augmented_page = False\n",
    "which_expert = 1\n",
    "\n",
    "border_size = get_border_size(params)\n",
    "x_train, y_train = dataset.get_subset_data(\n",
    "    train_ids, augmented_page=augmented_page, border_size=border_size,\n",
    "    which_expert=which_expert, verbose=True)\n",
    "pages_train = dataset.get_subset_pages(train_ids, verbose=True)\n",
    "\n",
    "x_val, y_val = dataset.get_subset_data(\n",
    "    val_ids, augmented_page=augmented_page, border_size=border_size,\n",
    "    which_expert=which_expert, verbose=True)\n",
    "pages_val = dataset.get_subset_pages(val_ids, verbose=True)\n",
    "\n",
    "x_test, y_test = dataset.get_subset_data(\n",
    "    test_ids, augmented_page=augmented_page, border_size=border_size,\n",
    "    which_expert=which_expert, verbose=True)\n",
    "pages_test = dataset.get_subset_pages(test_ids, verbose=True)\n",
    "\n",
    "y_train = [prepare_labels(y, params) for y in y_train]\n",
    "y_val = [prepare_labels(y, params) for y in y_val]\n",
    "y_test = [prepare_labels(y, params) for y in y_test]\n",
    "\n",
    "# We keep each patient separate, to see variation of performance\n",
    "# between individuals\n",
    "# save_dir = os.path.join(results_dir, 'predictions', ckpt_folder)\n",
    "save_dir = os.path.join(results_dir, ckpt_folder)\n",
    "y_pred_train = np.load(os.path.join(save_dir, 'y_pred_train.npy'), allow_pickle=True)\n",
    "y_pred_val = np.load(os.path.join(save_dir, 'y_pred_val.npy'), allow_pickle=True)\n",
    "y_pred_test = np.load(os.path.join(save_dir, 'y_pred_test.npy'), allow_pickle=True)\n",
    "\n",
    "# Keep only class 1 probability\n",
    "y_pred_train = [y[..., 1] for y in y_pred_train]\n",
    "y_pred_val = [y[..., 1] for y in y_pred_val]\n",
    "y_pred_test = [y[..., 1] for y in y_pred_test]\n",
    "\n",
    "print('Predictions Loaded')\n",
    "\n",
    "# Threshold to binarize\n",
    "\n",
    "thr = 0.001\n",
    "y_pred_train = [(y >= thr).astype(np.int32) for y in y_pred_train]\n",
    "y_pred_val = [(y >= thr).astype(np.int32) for y in y_pred_val]\n",
    "y_pred_test = [(y >= thr).astype(np.int32) for y in y_pred_test]\n",
    "\n",
    "# # Compute by sample stats\n",
    "# y_train_flatten = np.concatenate(y_train, axis=0).flatten()\n",
    "# y_pred_train_flatten = np.concatenate(y_pred_train, axis=0).flatten()\n",
    "\n",
    "# y_val_flatten = np.concatenate(y_val, axis=0).flatten()\n",
    "# y_pred_val_flatten = np.concatenate(y_pred_val, axis=0).flatten()\n",
    "\n",
    "# y_test_flatten = np.concatenate(y_test, axis=0).flatten()\n",
    "# y_pred_test_flatten = np.concatenate(y_pred_test, axis=0).flatten()\n",
    "\n",
    "# bs_train = metrics.by_sample_confusion(y_train_flatten, y_pred_train_flatten, input_is_binary=True)\n",
    "# bs_val = metrics.by_sample_confusion(y_val_flatten, y_pred_val_flatten, input_is_binary=True)\n",
    "# bs_test = metrics.by_sample_confusion(y_test_flatten, y_pred_test_flatten, input_is_binary=True)\n",
    "\n",
    "# print('Train BS stats')\n",
    "# pprint.pprint(bs_train)\n",
    "\n",
    "# print('Val BS stats')\n",
    "# pprint.pprint(bs_val)\n",
    "\n",
    "# print('Test BS stats')\n",
    "# pprint.pprint(bs_test)"
   ]
  },
  {
   "cell_type": "code",
   "execution_count": 4,
   "metadata": {},
   "outputs": [],
   "source": [
    "# Now we need to concatenate the pages and transform to intervals\n",
    "y_train = [data_ops.seq2inter_with_pages(y, pages) for y, pages in zip(y_train, pages_train)]\n",
    "y_pred_train = [data_ops.seq2inter_with_pages(y, pages) for y, pages in zip(y_pred_train, pages_train)]\n",
    "\n",
    "y_val = [data_ops.seq2inter_with_pages(y, pages) for y, pages in zip(y_val, pages_val)]\n",
    "y_pred_val = [data_ops.seq2inter_with_pages(y, pages) for y, pages in zip(y_pred_val, pages_val)]\n",
    "\n",
    "y_test = [data_ops.seq2inter_with_pages(y, pages) for y, pages in zip(y_test, pages_test)]\n",
    "y_pred_test = [data_ops.seq2inter_with_pages(y, pages) for y, pages in zip(y_pred_test, pages_test)]"
   ]
  },
  {
   "cell_type": "code",
   "execution_count": 5,
   "metadata": {},
   "outputs": [
    {
     "data": {
      "text/plain": [
       "25"
      ]
     },
     "execution_count": 5,
     "metadata": {},
     "output_type": "execute_result"
    }
   ],
   "source": [
    "fs_effect = int(params[param_keys.FS] / 8)\n",
    "fs_effect"
   ]
  },
  {
   "cell_type": "code",
   "execution_count": 6,
   "metadata": {},
   "outputs": [],
   "source": [
    "def post_process(marks, fs, delta_combine=0.3, min_duration=0.2, max_duration=4.0):\n",
    "    marks = postprocessing.combine_close_marks(marks, fs, delta_combine)\n",
    "    marks = postprocessing.filter_duration_marks(marks, fs, min_duration, max_duration)\n",
    "    return marks\n",
    "\n",
    "\n",
    "y_pred_train = [post_process(y, fs_effect) for y in y_pred_train]\n",
    "y_pred_val = [post_process(y, fs_effect) for y in y_pred_val]\n",
    "y_pred_test = [post_process(y, fs_effect) for y in y_pred_test]"
   ]
  },
  {
   "cell_type": "code",
   "execution_count": 33,
   "metadata": {},
   "outputs": [
    {
     "data": {
      "text/plain": [
       "(589, 2)"
      ]
     },
     "execution_count": 33,
     "metadata": {},
     "output_type": "execute_result"
    }
   ],
   "source": []
  },
  {
   "cell_type": "code",
   "execution_count": 7,
   "metadata": {},
   "outputs": [
    {
     "name": "stdout",
     "output_type": "stream",
     "text": [
      "[0.1 0.2 0.3 0.4 0.5 0.6 0.7 0.8 0.9]\n",
      "0.1\n",
      "0.2\n",
      "0.30000000000000004\n",
      "0.4\n",
      "0.5\n",
      "0.6000000000000001\n",
      "0.7000000000000001\n",
      "0.8\n",
      "0.9\n",
      "Done\n",
      "IoU\n",
      "[0.1 0.2 0.3 0.4 0.5 0.6 0.7 0.8 0.9]\n",
      "\n",
      "Precision\n",
      "[0.7387383113639814, 0.7174336224676202, 0.6786896602596237, 0.6083767652930587, 0.5241760206196788, 0.42479024803050197, 0.3002174281797992, 0.1838217662913689, 0.05636048156859017]\n",
      "\n",
      "Recall\n",
      "[0.6711752677870244, 0.6518673965928056, 0.6160288670461785, 0.552248797133707, 0.4753256381171045, 0.3843500224919543, 0.2706639587809775, 0.16512460831410306, 0.049935793040582134]\n",
      "\n",
      "F1score\n",
      "[0.7024520131739314, 0.682228066627755, 0.6450392421028305, 0.5782353342188028, 0.4979219532767079, 0.4030249640702012, 0.2842859462673606, 0.1737232857267602, 0.05287593227624112]\n"
     ]
    }
   ],
   "source": [
    "# Test set performance F1 vs IoU\n",
    "iou_array = np.arange(1, 10) * 0.1\n",
    "print(iou_array)\n",
    "f1_list = []\n",
    "prec_list = []\n",
    "rec_list = []\n",
    "for iou_thr in iou_array:\n",
    "    print(iou_thr)\n",
    "    # be_train = [metrics.by_event_confusion(y, y_pred, iou_thr=0.3) for y, y_pred in zip(y_train, y_pred_train)]\n",
    "    # be_val = [metrics.by_event_confusion(y, y_pred, iou_thr=0.3) for y, y_pred in zip(y_val, y_pred_val)]\n",
    "    be_test = [metrics.by_event_confusion(y, y_pred, iou_thr=iou_thr) for y, y_pred in zip(y_test, y_pred_test)]\n",
    "    mean_f1 = np.mean([m['f1_score'] for m in be_test])\n",
    "    mean_prec = np.mean([m['precision'] for m in be_test])\n",
    "    mean_rec = np.mean([m['recall'] for m in be_test])\n",
    "    f1_list.append(mean_f1)\n",
    "    prec_list.append(mean_prec)\n",
    "    rec_list.append(mean_rec)\n",
    "print('Done')\n",
    "\n",
    "print('IoU')\n",
    "print(iou_array)\n",
    "print('')\n",
    "print('Precision')\n",
    "print(prec_list)\n",
    "print('')\n",
    "print('Recall')\n",
    "print(rec_list)\n",
    "print('')\n",
    "print('F1score')\n",
    "print(f1_list)"
   ]
  },
  {
   "cell_type": "code",
   "execution_count": 8,
   "metadata": {
    "scrolled": false
   },
   "outputs": [
    {
     "name": "stdout",
     "output_type": "stream",
     "text": [
      "IoU\n",
      "array([0.1, 0.2, 0.3, 0.4, 0.5, 0.6, 0.7, 0.8, 0.9])\n",
      "\n",
      "Precision\n",
      "[0.9673638148480915,\n",
      " 0.958728494892017,\n",
      " 0.9227147183122026,\n",
      " 0.8457622042527703,\n",
      " 0.7226548201390969,\n",
      " 0.4763485408139496,\n",
      " 0.31795946890286514,\n",
      " 0.18466107617051017,\n",
      " 0.06627899237962132]\n",
      "\n",
      "Recall\n",
      "[0.15092552215097035,\n",
      " 0.1497395731641092,\n",
      " 0.14559182074872837,\n",
      " 0.13564436034885205,\n",
      " 0.12069534917079726,\n",
      " 0.08748311818576227,\n",
      " 0.0604987520887284,\n",
      " 0.035449257495846896,\n",
      " 0.011216943136319865]\n",
      "\n",
      "F1score\n",
      "[0.25017192391285037,\n",
      " 0.24810629848420762,\n",
      " 0.24095901188619892,\n",
      " 0.22389373205058305,\n",
      " 0.1981225448036793,\n",
      " 0.14186336001796604,\n",
      " 0.09757047229920086,\n",
      " 0.057065452777493475,\n",
      " 0.018181470138366043]\n"
     ]
    }
   ],
   "source": [
    "print('IoU')\n",
    "pprint.pprint(iou_array)\n",
    "print('')\n",
    "print('Precision')\n",
    "pprint.pprint(prec_list)\n",
    "print('')\n",
    "print('Recall')\n",
    "pprint.pprint(rec_list)\n",
    "print('')\n",
    "print('F1score')\n",
    "pprint.pprint(f1_list)"
   ]
  },
  {
   "cell_type": "code",
   "execution_count": 8,
   "metadata": {},
   "outputs": [],
   "source": [
    "f1_list_try_0 = f1_list"
   ]
  },
  {
   "cell_type": "code",
   "execution_count": 15,
   "metadata": {},
   "outputs": [],
   "source": [
    "f1_list_try_1 = f1_list"
   ]
  },
  {
   "cell_type": "code",
   "execution_count": 72,
   "metadata": {},
   "outputs": [],
   "source": [
    "f1_list_try_2 = f1_list"
   ]
  },
  {
   "cell_type": "code",
   "execution_count": 81,
   "metadata": {},
   "outputs": [],
   "source": [
    "f1_list_try_3 = f1_list"
   ]
  },
  {
   "cell_type": "code",
   "execution_count": 34,
   "metadata": {},
   "outputs": [],
   "source": [
    "to_save = np.stack([iou_array, f1_list], axis=1)\n",
    "np.savetxt(\"f1_january_model_run%d.csv\" % n_try, to_save, delimiter=\",\")"
   ]
  },
  {
   "cell_type": "code",
   "execution_count": 1,
   "metadata": {},
   "outputs": [
    {
     "ename": "NameError",
     "evalue": "name 'np' is not defined",
     "output_type": "error",
     "traceback": [
      "\u001b[0;31m---------------------------------------------------------------------------\u001b[0m",
      "\u001b[0;31mNameError\u001b[0m                                 Traceback (most recent call last)",
      "\u001b[0;32m<ipython-input-1-1ba9bf8e9b9a>\u001b[0m in \u001b[0;36m<module>\u001b[0;34m()\u001b[0m\n\u001b[0;32m----> 1\u001b[0;31m \u001b[0mf1_values\u001b[0m \u001b[0;34m=\u001b[0m \u001b[0mnp\u001b[0m\u001b[0;34m.\u001b[0m\u001b[0mstack\u001b[0m\u001b[0;34m(\u001b[0m\u001b[0;34m[\u001b[0m\u001b[0mf1_list_try_0\u001b[0m\u001b[0;34m,\u001b[0m \u001b[0mf1_list_try_1\u001b[0m\u001b[0;34m,\u001b[0m \u001b[0mf1_list_try_2\u001b[0m\u001b[0;34m,\u001b[0m \u001b[0mf1_list_try_3\u001b[0m\u001b[0;34m]\u001b[0m\u001b[0;34m,\u001b[0m \u001b[0maxis\u001b[0m\u001b[0;34m=\u001b[0m\u001b[0;36m0\u001b[0m\u001b[0;34m)\u001b[0m\u001b[0;34m\u001b[0m\u001b[0m\n\u001b[0m\u001b[1;32m      2\u001b[0m \u001b[0mf1_means\u001b[0m \u001b[0;34m=\u001b[0m \u001b[0mnp\u001b[0m\u001b[0;34m.\u001b[0m\u001b[0mmean\u001b[0m\u001b[0;34m(\u001b[0m\u001b[0mf1_values\u001b[0m\u001b[0;34m,\u001b[0m \u001b[0maxis\u001b[0m\u001b[0;34m=\u001b[0m\u001b[0;36m0\u001b[0m\u001b[0;34m)\u001b[0m\u001b[0;34m\u001b[0m\u001b[0m\n\u001b[1;32m      3\u001b[0m \u001b[0mf1_std\u001b[0m \u001b[0;34m=\u001b[0m \u001b[0mnp\u001b[0m\u001b[0;34m.\u001b[0m\u001b[0mstd\u001b[0m\u001b[0;34m(\u001b[0m\u001b[0mf1_values\u001b[0m\u001b[0;34m,\u001b[0m \u001b[0maxis\u001b[0m\u001b[0;34m=\u001b[0m\u001b[0;36m0\u001b[0m\u001b[0;34m)\u001b[0m\u001b[0;34m\u001b[0m\u001b[0m\n\u001b[1;32m      4\u001b[0m \u001b[0;34m\u001b[0m\u001b[0m\n\u001b[1;32m      5\u001b[0m \u001b[0mfig\u001b[0m \u001b[0;34m=\u001b[0m \u001b[0mplt\u001b[0m\u001b[0;34m.\u001b[0m\u001b[0mfigure\u001b[0m\u001b[0;34m(\u001b[0m\u001b[0mfigsize\u001b[0m\u001b[0;34m=\u001b[0m\u001b[0;34m(\u001b[0m\u001b[0;36m4\u001b[0m\u001b[0;34m,\u001b[0m \u001b[0;36m4\u001b[0m\u001b[0;34m)\u001b[0m\u001b[0;34m,\u001b[0m \u001b[0mdpi\u001b[0m\u001b[0;34m=\u001b[0m\u001b[0;36m100\u001b[0m\u001b[0;34m)\u001b[0m\u001b[0;34m\u001b[0m\u001b[0m\n",
      "\u001b[0;31mNameError\u001b[0m: name 'np' is not defined"
     ]
    }
   ],
   "source": [
    "f1_values = np.stack([f1_list_try_0, f1_list_try_1, f1_list_try_2, f1_list_try_3], axis=0)\n",
    "f1_means = np.mean(f1_values, axis=0)\n",
    "f1_std = np.std(f1_values, axis=0)\n",
    "\n",
    "fig = plt.figure(figsize=(4, 4), dpi=100)\n",
    "plt.errorbar(iou_array, f1_means, f1_std, color='k', linewidth=2, markersize=12, marker='.')\n",
    "plt.title('Performance on test set (mean of 4 runs)', fontsize=10)\n",
    "plt.xlim([0, 1])\n",
    "plt.ylim([0, 1])\n",
    "plt.yticks([0.1*i for i in range(1, 10)])\n",
    "plt.xticks([0.1*i for i in range(1, 10)])\n",
    "plt.xlabel('Overlap threshold')\n",
    "plt.ylabel('F1-score')\n",
    "plt.grid()\n",
    "plt.show()"
   ]
  },
  {
   "cell_type": "code",
   "execution_count": 18,
   "metadata": {},
   "outputs": [
    {
     "data": {
      "image/png": "[encoded data removed]",
      "text/plain": [
       "<Figure size 400x400 with 1 Axes>"
      ]
     },
     "metadata": {
      "needs_background": "light"
     },
     "output_type": "display_data"
    }
   ],
   "source": [
    "fig = plt.figure(figsize=(4, 4), dpi=100)\n",
    "plt.plot(iou_array, f1_list, color='k', linewidth=2, markersize=12, marker='.')\n",
    "plt.title('Performance on test set (ensemble of 4 runs)', fontsize=10)\n",
    "plt.xlim([0, 1])\n",
    "plt.ylim([0, 1])\n",
    "plt.yticks([0.1*i for i in range(1, 10)])\n",
    "plt.xticks([0.1*i for i in range(1, 10)])\n",
    "plt.xlabel('Overlap threshold')\n",
    "plt.ylabel('F1-score')\n",
    "plt.grid()\n",
    "plt.show()"
   ]
  },
  {
   "cell_type": "code",
   "execution_count": 19,
   "metadata": {},
   "outputs": [
    {
     "name": "stdout",
     "output_type": "stream",
     "text": [
      "BE train stats\n",
      "[{'f1_score': 0.8980807412309728,\n",
      "  'mean_all_iou': 0.733614816446854,\n",
      "  'mean_nonzero_iou': 0.7932842859036787,\n",
      "  'n_detections': 1533,\n",
      "  'n_events': 1489,\n",
      "  'precision': 0.8851924331376386,\n",
      "  'recall': 0.9113498992612492,\n",
      "  'tp': 1357},\n",
      " {'f1_score': 0.8723098995695839,\n",
      "  'mean_all_iou': 0.6801165184432193,\n",
      "  'mean_nonzero_iou': 0.7645826021853611,\n",
      "  'n_detections': 697,\n",
      "  'n_events': 697,\n",
      "  'precision': 0.8723098995695839,\n",
      "  'recall': 0.8723098995695839,\n",
      "  'tp': 608},\n",
      " {'f1_score': 0.916037316748112,\n",
      "  'mean_all_iou': 0.7334522373867742,\n",
      "  'mean_nonzero_iou': 0.798913905406899,\n",
      "  'n_detections': 1116,\n",
      "  'n_events': 1135,\n",
      "  'precision': 0.9238351254480287,\n",
      "  'recall': 0.9083700440528635,\n",
      "  'tp': 1031},\n",
      " {'f1_score': 0.9189189189189189,\n",
      "  'mean_all_iou': 0.728643736168605,\n",
      "  'mean_nonzero_iou': 0.8043260689861176,\n",
      "  'n_detections': 1887,\n",
      "  'n_events': 1998,\n",
      "  'precision': 0.9459459459459459,\n",
      "  'recall': 0.8933933933933934,\n",
      "  'tp': 1785},\n",
      " {'f1_score': 0.86437960884899,\n",
      "  'mean_all_iou': 0.6667336343541952,\n",
      "  'mean_nonzero_iou': 0.761635444327632,\n",
      "  'n_detections': 1546,\n",
      "  'n_events': 1573,\n",
      "  'precision': 0.871927554980595,\n",
      "  'recall': 0.8569612205975843,\n",
      "  'tp': 1348}]\n",
      "BE val stats\n",
      "[{'f1_score': 0.7988636363636363,\n",
      "  'mean_all_iou': 0.6399449727284143,\n",
      "  'mean_nonzero_iou': 0.7725302571334726,\n",
      "  'n_detections': 886,\n",
      "  'n_events': 874,\n",
      "  'precision': 0.7934537246049661,\n",
      "  'recall': 0.8043478260869565,\n",
      "  'tp': 703},\n",
      " {'f1_score': 0.7318908748824082,\n",
      "  'mean_all_iou': 0.5280909019703918,\n",
      "  'mean_nonzero_iou': 0.7234389544871828,\n",
      "  'n_detections': 1015,\n",
      "  'n_events': 1111,\n",
      "  'precision': 0.7665024630541872,\n",
      "  'recall': 0.7002700270027002,\n",
      "  'tp': 778}]\n",
      "BE test stats\n",
      "[{'f1_score': 0.6292412091301666,\n",
      "  'mean_all_iou': 0.3879204497229933,\n",
      "  'mean_nonzero_iou': 0.6543066237586371,\n",
      "  'n_detections': 695,\n",
      "  'n_events': 926,\n",
      "  'precision': 0.7338129496402878,\n",
      "  'recall': 0.550755939524838,\n",
      "  'tp': 510},\n",
      " {'f1_score': 0.8055342044581091,\n",
      "  'mean_all_iou': 0.5935282964946329,\n",
      "  'mean_nonzero_iou': 0.7419103706182912,\n",
      "  'n_detections': 626,\n",
      "  'n_events': 675,\n",
      "  'precision': 0.8370607028753994,\n",
      "  'recall': 0.7762962962962963,\n",
      "  'tp': 524},\n",
      " {'f1_score': 0.845125348189415,\n",
      "  'mean_all_iou': 0.6449682596286653,\n",
      "  'mean_nonzero_iou': 0.694994643869094,\n",
      "  'n_detections': 1909,\n",
      "  'n_events': 1681,\n",
      "  'precision': 0.7946568884232582,\n",
      "  'recall': 0.9024390243902439,\n",
      "  'tp': 1517}]\n"
     ]
    }
   ],
   "source": [
    "be_train = [metrics.by_event_confusion(y, y_pred, iou_thr=0.3) for y, y_pred in zip(y_train, y_pred_train)]\n",
    "be_val = [metrics.by_event_confusion(y, y_pred, iou_thr=0.3) for y, y_pred in zip(y_val, y_pred_val)]\n",
    "be_test = [metrics.by_event_confusion(y, y_pred, iou_thr=0.3) for y, y_pred in zip(y_test, y_pred_test)]\n",
    "\n",
    "print('BE train stats')\n",
    "pprint.pprint(be_train)\n",
    "\n",
    "print('BE val stats')\n",
    "pprint.pprint(be_val)\n",
    "\n",
    "print('BE test stats')\n",
    "pprint.pprint(be_test)"
   ]
  },
  {
   "cell_type": "code",
   "execution_count": 20,
   "metadata": {},
   "outputs": [
    {
     "name": "stdout",
     "output_type": "stream",
     "text": [
      "Train Mean F1 score: 0.8939\n",
      "Val Mean F1 score: 0.7654\n",
      "Test Mean F1 score: 0.7600\n"
     ]
    }
   ],
   "source": [
    "print('Train Mean F1 score: %1.4f' % np.mean([m['f1_score'] for m in be_train]))\n",
    "print('Val Mean F1 score: %1.4f' % np.mean([m['f1_score'] for m in be_val]))\n",
    "print('Test Mean F1 score: %1.4f' % np.mean([m['f1_score'] for m in be_test]))"
   ]
  },
  {
   "cell_type": "code",
   "execution_count": 21,
   "metadata": {},
   "outputs": [
    {
     "data": {
      "image/png": "[encoded data removed]",
      "text/plain": [
       "<Figure size 500x500 with 1 Axes>"
      ]
     },
     "metadata": {
      "needs_background": "light"
     },
     "output_type": "display_data"
    }
   ],
   "source": [
    "fig, ax = plt.subplots(1, 1, figsize=(5, 5), dpi=100)\n",
    "text_space = 0.005\n",
    "# Training results\n",
    "for i, stats in enumerate(be_train):\n",
    "    if i==0:\n",
    "        ax.scatter(stats['recall'], stats['precision'], c='g', label='Train')\n",
    "    else:\n",
    "        ax.scatter(stats['recall'], stats['precision'], c='g')\n",
    "    ax.annotate(train_ids[i], (stats['recall']+text_space, stats['precision']+text_space))\n",
    "    \n",
    "# Validation results\n",
    "for i, stats in enumerate(be_val):\n",
    "    if i==0:\n",
    "        ax.scatter(stats['recall'], stats['precision'], c='r', label='Val')\n",
    "    else:\n",
    "        ax.scatter(stats['recall'], stats['precision'], c='r')\n",
    "    ax.annotate(val_ids[i], (stats['recall']+text_space, stats['precision']+text_space))\n",
    "    \n",
    "# Testing results\n",
    "for i, stats in enumerate(be_test):\n",
    "    if i==0:\n",
    "        ax.scatter(stats['recall'], stats['precision'], c='b', label='Test')\n",
    "    else:\n",
    "        ax.scatter(stats['recall'], stats['precision'], c='b')\n",
    "    ax.annotate(test_ids[i], (stats['recall']+text_space, stats['precision']+text_space))\n",
    "    \n",
    "\n",
    "delta = 0.01 \n",
    "x_ = np.arange(1, 100) * delta \n",
    "y_ = np.arange(1, 100) * delta \n",
    "X, Y = np.meshgrid(x_, y_)\n",
    "Z = 2 * X * Y / (X + Y)\n",
    "\n",
    "CS = ax.contour(X, Y, Z)\n",
    "ax.clabel(CS, inline=1, fontsize=10)\n",
    "\n",
    "plt.xlabel('Recall')\n",
    "plt.ylabel('Precision')\n",
    "plt.xlim([0, 1])\n",
    "plt.ylim([0, 1])\n",
    "plt.grid()\n",
    "plt.legend(loc='lower left', bbox_to_anchor=(1.05, 0.35), labelspacing=1)\n",
    "plt.show()"
   ]
  },
  {
   "cell_type": "markdown",
   "metadata": {},
   "source": [
    "## Visualization on test set"
   ]
  },
  {
   "cell_type": "code",
   "execution_count": 16,
   "metadata": {},
   "outputs": [
    {
     "name": "stdout",
     "output_type": "stream",
     "text": [
      "Getting ID 7, 306 N2 pages, Expert 1\n"
     ]
    }
   ],
   "source": [
    "# Test set  [2, 6, 12, 13]\n",
    "subject_id = 7\n",
    "# subject_id = 2\n",
    "\n",
    "n2_signal, n2_marks_1 = dataset.get_subject_data(subject_id, which_expert=1, verbose=True)\n",
    "# _, n2_marks_2 = dataset.get_subject_data(subject_id, which_expert=2, verbose=True)\n",
    "pages = dataset.get_subject_pages(subject_id)\n",
    "\n",
    "last_moment = (pages[-1]+1) * 4000\n",
    "\n",
    "nnet = y_pred_test[test_ids.index(subject_id)]\n",
    "# nnet = y_pred_train[train_ids.index(subject_id)]"
   ]
  },
  {
   "cell_type": "code",
   "execution_count": 69,
   "metadata": {},
   "outputs": [
    {
     "data": {
      "text/plain": [
       "[2, 6, 12, 13]"
      ]
     },
     "execution_count": 69,
     "metadata": {},
     "output_type": "execute_result"
    }
   ],
   "source": []
  },
  {
   "cell_type": "code",
   "execution_count": 72,
   "metadata": {},
   "outputs": [
    {
     "data": {
      "text/plain": [
       "0.170558"
      ]
     },
     "execution_count": 72,
     "metadata": {},
     "output_type": "execute_result"
    }
   ],
   "source": [
    "nnet[0, :].max()"
   ]
  },
  {
   "cell_type": "code",
   "execution_count": 17,
   "metadata": {},
   "outputs": [],
   "source": [
    "def plot_page(page, signal, e1_marks, nnet, n2_pages, fs):\n",
    "    fig = plt.figure(figsize=(15, 5), dpi=100) \n",
    "    gs = gridspec.GridSpec(3, 1, height_ratios=[4, 1, 1]) \n",
    "    \n",
    "    page = page - 1\n",
    "    \n",
    "    segment_signal = signal[page, :]\n",
    "    segment_e1_marks = e1_marks[page, :]\n",
    "    segment_nn_marks = nnet[page, :]\n",
    "    time_axis = np.arange(signal.shape[1])/fs\n",
    "    \n",
    "    # Signal\n",
    "    ax0 = fig.add_subplot(gs[0])\n",
    "    ax0.plot(time_axis, segment_signal, linewidth=1)\n",
    "    ax0.set_yticks([])\n",
    "    ax0.set_xlim([0, 20])\n",
    "    ax0.set_ylim([-10, 10])\n",
    "    ax0.set_title('EEG Signal, C3-CLE (intervals of 0.5s are shown), original page %d' % n2_pages[page])\n",
    "    ax0.set_xticks([0, 5, 10, 15, 20])\n",
    "    ax0.set_xticks(np.arange(0, 20, 0.5), minor=True)\n",
    "    ax0.grid(b=True, axis='x', which='minor')\n",
    "    \n",
    "    # Expert mark\n",
    "    ax2 = fig.add_subplot(gs[1])\n",
    "    ax2.imshow(segment_e1_marks[np.newaxis, :], interpolation=None, aspect='auto', cmap='gray')\n",
    "    #ax2.axis('off')\n",
    "    ax2.set_xticks([])\n",
    "    ax2.set_yticks([])\n",
    "    ax2.set_title('Expert 1 (white is active)')\n",
    "    \n",
    "    # Neural net\n",
    "    ax4 = fig.add_subplot(gs[2])\n",
    "    # ax4.imshow(segment_nn_marks[np.newaxis, :], interpolation=None, aspect='auto', cmap='gray', vmin=0.0, vmax=1.0)\n",
    "    ax4.plot(segment_nn_marks, linewidth=1.5, color='r')\n",
    "    ax4.set_xticks([])\n",
    "    ax4.set_ylim([0,1])\n",
    "    ax4.set_xlim([0,500])\n",
    "    ax4.set_yticks([0, 1])\n",
    "    ax4.set_yticks([0.5], minor=True)\n",
    "    ax4.grid(b=True, axis='y', which='minor')\n",
    "    # ax4.axis('off')\n",
    "    ax4.set_title('Model probability prediction (white is active)')\n",
    "    \n",
    "    plt.tight_layout()\n",
    "    plt.show()"
   ]
  },
  {
   "cell_type": "code",
   "execution_count": 18,
   "metadata": {},
   "outputs": [
    {
     "data": {
      "application/vnd.jupyter.widget-view+json": {
       "model_id": "d78a3feef1404d46977ab69e94cd9054",
       "version_major": 2,
       "version_minor": 0
      },
      "text/plain": [
       "interactive(children=(IntSlider(value=1, continuous_update=False, description='page', max=306, min=1), Output(…"
      ]
     },
     "metadata": {},
     "output_type": "display_data"
    }
   ],
   "source": [
    "widgets.interact(\n",
    "    lambda page: plot_page(page, n2_signal, n2_marks_1, nnet, pages, dataset.fs),\n",
    "    page=widgets.IntSlider(min=1,max=n2_signal.shape[0],step=1,value=1, continuous_update=False));"
   ]
  },
  {
   "cell_type": "code",
   "execution_count": null,
   "metadata": {},
   "outputs": [],
   "source": [
    "# --- Particular result on test set\n",
    "\n",
    "\n",
    "subject_id = 2\n",
    "page = 480\n",
    "fs = 200\n",
    "start_time = 0\n",
    "end_time = 20\n",
    "\n",
    "n2_signal, n2_marks_1 = dataset.get_subject_data(subject_id, which_expert=1)\n",
    "_, n2_marks_2 = dataset.get_subject_data(subject_id, which_expert=2)\n",
    "pages = dataset.get_subject_pages(subject_id)\n",
    "\n",
    "complete_segment = n2_signal[page, :]\n",
    "time_axis = np.arange(complete_segment.size) / fs\n",
    "\n",
    "\n",
    "fig = plt.figure(figsize=(10, 3), dpi=100) \n",
    "gs = gridspec.GridSpec(4, 1, height_ratios=[3, 1, 1, 3])\n",
    "\n",
    "# fig, ax = plt.subplots(1, 1, figsize=(10, 1), dpi=100)\n",
    "time_axis = np.arange(complete_segment.size) / fs\n",
    "ax = fig.add_subplot(gs[0])\n",
    "ax.plot(time_axis, complete_segment, linewidth=0.8)\n",
    "ax.set_yticks([])\n",
    "ax.set_xlim([start_time, end_time])\n",
    "ax.set_ylim([-5, 5])\n",
    "# ax0.set_title('EEG Signal, C3-CLE (intervals of 0.5s are shown), original page %d' % n2_pages[page])\n",
    "ax.set_xticks([])\n",
    "ax.set_xticks(np.arange(start_time, end_time, 0.5), minor=True)\n",
    "ax.grid(b=True, axis='x', which='minor')\n",
    "# plt.show()\n",
    "\n",
    "start_sample = int(start_time*(fs))\n",
    "end_sample = int(end_time*(fs))\n",
    "\n",
    "#fig, ax = plt.subplots(1, 1, figsize=(10, 0.3), dpi=100)\n",
    "ax = fig.add_subplot(gs[1])\n",
    "ax.imshow(n2_marks_1[page, start_sample:end_sample][np.newaxis, :], interpolation=None, aspect='auto', extent=[0, 20, 32, 1], cmap='gray')\n",
    "ax.axis('off')\n",
    "# plt.show()\n",
    "\n",
    "start_sample = int(start_time*(fs/10))\n",
    "end_sample = int(end_time*(fs/10))\n",
    "\n",
    "#fig, ax = plt.subplots(1, 1, figsize=(10, 0.3), dpi=100)\n",
    "ax = fig.add_subplot(gs[2])\n",
    "ax.imshow(test_preds[page, start_sample:end_sample][np.newaxis, :], interpolation=None, aspect='auto', extent=[0, 20, 32, 1], cmap='gray')\n",
    "ax.axis('off')\n",
    "# plt.show()\n",
    "#print(test_preds[page, start_sample:end_sample])\n",
    "\n",
    "tf.reset_default_graph()\n",
    "inputs = complete_segment[np.newaxis, :]\n",
    "outputs = compute_cwt(inputs, [1.5], 200, 1, 30, 32, flattening=True)\n",
    "outputs = tf.layers.average_pooling2d(inputs=outputs, pool_size=(8, 1), strides=(8, 1))\n",
    "# outputs = tf.log(outputs + 1e-3)\n",
    "\n",
    "with tf.Session() as sess:\n",
    "    my_cwt = sess.run(outputs)\n",
    "# print(my_cwt.shape)\n",
    "\n",
    "# fig, ax = plt.subplots(1, 1, figsize=(10, 1), dpi=100)\n",
    "ax = fig.add_subplot(gs[3])\n",
    "my_cwt_image = np.transpose(my_cwt[0, :, :, 0], (1, 0))\n",
    "ax.imshow(my_cwt_image, interpolation=None, aspect='auto', extent=[0, 20, 32, 1])\n",
    "ax.axis('off')\n",
    "# ax.set_title('CWT CMorlet, [3, 40] Hz, Fb = 1.5')\n",
    "plt.show()"
   ]
  },
  {
   "cell_type": "markdown",
   "metadata": {},
   "source": [
    "### Comparison"
   ]
  },
  {
   "cell_type": "code",
   "execution_count": 8,
   "metadata": {},
   "outputs": [],
   "source": [
    "folder = 'comparison_data'\n",
    "\n",
    "# Chambon\n",
    "convnet_data = np.loadtxt(os.path.join(folder, 'Convnet.csv'), delimiter=',')\n",
    "\n",
    "# Expert\n",
    "expert_data_mean = np.loadtxt(os.path.join(folder, 'MeanExpert.csv'), delimiter=',')\n",
    "expert_data_std = np.loadtxt(os.path.join(folder, 'UpperExpert.csv'), delimiter=',')\n",
    "expert_data_std[:, 1] = expert_data_std[:, 1] - expert_data_mean[:, 1]\n",
    "\n",
    "# Proposed model\n",
    "filename = 'f1_january_model_run%d.csv'\n",
    "model_data = []\n",
    "for n_try in [0, 1, 2, 3]:\n",
    "    tmp_data = np.loadtxt(os.path.join(folder, filename % n_try), delimiter=',')\n",
    "    model_data.append(tmp_data)\n",
    "model_data = np.stack(model_data, axis=0)\n",
    "model_data_mean = np.mean(model_data, axis=0)\n",
    "model_data_mean[:, 0] = np.around(model_data_mean[:, 0], decimals=1)\n",
    "model_data_std = np.std(model_data, axis=0)\n",
    "model_data_std[:, 0] = model_data_mean[:, 0]\n",
    "\n",
    "# Ensemble model\n",
    "model_data_ensemble = np.loadtxt(os.path.join(folder, 'f1_january_model_ensemble.csv'), delimiter=',')\n",
    "model_data_ensemble[:, 0] = np.around(model_data_ensemble[:, 0], decimals=1)\n",
    "\n",
    "# --hardcoding:\n",
    "model_data_ensemble[:, 1] = np.array(f1_list)"
   ]
  },
  {
   "cell_type": "code",
   "execution_count": 9,
   "metadata": {},
   "outputs": [
    {
     "data": {
      "image/png": "[encoded data removed]",
      "text/plain": [
       "<Figure size 900x400 with 2 Axes>"
      ]
     },
     "metadata": {
      "needs_background": "light"
     },
     "output_type": "display_data"
    }
   ],
   "source": [
    "fig, ax = plt.subplots(1, 2, figsize=(9, 4), dpi=100)\n",
    "\n",
    "# Complete plot\n",
    "ax[0].plot(expert_data_mean[:, 0], expert_data_mean[:, 1], linewidth=2, markersize=12, marker='.', label='Expert Performance')\n",
    "ax[0].fill_between(\n",
    "    expert_data_mean[:, 0], \n",
    "    expert_data_mean[:, 1]-expert_data_std[:, 1], \n",
    "    expert_data_mean[:, 1]+expert_data_std[:, 1], \n",
    "    alpha=0.3)\n",
    "\n",
    "# ax[0].plot(model_data_mean[:, 0], model_data_mean[:, 1], linewidth=2, markersize=12, marker='.', label='Proposed Model')\n",
    "ax[0].plot(model_data_ensemble[:, 0], model_data_ensemble[:, 1], linewidth=2, markersize=12, marker='.', label='Proposed Model')\n",
    "ax[0].plot(convnet_data[:, 0], convnet_data[:, 1], linewidth=2, markersize=12, marker='.', label='Chambon et al.')\n",
    "ax[0].set_title('Detection Performance', fontsize=10)\n",
    "# ax[0].axis('square')\n",
    "ax[0].set_xlim([0, 1])\n",
    "ax[0].set_ylim([0, 1])\n",
    "ax[0].set_yticks([0.1*i for i in range(1, 10)])\n",
    "ax[0].set_xticks([0.1*i for i in range(1, 10)])\n",
    "ax[0].set_xlabel('Threshold for IoU')\n",
    "ax[0].set_ylabel('F1-score')\n",
    "# ax[0].legend(loc='lower left')\n",
    "ax[0].grid()\n",
    "\n",
    "# Zoom plot\n",
    "ax[1].plot(expert_data_mean[:, 0], expert_data_mean[:, 1], linewidth=2, markersize=12, marker='.', \n",
    "           label='Expert Performance\\nPrivate Database\\nWarby et al. 2014')\n",
    "ax[1].fill_between(\n",
    "    expert_data_mean[:, 0], \n",
    "    expert_data_mean[:, 1]-expert_data_std[:, 1], \n",
    "    expert_data_mean[:, 1]+expert_data_std[:, 1], \n",
    "    alpha=0.3)\n",
    "\n",
    "# ax[0].plot(model_data_mean[:, 0], model_data_mean[:, 1], linewidth=2, markersize=12, marker='.', label='Proposed Model')\n",
    "ax[1].plot(model_data_ensemble[:, 0], model_data_ensemble[:, 1], linewidth=2, markersize=12, marker='.', \n",
    "           label='Proposed Model\\nINTA Database')\n",
    "ax[1].plot(convnet_data[:, 0], convnet_data[:, 1], linewidth=2, markersize=12, marker='.', \n",
    "           label='ConvNet\\nMASS Database\\nChambon et al. 2018')\n",
    "ax[1].set_title('Detection Performance (ZOOM)', fontsize=10)\n",
    "# ax[1].axis('square')\n",
    "ax[1].set_xlim([0.05, 0.75])\n",
    "ax[1].set_ylim([0.6, 0.85])\n",
    "# ax[1].set_yticks([0.1*i for i in range(1, 10)])\n",
    "# ax[1].set_xticks([0.1*i for i in range(1, 10)])\n",
    "ax[1].set_xlabel('Threshold for IoU')\n",
    "ax[1].set_ylabel('F1-score')\n",
    "ax[1].legend(loc='lower left', bbox_to_anchor=(1.05, 0.15), labelspacing=3)\n",
    "ax[1].grid()\n",
    "\n",
    "plt.show()"
   ]
  },
  {
   "cell_type": "code",
   "execution_count": null,
   "metadata": {},
   "outputs": [],
   "source": []
  },
  {
   "cell_type": "code",
   "execution_count": 3,
   "metadata": {},
   "outputs": [],
   "source": [
    "np.savetxt(\"f1_vs_iou_expert_mean.csv\", expert_data_mean, delimiter=\",\")\n",
    "np.savetxt(\"f1_vs_iou_expert_std.csv\", expert_data_std, delimiter=\",\")"
   ]
  },
  {
   "cell_type": "code",
   "execution_count": null,
   "metadata": {},
   "outputs": [],
   "source": []
  },
  {
   "cell_type": "code",
   "execution_count": null,
   "metadata": {},
   "outputs": [],
   "source": []
  },
  {
   "cell_type": "code",
   "execution_count": null,
   "metadata": {},
   "outputs": [],
   "source": []
  }
 ],
 "metadata": {
  "kernelspec": {
   "display_name": "Python 3",
   "language": "python",
   "name": "python3"
  },
  "language_info": {
   "codemirror_mode": {
    "name": "ipython",
    "version": 3
   },
   "file_extension": ".py",
   "mimetype": "text/x-python",
   "name": "python",
   "nbconvert_exporter": "python",
   "pygments_lexer": "ipython3",
   "version": "3.6.8"
  }
 },
 "nbformat": 4,
 "nbformat_minor": 2
}
