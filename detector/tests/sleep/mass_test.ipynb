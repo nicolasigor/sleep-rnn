{
 "cells": [
  {
   "cell_type": "code",
   "execution_count": 1,
   "metadata": {},
   "outputs": [],
   "source": [
    "import os\n",
    "import sys\n",
    "sys.path.insert(0, os.path.abspath('../..'))"
   ]
  },
  {
   "cell_type": "code",
   "execution_count": 2,
   "metadata": {},
   "outputs": [],
   "source": [
    "from sleep.mass import MASS"
   ]
  },
  {
   "cell_type": "code",
   "execution_count": 3,
   "metadata": {},
   "outputs": [
    {
     "name": "stdout",
     "output_type": "stream",
     "text": [
      "/home/falcon/Projects/GitNico/ssdetection-rnn/data/ssdata_mass\n"
     ]
    },
    {
     "name": "stderr",
     "output_type": "stream",
     "text": [
      "/home/falcon/miniconda3/envs/tf/lib/python3.6/site-packages/scipy/signal/signaltools.py:2383: FutureWarning: Using a non-tuple sequence for multidimensional indexing is deprecated; use `arr[tuple(seq)]` instead of `arr[seq]`. In the future this will be interpreted as an array index, `arr[np.array(seq)]`, which will result either in an error or a different result.\n",
      "  return y[keep]\n"
     ]
    },
    {
     "name": "stdout",
     "output_type": "stream",
     "text": [
      "15 records in MASS dataset.\n",
      "Train set size: 8 -- Records    ID: [7, 14, 9, 5, 19, 17, 1, 10]\n",
      "Val set size: 2 -- Records    ID: [3, 11]\n",
      "Test set size: 4 -- Records    ID: [2, 6, 12, 13]\n",
      "\n",
      "Loading train set...\n",
      "Marks: 912\n",
      "Marks: 1579\n",
      "1/8 ready, time elapsed: 3.3522 [s]\n",
      "Marks: 713\n",
      "Marks: 1593\n",
      "2/8 ready, time elapsed: 6.2421 [s]\n",
      "Marks: 814\n",
      "Marks: 1644\n",
      "3/8 ready, time elapsed: 9.5452 [s]\n",
      "Marks: 341\n",
      "Marks: 1186\n",
      "4/8 ready, time elapsed: 12.5558 [s]\n",
      "Marks: 315\n",
      "Marks: 1049\n",
      "5/8 ready, time elapsed: 15.9614 [s]\n",
      "Marks: 470\n",
      "Marks: 1184\n",
      "6/8 ready, time elapsed: 20.3119 [s]\n",
      "Marks: 1044\n",
      "Marks: 2435\n",
      "7/8 ready, time elapsed: 23.1366 [s]\n",
      "Marks: 795\n",
      "Marks: 1922\n",
      "8/8 ready, time elapsed: 25.9194 [s]\n",
      "8 records have been read.\n",
      "\n",
      "Loading val set...\n",
      "Marks: 143\n",
      "Marks: 595\n",
      "1/2 ready, time elapsed: 4.2829 [s]\n",
      "Marks: 606\n",
      "Marks: 1515\n",
      "2/2 ready, time elapsed: 7.2980 [s]\n",
      "2 records have been read.\n",
      "\n",
      "Loading test set...\n",
      "Marks: 1143\n",
      "Marks: 2198\n",
      "1/4 ready, time elapsed: 3.7560 [s]\n",
      "Marks: 150\n",
      "Marks: 824\n",
      "2/4 ready, time elapsed: 6.5495 [s]\n",
      "Marks: 709\n",
      "Marks: 1169\n",
      "3/4 ready, time elapsed: 9.6324 [s]\n",
      "Marks: 698\n",
      "Marks: 1382\n",
      "4/4 ready, time elapsed: 13.1029 [s]\n",
      "4 records have been read.\n",
      "\n",
      "Pages in train set: 5838\n",
      "Pages in val set: 1134\n",
      "Pages in test set: 3094\n",
      "\n",
      "Pages in MASS dataset: 10066\n"
     ]
    }
   ],
   "source": [
    "dataset = MASS()"
   ]
  },
  {
   "cell_type": "code",
   "execution_count": 4,
   "metadata": {},
   "outputs": [],
   "source": [
    "dataset.save_checkpoint()"
   ]
  },
  {
   "cell_type": "code",
   "execution_count": null,
   "metadata": {},
   "outputs": [],
   "source": []
  }
 ],
 "metadata": {
  "kernelspec": {
   "display_name": "Python 3",
   "language": "python",
   "name": "python3"
  },
  "language_info": {
   "codemirror_mode": {
    "name": "ipython",
    "version": 3
   },
   "file_extension": ".py",
   "mimetype": "text/x-python",
   "name": "python",
   "nbconvert_exporter": "python",
   "pygments_lexer": "ipython3",
   "version": "3.6.7"
  }
 },
 "nbformat": 4,
 "nbformat_minor": 2
}
