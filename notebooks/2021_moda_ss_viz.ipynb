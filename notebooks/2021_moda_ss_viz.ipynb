{
 "cells": [
  {
   "cell_type": "code",
   "execution_count": 1,
   "metadata": {},
   "outputs": [
    {
     "data": {
      "text/html": [
       "<style>.container { width:100% !important; }</style>"
      ],
      "text/plain": [
       "<IPython.core.display.HTML object>"
      ]
     },
     "metadata": {},
     "output_type": "display_data"
    }
   ],
   "source": [
    "import os\n",
    "from pprint import pprint\n",
    "import sys\n",
    "import json\n",
    "\n",
    "import ipywidgets as widgets\n",
    "import matplotlib.pyplot as plt\n",
    "import numpy as np\n",
    "\n",
    "sys.path.append('..')\n",
    "\n",
    "from sleeprnn.common import viz, constants, pkeys\n",
    "from sleeprnn.data import utils\n",
    "from sleeprnn.helpers import reader\n",
    "\n",
    "viz.notebook_full_width()\n",
    "%matplotlib inline"
   ]
  },
  {
   "cell_type": "code",
   "execution_count": 2,
   "metadata": {},
   "outputs": [
    {
     "name": "stdout",
     "output_type": "stream",
     "text": [
      "Dataset moda_ss with 180 patients.\n",
      "Loading from checkpoint... Loaded\n",
      "Global STD: None\n"
     ]
    }
   ],
   "source": [
    "dataset = reader.load_dataset(constants.MODA_SS_NAME)"
   ]
  },
  {
   "cell_type": "markdown",
   "metadata": {},
   "source": [
    "# Visualize single subject"
   ]
  },
  {
   "cell_type": "code",
   "execution_count": null,
   "metadata": {},
   "outputs": [],
   "source": [
    "subject_id = dataset.all_ids[55]\n",
    "print(\"Subject id %s\" % subject_id)\n",
    "signal = dataset.get_subject_signal(subject_id, normalize_clip=False)\n",
    "marks = dataset.get_subject_stamps(subject_id, pages_subset=constants.N2_RECORD)\n",
    "n2_pages = dataset.get_subject_pages(subject_id, pages_subset=constants.N2_RECORD)\n",
    "print(\"Signal\", signal.shape, signal.dtype)\n",
    "print(\"Marks\", marks.shape, marks.dtype)\n",
    "print(\"N2 pages\", n2_pages.shape, n2_pages.dtype)"
   ]
  },
  {
   "cell_type": "code",
   "execution_count": null,
   "metadata": {},
   "outputs": [],
   "source": [
    "def draw_signal(n2_page_loc):\n",
    "    fig, ax = plt.subplots(1, 1, figsize=(12, 2), dpi=140)\n",
    "\n",
    "    n2_page_id = n2_pages[n2_page_loc]\n",
    "    start_sample = int(n2_page_id * dataset.page_size)\n",
    "    end_sample = int(start_sample + dataset.page_size)\n",
    "    \n",
    "    page_signal = signal[start_sample:end_sample]\n",
    "    page_label = utils.filter_stamps(marks, start_sample=start_sample, end_sample=end_sample)\n",
    "    \n",
    "    time_axis = np.arange(start_sample, end_sample) / dataset.fs\n",
    "    \n",
    "    ax.plot(time_axis, page_signal, linewidth=0.7, color=viz.PALETTE['blue'])\n",
    "    for m in page_label:\n",
    "        m = np.clip(m, a_min=start_sample, a_max=end_sample-1)\n",
    "        m = m / dataset.fs\n",
    "        ax.plot(m, [-50, -50], linewidth=4, color=viz.PALETTE['red'], alpha=0.5)\n",
    "    \n",
    "    ax.set_title(\" N2 page %d (page in record: %d) (Subject %s, Phase %d, NBlocks %d)\" % (\n",
    "        n2_page_loc, n2_page_id, subject_id, dataset.data[subject_id]['phase'], dataset.data[subject_id]['n_blocks']))\n",
    "    \n",
    "    ax.set_ylim([-150, 150])\n",
    "    ax.set_xlim([time_axis[0], time_axis[-1]])\n",
    "    \n",
    "    plt.show()"
   ]
  },
  {
   "cell_type": "code",
   "execution_count": null,
   "metadata": {},
   "outputs": [],
   "source": [
    "init_page_loc = 0\n",
    "\n",
    "style = {'description_width': 'initial'}\n",
    "layout= widgets.Layout(width='1000px')\n",
    "widgets.interact(\n",
    "    lambda n2_page_loc: draw_signal(n2_page_loc),\n",
    "    n2_page_loc=widgets.IntSlider(\n",
    "        min=0, max=n2_pages.size-1, step=1, value=init_page_loc, \n",
    "        continuous_update=False,\n",
    "        style=style,\n",
    "        layout=layout\n",
    "    ));"
   ]
  },
  {
   "cell_type": "markdown",
   "metadata": {},
   "source": [
    "# Cross-validation scheme"
   ]
  },
  {
   "cell_type": "code",
   "execution_count": 3,
   "metadata": {},
   "outputs": [
    {
     "name": "stdout",
     "output_type": "stream",
     "text": [
      "train 144, val 0, test 36, total unique 180\n"
     ]
    }
   ],
   "source": [
    "n_folds = 5\n",
    "fold_id = 0\n",
    "seed = 0\n",
    "\n",
    "train_ids, val_ids, test_ids = dataset.cv_split(n_folds, fold_id, seed=seed)\n",
    "# Check overlap\n",
    "print(\"train %d, val %d, test %d, total unique %d\" % (\n",
    "    train_ids.size, val_ids.size, test_ids.size, np.unique(np.concatenate([train_ids, val_ids, test_ids])).size\n",
    "))"
   ]
  },
  {
   "cell_type": "code",
   "execution_count": null,
   "metadata": {},
   "outputs": [],
   "source": []
  }
 ],
 "metadata": {
  "kernelspec": {
   "display_name": "Python 3",
   "language": "python",
   "name": "python3"
  },
  "language_info": {
   "codemirror_mode": {
    "name": "ipython",
    "version": 3
   },
   "file_extension": ".py",
   "mimetype": "text/x-python",
   "name": "python",
   "nbconvert_exporter": "python",
   "pygments_lexer": "ipython3",
   "version": "3.6.9"
  }
 },
 "nbformat": 4,
 "nbformat_minor": 2
}
