{
 "cells": [
  {
   "cell_type": "code",
   "execution_count": null,
   "metadata": {
    "colab": {
     "base_uri": "https://localhost:8080/",
     "height": 34
    },
    "colab_type": "code",
    "executionInfo": {
     "elapsed": 2267,
     "status": "ok",
     "timestamp": 1590794728268,
     "user": {
      "displayName": "Nicolás Igor Tapia Rivas",
      "photoUrl": "https://lh3.googleusercontent.com/a-/AOh14GjRniTiDacfBQU86nYLe5gSZ53V_D0gGt8AksFf=s64",
      "userId": "05811526828832909464"
     },
     "user_tz": 240
    },
    "id": "sY6ieHeikE7h",
    "outputId": "f7167e18-0a9e-4e41-d785-2a569aa78e87"
   },
   "outputs": [],
   "source": [
    "import sys\n",
    "sys.path.append(\"..\")\n",
    "\n",
    "import numpy as np\n",
    "import matplotlib.pyplot as plt\n",
    "import tensorflow as tf\n",
    "\n",
    "from sleeprnn.nn.losses import get_border_weights\n",
    "from sleeprnn.nn.losses import weighted_cross_entropy_loss_v5\n",
    "from sleeprnn.common import viz"
   ]
  },
  {
   "cell_type": "markdown",
   "metadata": {},
   "source": [
    "## Synth Label and Prediction"
   ]
  },
  {
   "cell_type": "code",
   "execution_count": null,
   "metadata": {},
   "outputs": [],
   "source": [
    "fs = 25  # in output\n",
    "n_samples = 250\n",
    "annots = [[60, 86], [110, 152], [164, 180]]\n",
    "preds = [[64, 90], [120, 200], [230, 240]]\n",
    "\n",
    "time_axis = np.arange(n_samples) / fs\n",
    "# Labels\n",
    "labels = np.zeros(n_samples)\n",
    "for annot in annots:\n",
    "    labels[annot[0]:annot[1]+1] = 1\n",
    "# Predictions\n",
    "probabilities = np.zeros(n_samples + 50)\n",
    "for pred in preds:\n",
    "    probabilities[pred[0]+25:pred[1]+26] = 1\n",
    "probabilities = np.clip(probabilities, 0.1, 0.9)\n",
    "smooth_kernel = np.hanning(8)\n",
    "smooth_kernel /= smooth_kernel.sum()\n",
    "probabilities = np.convolve(probabilities, smooth_kernel, mode=\"same\")\n",
    "probabilities = probabilities[25:-25]\n",
    "\n",
    "# Logits\n",
    "logits = np.log(probabilities) - np.log(1 - probabilities)\n",
    "logits = np.stack([1-logits, logits], axis=-1)\n",
    "\n",
    "# Plot\n",
    "line_args = dict(marker='o', markersize=2, linewidth=0.6)\n",
    "fig, ax = plt.subplots(3, 1, figsize=(8, 4), dpi=100, sharex=True)\n",
    "ax[0].plot(time_axis, labels, **line_args), ax[0].set_title(\"Labels\")\n",
    "ax[1].plot(time_axis, probabilities, **line_args), ax[1].set_title(\"Probabilities\")\n",
    "ax[2].plot(time_axis, logits[..., 1], **line_args), ax[2].set_title(\"Logits\")\n",
    "plt.tight_layout()\n",
    "plt.show()"
   ]
  },
  {
   "cell_type": "markdown",
   "metadata": {},
   "source": [
    "## Weights"
   ]
  },
  {
   "cell_type": "code",
   "execution_count": null,
   "metadata": {},
   "outputs": [],
   "source": [
    "class_weights = [1.0, 0.25]  # positive weight, negative always one\n",
    "focal_gamma = 3\n",
    "focal_eps = 0.5  # [0, 1]\n",
    "anti_border_amplitude = 1.0  # [0, 1]\n",
    "anti_border_halft_width = 6  # n samples\n",
    "\n",
    "tf.reset_default_graph()\n",
    "loss, loss_summ, weights_dict = weighted_cross_entropy_loss_v5(\n",
    "    logits.reshape(1, -1, 2).astype(np.float32), labels.reshape(1, -1).astype(np.int32),\n",
    "    class_weights,\n",
    "    focal_gamma, focal_eps,\n",
    "    anti_border_amplitude, anti_border_halft_width,\n",
    "    return_weights=True)\n",
    "sess = tf.Session()\n",
    "tf.global_variables_initializer()\n",
    "my_weights = sess.run(weights_dict)\n",
    "\n",
    "# Plot\n",
    "title_fontsize = 9\n",
    "line_args = dict(linewidth=1.2) #dict(marker='o', markersize=2, linewidth=0.6)\n",
    "fig, ax = plt.subplots(6, 1, figsize=(6, 5), dpi=200, sharex=True)\n",
    "\n",
    "ax[0].set_title(\"Labels\", loc=\"left\", fontsize=title_fontsize)\n",
    "ax[0].plot(time_axis, labels, **line_args)\n",
    "\n",
    "ax[1].set_title(\"Probabilities\", loc=\"left\", fontsize=title_fontsize)\n",
    "ax[1].plot(time_axis, probabilities, **line_args)\n",
    "\n",
    "ax[2].set_title(\n",
    "    \"Weight of Class, $w_1:w_0$ = %1.2f\" % (class_weights[1] / class_weights[0]), \n",
    "    loc=\"left\", fontsize=title_fontsize)\n",
    "ax[2].plot(time_axis, my_weights[\"w_class\"][0], **line_args)\n",
    "\n",
    "ax[3].set_title(\n",
    "    \"Weight of Error, $\\gamma$ = %1.1f, $\\epsilon$ = %1.1f\" % (focal_gamma, focal_eps), \n",
    "    loc=\"left\", fontsize=title_fontsize)\n",
    "ax[3].plot(time_axis, my_weights[\"w_focal\"][0], **line_args)\n",
    "\n",
    "ax[4].set_title(\n",
    "    \"Weight of Border, $a$ = %1.1f, $L$ = %d\" % (anti_border_amplitude, anti_border_halft_width), \n",
    "    loc=\"left\", fontsize=title_fontsize)\n",
    "ax[4].plot(time_axis, my_weights[\"w_border\"][0], **line_args)\n",
    "\n",
    "ax[5].set_title(\n",
    "    \"Total Weight $w_{class}\\cdot w_{error}\\cdot w_{border}$\", \n",
    "    loc=\"left\", fontsize=title_fontsize)\n",
    "ax[5].plot(\n",
    "    time_axis, my_weights[\"w_total\"][0] / my_weights[\"w_total\"][0].max(), **line_args,\n",
    "    color=viz.PALETTE['red']\n",
    ")\n",
    "for s_ax in ax:\n",
    "    s_ax.set_ylim([-0.2, 1.2])\n",
    "    s_ax.tick_params(labelsize=8)\n",
    "    s_ax.set_xlim([0, n_samples / fs])\n",
    "    # s_ax.set_xticks([])\n",
    "ax[-1].set_xlabel(\"Time [s]\", fontsize=8)\n",
    "plt.tight_layout()\n",
    "plt.savefig(\n",
    "    \"weights_class%1.2f_g%1.1f_eps%1.1f_a%1.1f_hw%d.png\" % (\n",
    "        class_weights[1] / class_weights[0], \n",
    "        focal_gamma, focal_eps,\n",
    "        anti_border_amplitude, anti_border_halft_width\n",
    "    )\n",
    ")\n",
    "plt.show()"
   ]
  },
  {
   "cell_type": "code",
   "execution_count": null,
   "metadata": {},
   "outputs": [],
   "source": []
  }
 ],
 "metadata": {
  "colab": {
   "authorship_tag": "ABX9TyP5N3VyeU3g4xHrdS+mv7J3",
   "collapsed_sections": [],
   "name": "border_weights.ipynb",
   "provenance": []
  },
  "kernelspec": {
   "display_name": "Python 3",
   "language": "python",
   "name": "python3"
  },
  "language_info": {
   "codemirror_mode": {
    "name": "ipython",
    "version": 3
   },
   "file_extension": ".py",
   "mimetype": "text/x-python",
   "name": "python",
   "nbconvert_exporter": "python",
   "pygments_lexer": "ipython3",
   "version": "3.6.9"
  }
 },
 "nbformat": 4,
 "nbformat_minor": 1
}
