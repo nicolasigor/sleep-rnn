{
 "cells": [
  {
   "cell_type": "code",
   "execution_count": 6,
   "metadata": {},
   "outputs": [],
   "source": [
    "import numpy as np\n",
    "import matplotlib.pyplot as plt\n",
    "import pyedflib\n",
    "\n",
    "import os\n",
    "import sys\n",
    "sys.path.append('..')\n",
    "\n",
    "RECS_DIR = '../resources/datasets/mass/register'\n",
    "\n",
    "from sleeprnn.data import utils"
   ]
  },
  {
   "cell_type": "markdown",
   "metadata": {},
   "source": [
    "## Load MASS Data"
   ]
  },
  {
   "cell_type": "code",
   "execution_count": 7,
   "metadata": {},
   "outputs": [
    {
     "name": "stdout",
     "output_type": "stream",
     "text": [
      "Channel extracted: EEG C3-CLE\n"
     ]
    }
   ],
   "source": [
    "subject_id = 1\n",
    "\n",
    "channel = 'EEG C3-CLE'\n",
    "path_eeg_file = os.path.join(RECS_DIR, '01-02-%04d PSG.edf' % subject_id)\n",
    "\n",
    "with pyedflib.EdfReader(path_eeg_file) as file:\n",
    "    channel_names = file.getSignalLabels()\n",
    "    channel_to_extract = channel_names.index(channel)\n",
    "    signal = file.readSignal(channel_to_extract)\n",
    "    fs_old = file.samplefrequency(channel_to_extract)\n",
    "    # Check\n",
    "    print('Channel extracted: %s' % file.getLabel(channel_to_extract))\n",
    "\n",
    "# Particular fix for mass dataset:\n",
    "fs_old_round = int(np.round(fs_old))\n",
    "# Transform the original fs frequency with decimals to rounded version\n",
    "signal = utils.resample_signal_linear(signal, fs_old=fs_old, fs_new=fs_old_round)"
   ]
  },
  {
   "cell_type": "code",
   "execution_count": 10,
   "metadata": {},
   "outputs": [],
   "source": [
    "signal_256_raw = signal.copy()\n",
    "signal_256_filtered = utils.broad_filter(signal, fs_old_round)\n",
    "signal_200 = utils.resample_signal(signal_256_filtered, fs_old=fs_old_round, fs_new=200)\n",
    "signal_128 = utils.resample_signal(signal_256_filtered, fs_old=fs_old_round, fs_new=128)"
   ]
  },
  {
   "cell_type": "markdown",
   "metadata": {},
   "source": [
    "## Comparison between different subsamplings and filtering"
   ]
  },
  {
   "cell_type": "code",
   "execution_count": null,
   "metadata": {},
   "outputs": [],
   "source": []
  },
  {
   "cell_type": "code",
   "execution_count": null,
   "metadata": {},
   "outputs": [],
   "source": []
  }
 ],
 "metadata": {
  "kernelspec": {
   "display_name": "Python 3",
   "language": "python",
   "name": "python3"
  },
  "language_info": {
   "codemirror_mode": {
    "name": "ipython",
    "version": 3
   },
   "file_extension": ".py",
   "mimetype": "text/x-python",
   "name": "python",
   "nbconvert_exporter": "python",
   "pygments_lexer": "ipython3",
   "version": "3.6.9"
  }
 },
 "nbformat": 4,
 "nbformat_minor": 2
}
