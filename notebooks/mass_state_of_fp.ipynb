{
 "cells": [
  {
   "cell_type": "code",
   "execution_count": 1,
   "metadata": {},
   "outputs": [
    {
     "data": {
      "text/html": [
       "<style>.container { width:100% !important; }</style>"
      ],
      "text/plain": [
       "<IPython.core.display.HTML object>"
      ]
     },
     "metadata": {},
     "output_type": "display_data"
    }
   ],
   "source": [
    "from __future__ import absolute_import\n",
    "from __future__ import division\n",
    "from __future__ import print_function\n",
    "\n",
    "import os\n",
    "import pickle\n",
    "import sys\n",
    "\n",
    "import ipywidgets as widgets\n",
    "import matplotlib.pyplot as plt\n",
    "import numpy as np\n",
    "import pprint\n",
    "\n",
    "project_root = '..'\n",
    "sys.path.append(project_root)\n",
    "\n",
    "from sleep.data.loader import load_dataset\n",
    "from sleep.detection.feeder_dataset import FeederDataset\n",
    "from sleep.detection.predicted_dataset import PredictedDataset\n",
    "from sleep.detection import metrics\n",
    "from sleep.common import constants, pkeys, checks\n",
    "from sleep.data import utils\n",
    "\n",
    "%matplotlib inline\n",
    "\n",
    "from IPython.core.display import display, HTML\n",
    "display(HTML(\"<style>.container { width:100% !important; }</style>\"))\n",
    "\n",
    "RESULTS_PATH = os.path.join(project_root, 'results')\n",
    "SEED_LIST = [123, 234, 345, 456]"
   ]
  },
  {
   "cell_type": "code",
   "execution_count": 2,
   "metadata": {},
   "outputs": [
    {
     "name": "stdout",
     "output_type": "stream",
     "text": [
      "Train size: 11. Test size: 4\n",
      "Train subjects: \n",
      " [1, 3, 5, 7, 9, 10, 11, 14, 17, 18, 19]\n",
      "Test subjects: \n",
      " [2, 6, 12, 13]\n",
      "Dataset mass_ss with 15 patients.\n",
      "Loading from checkpoint... Loaded\n",
      "Val IDs: [5, 11, 19] [5, 11, 19]\n"
     ]
    }
   ],
   "source": [
    "ckpt_folder = '20190504_bsf'\n",
    "task_mode = constants.WN_RECORD\n",
    "dataset_name = constants.MASS_SS_NAME\n",
    "seed_id = 0\n",
    "chosen_thr = 0.5\n",
    "which_expert = 1\n",
    "verbose = False\n",
    "\n",
    "dataset = load_dataset(dataset_name)\n",
    "all_train_ids = dataset.train_ids\n",
    "full_ckpt_folder = '%s_%s_train_%s' % (ckpt_folder, task_mode, dataset_name)\n",
    "ckpt_path = os.path.abspath(os.path.join(\n",
    "    RESULTS_PATH,\n",
    "    'predictions_%s' % dataset_name,\n",
    "    full_ckpt_folder,\n",
    "    'bsf',\n",
    "    'seed%d' % seed_id\n",
    "))\n",
    "filename = os.path.join(\n",
    "    ckpt_path,\n",
    "    'prediction_%s_%s.pkl' % (task_mode, constants.VAL_SUBSET))\n",
    "with open(filename, 'rb') as handle:\n",
    "    prediction_val = pickle.load(handle)  # Predicted Dataset\n",
    "    \n",
    "# Validation split\n",
    "_, val_ids = utils.split_ids_list(\n",
    "    all_train_ids, seed=SEED_LIST[seed_id], verbose=verbose)\n",
    "# Prepare expert labels\n",
    "data_val = FeederDataset(\n",
    "    dataset, val_ids, task_mode, which_expert=which_expert)\n",
    "# Prepare model predictions\n",
    "prediction_val.set_probability_threshold(chosen_thr)\n",
    "\n",
    "print('Val IDs:', data_val.get_ids(), prediction_val.get_ids())"
   ]
  },
  {
   "cell_type": "code",
   "execution_count": null,
   "metadata": {},
   "outputs": [],
   "source": [
    "# Get stamps\n",
    "events_val = data_val.get_stamps()\n",
    "detections_val = prediction_val.get_stamps()"
   ]
  },
  {
   "cell_type": "code",
   "execution_count": null,
   "metadata": {},
   "outputs": [],
   "source": []
  }
 ],
 "metadata": {
  "kernelspec": {
   "display_name": "Python 3",
   "language": "python",
   "name": "python3"
  },
  "language_info": {
   "codemirror_mode": {
    "name": "ipython",
    "version": 3
   },
   "file_extension": ".py",
   "mimetype": "text/x-python",
   "name": "python",
   "nbconvert_exporter": "python",
   "pygments_lexer": "ipython3",
   "version": "3.6.8"
  }
 },
 "nbformat": 4,
 "nbformat_minor": 2
}
