{
 "cells": [
  {
   "cell_type": "code",
   "execution_count": 1,
   "metadata": {},
   "outputs": [
    {
     "data": {
      "text/html": [
       "<style>.container { width:100% !important; }</style>"
      ],
      "text/plain": [
       "<IPython.core.display.HTML object>"
      ]
     },
     "metadata": {},
     "output_type": "display_data"
    }
   ],
   "source": [
    "from __future__ import absolute_import\n",
    "from __future__ import division\n",
    "from __future__ import print_function\n",
    "\n",
    "import os\n",
    "import sys\n",
    "from pprint import pprint\n",
    "\n",
    "import matplotlib.pyplot as plt\n",
    "import numpy as np\n",
    "import ipywidgets as widgets\n",
    "\n",
    "sys.path.append('..')\n",
    "\n",
    "from sleeprnn.helpers import reader\n",
    "from sleeprnn.data import utils\n",
    "from sleeprnn.common import constants, pkeys, viz\n",
    "\n",
    "viz.notebook_full_width()\n",
    "%matplotlib inline"
   ]
  },
  {
   "cell_type": "markdown",
   "metadata": {},
   "source": [
    "# Load dataset"
   ]
  },
  {
   "cell_type": "code",
   "execution_count": 2,
   "metadata": {},
   "outputs": [
    {
     "name": "stdout",
     "output_type": "stream",
     "text": [
      "Train size: 36.\n",
      "Train subjects: \n",
      " ['1-003', '1-004', '1-018', '1-027', '1-029', '1-031', '1-033', '1-036', '1-038', '1-046', '1-048', '1-050', '1-052', '1-053', '1-057', '1-058', '1-062', '1-065', '1-067', '1-069', '1-072', '1-076', '1-079', '1-087', '1-090', '1-092', '1-093', '1-098', '1-099', '3-001', '3-002', '3-006', '3-007', '3-008', '3-009', '3-010']\n",
      "Dataset isruc_ss with 36 patients.\n",
      "Loading from checkpoint... Loaded\n",
      "Scaling signals to match global std 16.482042\n"
     ]
    }
   ],
   "source": [
    "dataset = reader.load_dataset(constants.ISRUC_SS_NAME)\n",
    "fs = dataset.fs"
   ]
  },
  {
   "cell_type": "markdown",
   "metadata": {},
   "source": [
    "# Visualize single page"
   ]
  },
  {
   "cell_type": "code",
   "execution_count": 49,
   "metadata": {},
   "outputs": [
    {
     "name": "stdout",
     "output_type": "stream",
     "text": [
      "Subject 1-029\n",
      "Total spindle marks: 28\n",
      "Total N2 pages: 415\n"
     ]
    }
   ],
   "source": [
    "subject_id = dataset.all_ids[4]\n",
    "signal = dataset.get_subject_signal(subject_id, normalize_clip=False)\n",
    "marks = dataset.get_subject_stamps(subject_id, pages_subset=constants.N2_RECORD)\n",
    "n2_pages = dataset.get_subject_pages(subject_id, pages_subset=constants.N2_RECORD)\n",
    "print(\"Subject\", subject_id)\n",
    "print(\"Total spindle marks:\", marks.shape[0])\n",
    "print(\"Total N2 pages:\", n2_pages.size)"
   ]
  },
  {
   "cell_type": "code",
   "execution_count": 50,
   "metadata": {},
   "outputs": [],
   "source": [
    "def draw_single_page(n2_page_index_to_show, dpi):\n",
    "    selected_page = n2_pages[n2_page_index_to_show]\n",
    "    start_sample = int(selected_page * dataset.page_size)\n",
    "    end_sample = start_sample + dataset.page_size\n",
    "\n",
    "    segment_signal = signal[start_sample:end_sample]\n",
    "    segment_marks = utils.filter_stamps(marks, start_sample, end_sample)\n",
    "    sigma_signal = utils.broad_filter(segment_signal, fs, lowcut=11, highcut=16)\n",
    "    time_axis = np.arange(start_sample, end_sample) / fs\n",
    "\n",
    "    fig, axes = plt.subplots(2, 1, figsize=(12, 4), dpi=dpi, sharex=True, sharey=True)\n",
    "\n",
    "    axes[0].set_title(\"Subject %s, page in record %d\" % (subject_id, selected_page))\n",
    "    axes[0].plot(time_axis, segment_signal, linewidth=0.6)\n",
    "    axes[1].plot(time_axis, sigma_signal, linewidth=0.6)\n",
    "    for ax in axes.flatten():\n",
    "        ax.set_ylim([-150, 150])\n",
    "        ax.set_xlim([start_sample/fs, end_sample/fs])\n",
    "        for mark in segment_marks:\n",
    "            mark = np.clip(mark, a_min=start_sample, a_max=end_sample)\n",
    "            ax.plot(mark / fs, [-50, -50], linewidth=5, alpha=0.5, color=viz.PALETTE['red'])\n",
    "        ax.set_xticks(np.linspace(start_sample/fs, end_sample/fs, 41), minor=True)\n",
    "        ax.grid(axis=\"x\", which=\"minor\")\n",
    "    plt.tight_layout()\n",
    "    plt.show()\n",
    "\n",
    "    # power, freq = utils.power_spectrum(segment_signal, fs)\n",
    "    # fig, ax = plt.subplots(1, 1, figsize=(6, 4), dpi=120)\n",
    "    # ax.plot(freq, power, linewidth=0.7)\n",
    "    # ax.set_xlim([0, 30])\n",
    "    # ax.set_xlabel(\"Frequency (Hz)\")\n",
    "    # plt.show()"
   ]
  },
  {
   "cell_type": "code",
   "execution_count": 52,
   "metadata": {},
   "outputs": [
    {
     "name": "stdout",
     "output_type": "stream",
     "text": [
      "Total N2 pages: 415\n"
     ]
    },
    {
     "data": {
      "application/vnd.jupyter.widget-view+json": {
       "model_id": "9160ed7574c84cfa97d633ebb597c35e",
       "version_major": 2,
       "version_minor": 0
      },
      "text/plain": [
       "A Jupyter Widget"
      ]
     },
     "metadata": {},
     "output_type": "display_data"
    }
   ],
   "source": [
    "n2_page_index_to_show = 0 # 110\n",
    "\n",
    "\n",
    "dpi = 100\n",
    "print('Total N2 pages: %d' % n2_pages.size)\n",
    "style = {'description_width': 'initial'}\n",
    "layout= widgets.Layout(width='1000px')\n",
    "widgets.interact(\n",
    "    lambda page_id: draw_single_page(page_id, dpi=dpi),\n",
    "    page_id=widgets.IntSlider(\n",
    "        min=0, max=n2_pages.size-1, step=1, value=n2_page_index_to_show, \n",
    "        continuous_update=False,\n",
    "        style=style,\n",
    "        layout=layout\n",
    "    ));"
   ]
  },
  {
   "cell_type": "markdown",
   "metadata": {},
   "source": [
    "# Check duration histogram"
   ]
  },
  {
   "cell_type": "code",
   "execution_count": 53,
   "metadata": {},
   "outputs": [],
   "source": [
    "marks_list = dataset.get_stamps(pages_subset=constants.N2_RECORD)"
   ]
  },
  {
   "cell_type": "code",
   "execution_count": 55,
   "metadata": {},
   "outputs": [
    {
     "name": "stdout",
     "output_type": "stream",
     "text": [
      "(9460, 2)\n"
     ]
    }
   ],
   "source": [
    "marks = np.concatenate(marks_list, axis=0)\n",
    "print(marks.shape)"
   ]
  },
  {
   "cell_type": "code",
   "execution_count": 56,
   "metadata": {},
   "outputs": [],
   "source": [
    "durations = (marks[:, 1] - marks[:, 0]) / fs"
   ]
  },
  {
   "cell_type": "code",
   "execution_count": 83,
   "metadata": {},
   "outputs": [
    {
     "data": {
      "image/png": "[encoded data removed]",
      "text/plain": [
       "<matplotlib.figure.Figure at 0x7f6a4dc39780>"
      ]
     },
     "metadata": {},
     "output_type": "display_data"
    }
   ],
   "source": [
    "fig, ax = plt.subplots(1, 1, figsize=(4, 4), dpi=120)\n",
    "ax.hist(durations, bins=np.arange(0.3, 3.001, 0.2))\n",
    "plt.show()"
   ]
  },
  {
   "cell_type": "code",
   "execution_count": 62,
   "metadata": {},
   "outputs": [
    {
     "data": {
      "text/plain": [
       "3363"
      ]
     },
     "execution_count": 62,
     "metadata": {},
     "output_type": "execute_result"
    }
   ],
   "source": [
    "np.sum(durations < 0.5)"
   ]
  },
  {
   "cell_type": "code",
   "execution_count": 86,
   "metadata": {},
   "outputs": [
    {
     "name": "stdout",
     "output_type": "stream",
     "text": [
      "Suject 1-053:   8 SS marks,   7 less than 0.5s (87.50%). Mean duration: 0.420s\n",
      "Suject 1-029:  28 SS marks,  21 less than 0.5s (75.00%). Mean duration: 0.520s\n",
      "Suject 1-046: 124 SS marks,  81 less than 0.5s (65.32%). Mean duration: 0.608s\n",
      "Suject 1-057:  29 SS marks,  18 less than 0.5s (62.07%). Mean duration: 0.564s\n",
      "Suject 1-031:  23 SS marks,  14 less than 0.5s (60.87%). Mean duration: 0.530s\n",
      "Suject 1-093: 159 SS marks,  92 less than 0.5s (57.86%). Mean duration: 0.577s\n",
      "Suject 1-067: 170 SS marks,  96 less than 0.5s (56.47%). Mean duration: 0.566s\n",
      "Suject 1-058: 476 SS marks, 262 less than 0.5s (55.04%). Mean duration: 0.599s\n",
      "Suject 3-006: 114 SS marks,  62 less than 0.5s (54.39%). Mean duration: 0.557s\n",
      "Suject 1-092: 150 SS marks,  77 less than 0.5s (51.33%). Mean duration: 0.619s\n",
      "Suject 1-087: 145 SS marks,  73 less than 0.5s (50.34%). Mean duration: 0.601s\n",
      "Suject 1-065:  36 SS marks,  18 less than 0.5s (50.00%). Mean duration: 0.598s\n",
      "Suject 1-036: 126 SS marks,  62 less than 0.5s (49.21%). Mean duration: 0.616s\n",
      "Suject 1-072:  43 SS marks,  21 less than 0.5s (48.84%). Mean duration: 0.583s\n",
      "Suject 1-062: 369 SS marks, 177 less than 0.5s (47.97%). Mean duration: 0.615s\n",
      "Suject 3-007:  51 SS marks,  24 less than 0.5s (47.06%). Mean duration: 0.691s\n",
      "Suject 1-033: 207 SS marks,  97 less than 0.5s (46.86%). Mean duration: 0.605s\n",
      "Suject 3-002: 140 SS marks,  58 less than 0.5s (41.43%). Mean duration: 0.652s\n",
      "Suject 3-009: 261 SS marks, 102 less than 0.5s (39.08%). Mean duration: 0.683s\n",
      "Suject 1-050: 184 SS marks,  71 less than 0.5s (38.59%). Mean duration: 0.650s\n",
      "Suject 1-076: 506 SS marks, 185 less than 0.5s (36.56%). Mean duration: 0.690s\n",
      "Suject 1-038: 285 SS marks, 101 less than 0.5s (35.44%). Mean duration: 0.686s\n",
      "Suject 3-008: 197 SS marks,  69 less than 0.5s (35.03%). Mean duration: 0.679s\n",
      "Suject 1-079: 353 SS marks, 123 less than 0.5s (34.84%). Mean duration: 0.708s\n",
      "Suject 1-099: 575 SS marks, 197 less than 0.5s (34.26%). Mean duration: 0.706s\n",
      "Suject 1-027: 269 SS marks,  92 less than 0.5s (34.20%). Mean duration: 0.708s\n",
      "Suject 1-069: 168 SS marks,  56 less than 0.5s (33.33%). Mean duration: 0.692s\n",
      "Suject 3-001: 643 SS marks, 208 less than 0.5s (32.35%). Mean duration: 0.744s\n",
      "Suject 1-090: 372 SS marks, 116 less than 0.5s (31.18%). Mean duration: 0.707s\n",
      "Suject 1-018: 490 SS marks, 140 less than 0.5s (28.57%). Mean duration: 0.719s\n",
      "Suject 3-010: 124 SS marks,  34 less than 0.5s (27.42%). Mean duration: 0.836s\n",
      "Suject 1-098: 548 SS marks, 147 less than 0.5s (26.82%). Mean duration: 0.751s\n",
      "Suject 1-052: 590 SS marks, 142 less than 0.5s (24.07%). Mean duration: 0.784s\n",
      "Suject 1-003: 386 SS marks,  88 less than 0.5s (22.80%). Mean duration: 0.821s\n",
      "Suject 1-004: 654 SS marks, 142 less than 0.5s (21.71%). Mean duration: 0.883s\n",
      "Suject 1-048: 457 SS marks,  90 less than 0.5s (19.69%). Mean duration: 0.846s\n",
      "\n",
      " Mean of means in duration: 0.662s\n",
      "Mean of all durations aggregated: 0.712s\n"
     ]
    }
   ],
   "source": [
    "thr = 0.5\n",
    "all_msg = []\n",
    "all_fractions = []\n",
    "all_means = []\n",
    "for subject_id, subject_marks in zip(dataset.all_ids, marks_list):\n",
    "    subject_durations = (subject_marks[:, 1] - subject_marks[:, 0]) / fs\n",
    "    mean_duration = np.mean(subject_durations)\n",
    "    msg = \"Suject %s: %3d SS marks, %3d less than %ss (%1.2f%%). Mean duration: %1.3fs\" % (\n",
    "        subject_id, subject_durations.size, np.sum(subject_durations < thr), thr, 100 * np.sum(subject_durations < thr) / subject_durations.size, mean_duration)\n",
    "    all_msg.append(msg)\n",
    "    all_fractions.append(-100 * np.sum(subject_durations < thr) / subject_durations.size)\n",
    "    all_means.append(mean_duration)\n",
    "idx_sorted = np.argsort(all_fractions)\n",
    "all_msg = [all_msg[i] for i in idx_sorted]\n",
    "for msg in all_msg:\n",
    "    print(msg)\n",
    "    \n",
    "print(\"\\n Mean of means in duration: %1.3fs\" % np.mean(all_means))\n",
    "print(\"Mean of all durations aggregated: %1.3fs\" % np.mean(durations))"
   ]
  },
  {
   "cell_type": "code",
   "execution_count": null,
   "metadata": {},
   "outputs": [],
   "source": []
  }
 ],
 "metadata": {
  "kernelspec": {
   "display_name": "Python 3",
   "language": "python",
   "name": "python3"
  },
  "language_info": {
   "codemirror_mode": {
    "name": "ipython",
    "version": 3
   },
   "file_extension": ".py",
   "mimetype": "text/x-python",
   "name": "python",
   "nbconvert_exporter": "python",
   "pygments_lexer": "ipython3",
   "version": "3.6.9"
  }
 },
 "nbformat": 4,
 "nbformat_minor": 2
}
