{
 "cells": [
  {
   "cell_type": "code",
   "execution_count": null,
   "metadata": {},
   "outputs": [],
   "source": [
    "from __future__ import absolute_import\n",
    "from __future__ import division\n",
    "from __future__ import print_function\n",
    "\n",
    "import datetime\n",
    "import itertools\n",
    "import json\n",
    "import os\n",
    "import pickle\n",
    "from pprint import pprint\n",
    "import sys\n",
    "\n",
    "# TF logging control\n",
    "os.environ['TF_CPP_MIN_LOG_LEVEL'] = '2'\n",
    "\n",
    "import matplotlib.pyplot as plt\n",
    "import numpy as np\n",
    "\n",
    "project_root = os.path.abspath('..')\n",
    "sys.path.append(project_root)\n",
    "\n",
    "from sleeprnn.data import utils\n",
    "from sleeprnn.detection import metrics\n",
    "from sleeprnn.detection.feeder_dataset import FeederDataset\n",
    "from sleeprnn.helpers.reader import load_dataset\n",
    "from sleeprnn.common import constants\n",
    "from sleeprnn.common import checks\n",
    "from sleeprnn.common import pkeys, viz\n",
    "\n",
    "viz.notebook_full_width()"
   ]
  },
  {
   "cell_type": "code",
   "execution_count": null,
   "metadata": {},
   "outputs": [],
   "source": [
    "task_mode = constants.N2_RECORD\n",
    "dataset_name = constants.MASS_SS_NAME\n",
    "which_expert = 1\n",
    "\n",
    "params = pkeys.default_params.copy()\n",
    "dataset = load_dataset(dataset_name, params=params)"
   ]
  },
  {
   "cell_type": "code",
   "execution_count": null,
   "metadata": {},
   "outputs": [],
   "source": [
    "dataset.global_std = 16"
   ]
  },
  {
   "cell_type": "markdown",
   "metadata": {},
   "source": [
    "# Check page mask from parent dataset"
   ]
  },
  {
   "cell_type": "code",
   "execution_count": null,
   "metadata": {},
   "outputs": [],
   "source": [
    "signal, marks = dataset.get_subject_data(\n",
    "    dataset.all_ids[0],\n",
    "    pages_subset=constants.N2_RECORD,\n",
    "    normalization_mode=constants.N2_RECORD,\n",
    "    return_page_mask=False)"
   ]
  },
  {
   "cell_type": "code",
   "execution_count": null,
   "metadata": {},
   "outputs": [],
   "source": [
    "signal, marks, page_mask = dataset.get_subject_data(\n",
    "    dataset.all_ids[0],\n",
    "    augmented_page=True,\n",
    "    pages_subset=constants.N2_RECORD,\n",
    "    normalization_mode=constants.N2_RECORD,\n",
    "    return_page_mask=True)"
   ]
  },
  {
   "cell_type": "code",
   "execution_count": null,
   "metadata": {},
   "outputs": [],
   "source": [
    "page_mask_mean = page_mask.astype(np.float32).mean(axis=0)\n",
    "page_mask_mean.shape"
   ]
  },
  {
   "cell_type": "code",
   "execution_count": null,
   "metadata": {},
   "outputs": [],
   "source": [
    "plt.plot(page_mask_mean)\n",
    "plt.ylim([-0.1, 1.1])\n",
    "plt.show()"
   ]
  },
  {
   "cell_type": "code",
   "execution_count": null,
   "metadata": {},
   "outputs": [],
   "source": [
    "page_mask_mean[0]"
   ]
  },
  {
   "cell_type": "code",
   "execution_count": null,
   "metadata": {},
   "outputs": [],
   "source": [
    "page_mask_mean[1]"
   ]
  },
  {
   "cell_type": "code",
   "execution_count": null,
   "metadata": {},
   "outputs": [],
   "source": [
    "start_l = []\n",
    "end_l = []\n",
    "for subject_id in dataset.train_ids:\n",
    "    _, _, page_mask = dataset.get_subject_data(\n",
    "        subject_id,\n",
    "        augmented_page=True,\n",
    "        pages_subset=constants.N2_RECORD,\n",
    "        normalization_mode=constants.N2_RECORD,\n",
    "        return_page_mask=True)\n",
    "    page_mask_mean = page_mask.astype(np.float32).mean(axis=0)\n",
    "    start_border = page_mask_mean[0]\n",
    "    end_border = page_mask_mean[1]\n",
    "    # print(start_border, end_border)\n",
    "    start_l.append(start_border)\n",
    "    end_l.append(end_border)\n",
    "print(\"Mean\", np.mean(start_l), np.mean(end_l))\n",
    "print(\"Std\", np.std(start_l), np.std(end_l))"
   ]
  },
  {
   "cell_type": "code",
   "execution_count": null,
   "metadata": {},
   "outputs": [],
   "source": [
    "output = dataset.get_subject_data(\n",
    "    dataset.all_ids[0],\n",
    "    augmented_page=True,\n",
    "    pages_subset=constants.N2_RECORD,\n",
    "    normalization_mode=constants.N2_RECORD,\n",
    "    return_page_mask=True)\n",
    "for o in output:\n",
    "    print(o.shape, o.dtype)"
   ]
  },
  {
   "cell_type": "code",
   "execution_count": null,
   "metadata": {},
   "outputs": [],
   "source": [
    "outputs = dataset.get_subset_data(\n",
    "    dataset.all_ids[:4],\n",
    "    augmented_page=True,\n",
    "    pages_subset=constants.N2_RECORD,\n",
    "    normalization_mode=constants.N2_RECORD,\n",
    "    return_page_mask=True)\n",
    "for output in outputs:\n",
    "    for o in output:\n",
    "        print(o.shape, o.dtype)"
   ]
  },
  {
   "cell_type": "markdown",
   "metadata": {},
   "source": [
    "# Check feeder"
   ]
  },
  {
   "cell_type": "code",
   "execution_count": null,
   "metadata": {},
   "outputs": [],
   "source": [
    "subset_ids = dataset.all_ids[:4]\n",
    "data_feed = FeederDataset(dataset, subset_ids, task_mode, which_expert=which_expert)"
   ]
  },
  {
   "cell_type": "code",
   "execution_count": null,
   "metadata": {},
   "outputs": [],
   "source": [
    "outputs = data_feed.get_data_for_training(return_page_mask=True)\n",
    "for output in outputs:\n",
    "    for o in output:\n",
    "        print(o.shape, o.dtype)"
   ]
  },
  {
   "cell_type": "code",
   "execution_count": null,
   "metadata": {},
   "outputs": [],
   "source": []
  }
 ],
 "metadata": {
  "kernelspec": {
   "display_name": "Python 3",
   "language": "python",
   "name": "python3"
  },
  "language_info": {
   "codemirror_mode": {
    "name": "ipython",
    "version": 3
   },
   "file_extension": ".py",
   "mimetype": "text/x-python",
   "name": "python",
   "nbconvert_exporter": "python",
   "pygments_lexer": "ipython3",
   "version": "3.6.9"
  }
 },
 "nbformat": 4,
 "nbformat_minor": 2
}
