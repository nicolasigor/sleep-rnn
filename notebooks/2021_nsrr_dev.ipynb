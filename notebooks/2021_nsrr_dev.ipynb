{
 "cells": [
  {
   "cell_type": "code",
   "execution_count": null,
   "id": "8bf0077f",
   "metadata": {},
   "outputs": [],
   "source": [
    "import numpy as np\n",
    "import matplotlib.pyplot as plt\n",
    "import os\n",
    "import sys\n",
    "from pprint import pprint\n",
    "import pyedflib\n",
    "\n",
    "sys.path.append(\"..\")\n",
    "from sleeprnn.common import constants, pkeys, viz\n",
    "from sleeprnn.data import utils\n",
    "from nsrr import nsrr_utils\n",
    "from figs_thesis import fig_utils\n",
    "\n",
    "viz.notebook_full_width()\n",
    "%matplotlib inline"
   ]
  },
  {
   "cell_type": "markdown",
   "id": "7a6dd18c",
   "metadata": {},
   "source": [
    "# Observe NPZ files"
   ]
  },
  {
   "cell_type": "code",
   "execution_count": null,
   "id": "fd825cd0",
   "metadata": {},
   "outputs": [],
   "source": [
    "dataset_name = 'chat1'\n",
    "dataset_path = os.path.abspath(os.path.join(utils.PATH_DATA, dataset_name, 'register_and_state'))\n",
    "subject_files = os.listdir(dataset_path)\n",
    "subject_files = [f for f in subject_files if '.npz' in f]\n",
    "subject_files.sort()\n",
    "print(subject_files)"
   ]
  },
  {
   "cell_type": "code",
   "execution_count": null,
   "id": "a4a6b7ed",
   "metadata": {},
   "outputs": [],
   "source": [
    "single_file = subject_files[6]\n",
    "\n",
    "data_dict = np.load(os.path.join(dataset_path, single_file))\n",
    "\n",
    "for key in ['dataset', 'subject_id', 'channel', 'sampling_rate', 'epoch_duration', 'bandpass_filter', 'resampling_function', 'original_sampling_rate']:\n",
    "    print(key,\":\",data_dict[key])\n",
    "    \n",
    "signal = 1e3 * data_dict['signal']\n",
    "hypnogram = data_dict['hypnogram']\n",
    "fs = data_dict['sampling_rate']\n",
    "\n",
    "n2_id = 'Stage 2 sleep|2'\n",
    "w_id = 'Wake|0'\n",
    "n2_fraction = np.mean(hypnogram == n2_id)\n",
    "w_fraction = np.mean(hypnogram == w_id)\n",
    "print(\"\\nFraction of hypnogram in N2:\", n2_fraction)\n",
    "print(\"\\nFraction of hypnogram in W:\", w_fraction)\n",
    "\n",
    "fig, ax = plt.subplots(1, 1, figsize=(12, 3), dpi=80)\n",
    "ax.plot(hypnogram)\n",
    "plt.show()\n",
    "\n",
    "# ignorar inicios y fines en etapa Wake|0 o ?\n",
    "# mejor aun:only N2 como en cap, usando la segmentacion original de 30s\n",
    "epoch_samples = int(30 * fs)\n",
    "new_signal, new_hypnogram = nsrr_utils.short_signal_to_n2(signal, hypnogram, epoch_samples, n2_id)\n",
    "\n",
    "n2_fraction = np.mean(new_hypnogram == n2_id)\n",
    "print(\"\\nFraction of NEW hypnogram in N2:\", n2_fraction)\n",
    "print(\"New size as a fraction of original size:\", new_hypnogram.size / hypnogram.size)\n",
    "\n",
    "fig, ax = plt.subplots(1, 1, figsize=(12, 3), dpi=80)\n",
    "ax.plot(new_hypnogram)\n",
    "plt.show()\n"
   ]
  },
  {
   "cell_type": "code",
   "execution_count": null,
   "id": "0f0e2a13",
   "metadata": {},
   "outputs": [],
   "source": [
    "page_to_draw = 221 # 272\n",
    "\n",
    "epoch_samples = int(data_dict['epoch_duration'] * fs)\n",
    "start_sample = page_to_draw * epoch_samples\n",
    "end_sample = start_sample + epoch_samples\n",
    "\n",
    "segment_signal = signal[start_sample:end_sample]\n",
    "segment_signal = utils.apply_highpass(segment_signal, fs, 0.3)\n",
    "stage = hypnogram[page_to_draw]\n",
    "time_axis = np.arange(start_sample, end_sample) / fs\n",
    "\n",
    "fig, ax = plt.subplots(1, 1, figsize=(18, 2), dpi=100)\n",
    "ax.plot(time_axis, segment_signal, linewidth=0.7)\n",
    "title_str = 'subject %s, stage %s, channel %s' % (data_dict['subject_id'], stage, data_dict['channel'])\n",
    "ax.set_title(title_str)\n",
    "ax.set_ylim([-300, 300])\n",
    "ax.grid()\n",
    "plt.show()"
   ]
  },
  {
   "cell_type": "code",
   "execution_count": null,
   "id": "e42afb5c",
   "metadata": {},
   "outputs": [],
   "source": [
    "signal.std()"
   ]
  },
  {
   "cell_type": "code",
   "execution_count": null,
   "id": "12e01b0c",
   "metadata": {},
   "outputs": [],
   "source": [
    "freq, power = utils.power_spectrum_by_sliding_window(segment_signal, fs, window_duration=5)\n",
    "plt.plot(freq, power)\n",
    "# plt.xlim([2, 50])\n",
    "# plt.ylim([0, 0.002])\n",
    "plt.show()"
   ]
  },
  {
   "cell_type": "markdown",
   "id": "e6c48a46",
   "metadata": {},
   "source": [
    "# Observe original EDF file"
   ]
  },
  {
   "cell_type": "code",
   "execution_count": null,
   "id": "0ceddbb2",
   "metadata": {},
   "outputs": [],
   "source": [
    "dataset_name = 'chat1'\n",
    "dataset_path = os.path.abspath(os.path.join(utils.PATH_DATA, dataset_name, 'originals'))\n",
    "subject_files = os.listdir(dataset_path)\n",
    "subject_files = [f for f in subject_files if '.edf' in f]\n",
    "subject_files.sort()\n",
    "print(subject_files)"
   ]
  },
  {
   "cell_type": "code",
   "execution_count": null,
   "id": "372a889e",
   "metadata": {},
   "outputs": [],
   "source": [
    "single_file = subject_files[0]\n",
    "\n",
    "edf_filepath = os.path.join(dataset_path, single_file)\n",
    "channels = [\n",
    "    'REF X1',\n",
    "    'E1',\n",
    "    'E2',\n",
    "    'C3',\n",
    "    # 'C4',\n",
    "    'O1',\n",
    "    # 'O2',\n",
    "    'M1',\n",
    "    'M2' \n",
    "]\n",
    "data_dict = {}\n",
    "with pyedflib.EdfReader(edf_filepath) as file:\n",
    "    channel_names = file.getSignalLabels()\n",
    "    print(\"channels:\")\n",
    "    pprint(channel_names)\n",
    "    for channel in channels:\n",
    "        channel_to_extract = channel_names.index(channel)\n",
    "        signal = 1e3 * file.readSignal(channel_to_extract)\n",
    "        fs = file.samplefrequency(channel_to_extract)\n",
    "        data_dict[channel] = signal.astype(np.float32)\n",
    "new_channel = 'C3-M2'\n",
    "data_dict[new_channel] = data_dict['C3'] - data_dict['M2']\n",
    "channels.append(new_channel)\n",
    "\n",
    "new_channel = 'M2_filt'\n",
    "data_dict[new_channel] = utils.apply_lowpass(data_dict['M2'], fs=int(np.round(fs)), cutoff=20)\n",
    "channels.append(new_channel)\n",
    "\n",
    "new_channel = 'C3-M2filt'\n",
    "data_dict[new_channel] = data_dict['C3'] - data_dict['M2_filt']\n",
    "channels.append(new_channel)"
   ]
  },
  {
   "cell_type": "code",
   "execution_count": null,
   "id": "44a7d5bf",
   "metadata": {},
   "outputs": [],
   "source": [
    "fs = int(np.round(fs))\n",
    "page_duration = 30\n",
    "page_size = int(page_duration * fs)\n",
    "n_pages = data_dict[channels[0]].size / page_size\n",
    "print(\"Total pages\", n_pages)"
   ]
  },
  {
   "cell_type": "code",
   "execution_count": null,
   "id": "eb2f6865",
   "metadata": {},
   "outputs": [],
   "source": [
    "page_chosen = 400\n",
    "\n",
    "\n",
    "start_sample = page_chosen * page_size\n",
    "end_sample = start_sample + page_size\n",
    "time_axis = np.arange(start_sample, end_sample) / fs\n",
    "fig, axes = plt.subplots(len(channels), 1, figsize=(14, 1.5 * len(channels)), dpi=80, sharey=True)\n",
    "for i, channel in enumerate(channels):\n",
    "    ax = axes[i]\n",
    "    ax.tick_params(labelsize=8)\n",
    "    ax.plot(time_axis, data_dict[channel][start_sample:end_sample], linewidth=0.8, label=channel)\n",
    "    ax.legend(loc=\"upper right\", fontsize=8)\n",
    "    \n",
    "plt.tight_layout()\n",
    "plt.show()"
   ]
  },
  {
   "cell_type": "code",
   "execution_count": null,
   "id": "7ff42f83",
   "metadata": {},
   "outputs": [],
   "source": [
    "freq, power = utils.power_spectrum_by_sliding_window(data_dict['M2'][start_sample:end_sample], 200, window_duration=5)\n",
    "freq2, power2 = utils.power_spectrum_by_sliding_window(data_dict['E1'][start_sample:end_sample], 200, window_duration=5)\n",
    "freq3, power3 = utils.power_spectrum_by_sliding_window(data_dict['M2_filt'][start_sample:end_sample], 200, window_duration=5)\n",
    "plt.plot(freq, power)\n",
    "plt.plot(freq2, power2)\n",
    "plt.plot(freq3, power3)\n",
    "plt.xlim([2, 50])\n",
    "plt.ylim([0, 0.005])\n",
    "plt.show()"
   ]
  },
  {
   "cell_type": "code",
   "execution_count": null,
   "id": "5547a6dc",
   "metadata": {},
   "outputs": [],
   "source": [
    "file = pyedflib.EdfReader(edf_filepath)"
   ]
  },
  {
   "cell_type": "code",
   "execution_count": null,
   "id": "c6b4707f",
   "metadata": {},
   "outputs": [],
   "source": [
    "file."
   ]
  }
 ],
 "metadata": {
  "kernelspec": {
   "display_name": "Python 3",
   "language": "python",
   "name": "python3"
  },
  "language_info": {
   "codemirror_mode": {
    "name": "ipython",
    "version": 3
   },
   "file_extension": ".py",
   "mimetype": "text/x-python",
   "name": "python",
   "nbconvert_exporter": "python",
   "pygments_lexer": "ipython3",
   "version": "3.7.10"
  }
 },
 "nbformat": 4,
 "nbformat_minor": 5
}
