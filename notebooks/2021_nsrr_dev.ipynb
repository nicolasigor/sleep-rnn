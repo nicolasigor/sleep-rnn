{
 "cells": [
  {
   "cell_type": "code",
   "execution_count": null,
   "id": "8bf0077f",
   "metadata": {},
   "outputs": [],
   "source": [
    "import numpy as np\n",
    "import matplotlib.pyplot as plt\n",
    "import os\n",
    "import sys\n",
    "\n",
    "sys.path.append(\"..\")\n",
    "from sleeprnn.common import constants, pkeys, viz\n",
    "from sleeprnn.data import utils\n",
    "from nsrr import nsrr_utils\n",
    "\n",
    "viz.notebook_full_width()\n",
    "%matplotlib inline"
   ]
  },
  {
   "cell_type": "code",
   "execution_count": null,
   "id": "fd825cd0",
   "metadata": {},
   "outputs": [],
   "source": [
    "dataset_name = 'mros1'\n",
    "dataset_path = os.path.abspath(os.path.join(utils.PATH_DATA, dataset_name, 'register_and_state'))\n",
    "subject_files = os.listdir(dataset_path)\n",
    "subject_files = [f for f in subject_files if '.npz' in f]\n",
    "print(subject_files)"
   ]
  },
  {
   "cell_type": "code",
   "execution_count": null,
   "id": "a4a6b7ed",
   "metadata": {},
   "outputs": [],
   "source": [
    "single_file = subject_files[2]\n",
    "\n",
    "data_dict = np.load(os.path.join(dataset_path, single_file))\n",
    "\n",
    "for key in ['dataset', 'subject_id', 'channel', 'sampling_rate', 'epoch_duration', 'bandpass_filter', 'resampling_function', 'original_sampling_rate']:\n",
    "    print(key,\":\",data_dict[key])\n",
    "    \n",
    "signal = data_dict['signal']\n",
    "hypnogram = data_dict['hypnogram']\n",
    "fs = data_dict['sampling_rate']\n",
    "\n",
    "n2_id = 'Stage 2 sleep|2'\n",
    "w_id = 'Wake|0'\n",
    "n2_fraction = np.mean(hypnogram == n2_id)\n",
    "w_fraction = np.mean(hypnogram == w_id)\n",
    "print(\"\\nFraction of hypnogram in N2:\", n2_fraction)\n",
    "print(\"\\nFraction of hypnogram in W:\", w_fraction)\n",
    "\n",
    "fig, ax = plt.subplots(1, 1, figsize=(12, 3), dpi=80)\n",
    "ax.plot(hypnogram)\n",
    "plt.show()\n",
    "\n",
    "# ignorar inicios y fines en etapa Wake|0 o ?\n",
    "# mejor aun:only N2 como en cap, usando la segmentacion original de 30s\n",
    "epoch_samples = int(30 * fs)\n",
    "new_signal, new_hypnogram = nsrr_utils.short_signal_to_n2(signal, hypnogram, epoch_samples, n2_id)\n",
    "\n",
    "n2_fraction = np.mean(new_hypnogram == n2_id)\n",
    "print(\"\\nFraction of NEW hypnogram in N2:\", n2_fraction)\n",
    "print(\"New size as a fraction of original size:\", new_hypnogram.size / hypnogram.size)\n",
    "\n",
    "fig, ax = plt.subplots(1, 1, figsize=(12, 3), dpi=80)\n",
    "ax.plot(new_hypnogram)\n",
    "plt.show()\n"
   ]
  },
  {
   "cell_type": "code",
   "execution_count": null,
   "id": "0f0e2a13",
   "metadata": {},
   "outputs": [],
   "source": []
  },
  {
   "cell_type": "code",
   "execution_count": null,
   "id": "e42afb5c",
   "metadata": {},
   "outputs": [],
   "source": []
  },
  {
   "cell_type": "code",
   "execution_count": null,
   "id": "12e01b0c",
   "metadata": {},
   "outputs": [],
   "source": []
  }
 ],
 "metadata": {
  "kernelspec": {
   "display_name": "Python 3",
   "language": "python",
   "name": "python3"
  },
  "language_info": {
   "codemirror_mode": {
    "name": "ipython",
    "version": 3
   },
   "file_extension": ".py",
   "mimetype": "text/x-python",
   "name": "python",
   "nbconvert_exporter": "python",
   "pygments_lexer": "ipython3",
   "version": "3.7.10"
  }
 },
 "nbformat": 4,
 "nbformat_minor": 5
}
