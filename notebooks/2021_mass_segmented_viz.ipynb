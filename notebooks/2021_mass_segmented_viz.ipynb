{
 "cells": [
  {
   "cell_type": "code",
   "execution_count": null,
   "metadata": {},
   "outputs": [],
   "source": [
    "import os\n",
    "from pprint import pprint\n",
    "import sys\n",
    "import json\n",
    "\n",
    "import ipywidgets as widgets\n",
    "import matplotlib.pyplot as plt\n",
    "import numpy as np\n",
    "import pandas as pd\n",
    "\n",
    "sys.path.append('..')\n",
    "\n",
    "from sleeprnn.common import viz\n",
    "from sleeprnn.data import utils\n",
    "\n",
    "viz.notebook_full_width()\n",
    "%matplotlib inline\n",
    "\n",
    "DATASET_DIR = os.path.abspath(os.path.join(utils.PATH_DATA, 'moda'))"
   ]
  },
  {
   "cell_type": "code",
   "execution_count": null,
   "metadata": {},
   "outputs": [],
   "source": [
    "fs = 256\n",
    "border_duration = 30\n",
    "dataset = np.load(os.path.join(DATASET_DIR, 'segments/moda_preprocessed_segments.npz'))\n",
    "signals = dataset['signals']\n",
    "labels = dataset['labels']\n",
    "subjects = dataset['subjects']\n",
    "phases = dataset['phases']"
   ]
  },
  {
   "cell_type": "markdown",
   "metadata": {},
   "source": [
    "# Sanity checks"
   ]
  },
  {
   "cell_type": "code",
   "execution_count": null,
   "metadata": {},
   "outputs": [],
   "source": [
    "for key in dataset.files:\n",
    "    print(key, dataset[key].shape, dataset[key].dtype)"
   ]
  },
  {
   "cell_type": "code",
   "execution_count": null,
   "metadata": {},
   "outputs": [],
   "source": [
    "np.sum(phases == 1)"
   ]
  },
  {
   "cell_type": "code",
   "execution_count": null,
   "metadata": {},
   "outputs": [],
   "source": [
    "np.sum(phases == 2)"
   ]
  },
  {
   "cell_type": "code",
   "execution_count": null,
   "metadata": {},
   "outputs": [],
   "source": [
    "np.unique(subjects).size"
   ]
  },
  {
   "cell_type": "code",
   "execution_count": null,
   "metadata": {},
   "outputs": [],
   "source": [
    "np.unique(subjects[phases == 1]).size"
   ]
  },
  {
   "cell_type": "code",
   "execution_count": null,
   "metadata": {},
   "outputs": [],
   "source": [
    "np.unique(subjects[phases == 2]).size"
   ]
  },
  {
   "cell_type": "code",
   "execution_count": null,
   "metadata": {},
   "outputs": [],
   "source": [
    "signals.shape[0] * 115 / 3600"
   ]
  },
  {
   "cell_type": "code",
   "execution_count": null,
   "metadata": {},
   "outputs": [],
   "source": []
  },
  {
   "cell_type": "code",
   "execution_count": null,
   "metadata": {},
   "outputs": [],
   "source": [
    "total_pages = signals.shape[0] * 120 / 20\n",
    "n_folds = 5\n",
    "test_pages = int(total_pages / n_folds)\n",
    "val_pages = int((total_pages - test_pages) / n_folds)\n",
    "train_pages = total_pages - test_pages - val_pages\n",
    "print(\"test %d, val %d, train %d\" % (test_pages, val_pages, train_pages))"
   ]
  },
  {
   "cell_type": "code",
   "execution_count": null,
   "metadata": {},
   "outputs": [],
   "source": [
    "signals_valid = signals[:, 30*256:-30*256]\n",
    "signals_valid.shape"
   ]
  },
  {
   "cell_type": "code",
   "execution_count": null,
   "metadata": {},
   "outputs": [],
   "source": [
    "plt.hist(signals_valid.flatten(), bins=30)\n",
    "plt.title(\"Signal amplitudes (uV)\")\n",
    "plt.show()"
   ]
  },
  {
   "cell_type": "code",
   "execution_count": null,
   "metadata": {},
   "outputs": [],
   "source": [
    "signals_valid.min(), signals_valid.max(), signals_valid.mean(), signals_valid.std()"
   ]
  },
  {
   "cell_type": "code",
   "execution_count": null,
   "metadata": {},
   "outputs": [],
   "source": [
    "min_in_segments = signals_valid.min(axis=1)\n",
    "max_in_segments = signals_valid.max(axis=1)"
   ]
  },
  {
   "cell_type": "code",
   "execution_count": null,
   "metadata": {},
   "outputs": [],
   "source": [
    "plt.hist(min_in_segments)\n",
    "plt.title(\"Min val in each segment (uV)\")\n",
    "plt.show()"
   ]
  },
  {
   "cell_type": "code",
   "execution_count": null,
   "metadata": {},
   "outputs": [],
   "source": [
    "plt.hist(max_in_segments)\n",
    "plt.title(\"Max val in each segment (uV)\")\n",
    "plt.show()"
   ]
  },
  {
   "cell_type": "code",
   "execution_count": null,
   "metadata": {},
   "outputs": [],
   "source": [
    "choose = np.where(min_in_segments < -220)[0][0]\n",
    "chosen_signal = signals_valid[choose, :]\n",
    "print(chosen_signal.size / fs)\n",
    "start_sec = 70\n",
    "end_sec = 80\n",
    "\n",
    "time_axis = np.arange(chosen_signal.size) / fs\n",
    "plt.figure(figsize=(10, 3), dpi=80)\n",
    "plt.plot(time_axis[fs*start_sec:fs*end_sec], signals[choose, :][fs*start_sec:fs*end_sec], linewidth=0.8)\n",
    "plt.show()"
   ]
  },
  {
   "cell_type": "code",
   "execution_count": null,
   "metadata": {},
   "outputs": [],
   "source": [
    "_, counts = np.unique(subjects[phases==2], return_counts=True)\n",
    "n_blocks, freq = np.unique(counts, return_counts=True)\n",
    "print(n_blocks, freq)"
   ]
  },
  {
   "cell_type": "markdown",
   "metadata": {},
   "source": [
    "# Spindle labels distributions across the length of the segments"
   ]
  },
  {
   "cell_type": "code",
   "execution_count": null,
   "metadata": {},
   "outputs": [],
   "source": [
    "np.unique(np.clip(labels.sum(axis=0), a_min=None, a_max = 0), return_counts=True)"
   ]
  },
  {
   "cell_type": "code",
   "execution_count": null,
   "metadata": {},
   "outputs": [],
   "source": [
    "labels_valid = labels[:, border_duration*fs:-border_duration*fs]\n",
    "labels_valid.shape\n",
    "plt.figure(figsize=(10, 2), dpi=140)\n",
    "plt.plot(labels_valid.sum(axis=0), linewidth=0.8, linestyle=\"none\", marker='o', markersize=1)\n",
    "plt.show()\n"
   ]
  },
  {
   "cell_type": "code",
   "execution_count": null,
   "metadata": {},
   "outputs": [],
   "source": [
    "np.where(labels_valid.sum(axis=0)<20)[0].size - 36"
   ]
  },
  {
   "cell_type": "code",
   "execution_count": null,
   "metadata": {},
   "outputs": [],
   "source": [
    "36/fs, 33/fs"
   ]
  },
  {
   "cell_type": "code",
   "execution_count": null,
   "metadata": {},
   "outputs": [],
   "source": [
    "labels_valid.sum(axis=0).min()"
   ]
  },
  {
   "cell_type": "markdown",
   "metadata": {},
   "source": [
    "# Activity distribution across segments"
   ]
  },
  {
   "cell_type": "code",
   "execution_count": null,
   "metadata": {},
   "outputs": [],
   "source": [
    "labels_valid = labels[:, border_duration*fs:-border_duration*fs]\n",
    "n_labels_in_segment = labels_valid.sum(axis=1)\n",
    "n_seconds_in_segment = n_labels_in_segment / fs\n",
    "plt.hist(n_seconds_in_segment, bins=40)\n",
    "plt.xlabel(\"seconds of spindles\")\n",
    "plt.show()"
   ]
  },
  {
   "cell_type": "code",
   "execution_count": null,
   "metadata": {},
   "outputs": [],
   "source": [
    "near_empty_locs = np.where(n_labels_in_segment < fs*0.3)[0]\n",
    "near_empty_labels = labels_valid[near_empty_locs]\n",
    "print(near_empty_locs.size)\n",
    "np.unique(near_empty_labels.sum(axis=1), return_counts=True)"
   ]
  },
  {
   "cell_type": "code",
   "execution_count": null,
   "metadata": {},
   "outputs": [],
   "source": [
    "start_sec = 110\n",
    "end_sec = 120\n",
    "plt.figure(figsize=(10, 2), dpi=100)\n",
    "plt.plot(signals_valid[near_empty_locs[0], :][fs*start_sec:fs*end_sec], linewidth=0.8)\n",
    "plt.show()"
   ]
  },
  {
   "cell_type": "code",
   "execution_count": null,
   "metadata": {},
   "outputs": [],
   "source": [
    "labels_valid = labels[:, border_duration*fs:-border_duration*fs]\n",
    "spindles = [utils.seq2stamp(l_valid) for l_valid in labels_valid]"
   ]
  },
  {
   "cell_type": "code",
   "execution_count": null,
   "metadata": {},
   "outputs": [],
   "source": [
    "n_spindles_per_segment = [s.shape[0] for s in spindles]\n",
    "plt.hist(n_spindles_per_segment)\n",
    "plt.xlabel(\"n spindles in segments\")\n",
    "plt.show()"
   ]
  },
  {
   "cell_type": "code",
   "execution_count": null,
   "metadata": {},
   "outputs": [],
   "source": [
    "spindles_all = np.concatenate(spindles, axis=0)\n",
    "durations = (spindles_all[:, 1] - spindles_all[:, 0]) / fs\n",
    "plt.hist(durations)\n",
    "plt.xlabel(\"spindle duration\")\n",
    "plt.show()"
   ]
  },
  {
   "cell_type": "markdown",
   "metadata": {},
   "source": [
    "# Density and number of spindles per subject"
   ]
  },
  {
   "cell_type": "code",
   "execution_count": null,
   "metadata": {},
   "outputs": [],
   "source": [
    "subject_ids = np.unique(subjects)\n",
    "densities = []\n",
    "numbers = []\n",
    "n_blocks = []\n",
    "for subject_id in subject_ids:\n",
    "    subject_locs = np.where(subjects == subject_id)[0]\n",
    "    labels_subject = labels[subject_locs]\n",
    "    labels_subject_valid = labels_subject[:, border_duration*fs:-border_duration*fs]\n",
    "    subject_spindles = [utils.seq2stamp(l_valid) for l_valid in labels_subject_valid]\n",
    "    n_spindles = np.concatenate(subject_spindles, axis=0).shape[0]\n",
    "    n_seconds = subject_locs.size * 115\n",
    "    density_spm = n_spindles / n_seconds * 60\n",
    "    densities.append(density_spm)\n",
    "    numbers.append(n_spindles)\n",
    "    n_blocks.append(subject_locs.size)\n",
    "densities = np.array(densities)\n",
    "numbers = np.array(numbers)\n",
    "n_blocks = np.array(n_blocks)"
   ]
  },
  {
   "cell_type": "code",
   "execution_count": null,
   "metadata": {},
   "outputs": [],
   "source": [
    "plt.hist(densities)\n",
    "plt.xlabel(\"Density (spm)\")\n",
    "plt.show()"
   ]
  },
  {
   "cell_type": "code",
   "execution_count": null,
   "metadata": {},
   "outputs": [],
   "source": [
    "plt.hist(numbers)\n",
    "plt.xlabel(\"Spindles per subject\")\n",
    "plt.show()"
   ]
  },
  {
   "cell_type": "code",
   "execution_count": null,
   "metadata": {},
   "outputs": [],
   "source": [
    "numbers[numbers <= 0].size\n"
   ]
  },
  {
   "cell_type": "code",
   "execution_count": null,
   "metadata": {},
   "outputs": [],
   "source": [
    "plt.hist(numbers[n_blocks==10], bins=30)\n",
    "plt.xlabel(\"Spindles per subject\")\n",
    "plt.show()"
   ]
  },
  {
   "cell_type": "code",
   "execution_count": null,
   "metadata": {},
   "outputs": [],
   "source": [
    "print(numbers[n_blocks==10].min())"
   ]
  },
  {
   "cell_type": "markdown",
   "metadata": {},
   "source": [
    "# Visualizar páginas "
   ]
  },
  {
   "cell_type": "code",
   "execution_count": null,
   "metadata": {},
   "outputs": [],
   "source": [
    "page_duration = 20\n",
    "print(\"There are %d segments of 115s\" % signals.shape[0])\n",
    "print(\"There are %s pages of 20s per segment\" % (signals[:, border_duration*fs:-border_duration*fs].shape[1] / page_duration / fs))\n",
    "# We adopt the strategy here of adding 2.5s of \"border\" at the beginning and end of each block"
   ]
  },
  {
   "cell_type": "code",
   "execution_count": null,
   "metadata": {},
   "outputs": [],
   "source": [
    "def draw_signal(segment_id, page_id):\n",
    "    fig, ax = plt.subplots(1, 1, figsize=(12, 2), dpi=140)\n",
    "    \n",
    "    border_block = int((border_duration - 2.5) * fs)\n",
    "    block_signal = signals[segment_id, border_block:-border_block]\n",
    "    block_label = labels[segment_id, border_block:-border_block]\n",
    "    \n",
    "    start_sample = int(page_id * page_duration * fs)\n",
    "    end_sample = int(start_sample + page_duration * fs)\n",
    "    \n",
    "    page_signal = block_signal[start_sample:end_sample]\n",
    "    page_label = block_label[start_sample:end_sample]\n",
    "    page_label = np.clip(page_label, a_min=0, a_max=1)\n",
    "    \n",
    "    time_axis = np.arange(-2.5, 115+2.5, 1/fs)\n",
    "    page_time_axis = time_axis[start_sample:end_sample]\n",
    "    \n",
    "    mask = ((time_axis < 2.5) | (time_axis > 115)).astype(np.int32)\n",
    "    page_mask = mask[start_sample:end_sample]\n",
    "    \n",
    "    ax.plot(page_time_axis, page_signal, linewidth=0.7)\n",
    "    ax.fill_between(page_time_axis, page_mask * -150, page_mask * 150, facecolor=viz.PALETTE['grey'], linewidth=0.2, alpha=0.3)\n",
    "    ax.fill_between(page_time_axis, page_label * -50, page_label * -60, facecolor=viz.PALETTE['red'], linewidth=0.2)\n",
    "    ax.set_title(\"Segment %d, page %s (Subject %s, Phase %d)\" % (segment_id, page_id, subjects[segment_id], phases[segment_id]))\n",
    "    ax.set_ylim([-150, 150])\n",
    "    ax.set_xlim([page_time_axis[0], page_time_axis[-1]])\n",
    "    \n",
    "    plt.show()"
   ]
  },
  {
   "cell_type": "code",
   "execution_count": null,
   "metadata": {},
   "outputs": [],
   "source": [
    "segment_id = 200\n",
    "\n",
    "style = {'description_width': 'initial'}\n",
    "layout= widgets.Layout(width='1000px')\n",
    "widgets.interact(\n",
    "    lambda page_id: draw_signal(segment_id, page_id),\n",
    "    page_id=widgets.FloatSlider(\n",
    "        min=0, max=5, step=0.5, value=0, \n",
    "        continuous_update=False,\n",
    "        style=style,\n",
    "        layout=layout\n",
    "    ));"
   ]
  },
  {
   "cell_type": "code",
   "execution_count": null,
   "metadata": {},
   "outputs": [],
   "source": []
  }
 ],
 "metadata": {
  "kernelspec": {
   "display_name": "Python 3",
   "language": "python",
   "name": "python3"
  },
  "language_info": {
   "codemirror_mode": {
    "name": "ipython",
    "version": 3
   },
   "file_extension": ".py",
   "mimetype": "text/x-python",
   "name": "python",
   "nbconvert_exporter": "python",
   "pygments_lexer": "ipython3",
   "version": "3.6.9"
  }
 },
 "nbformat": 4,
 "nbformat_minor": 2
}
