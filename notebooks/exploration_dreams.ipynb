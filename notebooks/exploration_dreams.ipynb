{
 "cells": [
  {
   "cell_type": "markdown",
   "metadata": {},
   "source": [
    "# DREAMS database inspection"
   ]
  },
  {
   "cell_type": "code",
   "execution_count": 1,
   "metadata": {},
   "outputs": [
    {
     "data": {
      "text/html": [
       "<style>.container { width:100% !important; }</style>"
      ],
      "text/plain": [
       "<IPython.core.display.HTML object>"
      ]
     },
     "metadata": {},
     "output_type": "display_data"
    }
   ],
   "source": [
    "from __future__ import absolute_import\n",
    "from __future__ import division\n",
    "from __future__ import print_function\n",
    "\n",
    "import os\n",
    "import sys\n",
    "import json\n",
    "from pprint import pprint\n",
    "import collections\n",
    "\n",
    "import matplotlib.pyplot as plt\n",
    "from matplotlib import colors\n",
    "import numpy as np\n",
    "import ipywidgets as widgets\n",
    "from matplotlib import gridspec\n",
    "from scipy.stats import gaussian_kde\n",
    "from tqdm import tqdm\n",
    "\n",
    "project_root = os.path.abspath('..')\n",
    "sys.path.append(project_root)\n",
    "\n",
    "from sleeprnn.data.loader import load_dataset\n",
    "from sleeprnn.data.dataset import KEY_EEG, KEY_N2_PAGES, KEY_ALL_PAGES, KEY_MARKS\n",
    "from sleeprnn.data.utils import seq2stamp, stamp2seq, seq2stamp_with_pages, power_spectrum\n",
    "from sleeprnn.data import utils\n",
    "from sleeprnn.detection.metrics import by_sample_confusion, by_sample_iou, by_event_confusion, matching\n",
    "from sleeprnn.common import constants, pkeys, checks\n",
    "\n",
    "SEED_LIST = [123, 234, 345, 456]\n",
    "RESULTS_PATH = os.path.join(project_root, 'results')\n",
    "COMPARISON_PATH = os.path.join(project_root, 'resources', 'comparison_data')\n",
    "DPI = 200\n",
    "CUSTOM_COLOR = {'red': '#c62828', 'grey': '#455a64', 'blue': '#0277bd', 'green': '#43a047'} \n",
    "\n",
    "%matplotlib inline\n",
    "from IPython.core.display import display, HTML\n",
    "display(HTML(\"<style>.container { width:100% !important; }</style>\"))"
   ]
  },
  {
   "cell_type": "code",
   "execution_count": 19,
   "metadata": {
    "scrolled": true
   },
   "outputs": [
    {
     "name": "stdout",
     "output_type": "stream",
     "text": [
      "Train size: 5. Test size: 3\n",
      "Train subjects: \n",
      " [1, 3, 5, 6, 8]\n",
      "Test subjects: \n",
      " [2, 4, 7]\n",
      "Dataset dreams_ss with 8 patients.\n",
      "Loading from checkpoint... Loaded\n",
      "Global STD: 18.076723\n"
     ]
    }
   ],
   "source": [
    "dataset_name = constants.DREAMS_SS_NAME\n",
    "dataset = load_dataset(dataset_name)"
   ]
  },
  {
   "cell_type": "markdown",
   "metadata": {},
   "source": [
    "## Checking general numbers"
   ]
  },
  {
   "cell_type": "code",
   "execution_count": 20,
   "metadata": {},
   "outputs": [
    {
     "name": "stdout",
     "output_type": "stream",
     "text": [
      "Sample frequency: 200\n",
      "Page duration and size: 20 4000\n",
      "Registers ids: [1, 2, 3, 4, 5, 6, 7, 8]\n",
      "Number of loaded registers: 8\n",
      "\n",
      "Train set IDs: [1, 3, 5, 6, 8]\n",
      "Test set IDs: [2, 4, 7]\n",
      "S01, N2 stamps: 52 / 52. N2 pages 60.0 %\n",
      "S02, N2 stamps: 52 / 58. N2 pages 53.3 %\n",
      "S03, N2 stamps: 5 / 5. N2 pages 62.2 %\n",
      "S04, N2 stamps: 8 / 44. N2 pages 40.0 %\n",
      "S05, N2 stamps: 52 / 55. N2 pages 56.7 %\n",
      "S06, N2 stamps: 62 / 70. N2 pages 58.9 %\n",
      "S07, N2 stamps: 16 / 18. N2 pages 67.8 %\n",
      "S08, N2 stamps: 48 / 48. N2 pages 74.4 %\n"
     ]
    }
   ],
   "source": [
    "print('Sample frequency:', dataset.fs)\n",
    "print('Page duration and size:', dataset.page_duration, dataset.page_size)\n",
    "print('Registers ids:', dataset.all_ids)\n",
    "print('Number of loaded registers:', len(dataset.data))\n",
    "print('')\n",
    "print('Train set IDs:', dataset.train_ids)\n",
    "print('Test set IDs:', dataset.test_ids)\n",
    "\n",
    "for subject_id in dataset.all_ids:\n",
    "    single_stamps_all = dataset.get_subject_stamps(subject_id=subject_id, pages_subset=constants.WN_RECORD)\n",
    "    single_stamps_n2 = dataset.get_subject_stamps(subject_id=subject_id, pages_subset=constants.N2_RECORD)\n",
    "    single_n2_pages = dataset.get_subject_pages(subject_id=subject_id, pages_subset=constants.N2_RECORD)\n",
    "    print('S%02d, N2 stamps: %d / %d. N2 pages %1.1f %%' % (subject_id, single_stamps_n2.shape[0], single_stamps_all.shape[0], 100*single_n2_pages.size/90))"
   ]
  },
  {
   "cell_type": "code",
   "execution_count": 21,
   "metadata": {},
   "outputs": [],
   "source": [
    "single_stamps_all = dataset.get_subject_stamps(subject_id=4, pages_subset=constants.WN_RECORD)\n",
    "single_hypno = dataset.get_subject_hypnogram(subject_id=4)\n",
    "\n",
    "# Look for stamps touching state 5\n",
    "\n",
    "\n",
    "\n",
    "# Touching state 4"
   ]
  },
  {
   "cell_type": "markdown",
   "metadata": {},
   "source": [
    "## Distribution of signal"
   ]
  },
  {
   "cell_type": "code",
   "execution_count": 4,
   "metadata": {},
   "outputs": [
    {
     "name": "stdout",
     "output_type": "stream",
     "text": [
      "N subjects: 8\n",
      "Normalizing with IQR\n",
      "Normalizing with IQR\n",
      "Normalizing with IQR\n",
      "Normalizing with IQR\n",
      "Normalizing with IQR\n",
      "Normalizing with IQR\n",
      "Normalizing with IQR\n",
      "Normalizing with IQR\n"
     ]
    },
    {
     "data": {
      "image/png": "[encoded data removed]",
      "text/plain": [
       "<Figure size 1300x400 with 12 Axes>"
      ]
     },
     "metadata": {
      "needs_background": "light"
     },
     "output_type": "display_data"
    }
   ],
   "source": [
    "n_ids = len(dataset.all_ids)\n",
    "print('N subjects:', n_ids)\n",
    "\n",
    "n_rows = 3\n",
    "n_cols = 4\n",
    "\n",
    "fig, ax = plt.subplots(n_rows, n_cols, dpi=100, figsize=(13, 4), sharex=True)\n",
    "for i, sub_id in enumerate(dataset.all_ids):\n",
    "    this_row = int(i / n_cols)\n",
    "    this_col = i - this_row * n_cols\n",
    "    n2_signal, _ = dataset.get_subject_data(sub_id, normalize_clip=True)\n",
    "    ax[this_row, this_col].hist(n2_signal.flatten(), label='ID %02d' % sub_id, bins=40, color='k', alpha=0.6)\n",
    "    ax[this_row, this_col].set_yticks([])\n",
    "    ax[this_row, this_col].set_xlim([-10, 10])\n",
    "    # ax[this_row, this_col].set_xlim([-150, 150])\n",
    "    ax[this_row, this_col].legend(loc='upper right')\n",
    "    if this_row == n_rows-1:\n",
    "        ax[this_row, this_col].set_xlabel('Signal value')\n",
    "\n",
    "for j in range(i + 1, n_rows * n_cols):\n",
    "    this_row = int(j / n_cols)\n",
    "    this_col = j - this_row * n_cols\n",
    "    ax[this_row, this_col].set_yticks([])\n",
    "    if this_row == n_rows-1:\n",
    "        ax[this_row, this_col].set_xlabel('Signal value')\n",
    "\n",
    "fig.suptitle('Distribution of normalized EEG signals during N2 pages (DREAMS database)')\n",
    "# plt.tight_layout()\n",
    "plt.show()"
   ]
  },
  {
   "cell_type": "markdown",
   "metadata": {},
   "source": [
    "## Check one subject"
   ]
  },
  {
   "cell_type": "code",
   "execution_count": null,
   "metadata": {},
   "outputs": [],
   "source": []
  },
  {
   "cell_type": "code",
   "execution_count": 11,
   "metadata": {},
   "outputs": [],
   "source": [
    "subject_id = 4\n",
    "show_only_n2 = False\n",
    "\n",
    "band_pass_freqs = [12, 14]\n",
    "\n",
    "# -----\n",
    "channel_name = 'Cz-A1'\n",
    "task_mode = constants.N2_RECORD\n",
    "if show_only_n2:\n",
    "    pages_subset = constants.N2_RECORD\n",
    "else:\n",
    "    pages_subset = constants.WN_RECORD\n",
    "\n",
    "this_pages = dataset.get_subject_pages(subject_id=subject_id, pages_subset=pages_subset)\n",
    "this_hypnogram = dataset.get_subject_hypnogram(subject_id=subject_id)\n",
    "this_signal = dataset.get_subject_signal(subject_id=subject_id, normalize_clip=False)\n",
    "this_stamps = dataset.get_subject_stamps(subject_id=subject_id, pages_subset=pages_subset)\n",
    "\n",
    "event_name = dataset.event_name\n",
    "\n",
    "fs_real = dataset.fs\n",
    "\n",
    "\n",
    "def filter_stamps(stamps, single_page, page_size):\n",
    "    pages_list = []\n",
    "    for i in range(stamps.shape[0]):\n",
    "        stamp_start_page = stamps[i, 0] // page_size\n",
    "        stamp_end_page = stamps[i, 1] // page_size\n",
    "\n",
    "        start_inside = (stamp_start_page == single_page)\n",
    "        end_inside = (stamp_end_page == single_page)\n",
    "\n",
    "        if start_inside or end_inside:\n",
    "            pages_list.append(stamps[i, :])\n",
    "    return pages_list\n",
    "\n",
    "\n",
    "def plot_page(page_idx):\n",
    "    fig = plt.figure(figsize=(12, 3), dpi=DPI)\n",
    "    gs = gridspec.GridSpec(2, 1, height_ratios=[4, 2])\n",
    "    \n",
    "    page_idx = page_idx - 1\n",
    "    page_chosen = this_pages[page_idx]\n",
    "    page_state = this_hypnogram[page_chosen]\n",
    "    page_start = page_chosen * dataset.page_size\n",
    "    page_end = page_start + dataset.page_size\n",
    "    segment_signal = this_signal[page_start:page_end]\n",
    "    segment_stamps = filter_stamps(this_stamps, page_chosen, dataset.page_size)\n",
    "    time_axis_real = np.arange(page_start, page_end) / fs_real\n",
    "    \n",
    "    gs_idx = 0\n",
    "    \n",
    "    # Signal\n",
    "    y_max = 150\n",
    "    ax = fig.add_subplot(gs[gs_idx])\n",
    "    gs_idx = gs_idx + 1\n",
    "    ax.plot(\n",
    "        time_axis_real, segment_signal, \n",
    "        linewidth=1, color=CUSTOM_COLOR['grey'], label='EEG %s' % channel_name)\n",
    "    stamp_label_used = False\n",
    "    for expert_stamp in segment_stamps:\n",
    "        if stamp_label_used:\n",
    "            label = None\n",
    "        else:\n",
    "            label = event_name\n",
    "            stamp_label_used = True\n",
    "        ax.fill_between(\n",
    "            expert_stamp / fs_real, y_max, -y_max, \n",
    "            facecolor=CUSTOM_COLOR['blue'], alpha=0.3, label=label,\n",
    "            edgecolor='k', linewidth=1.5, \n",
    "        )\n",
    "    ax.set_yticks([])\n",
    "    ax.set_xlim([time_axis_real[0], time_axis_real[-1]])\n",
    "    ax.set_ylim([-y_max, y_max])\n",
    "    ax.set_title('Subject %d (%s). Page in record: %d. State %s (intervals of 0.5s are shown).' \n",
    "                 % (subject_id, dataset_name.upper(), page_chosen, page_state), fontsize=10)\n",
    "    ax.set_xticks([\n",
    "        time_axis_real[0], \n",
    "        time_axis_real[0] + 5, \n",
    "        time_axis_real[0] + 10, \n",
    "        time_axis_real[0] + 15, \n",
    "        time_axis_real[0] + 20])\n",
    "    ax.set_xticks(np.arange(time_axis_real[0], time_axis_real[-1], 0.5), minor=True)\n",
    "    ax.grid(b=True, axis='x', which='minor')\n",
    "    lg = ax.legend(loc='upper right', fontsize=8.5)\n",
    "    # lh = lg.legendHandles[1]\n",
    "    # lh.set_facecolor(lh.get_facecolor())\n",
    "    # lh.set_alpha(1.0)\n",
    "    ax.tick_params(labelsize=8.5)\n",
    "    \n",
    "    # Band pass Signal\n",
    "    y_max = 50\n",
    "    ax = fig.add_subplot(gs[gs_idx])\n",
    "    gs_idx = gs_idx + 1\n",
    "    segment_signal_filtered = utils.narrow_filter(segment_signal, fs_real, band_pass_freqs[0], band_pass_freqs[1])\n",
    "    ax.plot(\n",
    "        time_axis_real, segment_signal_filtered, \n",
    "        linewidth=1, color=CUSTOM_COLOR['grey'], label='EEG %s' % channel_name)\n",
    "    stamp_label_used = False\n",
    "    for expert_stamp in segment_stamps:\n",
    "        if stamp_label_used:\n",
    "            label = None\n",
    "        else:\n",
    "            label = event_name\n",
    "            stamp_label_used = True\n",
    "        ax.fill_between(\n",
    "            expert_stamp / fs_real, y_max, -y_max, \n",
    "            facecolor=CUSTOM_COLOR['blue'], alpha=0.3, label=label,\n",
    "            edgecolor='k', linewidth=1.5, \n",
    "        )\n",
    "    ax.set_yticks([])\n",
    "    ax.set_xlim([time_axis_real[0], time_axis_real[-1]])\n",
    "    ax.set_ylim([-y_max, y_max])\n",
    "    ax.set_title('Bandpass filtered signal (%s Hz)' % band_pass_freqs, fontsize=10)\n",
    "    ax.set_xticks([\n",
    "        time_axis_real[0], \n",
    "        time_axis_real[0] + 5, \n",
    "        time_axis_real[0] + 10, \n",
    "        time_axis_real[0] + 15, \n",
    "        time_axis_real[0] + 20])\n",
    "    ax.set_xticks(np.arange(time_axis_real[0], time_axis_real[-1], 0.5), minor=True)\n",
    "    ax.grid(b=True, axis='x', which='minor')\n",
    "    lg = ax.legend(loc='upper right', fontsize=8.5)\n",
    "    # lh = lg.legendHandles[1]\n",
    "    # lh.set_facecolor(lh.get_facecolor())\n",
    "    # lh.set_alpha(1.0)\n",
    "    ax.tick_params(labelsize=8.5)\n",
    "    \n",
    "    plt.tight_layout()\n",
    "    plt.show()"
   ]
  },
  {
   "cell_type": "code",
   "execution_count": 12,
   "metadata": {},
   "outputs": [
    {
     "data": {
      "application/vnd.jupyter.widget-view+json": {
       "model_id": "f2eed9ee96af418eb61108414e747c6b",
       "version_major": 2,
       "version_minor": 0
      },
      "text/plain": [
       "interactive(children=(IntSlider(value=1, continuous_update=False, description='page_idx', max=88, min=1), Outp…"
      ]
     },
     "metadata": {},
     "output_type": "display_data"
    }
   ],
   "source": [
    "widgets.interact(\n",
    "    lambda page_idx: plot_page(page_idx),\n",
    "    page_idx=widgets.IntSlider(min=1,max=this_pages.shape[0],step=1,value=1, continuous_update=False));"
   ]
  },
  {
   "cell_type": "code",
   "execution_count": null,
   "metadata": {},
   "outputs": [],
   "source": []
  }
 ],
 "metadata": {
  "kernelspec": {
   "display_name": "Python 3",
   "language": "python",
   "name": "python3"
  },
  "language_info": {
   "codemirror_mode": {
    "name": "ipython",
    "version": 3
   },
   "file_extension": ".py",
   "mimetype": "text/x-python",
   "name": "python",
   "nbconvert_exporter": "python",
   "pygments_lexer": "ipython3",
   "version": "3.6.8"
  }
 },
 "nbformat": 4,
 "nbformat_minor": 2
}
