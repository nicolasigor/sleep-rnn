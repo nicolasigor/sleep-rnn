{
 "cells": [
  {
   "cell_type": "code",
   "execution_count": 1,
   "metadata": {},
   "outputs": [],
   "source": [
    "from __future__ import absolute_import\n",
    "from __future__ import division\n",
    "from __future__ import print_function\n",
    "\n",
    "import os\n",
    "import time\n",
    "import sys\n",
    "\n",
    "import numpy as np\n",
    "import pyedflib\n",
    "import matplotlib.pyplot as plt\n",
    "\n",
    "sys.path.append(\"..\")\n",
    "\n",
    "from sleeprnn.common import constants, viz\n",
    "from sleeprnn.data import utils\n",
    "from sleeprnn.data import stamp_correction\n",
    "from sleeprnn.data.dataset import Dataset\n",
    "from sleeprnn.data.dataset import KEY_EEG, KEY_N2_PAGES, KEY_ALL_PAGES, KEY_MARKS, KEY_HYPNOGRAM\n",
    "from sleeprnn.helpers import reader\n",
    "\n",
    "PATH_INTA_RELATIVE = 'inta'\n",
    "PATH_REC = 'register'\n",
    "PATH_MARKS = os.path.join('label', 'spindle')\n",
    "PATH_STATES = os.path.join('label', 'state')\n",
    "\n",
    "KEY_FILE_EEG = 'file_eeg'\n",
    "KEY_FILE_STATES = 'file_states'\n",
    "KEY_FILE_MARKS = 'file_marks'"
   ]
  },
  {
   "cell_type": "code",
   "execution_count": null,
   "metadata": {},
   "outputs": [],
   "source": [
    "# INTA parameters\n",
    "# ---- constructor\n",
    "original_page_duration = 30\n",
    "channel = 0\n",
    "state_ids = np.array([1, 2, 3, 4, 5, 6])\n",
    "n2_id = 3\n",
    "names = np.array([\n",
    "    'ADGU',\n",
    "    'ALUR',\n",
    "    'BECA',\n",
    "    'BRCA',\n",
    "    'BRLO',\n",
    "    'BTOL',\n",
    "    'CAPO',\n",
    "    'CRCA',\n",
    "    'ESCI',\n",
    "    'TAGO'\n",
    "    ])\n",
    "min_ss_duration = 0.5\n",
    "max_ss_duration = None\n",
    "all_ids = np.arange(1, names.size + 1).tolist()\n",
    "dataset_dir = os.path.join('..', 'resources/datasets/inta')\n",
    "dataset_name = 'inta_ss'\n",
    "fs = 200\n",
    "page_size = 4000\n",
    "page_duration = 20"
   ]
  },
  {
   "cell_type": "code",
   "execution_count": null,
   "metadata": {},
   "outputs": [],
   "source": [
    "def get_file_paths():\n",
    "    data_paths = {}\n",
    "    register_files = os.listdir(os.path.join(dataset_dir, PATH_REC))\n",
    "    state_files = os.listdir(os.path.join(dataset_dir, PATH_STATES))\n",
    "    spindle_files = os.listdir(os.path.join(dataset_dir, PATH_MARKS))\n",
    "    register_files = [f for f in register_files if '.rec' in f]\n",
    "    state_files = [f for f in state_files if 'StagesOnly' in f]\n",
    "    spindle_files_manual_fix = [f for f in spindle_files if 'Revision_SS' in f]\n",
    "    spindle_files_auto_fix = [f for f in spindle_files if 'NewerWinsFix_v2_SS' in f]\n",
    "    for subject_id in all_ids:\n",
    "        subject_name = names[subject_id - 1]\n",
    "        print(subject_name)\n",
    "        # Find rec\n",
    "        subject_recs = [f for f in register_files if subject_name in f]\n",
    "        subject_recs.sort()\n",
    "        path_eeg_file = tuple([\n",
    "            os.path.join(dataset_dir, PATH_REC, f)\n",
    "            for f in subject_recs\n",
    "        ])\n",
    "        # Find states\n",
    "        subject_states = [f for f in state_files if subject_name in f]\n",
    "        subject_states.sort()\n",
    "        path_states_file = tuple([\n",
    "            os.path.join(dataset_dir, PATH_STATES, f)\n",
    "            for f in subject_states\n",
    "        ])\n",
    "        # Find spindles\n",
    "        subject_spindles = [f for f in spindle_files_manual_fix if subject_name in f]\n",
    "        if len(subject_spindles) == 0:\n",
    "            subject_spindles = [f for f in spindle_files_auto_fix if subject_name in f]\n",
    "        subject_spindles.sort()\n",
    "        path_marks_1_file = tuple([\n",
    "            os.path.join(dataset_dir, PATH_MARKS, f)\n",
    "            for f in subject_spindles\n",
    "        ])\n",
    "        # Save paths\n",
    "        ind_dict = {\n",
    "            KEY_FILE_EEG: path_eeg_file,\n",
    "            KEY_FILE_STATES: path_states_file,\n",
    "            '%s_1' % KEY_FILE_MARKS: path_marks_1_file\n",
    "        }\n",
    "        data_paths[subject_id] = ind_dict\n",
    "    print('%d records in %s dataset.' % (len(data_paths), dataset_name))\n",
    "    print('Subject IDs: %s' % all_ids)\n",
    "    return data_paths"
   ]
  },
  {
   "cell_type": "code",
   "execution_count": null,
   "metadata": {},
   "outputs": [],
   "source": [
    "data_paths = get_file_paths()"
   ]
  },
  {
   "cell_type": "code",
   "execution_count": null,
   "metadata": {},
   "outputs": [],
   "source": [
    "def read_eeg(path_eeg_file):\n",
    "    \"\"\"Loads signal from 'path_eeg_file', does filtering.\"\"\"\n",
    "    with pyedflib.EdfReader(path_eeg_file) as file:\n",
    "        signal = file.readSignal(channel)\n",
    "        fs_old = file.samplefrequency(channel)\n",
    "        # Check\n",
    "        print('Channel extracted: %s' % file.getLabel(channel))\n",
    "    # Particular for INTA dataset\n",
    "    fs_old = int(np.round(fs_old))\n",
    "    # Broand bandpass filter to signal\n",
    "    signal = utils.broad_filter(signal, fs_old)\n",
    "    # Now resample to the required frequency\n",
    "    if fs != fs_old:\n",
    "        print('Resampling from %d Hz to required %d Hz' % (fs_old, fs))\n",
    "        signal = utils.resample_signal(signal, fs_old=fs_old, fs_new=fs)\n",
    "    else:\n",
    "        print('Signal already at required %d Hz' % fs)\n",
    "    signal = signal.astype(np.float32)\n",
    "    return signal"
   ]
  },
  {
   "cell_type": "code",
   "execution_count": null,
   "metadata": {},
   "outputs": [],
   "source": [
    "def read_marks(path_marks_file):\n",
    "    \"\"\"Loads data spindle annotations from 'path_marks_file'.\n",
    "    Marks with a duration outside feasible boundaries are removed.\n",
    "    Returns the sample-stamps of each mark.\"\"\"\n",
    "    # Recovery sample-stamps\n",
    "    marks_file = np.loadtxt(path_marks_file, dtype='i', delimiter=' ')\n",
    "    marks = marks_file[marks_file[:, 5] == channel + 1][:, [0, 1]]\n",
    "    marks = np.round(marks).astype(np.int32)\n",
    "    # Sample-stamps assume 200Hz sampling rate\n",
    "    marks_fs = 200\n",
    "    if fs != marks_fs:\n",
    "        print('Correcting marks from 200 Hz to %d Hz' % fs)\n",
    "        # We need to transform the marks to the new sampling rate\n",
    "        marks_time = marks.astype(np.float32) / marks_fs\n",
    "        # Transform to sample-stamps\n",
    "        marks = np.round(marks_time * fs).astype(np.int32)\n",
    "    # Combine marks that are too close according to standards\n",
    "    marks = stamp_correction.combine_close_stamps(marks, fs, min_ss_duration)\n",
    "    # Fix durations that are outside standards\n",
    "    marks = stamp_correction.filter_duration_stamps(marks, fs, min_ss_duration, max_ss_duration)\n",
    "    return marks"
   ]
  },
  {
   "cell_type": "code",
   "execution_count": null,
   "metadata": {},
   "outputs": [],
   "source": [
    "def read_states(path_states_file, signal, block_duration):\n",
    "    states = np.loadtxt(path_states_file, dtype='i', delimiter=' ')\n",
    "    # Crop signal and states to a valid length\n",
    "    block_size = block_duration * fs\n",
    "    n_blocks = np.floor(signal.size / block_size)\n",
    "    max_sample = int(n_blocks * block_size)\n",
    "    print(signal.size / fs)\n",
    "    signal = signal[:max_sample]\n",
    "    print(signal.size /fs)\n",
    "    max_page = int(signal.size / (original_page_duration * fs))\n",
    "    print(states.size)\n",
    "    states = states[:max_page]\n",
    "    print(states.size)\n",
    "    return signal, states"
   ]
  },
  {
   "cell_type": "code",
   "execution_count": null,
   "metadata": {},
   "outputs": [],
   "source": [
    "def load_from_source():\n",
    "    # Fusion BTOL's two files\n",
    "    \"\"\"Loads the data from files and transforms it appropriately.\"\"\"\n",
    "    data_paths = get_file_paths()\n",
    "    data = {}\n",
    "    n_data = len(data_paths)\n",
    "    block_duration = np.lcm(page_duration, original_page_duration)\n",
    "    print(block_duration)\n",
    "    start = time.time()\n",
    "    for i, subject_id in enumerate(data_paths.keys()):\n",
    "        print('\\nLoading ID %d' % subject_id)\n",
    "        path_dict = data_paths[subject_id]\n",
    "        if len(path_dict[KEY_FILE_EEG]) == 2:\n",
    "            signal_1 = read_eeg(path_dict[KEY_FILE_EEG][0])\n",
    "            signal_2 = read_eeg(path_dict[KEY_FILE_EEG][1])\n",
    "            signal_1, hypnogram_original_1 = self._read_states(\n",
    "                path_dict[KEY_FILE_STATES][0], signal_1, block_duration)\n",
    "            signal_2, hypnogram_original_2 = self._read_states(\n",
    "                path_dict[KEY_FILE_STATES][1], signal_2, block_duration)\n",
    "            # signal = np.concatenate([signal_1, np.zeros(self.page_size), signal_2])\n",
    "        else:\n",
    "            signal = read_eeg(path_dict[KEY_FILE_EEG][0])\n",
    "            signal, hypnogram_original = read_states(\n",
    "                path_dict[KEY_FILE_STATES][0], signal, block_duration)\n",
    "            marks_1 = read_marks(path_dict['%s_1' % KEY_FILE_MARKS][0])\n",
    "        # Read the rest\n",
    "        n2_pages = self._get_n2_pages(hypnogram_original)\n",
    "        total_pages = int(np.ceil(signal.size / page_size))\n",
    "        all_pages = np.arange(1, total_pages - 1, dtype=np.int16)\n",
    "        print('N2 pages: %d' % n2_pages.shape[0])\n",
    "        print('Whole-night pages: %d' % all_pages.shape[0])\n",
    "        print('Marks SS from E1: %d' % marks_1.shape[0])\n",
    "\n",
    "        # Save data\n",
    "        ind_dict = {\n",
    "            KEY_EEG: signal,\n",
    "            KEY_N2_PAGES: n2_pages,\n",
    "            KEY_ALL_PAGES: all_pages,\n",
    "            KEY_HYPNOGRAM: hypnogram_original,\n",
    "            '%s_1' % KEY_MARKS: marks_1\n",
    "        }\n",
    "        data[subject_id] = ind_dict\n",
    "        print('Loaded ID %d (%02d/%02d ready). Time elapsed: %1.4f [s]'\n",
    "              % (subject_id, i+1, n_data, time.time()-start))\n",
    "    print('%d records have been read.' % len(data))\n",
    "    return data"
   ]
  },
  {
   "cell_type": "code",
   "execution_count": null,
   "metadata": {},
   "outputs": [],
   "source": [
    "data = load_from_source()"
   ]
  },
  {
   "cell_type": "code",
   "execution_count": null,
   "metadata": {},
   "outputs": [],
   "source": []
  },
  {
   "cell_type": "code",
   "execution_count": null,
   "metadata": {},
   "outputs": [],
   "source": [
    "block_duration = np.lcm(page_duration, original_page_duration)\n",
    "path_dict = data_paths[6]\n",
    "signal_1 = read_eeg(path_dict[KEY_FILE_EEG][0])\n",
    "signal_2 = read_eeg(path_dict[KEY_FILE_EEG][1])\n",
    "print(signal_1.size / 200, signal_2.size / 200)\n",
    "signal_1, hypnogram_original_1 = read_states(\n",
    "    path_dict[KEY_FILE_STATES][0], signal_1, block_duration)\n",
    "signal_2, hypnogram_original_2 = read_states(\n",
    "    path_dict[KEY_FILE_STATES][1], signal_2, block_duration)\n",
    "print(signal_1.size / 200, signal_2.size / 200)"
   ]
  },
  {
   "cell_type": "code",
   "execution_count": null,
   "metadata": {},
   "outputs": [],
   "source": [
    "block_duration "
   ]
  },
  {
   "cell_type": "code",
   "execution_count": null,
   "metadata": {},
   "outputs": [],
   "source": [
    "np.sum(hypnogram_original_1 == 3) + np.sum(hypnogram_original_2 == 3)"
   ]
  },
  {
   "cell_type": "code",
   "execution_count": null,
   "metadata": {},
   "outputs": [],
   "source": [
    "449 * 30 / 20"
   ]
  },
  {
   "cell_type": "code",
   "execution_count": null,
   "metadata": {},
   "outputs": [],
   "source": [
    "hypnogram_original_1.size"
   ]
  },
  {
   "cell_type": "code",
   "execution_count": null,
   "metadata": {},
   "outputs": [],
   "source": [
    "hypnogram_original_2.size"
   ]
  },
  {
   "cell_type": "code",
   "execution_count": null,
   "metadata": {},
   "outputs": [],
   "source": [
    "544 + 496"
   ]
  },
  {
   "cell_type": "code",
   "execution_count": null,
   "metadata": {},
   "outputs": [],
   "source": [
    "(signal_1.size + signal_2.size + 60 * 200) / 4000"
   ]
  },
  {
   "cell_type": "code",
   "execution_count": null,
   "metadata": {},
   "outputs": [],
   "source": [
    "signal_1.size / (original_page_duration * fs)"
   ]
  },
  {
   "cell_type": "markdown",
   "metadata": {},
   "source": [
    "# Check IntaSS object "
   ]
  },
  {
   "cell_type": "code",
   "execution_count": 2,
   "metadata": {},
   "outputs": [
    {
     "name": "stdout",
     "output_type": "stream",
     "text": [
      "Dataset inta_ss with 10 patients.\n",
      "Loading from checkpoint... Loaded\n",
      "Global STD: None\n"
     ]
    }
   ],
   "source": [
    "dataset = reader.load_dataset('inta_ss')"
   ]
  },
  {
   "cell_type": "code",
   "execution_count": 45,
   "metadata": {},
   "outputs": [
    {
     "name": "stdout",
     "output_type": "stream",
     "text": [
      "\n",
      "ADGU\n",
      "1927 SS, 12.65 spm, mean dur 1.13 s\n",
      "\n",
      "ALUR\n",
      "1229 SS, 6.53 spm, mean dur 1.59 s\n",
      "\n",
      "BECA\n",
      "359 SS, 1.85 spm, mean dur 1.06 s\n",
      "\n",
      "BRCA\n",
      "1530 SS, 5.80 spm, mean dur 1.18 s\n",
      "\n",
      "BRLO\n",
      "934 SS, 5.12 spm, mean dur 1.37 s\n",
      "\n",
      "BTOL\n",
      "1368 SS, 6.05 spm, mean dur 1.28 s\n",
      "\n",
      "CAPO\n",
      "1094 SS, 5.64 spm, mean dur 1.33 s\n",
      "\n",
      "CRCA\n",
      "1636 SS, 6.78 spm, mean dur 0.97 s\n",
      "\n",
      "ESCI\n",
      "846 SS, 5.33 spm, mean dur 1.14 s\n",
      "\n",
      "TAGO\n",
      "1041 SS, 5.91 spm, mean dur 1.29 s\n"
     ]
    }
   ],
   "source": [
    "densities = []\n",
    "mean_durations = []\n",
    "all_durations = []\n",
    "total_n2_pages = 0\n",
    "total_spindles = 0\n",
    "for subject_id in dataset.all_ids:\n",
    "    print(\"\")\n",
    "    print(dataset.get_name(subject_id))\n",
    "    n2_pages = dataset.get_subject_pages(subject_id, constants.N2_RECORD)\n",
    "    marks = dataset.get_subject_stamps(subject_id, pages_subset=constants.N2_RECORD)\n",
    "    density = marks.shape[0] / n2_pages.size * 3\n",
    "    durations = (marks[:, 1] - marks[:, 0] + 1) / dataset.fs\n",
    "    print(\"%d SS, %1.2f spm, mean dur %1.2f s\" % (marks.shape[0], density, np.mean(durations)))\n",
    "    densities.append(density)\n",
    "    mean_durations.append(np.mean(durations))\n",
    "    all_durations.append(durations)\n",
    "    total_n2_pages += n2_pages.size\n",
    "    total_spindles += marks.shape[0]"
   ]
  },
  {
   "cell_type": "code",
   "execution_count": 38,
   "metadata": {},
   "outputs": [
    {
     "data": {
      "image/png": "[encoded data removed]",
      "text/plain": [
       "<matplotlib.figure.Figure at 0x7feed73214a8>"
      ]
     },
     "metadata": {},
     "output_type": "display_data"
    }
   ],
   "source": [
    "revised = ['ALUR', 'CAPO', 'TAGO']\n",
    "manual_not_shown = True\n",
    "auto_not_shown = True\n",
    "fig, ax = plt.subplots(1, 1, figsize=(6, 4), dpi=100)\n",
    "for subject_id in dataset.all_ids:\n",
    "    subject_name = dataset.get_name(subject_id)\n",
    "    if subject_name in revised:\n",
    "        color = viz.PALETTE['green']\n",
    "        label = \"Expert visual fix\" if manual_not_shown else None\n",
    "        manual_not_shown = False\n",
    "    else:\n",
    "        color = viz.PALETTE['blue']\n",
    "        label = \"Automatic fix\" if auto_not_shown else None\n",
    "        auto_not_shown = False\n",
    "    ax.plot(\n",
    "        subject_id, densities[subject_id-1], linestyle=\"none\", marker='o', color=color, markersize=10,\n",
    "        label=label)\n",
    "ax.set_xticks(dataset.all_ids)\n",
    "ax.set_xticklabels(dataset.names)\n",
    "ax.set_xlabel(\"Subject name\")\n",
    "ax.set_ylabel(\"Density (spm)\")\n",
    "ax.grid()\n",
    "ax.legend()\n",
    "ax.set_title(\"INTA-UCH spindle dataset (F3-C3 EEG channel)\")\n",
    "plt.show()"
   ]
  },
  {
   "cell_type": "code",
   "execution_count": 44,
   "metadata": {},
   "outputs": [
    {
     "name": "stdout",
     "output_type": "stream",
     "text": [
      "total n2 pages of 20s: 5930 (32.94 h)\n"
     ]
    }
   ],
   "source": [
    "print(\"total n2 pages of 20s: %d (%1.2f h)\" % (total_n2_pages, total_n2_pages * 20 / 3600))"
   ]
  },
  {
   "cell_type": "code",
   "execution_count": 46,
   "metadata": {},
   "outputs": [
    {
     "data": {
      "text/plain": [
       "11964"
      ]
     },
     "execution_count": 46,
     "metadata": {},
     "output_type": "execute_result"
    }
   ],
   "source": [
    "total_spindles"
   ]
  },
  {
   "cell_type": "code",
   "execution_count": 47,
   "metadata": {},
   "outputs": [],
   "source": [
    "stacked_durations = np.concatenate(all_durations)"
   ]
  },
  {
   "cell_type": "code",
   "execution_count": 66,
   "metadata": {},
   "outputs": [
    {
     "data": {
      "image/png": "[encoded data removed]",
      "text/plain": [
       "<matplotlib.figure.Figure at 0x7feed6d85630>"
      ]
     },
     "metadata": {},
     "output_type": "display_data"
    }
   ],
   "source": [
    "plt.figure(dpi=200)\n",
    "plt.hist(stacked_durations, bins=20)\n",
    "plt.xlim([0, None])\n",
    "plt.title(\"INTA-UCH spindles\")\n",
    "plt.xlabel(\"Duration (s)\")\n",
    "plt.show()"
   ]
  },
  {
   "cell_type": "code",
   "execution_count": 55,
   "metadata": {},
   "outputs": [
    {
     "data": {
      "text/plain": [
       "10.26"
      ]
     },
     "execution_count": 55,
     "metadata": {},
     "output_type": "execute_result"
    }
   ],
   "source": [
    "stacked_durations.max()"
   ]
  },
  {
   "cell_type": "code",
   "execution_count": 64,
   "metadata": {},
   "outputs": [
    {
     "data": {
      "text/plain": [
       "56"
      ]
     },
     "execution_count": 64,
     "metadata": {},
     "output_type": "execute_result"
    }
   ],
   "source": [
    "np.sum(stacked_durations >= 4)"
   ]
  },
  {
   "cell_type": "code",
   "execution_count": 88,
   "metadata": {
    "scrolled": false
   },
   "outputs": [
    {
     "data": {
      "image/png": "[encoded data removed]",
      "text/plain": [
       "<matplotlib.figure.Figure at 0x7feed70ed400>"
      ]
     },
     "metadata": {},
     "output_type": "display_data"
    },
    {
     "name": "stdout",
     "output_type": "stream",
     "text": [
      "Revised outside max_duration: 14\n",
      "Auto outside max_duration: 5\n"
     ]
    }
   ],
   "source": [
    "revised_durations = []\n",
    "auto_durations = []\n",
    "for i, durations in enumerate(all_durations):\n",
    "    subject_name = dataset.get_name(i+1)\n",
    "    if subject_name in revised:\n",
    "        revised_durations.append(durations)\n",
    "    else:\n",
    "        auto_durations.append(durations)\n",
    "revised_durations = np.concatenate(revised_durations)\n",
    "auto_durations = np.concatenate(auto_durations)\n",
    "\n",
    "max_duration = 5.0\n",
    "fig, ax = plt.subplots(1, 2, dpi=200, figsize=(7, 3), sharex=True)\n",
    "bins = np.arange(0, 10+0.001, 0.5)\n",
    "ax[0].hist(revised_durations, bins=bins, color=viz.PALETTE['green'])\n",
    "ax[1].hist(auto_durations, bins=bins, color=viz.PALETTE['blue'])\n",
    "ax[0].set_xlim([0, None])\n",
    "ax[1].set_xlim([0, None])\n",
    "ax[0].set_title(\"INTA-UCH spindles\\nExpert visual fix (n=3)\")\n",
    "ax[1].set_title(\"INTA-UCH spindles\\nAutomatic fix (n=7)\")\n",
    "ax[0].set_xlabel(\"Duration (s)\")\n",
    "ax[1].set_xlabel(\"Duration (s)\")\n",
    "ax[0].axvline(max_duration, color=\"k\", linestyle=\"--\")\n",
    "ax[1].axvline(max_duration, color=\"k\", linestyle=\"--\")\n",
    "plt.tight_layout()\n",
    "plt.show()\n",
    "\n",
    "print(\"Revised outside max_duration:\", np.sum(revised_durations > max_duration))\n",
    "print(\"Auto outside max_duration:\", np.sum(auto_durations > max_duration))"
   ]
  },
  {
   "cell_type": "code",
   "execution_count": 8,
   "metadata": {},
   "outputs": [
    {
     "name": "stdout",
     "output_type": "stream",
     "text": [
      "(array([ 3,  4,  7,  8,  9, 10]), array([1, 6]), array([2, 5]))\n",
      "(array([ 2,  4,  5,  7,  9, 10]), array([3, 8]), array([1, 6]))\n",
      "(array([ 1,  2,  5,  6,  9, 10]), array([4, 7]), array([3, 8]))\n",
      "(array([1, 2, 3, 5, 6, 8]), array([ 9, 10]), array([4, 7]))\n",
      "(array([1, 3, 4, 6, 7, 8]), array([2, 5]), array([ 9, 10]))\n"
     ]
    }
   ],
   "source": [
    "n_folds = 5\n",
    "for fold_id in range(n_folds):\n",
    "    print(dataset.cv_split(n_folds, fold_id, seed=2))"
   ]
  },
  {
   "cell_type": "code",
   "execution_count": null,
   "metadata": {},
   "outputs": [],
   "source": []
  }
 ],
 "metadata": {
  "kernelspec": {
   "display_name": "Python 3",
   "language": "python",
   "name": "python3"
  },
  "language_info": {
   "codemirror_mode": {
    "name": "ipython",
    "version": 3
   },
   "file_extension": ".py",
   "mimetype": "text/x-python",
   "name": "python",
   "nbconvert_exporter": "python",
   "pygments_lexer": "ipython3",
   "version": "3.6.9"
  }
 },
 "nbformat": 4,
 "nbformat_minor": 2
}
