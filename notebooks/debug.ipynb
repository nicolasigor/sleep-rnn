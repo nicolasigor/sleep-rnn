{
 "cells": [
  {
   "cell_type": "code",
   "execution_count": 1,
   "metadata": {},
   "outputs": [],
   "source": [
    "import numpy as np\n",
    "import matplotlib.pyplot as plt\n",
    "import pyedflib\n",
    "import os\n",
    "import sys"
   ]
  },
  {
   "cell_type": "code",
   "execution_count": 6,
   "metadata": {},
   "outputs": [],
   "source": [
    "filename_state = {\n",
    "    12: '/home/ntapia/projects/repos/sleep-rnn/resources/datasets/mass/label/state/01-02-0012 Base.edf',\n",
    "    13: '/home/ntapia/projects/repos/sleep-rnn/resources/datasets/mass/label/state/01-02-0013 Base.edf',\n",
    "    19: '/home/ntapia/projects/repos/sleep-rnn/resources/datasets/mass/label/state/01-02-0019 Base.edf',\n",
    "}\n",
    "filename_signal = {\n",
    "    12: '/home/ntapia/projects/repos/sleep-rnn/resources/datasets/mass/register/01-02-0012 PSG.edf',\n",
    "    13: '/home/ntapia/projects/repos/sleep-rnn/resources/datasets/mass/register/01-02-0013 PSG.edf',\n",
    "    19: '/home/ntapia/projects/repos/sleep-rnn/resources/datasets/mass/register/01-02-0019 PSG.edf',\n",
    "}\n",
    "\n",
    "fs = 200\n",
    "page_size = 4000\n",
    "page_duration = 20\n",
    "state_ids = np.array(['1', '2', '3', '4', 'R', 'W', '?'])\n",
    "unknown_id = '?'  # Character for unknown state in hypnogram\n",
    "n2_id = '2'  # Character for N2 identification in hypnogram"
   ]
  },
  {
   "cell_type": "code",
   "execution_count": 65,
   "metadata": {},
   "outputs": [],
   "source": [
    "subject_id = 19\n",
    "\n",
    "with pyedflib.EdfReader(filename_state[subject_id]) as file:\n",
    "    annotations = file.readAnnotations()\n",
    "with pyedflib.EdfReader(filename_signal[subject_id]) as file:\n",
    "    channel_names = file.getSignalLabels()\n",
    "    channel_to_extract = channel_names.index('EEG C3-CLE')\n",
    "    signal = file.readSignal(channel_to_extract)\n",
    "    signal_length = signal.size\n",
    "    signal_length = int(signal_length * fs / file.samplefrequency(channel_to_extract))"
   ]
  },
  {
   "cell_type": "code",
   "execution_count": 66,
   "metadata": {},
   "outputs": [],
   "source": [
    "# Total pages not necessarily equal to total_annots\n",
    "total_pages = int(np.ceil(signal_length / page_size))\n",
    "\n",
    "onsets = np.array(annotations[0])\n",
    "durations = np.round(np.array(annotations[1]))\n",
    "stages_str = annotations[2]\n",
    "# keep only 20s durations\n",
    "valid_idx = (durations == page_duration)\n",
    "onsets = onsets[valid_idx]\n",
    "onsets_pages = np.floor(onsets / page_duration).astype(np.int32)\n",
    "stages_str = stages_str[valid_idx]\n",
    "stages_char = [single_annot[-1] for single_annot in stages_str]\n",
    "\n",
    "# Build complete hypnogram\n",
    "total_annots = len(stages_char)\n",
    "\n",
    "not_unkown_ids = [\n",
    "    state_id for state_id in state_ids\n",
    "    if state_id != unknown_id]\n",
    "not_unkown_state_dict = {}\n",
    "for state_id in not_unkown_ids:\n",
    "    state_idx = np.where(\n",
    "        [stages_char[i] == state_id for i in range(total_annots)])[0]\n",
    "    not_unkown_state_dict[state_id] = onsets_pages[state_idx]\n",
    "hypnogram = []\n",
    "for page in range(total_pages):\n",
    "    state_not_found = True\n",
    "    for state_id in not_unkown_ids:\n",
    "        if page in not_unkown_state_dict[state_id] and state_not_found:\n",
    "            hypnogram.append(state_id)\n",
    "            state_not_found = False\n",
    "    if state_not_found:\n",
    "        hypnogram.append(unknown_id)\n",
    "hypnogram = np.asarray(hypnogram)\n",
    "\n",
    "# Extract N2 pages\n",
    "n2_pages = np.where(hypnogram == n2_id)[0]\n",
    "# Drop first, last and second to last page of the whole registers\n",
    "# if they where selected.\n",
    "last_page = total_pages - 1\n",
    "n2_pages = n2_pages[\n",
    "    (n2_pages != 0)\n",
    "    & (n2_pages != last_page)\n",
    "    & (n2_pages != last_page - 1)]\n",
    "n2_pages = n2_pages.astype(np.int16)\n",
    "\n",
    "alternative_n2_pages = n2_pages\n",
    "\n",
    "# -------------------------------------------------------------------\n",
    "# OLD CODE: (debuG)\n",
    "onsets = np.array(annotations[0])\n",
    "stages_str = annotations[2]\n",
    "stages_char = [single_annot[-1] for single_annot in stages_str]\n",
    "total_annots = len(stages_char)\n",
    "# Total pages not necessarily equal to total_annots\n",
    "total_pages = int(np.ceil(signal_length / page_size))\n",
    "n2_pages_onehot = np.zeros(total_pages, dtype=np.int32)\n",
    "for i in range(total_annots):\n",
    "    if stages_char[i] == n2_id:\n",
    "        page_idx = int(np.round(onsets[i] / page_duration))\n",
    "        if page_idx < total_pages:\n",
    "            n2_pages_onehot[page_idx] = 1\n",
    "n2_pages = np.where(n2_pages_onehot == 1)[0]\n",
    "# Drop first, last and second to last page of the whole registers\n",
    "# if they where selected.\n",
    "last_page = total_pages - 1\n",
    "n2_pages = n2_pages[\n",
    "    (n2_pages != 0)\n",
    "    & (n2_pages != last_page)\n",
    "    & (n2_pages != last_page - 1)]\n",
    "\n",
    "n2_pages = n2_pages.astype(np.int32)"
   ]
  },
  {
   "cell_type": "code",
   "execution_count": 67,
   "metadata": {},
   "outputs": [
    {
     "data": {
      "text/plain": [
       "array([63, 64, 65, 66, 67, 68, 76, 77, 78, 79])"
      ]
     },
     "execution_count": 67,
     "metadata": {},
     "output_type": "execute_result"
    }
   ],
   "source": [
    "np.where(np.array(stages_char) == n2_id)[0][0:10]"
   ]
  },
  {
   "cell_type": "code",
   "execution_count": 70,
   "metadata": {},
   "outputs": [
    {
     "data": {
      "text/plain": [
       "'2'"
      ]
     },
     "execution_count": 70,
     "metadata": {},
     "output_type": "execute_result"
    }
   ],
   "source": [
    "stages_char[63]"
   ]
  },
  {
   "cell_type": "code",
   "execution_count": 71,
   "metadata": {},
   "outputs": [
    {
     "data": {
      "text/plain": [
       "63.8544668"
      ]
     },
     "execution_count": 71,
     "metadata": {},
     "output_type": "execute_result"
    }
   ],
   "source": [
    "onsets[63] / page_duration"
   ]
  },
  {
   "cell_type": "code",
   "execution_count": null,
   "metadata": {},
   "outputs": [],
   "source": []
  },
  {
   "cell_type": "code",
   "execution_count": 68,
   "metadata": {},
   "outputs": [
    {
     "data": {
      "text/plain": [
       "array([64, 65, 66, 67, 68, 69, 77, 78, 79, 80], dtype=int32)"
      ]
     },
     "execution_count": 68,
     "metadata": {},
     "output_type": "execute_result"
    }
   ],
   "source": [
    "n2_pages[:10]"
   ]
  },
  {
   "cell_type": "code",
   "execution_count": 69,
   "metadata": {},
   "outputs": [
    {
     "data": {
      "text/plain": [
       "array([63, 64, 65, 66, 67, 68, 76, 77, 78, 79], dtype=int16)"
      ]
     },
     "execution_count": 69,
     "metadata": {},
     "output_type": "execute_result"
    }
   ],
   "source": [
    "alternative_n2_pages[:10]"
   ]
  },
  {
   "cell_type": "code",
   "execution_count": null,
   "metadata": {},
   "outputs": [],
   "source": []
  },
  {
   "cell_type": "code",
   "execution_count": null,
   "metadata": {},
   "outputs": [],
   "source": []
  },
  {
   "cell_type": "code",
   "execution_count": 8,
   "metadata": {},
   "outputs": [],
   "source": [
    "import sys\n",
    "sys.path.append('..')\n",
    "from sleeprnn.data import utils\n",
    "import numpy as np\n",
    "import matplotlib.pyplot as plt"
   ]
  },
  {
   "cell_type": "code",
   "execution_count": 49,
   "metadata": {},
   "outputs": [],
   "source": [
    "def stamp2seq_with_separation(\n",
    "        stamps, start, end, min_separation_samples, allow_early_end=False):\n",
    "    \"\"\"Returns the binary sequence segment from 'start' to 'end',\n",
    "    associated with the stamps.\"\"\"\n",
    "    if np.any(stamps < start):\n",
    "        msg = 'Values in intervals should be within start bound'\n",
    "        raise ValueError(msg)\n",
    "    if np.any(stamps > end) and not allow_early_end:\n",
    "        msg = 'Values in intervals should be within end bound'\n",
    "        raise ValueError(msg)\n",
    "\n",
    "    # Force separation\n",
    "    stamps = np.sort(stamps, axis=0)\n",
    "    mod_stamps = [stamps[0, :]]\n",
    "    for i in range(1, stamps.shape[0]):\n",
    "        last_stamp = mod_stamps[-1]\n",
    "        this_stamp = stamps[i, :]\n",
    "        samples_gap = this_stamp[0] - last_stamp[1] - 1\n",
    "        if samples_gap < min_separation_samples:\n",
    "            last_stamp_size = last_stamp[1] - last_stamp[0] + 1\n",
    "            this_stamp_size = this_stamp[1] - this_stamp[0] + 1\n",
    "            sum_of_sizes = last_stamp_size + this_stamp_size\n",
    "            needed_samples = min_separation_samples - samples_gap\n",
    "            # Proportional elimination of samples\n",
    "            cut_last = int(np.round(last_stamp_size * needed_samples / sum_of_sizes))\n",
    "            cut_this = needed_samples - cut_last\n",
    "\n",
    "            last_stamp[1] = last_stamp[1] - cut_last\n",
    "            this_stamp[0] = this_stamp[0] + cut_this\n",
    "            mod_stamps[-1] = last_stamp\n",
    "            mod_stamps.append(this_stamp)\n",
    "        else:\n",
    "            mod_stamps.append(this_stamp)\n",
    "    mod_stamps = np.stack(mod_stamps, axis=0)\n",
    "\n",
    "    # Transform modified stamps\n",
    "    sequence = utils.stamp2seq(mod_stamps, start, end, allow_early_end=allow_early_end)\n",
    "    return sequence"
   ]
  },
  {
   "cell_type": "code",
   "execution_count": 50,
   "metadata": {},
   "outputs": [],
   "source": [
    "my_stamps = np.array([\n",
    "    [3, 10],\n",
    "    [16, 30],\n",
    "    [30, 40]\n",
    "]).astype(np.int32)"
   ]
  },
  {
   "cell_type": "code",
   "execution_count": 51,
   "metadata": {},
   "outputs": [
    {
     "data": {
      "image/png": "[encoded data removed]",
      "text/plain": [
       "<Figure size 864x216 with 1 Axes>"
      ]
     },
     "metadata": {
      "needs_background": "light"
     },
     "output_type": "display_data"
    }
   ],
   "source": [
    "seq_original = utils.stamp2seq(my_stamps, 0, 45)\n",
    "fig = plt.figure(figsize=(12, 3))\n",
    "plt.plot(seq_original, marker='o')\n",
    "plt.show()"
   ]
  },
  {
   "cell_type": "code",
   "execution_count": 52,
   "metadata": {},
   "outputs": [
    {
     "name": "stdout",
     "output_type": "stream",
     "text": [
      "[[ 3  9]\n",
      " [18 25]\n",
      " [34 40]]\n"
     ]
    },
    {
     "data": {
      "image/png": "[encoded data removed]",
      "text/plain": [
       "<Figure size 864x216 with 1 Axes>"
      ]
     },
     "metadata": {
      "needs_background": "light"
     },
     "output_type": "display_data"
    }
   ],
   "source": [
    "seq_modified = stamp2seq_with_separation(my_stamps, 0, 45, 8)\n",
    "new_stamps = utils.seq2stamp(seq_modified)\n",
    "print(new_stamps)\n",
    "fig = plt.figure(figsize=(12, 3))\n",
    "plt.plot(seq_modified, marker='o')\n",
    "plt.show()"
   ]
  },
  {
   "cell_type": "code",
   "execution_count": null,
   "metadata": {},
   "outputs": [],
   "source": []
  },
  {
   "cell_type": "code",
   "execution_count": null,
   "metadata": {},
   "outputs": [],
   "source": []
  }
 ],
 "metadata": {
  "kernelspec": {
   "display_name": "Python 3",
   "language": "python",
   "name": "python3"
  },
  "language_info": {
   "codemirror_mode": {
    "name": "ipython",
    "version": 3
   },
   "file_extension": ".py",
   "mimetype": "text/x-python",
   "name": "python",
   "nbconvert_exporter": "python",
   "pygments_lexer": "ipython3",
   "version": "3.6.8"
  }
 },
 "nbformat": 4,
 "nbformat_minor": 2
}
