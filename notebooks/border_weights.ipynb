{
 "cells": [
  {
   "cell_type": "code",
   "execution_count": null,
   "metadata": {
    "colab": {
     "base_uri": "https://localhost:8080/",
     "height": 34
    },
    "colab_type": "code",
    "executionInfo": {
     "elapsed": 2267,
     "status": "ok",
     "timestamp": 1590794728268,
     "user": {
      "displayName": "Nicolás Igor Tapia Rivas",
      "photoUrl": "https://lh3.googleusercontent.com/a-/AOh14GjRniTiDacfBQU86nYLe5gSZ53V_D0gGt8AksFf=s64",
      "userId": "05811526828832909464"
     },
     "user_tz": 240
    },
    "id": "sY6ieHeikE7h",
    "outputId": "f7167e18-0a9e-4e41-d785-2a569aa78e87"
   },
   "outputs": [],
   "source": [
    "import numpy as np\n",
    "import matplotlib.pyplot as plt\n",
    "import sys\n",
    "sys.path.append(\"..\")\n",
    "from sleeprnn.nn.losses import get_border_weights\n",
    "import tensorflow as tf"
   ]
  },
  {
   "cell_type": "code",
   "execution_count": null,
   "metadata": {
    "colab": {
     "base_uri": "https://localhost:8080/",
     "height": 441
    },
    "colab_type": "code",
    "executionInfo": {
     "elapsed": 1309,
     "status": "ok",
     "timestamp": 1590794807407,
     "user": {
      "displayName": "Nicolás Igor Tapia Rivas",
      "photoUrl": "https://lh3.googleusercontent.com/a-/AOh14GjRniTiDacfBQU86nYLe5gSZ53V_D0gGt8AksFf=s64",
      "userId": "05811526828832909464"
     },
     "user_tz": 240
    },
    "id": "adMkTSgIkJXF",
    "outputId": "fd0f0a19-f2a9-4682-bba6-784a6ad1c27f"
   },
   "outputs": [],
   "source": [
    "weight_border = 10\n",
    "kernel_size_half = 12\n",
    "\n",
    "n_samples = 500\n",
    "annots = [[80, 106], [130, 172], [184, 200]]\n",
    "\n",
    "# Labels\n",
    "label = np.zeros(n_samples)\n",
    "for annot in annots:\n",
    "    label[annot[0]:annot[1]+1] = 1\n",
    "\n",
    "# Prepare labels\n",
    "first_label = label[0:1]\n",
    "last_label = label[-1:]\n",
    "label_extended = np.concatenate([first_label, label, last_label])\n",
    "# Prepare filters\n",
    "kernel_edge = np.array([-0.5, 0, 0.5])\n",
    "std_kernel = (2 * kernel_size_half + 1) / 6\n",
    "# kernel_size_half = (6 * std_kernel) // 2\n",
    "kernel_steps = np.arange(2 * kernel_size_half + 1) - kernel_size_half\n",
    "kernel_gauss = (weight_border - 1) * np.exp(-(kernel_steps ** 2) / (2 * (std_kernel ** 2)))\n",
    "# Filter labels to produce weights of borders\n",
    "output = np.convolve(label_extended, kernel_edge, mode=\"valid\")\n",
    "output = np.abs(output)\n",
    "output = np.convolve(output, kernel_gauss, mode=\"same\")\n",
    "output = 1 + output\n",
    "\n",
    "fig, ax = plt.subplots(3, 1, figsize=(15, 6), dpi=200)\n",
    "ax[0].plot(label, '-o', markersize=3)\n",
    "ax[0].set_xlim([-0.5, n_samples-1+0.5])\n",
    "ax[0].set_ylim([-0.1, 1.1])\n",
    "ax[1].plot(output, '-o', markersize=3)\n",
    "ax[1].set_xlim([-0.5, n_samples-1+0.5])\n",
    "#ax[1].set_ylim([-0.1, weight_border + 0.1])\n",
    "ax[2].plot(kernel_steps, kernel_gauss, '-o')\n",
    "plt.tight_layout()\n",
    "plt.show()"
   ]
  },
  {
   "cell_type": "code",
   "execution_count": null,
   "metadata": {
    "colab": {},
    "colab_type": "code",
    "id": "mkGxJ_BXkcnY"
   },
   "outputs": [],
   "source": [
    "# Replicate with TF\n",
    "tf.reset_default_graph()\n",
    "labels_ph = tf.placeholder(shape=[None, n_samples], dtype=tf.int32)\n",
    "border_weights_tf = get_border_weights(labels_ph, weight_border, kernel_size_half)\n",
    "sess = tf.Session()\n",
    "tf.global_variables_initializer()\n",
    "\n",
    "labels_prepared = label.reshape(1, -1).astype(np.int32)\n",
    "border_weights_np = sess.run(border_weights_tf, feed_dict={labels_ph: labels_prepared})\n",
    "border_weights_np = border_weights_np[0, :]\n",
    "print(border_weights_np.dtype)\n",
    "\n",
    "fig, ax = plt.subplots(2, 1, figsize=(15, 4))\n",
    "ax[0].plot(label, '-o', markersize=3)\n",
    "ax[0].set_xlim([-0.5, n_samples-1+0.5])\n",
    "ax[0].set_ylim([-0.1, 1.1])\n",
    "ax[1].plot(border_weights_np, '-o', markersize=3)\n",
    "ax[1].set_xlim([-0.5, n_samples-1+0.5])\n",
    "ax[1].set_ylim([-0.1, weight_border + 0.1])\n",
    "plt.tight_layout()\n",
    "plt.show()"
   ]
  },
  {
   "cell_type": "code",
   "execution_count": null,
   "metadata": {},
   "outputs": [],
   "source": []
  }
 ],
 "metadata": {
  "colab": {
   "authorship_tag": "ABX9TyP5N3VyeU3g4xHrdS+mv7J3",
   "collapsed_sections": [],
   "name": "border_weights.ipynb",
   "provenance": []
  },
  "kernelspec": {
   "display_name": "Python 3",
   "language": "python",
   "name": "python3"
  },
  "language_info": {
   "codemirror_mode": {
    "name": "ipython",
    "version": 3
   },
   "file_extension": ".py",
   "mimetype": "text/x-python",
   "name": "python",
   "nbconvert_exporter": "python",
   "pygments_lexer": "ipython3",
   "version": "3.6.8"
  }
 },
 "nbformat": 4,
 "nbformat_minor": 1
}
