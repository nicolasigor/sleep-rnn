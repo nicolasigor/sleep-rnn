{
 "cells": [
  {
   "cell_type": "markdown",
   "metadata": {},
   "source": [
    "# MASS database inspection"
   ]
  },
  {
   "cell_type": "code",
   "execution_count": 1,
   "metadata": {},
   "outputs": [
    {
     "data": {
      "text/html": [
       "<style>.container { width:100% !important; }</style>"
      ],
      "text/plain": [
       "<IPython.core.display.HTML object>"
      ]
     },
     "metadata": {},
     "output_type": "display_data"
    }
   ],
   "source": [
    "from __future__ import absolute_import\n",
    "from __future__ import division\n",
    "from __future__ import print_function\n",
    "\n",
    "import os\n",
    "import sys\n",
    "\n",
    "import ipywidgets as widgets\n",
    "import matplotlib.pyplot as plt\n",
    "from matplotlib import gridspec\n",
    "import numpy as np\n",
    "import pprint\n",
    "\n",
    "project_root = os.path.abspath(\n",
    "    os.path.join('..', '..'))\n",
    "sys.path.append(project_root)\n",
    "\n",
    "from sleep.data.mass_ss import MassSS\n",
    "from sleep.data.subject_dataset import KEY_EEG, KEY_USEFUL_PAGES, KEY_ALL_PAGES, KEY_MARKS\n",
    "from sleep.data.data_ops import seq2inter, inter2seq, seq2inter_with_pages\n",
    "from sleep.data.metrics import by_sample_confusion, by_sample_iou, by_event_confusion, matching\n",
    "\n",
    "%matplotlib inline\n",
    "\n",
    "from IPython.core.display import display, HTML\n",
    "display(HTML(\"<style>.container { width:100% !important; }</style>\"))"
   ]
  },
  {
   "cell_type": "code",
   "execution_count": 2,
   "metadata": {
    "scrolled": true
   },
   "outputs": [
    {
     "name": "stdout",
     "output_type": "stream",
     "text": [
      "Dataset mass_ss with 15 patients.\n",
      "Train size: 11. Test size: 4\n",
      "Train subjects: \n",
      " [1, 3, 5, 7, 9, 10, 11, 14, 17, 18, 19]\n",
      "Test subjects: \n",
      " [2, 6, 12, 13]\n",
      "Loading from checkpoint... Loaded\n"
     ]
    }
   ],
   "source": [
    "dataset = MassSS(load_checkpoint=True)"
   ]
  },
  {
   "cell_type": "markdown",
   "metadata": {},
   "source": [
    "## Checking general numbers"
   ]
  },
  {
   "cell_type": "code",
   "execution_count": 3,
   "metadata": {},
   "outputs": [
    {
     "name": "stdout",
     "output_type": "stream",
     "text": [
      "Sample frequency: 200\n",
      "Page duration and size: 20 4000\n",
      "Registers ids: [1, 2, 3, 5, 6, 7, 9, 10, 11, 12, 13, 14, 17, 18, 19]\n",
      "Number of loaded registers: 15\n",
      "\n",
      "Train set IDs: [1, 3, 5, 7, 9, 10, 11, 14, 17, 18, 19]\n",
      "Test set IDs: [2, 6, 12, 13]\n"
     ]
    }
   ],
   "source": [
    "print('Sample frequency:', dataset.fs)\n",
    "print('Page duration and size:', dataset.page_duration, dataset.page_size)\n",
    "print('Registers ids:', dataset.all_ids)\n",
    "print('Number of loaded registers:', len(dataset.data))\n",
    "print('')\n",
    "print('Train set IDs:', dataset.train_ids)\n",
    "print('Test set IDs:', dataset.test_ids)"
   ]
  },
  {
   "cell_type": "markdown",
   "metadata": {},
   "source": [
    "## Distribution of signal"
   ]
  },
  {
   "cell_type": "code",
   "execution_count": 11,
   "metadata": {},
   "outputs": [
    {
     "name": "stdout",
     "output_type": "stream",
     "text": [
      "N subjects: 15\n"
     ]
    },
    {
     "data": {
      "image/png": "[encoded data removed]",
      "text/plain": [
       "<Figure size 1300x400 with 16 Axes>"
      ]
     },
     "metadata": {
      "needs_background": "light"
     },
     "output_type": "display_data"
    }
   ],
   "source": [
    "n_ids = len(dataset.all_ids)\n",
    "print('N subjects:', n_ids)\n",
    "\n",
    "n_rows = 4\n",
    "n_cols = 4\n",
    "\n",
    "fig, ax = plt.subplots(n_rows, n_cols, dpi=100, figsize=(13, 4), sharex=True)\n",
    "for i, sub_id in enumerate(dataset.all_ids):\n",
    "    this_row = int(i / n_cols)\n",
    "    this_col = i - this_row * n_cols\n",
    "    n2_signal, _ = dataset.get_subject_data(sub_id, normalize_clip=True)\n",
    "    ax[this_row, this_col].hist(n2_signal.flatten(), label='ID %02d' % sub_id, bins=40, color='k', alpha=0.6)\n",
    "    ax[this_row, this_col].set_yticks([])\n",
    "    ax[this_row, this_col].set_xlim([-10, 10])\n",
    "    # ax[this_row, this_col].set_xlim([-150, 150])\n",
    "    ax[this_row, this_col].legend(loc='upper right')\n",
    "    if this_row == n_rows-1:\n",
    "        ax[this_row, this_col].set_xlabel('Signal value')\n",
    "\n",
    "for j in range(i + 1, n_rows * n_cols):\n",
    "    this_row = int(j / n_cols)\n",
    "    this_col = j - this_row * n_cols\n",
    "    ax[this_row, this_col].set_yticks([])\n",
    "    if this_row == n_rows-1:\n",
    "        ax[this_row, this_col].set_xlabel('Signal value')\n",
    "\n",
    "fig.suptitle('Distribution of normalized EEG signals during N2 pages (MASS database)')\n",
    "# plt.tight_layout()\n",
    "plt.show()"
   ]
  },
  {
   "cell_type": "markdown",
   "metadata": {},
   "source": [
    "## Check one subject"
   ]
  },
  {
   "cell_type": "code",
   "execution_count": 12,
   "metadata": {},
   "outputs": [],
   "source": [
    "def plot_subject_global(signal, fs, pages, page_size, marks_1, marks_2):\n",
    "    time_axis = np.arange(signal.size) / fs\n",
    "    max_time = time_axis[-1]\n",
    "    \n",
    "    n_pages = np.ceil(signal.size / page_size).astype(int)\n",
    "    n2_stages = np.zeros(n_pages, dtype=np.uint8)\n",
    "    for page in pages:\n",
    "        n2_stages[page] = 1\n",
    "    \n",
    "    marks_1_in_page = np.zeros(n_pages, dtype=np.int32)\n",
    "    marks_2_in_page = np.zeros(n_pages, dtype=np.int32)\n",
    "    marks_1_n2_without_marks = 0\n",
    "    marks_2_n2_without_marks = 0\n",
    "    marks_both_n2_without_marks = 0\n",
    "    for page in pages:\n",
    "        start_sample = page * page_size\n",
    "        end_sample = (page+1) * page_size\n",
    "        marks_1_presence = np.sum(marks_1[start_sample:end_sample])\n",
    "        marks_2_presence = np.sum(marks_2[start_sample:end_sample])\n",
    "        if marks_1_presence == 0:\n",
    "            marks_1_n2_without_marks += 1\n",
    "        if marks_2_presence == 0:\n",
    "            marks_2_n2_without_marks += 1\n",
    "        if marks_1_presence == 0 and marks_2_presence == 0:\n",
    "            marks_both_n2_without_marks += 1\n",
    "        marks_1_in_page[page] = marks_1_presence\n",
    "        marks_2_in_page[page] = marks_2_presence\n",
    "    \n",
    "    print('Number of N2 pages without E1 marks: %d' % marks_1_n2_without_marks)\n",
    "    print('Number of N2 pages without E2 marks: %d' % marks_2_n2_without_marks)\n",
    "    print('Number of N2 pages without any marks: %d' % marks_both_n2_without_marks)\n",
    "    \n",
    "\n",
    "    fig, ax = plt.subplots(4, 1, figsize=(15, 7))\n",
    "    \n",
    "    ax[0].set_title('Normalized EEG Signal')\n",
    "    ax[0].plot(time_axis, signal)\n",
    "    ax[0].set_xlabel('Time [s]')\n",
    "    ax[0].set_xlim([0, max_time])\n",
    "\n",
    "    ax[1].set_title('N2 pages (white is active)')\n",
    "    ax[1].imshow(n2_stages[np.newaxis, :], interpolation=None, aspect='auto', cmap='gray', extent=[0, max_time, 0, 1])\n",
    "    ax[1].axis('off')\n",
    "    \n",
    "    ax[2].set_title('Expert 1 marks presence (white is active)')\n",
    "    ax[2].imshow(marks_1_in_page[np.newaxis, :], interpolation=None, aspect='auto', extent=[0, max_time, 0, 1], cmap='gray')\n",
    "    ax[2].axis('off')\n",
    "    \n",
    "    ax[3].set_title('Expert 2 marks presence (white is active)')\n",
    "    ax[3].imshow(marks_2_in_page[np.newaxis, :], interpolation=None, aspect='auto', extent=[0, max_time, 0, 1], cmap='gray')\n",
    "    ax[3].axis('off')\n",
    "    \n",
    "    plt.tight_layout()\n",
    "    plt.show()"
   ]
  },
  {
   "cell_type": "markdown",
   "metadata": {},
   "source": [
    "### Complete register visualization"
   ]
  },
  {
   "cell_type": "code",
   "execution_count": 13,
   "metadata": {},
   "outputs": [],
   "source": [
    "# Registers ids: [1, 2, 3, 5, 6, 7, 9, 10, 11, 12, 13, 14, 17, 19]\n",
    "subject_id = 1"
   ]
  },
  {
   "cell_type": "code",
   "execution_count": 15,
   "metadata": {},
   "outputs": [
    {
     "name": "stdout",
     "output_type": "stream",
     "text": [
      "Loaded subject ID 1\n",
      "Signal size 5791600. Number of pages 745\n"
     ]
    }
   ],
   "source": [
    "ind_dict = dataset.data[subject_id]\n",
    "signal, marks_1 = dataset.get_subject_data(subject_id, which_expert=1, )\n",
    "signal = ind_dict[KEY_EEG]\n",
    "pages = ind_dict[KEY_USEFUL_PAGES]\n",
    "marks_1 = ind_dict['%s_1' % KEY_MARKS]\n",
    "marks_2 = ind_dict['%s_2' % KEY_MARKS]\n",
    "\n",
    "print('Loaded subject ID %s' % subject_id)\n",
    "print('Signal size %d. Number of pages %d' % (signal.shape[0], pages.shape[0]))"
   ]
  },
  {
   "cell_type": "code",
   "execution_count": 16,
   "metadata": {},
   "outputs": [
    {
     "name": "stdout",
     "output_type": "stream",
     "text": [
      "Number of N2 pages without E1 marks: 745\n",
      "Number of N2 pages without E2 marks: 745\n",
      "Number of N2 pages without any marks: 745\n"
     ]
    },
    {
     "data": {
      "image/png": "[encoded data removed]",
      "text/plain": [
       "<Figure size 1080x504 with 4 Axes>"
      ]
     },
     "metadata": {
      "needs_background": "light"
     },
     "output_type": "display_data"
    }
   ],
   "source": [
    "plot_subject_global(signal, dataset.fs, pages, dataset.page_size, marks_1, marks_2)"
   ]
  },
  {
   "cell_type": "code",
   "execution_count": null,
   "metadata": {},
   "outputs": [],
   "source": []
  },
  {
   "cell_type": "markdown",
   "metadata": {},
   "source": [
    "## Marks statistics from saved data"
   ]
  },
  {
   "cell_type": "code",
   "execution_count": null,
   "metadata": {},
   "outputs": [],
   "source": [
    "durations_1 = np.diff(marks_1_stamps)[:, 0] / dataset.fs\n",
    "durations_2 = np.diff(marks_2_stamps)[:, 0] / dataset.fs\n",
    "\n",
    "fig, ax = plt.subplots(2, 1, sharex=True, figsize=(8, 4), dpi=100)\n",
    "ax[0].hist(durations_1, bins=20, color='k', alpha=0.6)\n",
    "ax[0].set_title('Distribution of E1 marks durations in Subject %02d (Preprocessed)' % subject_id)\n",
    "ax[1].hist(durations_2, bins=20, color='k', alpha=0.6)\n",
    "ax[1].set_title('Distribution of E2 marks durations in Subject %02d (Preprocessed)' % subject_id)\n",
    "ax[1].set_xlabel('Duration [s]')\n",
    "plt.tight_layout()\n",
    "plt.show()"
   ]
  },
  {
   "cell_type": "code",
   "execution_count": null,
   "metadata": {},
   "outputs": [],
   "source": [
    "# Compute statistics comparing E1 and E2\n",
    "\n",
    "# By sample\n",
    "print('By Sample Stats between E1 and E2:')\n",
    "bs_metrics = by_sample_confusion(marks_1, marks_2, input_is_binary=True)\n",
    "bs_iou = by_sample_iou(marks_1, marks_2, input_is_binary=True)\n",
    "print('BS IoU: %1.4f' % bs_iou)\n",
    "pprint.pprint(bs_metrics)\n",
    "\n",
    "# By event\n",
    "print('\\nBy Event stats between E1 and E2:')\n",
    "print('Number of marks from E1: %d' % marks_1_stamps.shape[0])\n",
    "print('Number of marks from E2: %d' % marks_2_stamps.shape[0])\n",
    "iou_array, idx_e2_marks = matching(marks_1_stamps, marks_2_stamps)\n",
    "nonzero_iou_array = iou_array[iou_array > 0]\n",
    "print('Number of nonzero iou marks:', nonzero_iou_array.shape[0])\n",
    "be_metrics = by_event_confusion(marks_1_stamps, marks_2_stamps, iou_array=iou_array)\n",
    "pprint.pprint(be_metrics)"
   ]
  },
  {
   "cell_type": "code",
   "execution_count": null,
   "metadata": {},
   "outputs": [],
   "source": [
    "fig = plt.figure(figsize=(10,2), dpi=100)\n",
    "plt.hist(nonzero_iou_array, bins=[i*0.1 for i in range(11)], color='k', alpha=0.6)\n",
    "plt.xlabel('IoU Value')\n",
    "plt.title('Distribution of nonzero IoU between E1 and E2 in Subject %02d (mean %1.4f)' % (subject_id, be_metrics['mean_nonzero_iou']))\n",
    "plt.xlim([0, 1])\n",
    "plt.show()"
   ]
  },
  {
   "cell_type": "code",
   "execution_count": null,
   "metadata": {},
   "outputs": [],
   "source": [
    "fig, ax = plt.subplots(1, 2, figsize=(10, 5), sharex=True, sharey=True)\n",
    "\n",
    "ax[0].set_title('E1 marks')\n",
    "ax[0].scatter(durations_1, iou_array, alpha=0.3)\n",
    "ax[0].set_xlabel('Duration [s]')\n",
    "ax[0].set_ylabel('IoU')\n",
    "\n",
    "iou_array_e2 = np.zeros(durations_2.shape)\n",
    "for i, idx in enumerate(idx_e2_marks):\n",
    "    if idx != -1:\n",
    "        iou_array_e2[idx] = iou_array[i]\n",
    "\n",
    "ax[1].set_title('E2 marks')\n",
    "ax[1].scatter(durations_2, iou_array_e2, alpha=0.3)\n",
    "ax[1].set_xlabel('Duration [s]')\n",
    "\n",
    "plt.tight_layout()\n",
    "plt.show()"
   ]
  },
  {
   "cell_type": "code",
   "execution_count": null,
   "metadata": {},
   "outputs": [],
   "source": [
    "# durations_2_matched = np.zeros(durations_1.shape)\n",
    "durations_1_matched = []\n",
    "durations_2_matched = []\n",
    "for i, idx in enumerate(idx_e2_marks):\n",
    "    if idx != -1:\n",
    "        durations_1_matched.append(durations_1[i])\n",
    "        durations_2_matched.append(durations_2[idx])\n",
    "\n",
    "fig = plt.figure(figsize=(5, 5), dpi=100)\n",
    "plt.title('Durations between matched expert marks')\n",
    "plt.scatter(durations_1_matched, durations_2_matched, alpha=0.2, color='k')\n",
    "plt.plot([0, 3], [0, 3], color='r')\n",
    "plt.xlabel('E1 duration [s]')\n",
    "plt.ylabel('E2 duration [s]')\n",
    "plt.xlim([0, 3])\n",
    "plt.ylim([0, 3])\n",
    "plt.axis('square')\n",
    "plt.show()"
   ]
  },
  {
   "cell_type": "markdown",
   "metadata": {},
   "source": [
    "## Page visualization"
   ]
  },
  {
   "cell_type": "code",
   "execution_count": null,
   "metadata": {},
   "outputs": [],
   "source": [
    "n2_signal, n2_marks_1 = dataset.get_subject_data(subject_id, which_expert=1, verbose=True)\n",
    "_, n2_marks_2 = dataset.get_subject_data(subject_id, which_expert=2, verbose=True)\n",
    "pages = dataset.get_subject_pages(subject_id)"
   ]
  },
  {
   "cell_type": "code",
   "execution_count": null,
   "metadata": {},
   "outputs": [],
   "source": [
    "print('Number of n2 pages:', n2_signal.shape)\n",
    "tmp = np.sum(n2_marks_1, axis=1)\n",
    "tmp = sum((tmp==0).astype(int))\n",
    "print('Number of pages without E1 marks:', tmp)\n",
    "tmp = np.sum(n2_marks_2, axis=1)\n",
    "tmp = sum((tmp==0).astype(int))\n",
    "print('Number of pages without E2 marks:', tmp)"
   ]
  },
  {
   "cell_type": "code",
   "execution_count": null,
   "metadata": {},
   "outputs": [],
   "source": [
    "n2_marks_1_stamps = seq2inter_with_pages(n2_marks_1, pages)\n",
    "n2_marks_2_stamps = seq2inter_with_pages(n2_marks_2, pages)\n",
    "print('Number of E1 marks:', n2_marks_1_stamps.shape)\n",
    "print('Number of E2 marks:', n2_marks_2_stamps.shape)"
   ]
  },
  {
   "cell_type": "code",
   "execution_count": null,
   "metadata": {},
   "outputs": [],
   "source": [
    "def plot_page(page, signal, e1_marks, e2_marks, n2_pages, fs):\n",
    "    fig = plt.figure(figsize=(12, 5), dpi=100) \n",
    "    gs = gridspec.GridSpec(3, 1, height_ratios=[4, 1, 1]) \n",
    "    \n",
    "    page = page - 1\n",
    "    \n",
    "    segment_signal = signal[page, :]\n",
    "    segment_e1_marks = e1_marks[page, :]\n",
    "    segment_e2_marks = e2_marks[page, :]\n",
    "    time_axis = np.arange(signal.shape[1])/fs\n",
    "    \n",
    "    # Signal\n",
    "    ax0 = fig.add_subplot(gs[0])\n",
    "    ax0.plot(time_axis, segment_signal)\n",
    "    ax0.set_yticks([])\n",
    "    ax0.set_xlim([0, 20])\n",
    "    ax0.set_ylim([-10, 10])\n",
    "    ax0.set_title('EEG Signal, C3-CLE (intervals of 0.5s are shown), original page %d' % n2_pages[page])\n",
    "    ax0.set_xticks([0, 5, 10, 15, 20])\n",
    "    ax0.set_xticks(np.arange(0, 20, 0.5), minor=True)\n",
    "    ax0.grid(b=True, axis='x', which='minor')\n",
    "    \n",
    "    # Expert mark\n",
    "    ax2 = fig.add_subplot(gs[1])\n",
    "    ax2.imshow(segment_e1_marks[np.newaxis, :], interpolation=None, aspect='auto', cmap='gray')\n",
    "    ax2.axis('off')\n",
    "    ax2.set_title('Expert 1 (white is active)')\n",
    "    \n",
    "    ax3 = fig.add_subplot(gs[2])\n",
    "    ax3.imshow(segment_e2_marks[np.newaxis, :], interpolation=None, aspect='auto', cmap='gray')\n",
    "    ax3.axis('off')\n",
    "    ax3.set_title('Expert 2 (White is active)')\n",
    "    \n",
    "    plt.tight_layout()\n",
    "    plt.show()"
   ]
  },
  {
   "cell_type": "code",
   "execution_count": null,
   "metadata": {},
   "outputs": [],
   "source": [
    "widgets.interact(\n",
    "    lambda page: plot_page(page, n2_signal, n2_marks_1, n2_marks_2, pages, dataset.fs),\n",
    "    page=widgets.IntSlider(min=1,max=n2_signal.shape[0],step=1,value=1, continuous_update=False));"
   ]
  },
  {
   "cell_type": "code",
   "execution_count": null,
   "metadata": {},
   "outputs": [],
   "source": []
  },
  {
   "cell_type": "markdown",
   "metadata": {},
   "source": [
    "## Spindle Activity Distribution across training examples"
   ]
  },
  {
   "cell_type": "code",
   "execution_count": null,
   "metadata": {},
   "outputs": [],
   "source": [
    "# Load all training pages\n",
    "\n",
    "# Get training set ids\n",
    "print('Loading training set and splitting')\n",
    "all_train_ids = dataset.train_ids\n",
    "# We won't split train intro train and val sets, it doesn't matter\n",
    "\n",
    "# Get data\n",
    "# We don't add border nor augment pages to don't perturb spindle activity INSIDE the page\n",
    "_, y_train_1 = dataset.get_subset_data(\n",
    "    all_train_ids, augmented_page=False, border_size=0,\n",
    "    which_expert=1, verbose=False)\n",
    "_, y_train_2 = dataset.get_subset_data(\n",
    "    all_train_ids, augmented_page=False, border_size=0,\n",
    "    which_expert=2, verbose=False)\n",
    "print('Pages loaded')\n",
    "    \n",
    "# Now count samples with spindle activity\n",
    "activity_train_1 = []\n",
    "for sub_marks in y_train_1:\n",
    "    this_activity = np.sum(sub_marks, axis=1)\n",
    "    activity_train_1.append(this_activity)\n",
    "    print(this_activity.shape)\n",
    "activity_train_2 = []\n",
    "for sub_marks in y_train_2:\n",
    "    this_activity = np.sum(sub_marks, axis=1)\n",
    "    activity_train_2.append(this_activity)\n",
    "    print(this_activity.shape)  \n",
    "# Now concatenate everything\n",
    "fs = 200\n",
    "all_activity_train_1 = np.concatenate(activity_train_1, axis=0) / fs\n",
    "all_activity_train_2 = np.concatenate(activity_train_2, axis=0) / fs\n",
    "print('All train pages:', all_activity_train_1.shape)\n",
    "print('All train pages:', all_activity_train_2.shape)"
   ]
  },
  {
   "cell_type": "code",
   "execution_count": null,
   "metadata": {},
   "outputs": [],
   "source": [
    "ntotal = all_activity_train_1.size\n",
    "nzero_1 = np.where(all_activity_train_1==0)[0].size\n",
    "nzero_2 = np.where(all_activity_train_2==0)[0].size\n",
    "nonzero_activity_train_1 = all_activity_train_1[np.where(all_activity_train_1>0)]\n",
    "nonzero_activity_train_2 = all_activity_train_2[np.where(all_activity_train_2>0)]\n",
    "\n",
    "print('--------------')\n",
    "print('Expert 1 Stats')\n",
    "print('--------------')\n",
    "print('Number of pages:', ntotal)\n",
    "print('Number of zero activity pages:', nzero_1, '(%1.4f%% of training set)' % (100*nzero_1 / ntotal))\n",
    "mean_1 = np.mean(nonzero_activity_train_1)\n",
    "median_1_all = np.median(all_activity_train_1)\n",
    "print('Mean nonzero activity: %1.2f' %  mean_1)\n",
    "print('Median nonzero activity: %1.2f' %  np.median(nonzero_activity_train_1))\n",
    "print('Max nonzero activity: %1.2f' %  np.max(nonzero_activity_train_1))\n",
    "print('Median of all activity: %1.2f' % np.median(all_activity_train_1))\n",
    "\n",
    "print('--------------')\n",
    "print('Expert 2 Stats')\n",
    "print('--------------')\n",
    "print('Number of pages:', ntotal)\n",
    "print('Number of zero activity pages:', nzero_2, '(%1.4f%% of training set)' % (100*nzero_2 / ntotal))\n",
    "mean_2 = np.mean(nonzero_activity_train_2)\n",
    "median_2_all = np.median(all_activity_train_2)\n",
    "print('Mean nonzero activity: %1.2f' %  mean_2)\n",
    "print('Median nonzero activity: %1.2f' %  np.median(nonzero_activity_train_2))\n",
    "print('Max nonzero activity: %1.2f' %  np.max(nonzero_activity_train_2))\n",
    "print('Median of all activity: %1.2f' % np.median(all_activity_train_2))\n",
    "\n",
    "max_value = 400\n",
    "bins = 70\n",
    "\n",
    "fig, ax = plt.subplots(2, 1, dpi=100, figsize=(12, 7), sharex=True)\n",
    "ax[0].hist(nonzero_activity_train_1, bins=bins, color='0.7')\n",
    "ax[0].set_title('Distribution of total sleep spindle activity duration in pages with nonzero activity (Expert 1)')\n",
    "ax[0].set_ylabel('Frequency')\n",
    "ax[0].plot([mean_1, mean_1], [0, max_value], 'r--', label='Mean of nonzero %1.2f [s]' % mean_1)\n",
    "ax[0].plot([median_1_all, median_1_all], [0, max_value], 'b--', label='Median of ALL pages %1.2f [s]' % median_1_all)\n",
    "ax[0].legend(loc='upper right')\n",
    "\n",
    "ax[1].hist(nonzero_activity_train_2, bins=bins, color='0.7')\n",
    "ax[1].set_title('Distribution of total sleep spindle activity duration in pages with nonzero activity (Expert 2)')\n",
    "ax[1].set_xlabel('Duration [s]')\n",
    "ax[1].set_ylabel('Frequency')\n",
    "ax[1].plot([mean_2, mean_2], [0, max_value], 'r--', label='Mean of nonzero %1.2f [s]' % mean_2)\n",
    "ax[1].plot([median_2_all, median_2_all], [0, max_value], 'b--', label='Median of ALL pages %1.2f [s]' % median_2_all)\n",
    "ax[1].legend(loc='upper right')\n",
    "max_activity = np.max(nonzero_activity_train_2)\n",
    "ax[1].set_xlim([0, max_activity])\n",
    "ax[1].set_xticks([i*0.5 for i in range(int(2*max_activity))])\n",
    "\n",
    "plt.show()"
   ]
  },
  {
   "cell_type": "code",
   "execution_count": null,
   "metadata": {},
   "outputs": [],
   "source": [
    "ntotal = all_activity_train_1.size\n",
    "nzero_1 = np.where(all_activity_train_1==0)[0].size\n",
    "nonzero_activity_train_1 = all_activity_train_1[np.where(all_activity_train_1>0)]\n",
    "\n",
    "print('--------------')\n",
    "print('Expert 1 Stats')\n",
    "print('--------------')\n",
    "print('Number of pages:', ntotal)\n",
    "print('Number of zero activity pages:', nzero_1, '(%1.4f%% of training set)' % (100*nzero_1 / ntotal))\n",
    "mean_1 = np.mean(nonzero_activity_train_1)\n",
    "median_1_all = np.median(all_activity_train_1)\n",
    "print('Mean nonzero activity: %1.2f' %  mean_1)\n",
    "print('Median nonzero activity: %1.2f' %  np.median(nonzero_activity_train_1))\n",
    "print('Max nonzero activity: %1.2f' %  np.max(nonzero_activity_train_1))\n",
    "print('Median of all activity: %1.2f' % np.median(all_activity_train_1))\n",
    "\n",
    "max_value = 3000\n",
    "bins = 70\n",
    "\n",
    "fig, ax = plt.subplots(1, 1, dpi=100, figsize=(7, 6), sharex=True)\n",
    "# ax.hist(nonzero_activity_train_1, bins=bins, color='0.7')\n",
    "ax.hist(all_activity_train_1, bins=bins, color='0.5')\n",
    "ax.set_title('Histogram of sleep spindle activity inside pages of training set (MASS, E1)', fontsize=12)\n",
    "ax.set_ylabel('Count')\n",
    "# ax.plot([mean_1, mean_1], [0, max_value], 'r--', label='Mean of nonzero %1.2f [s]' % mean_1)\n",
    "ax.plot([median_1_all, median_1_all], [0, max_value], 'b--', label='Median: %1.2f [s]' % median_1_all)\n",
    "ax.legend(loc='upper right')\n",
    "ax.set_xlabel('Sleep spindle activity inside a page [s]')\n",
    "max_activity = np.max(all_activity_train_1)\n",
    "ax.set_xlim([-0.1, max_activity])\n",
    "ax.set_xticks([i*0.5 for i in range(int(2*max_activity))])\n",
    "ax.annotate(\"\", xy=(1, 3300), xytext=(0.1, 3300), arrowprops=dict(arrowstyle=\"<-\"))\n",
    "ax.annotate(\"Zero activity\", xy=(2, 3280), xytext=(1.1, 3280))\n",
    "\n",
    "plt.show()"
   ]
  },
  {
   "cell_type": "code",
   "execution_count": null,
   "metadata": {},
   "outputs": [],
   "source": []
  }
 ],
 "metadata": {
  "kernelspec": {
   "display_name": "Python 3",
   "language": "python",
   "name": "python3"
  },
  "language_info": {
   "codemirror_mode": {
    "name": "ipython",
    "version": 3
   },
   "file_extension": ".py",
   "mimetype": "text/x-python",
   "name": "python",
   "nbconvert_exporter": "python",
   "pygments_lexer": "ipython3",
   "version": "3.6.8"
  }
 },
 "nbformat": 4,
 "nbformat_minor": 2
}
