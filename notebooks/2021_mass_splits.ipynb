{
 "cells": [
  {
   "cell_type": "code",
   "execution_count": 5,
   "id": "492a1ebb",
   "metadata": {},
   "outputs": [],
   "source": [
    "import sys\n",
    "import numpy as np\n",
    "sys.path.append(\"..\")\n",
    "from sleeprnn.data import mass_ss, utils"
   ]
  },
  {
   "cell_type": "code",
   "execution_count": 6,
   "id": "bfaff935",
   "metadata": {},
   "outputs": [
    {
     "name": "stdout",
     "output_type": "stream",
     "text": [
      "[2, 6, 12, 13]\n",
      "[4, 8, 15, 16]\n",
      "[1, 3, 5, 7, 9, 10, 11, 14, 17, 18, 19]\n"
     ]
    }
   ],
   "source": [
    "mass_test = mass_ss.IDS_TEST.copy()\n",
    "mass_out = mass_ss.IDS_INVALID.copy()\n",
    "mass_train = [i for i in range(1, 20) if i not in np.concatenate([mass_test, mass_out])]\n",
    "print(mass_test)\n",
    "print(mass_out)\n",
    "print(mass_train)"
   ]
  },
  {
   "cell_type": "code",
   "execution_count": 25,
   "id": "e1ddae49",
   "metadata": {},
   "outputs": [
    {
     "name": "stdout",
     "output_type": "stream",
     "text": [
      "ID & P1 & P2 & P3 & P4 & P5 & P6 & P7 & P8 & P9 & P10 & P11 \\\\\n",
      "1 & - & - & - & Val & - & Val & - & - & Val & - & - \\\\\n",
      "2 & Test & Test & Test & Test & Test & Test & Test & Test & Test & Test & Test \\\\\n",
      "3 & - & Val & - & - & - & Val & - & Val & - & - & - \\\\\n",
      "4 & Out & Out & Out & Out & Out & Out & Out & Out & Out & Out & Out \\\\\n",
      "5 & Val & - & - & Val & - & - & - & - & - & Val & - \\\\\n",
      "6 & Test & Test & Test & Test & Test & Test & Test & Test & Test & Test & Test \\\\\n",
      "7 & - & - & Val & - & Val & - & - & - & - & Val & - \\\\\n",
      "8 & Out & Out & Out & Out & Out & Out & Out & Out & Out & Out & Out \\\\\n",
      "9 & Val & - & - & - & Val & - & - & Val & - & - & - \\\\\n",
      "10 & - & - & - & Val & - & - & - & Val & Val & - & - \\\\\n",
      "11 & - & Val & - & - & - & Val & - & - & - & - & Val \\\\\n",
      "12 & Test & Test & Test & Test & Test & Test & Test & Test & Test & Test & Test \\\\\n",
      "13 & Test & Test & Test & Test & Test & Test & Test & Test & Test & Test & Test \\\\\n",
      "14 & - & - & Val & - & - & - & Val & - & - & Val & - \\\\\n",
      "15 & Out & Out & Out & Out & Out & Out & Out & Out & Out & Out & Out \\\\\n",
      "16 & Out & Out & Out & Out & Out & Out & Out & Out & Out & Out & Out \\\\\n",
      "17 & - & - & Val & - & - & - & Val & - & - & - & Val \\\\\n",
      "18 & Val & - & - & - & Val & - & - & - & Val & - & - \\\\\n",
      "19 & - & Val & - & - & - & - & Val & - & - & - & Val \\\\\n"
     ]
    }
   ],
   "source": [
    "n_train = 8\n",
    "base_composition = ['Test'] * len(mass_test) + \\\n",
    "                ['Out'] * len(mass_out) + \\\n",
    "                ['-'] * n_train + \\\n",
    "                ['Val'] * (len(mass_train) - n_train)\n",
    "base_composition = np.array(base_composition)\n",
    "n_folds = 11\n",
    "fold_composition_l = []\n",
    "for fold_id in range(n_folds):\n",
    "    train_ids, val_ids = utils.split_ids_list_v2(mass_train, split_id=fold_id, train_fraction=0.75)\n",
    "    fold_subjects = np.concatenate([mass_test, mass_out, train_ids, val_ids])\n",
    "    sorted_loc = np.argsort(fold_subjects)\n",
    "    fold_composition = base_composition[sorted_loc]\n",
    "    fold_composition_l.append(fold_composition)\n",
    "# Print table\n",
    "print(\" & \".join(['ID'] + ['P%d' % (i+1) for i in range(n_folds)]), \"\\\\\\\\\")\n",
    "for i in range(len(fold_composition_l[0])):\n",
    "    str_parts = [fold_composition_l[j][i] for j in range(n_folds)]\n",
    "    print(\" & \".join([str(i+1)] + str_parts), \"\\\\\\\\\")"
   ]
  },
  {
   "cell_type": "code",
   "execution_count": null,
   "id": "a6bc63f6",
   "metadata": {},
   "outputs": [],
   "source": []
  }
 ],
 "metadata": {
  "kernelspec": {
   "display_name": "Python 3",
   "language": "python",
   "name": "python3"
  },
  "language_info": {
   "codemirror_mode": {
    "name": "ipython",
    "version": 3
   },
   "file_extension": ".py",
   "mimetype": "text/x-python",
   "name": "python",
   "nbconvert_exporter": "python",
   "pygments_lexer": "ipython3",
   "version": "3.7.10"
  }
 },
 "nbformat": 4,
 "nbformat_minor": 5
}
