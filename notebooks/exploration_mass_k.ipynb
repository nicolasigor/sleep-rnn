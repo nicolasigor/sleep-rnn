{
 "cells": [
  {
   "cell_type": "markdown",
   "metadata": {},
   "source": [
    "# MASS database inspection (K-Complexes)"
   ]
  },
  {
   "cell_type": "code",
   "execution_count": 1,
   "metadata": {},
   "outputs": [
    {
     "ename": "ModuleNotFoundError",
     "evalue": "No module named 'sleep'",
     "output_type": "error",
     "traceback": [
      "\u001b[0;31m---------------------------------------------------------------------------\u001b[0m",
      "\u001b[0;31mModuleNotFoundError\u001b[0m                       Traceback (most recent call last)",
      "\u001b[0;32m<ipython-input-1-cce18a9e6bb0>\u001b[0m in \u001b[0;36m<module>\u001b[0;34m()\u001b[0m\n\u001b[1;32m     15\u001b[0m \u001b[0msys\u001b[0m\u001b[0;34m.\u001b[0m\u001b[0mpath\u001b[0m\u001b[0;34m.\u001b[0m\u001b[0mappend\u001b[0m\u001b[0;34m(\u001b[0m\u001b[0mdetector_path\u001b[0m\u001b[0;34m)\u001b[0m\u001b[0;34m\u001b[0m\u001b[0;34m\u001b[0m\u001b[0m\n\u001b[1;32m     16\u001b[0m \u001b[0;34m\u001b[0m\u001b[0m\n\u001b[0;32m---> 17\u001b[0;31m \u001b[0;32mfrom\u001b[0m \u001b[0msleep\u001b[0m\u001b[0;34m.\u001b[0m\u001b[0mmass_k\u001b[0m \u001b[0;32mimport\u001b[0m \u001b[0mMASSK\u001b[0m\u001b[0;34m\u001b[0m\u001b[0;34m\u001b[0m\u001b[0m\n\u001b[0m\u001b[1;32m     18\u001b[0m \u001b[0;32mfrom\u001b[0m \u001b[0msleep\u001b[0m\u001b[0;34m.\u001b[0m\u001b[0mmass_k\u001b[0m \u001b[0;32mimport\u001b[0m \u001b[0mKEY_EEG\u001b[0m\u001b[0;34m,\u001b[0m \u001b[0mKEY_PAGES\u001b[0m\u001b[0;34m,\u001b[0m \u001b[0mKEY_ID\u001b[0m\u001b[0;34m,\u001b[0m \u001b[0mKEY_MARKS\u001b[0m\u001b[0;34m\u001b[0m\u001b[0;34m\u001b[0m\u001b[0m\n\u001b[1;32m     19\u001b[0m \u001b[0;32mfrom\u001b[0m \u001b[0msleep\u001b[0m\u001b[0;34m.\u001b[0m\u001b[0mdata_ops\u001b[0m \u001b[0;32mimport\u001b[0m \u001b[0mseq2inter\u001b[0m\u001b[0;34m,\u001b[0m \u001b[0minter2seq\u001b[0m\u001b[0;34m,\u001b[0m \u001b[0mseq2inter_with_pages\u001b[0m\u001b[0;34m\u001b[0m\u001b[0;34m\u001b[0m\u001b[0m\n",
      "\u001b[0;31mModuleNotFoundError\u001b[0m: No module named 'sleep'"
     ]
    }
   ],
   "source": [
    "from __future__ import absolute_import\n",
    "from __future__ import division\n",
    "from __future__ import print_function\n",
    "\n",
    "import sys\n",
    "\n",
    "import ipywidgets as widgets\n",
    "import matplotlib.pyplot as plt\n",
    "from matplotlib import colors\n",
    "from matplotlib import gridspec\n",
    "import numpy as np\n",
    "import pprint\n",
    "\n",
    "detector_path = '..'\n",
    "sys.path.append(detector_path)\n",
    "\n",
    "from sleep.mass_k import MASSK\n",
    "from sleep.mass_k import KEY_EEG, KEY_PAGES, KEY_ID, KEY_MARKS\n",
    "from sleep.data_ops import seq2inter, inter2seq, seq2inter_with_pages\n",
    "from evaluation.metrics import by_sample_confusion, by_sample_iou, by_event_confusion, matching\n",
    "\n",
    "%matplotlib inline\n",
    "\n",
    "from IPython.core.display import display, HTML\n",
    "display(HTML(\"<style>.container { width:100% !important; }</style>\"))"
   ]
  },
  {
   "cell_type": "code",
   "execution_count": 3,
   "metadata": {
    "scrolled": true
   },
   "outputs": [
    {
     "name": "stdout",
     "output_type": "stream",
     "text": [
      "Dataset mass_k with 15 patients.\n",
      "Train size: 11. Test size: 4\n",
      "Train subjects: \n",
      " [1, 3, 5, 7, 9, 10, 11, 14, 17, 18, 19]\n",
      "Test subjects: \n",
      " [2, 6, 12, 13]\n",
      "Loading from checkpoint... Loaded\n"
     ]
    }
   ],
   "source": [
    "dataset = MASSK(load_checkpoint=True)"
   ]
  },
  {
   "cell_type": "markdown",
   "metadata": {},
   "source": [
    "## Checking general numbers"
   ]
  },
  {
   "cell_type": "code",
   "execution_count": 4,
   "metadata": {},
   "outputs": [
    {
     "name": "stdout",
     "output_type": "stream",
     "text": [
      "Sample frequency: 200\n",
      "Page duration and size: 20 4000\n",
      "Registers ids: [1, 2, 3, 5, 6, 7, 9, 10, 11, 12, 13, 14, 17, 18, 19]\n",
      "Number of loaded registers: 15\n",
      "\n",
      "Train set IDs: [1, 3, 5, 7, 9, 10, 11, 14, 17, 18, 19]\n",
      "Test set IDs: [2, 6, 12, 13]\n"
     ]
    }
   ],
   "source": [
    "print('Sample frequency:', dataset.fs)\n",
    "print('Page duration and size:', dataset.page_duration, dataset.page_size)\n",
    "print('Registers ids:', dataset.all_ids)\n",
    "print('Number of loaded registers:', len(dataset.data))\n",
    "print('')\n",
    "print('Train set IDs:', dataset.train_ids)\n",
    "print('Test set IDs:', dataset.test_ids)"
   ]
  },
  {
   "cell_type": "markdown",
   "metadata": {},
   "source": [
    "## Check one subject"
   ]
  },
  {
   "cell_type": "code",
   "execution_count": 5,
   "metadata": {},
   "outputs": [],
   "source": [
    "def plot_subject_global(signal, fs, pages, page_size, marks_1):\n",
    "    time_axis = np.arange(signal.size) / fs\n",
    "    max_time = time_axis[-1]\n",
    "    \n",
    "    n_pages = np.ceil(signal.size / page_size).astype(int)\n",
    "    n2_stages = np.zeros(n_pages, dtype=np.uint8)\n",
    "    for page in pages:\n",
    "        n2_stages[page] = 1\n",
    "    \n",
    "    marks_1_in_page = np.zeros(n_pages, dtype=np.int32)\n",
    "    marks_1_n2_without_marks = 0\n",
    "    for page in pages:\n",
    "        start_sample = page * page_size\n",
    "        end_sample = (page+1) * page_size\n",
    "        marks_1_presence = np.sum(marks_1[start_sample:end_sample])\n",
    "        if marks_1_presence == 0:\n",
    "            marks_1_n2_without_marks += 1\n",
    "        marks_1_in_page[page] = marks_1_presence\n",
    "    \n",
    "    print('Number of N2 pages without E1 marks: %d' % marks_1_n2_without_marks)\n",
    "    \n",
    "    fig, ax = plt.subplots(3, 1, figsize=(15, 5))\n",
    "    \n",
    "    ax[0].set_title('Normalized EEG Signal')\n",
    "    ax[0].plot(time_axis, signal)\n",
    "    ax[0].set_xlabel('Time [s]')\n",
    "    ax[0].set_xlim([0, max_time])\n",
    "\n",
    "    ax[1].set_title('N2 stages (white is active)')\n",
    "    ax[1].imshow(n2_stages[np.newaxis, :], interpolation=None, aspect='auto', cmap='gray', extent=[0, max_time, 0, 1])\n",
    "    ax[1].axis('off')\n",
    "    \n",
    "    ax[2].set_title('E1 marks presence (white is active)')\n",
    "    ax[2].imshow(marks_1_in_page[np.newaxis, :], interpolation=None, aspect='auto', extent=[0, max_time, 0, 1], cmap='gray')\n",
    "    ax[2].axis('off')\n",
    "    \n",
    "    plt.tight_layout()\n",
    "    plt.show()"
   ]
  },
  {
   "cell_type": "markdown",
   "metadata": {},
   "source": [
    "### Complete register visualization"
   ]
  },
  {
   "cell_type": "code",
   "execution_count": 12,
   "metadata": {},
   "outputs": [],
   "source": [
    "# Registers ids: [1, 2, 3, 5, 6, 7, 9, 10, 11, 12, 13, 14, 17, 19]\n",
    "subject_id = 1"
   ]
  },
  {
   "cell_type": "code",
   "execution_count": 13,
   "metadata": {},
   "outputs": [
    {
     "name": "stdout",
     "output_type": "stream",
     "text": [
      "Loaded subject ID 1\n",
      "Signal size 5791600. Number of pages 745\n"
     ]
    }
   ],
   "source": [
    "ind_idx = dataset.all_ids.index(subject_id)\n",
    "ind_dict = dataset.data[ind_idx]\n",
    "subject_id = ind_dict[KEY_ID]\n",
    "signal = ind_dict[KEY_EEG]\n",
    "pages = ind_dict[KEY_PAGES]\n",
    "marks_1 = ind_dict['%s_1' % KEY_MARKS]\n",
    "\n",
    "print('Loaded subject ID %s' % subject_id)\n",
    "print('Signal size %d. Number of pages %d' % (signal.shape[0], pages.shape[0]))"
   ]
  },
  {
   "cell_type": "code",
   "execution_count": 14,
   "metadata": {},
   "outputs": [
    {
     "name": "stdout",
     "output_type": "stream",
     "text": [
      "Number of N2 pages without E1 marks: 452\n"
     ]
    },
    {
     "data": {
      "image/png": "[encoded data removed]",
      "text/plain": [
       "<Figure size 1080x360 with 3 Axes>"
      ]
     },
     "metadata": {
      "needs_background": "light"
     },
     "output_type": "display_data"
    }
   ],
   "source": [
    "plot_subject_global(signal, dataset.fs, pages, dataset.page_size, marks_1)"
   ]
  },
  {
   "cell_type": "markdown",
   "metadata": {},
   "source": [
    "## Marks statistics from saved data"
   ]
  },
  {
   "cell_type": "code",
   "execution_count": 15,
   "metadata": {},
   "outputs": [
    {
     "name": "stdout",
     "output_type": "stream",
     "text": [
      "Number of marks from E1: 409\n"
     ]
    }
   ],
   "source": [
    "marks_1_stamps = seq2inter(marks_1)\n",
    "print('Number of marks from E1: %d' % marks_1_stamps.shape[0])"
   ]
  },
  {
   "cell_type": "code",
   "execution_count": 16,
   "metadata": {},
   "outputs": [
    {
     "data": {
      "image/png": "[encoded data removed]",
      "text/plain": [
       "<Figure size 432x288 with 1 Axes>"
      ]
     },
     "metadata": {
      "needs_background": "light"
     },
     "output_type": "display_data"
    }
   ],
   "source": [
    "durations_1 = np.diff(marks_1_stamps)[:, 0] / dataset.fs\n",
    "\n",
    "fig, ax = plt.subplots(1, 1)\n",
    "ax.hist(durations_1, bins=20)\n",
    "ax.set_title('E1 marks durations')\n",
    "ax.set_xlabel('Duration [s]')\n",
    "plt.show()"
   ]
  },
  {
   "cell_type": "markdown",
   "metadata": {},
   "source": [
    "## Page visualization"
   ]
  },
  {
   "cell_type": "code",
   "execution_count": 17,
   "metadata": {},
   "outputs": [
    {
     "name": "stdout",
     "output_type": "stream",
     "text": [
      "Getting ID 1, 745 N2 pages, Expert 1\n"
     ]
    }
   ],
   "source": [
    "n2_signal, n2_marks_1 = dataset.get_subject_data(subject_id, which_expert=1, verbose=True)\n",
    "pages = dataset.get_subject_pages(subject_id)"
   ]
  },
  {
   "cell_type": "code",
   "execution_count": 18,
   "metadata": {},
   "outputs": [
    {
     "name": "stdout",
     "output_type": "stream",
     "text": [
      "Number of n2 pages: (745, 4000)\n",
      "Number of pages without E1 marks: 452\n"
     ]
    }
   ],
   "source": [
    "print('Number of n2 pages:', n2_signal.shape)\n",
    "tmp = np.sum(n2_marks_1, axis=1)\n",
    "tmp = sum((tmp==0).astype(int))\n",
    "print('Number of pages without E1 marks:', tmp)"
   ]
  },
  {
   "cell_type": "code",
   "execution_count": 19,
   "metadata": {},
   "outputs": [
    {
     "name": "stdout",
     "output_type": "stream",
     "text": [
      "Number of E1 marks: (403, 2)\n"
     ]
    }
   ],
   "source": [
    "n2_marks_1_stamps = seq2inter_with_pages(n2_marks_1, pages)\n",
    "print('Number of E1 marks:', n2_marks_1_stamps.shape)"
   ]
  },
  {
   "cell_type": "code",
   "execution_count": 47,
   "metadata": {},
   "outputs": [
    {
     "data": {
      "text/plain": [
       "(4000,)"
      ]
     },
     "execution_count": 47,
     "metadata": {},
     "output_type": "execute_result"
    }
   ],
   "source": [
    "n2_marks_1[0, :].shape"
   ]
  },
  {
   "cell_type": "code",
   "execution_count": 66,
   "metadata": {},
   "outputs": [],
   "source": [
    "# make a color map of fixed colors\n",
    "cmap = colors.ListedColormap(['white', '#c62828'])\n",
    "\n",
    "def plot_page(page, signal, e1_marks, n2_pages, fs):\n",
    "    fig, ax = plt.subplots(1, 1, figsize=(15, 2), dpi=150)\n",
    "    \n",
    "    page = page - 1\n",
    "    \n",
    "    segment_signal = signal[page, :]\n",
    "    segment_e1_marks = e1_marks[page, :]\n",
    "    time_axis = np.arange(signal.shape[1])/fs   \n",
    "    \n",
    "    \n",
    "    # Signal\n",
    "    y_max = 10\n",
    "    ax.plot(time_axis, segment_signal, linewidth=1, color='#455a64', label='EEG C3-CLE')\n",
    "    ax.fill_between(time_axis, y_max * segment_e1_marks, -y_max * segment_e1_marks, facecolor='#c62828', alpha=0.3, label='K-Complex')\n",
    "    ax.set_yticks([])\n",
    "    ax.set_xlim([0, 20])\n",
    "    ax.set_ylim([-y_max, y_max])\n",
    "    ax.set_title('Subject %d (MASS). Page in record: %d (intervals of 0.5s are shown).' \n",
    "                 % (subject_id, n2_pages[page]), fontsize=10)\n",
    "    ax.set_xticks([0, 5, 10, 15, 20])\n",
    "    ax.set_xticks(np.arange(0, 20, 0.5), minor=True)\n",
    "    ax.grid(b=True, axis='x', which='minor')\n",
    "    lg = ax.legend(loc='upper right', fontsize=8.5)\n",
    "    # lh = lg.legendHandles[1]\n",
    "    # lh.set_facecolor(lh.get_facecolor())\n",
    "    # lh.set_alpha(1.0)\n",
    "    ax.tick_params(labelsize=8.5)\n",
    "    \n",
    "    plt.tight_layout()\n",
    "    plt.show()"
   ]
  },
  {
   "cell_type": "code",
   "execution_count": 67,
   "metadata": {},
   "outputs": [
    {
     "data": {
      "application/vnd.jupyter.widget-view+json": {
       "model_id": "5e8a3ac73e7845ae94363a3c78d810e5",
       "version_major": 2,
       "version_minor": 0
      },
      "text/plain": [
       "interactive(children=(IntSlider(value=1, continuous_update=False, description='page', max=745, min=1), Output(…"
      ]
     },
     "metadata": {},
     "output_type": "display_data"
    }
   ],
   "source": [
    "widgets.interact(\n",
    "    lambda page: plot_page(page, n2_signal, n2_marks_1, pages, dataset.fs),\n",
    "    page=widgets.IntSlider(min=1,max=n2_signal.shape[0],step=1,value=1, continuous_update=False));"
   ]
  },
  {
   "cell_type": "code",
   "execution_count": null,
   "metadata": {},
   "outputs": [],
   "source": []
  }
 ],
 "metadata": {
  "kernelspec": {
   "display_name": "Python 3",
   "language": "python",
   "name": "python3"
  },
  "language_info": {
   "codemirror_mode": {
    "name": "ipython",
    "version": 3
   },
   "file_extension": ".py",
   "mimetype": "text/x-python",
   "name": "python",
   "nbconvert_exporter": "python",
   "pygments_lexer": "ipython3",
   "version": "3.6.8"
  }
 },
 "nbformat": 4,
 "nbformat_minor": 2
}
