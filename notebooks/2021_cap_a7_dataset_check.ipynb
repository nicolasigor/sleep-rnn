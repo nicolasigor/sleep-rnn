{
 "cells": [
  {
   "cell_type": "code",
   "execution_count": null,
   "metadata": {},
   "outputs": [],
   "source": [
    "from __future__ import absolute_import\n",
    "from __future__ import division\n",
    "from __future__ import print_function\n",
    "\n",
    "import os\n",
    "import sys\n",
    "from pprint import pprint\n",
    "\n",
    "import matplotlib.pyplot as plt\n",
    "import numpy as np\n",
    "import ipywidgets as widgets\n",
    "from scipy.signal import find_peaks, freqz\n",
    "\n",
    "sys.path.append('..')\n",
    "\n",
    "from sleeprnn.helpers import reader\n",
    "from sleeprnn.data import utils\n",
    "from sleeprnn.common import constants, pkeys, viz\n",
    "\n",
    "viz.notebook_full_width()\n",
    "%matplotlib inline"
   ]
  },
  {
   "cell_type": "markdown",
   "metadata": {},
   "source": [
    "# Load dataset"
   ]
  },
  {
   "cell_type": "code",
   "execution_count": null,
   "metadata": {},
   "outputs": [],
   "source": [
    "dataset = reader.load_dataset(constants.CAP_SS_NAME)\n",
    "fs = dataset.fs"
   ]
  },
  {
   "cell_type": "markdown",
   "metadata": {},
   "source": [
    "# Visualize single page"
   ]
  },
  {
   "cell_type": "code",
   "execution_count": null,
   "metadata": {},
   "outputs": [],
   "source": [
    "which_expert = 1\n",
    "\n",
    "subject_id = dataset.all_ids[31]\n",
    "\n",
    "signal = dataset.get_subject_signal(subject_id, normalize_clip=False, which_expert=which_expert)\n",
    "marks = dataset.get_subject_stamps(subject_id, pages_subset=constants.N2_RECORD, which_expert=which_expert)\n",
    "n2_pages = dataset.get_subject_pages(subject_id, pages_subset=constants.N2_RECORD)\n",
    "print(\"Subject\", subject_id)\n",
    "print(\"Total spindle marks:\", marks.shape[0])\n",
    "print(\"Total N2 pages:\", n2_pages.size)\n",
    "\n",
    "# Weird amplitude\n",
    "weird_locs = np.where(np.abs(signal) > 300)[0]\n",
    "weird_pages = weird_locs // dataset.page_size\n",
    "weird_pages = np.unique(weird_pages)\n",
    "print(weird_pages)\n",
    "n2_locs = [i_n2 for i_n2 in range(n2_pages.size) if n2_pages[i_n2] in weird_pages]\n",
    "print(\"N2 pages indices subset:\", n2_locs)\n",
    "\n",
    "fig, ax = plt.subplots(1, 1, figsize=(12, 3), dpi=120)\n",
    "ax.plot(signal, linewidth=0.8)\n",
    "ax.set_ylim([-500, 500])\n",
    "plt.show()\n",
    "\n",
    "\n",
    "\n",
    "# Weird change\n",
    "#changes = np.abs(np.diff(signal))\n",
    "#plt.hist(changes[changes > 20])\n",
    "#plt.show()"
   ]
  },
  {
   "cell_type": "code",
   "execution_count": null,
   "metadata": {},
   "outputs": [],
   "source": [
    "def draw_single_page(n2_page_index_to_show, dpi):\n",
    "    selected_page = n2_pages[n2_page_index_to_show]\n",
    "    start_sample = int(selected_page * dataset.page_size)\n",
    "    end_sample = start_sample + dataset.page_size\n",
    "    \n",
    "\n",
    "    segment_signal = signal[start_sample:end_sample]\n",
    "    segment_marks = utils.filter_stamps(marks, start_sample, end_sample)\n",
    "\n",
    "    sigma_signal = utils.broad_filter(segment_signal, fs, lowcut=11, highcut=16)\n",
    "    time_axis = np.arange(start_sample, end_sample) / fs\n",
    "\n",
    "    fig, axes = plt.subplots(2, 1, figsize=(12, 6), dpi=dpi)\n",
    "\n",
    "    axes[0].set_title(\"Subject %s, page in record %d\" % (subject_id, selected_page))\n",
    "    axes[0].plot(time_axis, segment_signal, linewidth=0.6)\n",
    "    axes[1].plot(time_axis, sigma_signal, linewidth=0.6)\n",
    "    for ax in axes[:2].flatten():\n",
    "        ax.set_ylim([-300, 300])\n",
    "        ax.set_xlim([start_sample/fs, end_sample/fs])\n",
    "        for mark in segment_marks:\n",
    "            mark = np.clip(mark, a_min=start_sample, a_max=end_sample)\n",
    "            ax.plot(mark / fs, [-50, -50], linewidth=5, alpha=0.5, color=viz.PALETTE['red'])\n",
    "        ax.set_xticks(np.linspace(start_sample/fs, end_sample/fs, 41), minor=True)\n",
    "        ax.grid(axis=\"x\", which=\"minor\")\n",
    "    \n",
    "    plt.tight_layout()\n",
    "    plt.show()\n",
    "\n",
    "\n",
    "    # power, freq = utils.power_spectrum(segment_signal, fs)\n",
    "    # fig, ax = plt.subplots(1, 1, figsize=(6, 4), dpi=120)\n",
    "    # ax.plot(freq, power, linewidth=0.7)\n",
    "    # ax.set_xlim([0, 30])\n",
    "    # ax.set_xlabel(\"Frequency (Hz)\")\n",
    "    # plt.show()\n",
    "    \n",
    "    \n",
    "n2_page_index_to_show = 0  # 110\n",
    "\n",
    "\n",
    "dpi = 120\n",
    "print('Total N2 pages: %d' % n2_pages.size)\n",
    "style = {'description_width': 'initial'}\n",
    "layout= widgets.Layout(width='1000px')\n",
    "widgets.interact(\n",
    "    lambda page_id: draw_single_page(page_id, dpi=dpi),\n",
    "    page_id=widgets.IntSlider(\n",
    "        min=0, max=n2_pages.size-1, step=1, value=n2_page_index_to_show, \n",
    "        continuous_update=False,\n",
    "        style=style,\n",
    "        layout=layout\n",
    "    ));"
   ]
  },
  {
   "cell_type": "code",
   "execution_count": null,
   "metadata": {},
   "outputs": [],
   "source": []
  },
  {
   "cell_type": "code",
   "execution_count": null,
   "metadata": {},
   "outputs": [],
   "source": []
  },
  {
   "cell_type": "code",
   "execution_count": null,
   "metadata": {},
   "outputs": [],
   "source": []
  },
  {
   "cell_type": "markdown",
   "metadata": {},
   "source": [
    "# Check duration histogram"
   ]
  },
  {
   "cell_type": "code",
   "execution_count": null,
   "metadata": {},
   "outputs": [],
   "source": [
    "marks_list = dataset.get_stamps(pages_subset=constants.N2_RECORD, which_expert=which_expert)"
   ]
  },
  {
   "cell_type": "code",
   "execution_count": null,
   "metadata": {},
   "outputs": [],
   "source": [
    "marks = np.concatenate(marks_list, axis=0)\n",
    "print(marks.shape)"
   ]
  },
  {
   "cell_type": "code",
   "execution_count": null,
   "metadata": {},
   "outputs": [],
   "source": [
    "durations = (marks[:, 1] - marks[:, 0]) / fs"
   ]
  },
  {
   "cell_type": "code",
   "execution_count": null,
   "metadata": {},
   "outputs": [],
   "source": [
    "fig, ax = plt.subplots(1, 1, figsize=(4, 4), dpi=120)\n",
    "ax.hist(durations, bins=np.arange(0.3, 3.001, 0.2))\n",
    "plt.show()"
   ]
  },
  {
   "cell_type": "code",
   "execution_count": null,
   "metadata": {},
   "outputs": [],
   "source": [
    "np.sum(durations < 0.4)"
   ]
  },
  {
   "cell_type": "code",
   "execution_count": null,
   "metadata": {},
   "outputs": [],
   "source": [
    "thr = 0.5\n",
    "all_msg = []\n",
    "all_fractions = []\n",
    "all_means = []\n",
    "for subject_id, subject_marks in zip(dataset.all_ids, marks_list):\n",
    "    subject_durations = (subject_marks[:, 1] - subject_marks[:, 0]) / fs\n",
    "    mean_duration = np.mean(subject_durations)\n",
    "    msg = \"Suject %s: %3d SS marks, %3d less than %ss (%1.2f%%). Mean duration: %1.3fs\" % (\n",
    "        subject_id, subject_durations.size, np.sum(subject_durations < thr), thr, 100 * np.sum(subject_durations < thr) / subject_durations.size, mean_duration)\n",
    "    all_msg.append(msg)\n",
    "    all_fractions.append(-100 * np.sum(subject_durations < thr) / subject_durations.size)\n",
    "    all_means.append(mean_duration)\n",
    "idx_sorted = np.argsort(all_fractions)\n",
    "all_msg = [all_msg[i] for i in idx_sorted]\n",
    "# for msg in all_msg:\n",
    "    # print(msg)\n",
    "    \n",
    "# print(\"\\n Mean of means in duration: %1.3fs\" % np.mean(all_means))\n",
    "# print(\"Mean of all durations aggregated: %1.3fs\" % np.mean(durations))"
   ]
  },
  {
   "cell_type": "markdown",
   "metadata": {},
   "source": [
    "# Analysis of parameters"
   ]
  },
  {
   "cell_type": "markdown",
   "metadata": {},
   "source": [
    "## Duration histogram per subject"
   ]
  },
  {
   "cell_type": "code",
   "execution_count": null,
   "metadata": {},
   "outputs": [],
   "source": [
    "which_expert = 1\n",
    "\n",
    "marks_list = dataset.get_stamps(pages_subset=constants.N2_RECORD, which_expert=which_expert)\n",
    "duration_resolution = 0.2\n",
    "fig, ax = plt.subplots(9,9, figsize=(14, 8), dpi=80, sharex=True)\n",
    "for i, (subject_id, subject_marks) in enumerate(zip(dataset.all_ids, marks_list)):\n",
    "    subject_durations = (subject_marks[:, 1] - subject_marks[:, 0]) / fs\n",
    "    mean_duration = np.mean(subject_durations)\n",
    "    row = i // 9\n",
    "    col = i % 9\n",
    "    ax[row, col].set_title(\"CAP %s (Mean %1.2fs)\" % (subject_id, mean_duration), fontsize=8)\n",
    "    ax[row, col].hist(subject_durations, bins=np.arange(0.3, 3.001, duration_resolution))\n",
    "    ax[row, col].axvline(mean_duration, color='k', linestyle=\"--\", linewidth=1.5, alpha=0.5)\n",
    "[s_ax.set_xlim([0, 3]) for s_ax in ax[-1, :]]\n",
    "[s_ax.set_xlabel(\"SS duration (s)\", fontsize=6) for s_ax in ax[-1, :]]\n",
    "[s_ax.tick_params(labelsize=6) for s_ax in ax.flatten()]\n",
    "plt.tight_layout()\n",
    "plt.show()"
   ]
  },
  {
   "cell_type": "markdown",
   "metadata": {},
   "source": [
    "## Spindle parameters"
   ]
  },
  {
   "cell_type": "code",
   "execution_count": null,
   "metadata": {},
   "outputs": [],
   "source": [
    "def analyze_spindle(spindle, fs):\n",
    "    duration = spindle.size / fs\n",
    "    pp_amplitude = spindle.max() - spindle.min()\n",
    "    rms = np.sqrt(np.mean(spindle ** 2))\n",
    "    central_freq_count = find_peaks(spindle)[0].size / duration\n",
    "    # Compute peak frequency by fft\n",
    "    w, h = freqz(spindle)\n",
    "    resp_freq = w * fs / (2*np.pi)\n",
    "    resp_amp = abs(h)\n",
    "    max_loc = np.argmax(resp_amp)\n",
    "    central_freq_fft = resp_freq[max_loc]\n",
    "    results = {\n",
    "        'duration': duration,\n",
    "        'pp_amplitude': pp_amplitude,\n",
    "        'rms': rms,\n",
    "        'central_freq_count': central_freq_count,\n",
    "        'central_freq_fft': central_freq_fft\n",
    "    }\n",
    "    return results\n",
    "\n",
    "\n",
    "def listify_dictionaries(list_of_dicts):\n",
    "    dict_of_lists = {}\n",
    "    for key in list_of_dicts[0].keys():\n",
    "        dict_of_lists[key] = []\n",
    "        for single_dict in list_of_dicts:\n",
    "            dict_of_lists[key].append(single_dict[key])\n",
    "    return dict_of_lists"
   ]
  },
  {
   "cell_type": "code",
   "execution_count": null,
   "metadata": {},
   "outputs": [],
   "source": [
    "which_expert = 3\n",
    "\n",
    "train_analysis = []\n",
    "for subject_id in dataset.all_ids:\n",
    "    signal = dataset.get_subject_signal(subject_id, normalize_clip=False, which_expert=which_expert)\n",
    "    stamps = dataset.get_subject_stamps(subject_id, which_expert=which_expert, pages_subset=constants.N2_RECORD)\n",
    "    sigma_signal = utils.broad_filter(signal, fs, lowcut=9, highcut=17)\n",
    "    spindles = [sigma_signal[s_start:s_end] for (s_start, s_end) in stamps]\n",
    "    analysis = []\n",
    "    for spindle in spindles:\n",
    "        analysis_results = analyze_spindle(spindle, fs)\n",
    "        analysis.append(analysis_results)\n",
    "    analysis = listify_dictionaries(analysis)\n",
    "    train_analysis.append(analysis)"
   ]
  },
  {
   "cell_type": "code",
   "execution_count": null,
   "metadata": {},
   "outputs": [],
   "source": [
    "fig, axes = plt.subplots(2, 2, figsize=(20, 8), dpi=80)\n",
    "showfliers = False\n",
    "xticklabels_rotation = 90\n",
    "\n",
    "axes[0, 0].set_title(\"Spindle Parameters (CAP-E%d)\" % which_expert, fontweight='bold', loc=\"left\", fontsize=14)\n",
    "\n",
    "# Duration\n",
    "ax = axes[0, 0]\n",
    "ax.set_ylabel(\"Duration [s]\")\n",
    "ax.boxplot(\n",
    "    [analysis['duration'] for analysis in train_analysis], \n",
    "    labels=dataset.all_ids, showfliers=showfliers,\n",
    "    flierprops={'markersize': 2})\n",
    "ax.grid(axis='y')\n",
    "ax.set_xlabel(\"Subject\")\n",
    "ax.set_yticks(np.arange(0.5, 3.0 + 0.001, 0.25))\n",
    "ax.set_ylim([0.5, 3.0])\n",
    "ax.tick_params(axis='x', rotation=xticklabels_rotation)\n",
    "\n",
    "# Frequency\n",
    "ax = axes[1, 0]\n",
    "ax.set_ylabel(\"Frequency [Hz]\")\n",
    "ax.boxplot(\n",
    "    [analysis['central_freq_fft'] for analysis in train_analysis], \n",
    "    labels=dataset.all_ids, showfliers=showfliers,\n",
    "    flierprops={'markersize': 2})\n",
    "ax.grid(axis='y')\n",
    "ax.set_yticks([11, 12, 13, 14, 15])\n",
    "ax.set_ylim([10, 16])\n",
    "ax.set_xlabel(\"Subject\")\n",
    "ax.tick_params(axis='x', rotation=xticklabels_rotation)\n",
    "\n",
    "# Amplitude PP\n",
    "ax = axes[0, 1]\n",
    "ax.set_ylabel(\"Amplitude PP [V]\")\n",
    "ax.boxplot(\n",
    "    [analysis['pp_amplitude'] for analysis in train_analysis], \n",
    "    labels=dataset.all_ids, showfliers=showfliers,\n",
    "    flierprops={'markersize': 2})\n",
    "ax.grid(axis='y')\n",
    "ax.set_yticks([20, 40, 60, 80])\n",
    "ax.set_ylim([10, 100])\n",
    "ax.set_xlabel(\"Subject\")\n",
    "ax.tick_params(axis='x', rotation=xticklabels_rotation)\n",
    "\n",
    "# Amplitude RMS\n",
    "ax = axes[1, 1]\n",
    "ax.set_ylabel(\"Amplitude RMS [V]\")\n",
    "ax.boxplot(\n",
    "    [analysis['rms'] for analysis in train_analysis], \n",
    "    labels=dataset.all_ids, showfliers=showfliers,\n",
    "    flierprops={'markersize': 2})\n",
    "ax.grid(axis='y')\n",
    "ax.set_xlabel(\"Subject\")\n",
    "ax.set_yticks([5, 10, 15, 20])\n",
    "ax.set_ylim([0, 25])\n",
    "ax.tick_params(axis='x', rotation=xticklabels_rotation)\n",
    "\n",
    "for ax in axes.flatten():\n",
    "    ax.tick_params(labelsize=8)\n",
    "\n",
    "\n",
    "plt.tight_layout()\n",
    "\n",
    "fname_prefix = 'params_cap_e%d' % which_expert\n",
    "plt.savefig(\"%s.pdf\" % fname_prefix, bbox_inches=\"tight\", pad_inches=0.1)\n",
    "plt.savefig(\"%s.png\" % fname_prefix, bbox_inches=\"tight\", pad_inches=0.1, dpi=200)\n",
    "plt.show()"
   ]
  },
  {
   "cell_type": "code",
   "execution_count": null,
   "metadata": {},
   "outputs": [],
   "source": []
  }
 ],
 "metadata": {
  "kernelspec": {
   "display_name": "Python 3",
   "language": "python",
   "name": "python3"
  },
  "language_info": {
   "codemirror_mode": {
    "name": "ipython",
    "version": 3
   },
   "file_extension": ".py",
   "mimetype": "text/x-python",
   "name": "python",
   "nbconvert_exporter": "python",
   "pygments_lexer": "ipython3",
   "version": "3.7.10"
  }
 },
 "nbformat": 4,
 "nbformat_minor": 2
}
