{
 "cells": [
  {
   "cell_type": "markdown",
   "metadata": {},
   "source": [
    "# INTA database inspection"
   ]
  },
  {
   "cell_type": "code",
   "execution_count": null,
   "metadata": {},
   "outputs": [],
   "source": [
    "from __future__ import absolute_import\n",
    "from __future__ import division\n",
    "from __future__ import print_function\n",
    "\n",
    "import sys\n",
    "\n",
    "import ipywidgets as widgets\n",
    "import matplotlib.pyplot as plt\n",
    "from matplotlib import gridspec\n",
    "import numpy as np\n",
    "import pprint\n",
    "\n",
    "detector_path = '..'\n",
    "sys.path.append(detector_path)\n",
    "\n",
    "from sleep.inta import INTA\n",
    "from sleep.inta import KEY_EEG, KEY_PAGES, KEY_ID, KEY_MARKS\n",
    "from sleep.data_ops import seq2inter, inter2seq, seq2inter_with_pages\n",
    "from evaluation.metrics import by_sample_confusion, by_sample_iou, by_event_confusion, matching\n",
    "\n",
    "%matplotlib inline\n",
    "\n",
    "from IPython.core.display import display, HTML\n",
    "display(HTML(\"<style>.container { width:100% !important; }</style>\"))"
   ]
  },
  {
   "cell_type": "code",
   "execution_count": null,
   "metadata": {
    "scrolled": true
   },
   "outputs": [],
   "source": [
    "dataset = INTA(load_checkpoint=True)"
   ]
  },
  {
   "cell_type": "markdown",
   "metadata": {},
   "source": [
    "## Checking general numbers"
   ]
  },
  {
   "cell_type": "code",
   "execution_count": null,
   "metadata": {},
   "outputs": [],
   "source": [
    "print('Sample frequency:', dataset.fs)\n",
    "print('Page duration and size:', dataset.page_duration, dataset.page_size)\n",
    "print('Registers ids:', dataset.all_ids)\n",
    "print('Number of loaded registers:', len(dataset.data))\n",
    "print('')\n",
    "print('Train set IDs:', dataset.train_ids)\n",
    "print('Test set IDs:', dataset.test_ids)"
   ]
  },
  {
   "cell_type": "markdown",
   "metadata": {},
   "source": [
    "## Check one subject"
   ]
  },
  {
   "cell_type": "code",
   "execution_count": null,
   "metadata": {},
   "outputs": [],
   "source": [
    "def plot_subject_global(signal, fs, pages, page_size, marks_1):\n",
    "    time_axis = np.arange(signal.size) / fs\n",
    "    max_time = time_axis[-1]\n",
    "    \n",
    "    n_pages = np.ceil(signal.size / page_size).astype(int)\n",
    "    n2_stages = np.zeros(n_pages, dtype=np.uint8)\n",
    "    for page in pages:\n",
    "        n2_stages[page] = 1\n",
    "    \n",
    "    marks_1_in_page = np.zeros(n_pages, dtype=np.int32)\n",
    "    marks_1_n2_without_marks = 0\n",
    "    for page in pages:\n",
    "        start_sample = page * page_size\n",
    "        end_sample = (page+1) * page_size\n",
    "        marks_1_presence = np.sum(marks_1[start_sample:end_sample])\n",
    "        if marks_1_presence == 0:\n",
    "            marks_1_n2_without_marks += 1\n",
    "        marks_1_in_page[page] = marks_1_presence\n",
    "    \n",
    "    print('Number of N2 pages without E1 marks: %d' % marks_1_n2_without_marks)\n",
    "    \n",
    "    fig, ax = plt.subplots(3, 1, figsize=(15, 5))\n",
    "    \n",
    "    ax[0].set_title('Normalized EEG Signal')\n",
    "    ax[0].plot(time_axis, signal)\n",
    "    ax[0].set_xlabel('Time [s]')\n",
    "    ax[0].set_xlim([0, max_time])\n",
    "\n",
    "    ax[1].set_title('N2 stages (white is active)')\n",
    "    ax[1].imshow(n2_stages[np.newaxis, :], interpolation=None, aspect='auto', cmap='gray', extent=[0, max_time, 0, 1])\n",
    "    ax[1].axis('off')\n",
    "    \n",
    "    ax[2].set_title('E1 marks presence (white is active)')\n",
    "    ax[2].imshow(marks_1_in_page[np.newaxis, :], interpolation=None, aspect='auto', extent=[0, max_time, 0, 1], cmap='gray')\n",
    "    ax[2].axis('off')\n",
    "    \n",
    "    plt.tight_layout()\n",
    "    plt.show()"
   ]
  },
  {
   "cell_type": "markdown",
   "metadata": {},
   "source": [
    "### Complete register visualization"
   ]
  },
  {
   "cell_type": "code",
   "execution_count": null,
   "metadata": {},
   "outputs": [],
   "source": [
    "# Registers ids: [1, 2, 3, 5, 6, 7, 9, 10, 11, 12, 13, 14, 17, 19]\n",
    "subject_id = 2"
   ]
  },
  {
   "cell_type": "code",
   "execution_count": null,
   "metadata": {},
   "outputs": [],
   "source": [
    "ind_idx = dataset.all_ids.index(subject_id)\n",
    "ind_dict = dataset.data[ind_idx]\n",
    "subject_id = ind_dict[KEY_ID]\n",
    "signal = ind_dict[KEY_EEG]\n",
    "pages = ind_dict[KEY_PAGES]\n",
    "marks_1 = ind_dict['%s_1' % KEY_MARKS]\n",
    "\n",
    "print('Loaded subject ID %s' % subject_id)\n",
    "print('Signal size %d. Number of pages %d' % (signal.shape[0], pages.shape[0]))"
   ]
  },
  {
   "cell_type": "code",
   "execution_count": null,
   "metadata": {},
   "outputs": [],
   "source": [
    "plot_subject_global(signal, dataset.fs, pages, dataset.page_size, marks_1)"
   ]
  },
  {
   "cell_type": "markdown",
   "metadata": {},
   "source": [
    "## Marks statistics from saved data"
   ]
  },
  {
   "cell_type": "code",
   "execution_count": null,
   "metadata": {},
   "outputs": [],
   "source": [
    "marks_1_stamps = seq2inter(marks_1)\n",
    "print('Number of marks from E1: %d' % marks_1_stamps.shape[0])"
   ]
  },
  {
   "cell_type": "code",
   "execution_count": null,
   "metadata": {},
   "outputs": [],
   "source": [
    "durations_1 = np.diff(marks_1_stamps)[:, 0] / dataset.fs\n",
    "\n",
    "fig, ax = plt.subplots(1, 1)\n",
    "ax.hist(durations_1, bins=20)\n",
    "ax.set_title('E1 marks durations')\n",
    "ax.set_xlabel('Duration [s]')\n",
    "plt.show()"
   ]
  },
  {
   "cell_type": "markdown",
   "metadata": {},
   "source": [
    "## Page visualization"
   ]
  },
  {
   "cell_type": "code",
   "execution_count": null,
   "metadata": {},
   "outputs": [],
   "source": [
    "n2_signal, n2_marks_1 = dataset.get_subject_data(subject_id, which_expert=1, verbose=True)\n",
    "pages = dataset.get_subject_pages(subject_id)"
   ]
  },
  {
   "cell_type": "code",
   "execution_count": null,
   "metadata": {},
   "outputs": [],
   "source": [
    "print('Number of n2 pages:', n2_signal.shape)\n",
    "tmp = np.sum(n2_marks_1, axis=1)\n",
    "tmp = sum((tmp==0).astype(int))\n",
    "print('Number of pages without E1 marks:', tmp)"
   ]
  },
  {
   "cell_type": "code",
   "execution_count": null,
   "metadata": {},
   "outputs": [],
   "source": [
    "n2_marks_1_stamps = seq2inter_with_pages(n2_marks_1, pages)\n",
    "print('Number of E1 marks:', n2_marks_1_stamps.shape)"
   ]
  },
  {
   "cell_type": "code",
   "execution_count": null,
   "metadata": {},
   "outputs": [],
   "source": [
    "def plot_page(page, signal, e1_marks, n2_pages, fs):\n",
    "    fig = plt.figure(figsize=(20, 5)) \n",
    "    gs = gridspec.GridSpec(2, 1, height_ratios=[4, 1]) \n",
    "    \n",
    "    page = page - 1\n",
    "    \n",
    "    segment_signal = signal[page, :]\n",
    "    segment_e1_marks = e1_marks[page, :]\n",
    "    time_axis = np.arange(signal.shape[1])/fs\n",
    "    \n",
    "    # Signal\n",
    "    ax0 = fig.add_subplot(gs[0])\n",
    "    ax0.plot(time_axis, segment_signal)\n",
    "    ax0.set_yticks([])\n",
    "    ax0.set_xlim([0, 20])\n",
    "    ax0.set_ylim([-6, 6])\n",
    "    ax0.set_title('EEG Signal, F4-C4 (intervals of 0.5s are shown), original page %d' % n2_pages[page])\n",
    "    ax0.set_xticks([0, 5, 10, 15, 20])\n",
    "    ax0.set_xticks(np.arange(0, 20, 0.5), minor=True)\n",
    "    ax0.grid(b=True, axis='x', which='minor')\n",
    "    \n",
    "    # Expert mark\n",
    "    ax2 = fig.add_subplot(gs[1])\n",
    "    ax2.imshow(segment_e1_marks[np.newaxis, :], interpolation=None, aspect='auto', cmap='gray')\n",
    "    ax2.axis('off')\n",
    "    ax2.set_title('Expert 1 (white is active)')\n",
    "    \n",
    "    plt.tight_layout()\n",
    "    plt.show()"
   ]
  },
  {
   "cell_type": "code",
   "execution_count": null,
   "metadata": {},
   "outputs": [],
   "source": [
    "widgets.interact(\n",
    "    lambda page: plot_page(page, n2_signal, n2_marks_1, pages, dataset.fs),\n",
    "    page=widgets.IntSlider(min=1,max=n2_signal.shape[0],step=1,value=1, continuous_update=False));"
   ]
  },
  {
   "cell_type": "code",
   "execution_count": null,
   "metadata": {},
   "outputs": [],
   "source": []
  }
 ],
 "metadata": {
  "kernelspec": {
   "display_name": "Python 3",
   "language": "python",
   "name": "python3"
  },
  "language_info": {
   "codemirror_mode": {
    "name": "ipython",
    "version": 3
   },
   "file_extension": ".py",
   "mimetype": "text/x-python",
   "name": "python",
   "nbconvert_exporter": "python",
   "pygments_lexer": "ipython3",
   "version": "3.6.5"
  }
 },
 "nbformat": 4,
 "nbformat_minor": 2
}
