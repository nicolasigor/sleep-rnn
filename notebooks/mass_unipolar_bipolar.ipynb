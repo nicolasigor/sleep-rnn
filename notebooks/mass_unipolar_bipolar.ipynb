{
 "cells": [
  {
   "cell_type": "code",
   "execution_count": 67,
   "metadata": {},
   "outputs": [
    {
     "data": {
      "text/html": [
       "<style>.container { width:100% !important; }</style>"
      ],
      "text/plain": [
       "<IPython.core.display.HTML object>"
      ]
     },
     "metadata": {},
     "output_type": "display_data"
    }
   ],
   "source": [
    "from __future__ import absolute_import\n",
    "from __future__ import division\n",
    "from __future__ import print_function\n",
    "\n",
    "import os\n",
    "import sys\n",
    "from pprint import pprint\n",
    "\n",
    "import numpy as np\n",
    "import matplotlib.pyplot as plt\n",
    "import pyedflib\n",
    "import ipywidgets as widgets\n",
    "\n",
    "project_root = os.path.abspath('..')\n",
    "sys.path.append(project_root)\n",
    "\n",
    "from sleeprnn.common import viz, constants\n",
    "from sleeprnn.data.utils import PATH_DATA\n",
    "from sleeprnn.data.mass_kc import PATH_MASS_RELATIVE, PATH_REC, PATH_MARKS\n",
    "\n",
    "%matplotlib inline\n",
    "from IPython.core.display import display, HTML\n",
    "display(HTML(\"<style>.container { width:100% !important; }</style>\"))"
   ]
  },
  {
   "cell_type": "code",
   "execution_count": 68,
   "metadata": {},
   "outputs": [],
   "source": [
    "subject_id = 1\n",
    "file_rec = os.path.join(\n",
    "    project_root, PATH_DATA, PATH_MASS_RELATIVE, PATH_REC,\n",
    "    '01-02-%04d PSG.edf' % subject_id)\n",
    "file_ss = os.path.join(\n",
    "    project_root, PATH_DATA, PATH_MASS_RELATIVE, PATH_MARKS,\n",
    "    '01-02-%04d KComplexesE1.edf' % subject_id)\n",
    "\n",
    "chosen_unipolar = [\n",
    "    'F3',\n",
    "    'F4',\n",
    "    'C3',\n",
    "    'Cz',\n",
    "    'C4',\n",
    "    'P3',\n",
    "    'P4'\n",
    "]\n",
    "chosen_bipolar = [\n",
    "    ('F3', 'C3'),\n",
    "    ('F4', 'C4')\n",
    "]\n",
    "\n",
    "marked_ch = 'C3'\n",
    "\n",
    "unipolar_signals = {}\n",
    "bipolar_signals = {}\n",
    "\n",
    "with pyedflib.EdfReader(file_rec) as file:\n",
    "    channel_names = file.getSignalLabels()\n",
    "    for name in chosen_unipolar:\n",
    "        format_name = 'EEG %s-CLE' % name\n",
    "        channel_to_extract = channel_names.index(format_name)\n",
    "        this_signal = file.readSignal(channel_to_extract)\n",
    "        unipolar_signals[name] = this_signal\n",
    "    fs = file.samplefrequency(channel_to_extract)\n",
    "    for name in chosen_bipolar:\n",
    "        bipolar_signals[name] = unipolar_signals[name[0]] - unipolar_signals[name[1]]\n",
    "    \n",
    "with pyedflib.EdfReader(file_ss) as file:\n",
    "    annotations = file.readAnnotations()\n",
    "onsets = np.array(annotations[0])\n",
    "durations = np.array(annotations[1])\n",
    "offsets = onsets + durations\n",
    "marks_time = np.stack((onsets, offsets), axis=1)  # time-stamps\n",
    "# Transforms to sample-stamps\n",
    "ss_marks = np.round(marks_time * fs).astype(np.int32)"
   ]
  },
  {
   "cell_type": "code",
   "execution_count": 69,
   "metadata": {},
   "outputs": [],
   "source": [
    "def show_segment(ss_to_show):\n",
    "    context = 6\n",
    "\n",
    "    ##########\n",
    "    chosen_mark = ss_marks[ss_to_show, :]\n",
    "    center_sample = np.mean(chosen_mark)\n",
    "    start_sample = int(center_sample - fs*context//2)\n",
    "    end_sample = int(start_sample + fs*context)\n",
    "    start_mark = chosen_mark[0] - start_sample\n",
    "    end_mark = chosen_mark[1] - start_sample\n",
    "    time_axis = np.arange(start_sample, end_sample) / fs\n",
    "\n",
    "\n",
    "    fig, ax = plt.subplots(1, 1, figsize=(6, 8), dpi=120)\n",
    "    small_font = 7\n",
    "\n",
    "    dy = 180\n",
    "    start_bipolar = 0\n",
    "\n",
    "    for k, name in enumerate(chosen_bipolar):\n",
    "        this_signal = bipolar_signals[name]\n",
    "        this_segment = this_signal[start_sample:end_sample]\n",
    "        ax.plot(time_axis, this_segment - k*dy + start_bipolar, linewidth=1, color=viz.PALETTE[constants.DARK])\n",
    "        if marked_ch in name:\n",
    "            ax.fill_between(\n",
    "                chosen_mark / fs, 50- k*dy + start_bipolar, -50- k*dy + start_bipolar ,\n",
    "                facecolor=viz.PALETTE[constants.GREY], alpha=0.4,  label='Mark')\n",
    "\n",
    "    start_unipolar = len(chosen_bipolar) - k*dy + start_bipolar - dy\n",
    "\n",
    "    for k, name in enumerate(chosen_unipolar):\n",
    "        this_signal = unipolar_signals[name]\n",
    "        this_segment = this_signal[start_sample:end_sample]\n",
    "        if 'F' in name:\n",
    "            this_color = constants.BLUE\n",
    "        elif 'P' in name:\n",
    "            this_color = constants.RED\n",
    "        else:\n",
    "            this_color = constants.DARK\n",
    "        ax.plot(time_axis, this_segment - k*dy + start_unipolar, linewidth=1, color=viz.PALETTE[this_color])\n",
    "        if name == marked_ch:\n",
    "            ax.fill_between(\n",
    "                chosen_mark / fs, 50- k*dy + start_unipolar, -50- k*dy + start_unipolar, \n",
    "                facecolor=viz.PALETTE[constants.GREY], alpha=0.4,  label='Mark')\n",
    "\n",
    "    x_ticks = np.arange(time_axis[0], time_axis[-1]+1, 1)\n",
    "    ax.set_xticks(x_ticks)\n",
    "    ax.set_xticks(np.arange(time_axis[0], time_axis[-1], 0.5), minor=True)\n",
    "    ax.set_yticks([start_bipolar-k*dy for k in range(len(chosen_bipolar))] + [start_unipolar-k*dy for k in range(len(chosen_unipolar))])\n",
    "    chosen_bipolar_format = ['%s-%s' % (name[0], name[1]) for name in chosen_bipolar]\n",
    "    chosen_unipolar_format = ['%s-CLE' % name for name in chosen_unipolar]\n",
    "    ax.set_yticklabels(chosen_bipolar_format+chosen_unipolar_format)\n",
    "    ax.grid(b=True, axis='x', which='minor')\n",
    "    ax.tick_params(labelsize=small_font, labelbottom=True ,labeltop=False, bottom=True, top=True)\n",
    "    plt.show()"
   ]
  },
  {
   "cell_type": "code",
   "execution_count": 70,
   "metadata": {},
   "outputs": [
    {
     "data": {
      "application/vnd.jupyter.widget-view+json": {
       "model_id": "49023c1cee5345628ac126b8ff71a435",
       "version_major": 2,
       "version_minor": 0
      },
      "text/plain": [
       "interactive(children=(IntSlider(value=0, continuous_update=False, description='ss_id', layout=Layout(width='10…"
      ]
     },
     "metadata": {},
     "output_type": "display_data"
    }
   ],
   "source": [
    "style = {'description_width': 'initial'}\n",
    "layout= widgets.Layout(width='1000px')\n",
    "widgets.interact(\n",
    "    lambda ss_id: show_segment(ss_id),\n",
    "    ss_id=widgets.IntSlider(\n",
    "        min=0, max=ss_marks.shape[0]-1, step=1, value=0, \n",
    "        continuous_update=False,\n",
    "        style=style,\n",
    "        layout=layout\n",
    "    ));"
   ]
  },
  {
   "cell_type": "code",
   "execution_count": null,
   "metadata": {},
   "outputs": [],
   "source": []
  }
 ],
 "metadata": {
  "kernelspec": {
   "display_name": "Python 3",
   "language": "python",
   "name": "python3"
  },
  "language_info": {
   "codemirror_mode": {
    "name": "ipython",
    "version": 3
   },
   "file_extension": ".py",
   "mimetype": "text/x-python",
   "name": "python",
   "nbconvert_exporter": "python",
   "pygments_lexer": "ipython3",
   "version": "3.6.9"
  }
 },
 "nbformat": 4,
 "nbformat_minor": 2
}
