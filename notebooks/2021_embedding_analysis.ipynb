{
 "cells": [
  {
   "cell_type": "code",
   "execution_count": null,
   "metadata": {},
   "outputs": [],
   "source": [
    "import numpy as np\n",
    "import matplotlib.pyplot as plt\n",
    "import os\n",
    "import pickle\n",
    "\n",
    "%matplotlib inline"
   ]
  },
  {
   "cell_type": "code",
   "execution_count": null,
   "metadata": {},
   "outputs": [],
   "source": [
    "def compute_performance(subject_data, proba_thr, distance_thr):\n",
    "    # simple proxy of performance using only centers and proba at those centers (not accurate)\n",
    "    centers_pred = subject_data['y_pred_center'][subject_data['y_pred_proba'] >= proba_thr]\n",
    "    centers_true = subject_data['y_true_center']\n",
    "    n_detections = centers_pred.size\n",
    "    n_events = centers_true.size\n",
    "    # tp with centers distance\n",
    "    if n_detections > 0:\n",
    "        centers_distance = centers_true.reshape(-1, 1) - centers_pred.reshape(1, -1)\n",
    "        centers_distance = np.abs(centers_distance)\n",
    "        matching = (centers_distance <= distance_thr).astype(np.float32)\n",
    "        exists_match = (matching.sum(axis=1) > 0).astype(np.int32)\n",
    "        n_tp = np.sum(exists_match)\n",
    "        recall = n_tp / n_events\n",
    "        precision = n_tp / n_detections\n",
    "    else:\n",
    "        recall = 0\n",
    "        precision = 1\n",
    "    return recall, precision"
   ]
  },
  {
   "cell_type": "code",
   "execution_count": null,
   "metadata": {},
   "outputs": [],
   "source": [
    "parent_dir = '/home/ntapia/projects/sleep-rnn/results/embeddings/20191227_bsf_10runs_e1_n2_train_mass_ss/v19'\n",
    "seeds = [0, 1, 2, 3]\n",
    "seed_thr_list = [0.3] * 4 #  [0.44, 0.56, 0.58, 0.46] #  [0.3] * 4\n",
    "embeddings = {}\n",
    "for seed_thr, seed in zip(seed_thr_list, seeds):\n",
    "    file_path = os.path.join(parent_dir, 'seed%d' % seed, 'embeddings_n2_thr%1.2f_val.pkl' % seed_thr)\n",
    "    print(\"loading %s\" % file_path)\n",
    "    with open(file_path, 'rb') as handle:\n",
    "        embeddings[seed] = pickle.load(handle)"
   ]
  },
  {
   "cell_type": "code",
   "execution_count": null,
   "metadata": {},
   "outputs": [],
   "source": [
    "seed = 2\n",
    "subject_id = 14\n",
    "\n",
    "subject_data = embeddings[seed][subject_id]\n",
    "subject_data.keys()"
   ]
  },
  {
   "cell_type": "code",
   "execution_count": null,
   "metadata": {},
   "outputs": [],
   "source": [
    "for key in subject_data.keys():\n",
    "    print(key, subject_data[key].shape, subject_data[key].dtype)"
   ]
  },
  {
   "cell_type": "code",
   "execution_count": null,
   "metadata": {},
   "outputs": [],
   "source": [
    "# Check dist of proba\n",
    "fig, ax = plt.subplots(1, 2, figsize=(8, 4), dpi=80)\n",
    "ax[0].hist(subject_data['y_true_proba'], bins=np.linspace(0, 1, 11))\n",
    "ax[0].set_title(\"Proba of True Spindles\")\n",
    "ax[1].hist(subject_data['y_pred_proba'], bins=np.linspace(0, 1, 11))\n",
    "ax[1].set_title(\"Proba of Predictions\")\n",
    "plt.show()"
   ]
  },
  {
   "cell_type": "code",
   "execution_count": null,
   "metadata": {},
   "outputs": [],
   "source": [
    "proba_thr = 0.58\n",
    "fs = 200\n",
    "distance_thr = 0.5 * fs\n",
    "recall, precision = compute_performance(subject_data, proba_thr, distance_thr)\n",
    "print(\"Subject %s (seed %d)\" % (subject_id, seed))\n",
    "print(\"Performance at thr %s: Recall %1.4f - Precision %1.4f\" % (proba_thr, recall, precision))"
   ]
  },
  {
   "cell_type": "code",
   "execution_count": null,
   "metadata": {},
   "outputs": [],
   "source": [
    "# approximate PR curve\n",
    "distance_thr = 0.5 * fs\n",
    "recall_l = []\n",
    "precision_l = []\n",
    "thr_list = np.linspace(0.3, 0.95, 30)\n",
    "for tmp_thr in thr_list:\n",
    "    recall, precision = compute_performance(subject_data, tmp_thr, distance_thr)\n",
    "    recall_l.append(recall)\n",
    "    precision_l.append(precision)\n",
    "\n",
    "fig, ax = plt.subplots(1, 1, figsize=(4, 4), dpi=140)\n",
    "ax.plot(recall_l, precision_l, markersize=3, linewidth=1)\n",
    "ax.set_xlabel(\"Recall\")\n",
    "ax.set_ylabel(\"Precision\")\n",
    "ax.set_title(\"Subject %d (Seed %d)\" % (subject_id, seed))\n",
    "ax.set_xlim([0, 1])\n",
    "ax.set_ylim([0, 1])\n",
    "# show some thr\n",
    "n_thr_to_plot = 5\n",
    "skip = np.floor(thr_list.size / (n_thr_to_plot - 1))\n",
    "locs = [int(i * skip) for i in range(n_thr_to_plot)]\n",
    "for loc in locs:\n",
    "    ax.plot(recall_l[loc], precision_l[loc], marker='o', markersize=4, label=\"thr %1.2f\" % thr_list[loc])\n",
    "ax.plot([0, 1], [0, 1], linewidth=1, color='k', alpha=0.5)\n",
    "ax.plot([.5, .5], [0, 1], linewidth=1, color='k', alpha=0.5)\n",
    "ax.plot([0, 1], [.5, .5], linewidth=1, color='k', alpha=0.5)\n",
    "ax.legend(loc='lower left')\n",
    "plt.show()"
   ]
  },
  {
   "cell_type": "code",
   "execution_count": null,
   "metadata": {},
   "outputs": [],
   "source": [
    "# check ranges of embedding\n",
    "em_true = subject_data['y_true_tensor']\n",
    "em_pred = subject_data['y_pred_tensor']\n",
    "em_true.shape, em_pred.shape"
   ]
  },
  {
   "cell_type": "code",
   "execution_count": null,
   "metadata": {},
   "outputs": [],
   "source": [
    "em_true.max(), em_true.min(), em_true.mean(), em_true.std()"
   ]
  },
  {
   "cell_type": "code",
   "execution_count": null,
   "metadata": {},
   "outputs": [],
   "source": [
    "em_pred.max(), em_pred.min(), em_pred.mean(), em_pred.std()"
   ]
  },
  {
   "cell_type": "code",
   "execution_count": null,
   "metadata": {},
   "outputs": [],
   "source": [
    "# Check dist of activations\n",
    "fig, ax = plt.subplots(1, 2, figsize=(8, 4), dpi=80)\n",
    "ax[0].hist(em_true.flatten())\n",
    "ax[0].set_title(\"Activations True Spindles\")\n",
    "ax[1].hist(em_pred.flatten())\n",
    "ax[1].set_title(\"Activations of Predictions\")\n",
    "plt.tight_layout()\n",
    "plt.show()"
   ]
  },
  {
   "cell_type": "code",
   "execution_count": null,
   "metadata": {},
   "outputs": [],
   "source": [
    "# check distance intra and inter cluster\n",
    "\n",
    "# True spindles\n",
    "\n",
    "distance_true_true = em_true.reshape(1, -1, 128) - em_true.reshape(-1, 1, 128)\n",
    "distance_true_true = (distance_true_true ** 2).sum(axis=-1)\n",
    "print(distance_true_true.shape)\n",
    "iu = np.triu_indices(distance_true_true.shape[0], k=1)\n",
    "distance_true_true = distance_true_true[iu]\n",
    "print(distance_true_true.shape)\n",
    "\n",
    "# False detections\n",
    "distance_thr = 0.5 * fs\n",
    "centers_distance = subject_data['y_true_center'].reshape(-1, 1) - subject_data['y_pred_center'].reshape(1, -1)\n",
    "centers_distance = np.abs(centers_distance)\n",
    "matching = (centers_distance <= distance_thr).astype(np.float32)\n",
    "exists_match = (matching.sum(axis=0) > 0).astype(np.int32)\n",
    "em_fp = em_pred[np.where(exists_match == 0)[0]]\n",
    "\n",
    "distance_pred_pred = em_fp.reshape(1, -1, 128) - em_fp.reshape(-1, 1, 128)\n",
    "distance_pred_pred = (distance_pred_pred ** 2).sum(axis=-1)\n",
    "print(distance_pred_pred.shape)\n",
    "iu = np.triu_indices(distance_pred_pred.shape[0], k=1)\n",
    "distance_pred_pred = distance_pred_pred[iu]\n",
    "print(distance_pred_pred.shape)\n",
    "\n",
    "# true spindles vs FP\n",
    "\n",
    "distance_true_pred = em_fp.reshape(1, -1, 128) - em_true.reshape(-1, 1, 128)\n",
    "print(distance_true_pred.shape)\n",
    "distance_true_pred = (distance_true_pred ** 2).sum(axis=-1).flatten()\n",
    "print(distance_true_pred.shape)"
   ]
  },
  {
   "cell_type": "code",
   "execution_count": null,
   "metadata": {},
   "outputs": [],
   "source": [
    "fig, ax = plt.subplots(3, 1, figsize=(4, 6), dpi=80, sharex=True)\n",
    "ax[0].hist(np.sqrt(distance_true_true))\n",
    "ax[1].hist(np.sqrt(distance_pred_pred))\n",
    "ax[2].hist(np.sqrt(distance_true_pred))\n",
    "plt.tight_layout()\n",
    "plt.show()"
   ]
  },
  {
   "cell_type": "code",
   "execution_count": null,
   "metadata": {},
   "outputs": [],
   "source": [
    "weights = subject_data['y_pred_proba'].reshape(-1, 1)\n",
    "z = subject_data['y_pred_tensor'] \n",
    "proto = np.sum(weights * z, axis=0) / np.sum(weights)"
   ]
  },
  {
   "cell_type": "code",
   "execution_count": null,
   "metadata": {},
   "outputs": [],
   "source": [
    "# compute scores\n",
    "scores_true = np.dot(em_true, proto)\n",
    "scores_fp = np.dot(em_fp, proto)"
   ]
  },
  {
   "cell_type": "code",
   "execution_count": null,
   "metadata": {},
   "outputs": [],
   "source": [
    "fig, ax = plt.subplots(1, 2, figsize=(8, 4), dpi=80, sharex=True)\n",
    "ax[0].hist(scores_true)\n",
    "ax[0].set_title(\"Scores True Spindles\")\n",
    "ax[1].hist(scores_fp)\n",
    "ax[1].set_title(\"Scores of FP\")\n",
    "plt.tight_layout()\n",
    "plt.show()"
   ]
  },
  {
   "cell_type": "code",
   "execution_count": null,
   "metadata": {},
   "outputs": [],
   "source": [
    "def compute_performance_with_scores(scores_true, scores_fp, n_thr=50):\n",
    "    min_score = min(scores_true.min(), scores_fp.min())\n",
    "    max_score = max(scores_true.max(), scores_fp.max())\n",
    "    thr_list = np.linspace(min_score, max_score, n_thr)\n",
    "    recall_l = []\n",
    "    precision_l = []\n",
    "    for thr in thr_list:\n",
    "        n_tp = np.sum(scores_true >= thr)\n",
    "        n_fp = np.sum(scores_fp >= thr)\n",
    "        n_fn = np.sum(scores_true < thr)\n",
    "        if (n_tp + n_fp) == 0:\n",
    "            recall = 0\n",
    "            precision = 1\n",
    "        else:\n",
    "            recall = n_tp / (n_tp + n_fn)\n",
    "            precision = n_tp / (n_tp + n_fp)\n",
    "        recall_l.append(recall)\n",
    "        precision_l.append(precision)\n",
    "    return thr_list, recall_l, precision_l       "
   ]
  },
  {
   "cell_type": "code",
   "execution_count": null,
   "metadata": {},
   "outputs": [],
   "source": [
    "scores_true = np.dot(em_true, proto)\n",
    "scores_fp = np.dot(em_fp, proto)\n",
    "thr_list_score, recall_l_score, precision_l_score = compute_performance_with_scores(\n",
    "    scores_true, scores_fp, n_thr=50)\n",
    "\n",
    "\n",
    "distance_thr = 0.5 * fs\n",
    "recall_l_proba = []\n",
    "precision_l_proba = []\n",
    "thr_list_proba = np.linspace(0.3, 0.95, 30)\n",
    "for tmp_thr in thr_list_proba:\n",
    "    recall, precision = compute_performance(subject_data, tmp_thr, distance_thr)\n",
    "    recall_l_proba.append(recall)\n",
    "    precision_l_proba.append(precision)\n",
    "recall_l_proba = np.array(recall_l_proba)\n",
    "precision_l_proba = np.array(precision_l_proba)\n",
    "\n",
    "\n",
    "fig, ax = plt.subplots(1, 2, figsize=(8, 4), dpi=120, sharey=True)\n",
    "ax[0].plot(thr_list_score, recall_l_score, label=\"Recall\")\n",
    "ax[0].plot(thr_list_score, precision_l_score, label=\"Precision\")\n",
    "ax[0].set_title(\"Score Performance\")\n",
    "ax[0].legend()\n",
    "\n",
    "ax[1].plot(thr_list_proba, recall_l_proba, label=\"Recall\")\n",
    "ax[1].plot(thr_list_proba, precision_l_proba, label=\"Precision\")\n",
    "ax[1].set_title(\"Proba Performance\")\n",
    "ax[1].legend()\n",
    "\n",
    "plt.tight_layout()\n",
    "plt.show()"
   ]
  },
  {
   "cell_type": "code",
   "execution_count": null,
   "metadata": {},
   "outputs": [],
   "source": [
    "def compute_score_curve(subject_data, prototype, distance_thr, num=50):\n",
    "    scores_pred = np.dot(subject_data['y_pred_tensor'], prototype)\n",
    "    scores_range = np.linspace(scores_pred.min(), scores_pred.max(), num)\n",
    "    \n",
    "    recall_l = []\n",
    "    precision_l = []\n",
    "    centers_true = subject_data['y_true_center']\n",
    "    for score_thr in scores_range:\n",
    "        centers_pred = subject_data['y_pred_center'][scores_pred >= score_thr]\n",
    "        n_detections = centers_pred.size\n",
    "        n_events = centers_true.size\n",
    "        # tp with centers distance\n",
    "        if n_detections > 0:\n",
    "            centers_distance = centers_true.reshape(-1, 1) - centers_pred.reshape(1, -1)\n",
    "            centers_distance = np.abs(centers_distance)\n",
    "            matching = (centers_distance <= distance_thr).astype(np.float32)\n",
    "            exists_match = (matching.sum(axis=1) > 0).astype(np.int32)\n",
    "            n_tp = np.sum(exists_match)\n",
    "            recall = n_tp / n_events\n",
    "            precision = n_tp / n_detections\n",
    "        else:\n",
    "            recall = 0\n",
    "            precision = 1\n",
    "        recall_l.append(recall)\n",
    "        precision_l.append(precision)\n",
    "    return scores_range, np.array(recall_l), np.array(precision_l)"
   ]
  },
  {
   "cell_type": "code",
   "execution_count": null,
   "metadata": {},
   "outputs": [],
   "source": [
    "# Simple weighted average prototype\n",
    "weights = subject_data['y_pred_proba'].reshape(-1, 1)\n",
    "z = subject_data['y_pred_tensor'] \n",
    "proto = np.sum(weights * z, axis=0) / np.sum(weights)"
   ]
  },
  {
   "cell_type": "code",
   "execution_count": null,
   "metadata": {},
   "outputs": [],
   "source": [
    "# Only top weighted embeddings contribute equally\n",
    "top_pctl = 5\n",
    "thr_weights = np.percentile(weights.flatten(), 100 - top_pctl)\n",
    "weights_top_indicator = np.where(weights.flatten() >= thr_weights)[0]\n",
    "proto_top_indicator = np.mean(z[weights_top_indicator, :], axis=0)"
   ]
  },
  {
   "cell_type": "code",
   "execution_count": null,
   "metadata": {},
   "outputs": [],
   "source": [
    "selected_prototype = proto_top_indicator\n",
    "\n",
    "scores_range, score_recall, score_precision = compute_score_curve(\n",
    "    subject_data, selected_prototype, 0.5 * fs, num=50)\n",
    "\n",
    "fig, ax = plt.subplots(1, 2, figsize=(8, 4), dpi=120, sharey=True)\n",
    "ax[0].plot(scores_range, score_recall, label=\"Recall\")\n",
    "ax[0].plot(scores_range, score_precision, label=\"Precision\")\n",
    "f1 = 2 * score_recall * score_precision / (score_recall + score_precision + 1e-6)\n",
    "ax[0].plot(scores_range, f1, label=\"F1-score\")\n",
    "ax[0].set_title(\"Score Performance\")\n",
    "ax[0].legend()\n",
    "\n",
    "ax[1].plot(thr_list_proba, recall_l_proba, label=\"Recall\")\n",
    "ax[1].plot(thr_list_proba, precision_l_proba, label=\"Precision\")\n",
    "f1 = 2 * recall_l_proba * precision_l_proba / (recall_l_proba + precision_l_proba + 1e-6)\n",
    "ax[1].plot(thr_list_proba, f1, label=\"F1-score\")\n",
    "ax[1].set_title(\"Proba Performance\")\n",
    "ax[1].legend()\n",
    "\n",
    "plt.tight_layout()\n",
    "plt.show()"
   ]
  },
  {
   "cell_type": "code",
   "execution_count": null,
   "metadata": {},
   "outputs": [],
   "source": [
    "plt.hist(weights.flatten())\n",
    "plt.show()"
   ]
  },
  {
   "cell_type": "code",
   "execution_count": null,
   "metadata": {},
   "outputs": [],
   "source": [
    "# tsne of em true and em fp\n",
    "n_true = em_true.shape[0]\n",
    "n_fp = em_fp.shape[0]\n",
    "label = [1] * n_true\n",
    "label.extend([0] * n_fp)\n",
    "label = np.array(label)\n",
    "em = np.concatenate([em_true, em_fp], axis=0)"
   ]
  },
  {
   "cell_type": "code",
   "execution_count": null,
   "metadata": {},
   "outputs": [],
   "source": [
    "# Normalize\n",
    "em_mean = em.mean(axis=0)\n",
    "em_std = em.std(axis=0)\n",
    "em_std[em_std == 0] = 1\n",
    "em_norm = (em - em_mean) / em_std\n",
    "# Remove zero-std dimensions\n",
    "em_std = em.std(axis=0)\n",
    "em_norm = em_norm[:, em_std > 0]\n",
    "print(em_norm.shape)"
   ]
  },
  {
   "cell_type": "code",
   "execution_count": null,
   "metadata": {},
   "outputs": [],
   "source": [
    "# project with pca first\n",
    "from sklearn.decomposition import PCA\n",
    "pca = PCA(n_components=30)\n",
    "em_norm_pca = pca.fit_transform(em_norm)\n",
    "em_norm_pca.shape"
   ]
  },
  {
   "cell_type": "code",
   "execution_count": null,
   "metadata": {},
   "outputs": [],
   "source": [
    "# now tsne\n",
    "from sklearn.manifold import TSNE"
   ]
  },
  {
   "cell_type": "code",
   "execution_count": null,
   "metadata": {},
   "outputs": [],
   "source": [
    "em_norm_tsne = TSNE(n_components=2, perplexity=20).fit_transform(em_norm_pca)\n",
    "\n",
    "fig, ax = plt.subplots(1, 1, figsize=(5, 5), dpi=120)\n",
    "ax.scatter(em_norm_tsne[:, 0], em_norm_tsne[:, 1], s=5, c=label)\n",
    "plt.show()"
   ]
  },
  {
   "cell_type": "code",
   "execution_count": null,
   "metadata": {},
   "outputs": [],
   "source": [
    "em_norm_tsne = TSNE(n_components=2, perplexity=30).fit_transform(em_norm_pca)\n",
    "\n",
    "fig, ax = plt.subplots(1, 1, figsize=(5, 5), dpi=120)\n",
    "ax.scatter(em_norm_tsne[:, 0], em_norm_tsne[:, 1], s=5, c=label)\n",
    "plt.show()"
   ]
  },
  {
   "cell_type": "code",
   "execution_count": null,
   "metadata": {},
   "outputs": [],
   "source": [
    "em_norm_tsne = TSNE(n_components=2, perplexity=50).fit_transform(em_norm_pca)\n",
    "\n",
    "fig, ax = plt.subplots(1, 1, figsize=(5, 5), dpi=120)\n",
    "ax.scatter(em_norm_tsne[:, 0], em_norm_tsne[:, 1], s=5, c=label)\n",
    "plt.show()"
   ]
  },
  {
   "cell_type": "code",
   "execution_count": null,
   "metadata": {},
   "outputs": [],
   "source": [
    "em_norm_tsne = TSNE(n_components=2, perplexity=100).fit_transform(em_norm_pca)\n",
    "\n",
    "fig, ax = plt.subplots(1, 1, figsize=(5, 5), dpi=120)\n",
    "ax.scatter(em_norm_tsne[:, 0], em_norm_tsne[:, 1], s=5, c=label)\n",
    "plt.show()"
   ]
  },
  {
   "cell_type": "markdown",
   "metadata": {},
   "source": [
    "# Comparison of mean embedding between subjects"
   ]
  },
  {
   "cell_type": "code",
   "execution_count": null,
   "metadata": {},
   "outputs": [],
   "source": [
    "def find_best_thr(subject_data, distance_thr, num=100):\n",
    "    thr_list = np.linspace(subject_data['y_pred_proba'].min(), subject_data['y_pred_proba'].max(), num)\n",
    "    f1_l = []\n",
    "    for thr in thr_list:\n",
    "        r, p = compute_performance(subject_data, thr, distance_thr)\n",
    "        f1 = 2 * r * p / (r + p + 1e-6)\n",
    "        f1_l.append(f1)\n",
    "    f1_l = np.array(f1_l)\n",
    "    best_loc = np.argmax(f1_l)\n",
    "    return thr_list[best_loc]"
   ]
  },
  {
   "cell_type": "code",
   "execution_count": null,
   "metadata": {},
   "outputs": [],
   "source": [
    "parent_dir = '/home/ntapia/projects/sleep-rnn/results/embeddings/20191227_bsf_10runs_e1_n2_train_mass_ss/v19'\n",
    "seeds = [0, 1, 2, 3]\n",
    "seed_thr_list = [0.3] * 4\n",
    "embeddings = {}\n",
    "for seed_thr, seed in zip(seed_thr_list, seeds):\n",
    "    file_path = os.path.join(parent_dir, 'seed%d' % seed, 'embeddings_n2_thr%1.2f_val.pkl' % seed_thr)\n",
    "    print(\"loading %s\" % file_path)\n",
    "    with open(file_path, 'rb') as handle:\n",
    "        embeddings[seed] = pickle.load(handle)"
   ]
  },
  {
   "cell_type": "code",
   "execution_count": null,
   "metadata": {},
   "outputs": [],
   "source": [
    "embeddings_all = {}\n",
    "opt_thrs = [0.44, 0.56, 0.58, 0.46]\n",
    "for seed in seeds:\n",
    "    seed_data = embeddings[seed]\n",
    "    for subject_id in seed_data.keys():\n",
    "        embeddings_all[subject_id] = seed_data[subject_id]\n",
    "        embeddings_all[subject_id]['opt_thr'] = opt_thrs[seed]\n",
    "subject_ids = list(embeddings_all.keys())\n",
    "subject_ids.sort()"
   ]
  },
  {
   "cell_type": "code",
   "execution_count": null,
   "metadata": {},
   "outputs": [],
   "source": [
    "fs = 200\n",
    "distance_thr = 0.5 * fs\n",
    "approx_cheat_thr_dict = {}\n",
    "for subject_id in subject_ids:\n",
    "    approx_cheat_thr = find_best_thr(embeddings_all[subject_id], distance_thr)\n",
    "    print(\"Suject %02d. Cheat threshold %1.3f\" % (subject_id, approx_cheat_thr))\n",
    "    approx_cheat_thr_dict[subject_id] = approx_cheat_thr"
   ]
  },
  {
   "cell_type": "code",
   "execution_count": null,
   "metadata": {},
   "outputs": [],
   "source": [
    "fig, axis = plt.subplots(1, 3, figsize=(12, 4), dpi=140)\n",
    "\n",
    "\n",
    "ax = axis[0]\n",
    "f1_l = []\n",
    "for subject_id in subject_ids:\n",
    "    r, p = compute_performance(embeddings_all[subject_id], 0.5, distance_thr)\n",
    "    f1 = 2 * r * p / (r + p + 1e-6)\n",
    "    f1_l.append(f1)\n",
    "    ax.plot(r, p, marker='o', markersize=6, color='tab:blue')\n",
    "ax.set_title(\"Thr 0.5 (F1 %1.1f +- %1.1f)\" % (100 * np.mean(f1_l), 100 * np.std(f1_l)))\n",
    "\n",
    "ax = axis[1]\n",
    "f1_l = []\n",
    "for subject_id in subject_ids:\n",
    "    opt_thr = embeddings_all[subject_id]['opt_thr']\n",
    "    r, p = compute_performance(embeddings_all[subject_id], opt_thr, distance_thr)\n",
    "    f1 = 2 * r * p / (r + p + 1e-6)\n",
    "    f1_l.append(f1)\n",
    "    ax.plot(r, p, marker='o', markersize=6, color='tab:blue')\n",
    "ax.set_title(\"Thr Opt (F1 %1.1f +- %1.1f)\" % (100 * np.mean(f1_l), 100 * np.std(f1_l)))\n",
    "\n",
    "ax = axis[2]\n",
    "f1_l = []\n",
    "for subject_id in subject_ids:\n",
    "    cheat_thr = approx_cheat_thr_dict[subject_id]\n",
    "    r, p = compute_performance(embeddings_all[subject_id], cheat_thr, distance_thr)\n",
    "    f1 = 2 * r * p / (r + p + 1e-6)\n",
    "    f1_l.append(f1)\n",
    "    ax.plot(r, p, marker='o', markersize=6, color='tab:blue')\n",
    "ax.set_title(\"Thr Cheat (F1 %1.1f +- %1.1f)\" % (100 * np.mean(f1_l), 100 * np.std(f1_l)))\n",
    "\n",
    "for ax in axis:\n",
    "    ax.set_xlabel(\"Recall\")\n",
    "    ax.set_ylabel(\"Precision\")\n",
    "    ax.set_xlim([0, 1])\n",
    "    ax.set_ylim([0, 1])\n",
    "    ax.plot([0, 1], [0, 1], linewidth=1, color='k', alpha=0.5)\n",
    "    ax.plot([.5, .5], [0, 1], linewidth=1, color='k', alpha=0.5)\n",
    "    ax.plot([0, 1], [.5, .5], linewidth=1, color='k', alpha=0.5)\n",
    "    ax.legend(loc='lower left')\n",
    "    ax.set_aspect('equal')\n",
    "plt.tight_layout()\n",
    "plt.show()"
   ]
  },
  {
   "cell_type": "code",
   "execution_count": null,
   "metadata": {},
   "outputs": [],
   "source": [
    "# compute prototypes\n",
    "prototype_dict = {}\n",
    "for subject_id in subject_ids:\n",
    "    proba = embeddings_all[subject_id]['y_pred_proba'].reshape(-1, 1)\n",
    "    em_pred = embeddings_all[subject_id]['y_pred_tensor']\n",
    "    proto = np.sum(proba * em_pred, axis=0) / np.sum(proba)\n",
    "    prototype_dict[subject_id] = proto"
   ]
  },
  {
   "cell_type": "code",
   "execution_count": null,
   "metadata": {},
   "outputs": [],
   "source": [
    "# find ranking of components according to std\n",
    "component_std = []\n",
    "for c in range(128):\n",
    "    all_c = [prototype_dict[subject_id][c] for subject_id in subject_ids]\n",
    "    component_std.append(np.std(all_c))\n",
    "component_std = np.array(component_std)"
   ]
  },
  {
   "cell_type": "code",
   "execution_count": null,
   "metadata": {},
   "outputs": [],
   "source": [
    "plt.hist(component_std)\n",
    "plt.show()"
   ]
  },
  {
   "cell_type": "code",
   "execution_count": null,
   "metadata": {},
   "outputs": [],
   "source": [
    "largest_std = np.argsort(-component_std)\n",
    "plt.bar(np.arange(128), component_std[largest_std])\n",
    "plt.show()"
   ]
  },
  {
   "cell_type": "code",
   "execution_count": null,
   "metadata": {
    "scrolled": true
   },
   "outputs": [],
   "source": [
    "top_size = 120\n",
    "cheat_thr_list = [approx_cheat_thr_dict[subject_id] for subject_id in subject_ids]\n",
    "for k in range(top_size):\n",
    "    component_loc = largest_std[k]\n",
    "    component_value = [prototype_dict[subject_id][component_loc] for subject_id in subject_ids]\n",
    "    plt.scatter(component_value, cheat_thr_list)\n",
    "    plt.ylabel(\"Cheat Thr\")\n",
    "    plt.xlabel(\"Component %d\" % k)\n",
    "    plt.show()"
   ]
  },
  {
   "cell_type": "code",
   "execution_count": null,
   "metadata": {},
   "outputs": [],
   "source": [
    "# pca first\n",
    "# project with pca first\n",
    "from sklearn.decomposition import PCA"
   ]
  },
  {
   "cell_type": "code",
   "execution_count": null,
   "metadata": {},
   "outputs": [],
   "source": [
    "all_prototypes = [prototype_dict[subject_id] for subject_id in subject_ids]\n",
    "all_prototypes = np.stack(all_prototypes, axis=0)\n",
    "std = all_prototypes.std(axis=0)\n",
    "all_prototypes = all_prototypes[:, std > 0]\n",
    "all_prototypes = (all_prototypes - all_prototypes.mean(axis=0)) / all_prototypes.std(axis=0)\n",
    "pca = PCA(n_components=10)\n",
    "proto_pca = pca.fit_transform(all_prototypes)"
   ]
  },
  {
   "cell_type": "code",
   "execution_count": null,
   "metadata": {
    "scrolled": false
   },
   "outputs": [],
   "source": [
    "cheat_thr_list = [approx_cheat_thr_dict[subject_id] for subject_id in subject_ids]\n",
    "for k in range(3):\n",
    "    component_value = proto_pca[:, k]\n",
    "    plt.scatter(component_value, cheat_thr_list)\n",
    "    plt.ylabel(\"Cheat Thr\")\n",
    "    plt.xlabel(\"Component %d\" % k)\n",
    "    plt.show()"
   ]
  },
  {
   "cell_type": "code",
   "execution_count": null,
   "metadata": {},
   "outputs": [],
   "source": []
  }
 ],
 "metadata": {
  "kernelspec": {
   "display_name": "Python 3",
   "language": "python",
   "name": "python3"
  },
  "language_info": {
   "codemirror_mode": {
    "name": "ipython",
    "version": 3
   },
   "file_extension": ".py",
   "mimetype": "text/x-python",
   "name": "python",
   "nbconvert_exporter": "python",
   "pygments_lexer": "ipython3",
   "version": "3.6.9"
  }
 },
 "nbformat": 4,
 "nbformat_minor": 2
}
