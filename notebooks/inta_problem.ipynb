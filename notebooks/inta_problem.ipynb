{
 "cells": [
  {
   "cell_type": "code",
   "execution_count": 1,
   "metadata": {},
   "outputs": [
    {
     "data": {
      "text/html": [
       "<style>.container { width:100% !important; }</style>"
      ],
      "text/plain": [
       "<IPython.core.display.HTML object>"
      ]
     },
     "metadata": {},
     "output_type": "display_data"
    }
   ],
   "source": [
    "from __future__ import absolute_import\n",
    "from __future__ import division\n",
    "from __future__ import print_function\n",
    "\n",
    "import os\n",
    "import sys\n",
    "import pyedflib\n",
    "\n",
    "import matplotlib.pyplot as plt\n",
    "from matplotlib import colors\n",
    "import numpy as np\n",
    "import ipywidgets as widgets\n",
    "from matplotlib import gridspec\n",
    "\n",
    "project_root = '..'\n",
    "sys.path.append(project_root)\n",
    "\n",
    "from sleeprnn.data.inta_ss import IntaSS, NAMES\n",
    "from sleeprnn.data import utils\n",
    "from sleeprnn.common import constants, pkeys\n",
    "\n",
    "DPI = 200\n",
    "CUSTOM_COLOR = {'red': '#c62828', 'grey': '#455a64', 'blue': '#0277bd', 'green': '#43a047'} \n",
    "\n",
    "%matplotlib inline\n",
    "from IPython.core.display import display, HTML\n",
    "display(HTML(\"<style>.container { width:100% !important; }</style>\"))"
   ]
  },
  {
   "cell_type": "code",
   "execution_count": 2,
   "metadata": {},
   "outputs": [
    {
     "name": "stdout",
     "output_type": "stream",
     "text": [
      "Dataset inta_ss with 10 patients.\n",
      "Loading from checkpoint... Loaded\n"
     ]
    }
   ],
   "source": [
    "dataset = IntaSS(load_checkpoint=True)"
   ]
  },
  {
   "cell_type": "code",
   "execution_count": 67,
   "metadata": {},
   "outputs": [
    {
     "name": "stdout",
     "output_type": "stream",
     "text": [
      "Reading F4-C4\n",
      "5808200\n",
      "(2027, 6)\n",
      "[[ 682005  682544     -50     -50       1       1]\n",
      " [ 682017  682138     -50     -50       2       1]\n",
      " [ 682290  682582     -50     -50       2       1]\n",
      " ...\n",
      " [5206149 5206526     -50     -50       1       1]\n",
      " [5207455 5207659     -50     -50       0       1]\n",
      " [5208413 5208672     -50     -50       0       1]]\n"
     ]
    }
   ],
   "source": [
    "# Load stamps of subject\n",
    "subject_id = 5\n",
    "\n",
    "fs = dataset.fs\n",
    "path_dataset = dataset.dataset_dir\n",
    "path_stamps = os.path.join(path_dataset, 'label/spindle', 'SS_%s.txt' % NAMES[subject_id - 1])\n",
    "path_signals = os.path.join(path_dataset, 'register', '%s.rec' % NAMES[subject_id - 1]) \n",
    "\n",
    "with pyedflib.EdfReader(path_signals) as file:\n",
    "    signal = file.readSignal(0)\n",
    "    channel_name = file.getLabel(0)\n",
    "    print('Reading', channel_name)\n",
    "    signal_len = signal.shape[0]\n",
    "data = np.loadtxt(path_stamps)\n",
    "for_this_channel = (data[:, -1] == 1)\n",
    "data = data[for_this_channel]\n",
    "data = np.round(data).astype(np.int32)\n",
    "print(signal_len)\n",
    "print(data.shape)\n",
    "print(data)"
   ]
  },
  {
   "cell_type": "code",
   "execution_count": 12,
   "metadata": {},
   "outputs": [
    {
     "name": "stdout",
     "output_type": "stream",
     "text": [
      "End time < Start time fixed\n",
      "(2027, 6)\n",
      "[[ 682005  682544     -50     -50       1       1]\n",
      " [ 682017  682138     -50     -50       2       1]\n",
      " [ 682290  682582     -50     -50       2       1]\n",
      " ...\n",
      " [5206149 5206526     -50     -50       1       1]\n",
      " [5207455 5207659     -50     -50       0       1]\n",
      " [5208413 5208672     -50     -50       0       1]]\n"
     ]
    }
   ],
   "source": [
    "# Remove zero duration marks, and ensure that start time < end time\n",
    "new_data = []\n",
    "for i in range(data.shape[0]):\n",
    "    if data[i, 0] > data[i, 1]:\n",
    "        print('End time < Start time fixed')\n",
    "        aux = data[i, 0]\n",
    "        data[i, 0] = data[i, 1]\n",
    "        data[i, 1] = aux\n",
    "        new_data.append(data[i, :])\n",
    "    elif data[i, 0] < data[i, 1]:\n",
    "        new_data.append(data[i, :])\n",
    "    else:  # Zero duration (equality)\n",
    "        print('Zero duration stamp found and removed')\n",
    "data = np.stack(new_data, axis=0)\n",
    "print(data.shape)\n",
    "print(data)"
   ]
  },
  {
   "cell_type": "code",
   "execution_count": 13,
   "metadata": {},
   "outputs": [
    {
     "name": "stdout",
     "output_type": "stream",
     "text": [
      "(2027, 6)\n",
      "[[ 682005  682544     -50     -50       1       1]\n",
      " [ 682017  682138     -50     -50       2       1]\n",
      " [ 682290  682582     -50     -50       2       1]\n",
      " ...\n",
      " [5206149 5206526     -50     -50       1       1]\n",
      " [5207455 5207659     -50     -50       0       1]\n",
      " [5208413 5208672     -50     -50       0       1]]\n"
     ]
    }
   ],
   "source": [
    "# Remove stamps outside signal boundaries\n",
    "new_data = []\n",
    "for i in range(data.shape[0]):\n",
    "    if data[i, 1] < signal_len:\n",
    "        new_data.append(data[i, :])\n",
    "    else:\n",
    "        print('Stamp outside boundaries found and removed')\n",
    "data = np.stack(new_data, axis=0)\n",
    "print(data.shape)\n",
    "print(data)"
   ]
  },
  {
   "cell_type": "code",
   "execution_count": 14,
   "metadata": {},
   "outputs": [
    {
     "name": "stdout",
     "output_type": "stream",
     "text": [
      "[[ 682005  682544]\n",
      " [ 682017  682138]\n",
      " [ 682290  682582]\n",
      " ...\n",
      " [5206149 5206526]\n",
      " [5207455 5207659]\n",
      " [5208413 5208672]]\n",
      "(2027, 2)\n",
      "Valid 0 (204, 2) Min dur [s] 0.155 Max dur [s] 4.275\n",
      "Valid 1 (995, 2) Min dur [s] 0.055 Max dur [s] 6.775\n",
      "Valid 2 (828, 2) Min dur [s] 0.395 Max dur [s] 4.605\n"
     ]
    }
   ],
   "source": [
    "raw_stamps = data[:, [0, 1]]\n",
    "print(raw_stamps)\n",
    "\n",
    "print(raw_stamps.shape)\n",
    "valid = data[:, 4]\n",
    "raw_stamps_0 = raw_stamps[valid == 0]\n",
    "raw_stamps_1 = raw_stamps[valid == 1]\n",
    "raw_stamps_2 = raw_stamps[valid == 2]\n",
    "print('Valid 0', raw_stamps_0.shape, 'Min dur [s]', (raw_stamps_0[:, 1] - raw_stamps_0[:, 0]).min()/fs, 'Max dur [s]', (raw_stamps_0[:, 1] - raw_stamps_0[:, 0]).max()/fs)\n",
    "print('Valid 1', raw_stamps_1.shape, 'Min dur [s]', (raw_stamps_1[:, 1] - raw_stamps_1[:, 0]).min()/fs, 'Max dur [s]', (raw_stamps_1[:, 1] - raw_stamps_1[:, 0]).max()/fs)\n",
    "print('Valid 2', raw_stamps_2.shape, 'Min dur [s]', (raw_stamps_2[:, 1] - raw_stamps_2[:, 0]).min()/fs, 'Max dur [s]', (raw_stamps_2[:, 1] - raw_stamps_2[:, 0]).max()/fs)"
   ]
  },
  {
   "cell_type": "code",
   "execution_count": 15,
   "metadata": {},
   "outputs": [
    {
     "name": "stdout",
     "output_type": "stream",
     "text": [
      "\n",
      "Overlaps for Valid 0\n",
      "0 overlaps: 184 times\n",
      "1 overlaps: 20 times\n",
      "\n",
      "Overlaps for Valid 1\n",
      "0 overlaps: 991 times\n",
      "1 overlaps: 4 times\n",
      "\n",
      "Overlaps for Valid 2\n",
      "0 overlaps: 462 times\n",
      "1 overlaps: 342 times\n",
      "2 overlaps: 22 times\n",
      "3 overlaps: 2 times\n"
     ]
    }
   ],
   "source": [
    "# look for intersections between stamps of the same validity\n",
    "def overlap_matrix(events, detections):\n",
    "    # Matrix of overlap, rows are events, columns are detections\n",
    "    n_det = detections.shape[0]\n",
    "    n_gs = events.shape[0]\n",
    "    overlaps = np.zeros((n_gs, n_det))\n",
    "    for i in range(n_gs):\n",
    "        candidates = np.where(\n",
    "            (detections[:, 0] <= events[i, 1])\n",
    "            & (detections[:, 1] >= events[i, 0]))[0]\n",
    "        for j in candidates:\n",
    "            intersection = min(\n",
    "                events[i, 1], detections[j, 1]\n",
    "            ) - max(\n",
    "                events[i, 0], detections[j, 0]\n",
    "            ) + 1\n",
    "            if intersection > 0:\n",
    "                overlaps[i, j] = 1\n",
    "    return overlaps\n",
    "\n",
    "\n",
    "overlap_m = overlap_matrix(raw_stamps_0, raw_stamps_0)\n",
    "n_overlaps_0 = overlap_m.sum(axis=1) - 1  # We expect all stamps intersect with themselves, so we discount one\n",
    "values_0, counts_0 = np.unique(n_overlaps_0, return_counts=True)\n",
    "print('\\nOverlaps for Valid 0')\n",
    "for value, count in zip(values_0, counts_0):\n",
    "    print('%d overlaps: %d times' % (value, count))\n",
    "\n",
    "overlap_m = overlap_matrix(raw_stamps_1, raw_stamps_1)\n",
    "n_overlaps_1 = overlap_m.sum(axis=1) - 1  # We expect all stamps intersect with themselves, so we discount one\n",
    "values_1, counts_1 = np.unique(n_overlaps_1, return_counts=True)\n",
    "print('\\nOverlaps for Valid 1')\n",
    "for value, count in zip(values_1, counts_1):\n",
    "    print('%d overlaps: %d times' % (value, count))\n",
    "\n",
    "overlap_m = overlap_matrix(raw_stamps_2, raw_stamps_2)\n",
    "n_overlaps_2 = overlap_m.sum(axis=1) - 1  # We expect all stamps intersect with themselves, so we discount one\n",
    "values_2, counts_2 = np.unique(n_overlaps_2, return_counts=True)\n",
    "print('\\nOverlaps for Valid 2')\n",
    "for value, count in zip(values_2, counts_2):\n",
    "    print('%d overlaps: %d times' % (value, count))\n",
    "\n",
    "max_overlaps_0 = values_0.max()\n",
    "max_overlaps_1 = values_1.max()\n",
    "max_overlaps_2 = values_2.max()\n",
    "max_overlaps = np.max([max_overlaps_0, max_overlaps_1, max_overlaps_2])"
   ]
  },
  {
   "cell_type": "code",
   "execution_count": 71,
   "metadata": {},
   "outputs": [],
   "source": [
    "# Signal\n",
    "signal_dict = {}\n",
    "fs_dict = {}\n",
    "with pyedflib.EdfReader(path_signals) as file:\n",
    "    signal_names = file.getSignalLabels()\n",
    "    for k, name in enumerate(signal_names):\n",
    "        signal_dict[name] = file.readSignal(k)\n",
    "        fs_dict[name] = file.getSampleFrequency(k)"
   ]
  },
  {
   "cell_type": "code",
   "execution_count": 145,
   "metadata": {},
   "outputs": [
    {
     "name": "stdout",
     "output_type": "stream",
     "text": [
      "['F4-C4', 'C4-O2', 'F3-C3', 'C3-O1', 'C4-C3', 'MOR', 'EMG', 'MOV SUP', 'MOV INF', 'ECG', 'DIAFRAGMA', 'RESP NASAL', 'RESP ABD', 'T* Axilar', 'PULSO', 'OXIGENO', 'POSICION']\n"
     ]
    }
   ],
   "source": [
    "print(signal_names)\n",
    "eeg_names = ['F4-C4', 'C4-O2', 'F3-C3', 'C3-O1', 'C4-C3']\n",
    "other_names = ['MOR', 'EMG', 'MOV SUP', 'MOV INF']\n",
    "to_show_names = eeg_names + other_names"
   ]
  },
  {
   "cell_type": "code",
   "execution_count": 94,
   "metadata": {},
   "outputs": [],
   "source": [
    "# -*- coding: utf-8 -*-\n",
    "# -*- mode: python -*-\n",
    "# Adapted from mpl_toolkits.axes_grid1\n",
    "# LICENSE: Python Software Foundation (http://docs.python.org/license.html)\n",
    "\n",
    "from matplotlib.offsetbox import AnchoredOffsetbox\n",
    "class AnchoredScaleBar(AnchoredOffsetbox):\n",
    "    def __init__(self, transform, sizex=0, sizey=0, labelx=None, labely=None, loc=4,\n",
    "                 pad=0.1, borderpad=0.1, sep=2, prop=None, barcolor=\"black\", barwidth=None, \n",
    "                 **kwargs):\n",
    "        \"\"\"\n",
    "        Draw a horizontal and/or vertical  bar with the size in data coordinate\n",
    "        of the give axes. A label will be drawn underneath (center-aligned).\n",
    "        - transform : the coordinate frame (typically axes.transData)\n",
    "        - sizex,sizey : width of x,y bar, in data units. 0 to omit\n",
    "        - labelx,labely : labels for x,y bars; None to omit\n",
    "        - loc : position in containing axes\n",
    "        - pad, borderpad : padding, in fraction of the legend font size (or prop)\n",
    "        - sep : separation between labels and bars in points.\n",
    "        - **kwargs : additional arguments passed to base class constructor\n",
    "        \"\"\"\n",
    "        from matplotlib.patches import Rectangle\n",
    "        from matplotlib.offsetbox import AuxTransformBox, VPacker, HPacker, TextArea, DrawingArea\n",
    "        bars = AuxTransformBox(transform)\n",
    "        if sizex:\n",
    "            bars.add_artist(Rectangle((0,0), sizex, 0, ec=barcolor, lw=barwidth, fc=\"none\"))\n",
    "        if sizey:\n",
    "            bars.add_artist(Rectangle((0,0), 0, sizey, ec=barcolor, lw=barwidth, fc=\"none\"))\n",
    "\n",
    "        if sizex and labelx:\n",
    "            self.xlabel = TextArea(labelx, minimumdescent=False)\n",
    "            bars = VPacker(children=[bars, self.xlabel], align=\"center\", pad=0, sep=sep)\n",
    "        if sizey and labely:\n",
    "            self.ylabel = TextArea(labely)\n",
    "            bars = HPacker(children=[self.ylabel, bars], align=\"center\", pad=0, sep=sep)\n",
    "\n",
    "        AnchoredOffsetbox.__init__(self, loc, pad=pad, borderpad=borderpad,\n",
    "                                   child=bars, prop=prop, frameon=False, **kwargs)\n",
    "\n",
    "        \n",
    "def add_scalebar(ax, matchx=True, matchy=True, hidex=True, hidey=True, **kwargs):\n",
    "    \"\"\" Add scalebars to axes\n",
    "    Adds a set of scale bars to *ax*, matching the size to the ticks of the plot\n",
    "    and optionally hiding the x and y axes\n",
    "    - ax : the axis to attach ticks to\n",
    "    - matchx,matchy : if True, set size of scale bars to spacing between ticks\n",
    "                    if False, size should be set using sizex and sizey params\n",
    "    - hidex,hidey : if True, hide x-axis and y-axis of parent\n",
    "    - **kwargs : additional arguments passed to AnchoredScaleBars\n",
    "    Returns created scalebar object\n",
    "    \"\"\"\n",
    "    def f(axis):\n",
    "        l = axis.get_majorticklocs()\n",
    "        return len(l)>1 and (l[1] - l[0])\n",
    "    \n",
    "    if matchx:\n",
    "        kwargs['sizex'] = f(ax.xaxis)\n",
    "        kwargs['labelx'] = str(kwargs['sizex'])\n",
    "    if matchy:\n",
    "        kwargs['sizey'] = f(ax.yaxis)\n",
    "        kwargs['labely'] = str(kwargs['sizey'])\n",
    "        \n",
    "    sb = AnchoredScaleBar(ax.transData, **kwargs)\n",
    "    ax.add_artist(sb)\n",
    "\n",
    "    if hidex : ax.xaxis.set_visible(False)\n",
    "    if hidey : ax.yaxis.set_visible(False)\n",
    "    if hidex and hidey: ax.set_frame_on(False)\n",
    "\n",
    "    return sb"
   ]
  },
  {
   "cell_type": "code",
   "execution_count": 149,
   "metadata": {},
   "outputs": [],
   "source": [
    "# Show a certain page\n",
    "\n",
    "this_pages = dataset.get_subject_pages(subject_id=subject_id)\n",
    "this_stamps = dataset.get_subject_stamps(subject_id=subject_id)\n",
    "stamps_color = '#B71C1C'\n",
    "\n",
    "\n",
    "def filter_stamps(stamps, single_page, page_size):\n",
    "    pages_list = []\n",
    "    for i in range(stamps.shape[0]):\n",
    "        stamp_start_page = stamps[i, 0] // page_size\n",
    "        stamp_end_page = stamps[i, 1] // page_size\n",
    "\n",
    "        start_inside = (stamp_start_page == single_page)\n",
    "        end_inside = (stamp_end_page == single_page)\n",
    "\n",
    "        if start_inside or end_inside:\n",
    "            pages_list.append(stamps[i, :])\n",
    "    return pages_list\n",
    "\n",
    "\n",
    "def plot_page(page_idx):\n",
    "    \n",
    "    microvolt_per_second = 80  # Aspect ratio\n",
    "    \n",
    "    fig = plt.figure(figsize=(12, len(to_show_names)+5), dpi=DPI)\n",
    "    gs = gridspec.GridSpec(4, 1, height_ratios=[1, 1, 1, 4*len(to_show_names)])\n",
    "    \n",
    "    page_idx = page_idx - 1\n",
    "    page_chosen = this_pages[page_idx]\n",
    "    page_start = page_chosen * dataset.page_size\n",
    "    page_end = page_start + dataset.page_size\n",
    "    \n",
    "    segment_stamps = filter_stamps(this_stamps, page_chosen, dataset.page_size)\n",
    "    segment_stamps_valid_0 = filter_stamps(raw_stamps_0, page_chosen, dataset.page_size)\n",
    "    segment_stamps_valid_1 = filter_stamps(raw_stamps_1, page_chosen, dataset.page_size)\n",
    "    segment_stamps_valid_2 = filter_stamps(raw_stamps_2, page_chosen, dataset.page_size)\n",
    "    \n",
    "    time_axis = np.arange(page_start, page_end) / fs\n",
    "    \n",
    "    gs_idx = 0\n",
    "    \n",
    "    # Show valid 0\n",
    "    delta_y = 0.1\n",
    "    ax = fig.add_subplot(gs[gs_idx])\n",
    "    print('V0 stamps:')\n",
    "    for this_stamp in segment_stamps_valid_0:\n",
    "        print(this_stamp/200)\n",
    "        ax.fill_between(\n",
    "            this_stamp / fs, 1+delta_y, -delta_y, \n",
    "            facecolor=stamps_color, alpha=0.2,\n",
    "            edgecolor='k', linewidth=1.5, \n",
    "        )\n",
    "        \n",
    "    ax.set_xticks([])\n",
    "    ax.set_yticks([])\n",
    "    ax.set_ylim([-delta_y, 1+delta_y])\n",
    "    ax.set_xlim([time_axis[0], time_axis[-1]])\n",
    "    ax.set_ylabel('V0', fontsize=8)\n",
    "\n",
    "    # Show valid 1\n",
    "    delta_y = 0.1\n",
    "    gs_idx = gs_idx + 1\n",
    "    ax = fig.add_subplot(gs[gs_idx])\n",
    "    print('V1 stamps:')\n",
    "    for this_stamp in segment_stamps_valid_1:\n",
    "        print(this_stamp/200)\n",
    "        ax.fill_between(\n",
    "            this_stamp / fs, 1+delta_y, -delta_y, \n",
    "            facecolor=stamps_color, alpha=0.2,\n",
    "            edgecolor='k', linewidth=1.5, \n",
    "        )\n",
    "    ax.set_xticks([])\n",
    "    ax.set_yticks([])\n",
    "    ax.set_ylim([-delta_y, 1+delta_y])\n",
    "    ax.set_xlim([time_axis[0], time_axis[-1]])\n",
    "    ax.set_ylabel('V1', fontsize=8)\n",
    "    \n",
    "    # Show valid 2\n",
    "    delta_y = 0.1\n",
    "    gs_idx = gs_idx + 1\n",
    "    ax = fig.add_subplot(gs[gs_idx])\n",
    "    print('V2 stamps:')\n",
    "    for this_stamp in segment_stamps_valid_2:\n",
    "        print(this_stamp/200)\n",
    "        ax.fill_between(\n",
    "            this_stamp / fs, 1+delta_y, -delta_y, \n",
    "            facecolor=stamps_color, alpha=0.2,\n",
    "            edgecolor='k', linewidth=1.5, \n",
    "        )\n",
    "    ax.set_xticks(np.arange(time_axis[0], time_axis[-1], 0.5), minor=True)\n",
    "    ax.set_xticks([\n",
    "        time_axis[0], \n",
    "        time_axis[0] + 5, \n",
    "        time_axis[0] + 10, \n",
    "        time_axis[0] + 15, \n",
    "        time_axis[0] + 20])\n",
    "    ax.set_yticks([])\n",
    "    ax.set_ylim([-delta_y, 1+delta_y])\n",
    "    ax.set_xlim([time_axis[0], time_axis[-1]])\n",
    "    ax.set_ylabel('V2', fontsize=8)   \n",
    "    ax.set_xlabel('Time [s]', fontsize=8)\n",
    "    ax.tick_params(labelsize=8.5)\n",
    "    \n",
    "    # Signal\n",
    "    gs_idx = gs_idx + 1\n",
    "    y_max = 150\n",
    "    y_sep = 120\n",
    "    ax = fig.add_subplot(gs[gs_idx])\n",
    "    \n",
    "    for k, name in enumerate(to_show_names):\n",
    "        if name == 'F4-C4':\n",
    "            stamp_center = -y_sep*k\n",
    "        segment_signal = signal_dict[name][page_start:page_end]\n",
    "        ax.plot(\n",
    "            time_axis, -y_sep*k + segment_signal, linewidth=1, color=CUSTOM_COLOR['grey'])\n",
    "    \n",
    "    \n",
    "    add_scalebar(ax, matchx=True, matchy=True, hidex=False, hidey=False)\n",
    "    for expert_stamp in segment_stamps:\n",
    "        ax.fill_between(\n",
    "            expert_stamp / fs, 50+stamp_center, -50+stamp_center, \n",
    "            facecolor=CUSTOM_COLOR['red'], alpha=0.2,\n",
    "            edgecolor='k', linewidth=1.5, \n",
    "        )\n",
    "    ax.set_yticks([-y_sep*k for k in range(len(to_show_names))])\n",
    "    ax.set_yticklabels(to_show_names)\n",
    "    # ax.set_yticks([])\n",
    "    # ax.set_ylabel('F4-C4 [$\\mu$V]')\n",
    "    ax.set_xlim([time_axis[0], time_axis[-1]])\n",
    "    ax.set_ylim([-y_max -y_sep*(len(to_show_names)-1) - 30, y_max])\n",
    "    ax.set_title('Subject %d (%s INTA). Page in record: %d. (intervals of 0.5s are shown).' \n",
    "                 % (subject_id, NAMES[subject_id-1], page_chosen), fontsize=10)\n",
    "    ax.set_xticks([\n",
    "        time_axis[0], \n",
    "        time_axis[0] + 5, \n",
    "        time_axis[0] + 10, \n",
    "        time_axis[0] + 15, \n",
    "        time_axis[0] + 20])\n",
    "    ax.set_xticks(np.arange(time_axis[0], time_axis[-1], 0.5), minor=True)\n",
    "    ax.grid(b=True, axis='x', which='minor')\n",
    "    ax.tick_params(labelsize=8.5)\n",
    "    # ax.legend(loc='upper right', fontsize=8)\n",
    "    ax.set_aspect(1/microvolt_per_second)\n",
    "    ax.set_xlabel('Time [s]', fontsize=8)\n",
    "\n",
    "    plt.tight_layout()\n",
    "    plt.show()"
   ]
  },
  {
   "cell_type": "code",
   "execution_count": 150,
   "metadata": {
    "scrolled": false
   },
   "outputs": [
    {
     "data": {
      "application/vnd.jupyter.widget-view+json": {
       "model_id": "1bc833de35a042fc9b2e2178d3e14aac",
       "version_major": 2,
       "version_minor": 0
      },
      "text/plain": [
       "interactive(children=(IntSlider(value=359, continuous_update=False, description='page_idx', max=1450, min=1), …"
      ]
     },
     "metadata": {},
     "output_type": "display_data"
    }
   ],
   "source": [
    "widgets.interact(\n",
    "    lambda page_idx: plot_page(page_idx),\n",
    "    page_idx=widgets.IntSlider(min=1,max=this_pages.shape[0],step=1,value=359, continuous_update=False));"
   ]
  },
  {
   "cell_type": "code",
   "execution_count": null,
   "metadata": {},
   "outputs": [],
   "source": []
  },
  {
   "cell_type": "code",
   "execution_count": null,
   "metadata": {},
   "outputs": [],
   "source": []
  },
  {
   "cell_type": "code",
   "execution_count": null,
   "metadata": {},
   "outputs": [],
   "source": []
  }
 ],
 "metadata": {
  "kernelspec": {
   "display_name": "Python 3",
   "language": "python",
   "name": "python3"
  },
  "language_info": {
   "codemirror_mode": {
    "name": "ipython",
    "version": 3
   },
   "file_extension": ".py",
   "mimetype": "text/x-python",
   "name": "python",
   "nbconvert_exporter": "python",
   "pygments_lexer": "ipython3",
   "version": "3.6.8"
  }
 },
 "nbformat": 4,
 "nbformat_minor": 2
}
