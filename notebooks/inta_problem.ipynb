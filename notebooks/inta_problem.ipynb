{
 "cells": [
  {
   "cell_type": "code",
   "execution_count": 20,
   "metadata": {},
   "outputs": [
    {
     "data": {
      "text/html": [
       "<style>.container { width:100% !important; }</style>"
      ],
      "text/plain": [
       "<IPython.core.display.HTML object>"
      ]
     },
     "metadata": {},
     "output_type": "display_data"
    }
   ],
   "source": [
    "from __future__ import absolute_import\n",
    "from __future__ import division\n",
    "from __future__ import print_function\n",
    "\n",
    "import os\n",
    "import sys\n",
    "import pyedflib\n",
    "\n",
    "import matplotlib.pyplot as plt\n",
    "from matplotlib import colors\n",
    "import numpy as np\n",
    "import ipywidgets as widgets\n",
    "from matplotlib import gridspec\n",
    "\n",
    "project_root = '..'\n",
    "sys.path.append(project_root)\n",
    "\n",
    "from sleeprnn.data.inta_ss import IntaSS, NAMES\n",
    "from sleeprnn.data import utils\n",
    "from sleeprnn.common import constants, pkeys\n",
    "\n",
    "DPI = 200\n",
    "CUSTOM_COLOR = {'red': '#c62828', 'grey': '#455a64', 'blue': '#0277bd', 'green': '#43a047'} \n",
    "\n",
    "%matplotlib inline\n",
    "from IPython.core.display import display, HTML\n",
    "display(HTML(\"<style>.container { width:100% !important; }</style>\"))"
   ]
  },
  {
   "cell_type": "code",
   "execution_count": 2,
   "metadata": {},
   "outputs": [
    {
     "name": "stdout",
     "output_type": "stream",
     "text": [
      "Dataset inta_ss with 10 patients.\n",
      "Loading from checkpoint... Loaded\n"
     ]
    }
   ],
   "source": [
    "dataset = IntaSS(load_checkpoint=True)"
   ]
  },
  {
   "cell_type": "code",
   "execution_count": 31,
   "metadata": {},
   "outputs": [
    {
     "name": "stdout",
     "output_type": "stream",
     "text": [
      "5808200\n",
      "[[  86721   86908     -50     -50       0       1]\n",
      " [ 133096  133204     -50     -50       0       1]\n",
      " [ 166983  167084     -50     -50       0       1]\n",
      " ...\n",
      " [5738701 5738801     -50     -50       0       1]\n",
      " [5765348 5765608     -50     -50       0       1]\n",
      " [5798352 5798524     -50     -50       0       1]]\n"
     ]
    }
   ],
   "source": [
    "# Load stamps of subject\n",
    "subject_id = 1\n",
    "\n",
    "fs = dataset.fs\n",
    "path_dataset = dataset.dataset_dir\n",
    "path_stamps = os.path.join(path_dataset, 'label/spindle', 'SS_%s.txt' % NAMES[subject_id - 1])\n",
    "path_signals = os.path.join(path_dataset, 'register', '%s.rec' % NAMES[subject_id - 1]) \n",
    "\n",
    "with pyedflib.EdfReader(path_signals) as file:\n",
    "    signal = file.readSignal(0)\n",
    "    signal_len = signal.shape[0]\n",
    "data = np.loadtxt(path_stamps)\n",
    "for_this_channel = (data[:, -1] == 1)\n",
    "data = data[for_this_channel]\n",
    "data = np.round(data).astype(np.int32)\n",
    "print(signal_len)\n",
    "print(data)"
   ]
  },
  {
   "cell_type": "code",
   "execution_count": 32,
   "metadata": {},
   "outputs": [
    {
     "name": "stdout",
     "output_type": "stream",
     "text": [
      "End time < Start time fixed\n",
      "End time < Start time fixed\n",
      "End time < Start time fixed\n",
      "End time < Start time fixed\n",
      "End time < Start time fixed\n",
      "End time < Start time fixed\n",
      "Zero duration stamp found and removed\n",
      "End time < Start time fixed\n",
      "End time < Start time fixed\n",
      "End time < Start time fixed\n",
      "Zero duration stamp found and removed\n",
      "End time < Start time fixed\n",
      "Zero duration stamp found and removed\n",
      "End time < Start time fixed\n",
      "End time < Start time fixed\n",
      "End time < Start time fixed\n",
      "[[  86721   86908     -50     -50       0       1]\n",
      " [ 133096  133204     -50     -50       0       1]\n",
      " [ 166983  167084     -50     -50       0       1]\n",
      " ...\n",
      " [5738701 5738801     -50     -50       0       1]\n",
      " [5765348 5765608     -50     -50       0       1]\n",
      " [5798352 5798524     -50     -50       0       1]]\n"
     ]
    }
   ],
   "source": [
    "# Remove zero duration marks, and ensure that start time < end time\n",
    "new_data = []\n",
    "for i in range(data.shape[0]):\n",
    "    if data[i, 0] > data[i, 1]:\n",
    "        print('End time < Start time fixed')\n",
    "        aux = data[i, 0]\n",
    "        data[i, 0] = data[i, 1]\n",
    "        data[i, 1] = aux\n",
    "        new_data.append(data[i, :])\n",
    "    elif data[i, 0] < data[i, 1]:\n",
    "        new_data.append(data[i, :])\n",
    "    else:  # Zero duration (equality)\n",
    "        print('Zero duration stamp found and removed')\n",
    "data = np.stack(new_data, axis=0)\n",
    "print(data)"
   ]
  },
  {
   "cell_type": "code",
   "execution_count": 58,
   "metadata": {},
   "outputs": [
    {
     "name": "stdout",
     "output_type": "stream",
     "text": [
      "[[  86721   86908     -50     -50       0       1]\n",
      " [ 133096  133204     -50     -50       0       1]\n",
      " [ 166983  167084     -50     -50       0       1]\n",
      " ...\n",
      " [5738701 5738801     -50     -50       0       1]\n",
      " [5765348 5765608     -50     -50       0       1]\n",
      " [5798352 5798524     -50     -50       0       1]]\n"
     ]
    }
   ],
   "source": [
    "# Remove stamps outside signal boundaries\n",
    "new_data = []\n",
    "for i in range(data.shape[0]):\n",
    "    if data[i, 1] < signal_len:\n",
    "        new_data.append(data[i, :])\n",
    "    else:\n",
    "        print('Stamp outside boundaries found and removed')\n",
    "data = np.stack(new_data, axis=0)\n",
    "print(data)"
   ]
  },
  {
   "cell_type": "code",
   "execution_count": 59,
   "metadata": {},
   "outputs": [
    {
     "name": "stdout",
     "output_type": "stream",
     "text": [
      "[[  86721   86908]\n",
      " [ 133096  133204]\n",
      " [ 166983  167084]\n",
      " ...\n",
      " [5738701 5738801]\n",
      " [5765348 5765608]\n",
      " [5798352 5798524]]\n",
      "(5854, 2)\n",
      "Valid 0 (1302, 2) Min dur [s] 0.03 Max dur [s] 4.955\n",
      "Valid 1 (2659, 2) Min dur [s] 0.3 Max dur [s] 8.45\n",
      "Valid 2 (1893, 2) Min dur [s] 0.025 Max dur [s] 13.395\n"
     ]
    }
   ],
   "source": [
    "raw_stamps = data[:, [0, 1]]\n",
    "print(raw_stamps)\n",
    "\n",
    "print(raw_stamps.shape)\n",
    "valid = data[:, 4]\n",
    "raw_stamps_0 = raw_stamps[valid == 0]\n",
    "raw_stamps_1 = raw_stamps[valid == 1]\n",
    "raw_stamps_2 = raw_stamps[valid == 2]\n",
    "print('Valid 0', raw_stamps_0.shape, 'Min dur [s]', (raw_stamps_0[:, 1] - raw_stamps_0[:, 0]).min()/fs, 'Max dur [s]', (raw_stamps_0[:, 1] - raw_stamps_0[:, 0]).max()/fs)\n",
    "print('Valid 1', raw_stamps_1.shape, 'Min dur [s]', (raw_stamps_1[:, 1] - raw_stamps_1[:, 0]).min()/fs, 'Max dur [s]', (raw_stamps_1[:, 1] - raw_stamps_1[:, 0]).max()/fs)\n",
    "print('Valid 2', raw_stamps_2.shape, 'Min dur [s]', (raw_stamps_2[:, 1] - raw_stamps_2[:, 0]).min()/fs, 'Max dur [s]', (raw_stamps_2[:, 1] - raw_stamps_2[:, 0]).max()/fs)"
   ]
  },
  {
   "cell_type": "code",
   "execution_count": 105,
   "metadata": {},
   "outputs": [
    {
     "name": "stdout",
     "output_type": "stream",
     "text": [
      "\n",
      "Overlaps for Valid 0\n",
      "0 overlaps: 817 times\n",
      "1 overlaps: 366 times\n",
      "2 overlaps: 92 times\n",
      "3 overlaps: 19 times\n",
      "4 overlaps: 3 times\n",
      "5 overlaps: 5 times\n",
      "\n",
      "Overlaps for Valid 1\n",
      "0 overlaps: 2654 times\n",
      "1 overlaps: 4 times\n",
      "2 overlaps: 1 times\n",
      "\n",
      "Overlaps for Valid 2\n",
      "0 overlaps: 1050 times\n",
      "1 overlaps: 490 times\n",
      "2 overlaps: 225 times\n",
      "3 overlaps: 82 times\n",
      "4 overlaps: 37 times\n",
      "5 overlaps: 6 times\n",
      "7 overlaps: 2 times\n",
      "10 overlaps: 1 times\n"
     ]
    }
   ],
   "source": [
    "# look for intersections between stamps of the same validity\n",
    "def overlap_matrix(events, detections):\n",
    "    # Matrix of overlap, rows are events, columns are detections\n",
    "    n_det = detections.shape[0]\n",
    "    n_gs = events.shape[0]\n",
    "    overlaps = np.zeros((n_gs, n_det))\n",
    "    for i in range(n_gs):\n",
    "        candidates = np.where(\n",
    "            (detections[:, 0] <= events[i, 1])\n",
    "            & (detections[:, 1] >= events[i, 0]))[0]\n",
    "        for j in candidates:\n",
    "            intersection = min(\n",
    "                events[i, 1], detections[j, 1]\n",
    "            ) - max(\n",
    "                events[i, 0], detections[j, 0]\n",
    "            ) + 1\n",
    "            if intersection > 0:\n",
    "                overlaps[i, j] = 1\n",
    "    return overlaps\n",
    "\n",
    "\n",
    "overlap_m = overlap_matrix(raw_stamps_0, raw_stamps_0)\n",
    "n_overlaps_0 = overlap_m.sum(axis=1) - 1  # We expect all stamps intersect with themselves, so we discount one\n",
    "values_0, counts_0 = np.unique(n_overlaps_0, return_counts=True)\n",
    "print('\\nOverlaps for Valid 0')\n",
    "for value, count in zip(values_0, counts_0):\n",
    "    print('%d overlaps: %d times' % (value, count))\n",
    "\n",
    "overlap_m = overlap_matrix(raw_stamps_1, raw_stamps_1)\n",
    "n_overlaps_1 = overlap_m.sum(axis=1) - 1  # We expect all stamps intersect with themselves, so we discount one\n",
    "values_1, counts_1 = np.unique(n_overlaps_1, return_counts=True)\n",
    "print('\\nOverlaps for Valid 1')\n",
    "for value, count in zip(values_1, counts_1):\n",
    "    print('%d overlaps: %d times' % (value, count))\n",
    "\n",
    "overlap_m = overlap_matrix(raw_stamps_2, raw_stamps_2)\n",
    "n_overlaps_2 = overlap_m.sum(axis=1) - 1  # We expect all stamps intersect with themselves, so we discount one\n",
    "values_2, counts_2 = np.unique(n_overlaps_2, return_counts=True)\n",
    "print('\\nOverlaps for Valid 2')\n",
    "for value, count in zip(values_2, counts_2):\n",
    "    print('%d overlaps: %d times' % (value, count))\n",
    "\n",
    "max_overlaps_0 = values_0.max()\n",
    "max_overlaps_1 = values_1.max()\n",
    "max_overlaps_2 = values_2.max()\n",
    "max_overlaps = np.max([max_overlaps_0, max_overlaps_1, max_overlaps_2])"
   ]
  },
  {
   "cell_type": "code",
   "execution_count": 135,
   "metadata": {},
   "outputs": [],
   "source": [
    "# Show a certain page\n",
    "\n",
    "this_pages = dataset.get_subject_pages(subject_id=subject_id)\n",
    "this_signal = dataset.get_subject_signal(subject_id=subject_id, normalize_clip=False)\n",
    "this_stamps = dataset.get_subject_stamps(subject_id=subject_id)\n",
    "\n",
    "\n",
    "def filter_stamps(stamps, single_page, page_size):\n",
    "    pages_list = []\n",
    "    for i in range(stamps.shape[0]):\n",
    "        stamp_start_page = stamps[i, 0] // page_size\n",
    "        stamp_end_page = stamps[i, 1] // page_size\n",
    "\n",
    "        start_inside = (stamp_start_page == single_page)\n",
    "        end_inside = (stamp_end_page == single_page)\n",
    "\n",
    "        if start_inside or end_inside:\n",
    "            pages_list.append(stamps[i, :])\n",
    "    return pages_list\n",
    "\n",
    "\n",
    "def plot_page(page_idx):\n",
    "    \n",
    "    microvolt_per_second = 100  # Aspect ratio\n",
    "    \n",
    "    fig = plt.figure(figsize=(10, 6), dpi=100)\n",
    "    gs = gridspec.GridSpec(4, 1, height_ratios=[4, 1, 1, 1])\n",
    "    \n",
    "    page_idx = page_idx - 1\n",
    "    page_chosen = this_pages[page_idx]\n",
    "    page_start = page_chosen * dataset.page_size\n",
    "    page_end = page_start + dataset.page_size\n",
    "    \n",
    "    segment_signal = this_signal[page_start:page_end]\n",
    "    \n",
    "    segment_stamps = filter_stamps(this_stamps, page_chosen, dataset.page_size)\n",
    "    segment_stamps_valid_0 = filter_stamps(raw_stamps_0, page_chosen, dataset.page_size)\n",
    "    segment_stamps_valid_1 = filter_stamps(raw_stamps_1, page_chosen, dataset.page_size)\n",
    "    segment_stamps_valid_2 = filter_stamps(raw_stamps_2, page_chosen, dataset.page_size)\n",
    "    \n",
    "    time_axis = np.arange(page_start, page_end) / fs\n",
    "    \n",
    "    gs_idx = 0\n",
    "    \n",
    "    # Signal\n",
    "    y_max = 250\n",
    "    ax = fig.add_subplot(gs[gs_idx])\n",
    "    ax.plot(\n",
    "        time_axis, segment_signal, \n",
    "        linewidth=1, color=CUSTOM_COLOR['grey'])\n",
    "    for expert_stamp in segment_stamps:\n",
    "        ax.fill_between(\n",
    "            expert_stamp / fs, y_max, -y_max, \n",
    "            facecolor=CUSTOM_COLOR['blue'], alpha=0.3,\n",
    "            edgecolor='k', linewidth=1.5, \n",
    "        )\n",
    "    # ax.set_yticks([-100, 100])\n",
    "    ax.set_yticks([])\n",
    "    # ax.set_ylabel('F4-C4 [$\\mu$V]')\n",
    "    ax.set_xlim([time_axis[0], time_axis[-1]])\n",
    "    ax.set_ylim([-y_max, y_max])\n",
    "    ax.set_title('Subject %d (%s INTA). Page in record: %d. (intervals of 0.5s are shown).' \n",
    "                 % (subject_id, NAMES[subject_id-1], page_chosen), fontsize=10)\n",
    "    ax.set_xticks([\n",
    "        time_axis[0], \n",
    "        time_axis[0] + 5, \n",
    "        time_axis[0] + 10, \n",
    "        time_axis[0] + 15, \n",
    "        time_axis[0] + 20])\n",
    "    ax.set_xticks(np.arange(time_axis[0], time_axis[-1], 0.5), minor=True)\n",
    "    ax.grid(b=True, axis='x', which='minor')\n",
    "    ax.tick_params(labelsize=8.5)\n",
    "    \n",
    "    ax.set_aspect(1/microvolt_per_second)\n",
    "    \n",
    "    # Show valid 2\n",
    "    delta_y = 0.1\n",
    "    gs_idx = gs_idx + 1\n",
    "    ax = fig.add_subplot(gs[gs_idx])\n",
    "    \n",
    "    for this_stamp in segment_stamps_valid_2:\n",
    "        ax.fill_between(\n",
    "            this_stamp / fs, 1+delta_y, -delta_y, \n",
    "            facecolor=CUSTOM_COLOR['blue'], alpha=float(1/max_overlaps),\n",
    "            edgecolor='k', linewidth=1.5, \n",
    "        )\n",
    "    ax.set_xticks([])\n",
    "    ax.set_yticks([])\n",
    "    ax.set_ylim([-delta_y, 1+delta_y])\n",
    "    ax.set_xlim([time_axis[0], time_axis[-1]])\n",
    "    ax.set_ylabel('Valid 2', fontsize=10)\n",
    "    \n",
    "    # Show valid 1\n",
    "    delta_y = 0.1\n",
    "    gs_idx = gs_idx + 1\n",
    "    ax = fig.add_subplot(gs[gs_idx])\n",
    "    \n",
    "    for this_stamp in segment_stamps_valid_1:\n",
    "        ax.fill_between(\n",
    "            this_stamp / fs, 1+delta_y, -delta_y, \n",
    "            facecolor=CUSTOM_COLOR['blue'], alpha=float(1/max_overlaps),\n",
    "            edgecolor='k', linewidth=1.5, \n",
    "        )\n",
    "    ax.set_xticks([])\n",
    "    ax.set_yticks([])\n",
    "    ax.set_ylim([-delta_y, 1+delta_y])\n",
    "    ax.set_xlim([time_axis[0], time_axis[-1]])\n",
    "    ax.set_ylabel('Valid 1', fontsize=10)\n",
    "    \n",
    "    # Show valid 0\n",
    "    delta_y = 0.1\n",
    "    gs_idx = gs_idx + 1\n",
    "    ax = fig.add_subplot(gs[gs_idx])\n",
    "    \n",
    "    for this_stamp in segment_stamps_valid_0:\n",
    "        ax.fill_between(\n",
    "            this_stamp / fs, 1+delta_y, -delta_y, \n",
    "            facecolor=CUSTOM_COLOR['blue'], alpha=float(1/max_overlaps),\n",
    "            edgecolor='k', linewidth=1.5, \n",
    "        )\n",
    "    ax.set_xticks([])\n",
    "    ax.set_yticks([])\n",
    "    ax.set_ylim([-delta_y, 1+delta_y])\n",
    "    ax.set_xlim([time_axis[0], time_axis[-1]])\n",
    "    ax.set_ylabel('Valid 0', fontsize=10)\n",
    "    \n",
    "    plt.tight_layout()\n",
    "    plt.show()"
   ]
  },
  {
   "cell_type": "code",
   "execution_count": 136,
   "metadata": {},
   "outputs": [
    {
     "data": {
      "application/vnd.jupyter.widget-view+json": {
       "model_id": "53940c171c7b4fcd81e06afab03c4668",
       "version_major": 2,
       "version_minor": 0
      },
      "text/plain": [
       "interactive(children=(IntSlider(value=1, continuous_update=False, description='page_idx', max=1450, min=1), Ou…"
      ]
     },
     "metadata": {},
     "output_type": "display_data"
    }
   ],
   "source": [
    "widgets.interact(\n",
    "    lambda page_idx: plot_page(page_idx),\n",
    "    page_idx=widgets.IntSlider(min=1,max=this_pages.shape[0],step=1,value=1, continuous_update=False));"
   ]
  },
  {
   "cell_type": "code",
   "execution_count": null,
   "metadata": {},
   "outputs": [],
   "source": []
  },
  {
   "cell_type": "code",
   "execution_count": null,
   "metadata": {},
   "outputs": [],
   "source": []
  },
  {
   "cell_type": "code",
   "execution_count": null,
   "metadata": {},
   "outputs": [],
   "source": []
  }
 ],
 "metadata": {
  "kernelspec": {
   "display_name": "Python 3",
   "language": "python",
   "name": "python3"
  },
  "language_info": {
   "codemirror_mode": {
    "name": "ipython",
    "version": 3
   },
   "file_extension": ".py",
   "mimetype": "text/x-python",
   "name": "python",
   "nbconvert_exporter": "python",
   "pygments_lexer": "ipython3",
   "version": "3.6.8"
  }
 },
 "nbformat": 4,
 "nbformat_minor": 2
}
