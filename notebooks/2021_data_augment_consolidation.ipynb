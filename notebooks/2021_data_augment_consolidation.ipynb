{
 "cells": [
  {
   "cell_type": "code",
   "execution_count": 2,
   "metadata": {},
   "outputs": [
    {
     "data": {
      "text/html": [
       "<style>.container { width:100% !important; }</style>"
      ],
      "text/plain": [
       "<IPython.core.display.HTML object>"
      ]
     },
     "metadata": {},
     "output_type": "display_data"
    }
   ],
   "source": [
    "import matplotlib.pyplot as plt\n",
    "import numpy as np\n",
    "import scipy\n",
    "import tensorflow as tf\n",
    "import sys\n",
    "sys.path.append(\"..\")\n",
    "from sleeprnn.nn import wave_augment\n",
    "from sleeprnn.helpers import reader, plotter\n",
    "from sleeprnn.data import utils\n",
    "from sleeprnn.common import viz, constants, pkeys\n",
    "\n",
    "viz.notebook_full_width()"
   ]
  },
  {
   "cell_type": "code",
   "execution_count": 6,
   "metadata": {},
   "outputs": [],
   "source": [
    "def extract_amplitudes(signal, marks, band, filter_amplitudes_less_than=10, fs=200, border_size=1000):\n",
    "    band_signal = utils.apply_bandpass(signal, fs, band[0], band[1])\n",
    "    band_signal = band_signal[:, border_size:-border_size]\n",
    "    band_amplitude = np.abs(scipy.signal.hilbert(band_signal))\n",
    "    amp_background_list = []\n",
    "    amp_event_list = []\n",
    "    for page_mark, page_amplitude in zip(marks, band_amplitude):\n",
    "        amp_background = page_amplitude[page_mark == 0].max()\n",
    "        amp_background_list.append(amp_background)\n",
    "        if page_mark.sum() > 0:\n",
    "            amp_event = page_amplitude[page_mark == 1].max()\n",
    "            amp_event_list.append(amp_event)\n",
    "    band_amplitude_background = np.array(amp_background_list)\n",
    "    band_amplitude_event = np.array(amp_event_list)\n",
    "    # band_amplitude_background = band_amplitude_vector[marks_vector==0]\n",
    "    # band_amplitude_event = band_amplitude_vector[marks_vector==1]\n",
    "    # band_amplitude_background = band_amplitude_background[band_amplitude_background >= filter_amplitudes_less_than]\n",
    "    # band_amplitude_event = band_amplitude_event[band_amplitude_event >= filter_amplitudes_less_than]\n",
    "    return band_amplitude_background, band_amplitude_event"
   ]
  },
  {
   "cell_type": "markdown",
   "metadata": {},
   "source": [
    "# Band amplitudes --- E1-SS"
   ]
  },
  {
   "cell_type": "code",
   "execution_count": 3,
   "metadata": {},
   "outputs": [],
   "source": [
    "mass = reader.load_dataset(constants.MASS_SS_NAME, load_checkpoint=True, verbose=False)\n",
    "which_expert = 1"
   ]
  },
  {
   "cell_type": "code",
   "execution_count": 4,
   "metadata": {},
   "outputs": [
    {
     "name": "stdout",
     "output_type": "stream",
     "text": [
      "Subject ID 1\n"
     ]
    },
    {
     "name": "stderr",
     "output_type": "stream",
     "text": [
      "/home/ntapia/miniconda3/envs/tf/lib/python3.7/site-packages/scipy/signal/signaltools.py:1344: FutureWarning: Using a non-tuple sequence for multidimensional indexing is deprecated; use `arr[tuple(seq)]` instead of `arr[seq]`. In the future this will be interpreted as an array index, `arr[np.array(seq)]`, which will result either in an error or a different result.\n",
      "  out = out_full[ind]\n",
      "/home/ntapia/miniconda3/envs/tf/lib/python3.7/site-packages/scipy/signal/signaltools.py:1593: FutureWarning: Using a non-tuple sequence for multidimensional indexing is deprecated; use `arr[tuple(seq)]` instead of `arr[seq]`. In the future this will be interpreted as an array index, `arr[np.array(seq)]`, which will result either in an error or a different result.\n",
      "  h = h[ind]\n"
     ]
    },
    {
     "name": "stdout",
     "output_type": "stream",
     "text": [
      "Subject ID 3\n",
      "Subject ID 4\n",
      "Subject ID 5\n",
      "Subject ID 7\n",
      "Subject ID 8\n",
      "Subject ID 9\n",
      "Subject ID 10\n",
      "Subject ID 11\n",
      "Subject ID 14\n",
      "Subject ID 15\n"
     ]
    },
    {
     "ename": "KeyboardInterrupt",
     "evalue": "",
     "output_type": "error",
     "traceback": [
      "\u001b[0;31m---------------------------------------------------------------------------\u001b[0m",
      "\u001b[0;31mKeyboardInterrupt\u001b[0m                         Traceback (most recent call last)",
      "\u001b[0;32m<ipython-input-4-89bd9929e02e>\u001b[0m in \u001b[0;36m<module>\u001b[0;34m\u001b[0m\n\u001b[1;32m     16\u001b[0m     \u001b[0mmarks\u001b[0m \u001b[0;34m=\u001b[0m \u001b[0mmarks\u001b[0m\u001b[0;34m[\u001b[0m\u001b[0;34m:\u001b[0m\u001b[0;34m,\u001b[0m \u001b[0mborder_size\u001b[0m\u001b[0;34m:\u001b[0m\u001b[0;34m-\u001b[0m\u001b[0mborder_size\u001b[0m\u001b[0;34m]\u001b[0m\u001b[0;34m\u001b[0m\u001b[0;34m\u001b[0m\u001b[0m\n\u001b[1;32m     17\u001b[0m     \u001b[0;32mfor\u001b[0m \u001b[0mi\u001b[0m\u001b[0;34m,\u001b[0m \u001b[0mband\u001b[0m \u001b[0;32min\u001b[0m \u001b[0menumerate\u001b[0m\u001b[0;34m(\u001b[0m\u001b[0mbands\u001b[0m\u001b[0;34m)\u001b[0m\u001b[0;34m:\u001b[0m\u001b[0;34m\u001b[0m\u001b[0;34m\u001b[0m\u001b[0m\n\u001b[0;32m---> 18\u001b[0;31m         \u001b[0mamp_outside\u001b[0m\u001b[0;34m,\u001b[0m \u001b[0mamp_inside\u001b[0m \u001b[0;34m=\u001b[0m \u001b[0mextract_amplitudes\u001b[0m\u001b[0;34m(\u001b[0m\u001b[0msignal\u001b[0m\u001b[0;34m,\u001b[0m \u001b[0mmarks\u001b[0m\u001b[0;34m,\u001b[0m \u001b[0mband\u001b[0m\u001b[0;34m)\u001b[0m\u001b[0;34m\u001b[0m\u001b[0;34m\u001b[0m\u001b[0m\n\u001b[0m\u001b[1;32m     19\u001b[0m         \u001b[0;31m# outside plot\u001b[0m\u001b[0;34m\u001b[0m\u001b[0;34m\u001b[0m\u001b[0;34m\u001b[0m\u001b[0m\n\u001b[1;32m     20\u001b[0m         \u001b[0mcounts_outside\u001b[0m\u001b[0;34m,\u001b[0m \u001b[0m_\u001b[0m \u001b[0;34m=\u001b[0m \u001b[0mnp\u001b[0m\u001b[0;34m.\u001b[0m\u001b[0mhistogram\u001b[0m\u001b[0;34m(\u001b[0m\u001b[0mamp_outside\u001b[0m\u001b[0;34m,\u001b[0m \u001b[0mbins\u001b[0m\u001b[0;34m=\u001b[0m\u001b[0mbins\u001b[0m\u001b[0;34m,\u001b[0m \u001b[0mdensity\u001b[0m\u001b[0;34m=\u001b[0m\u001b[0;32mTrue\u001b[0m\u001b[0;34m)\u001b[0m\u001b[0;34m\u001b[0m\u001b[0;34m\u001b[0m\u001b[0m\n",
      "\u001b[0;32m<ipython-input-2-1827a05f04ed>\u001b[0m in \u001b[0;36mextract_amplitudes\u001b[0;34m(signal, marks, band, filter_amplitudes_less_than, fs, border_size)\u001b[0m\n\u001b[1;32m      1\u001b[0m \u001b[0;32mdef\u001b[0m \u001b[0mextract_amplitudes\u001b[0m\u001b[0;34m(\u001b[0m\u001b[0msignal\u001b[0m\u001b[0;34m,\u001b[0m \u001b[0mmarks\u001b[0m\u001b[0;34m,\u001b[0m \u001b[0mband\u001b[0m\u001b[0;34m,\u001b[0m \u001b[0mfilter_amplitudes_less_than\u001b[0m\u001b[0;34m=\u001b[0m\u001b[0;36m10\u001b[0m\u001b[0;34m,\u001b[0m \u001b[0mfs\u001b[0m\u001b[0;34m=\u001b[0m\u001b[0;36m200\u001b[0m\u001b[0;34m,\u001b[0m \u001b[0mborder_size\u001b[0m\u001b[0;34m=\u001b[0m\u001b[0;36m1000\u001b[0m\u001b[0;34m)\u001b[0m\u001b[0;34m:\u001b[0m\u001b[0;34m\u001b[0m\u001b[0;34m\u001b[0m\u001b[0m\n\u001b[0;32m----> 2\u001b[0;31m     \u001b[0mband_signal\u001b[0m \u001b[0;34m=\u001b[0m \u001b[0mutils\u001b[0m\u001b[0;34m.\u001b[0m\u001b[0mapply_bandpass\u001b[0m\u001b[0;34m(\u001b[0m\u001b[0msignal\u001b[0m\u001b[0;34m,\u001b[0m \u001b[0mfs\u001b[0m\u001b[0;34m,\u001b[0m \u001b[0mband\u001b[0m\u001b[0;34m[\u001b[0m\u001b[0;36m0\u001b[0m\u001b[0;34m]\u001b[0m\u001b[0;34m,\u001b[0m \u001b[0mband\u001b[0m\u001b[0;34m[\u001b[0m\u001b[0;36m1\u001b[0m\u001b[0;34m]\u001b[0m\u001b[0;34m)\u001b[0m\u001b[0;34m\u001b[0m\u001b[0;34m\u001b[0m\u001b[0m\n\u001b[0m\u001b[1;32m      3\u001b[0m     \u001b[0mband_signal\u001b[0m \u001b[0;34m=\u001b[0m \u001b[0mband_signal\u001b[0m\u001b[0;34m[\u001b[0m\u001b[0;34m:\u001b[0m\u001b[0;34m,\u001b[0m \u001b[0mborder_size\u001b[0m\u001b[0;34m:\u001b[0m\u001b[0;34m-\u001b[0m\u001b[0mborder_size\u001b[0m\u001b[0;34m]\u001b[0m\u001b[0;34m\u001b[0m\u001b[0;34m\u001b[0m\u001b[0m\n\u001b[1;32m      4\u001b[0m     \u001b[0mband_amplitude\u001b[0m \u001b[0;34m=\u001b[0m \u001b[0mnp\u001b[0m\u001b[0;34m.\u001b[0m\u001b[0mabs\u001b[0m\u001b[0;34m(\u001b[0m\u001b[0mscipy\u001b[0m\u001b[0;34m.\u001b[0m\u001b[0msignal\u001b[0m\u001b[0;34m.\u001b[0m\u001b[0mhilbert\u001b[0m\u001b[0;34m(\u001b[0m\u001b[0mband_signal\u001b[0m\u001b[0;34m)\u001b[0m\u001b[0;34m)\u001b[0m\u001b[0;34m\u001b[0m\u001b[0;34m\u001b[0m\u001b[0m\n\u001b[1;32m      5\u001b[0m     \u001b[0mamp_background_list\u001b[0m \u001b[0;34m=\u001b[0m \u001b[0;34m[\u001b[0m\u001b[0;34m]\u001b[0m\u001b[0;34m\u001b[0m\u001b[0;34m\u001b[0m\u001b[0m\n",
      "\u001b[0;32m~/projects/sleep-rnn/sleeprnn/data/utils.py\u001b[0m in \u001b[0;36mapply_bandpass\u001b[0;34m(signal, fs, lowcut, highcut, filter_duration_ref, wave_expansion_factor)\u001b[0m\n\u001b[1;32m    690\u001b[0m     \u001b[0;32mif\u001b[0m \u001b[0mhighcut\u001b[0m \u001b[0;32mis\u001b[0m \u001b[0;32mnot\u001b[0m \u001b[0;32mNone\u001b[0m\u001b[0;34m:\u001b[0m\u001b[0;34m\u001b[0m\u001b[0;34m\u001b[0m\u001b[0m\n\u001b[1;32m    691\u001b[0m         new_signal = apply_lowpass(\n\u001b[0;32m--> 692\u001b[0;31m             new_signal, fs, highcut, filter_duration_ref, wave_expansion_factor)\n\u001b[0m\u001b[1;32m    693\u001b[0m     \u001b[0;32mreturn\u001b[0m \u001b[0mnew_signal\u001b[0m\u001b[0;34m\u001b[0m\u001b[0;34m\u001b[0m\u001b[0m\n\u001b[1;32m    694\u001b[0m \u001b[0;34m\u001b[0m\u001b[0m\n",
      "\u001b[0;32m~/projects/sleep-rnn/sleeprnn/data/utils.py\u001b[0m in \u001b[0;36mapply_lowpass\u001b[0;34m(signal, fs, cutoff, filter_duration_ref, wave_expansion_factor)\u001b[0m\n\u001b[1;32m    667\u001b[0m     \u001b[0mlp_kernel\u001b[0m \u001b[0;34m=\u001b[0m \u001b[0mfirwin\u001b[0m\u001b[0;34m(\u001b[0m\u001b[0mnumtaps\u001b[0m\u001b[0;34m,\u001b[0m \u001b[0mcutoff\u001b[0m\u001b[0;34m=\u001b[0m\u001b[0mcutoff\u001b[0m\u001b[0;34m,\u001b[0m \u001b[0mwindow\u001b[0m\u001b[0;34m=\u001b[0m\u001b[0;34m\"hanning\"\u001b[0m\u001b[0;34m,\u001b[0m \u001b[0mfs\u001b[0m\u001b[0;34m=\u001b[0m\u001b[0mfs\u001b[0m\u001b[0;34m)\u001b[0m\u001b[0;34m.\u001b[0m\u001b[0mastype\u001b[0m\u001b[0;34m(\u001b[0m\u001b[0mnp\u001b[0m\u001b[0;34m.\u001b[0m\u001b[0mfloat32\u001b[0m\u001b[0;34m)\u001b[0m\u001b[0;34m\u001b[0m\u001b[0;34m\u001b[0m\u001b[0m\n\u001b[1;32m    668\u001b[0m     \u001b[0mlp_kernel\u001b[0m \u001b[0;34m/=\u001b[0m \u001b[0mlp_kernel\u001b[0m\u001b[0;34m.\u001b[0m\u001b[0msum\u001b[0m\u001b[0;34m(\u001b[0m\u001b[0;34m)\u001b[0m\u001b[0;34m\u001b[0m\u001b[0;34m\u001b[0m\u001b[0m\n\u001b[0;32m--> 669\u001b[0;31m     \u001b[0mnew_signal\u001b[0m \u001b[0;34m=\u001b[0m \u001b[0mfilter_fir\u001b[0m\u001b[0;34m(\u001b[0m\u001b[0mlp_kernel\u001b[0m\u001b[0;34m,\u001b[0m \u001b[0msignal\u001b[0m\u001b[0;34m)\u001b[0m\u001b[0;34m\u001b[0m\u001b[0;34m\u001b[0m\u001b[0m\n\u001b[0m\u001b[1;32m    670\u001b[0m     \u001b[0;32mreturn\u001b[0m \u001b[0mnew_signal\u001b[0m\u001b[0;34m\u001b[0m\u001b[0;34m\u001b[0m\u001b[0m\n\u001b[1;32m    671\u001b[0m \u001b[0;34m\u001b[0m\u001b[0m\n",
      "\u001b[0;32m~/projects/sleep-rnn/sleeprnn/data/utils.py\u001b[0m in \u001b[0;36mfilter_fir\u001b[0;34m(kernel, signal)\u001b[0m\n\u001b[1;32m    160\u001b[0m \u001b[0;34m\u001b[0m\u001b[0m\n\u001b[1;32m    161\u001b[0m \u001b[0;32mdef\u001b[0m \u001b[0mfilter_fir\u001b[0m\u001b[0;34m(\u001b[0m\u001b[0mkernel\u001b[0m\u001b[0;34m,\u001b[0m \u001b[0msignal\u001b[0m\u001b[0;34m)\u001b[0m\u001b[0;34m:\u001b[0m\u001b[0;34m\u001b[0m\u001b[0;34m\u001b[0m\u001b[0m\n\u001b[0;32m--> 162\u001b[0;31m     \u001b[0mfiltered_signal\u001b[0m \u001b[0;34m=\u001b[0m \u001b[0mlfilter\u001b[0m\u001b[0;34m(\u001b[0m\u001b[0mkernel\u001b[0m\u001b[0;34m,\u001b[0m \u001b[0;36m1.0\u001b[0m\u001b[0;34m,\u001b[0m \u001b[0msignal\u001b[0m\u001b[0;34m)\u001b[0m\u001b[0;34m\u001b[0m\u001b[0;34m\u001b[0m\u001b[0m\n\u001b[0m\u001b[1;32m    163\u001b[0m     \u001b[0mn_shift\u001b[0m \u001b[0;34m=\u001b[0m \u001b[0;34m(\u001b[0m\u001b[0mkernel\u001b[0m\u001b[0;34m.\u001b[0m\u001b[0msize\u001b[0m \u001b[0;34m-\u001b[0m \u001b[0;36m1\u001b[0m\u001b[0;34m)\u001b[0m \u001b[0;34m//\u001b[0m \u001b[0;36m2\u001b[0m\u001b[0;34m\u001b[0m\u001b[0;34m\u001b[0m\u001b[0m\n\u001b[1;32m    164\u001b[0m     \u001b[0maligned\u001b[0m \u001b[0;34m=\u001b[0m \u001b[0mnp\u001b[0m\u001b[0;34m.\u001b[0m\u001b[0mzeros\u001b[0m\u001b[0;34m(\u001b[0m\u001b[0mfiltered_signal\u001b[0m\u001b[0;34m.\u001b[0m\u001b[0mshape\u001b[0m\u001b[0;34m)\u001b[0m\u001b[0;34m\u001b[0m\u001b[0;34m\u001b[0m\u001b[0m\n",
      "\u001b[0;32m~/miniconda3/envs/tf/lib/python3.7/site-packages/scipy/signal/signaltools.py\u001b[0m in \u001b[0;36mlfilter\u001b[0;34m(b, a, x, axis, zi)\u001b[0m\n\u001b[1;32m   1335\u001b[0m         \u001b[0mx\u001b[0m \u001b[0;34m=\u001b[0m \u001b[0mnp\u001b[0m\u001b[0;34m.\u001b[0m\u001b[0marray\u001b[0m\u001b[0;34m(\u001b[0m\u001b[0mx\u001b[0m\u001b[0;34m,\u001b[0m \u001b[0mdtype\u001b[0m\u001b[0;34m=\u001b[0m\u001b[0mdtype\u001b[0m\u001b[0;34m,\u001b[0m \u001b[0mcopy\u001b[0m\u001b[0;34m=\u001b[0m\u001b[0;32mFalse\u001b[0m\u001b[0;34m)\u001b[0m\u001b[0;34m\u001b[0m\u001b[0;34m\u001b[0m\u001b[0m\n\u001b[1;32m   1336\u001b[0m \u001b[0;34m\u001b[0m\u001b[0m\n\u001b[0;32m-> 1337\u001b[0;31m         \u001b[0mout_full\u001b[0m \u001b[0;34m=\u001b[0m \u001b[0mnp\u001b[0m\u001b[0;34m.\u001b[0m\u001b[0mapply_along_axis\u001b[0m\u001b[0;34m(\u001b[0m\u001b[0;32mlambda\u001b[0m \u001b[0my\u001b[0m\u001b[0;34m:\u001b[0m \u001b[0mnp\u001b[0m\u001b[0;34m.\u001b[0m\u001b[0mconvolve\u001b[0m\u001b[0;34m(\u001b[0m\u001b[0mb\u001b[0m\u001b[0;34m,\u001b[0m \u001b[0my\u001b[0m\u001b[0;34m)\u001b[0m\u001b[0;34m,\u001b[0m \u001b[0maxis\u001b[0m\u001b[0;34m,\u001b[0m \u001b[0mx\u001b[0m\u001b[0;34m)\u001b[0m\u001b[0;34m\u001b[0m\u001b[0;34m\u001b[0m\u001b[0m\n\u001b[0m\u001b[1;32m   1338\u001b[0m         \u001b[0mind\u001b[0m \u001b[0;34m=\u001b[0m \u001b[0mout_full\u001b[0m\u001b[0;34m.\u001b[0m\u001b[0mndim\u001b[0m \u001b[0;34m*\u001b[0m \u001b[0;34m[\u001b[0m\u001b[0mslice\u001b[0m\u001b[0;34m(\u001b[0m\u001b[0;32mNone\u001b[0m\u001b[0;34m)\u001b[0m\u001b[0;34m]\u001b[0m\u001b[0;34m\u001b[0m\u001b[0;34m\u001b[0m\u001b[0m\n\u001b[1;32m   1339\u001b[0m         \u001b[0;32mif\u001b[0m \u001b[0mzi\u001b[0m \u001b[0;32mis\u001b[0m \u001b[0;32mnot\u001b[0m \u001b[0;32mNone\u001b[0m\u001b[0;34m:\u001b[0m\u001b[0;34m\u001b[0m\u001b[0;34m\u001b[0m\u001b[0m\n",
      "\u001b[0;32m~/miniconda3/envs/tf/lib/python3.7/site-packages/numpy/lib/shape_base.py\u001b[0m in \u001b[0;36mapply_along_axis\u001b[0;34m(func1d, axis, arr, *args, **kwargs)\u001b[0m\n\u001b[1;32m    401\u001b[0m     \u001b[0mbuff\u001b[0m\u001b[0;34m[\u001b[0m\u001b[0mind0\u001b[0m\u001b[0;34m]\u001b[0m \u001b[0;34m=\u001b[0m \u001b[0mres\u001b[0m\u001b[0;34m\u001b[0m\u001b[0;34m\u001b[0m\u001b[0m\n\u001b[1;32m    402\u001b[0m     \u001b[0;32mfor\u001b[0m \u001b[0mind\u001b[0m \u001b[0;32min\u001b[0m \u001b[0minds\u001b[0m\u001b[0;34m:\u001b[0m\u001b[0;34m\u001b[0m\u001b[0;34m\u001b[0m\u001b[0m\n\u001b[0;32m--> 403\u001b[0;31m         \u001b[0mbuff\u001b[0m\u001b[0;34m[\u001b[0m\u001b[0mind\u001b[0m\u001b[0;34m]\u001b[0m \u001b[0;34m=\u001b[0m \u001b[0masanyarray\u001b[0m\u001b[0;34m(\u001b[0m\u001b[0mfunc1d\u001b[0m\u001b[0;34m(\u001b[0m\u001b[0minarr_view\u001b[0m\u001b[0;34m[\u001b[0m\u001b[0mind\u001b[0m\u001b[0;34m]\u001b[0m\u001b[0;34m,\u001b[0m \u001b[0;34m*\u001b[0m\u001b[0margs\u001b[0m\u001b[0;34m,\u001b[0m \u001b[0;34m**\u001b[0m\u001b[0mkwargs\u001b[0m\u001b[0;34m)\u001b[0m\u001b[0;34m)\u001b[0m\u001b[0;34m\u001b[0m\u001b[0;34m\u001b[0m\u001b[0m\n\u001b[0m\u001b[1;32m    404\u001b[0m \u001b[0;34m\u001b[0m\u001b[0m\n\u001b[1;32m    405\u001b[0m     \u001b[0;32mif\u001b[0m \u001b[0;32mnot\u001b[0m \u001b[0misinstance\u001b[0m\u001b[0;34m(\u001b[0m\u001b[0mres\u001b[0m\u001b[0;34m,\u001b[0m \u001b[0mmatrix\u001b[0m\u001b[0;34m)\u001b[0m\u001b[0;34m:\u001b[0m\u001b[0;34m\u001b[0m\u001b[0;34m\u001b[0m\u001b[0m\n",
      "\u001b[0;32m~/miniconda3/envs/tf/lib/python3.7/site-packages/scipy/signal/signaltools.py\u001b[0m in \u001b[0;36m<lambda>\u001b[0;34m(y)\u001b[0m\n\u001b[1;32m   1335\u001b[0m         \u001b[0mx\u001b[0m \u001b[0;34m=\u001b[0m \u001b[0mnp\u001b[0m\u001b[0;34m.\u001b[0m\u001b[0marray\u001b[0m\u001b[0;34m(\u001b[0m\u001b[0mx\u001b[0m\u001b[0;34m,\u001b[0m \u001b[0mdtype\u001b[0m\u001b[0;34m=\u001b[0m\u001b[0mdtype\u001b[0m\u001b[0;34m,\u001b[0m \u001b[0mcopy\u001b[0m\u001b[0;34m=\u001b[0m\u001b[0;32mFalse\u001b[0m\u001b[0;34m)\u001b[0m\u001b[0;34m\u001b[0m\u001b[0;34m\u001b[0m\u001b[0m\n\u001b[1;32m   1336\u001b[0m \u001b[0;34m\u001b[0m\u001b[0m\n\u001b[0;32m-> 1337\u001b[0;31m         \u001b[0mout_full\u001b[0m \u001b[0;34m=\u001b[0m \u001b[0mnp\u001b[0m\u001b[0;34m.\u001b[0m\u001b[0mapply_along_axis\u001b[0m\u001b[0;34m(\u001b[0m\u001b[0;32mlambda\u001b[0m \u001b[0my\u001b[0m\u001b[0;34m:\u001b[0m \u001b[0mnp\u001b[0m\u001b[0;34m.\u001b[0m\u001b[0mconvolve\u001b[0m\u001b[0;34m(\u001b[0m\u001b[0mb\u001b[0m\u001b[0;34m,\u001b[0m \u001b[0my\u001b[0m\u001b[0;34m)\u001b[0m\u001b[0;34m,\u001b[0m \u001b[0maxis\u001b[0m\u001b[0;34m,\u001b[0m \u001b[0mx\u001b[0m\u001b[0;34m)\u001b[0m\u001b[0;34m\u001b[0m\u001b[0;34m\u001b[0m\u001b[0m\n\u001b[0m\u001b[1;32m   1338\u001b[0m         \u001b[0mind\u001b[0m \u001b[0;34m=\u001b[0m \u001b[0mout_full\u001b[0m\u001b[0;34m.\u001b[0m\u001b[0mndim\u001b[0m \u001b[0;34m*\u001b[0m \u001b[0;34m[\u001b[0m\u001b[0mslice\u001b[0m\u001b[0;34m(\u001b[0m\u001b[0;32mNone\u001b[0m\u001b[0;34m)\u001b[0m\u001b[0;34m]\u001b[0m\u001b[0;34m\u001b[0m\u001b[0;34m\u001b[0m\u001b[0m\n\u001b[1;32m   1339\u001b[0m         \u001b[0;32mif\u001b[0m \u001b[0mzi\u001b[0m \u001b[0;32mis\u001b[0m \u001b[0;32mnot\u001b[0m \u001b[0;32mNone\u001b[0m\u001b[0;34m:\u001b[0m\u001b[0;34m\u001b[0m\u001b[0;34m\u001b[0m\u001b[0m\n",
      "\u001b[0;32m~/miniconda3/envs/tf/lib/python3.7/site-packages/numpy/core/numeric.py\u001b[0m in \u001b[0;36mconvolve\u001b[0;34m(a, v, mode)\u001b[0m\n\u001b[1;32m   1112\u001b[0m         \u001b[0;32mraise\u001b[0m \u001b[0mValueError\u001b[0m\u001b[0;34m(\u001b[0m\u001b[0;34m'v cannot be empty'\u001b[0m\u001b[0;34m)\u001b[0m\u001b[0;34m\u001b[0m\u001b[0;34m\u001b[0m\u001b[0m\n\u001b[1;32m   1113\u001b[0m     \u001b[0mmode\u001b[0m \u001b[0;34m=\u001b[0m \u001b[0m_mode_from_name\u001b[0m\u001b[0;34m(\u001b[0m\u001b[0mmode\u001b[0m\u001b[0;34m)\u001b[0m\u001b[0;34m\u001b[0m\u001b[0;34m\u001b[0m\u001b[0m\n\u001b[0;32m-> 1114\u001b[0;31m     \u001b[0;32mreturn\u001b[0m \u001b[0mmultiarray\u001b[0m\u001b[0;34m.\u001b[0m\u001b[0mcorrelate\u001b[0m\u001b[0;34m(\u001b[0m\u001b[0ma\u001b[0m\u001b[0;34m,\u001b[0m \u001b[0mv\u001b[0m\u001b[0;34m[\u001b[0m\u001b[0;34m:\u001b[0m\u001b[0;34m:\u001b[0m\u001b[0;34m-\u001b[0m\u001b[0;36m1\u001b[0m\u001b[0;34m]\u001b[0m\u001b[0;34m,\u001b[0m \u001b[0mmode\u001b[0m\u001b[0;34m)\u001b[0m\u001b[0;34m\u001b[0m\u001b[0;34m\u001b[0m\u001b[0m\n\u001b[0m\u001b[1;32m   1115\u001b[0m \u001b[0;34m\u001b[0m\u001b[0m\n\u001b[1;32m   1116\u001b[0m \u001b[0;34m\u001b[0m\u001b[0m\n",
      "\u001b[0;31mKeyboardInterrupt\u001b[0m: "
     ]
    }
   ],
   "source": [
    "bins = np.arange(0, 50 + 1e-3, 1)\n",
    "border_size = 1000\n",
    "bands = [\n",
    "    (None, 2),\n",
    "    (2, 4),\n",
    "    (4, 8),\n",
    "    (7, 10),\n",
    "    (11, 16)\n",
    "]\n",
    "x_l = []\n",
    "y_outside_l = {band: [] for band in bands}\n",
    "y_inside_l = {band: [] for band in bands}\n",
    "for subject_id in mass.train_ids:\n",
    "    print(\"Subject ID %s\" % subject_id)\n",
    "    signal, marks = mass.get_subject_data(subject_id, normalize_clip=False, which_expert=which_expert, border_size=border_size)\n",
    "    marks = marks[:, border_size:-border_size]\n",
    "    for i, band in enumerate(bands):\n",
    "        amp_outside, amp_inside = extract_amplitudes(signal, marks, band)\n",
    "        # outside plot\n",
    "        counts_outside, _ = np.histogram(amp_outside, bins=bins, density=True)\n",
    "        x, y_outside = plotter.piecewise_constant_histogram(bins, counts_outside)\n",
    "        # inside plot\n",
    "        counts_inside, _ = np.histogram(amp_inside, bins=bins, density=True)\n",
    "        _, y_inside = plotter.piecewise_constant_histogram(bins, counts_inside)\n",
    "        x_l.append(x)\n",
    "        y_outside_l[band].append(y_outside)\n",
    "        y_inside_l[band].append(y_inside)\n",
    "x_l = np.stack(x_l, axis=0).mean(axis=0)\n",
    "for band in bands:\n",
    "    y_outside_l[band] = np.stack(y_outside_l[band], axis=0).mean(axis=0)\n",
    "    y_inside_l[band] = np.stack(y_inside_l[band], axis=0).mean(axis=0)\n",
    "    \n",
    "ss_x_l = x_l\n",
    "ss_y_outside_l = y_outside_l\n",
    "ss_y_inside_l = y_inside_l"
   ]
  },
  {
   "cell_type": "code",
   "execution_count": null,
   "metadata": {},
   "outputs": [],
   "source": [
    "def find_mass_thr(curve, mass_thr):\n",
    "    cum_inside = np.cumsum(curve) / np.sum(curve)\n",
    "    thr_point = np.argmin((cum_inside - mass_thr) ** 2)\n",
    "    return thr_point"
   ]
  },
  {
   "cell_type": "code",
   "execution_count": null,
   "metadata": {},
   "outputs": [],
   "source": [
    "proba_thr = 0.5\n",
    "title_str = \"Husos de sueño (MASS-SS2-E1SS)\"\n",
    "hist_args = dict(bins=bins, histtype='step', density=True)\n",
    "fig, ax = plt.subplots(1, 1, figsize=(4, 4), dpi=200)\n",
    "label_shown = False\n",
    "for i, band in enumerate(bands):\n",
    "    x_inside = x_l\n",
    "    x_outside = x_l\n",
    "    y_inside = y_inside_l[band]\n",
    "    loc_thr_inside = find_mass_thr(y_inside, proba_thr)\n",
    "    y_outside = y_outside_l[band]\n",
    "    loc_thr_outside = find_mass_thr(y_outside, proba_thr)\n",
    "    # Norm\n",
    "    max_y = max(y_outside.max(), y_inside.max())\n",
    "    y_outside = y_outside / (1.1 * max_y)\n",
    "    y_inside = y_inside / (1.1 * max_y)\n",
    "    # Offset\n",
    "    y_outside += i\n",
    "    y_inside += i\n",
    "    label_outside = None if label_shown else \"Fuera del evento\"\n",
    "    label_inside = None if label_shown else \"Dentro del evento\"\n",
    "    label_shown = True\n",
    "    ax.plot(x_outside, y_outside, color=viz.PALETTE['blue'], linewidth=1.1, label=label_outside)\n",
    "    ax.plot(x_inside, y_inside, color=viz.PALETTE['red'], linewidth=1.1, label=label_inside)\n",
    "    ax.plot(x_outside[loc_thr_outside], y_outside[loc_thr_outside], marker='o', markersize=3, color=viz.PALETTE['blue'])\n",
    "    ax.plot(x_inside[loc_thr_inside], y_inside[loc_thr_inside], marker='o', markersize=3, color=viz.PALETTE['red'])\n",
    "    ax.axhline(i, color='k', linewidth=0.7)\n",
    "    print(\"Band %s-%s Hz:\" % band, \"Proba thr %s: %d uV inside,  %d uV outside\" % (proba_thr, x_inside[loc_thr_inside], x_outside[loc_thr_outside]))\n",
    "bands_for_ticks = [(0 if band[0] is None else band[0], band[1]) for band in bands]\n",
    "ax.set_yticks(0.5 + np.arange(len(bands)))\n",
    "ax.set_yticklabels(['%s-%s Hz' % band for band in bands_for_ticks])\n",
    "ax.tick_params(labelsize=8)\n",
    "ax.tick_params(axis='y', which='both', length=0)\n",
    "ax.set_ylim([0, len(bands)])\n",
    "ax.set_xlabel(\"Máxima amplitud en una época de N2 ($\\mu$V)\", fontsize=8)\n",
    "ax.set_xlim([x_l.min(), x_l.max()])\n",
    "ax.legend(fontsize=8, loc=\"lower left\", bbox_to_anchor=(0, 1), ncol=2, frameon=False)\n",
    "ax.grid(axis=\"x\")\n",
    "ax.set_title(title_str, fontsize=10, loc=\"left\", pad=22)\n",
    "plt.tight_layout()\n",
    "plt.show()"
   ]
  },
  {
   "cell_type": "markdown",
   "metadata": {},
   "source": [
    "# Band amplitudes --- KC"
   ]
  },
  {
   "cell_type": "code",
   "execution_count": null,
   "metadata": {},
   "outputs": [],
   "source": [
    "mass = reader.load_dataset(constants.MASS_KC_NAME, load_checkpoint=True, verbose=False)\n",
    "which_expert = 1"
   ]
  },
  {
   "cell_type": "code",
   "execution_count": null,
   "metadata": {},
   "outputs": [],
   "source": [
    "bins = np.arange(0, 50 + 1e-3, 1)\n",
    "border_size = 1000\n",
    "bands = [\n",
    "    (None, 2),\n",
    "    (2, 4),\n",
    "    (4, 8),\n",
    "    (7, 10),\n",
    "    (11, 16)\n",
    "]\n",
    "x_l = []\n",
    "y_outside_l = {band: [] for band in bands}\n",
    "y_inside_l = {band: [] for band in bands}\n",
    "for subject_id in mass.train_ids:\n",
    "    print(\"Subject ID %s\" % subject_id)\n",
    "    signal, marks = mass.get_subject_data(subject_id, normalize_clip=False, which_expert=which_expert, border_size=border_size)\n",
    "    marks = marks[:, border_size:-border_size]\n",
    "    for i, band in enumerate(bands):\n",
    "        amp_outside, amp_inside = extract_amplitudes(signal, marks, band)\n",
    "        # outside plot\n",
    "        counts_outside, _ = np.histogram(amp_outside, bins=bins, density=True)\n",
    "        x, y_outside = plotter.piecewise_constant_histogram(bins, counts_outside)\n",
    "        # inside plot\n",
    "        counts_inside, _ = np.histogram(amp_inside, bins=bins, density=True)\n",
    "        _, y_inside = plotter.piecewise_constant_histogram(bins, counts_inside)\n",
    "        x_l.append(x)\n",
    "        y_outside_l[band].append(y_outside)\n",
    "        y_inside_l[band].append(y_inside)\n",
    "x_l = np.stack(x_l, axis=0).mean(axis=0)\n",
    "for band in bands:\n",
    "    y_outside_l[band] = np.stack(y_outside_l[band], axis=0).mean(axis=0)\n",
    "    y_inside_l[band] = np.stack(y_inside_l[band], axis=0).mean(axis=0)\n",
    "kc_x_l = x_l\n",
    "kc_y_outside_l = y_outside_l\n",
    "kc_y_inside_l = y_inside_l"
   ]
  },
  {
   "cell_type": "code",
   "execution_count": null,
   "metadata": {},
   "outputs": [],
   "source": [
    "title_str = \"Complejos K (MASS-SS2-KC)\"\n",
    "hist_args = dict(bins=bins, histtype='step', density=True)\n",
    "fig, ax = plt.subplots(1, 1, figsize=(4, 4), dpi=200)\n",
    "label_shown = False\n",
    "for i, band in enumerate(bands):\n",
    "    x_inside = x_l\n",
    "    x_outside = x_l\n",
    "    y_inside = y_inside_l[band]\n",
    "    loc_thr_inside = find_mass_thr(y_inside, proba_thr)\n",
    "    y_outside = y_outside_l[band]\n",
    "    loc_thr_outside = find_mass_thr(y_outside, proba_thr)\n",
    "    # Norm\n",
    "    max_y = max(y_outside.max(), y_inside.max())\n",
    "    y_outside = y_outside / (1.1 * max_y)\n",
    "    y_inside = y_inside / (1.1 * max_y)\n",
    "    # Offset\n",
    "    y_outside += i\n",
    "    y_inside += i\n",
    "    label_outside = None if label_shown else \"Fuera del evento\"\n",
    "    label_inside = None if label_shown else \"Dentro del evento\"\n",
    "    label_shown = True\n",
    "    ax.plot(x_outside, y_outside, color=viz.PALETTE['blue'], linewidth=1.1, label=label_outside)\n",
    "    ax.plot(x_inside, y_inside, color=viz.PALETTE['red'], linewidth=1.1, label=label_inside)\n",
    "    ax.plot(x_outside[loc_thr_outside], y_outside[loc_thr_outside], marker='o', markersize=3, color=viz.PALETTE['blue'])\n",
    "    ax.plot(x_inside[loc_thr_inside], y_inside[loc_thr_inside], marker='o', markersize=3, color=viz.PALETTE['red'])\n",
    "    ax.axhline(i, color='k', linewidth=0.7)\n",
    "    print(\"Band %s-%s Hz:\" % band, \"Proba thr %s: %d uV inside,  %d uV outside\" % (proba_thr, x_inside[loc_thr_inside], x_outside[loc_thr_outside]))\n",
    "bands_for_ticks = [(0 if band[0] is None else band[0], band[1]) for band in bands]\n",
    "ax.set_yticks(0.5 + np.arange(len(bands)))\n",
    "ax.set_yticklabels(['%s-%s Hz' % band for band in bands_for_ticks])\n",
    "ax.tick_params(labelsize=8)\n",
    "ax.tick_params(axis='y', which='both', length=0)\n",
    "ax.set_ylim([0, len(bands)])\n",
    "ax.set_xlabel(\"Máxima amplitud en una época de N2 ($\\mu$V)\", fontsize=8)\n",
    "ax.set_xlim([x_l.min(), x_l.max()])\n",
    "ax.legend(fontsize=8, loc=\"lower left\", bbox_to_anchor=(0, 1), ncol=2, frameon=False)\n",
    "ax.grid(axis=\"x\")\n",
    "ax.set_title(title_str, fontsize=10, loc=\"left\", pad=22)\n",
    "plt.tight_layout()\n",
    "plt.show()"
   ]
  },
  {
   "cell_type": "code",
   "execution_count": null,
   "metadata": {},
   "outputs": [],
   "source": []
  },
  {
   "cell_type": "markdown",
   "metadata": {},
   "source": [
    "# Unified graph"
   ]
  },
  {
   "cell_type": "code",
   "execution_count": null,
   "metadata": {},
   "outputs": [],
   "source": [
    "fig, axes = plt.subplots(1, 2, figsize=(8, 4), dpi=200)\n",
    "\n",
    "ax = axes[0]\n",
    "x_l = ss_x_l\n",
    "y_outside_l = ss_y_outside_l\n",
    "y_inside_l = ss_y_inside_l\n",
    "\n",
    "title_str = \"Husos de sueño (MASS-SS2-E1SS)\"\n",
    "hist_args = dict(bins=bins, histtype='step', density=True)\n",
    "label_shown = False\n",
    "for i, band in enumerate(bands):\n",
    "    x_inside = x_l\n",
    "    x_outside = x_l\n",
    "    y_inside = y_inside_l[band]\n",
    "    loc_thr_inside = find_mass_thr(y_inside, proba_thr)\n",
    "    y_outside = y_outside_l[band]\n",
    "    loc_thr_outside = find_mass_thr(y_outside, proba_thr)\n",
    "    # Norm\n",
    "    max_y = max(y_outside.max(), y_inside.max())\n",
    "    y_outside = y_outside / (1.1 * max_y)\n",
    "    y_inside = y_inside / (1.1 * max_y)\n",
    "    # Offset\n",
    "    y_outside += i\n",
    "    y_inside += i\n",
    "    label_outside = None if label_shown else \"Fuera del evento\"\n",
    "    label_inside = None if label_shown else \"Dentro del evento\"\n",
    "    label_shown = True\n",
    "    ax.plot(x_outside, y_outside, color=viz.PALETTE['blue'], linewidth=1.1, label=label_outside)\n",
    "    ax.plot(x_inside, y_inside, color=viz.PALETTE['red'], linewidth=1.1, label=label_inside)\n",
    "    ax.plot(x_outside[loc_thr_outside], y_outside[loc_thr_outside], marker='o', markersize=3, color=viz.PALETTE['blue'])\n",
    "    ax.plot(x_inside[loc_thr_inside], y_inside[loc_thr_inside], marker='o', markersize=3, color=viz.PALETTE['red'])\n",
    "    ax.axhline(i, color='k', linewidth=0.7)\n",
    "    print(\"Band %s-%s Hz:\" % band, \"Proba thr %s: %d uV inside,  %d uV outside\" % (proba_thr, x_inside[loc_thr_inside], x_outside[loc_thr_outside]))\n",
    "bands_for_ticks = [(0 if band[0] is None else band[0], band[1]) for band in bands]\n",
    "ax.set_yticks(0.5 + np.arange(len(bands)))\n",
    "ax.set_yticklabels(['%s-%s Hz' % band for band in bands_for_ticks])\n",
    "ax.tick_params(labelsize=8)\n",
    "ax.tick_params(axis='y', which='both', length=0)\n",
    "ax.set_ylim([0, len(bands)])\n",
    "ax.set_xlabel(\"Máxima amplitud en una época de N2 ($\\mu$V)\", fontsize=8)\n",
    "ax.set_xlim([x_l.min(), x_l.max()])\n",
    "ax.legend(fontsize=8, loc=\"lower left\", bbox_to_anchor=(0, 1), ncol=2, frameon=False)\n",
    "ax.grid(axis=\"x\")\n",
    "ax.set_title(title_str, fontsize=10, loc=\"left\", pad=22)\n",
    "\n",
    "ax.text(\n",
    "    x=-0.05, y=1.09, fontsize=16, \n",
    "    s=r\"$\\bf{A}$\", \n",
    "    ha=\"right\", transform=ax.transAxes)\n",
    "\n",
    "\n",
    "ax = axes[1]\n",
    "x_l = kc_x_l\n",
    "y_outside_l = kc_y_outside_l\n",
    "y_inside_l = kc_y_inside_l\n",
    "\n",
    "title_str = \"Complejos K (MASS-SS2-KC)\"\n",
    "hist_args = dict(bins=bins, histtype='step', density=True)\n",
    "label_shown = False\n",
    "for i, band in enumerate(bands):\n",
    "    x_inside = x_l\n",
    "    x_outside = x_l\n",
    "    y_inside = y_inside_l[band]\n",
    "    loc_thr_inside = find_mass_thr(y_inside, proba_thr)\n",
    "    y_outside = y_outside_l[band]\n",
    "    loc_thr_outside = find_mass_thr(y_outside, proba_thr)\n",
    "    # Norm\n",
    "    max_y = max(y_outside.max(), y_inside.max())\n",
    "    y_outside = y_outside / (1.1 * max_y)\n",
    "    y_inside = y_inside / (1.1 * max_y)\n",
    "    # Offset\n",
    "    y_outside += i\n",
    "    y_inside += i\n",
    "    label_outside = None if label_shown else \"Fuera del evento\"\n",
    "    label_inside = None if label_shown else \"Dentro del evento\"\n",
    "    label_shown = True\n",
    "    ax.plot(x_outside, y_outside, color=viz.PALETTE['blue'], linewidth=1.1, label=label_outside)\n",
    "    ax.plot(x_inside, y_inside, color=viz.PALETTE['red'], linewidth=1.1, label=label_inside)\n",
    "    ax.plot(x_outside[loc_thr_outside], y_outside[loc_thr_outside], marker='o', markersize=3, color=viz.PALETTE['blue'])\n",
    "    ax.plot(x_inside[loc_thr_inside], y_inside[loc_thr_inside], marker='o', markersize=3, color=viz.PALETTE['red'])\n",
    "    ax.axhline(i, color='k', linewidth=0.7)\n",
    "    print(\"Band %s-%s Hz:\" % band, \"Proba thr %s: %d uV inside,  %d uV outside\" % (proba_thr, x_inside[loc_thr_inside], x_outside[loc_thr_outside]))\n",
    "bands_for_ticks = [(0 if band[0] is None else band[0], band[1]) for band in bands]\n",
    "ax.set_yticks(0.5 + np.arange(len(bands)))\n",
    "ax.set_yticklabels(['%s-%s Hz' % band for band in bands_for_ticks])\n",
    "ax.tick_params(labelsize=8)\n",
    "ax.tick_params(axis='y', which='both', length=0)\n",
    "ax.set_ylim([0, len(bands)])\n",
    "ax.set_xlabel(\"Máxima amplitud en una época de N2 ($\\mu$V)\", fontsize=8)\n",
    "ax.set_xlim([x_l.min(), x_l.max()])\n",
    "ax.legend(fontsize=8, loc=\"lower left\", bbox_to_anchor=(0, 1), ncol=2, frameon=False)\n",
    "ax.grid(axis=\"x\")\n",
    "ax.set_title(title_str, fontsize=10, loc=\"left\", pad=22)\n",
    "\n",
    "ax.text(\n",
    "    x=-0.05, y=1.09, fontsize=16, \n",
    "    s=r\"$\\bf{B}$\", \n",
    "    ha=\"right\", transform=ax.transAxes)\n",
    "\n",
    "plt.tight_layout()\n",
    "# plt.savefig(\"data_augment_max_amp_stats.pdf\", bbox_inches=\"tight\", pad_inches=0.5)\n",
    "# plt.savefig(\"data_augment_max_amp_stats.png\", bbox_inches=\"tight\", pad_inches=0.5)\n",
    "# plt.savefig(\"data_augment_max_amp_stats.svg\", bbox_inches=\"tight\", pad_inches=0.5)\n",
    "plt.show()"
   ]
  },
  {
   "cell_type": "markdown",
   "metadata": {},
   "source": [
    "# Fig example data augment"
   ]
  },
  {
   "cell_type": "code",
   "execution_count": null,
   "metadata": {},
   "outputs": [],
   "source": []
  },
  {
   "cell_type": "code",
   "execution_count": 7,
   "metadata": {},
   "outputs": [],
   "source": [
    "def get_random_wave_result(feat, label, fs, params):\n",
    "    tf.reset_default_graph()\n",
    "    mask_keep_events = wave_augment.generate_soft_mask_from_labels_tf(label, fs, use_background=False)\n",
    "    mask_keep_background = 1.0 - mask_keep_events\n",
    "    mask_map_dict = {\n",
    "        constants.MASK_KEEP_EVENTS: mask_keep_events,\n",
    "        constants.MASK_KEEP_BACKGROUND: mask_keep_background,\n",
    "        constants.MASK_NONE: None,\n",
    "    }\n",
    "    my_params = params.copy()\n",
    "    my_params[\"mask\"] = mask_map_dict[params[\"mask\"]]\n",
    "    feat_size = feat.size\n",
    "    random_wave, intermediate_steps = wave_augment.generate_wave_tf(\n",
    "        feat_size, fs, return_intermediate_steps=True, **my_params)\n",
    "    intermediate_steps['generated_wave'] = random_wave\n",
    "    with tf.Session() as sess:\n",
    "        np_intermediate_steps = sess.run(intermediate_steps)\n",
    "    return np_intermediate_steps\n",
    "\n",
    "\n",
    "def get_random_anti_wave_result(feat, label, fs, params):\n",
    "    tf.reset_default_graph()\n",
    "    mask_keep_events = wave_augment.generate_soft_mask_from_labels_tf(label, fs, use_background=False)\n",
    "    mask_keep_background = 1.0 - mask_keep_events\n",
    "    mask_map_dict = {\n",
    "        constants.MASK_KEEP_EVENTS: mask_keep_events,\n",
    "        constants.MASK_KEEP_BACKGROUND: mask_keep_background,\n",
    "        constants.MASK_NONE: None,\n",
    "    }\n",
    "    my_params = params.copy()\n",
    "    my_params[\"mask\"] = mask_map_dict[params[\"mask\"]]\n",
    "    feat_size = feat.size\n",
    "    random_wave, intermediate_steps = wave_augment.generate_anti_wave_tf(\n",
    "        feat, feat_size, fs, return_intermediate_steps=True, **my_params)\n",
    "    intermediate_steps['generated_wave'] = random_wave\n",
    "    with tf.Session() as sess:\n",
    "        np_intermediate_steps = sess.run(intermediate_steps)\n",
    "    return np_intermediate_steps"
   ]
  },
  {
   "cell_type": "code",
   "execution_count": 3,
   "metadata": {},
   "outputs": [
    {
     "data": {
      "text/plain": [
       "'mask_keep_background'"
      ]
     },
     "execution_count": 3,
     "metadata": {},
     "output_type": "execute_result"
    }
   ],
   "source": [
    "constants.MASK_KEEP_BACKGROUND"
   ]
  },
  {
   "cell_type": "code",
   "execution_count": 8,
   "metadata": {},
   "outputs": [],
   "source": [
    "random_wave_params = dict(\n",
    "        min_frequency=4, max_frequency=8, frequency_bandwidth=2, max_amplitude_microvolts=20,\n",
    "        min_duration=1, max_duration=5, mask=constants.MASK_KEEP_BACKGROUND)\n",
    "random_antiwave_params = dict(\n",
    "        lowcut=4, highcut=8, max_attenuation=1,\n",
    "        min_duration=1, max_duration=5, mask=constants.MASK_KEEP_EVENTS)\n",
    "random_wave_params['max_amplitude'] = random_wave_params['max_amplitude_microvolts']  # For the example we are not normalizing\n",
    "random_wave_params.pop('max_amplitude_microvolts');"
   ]
  },
  {
   "cell_type": "code",
   "execution_count": 9,
   "metadata": {},
   "outputs": [],
   "source": [
    "mass = reader.load_dataset(constants.MASS_SS_NAME, load_checkpoint=True, verbose=False)\n",
    "fs = mass.fs"
   ]
  },
  {
   "cell_type": "code",
   "execution_count": 10,
   "metadata": {},
   "outputs": [],
   "source": [
    "signal = mass.get_subject_signal(1, normalize_clip=False, which_expert=1)\n",
    "marks = mass.get_subject_stamps(1, which_expert=1)\n",
    "marks = utils.stamp2seq(marks, start=0, end=signal.size-1)\n",
    "start_sample = 2545900\n",
    "end_sample = 2549900\n",
    "start_sample = start_sample + 10 * fs\n",
    "feat = signal[start_sample:end_sample]\n",
    "label = marks[start_sample:end_sample]"
   ]
  },
  {
   "cell_type": "code",
   "execution_count": 11,
   "metadata": {},
   "outputs": [
    {
     "data": {
      "image/png": "[encoded data removed]",
      "text/plain": [
       "<Figure size 400x200 with 1 Axes>"
      ]
     },
     "metadata": {
      "needs_background": "light"
     },
     "output_type": "display_data"
    }
   ],
   "source": [
    "fig, ax = plt.subplots(1, 1, figsize=(4, 2), dpi=100)\n",
    "ax.plot(feat, linewidth=0.7)\n",
    "ax.plot(label*50)\n",
    "ax.set_ylim([-120, 120])\n",
    "plt.show()"
   ]
  },
  {
   "cell_type": "code",
   "execution_count": null,
   "metadata": {},
   "outputs": [],
   "source": [
    "wave_results = get_random_wave_result(feat, label, fs, random_wave_params)"
   ]
  },
  {
   "cell_type": "code",
   "execution_count": null,
   "metadata": {},
   "outputs": [],
   "source": [
    "plot_args = dict(linewidth=0.6, color=viz.PALETTE['blue'])\n",
    "time_axis = np.arange(feat.size) / fs\n",
    "\n",
    "fig, axes = plt.subplots(6, 1, figsize=(4, 6), sharex=True, dpi=100)\n",
    "\n",
    "def plot_wave_in_axes(axes):\n",
    "    ax = axes[0]\n",
    "    ax.set_title(\"Señal EEG ($\\mathbf{x}$) con etiquetas ($\\mathbf{y}$)\", fontsize=8, loc=\"left\")\n",
    "    ax.plot(time_axis, feat, **plot_args)\n",
    "    ax.fill_between(time_axis, -45, -45 + 10 * label, alpha=.6, facecolor=viz.PALETTE['red'])\n",
    "    max_y = 50\n",
    "    ax.set_ylim([-max_y, max_y])\n",
    "    ax.set_xlim([time_axis[0], time_axis[-1]])\n",
    "\n",
    "    ax = axes[1]\n",
    "    ax.set_title(\"Oscilación generada ($\\mathbf{a}\\odot \\mathbf{z}$)\", fontsize=8, loc=\"left\")\n",
    "    ax.plot(time_axis, wave_results['oscillation'] * wave_results['amplitude'], **plot_args)\n",
    "    max_y = np.ceil(wave_results['amplitude'].max() / 5) * 5\n",
    "    ax.set_ylim([-max_y, max_y])\n",
    "\n",
    "    ax = axes[2]\n",
    "    ax.set_title(\"Ventana generada ($\\mathbf{w}$)\", fontsize=8, loc=\"left\")\n",
    "    ax.plot(time_axis, wave_results['window'], **plot_args)\n",
    "    ax.set_ylim([-0.1, 1.1])\n",
    "\n",
    "    ax = axes[3]\n",
    "    ax.set_title(\"Máscara  ($\\mathbf{m}$ con $r_\\mathrm{mask}=\\mathrm{fondo}$)\", fontsize=8, loc=\"left\")\n",
    "    ax.plot(time_axis, wave_results['mask'], **plot_args)\n",
    "    ax.set_ylim([-0.1, 1.1])\n",
    "\n",
    "    ax = axes[4]\n",
    "    ax.set_title(\"Onda ($\\mathbf{v}=\\mathbf{m}\\odot \\mathbf{w}\\odot \\mathbf{a}\\odot \\mathbf{z}$)\", fontsize=8, loc=\"left\")\n",
    "    ax.plot(time_axis, wave_results['generated_wave'], **plot_args)\n",
    "    max_y = np.ceil(wave_results['amplitude'].max() / 5) * 5\n",
    "    ax.set_ylim([-max_y, max_y])\n",
    "\n",
    "    ax = axes[5]\n",
    "    ax.set_title(\"Nueva señal EEG ($\\mathbf{x} + \\mathbf{v}$) con las mismas etiquetas ($\\mathbf{y}$)\", fontsize=8, loc=\"left\")\n",
    "    ax.plot(time_axis, feat + wave_results['generated_wave'], **plot_args)\n",
    "    ax.fill_between(time_axis, -45, -45 + 10 * label, alpha=.6, facecolor=viz.PALETTE['red'])\n",
    "    max_y = 50\n",
    "    ax.set_ylim([-max_y, max_y])\n",
    "\n",
    "    axes[-1].set_xticks(np.arange(11))\n",
    "    axes[-1].set_xticklabels([])\n",
    "    axes[-1].set_xlabel(\"Intervalos de 1 s\", fontsize=8)\n",
    "    for ax in axes.flatten():\n",
    "        ax.tick_params(labelsize=8)\n",
    "        \n",
    "plot_wave_in_axes(axes)\n",
    "plt.tight_layout()\n",
    "plt.show()"
   ]
  },
  {
   "cell_type": "code",
   "execution_count": null,
   "metadata": {},
   "outputs": [],
   "source": [
    "antiwave_results = get_random_anti_wave_result(feat, label, fs, random_antiwave_params)"
   ]
  },
  {
   "cell_type": "code",
   "execution_count": null,
   "metadata": {},
   "outputs": [],
   "source": [
    "antiwave_results_bkp = antiwave_results"
   ]
  },
  {
   "cell_type": "code",
   "execution_count": null,
   "metadata": {},
   "outputs": [],
   "source": [
    "import locale\n",
    "locale.setlocale(locale.LC_NUMERIC, \"es_CL.utf8\")\n",
    "plt.rcParams['axes.formatter.use_locale'] = True"
   ]
  },
  {
   "cell_type": "code",
   "execution_count": null,
   "metadata": {},
   "outputs": [],
   "source": [
    "plot_args = dict(linewidth=0.6, color=viz.PALETTE['blue'])\n",
    "time_axis = np.arange(feat.size) / fs\n",
    "\n",
    "fig, axes = plt.subplots(6, 1, figsize=(4, 6), sharex=True, dpi=100)\n",
    "\n",
    "def plot_antiwave_in_axes(axes):\n",
    "    ax = axes[0]\n",
    "    ax.set_title(\"Señal EEG ($\\mathbf{x}$) con etiquetas ($\\mathbf{y}$)\", fontsize=8, loc=\"left\")\n",
    "    ax.plot(time_axis, feat, **plot_args)\n",
    "    ax.fill_between(time_axis, -45, -45 + 10 * label, alpha=.6, facecolor=viz.PALETTE['red'])\n",
    "    max_y = 50\n",
    "    ax.set_ylim([-max_y, max_y])\n",
    "    ax.set_xlim([time_axis[0], time_axis[-1]])\n",
    "\n",
    "    ax = axes[1]\n",
    "    att_factor = (\"%1.2f\" % (-antiwave_results['attenuation'])).replace('.',',')\n",
    "    ax.set_title(\"Oscilación generada ($-a\\mathbf{z}$, $a=$%s)\" % (att_factor), fontsize=8, loc=\"left\")\n",
    "    ax.plot(time_axis, antiwave_results['oscillation'] * antiwave_results['attenuation'], **plot_args)\n",
    "    max_y = np.ceil(np.abs(antiwave_results['oscillation'] * antiwave_results['attenuation']).max() / 5) * 5\n",
    "    ax.set_ylim([-max_y, max_y])\n",
    "\n",
    "    ax = axes[2]\n",
    "    ax.set_title(\"Ventana generada ($\\mathbf{w}$)\", fontsize=8, loc=\"left\")\n",
    "    ax.plot(time_axis, antiwave_results['window'], **plot_args)\n",
    "    ax.set_ylim([-0.1, 1.1])\n",
    "\n",
    "    ax = axes[3]\n",
    "    ax.set_title(\"Máscara ($\\mathbf{m}$ con $r_\\mathrm{mask}=\\mathrm{evento}$)\", fontsize=8, loc=\"left\")\n",
    "    ax.plot(time_axis, antiwave_results['mask'], **plot_args)\n",
    "    ax.set_ylim([-0.1, 1.1])\n",
    "\n",
    "    ax = axes[4]\n",
    "    ax.set_title(\"Anti-onda ($\\mathbf{u}=\\mathbf{m}\\odot \\mathbf{w}\\odot (-a\\mathbf{z})$)\", fontsize=8, loc=\"left\")\n",
    "    ax.plot(time_axis, antiwave_results['generated_wave'], **plot_args)\n",
    "    max_y = np.ceil(np.abs(antiwave_results['oscillation'] * antiwave_results['attenuation']).max() / 5) * 5\n",
    "    ax.set_ylim([-max_y, max_y])\n",
    "\n",
    "    ax = axes[5]\n",
    "    ax.set_title(\"Nueva señal EEG ($\\mathbf{x} + \\mathbf{u}$) con las mismas etiquetas ($\\mathbf{y}$)\", fontsize=8, loc=\"left\")\n",
    "    ax.plot(time_axis, feat + antiwave_results['generated_wave'], **plot_args)\n",
    "    ax.fill_between(time_axis, -45, -45 + 10 * label, alpha=.6, facecolor=viz.PALETTE['red'])\n",
    "    max_y = 50\n",
    "    ax.set_ylim([-max_y, max_y])\n",
    "\n",
    "    axes[-1].set_xticks(np.arange(11))\n",
    "    axes[-1].set_xticklabels([])\n",
    "    axes[-1].set_xlabel(\"Intervalos de 1 s\", fontsize=8)\n",
    "    for ax in axes.flatten():\n",
    "        ax.tick_params(labelsize=8)\n",
    "\n",
    "plot_antiwave_in_axes(axes)\n",
    "plt.tight_layout()\n",
    "plt.show()"
   ]
  },
  {
   "cell_type": "code",
   "execution_count": 1,
   "metadata": {},
   "outputs": [
    {
     "ename": "NameError",
     "evalue": "name 'viz' is not defined",
     "output_type": "error",
     "traceback": [
      "\u001b[0;31m---------------------------------------------------------------------------\u001b[0m",
      "\u001b[0;31mNameError\u001b[0m                                 Traceback (most recent call last)",
      "\u001b[0;32m<ipython-input-1-3221417e3446>\u001b[0m in \u001b[0;36m<module>\u001b[0;34m\u001b[0m\n\u001b[1;32m      1\u001b[0m \u001b[0;31m# Both plots\u001b[0m\u001b[0;34m\u001b[0m\u001b[0;34m\u001b[0m\u001b[0;34m\u001b[0m\u001b[0m\n\u001b[0;32m----> 2\u001b[0;31m \u001b[0mplot_args\u001b[0m \u001b[0;34m=\u001b[0m \u001b[0mdict\u001b[0m\u001b[0;34m(\u001b[0m\u001b[0mlinewidth\u001b[0m\u001b[0;34m=\u001b[0m\u001b[0;36m0.6\u001b[0m\u001b[0;34m,\u001b[0m \u001b[0mcolor\u001b[0m\u001b[0;34m=\u001b[0m\u001b[0mviz\u001b[0m\u001b[0;34m.\u001b[0m\u001b[0mPALETTE\u001b[0m\u001b[0;34m[\u001b[0m\u001b[0;34m'blue'\u001b[0m\u001b[0;34m]\u001b[0m\u001b[0;34m)\u001b[0m\u001b[0;34m\u001b[0m\u001b[0;34m\u001b[0m\u001b[0m\n\u001b[0m\u001b[1;32m      3\u001b[0m \u001b[0mtime_axis\u001b[0m \u001b[0;34m=\u001b[0m \u001b[0mnp\u001b[0m\u001b[0;34m.\u001b[0m\u001b[0marange\u001b[0m\u001b[0;34m(\u001b[0m\u001b[0mfeat\u001b[0m\u001b[0;34m.\u001b[0m\u001b[0msize\u001b[0m\u001b[0;34m)\u001b[0m \u001b[0;34m/\u001b[0m \u001b[0mfs\u001b[0m\u001b[0;34m\u001b[0m\u001b[0;34m\u001b[0m\u001b[0m\n\u001b[1;32m      4\u001b[0m \u001b[0mfig\u001b[0m\u001b[0;34m,\u001b[0m \u001b[0maxess\u001b[0m \u001b[0;34m=\u001b[0m \u001b[0mplt\u001b[0m\u001b[0;34m.\u001b[0m\u001b[0msubplots\u001b[0m\u001b[0;34m(\u001b[0m\u001b[0;36m6\u001b[0m\u001b[0;34m,\u001b[0m \u001b[0;36m2\u001b[0m\u001b[0;34m,\u001b[0m \u001b[0mfigsize\u001b[0m\u001b[0;34m=\u001b[0m\u001b[0;34m(\u001b[0m\u001b[0;36m8\u001b[0m\u001b[0;34m,\u001b[0m \u001b[0;36m6\u001b[0m\u001b[0;34m)\u001b[0m\u001b[0;34m,\u001b[0m \u001b[0msharex\u001b[0m\u001b[0;34m=\u001b[0m\u001b[0;32mTrue\u001b[0m\u001b[0;34m,\u001b[0m \u001b[0mdpi\u001b[0m\u001b[0;34m=\u001b[0m\u001b[0;36m200\u001b[0m\u001b[0;34m)\u001b[0m\u001b[0;34m\u001b[0m\u001b[0;34m\u001b[0m\u001b[0m\n\u001b[1;32m      5\u001b[0m \u001b[0mplot_wave_in_axes\u001b[0m\u001b[0;34m(\u001b[0m\u001b[0maxess\u001b[0m\u001b[0;34m[\u001b[0m\u001b[0;34m:\u001b[0m\u001b[0;34m,\u001b[0m \u001b[0;36m0\u001b[0m\u001b[0;34m]\u001b[0m\u001b[0;34m)\u001b[0m\u001b[0;34m\u001b[0m\u001b[0;34m\u001b[0m\u001b[0m\n",
      "\u001b[0;31mNameError\u001b[0m: name 'viz' is not defined"
     ]
    }
   ],
   "source": [
    "# Both plots\n",
    "plot_args = dict(linewidth=0.6, color=viz.PALETTE['blue'])\n",
    "time_axis = np.arange(feat.size) / fs\n",
    "fig, axess = plt.subplots(6, 2, figsize=(8, 6), sharex=True, dpi=200)\n",
    "plot_wave_in_axes(axess[:, 0])\n",
    "plot_antiwave_in_axes(axess[:, 1])\n",
    "plt.tight_layout()\n",
    "axess[0, 0].text(\n",
    "    x=-0.02, y=1.5, fontsize=16, \n",
    "    s=r\"$\\bf{A}$\", \n",
    "    ha=\"right\", transform=axess[0, 0].transAxes)\n",
    "axess[0, 0].text(\n",
    "    x=-0.02, y=1.6, fontsize=10, \n",
    "    s=\"  Onda aleatoria en banda 4-8 Hz\", \n",
    "    ha=\"left\", transform=axess[0, 0].transAxes)\n",
    "axess[0, 1].text(\n",
    "    x=-0.02, y=1.5, fontsize=16, \n",
    "    s=r\"$\\bf{B}$\", \n",
    "    ha=\"right\", transform=axess[0, 1].transAxes)\n",
    "axess[0, 1].text(\n",
    "    x=-0.02, y=1.6, fontsize=10, \n",
    "    s=\"  Anti-onda aleatoria en banda 4-8 Hz\", \n",
    "    ha=\"left\", transform=axess[0, 1].transAxes)\n",
    "\n",
    "plt.savefig(\"ejemplo_onda_antionda.pdf\", bbox_inches=\"tight\", pad_inches=0.5)\n",
    "plt.savefig(\"ejemplo_onda_antionda.png\", bbox_inches=\"tight\", pad_inches=0.5)\n",
    "plt.savefig(\"ejemplo_onda_antionda.svg\", bbox_inches=\"tight\", pad_inches=0.5)\n",
    "\n",
    "plt.show()"
   ]
  },
  {
   "cell_type": "code",
   "execution_count": null,
   "metadata": {},
   "outputs": [],
   "source": []
  }
 ],
 "metadata": {
  "kernelspec": {
   "display_name": "Python 3",
   "language": "python",
   "name": "python3"
  }
 },
 "nbformat": 4,
 "nbformat_minor": 5
}
