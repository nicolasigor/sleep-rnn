{
 "cells": [
  {
   "cell_type": "code",
   "execution_count": null,
   "metadata": {},
   "outputs": [],
   "source": [
    "import tensorflow as tf\n",
    "import numpy as np\n",
    "import matplotlib.pyplot as plt"
   ]
  },
  {
   "cell_type": "code",
   "execution_count": null,
   "metadata": {},
   "outputs": [],
   "source": [
    "n_samples = 4\n",
    "n_length = 100\n",
    "\n",
    "x_batch = np.random.normal(size=(n_samples, n_length)).astype(np.float32)\n",
    "y_batch = np.zeros((n_samples, n_length)).astype(np.int32)\n",
    "for i in range(n_samples):\n",
    "    start = np.random.choice(n_length // 2)\n",
    "    end = start + np.random.choice(n_length // 2)\n",
    "    if i < n_samples//2:\n",
    "        y_batch[i, start:end+1] = 1"
   ]
  },
  {
   "cell_type": "code",
   "execution_count": null,
   "metadata": {},
   "outputs": [],
   "source": [
    "for i in range(n_samples):\n",
    "    fig, ax = plt.subplots(2, 1, sharex=True, figsize=(6, 3), dpi=80)\n",
    "    ax[0].plot(x_batch[i, ...])\n",
    "    ax[1].plot(y_batch[i, ...])\n",
    "    ax[1].set_ylim([-0.1, 1.1])\n",
    "    plt.show()\n"
   ]
  },
  {
   "cell_type": "code",
   "execution_count": null,
   "metadata": {},
   "outputs": [],
   "source": [
    "tf.reset_default_graph()\n",
    "inputs = tf.placeholder(shape=[None, n_length], dtype=tf.float32)\n",
    "labels = tf.placeholder(shape=[None, n_length], dtype=tf.int32)\n",
    "\n",
    "outputs = inputs - 1\n",
    "\n",
    "# weight_negative = 0.5\n",
    "# weight_positive = 2.0\n",
    "# class_weights = tf.stack([weight_negative, weight_positive], axis=0)\n",
    "# weights = tf.gather(class_weights, y)\n",
    "\n",
    "n_negative = tf.cast(tf.reduce_sum(1 - labels), tf.float32)\n",
    "n_positive = tf.cast(tf.reduce_sum(labels), tf.float32)\n",
    "p_drop_negative = (n_negative - n_positive) / n_negative  # in (0, 1)\n",
    "random_mask = tf.random.uniform(\n",
    "    tf.shape(outputs),\n",
    "    minval=0.0,\n",
    "    maxval=1.0,\n",
    "    dtype=tf.float32)\n",
    "random_mask = random_mask + tf.cast(labels, tf.float32)\n",
    "binarized_mask = tf.cast(tf.math.greater(random_mask, p_drop_negative), tf.float32)\n",
    "\n",
    "loss_per_sample = binarized_mask\n",
    "\n",
    "# loss_per_sample = out ** 2 * weights\n",
    "total_loss = tf.reduce_sum(loss_per_sample) / n_length\n",
    "\n",
    "sess = tf.Session()\n",
    "tf.global_variables_initializer()\n"
   ]
  },
  {
   "cell_type": "code",
   "execution_count": null,
   "metadata": {},
   "outputs": [],
   "source": [
    "np_loss_per_sample = sess.run(loss_per_sample, feed_dict={labels: y_batch, inputs: x_batch})\n",
    "\n",
    "for i in range(n_samples):\n",
    "    fig, ax = plt.subplots(3, 1, sharex=True, figsize=(6, 3), dpi=80)\n",
    "    ax[0].plot(x_batch[i, ...])\n",
    "    ax[1].plot(y_batch[i, ...])\n",
    "    ax[1].set_ylim([-0.1, 1.1])\n",
    "    ax[2].plot(np_loss_per_sample[i, ...], '.')\n",
    "    plt.show()"
   ]
  },
  {
   "cell_type": "code",
   "execution_count": null,
   "metadata": {},
   "outputs": [],
   "source": [
    "np.sum(np_loss_per_sample * y_batch)"
   ]
  },
  {
   "cell_type": "code",
   "execution_count": null,
   "metadata": {},
   "outputs": [],
   "source": [
    "np.sum(np_loss_per_sample * (1-y_batch))"
   ]
  },
  {
   "cell_type": "code",
   "execution_count": null,
   "metadata": {},
   "outputs": [],
   "source": []
  }
 ],
 "metadata": {
  "kernelspec": {
   "display_name": "Python 3",
   "language": "python",
   "name": "python3"
  },
  "language_info": {
   "codemirror_mode": {
    "name": "ipython",
    "version": 3
   },
   "file_extension": ".py",
   "mimetype": "text/x-python",
   "name": "python",
   "nbconvert_exporter": "python",
   "pygments_lexer": "ipython3",
   "version": "3.6.8"
  }
 },
 "nbformat": 4,
 "nbformat_minor": 2
}
