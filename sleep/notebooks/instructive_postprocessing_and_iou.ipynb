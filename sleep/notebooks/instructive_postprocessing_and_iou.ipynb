{
 "cells": [
  {
   "cell_type": "code",
   "execution_count": 1,
   "metadata": {},
   "outputs": [
    {
     "data": {
      "text/html": [
       "<style>.container { width:100% !important; }</style>"
      ],
      "text/plain": [
       "<IPython.core.display.HTML object>"
      ]
     },
     "metadata": {},
     "output_type": "display_data"
    }
   ],
   "source": [
    "from __future__ import absolute_import\n",
    "from __future__ import division\n",
    "from __future__ import print_function\n",
    "\n",
    "import os\n",
    "import sys\n",
    "\n",
    "import ipywidgets as widgets\n",
    "import matplotlib.pyplot as plt\n",
    "from matplotlib import gridspec\n",
    "import numpy as np\n",
    "import pprint\n",
    "\n",
    "detector_path = '..'\n",
    "sys.path.append(detector_path)\n",
    "\n",
    "from sleep.mass import MASS\n",
    "from sleep.mass import KEY_EEG, KEY_PAGES, KEY_ID, KEY_MARKS\n",
    "from sleep.data_ops import seq2inter, inter2seq, seq2inter_with_pages\n",
    "from evaluation.metrics import by_sample_confusion, by_sample_iou, by_event_confusion, matching\n",
    "from sleep import postprocessing\n",
    "\n",
    "%matplotlib inline\n",
    "\n",
    "from IPython.core.display import display, HTML\n",
    "display(HTML(\"<style>.container { width:100% !important; }</style>\"))"
   ]
  },
  {
   "cell_type": "markdown",
   "metadata": {},
   "source": [
    "## Example of postprocessing"
   ]
  },
  {
   "cell_type": "code",
   "execution_count": 48,
   "metadata": {},
   "outputs": [
    {
     "data": {
      "image/png": "[encoded data removed]",
      "text/plain": [
       "<matplotlib.figure.Figure at 0x7fb57c9c9320>"
      ]
     },
     "metadata": {},
     "output_type": "display_data"
    }
   ],
   "source": [
    "fs = 200\n",
    "demo_marks = np.zeros(4000)\n",
    "\n",
    "# Close marks\n",
    "dur1 = 0.2\n",
    "dur2 = 0.5\n",
    "dist = 0.2\n",
    "start = 100\n",
    "demo_marks[start:(start + int(dur1*fs))] = 1\n",
    "demo_marks[(start + int((dur1+dist)*fs)):(start + int((dur1+dist+dur2)*fs)) ] = 1\n",
    "\n",
    "# Short and isolated mark\n",
    "dur = 0.15\n",
    "start = 600\n",
    "demo_marks[start:(start + int(dur*fs))] = 1\n",
    "\n",
    "# Too large mark (probably something went wrong)\n",
    "dur = 7\n",
    "start = 1000\n",
    "demo_marks[start:(start + int(dur*fs))] = 1\n",
    "\n",
    "# Too large mark, where we keep the central 3 s\n",
    "dur = 4.5\n",
    "start = 3000\n",
    "demo_marks[start:(start + int(dur*fs))] = 1\n",
    "\n",
    "# First, we need to translate the binary sequence to intervals\n",
    "postprocess_marks = seq2inter(demo_marks)\n",
    "# Then, we can postprocess\n",
    "postprocess_marks = postprocessing.combine_close_marks(marks=postprocess_marks, fs=fs, min_separation=0.3)\n",
    "postprocess_marks = postprocessing.filter_duration_marks(marks=postprocess_marks, fs=fs, min_duration=0.3, max_duration=3.0)\n",
    "# Now, we return to a binary sequence\n",
    "postprocess_marks = inter2seq(postprocess_marks, 0, 4000-1)\n",
    "\n",
    "time_axis = np.arange(4000) / fs\n",
    "fig, ax = plt.subplots(2, 1, figsize=(12, 4), dpi=100, sharex=True)\n",
    "ax[0].plot(time_axis, demo_marks, color='0.3')\n",
    "ax[0].fill_between(time_axis, demo_marks, color='0.3')\n",
    "ax[0].set_title('Original marks')\n",
    "ax[0].set_yticks([0, 1])\n",
    "ax[0].set_ylim([0, 1.5])\n",
    "\n",
    "ax[1].plot(time_axis, postprocess_marks, color='0.3')\n",
    "ax[1].fill_between(time_axis, postprocess_marks, color='0.3')\n",
    "ax[1].set_title('Postprocessed marks')\n",
    "ax[1].set_xlim(time_axis[0], time_axis[-1])\n",
    "ax[1].set_xlabel('Time [s]')\n",
    "ax[1].set_xticks([i for i in range(21)])\n",
    "ax[1].set_yticks([0, 1])\n",
    "ax[1].set_ylim([0, 1.5])\n",
    "plt.tight_layout()\n",
    "plt.show()"
   ]
  },
  {
   "cell_type": "markdown",
   "metadata": {},
   "source": [
    "## Example of IoU values"
   ]
  },
  {
   "cell_type": "code",
   "execution_count": 45,
   "metadata": {},
   "outputs": [
    {
     "data": {
      "image/png": "[encoded data removed]",
      "text/plain": [
       "<matplotlib.figure.Figure at 0x7fc10ab50160>"
      ]
     },
     "metadata": {},
     "output_type": "display_data"
    }
   ],
   "source": [
    "\n",
    "iou_array = [0.2, 0.4, 0.6, 0.8]\n",
    "n_examples = len(iou_array) + 1\n",
    "\n",
    "fig, ax = plt.subplots(2, n_examples, figsize=(12, 2), dpi=100)\n",
    "\n",
    "for single_axes in ax:\n",
    "    for single_ax in single_axes:\n",
    "        # single_ax.axis('off')\n",
    "        single_ax.set_xlabel('')\n",
    "        single_ax.set_xticks([])\n",
    "        single_ax.set_ylabel('')\n",
    "        single_ax.set_yticks([])\n",
    "\n",
    "size = 1700\n",
    "center_1 = 500\n",
    "center_2 = 1400\n",
    "dur = 200\n",
    "    \n",
    "# common_x_axis = np.arange(size)\n",
    "\n",
    "# Zero Iou\n",
    "y_axis_1 = np.zeros(size)\n",
    "y_axis_2 = np.zeros(size)\n",
    "y_axis_1[(center_1 - dur//2):(center_1 + dur//2)] = 1\n",
    "y_axis_1[(center_2 - dur//2):(center_2 + dur//2)] = 1\n",
    "y_axis_2[((center_1+center_2)//2 - dur//2):((center_1+center_2)//2 + dur//2)] = 1\n",
    "\n",
    "ax[0, 0].set_title('IoU=%1.1f' % 0)\n",
    "ax[0, 0].set_ylabel('Mark 1')\n",
    "ax[1, 0].set_ylabel('Mark 2')\n",
    "ax[0, 0].imshow(y_axis_1[np.newaxis, :], interpolation=None, aspect=300, cmap='gray', vmin=0.0, vmax=1.0)\n",
    "ax[1, 0].imshow(y_axis_2[np.newaxis, :], interpolation=None, aspect=300, cmap='gray', vmin=0.0, vmax=1.0)\n",
    "# ax[0].plot(common_x_axis, y_axis_1+1.2, color='0.1')\n",
    "# ax[0].fill_between(common_x_axis, 1.2*np.ones(size), y_axis_1+1.2, color='0.1')\n",
    "# ax[0].plot(common_x_axis, y_axis_2, color='0.3')\n",
    "# ax[0].fill_between(common_x_axis, y_axis_2, color='0.3')\n",
    "\n",
    "for i, iou in enumerate(iou_array):\n",
    "    y_axis_1 = np.zeros(size)\n",
    "    y_axis_2 = np.zeros(size)\n",
    "    # First example\n",
    "    # iou = dur1 / dur2 when dur1 is inside dur2\n",
    "    y_axis_1[(center_1 - dur//2):(center_1 + dur//2)] = 1\n",
    "    second_dur = int((dur/iou)//2)\n",
    "    y_axis_2[(center_1 - second_dur):(center_1 + second_dur)] = 1\n",
    "    # Second example\n",
    "    # iou = (dur - offset) / (dur + offset)\n",
    "    y_axis_1[(center_2 - dur//2):(center_2 + dur//2)] = 1\n",
    "    offset = int(dur * (1 - iou) / (1+iou))\n",
    "    y_axis_2[(center_2 - dur//2 + offset):(center_2 + dur//2 + offset)] = 1\n",
    "    \n",
    "    ax[0, i+1].set_title('IoU=%1.1f' % iou)\n",
    "    ax[0, i+1].imshow(y_axis_1[np.newaxis, :], interpolation=None, aspect=300, cmap='gray', vmin=0.0, vmax=1.0)\n",
    "    ax[1, i+1].imshow(y_axis_2[np.newaxis, :], interpolation=None, aspect=300, cmap='gray', vmin=0.0, vmax=1.0)\n",
    "    # ax[i+1].plot(common_x_axis, y_axis_1+1.2, color='0.1')\n",
    "    # ax[i+1].fill_between(common_x_axis, 1.2*np.ones(size), y_axis_1+1.2, color='0.1')\n",
    "    # ax[i+1].plot(common_x_axis, y_axis_2, color='0.3')\n",
    "    # ax[i+1].fill_between(common_x_axis, y_axis_2, color='0.3')\n",
    "    \n",
    "fig.suptitle('Visualization of different IoU values (White is active mark)')\n",
    "# plt.tight_layout()\n",
    "# left  = 0.125  # the left side of the subplots of the figure\n",
    "# right = 0.9    # the right side of the subplots of the figure\n",
    "# bottom = 0.1   # the bottom of the subplots of the figure\n",
    "# top = 0.9      # the top of the subplots of the figure\n",
    "# wspace = 0.2   # the amount of width reserved for blank space between subplots\n",
    "# hspace = 0.2   # the amount of height reserved for white space between subplots\n",
    "plt.subplots_adjust(left=0.125, bottom=0.1, right=0.9, top=0.8, wspace=0.2, hspace=0.2)\n",
    "plt.show()\n"
   ]
  },
  {
   "cell_type": "code",
   "execution_count": null,
   "metadata": {},
   "outputs": [],
   "source": []
  }
 ],
 "metadata": {
  "kernelspec": {
   "display_name": "Python 3",
   "language": "python",
   "name": "python3"
  },
  "language_info": {
   "codemirror_mode": {
    "name": "ipython",
    "version": 3
   },
   "file_extension": ".py",
   "mimetype": "text/x-python",
   "name": "python",
   "nbconvert_exporter": "python",
   "pygments_lexer": "ipython3",
   "version": "3.6.8"
  }
 },
 "nbformat": 4,
 "nbformat_minor": 2
}
