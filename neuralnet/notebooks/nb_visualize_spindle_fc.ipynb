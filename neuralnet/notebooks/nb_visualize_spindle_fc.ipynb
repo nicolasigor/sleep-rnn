{
 "cells": [
  {
   "cell_type": "code",
   "execution_count": 4,
   "metadata": {},
   "outputs": [
    {
     "name": "stdout",
     "output_type": "stream",
     "text": [
      "Loaded Train Data: features  (2895900, 20)  labels (2895900,)\n",
      "Loaded Test Data: features  (242400, 20)  labels (242400,)\n",
      "INFO:tensorflow:Using default config.\n",
      "INFO:tensorflow:Using config: {'_model_dir': 'model_data/spindle_estimator', '_tf_random_seed': None, '_save_summary_steps': 100, '_save_checkpoints_steps': None, '_save_checkpoints_secs': 600, '_session_config': None, '_keep_checkpoint_max': 5, '_keep_checkpoint_every_n_hours': 10000, '_log_step_count_steps': 100, '_service': None, '_cluster_spec': <tensorflow.python.training.server_lib.ClusterSpec object at 0x0000015403B06898>, '_task_type': 'worker', '_task_id': 0, '_global_id_in_cluster': 0, '_master': '', '_evaluation_master': '', '_is_chief': True, '_num_ps_replicas': 0, '_num_worker_replicas': 1}\n",
      "INFO:tensorflow:Calling model_fn.\n",
      "INFO:tensorflow:Done calling model_fn.\n",
      "INFO:tensorflow:Starting evaluation at 2018-06-27-07:06:33\n",
      "INFO:tensorflow:Graph was finalized.\n",
      "INFO:tensorflow:Restoring parameters from model_data/spindle_estimator\\model.ckpt-452485\n",
      "INFO:tensorflow:Running local_init_op.\n",
      "INFO:tensorflow:Done running local_init_op.\n",
      "INFO:tensorflow:Finished evaluation at 2018-06-27-07:06:40\n",
      "INFO:tensorflow:Saving dict for global step 452485: accuracy = 0.82617986, accuracy_baseline = 0.7618523, auc = 0.85815907, auc_precision_recall = 0.7012809, average_loss = 0.414595, global_step = 452485, label/mean = 0.23814769, loss = 53.061153, prediction/mean = 0.3322929\n",
      "{'accuracy': 0.82617986, 'accuracy_baseline': 0.7618523, 'auc': 0.85815907, 'auc_precision_recall': 0.7012809, 'average_loss': 0.414595, 'label/mean': 0.23814769, 'loss': 53.061153, 'prediction/mean': 0.3322929, 'global_step': 452485}\n"
     ]
    }
   ],
   "source": [
    "# Import checkpoint\n",
    "from __future__ import division\n",
    "import tensorflow as tf\n",
    "import numpy as np\n",
    "import pandas as pd\n",
    "\n",
    "\n",
    "# Load dataset\n",
    "train_path = \"pickle_data/n2fft_05_dataframe_full_train.pkl\"\n",
    "test_path = \"pickle_data/n2fft_05_dataframe_full_test.pkl\"\n",
    "\n",
    "# Training set\n",
    "train_df = pd.read_pickle(train_path)\n",
    "train_features = np.stack(train_df['FFT_DATA'].values)\n",
    "train_labels = train_df['MARK'].values.astype(int)\n",
    "del train_df\n",
    "\n",
    "print('Loaded Train Data: features ', train_features.shape, ' labels', train_labels.shape)\n",
    "\n",
    "# Create weight for training\n",
    "train_weight = np.ones(train_features.shape[0])\n",
    "train_weight[train_labels == 1] = 4\n",
    "\n",
    "# Test set\n",
    "test_df = pd.read_pickle(test_path)\n",
    "test_features = np.stack(test_df['FFT_DATA'].values)\n",
    "test_labels = test_df['MARK'].values.astype(int)\n",
    "del test_df\n",
    "\n",
    "print('Loaded Test Data: features ', test_features.shape, ' labels', test_labels.shape)\n",
    "\n",
    "# Normalize data\n",
    "mean_train = np.mean(train_features, axis=0)\n",
    "std_train = np.std(train_features, axis=0)\n",
    "train_features = (train_features - mean_train)/std_train\n",
    "test_features = (test_features - mean_train)/std_train\n",
    "\n",
    "# Specify that all features have real-value data\n",
    "feature_columns = [tf.feature_column.numeric_column(\"x\", shape=train_features.shape[1])]\n",
    "weight_column = tf.feature_column.numeric_column(\"weight\")\n",
    "\n",
    "# Build 2 layer DNN with 128, 64, 1 units respectively\n",
    "classifier = tf.estimator.DNNClassifier(feature_columns=feature_columns,\n",
    "                                        hidden_units=[256, 128],\n",
    "                                        n_classes=2,\n",
    "                                        model_dir=\"model_data/spindle_estimator\",\n",
    "                                        optimizer=tf.train.AdamOptimizer(learning_rate=0.001),\n",
    "                                        weight_column=weight_column,\n",
    "                                        dropout=0.4)\n",
    "\n",
    "#    # Define the training inputs\n",
    "#    train_input_fn = tf.estimator.inputs.numpy_input_fn(\n",
    "#        x={\"x\": train_features, \"weight\": train_weight},\n",
    "#        y=train_labels,\n",
    "#        num_epochs=10,\n",
    "#        shuffle=True,\n",
    "#        batch_size=64\n",
    "#    )\n",
    "#\n",
    "#    # Train model\n",
    "#    classifier.train(input_fn=train_input_fn)\n",
    "#\n",
    "# Define the test inputs\n",
    "test_input_fn = tf.estimator.inputs.numpy_input_fn(\n",
    "    x={\"x\": test_features, \"weight\": np.ones(test_features.shape[0])},\n",
    "    y=test_labels,\n",
    "    num_epochs=1,\n",
    "    shuffle=False)\n",
    "\n",
    "# Evaluate\n",
    "metrics = classifier.evaluate(input_fn=test_input_fn)\n",
    "print(metrics)\n",
    "    \n",
    "    "
   ]
  },
  {
   "cell_type": "code",
   "execution_count": 33,
   "metadata": {},
   "outputs": [
    {
     "name": "stdout",
     "output_type": "stream",
     "text": [
      "INFO:tensorflow:Calling model_fn.\n",
      "INFO:tensorflow:Done calling model_fn.\n",
      "INFO:tensorflow:Graph was finalized.\n",
      "INFO:tensorflow:Restoring parameters from model_data/spindle_estimator\\model.ckpt-452485\n",
      "INFO:tensorflow:Running local_init_op.\n",
      "INFO:tensorflow:Done running local_init_op.\n",
      "[[0.4050245 ]\n",
      " [0.38347414]\n",
      " [0.36179665]\n",
      " [0.30687815]\n",
      " [0.30416107]\n",
      " [0.3088845 ]\n",
      " [0.33015746]\n",
      " [0.33615968]\n",
      " [0.34575698]\n",
      " [0.32066143]]\n"
     ]
    }
   ],
   "source": [
    "# Define the test inputs\n",
    "test_input_fn = tf.estimator.inputs.numpy_input_fn(x={\"x\":test_features},shuffle=False,num_epochs=1)\n",
    "\n",
    "# Evaluate\n",
    "results = []\n",
    "for single_prediction in classifier.predict(test_input_fn):\n",
    "    results.append(single_prediction['logistic'])\n",
    "    \n",
    "print(np.stack(results[0:10]))"
   ]
  },
  {
   "cell_type": "code",
   "execution_count": 39,
   "metadata": {},
   "outputs": [
    {
     "name": "stdout",
     "output_type": "stream",
     "text": [
      "INFO:tensorflow:Calling model_fn.\n",
      "INFO:tensorflow:Done calling model_fn.\n",
      "INFO:tensorflow:Graph was finalized.\n",
      "INFO:tensorflow:Restoring parameters from model_data/spindle_estimator\\model.ckpt-452485\n",
      "INFO:tensorflow:Running local_init_op.\n",
      "INFO:tensorflow:Done running local_init_op.\n"
     ]
    }
   ],
   "source": [
    "# Define the test inputs\n",
    "test_input_fn = tf.estimator.inputs.numpy_input_fn(x={\"x\":test_features},shuffle=False,num_epochs=1)\n",
    "\n",
    "# Evaluate\n",
    "results = []\n",
    "for single_prediction in classifier.predict(test_input_fn):\n",
    "    results.append(single_prediction['logistic'])\n",
    "results = np.stack(results) \n",
    "np.savetxt(\"prediction.csv\", results, delimiter=\",\")"
   ]
  },
  {
   "cell_type": "code",
   "execution_count": 35,
   "metadata": {},
   "outputs": [
    {
     "data": {
      "text/plain": [
       "(242400, 20)"
      ]
     },
     "execution_count": 35,
     "metadata": {},
     "output_type": "execute_result"
    }
   ],
   "source": [
    "test_features.shape"
   ]
  }
 ],
 "metadata": {
  "kernelspec": {
   "display_name": "Python 3",
   "language": "python",
   "name": "python3"
  },
  "language_info": {
   "codemirror_mode": {
    "name": "ipython",
    "version": 3
   },
   "file_extension": ".py",
   "mimetype": "text/x-python",
   "name": "python",
   "nbconvert_exporter": "python",
   "pygments_lexer": "ipython3",
   "version": "3.6.2"
  }
 },
 "nbformat": 4,
 "nbformat_minor": 2
}
