{
 "cells": [
  {
   "cell_type": "heading",
   "metadata": {
    "collapsed": true
   },
   "level": 1,
   "source": [
    "Imports"
   ]
  },
  {
   "cell_type": "code",
   "execution_count": 1,
   "metadata": {
    "collapsed": true
   },
   "outputs": [],
   "source": [
    "\n",
    "from __future__ import division\n",
    "import numpy as np\n",
    "import pyedflib\n",
    "import matplotlib.pyplot as plt\n",
    "%matplotlib inline\n"
   ]
  },
  {
   "cell_type": "heading",
   "metadata": {},
   "level": 1,
   "source": [
    "PyEDFLib Example"
   ]
  },
  {
   "cell_type": "code",
   "execution_count": null,
   "metadata": {
    "collapsed": true
   },
   "outputs": [],
   "source": [
    "\n",
    "\n",
    "f = pyedflib.EdfReader(\"ssdata/register/ADGU101504.rec\")\n",
    "print(f)\n",
    "\n",
    "# Show what signals are in there\n",
    "signal_labels = f.getSignalLabels()\n",
    "print(\"signal_labels:\", signal_labels)\n",
    "\n",
    "# Get signal from channel 1 only\n",
    "signal_1 = f.readSignal(1)\n",
    "# Get sampling frequency\n",
    "fs_1 = f.getSampleFrequency(1)\n",
    "\n",
    "# Close reader\n",
    "f._close()\n",
    "del f\n",
    "\n",
    "# Show numbers\n",
    "print(fs_1) \n"
   ]
  },
  {
   "cell_type": "heading",
   "metadata": {
    "collapsed": true
   },
   "level": 1,
   "source": [
    "Reading numeric data from files\n"
   ]
  },
  {
   "cell_type": "code",
   "execution_count": null,
   "metadata": {},
   "outputs": [],
   "source": [
    "marks_example = \"ssdata/label/marks/FixedSS_ADGU101504.txt\"\n",
    "states_example = \"ssdata/label/states/StagesOnly_ADGU101504.txt\"\n",
    "\n",
    "# Format is 1:SQ4  2:SQ3  3:SQ2  4:SQ1  5:REM  6:WA\n",
    "states = np.loadtxt(states_example, dtype='i', delimiter=' ')\n",
    "#print(states[0])\n",
    "\n",
    "# First two are start and end for mark. Last two are validity and channel\n",
    "marks_file = np.loadtxt(marks_example, dtype='i', delimiter=' ')\n",
    "#print(marks_file[0, :])\n",
    "\n",
    "#print(marks_file.shape)\n",
    "\n",
    "#print(marks_file[marks_file[:, 5] == 1, :].shape)\n",
    "\n",
    "#\n",
    "path_marks_file = marks_example\n",
    "marks_file = np.loadtxt(path_marks_file, dtype='i', delimiter=' ')\n",
    "print(marks_file.shape)\n",
    "marks_and_validity = marks_file[marks_file[:, 5] == 1][:, [0,1]]\n",
    "print(marks_and_validity.shape)\n"
   ]
  },
  {
   "cell_type": "heading",
   "metadata": {},
   "level": 1,
   "source": [
    "Creating a Pandas Dataframe"
   ]
  },
  {
   "cell_type": "code",
   "execution_count": null,
   "metadata": {},
   "outputs": [],
   "source": [
    "\n",
    "# Playground with pandas\n",
    "\n",
    "a = np.array([[1,1,0.1],[1,2,0.05],[2,1,-0.1]])\n",
    "print(a)\n",
    "rows_list = []\n",
    "for i in range(len(a)):\n",
    "        dict1 = {}\n",
    "        # get input row in dictionary format\n",
    "        # key = col_name\n",
    "        dict1.update({'ID_REG': a[i, 0]})\n",
    "        dict1.update({'ID_SEG': a[i, 1]})\n",
    "        dict1.update({'EEG_DATA': a[i, 2]})\n",
    "        rows_list.append(dict1)\n",
    "df = pd.DataFrame(rows_list, columns = rows_list[0].keys())  \n",
    "print(df)\n",
    "\n",
    "\n",
    "# Check binary\n",
    "a = np.array([1,1,1,0,0,0,0,1,1,1,1,1,0,1])\n",
    "np.array_equal(a, a.astype(bool))\n"
   ]
  },
  {
   "cell_type": "code",
   "execution_count": 1,
   "metadata": {},
   "outputs": [
    {
     "name": "stdout",
     "output_type": "stream",
     "text": [
      "INFO:tensorflow:Using default config.\n"
     ]
    },
    {
     "name": "stdout",
     "output_type": "stream",
     "text": [
      "INFO:tensorflow:Using config: {'_model_dir': 'model_data/spindle_estimator', '_tf_random_seed': None, '_save_summary_steps': 100, '_save_checkpoints_steps': None, '_save_checkpoints_secs': 600, '_session_config': None, '_keep_checkpoint_max': 5, '_keep_checkpoint_every_n_hours': 10000, '_log_step_count_steps': 100, '_service': None, '_cluster_spec': <tensorflow.python.training.server_lib.ClusterSpec object at 0x000001C05771AAC8>, '_task_type': 'worker', '_task_id': 0, '_global_id_in_cluster': 0, '_master': '', '_evaluation_master': '', '_is_chief': True, '_num_ps_replicas': 0, '_num_worker_replicas': 1}\n"
     ]
    },
    {
     "name": "stdout",
     "output_type": "stream",
     "text": [
      "INFO:tensorflow:Calling model_fn.\n"
     ]
    },
    {
     "name": "stdout",
     "output_type": "stream",
     "text": [
      "INFO:tensorflow:Done calling model_fn.\n"
     ]
    },
    {
     "name": "stdout",
     "output_type": "stream",
     "text": [
      "INFO:tensorflow:Create CheckpointSaverHook.\n"
     ]
    },
    {
     "name": "stdout",
     "output_type": "stream",
     "text": [
      "INFO:tensorflow:Graph was finalized.\n"
     ]
    },
    {
     "name": "stdout",
     "output_type": "stream",
     "text": [
      "INFO:tensorflow:Running local_init_op.\n"
     ]
    },
    {
     "name": "stdout",
     "output_type": "stream",
     "text": [
      "INFO:tensorflow:Done running local_init_op.\n"
     ]
    },
    {
     "name": "stdout",
     "output_type": "stream",
     "text": [
      "INFO:tensorflow:Saving checkpoints for 1 into model_data/spindle_estimator\\model.ckpt.\n"
     ]
    },
    {
     "name": "stdout",
     "output_type": "stream",
     "text": [
      "INFO:tensorflow:loss = 68.7459, step = 1\n"
     ]
    },
    {
     "name": "stdout",
     "output_type": "stream",
     "text": [
      "INFO:tensorflow:Saving checkpoints for 100 into model_data/spindle_estimator\\model.ckpt.\n"
     ]
    },
    {
     "name": "stdout",
     "output_type": "stream",
     "text": [
      "INFO:tensorflow:Loss for final step: 15.694538.\n"
     ]
    },
    {
     "name": "stdout",
     "output_type": "stream",
     "text": [
      "INFO:tensorflow:Calling model_fn.\n"
     ]
    },
    {
     "name": "stdout",
     "output_type": "stream",
     "text": [
      "INFO:tensorflow:Done calling model_fn.\n"
     ]
    },
    {
     "name": "stdout",
     "output_type": "stream",
     "text": [
      "INFO:tensorflow:Starting evaluation at 2018-06-27-03:43:47\n"
     ]
    },
    {
     "name": "stdout",
     "output_type": "stream",
     "text": [
      "INFO:tensorflow:Graph was finalized.\n"
     ]
    },
    {
     "name": "stdout",
     "output_type": "stream",
     "text": [
      "INFO:tensorflow:Restoring parameters from model_data/spindle_estimator\\model.ckpt-100\n"
     ]
    },
    {
     "name": "stdout",
     "output_type": "stream",
     "text": [
      "INFO:tensorflow:Running local_init_op.\n"
     ]
    },
    {
     "name": "stdout",
     "output_type": "stream",
     "text": [
      "INFO:tensorflow:Done running local_init_op.\n"
     ]
    },
    {
     "name": "stdout",
     "output_type": "stream",
     "text": [
      "INFO:tensorflow:Finished evaluation at 2018-06-27-03:43:49\n"
     ]
    },
    {
     "name": "stdout",
     "output_type": "stream",
     "text": [
      "INFO:tensorflow:Saving dict for global step 100: accuracy = 0.8188402, accuracy_baseline = 0.8558505, auc = 0.71761984, auc_precision_recall = 0.38664848, average_loss = 0.44564444, global_step = 100, label/mean = 0.14414948, loss = 56.972008, prediction/mean = 0.2466226\n"
     ]
    },
    {
     "name": "stdout",
     "output_type": "stream",
     "text": [
      "{'accuracy': 0.8188402, 'accuracy_baseline': 0.8558505, 'auc': 0.71761984, 'auc_precision_recall': 0.38664848, 'average_loss': 0.44564444, 'label/mean': 0.14414948, 'loss': 56.972008, 'prediction/mean': 0.2466226, 'global_step': 100}\n"
     ]
    }
   ],
   "source": [
    "import numpy as np\n",
    "import pandas as pd\n",
    "import pickle\n",
    "\n",
    "train_path = \"pickle_data/n2fft_dataframe_lite_train.pkl\"\n",
    "train_df = pd.read_pickle(train_path)\n",
    "\n",
    "features = np.stack(train_df['FFT_DATA'].values)\n",
    "labels = train_df['MARK'].values\n"
   ]
  },
  {
   "cell_type": "code",
   "execution_count": 3,
   "metadata": {},
   "outputs": [
    {
     "name": "stdout",
     "output_type": "stream",
     "text": [
      "INFO:tensorflow:Using default config.\n"
     ]
    },
    {
     "name": "stdout",
     "output_type": "stream",
     "text": [
      "INFO:tensorflow:Using config: {'_model_dir': 'model_data/spindle_estimator', '_tf_random_seed': None, '_save_summary_steps': 100, '_save_checkpoints_steps': None, '_save_checkpoints_secs': 600, '_session_config': None, '_keep_checkpoint_max': 5, '_keep_checkpoint_every_n_hours': 10000, '_log_step_count_steps': 100, '_service': None, '_cluster_spec': <tensorflow.python.training.server_lib.ClusterSpec object at 0x000001C05771AAC8>, '_task_type': 'worker', '_task_id': 0, '_global_id_in_cluster': 0, '_master': '', '_evaluation_master': '', '_is_chief': True, '_num_ps_replicas': 0, '_num_worker_replicas': 1}\n"
     ]
    },
    {
     "name": "stdout",
     "output_type": "stream",
     "text": [
      "INFO:tensorflow:Calling model_fn.\n"
     ]
    },
    {
     "name": "stdout",
     "output_type": "stream",
     "text": [
      "INFO:tensorflow:Done calling model_fn.\n"
     ]
    },
    {
     "name": "stdout",
     "output_type": "stream",
     "text": [
      "INFO:tensorflow:Create CheckpointSaverHook.\n"
     ]
    },
    {
     "name": "stdout",
     "output_type": "stream",
     "text": [
      "INFO:tensorflow:Graph was finalized.\n"
     ]
    },
    {
     "name": "stdout",
     "output_type": "stream",
     "text": [
      "INFO:tensorflow:Running local_init_op.\n"
     ]
    },
    {
     "name": "stdout",
     "output_type": "stream",
     "text": [
      "INFO:tensorflow:Done running local_init_op.\n"
     ]
    },
    {
     "name": "stdout",
     "output_type": "stream",
     "text": [
      "INFO:tensorflow:Saving checkpoints for 1 into model_data/spindle_estimator\\model.ckpt.\n"
     ]
    },
    {
     "name": "stdout",
     "output_type": "stream",
     "text": [
      "INFO:tensorflow:loss = 68.7459, step = 1\n"
     ]
    },
    {
     "name": "stdout",
     "output_type": "stream",
     "text": [
      "INFO:tensorflow:Saving checkpoints for 100 into model_data/spindle_estimator\\model.ckpt.\n"
     ]
    },
    {
     "name": "stdout",
     "output_type": "stream",
     "text": [
      "INFO:tensorflow:Loss for final step: 15.694538.\n"
     ]
    },
    {
     "name": "stdout",
     "output_type": "stream",
     "text": [
      "INFO:tensorflow:Calling model_fn.\n"
     ]
    },
    {
     "name": "stdout",
     "output_type": "stream",
     "text": [
      "INFO:tensorflow:Done calling model_fn.\n"
     ]
    },
    {
     "name": "stdout",
     "output_type": "stream",
     "text": [
      "INFO:tensorflow:Starting evaluation at 2018-06-27-03:43:47\n"
     ]
    },
    {
     "name": "stdout",
     "output_type": "stream",
     "text": [
      "INFO:tensorflow:Graph was finalized.\n"
     ]
    },
    {
     "name": "stdout",
     "output_type": "stream",
     "text": [
      "INFO:tensorflow:Restoring parameters from model_data/spindle_estimator\\model.ckpt-100\n"
     ]
    },
    {
     "name": "stdout",
     "output_type": "stream",
     "text": [
      "INFO:tensorflow:Running local_init_op.\n"
     ]
    },
    {
     "name": "stdout",
     "output_type": "stream",
     "text": [
      "INFO:tensorflow:Done running local_init_op.\n"
     ]
    },
    {
     "name": "stdout",
     "output_type": "stream",
     "text": [
      "INFO:tensorflow:Finished evaluation at 2018-06-27-03:43:49\n"
     ]
    },
    {
     "name": "stdout",
     "output_type": "stream",
     "text": [
      "INFO:tensorflow:Saving dict for global step 100: accuracy = 0.8188402, accuracy_baseline = 0.8558505, auc = 0.71761984, auc_precision_recall = 0.38664848, average_loss = 0.44564444, global_step = 100, label/mean = 0.14414948, loss = 56.972008, prediction/mean = 0.2466226\n"
     ]
    },
    {
     "name": "stdout",
     "output_type": "stream",
     "text": [
      "{'accuracy': 0.8188402, 'accuracy_baseline': 0.8558505, 'auc': 0.71761984, 'auc_precision_recall': 0.38664848, 'average_loss': 0.44564444, 'label/mean': 0.14414948, 'loss': 56.972008, 'prediction/mean': 0.2466226, 'global_step': 100}\n"
     ]
    }
   ],
   "source": [
    "from __future__ import division\n",
    "import tensorflow as tf\n",
    "import numpy as np\n",
    "import pandas as pd\n",
    "\n",
    "\n",
    "def main():\n",
    "    # Load dataset\n",
    "    train_path = \"pickle_data/n2fft_dataframe_lite_train.pkl\"\n",
    "    test_path = \"pickle_data/n2fft_dataframe_lite_test.pkl\"\n",
    "\n",
    "    # Training set\n",
    "    train_df = pd.read_pickle(train_path)\n",
    "    train_features = np.stack(train_df['FFT_DATA'].values)\n",
    "    train_labels = train_df['MARK'].values.astype(int)\n",
    "    del train_df\n",
    "    \n",
    "    # Create weight for training\n",
    "    train_weight = np.ones(train_features.shape[0])\n",
    "    train_weight[train_labels == 1] = 4\n",
    "    \n",
    "    # Test set\n",
    "    test_df = pd.read_pickle(test_path)\n",
    "    test_features = np.stack(test_df['FFT_DATA'].values)\n",
    "    test_labels = test_df['MARK'].values.astype(int)\n",
    "    del test_df\n",
    "\n",
    "    # Specify that all features have real-value data\n",
    "    feature_columns = [tf.feature_column.numeric_column(\"x\", shape=train_features.shape[1])]\n",
    "    weight_column = tf.feature_column.numeric_column(\"weight\")\n",
    "\n",
    "    # Build 2 layer DNN with 128, 64, 1 units respectively\n",
    "    classifier = tf.estimator.DNNClassifier(feature_columns=feature_columns,\n",
    "                                            hidden_units=[128],\n",
    "                                            n_classes=2,\n",
    "                                            model_dir=\"model_data/spindle_estimator\",\n",
    "                                            optimizer=tf.train.AdamOptimizer(learning_rate=0.01),\n",
    "                                            weight_column=weight_column)\n",
    "\n",
    "    # Define the training inputs\n",
    "    train_input_fn = tf.estimator.inputs.numpy_input_fn(\n",
    "        x={\"x\": train_features, \"weight\": train_weight},\n",
    "        y=train_labels,\n",
    "        num_epochs=None,\n",
    "        shuffle=True,\n",
    "        batch_size=32\n",
    "    )\n",
    "\n",
    "    # Train model\n",
    "    classifier.train(input_fn=train_input_fn, steps=100)\n",
    "\n",
    "    # Define the test inputs\n",
    "    test_input_fn = tf.estimator.inputs.numpy_input_fn(\n",
    "        x={\"x\": test_features, \"weight\": np.ones(test_features.shape[0])},\n",
    "        y=test_labels,\n",
    "        num_epochs=1,\n",
    "        shuffle=False)\n",
    "\n",
    "    # Evaluate\n",
    "    metrics = classifier.evaluate(input_fn=test_input_fn)\n",
    "    print(metrics)\n",
    "    # print(\"\\nTest Precision: {0:f}\\n\".format(metrics[\"precision\"]))\n",
    "    # print(\"\\nTest Recall: {0:f}\\n\".format(metrics[\"recall\"]))\n",
    "\n",
    "\n",
    "if __name__ == \"__main__\":\n",
    "    main()\n",
    "    \n",
    "    \n"
   ]
  },
  {
   "cell_type": "code",
   "execution_count": 10,
   "metadata": {},
   "outputs": [
    {
     "name": "stdout",
     "output_type": "stream",
     "text": [
      "INFO:tensorflow:Using default config.\n"
     ]
    },
    {
     "name": "stdout",
     "output_type": "stream",
     "text": [
      "INFO:tensorflow:Using config: {'_model_dir': 'model_data/spindle_estimator', '_tf_random_seed': None, '_save_summary_steps': 100, '_save_checkpoints_steps': None, '_save_checkpoints_secs': 600, '_session_config': None, '_keep_checkpoint_max': 5, '_keep_checkpoint_every_n_hours': 10000, '_log_step_count_steps': 100, '_service': None, '_cluster_spec': <tensorflow.python.training.server_lib.ClusterSpec object at 0x000001C05771AAC8>, '_task_type': 'worker', '_task_id': 0, '_global_id_in_cluster': 0, '_master': '', '_evaluation_master': '', '_is_chief': True, '_num_ps_replicas': 0, '_num_worker_replicas': 1}\n"
     ]
    },
    {
     "name": "stdout",
     "output_type": "stream",
     "text": [
      "INFO:tensorflow:Calling model_fn.\n"
     ]
    },
    {
     "name": "stdout",
     "output_type": "stream",
     "text": [
      "INFO:tensorflow:Done calling model_fn.\n"
     ]
    },
    {
     "name": "stdout",
     "output_type": "stream",
     "text": [
      "INFO:tensorflow:Create CheckpointSaverHook.\n"
     ]
    },
    {
     "name": "stdout",
     "output_type": "stream",
     "text": [
      "INFO:tensorflow:Graph was finalized.\n"
     ]
    },
    {
     "name": "stdout",
     "output_type": "stream",
     "text": [
      "INFO:tensorflow:Running local_init_op.\n"
     ]
    },
    {
     "name": "stdout",
     "output_type": "stream",
     "text": [
      "INFO:tensorflow:Done running local_init_op.\n"
     ]
    },
    {
     "name": "stdout",
     "output_type": "stream",
     "text": [
      "INFO:tensorflow:Saving checkpoints for 1 into model_data/spindle_estimator\\model.ckpt.\n"
     ]
    },
    {
     "name": "stdout",
     "output_type": "stream",
     "text": [
      "INFO:tensorflow:loss = 68.7459, step = 1\n"
     ]
    },
    {
     "name": "stdout",
     "output_type": "stream",
     "text": [
      "INFO:tensorflow:Saving checkpoints for 100 into model_data/spindle_estimator\\model.ckpt.\n"
     ]
    },
    {
     "name": "stdout",
     "output_type": "stream",
     "text": [
      "INFO:tensorflow:Loss for final step: 15.694538.\n"
     ]
    },
    {
     "name": "stdout",
     "output_type": "stream",
     "text": [
      "INFO:tensorflow:Calling model_fn.\n"
     ]
    },
    {
     "name": "stdout",
     "output_type": "stream",
     "text": [
      "INFO:tensorflow:Done calling model_fn.\n"
     ]
    },
    {
     "name": "stdout",
     "output_type": "stream",
     "text": [
      "INFO:tensorflow:Starting evaluation at 2018-06-27-03:43:47\n"
     ]
    },
    {
     "name": "stdout",
     "output_type": "stream",
     "text": [
      "INFO:tensorflow:Graph was finalized.\n"
     ]
    },
    {
     "name": "stdout",
     "output_type": "stream",
     "text": [
      "INFO:tensorflow:Restoring parameters from model_data/spindle_estimator\\model.ckpt-100\n"
     ]
    },
    {
     "name": "stdout",
     "output_type": "stream",
     "text": [
      "INFO:tensorflow:Running local_init_op.\n"
     ]
    },
    {
     "name": "stdout",
     "output_type": "stream",
     "text": [
      "INFO:tensorflow:Done running local_init_op.\n"
     ]
    },
    {
     "name": "stdout",
     "output_type": "stream",
     "text": [
      "INFO:tensorflow:Finished evaluation at 2018-06-27-03:43:49\n"
     ]
    },
    {
     "name": "stdout",
     "output_type": "stream",
     "text": [
      "INFO:tensorflow:Saving dict for global step 100: accuracy = 0.8188402, accuracy_baseline = 0.8558505, auc = 0.71761984, auc_precision_recall = 0.38664848, average_loss = 0.44564444, global_step = 100, label/mean = 0.14414948, loss = 56.972008, prediction/mean = 0.2466226\n"
     ]
    },
    {
     "name": "stdout",
     "output_type": "stream",
     "text": [
      "{'accuracy': 0.8188402, 'accuracy_baseline': 0.8558505, 'auc': 0.71761984, 'auc_precision_recall': 0.38664848, 'average_loss': 0.44564444, 'label/mean': 0.14414948, 'loss': 56.972008, 'prediction/mean': 0.2466226, 'global_step': 100}\n"
     ]
    }
   ],
   "source": [
    "\n",
    "a = np.ones(10)\n",
    "b = np.array([1,1,1,1,2,2,2,1,1,1])\n",
    "a[b==2] = 10\n",
    "print(a)"
   ]
  },
  {
   "cell_type": "heading",
   "metadata": {},
   "level": 1,
   "source": []
  }
 ],
 "metadata": {
  "kernelspec": {
   "display_name": "Python 2",
   "language": "python",
   "name": "python2"
  },
  "language_info": {
   "codemirror_mode": {
    "name": "ipython",
    "version": 2
   },
   "file_extension": ".py",
   "mimetype": "text/x-python",
   "name": "python",
   "nbconvert_exporter": "python",
   "pygments_lexer": "ipython2",
   "version": "2.7.6"
  }
 },
 "nbformat": 4,
 "nbformat_minor": 0
}
