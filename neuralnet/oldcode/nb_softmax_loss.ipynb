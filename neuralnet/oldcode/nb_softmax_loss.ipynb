{
 "cells": [
  {
   "cell_type": "code",
   "execution_count": 2,
   "metadata": {},
   "outputs": [
    {
     "name": "stderr",
     "output_type": "stream",
     "text": [
      "/home/ntapia/miniconda3/envs/idp/lib/python3.6/site-packages/h5py/__init__.py:36: FutureWarning: Conversion of the second argument of issubdtype from `float` to `np.floating` is deprecated. In future, it will be treated as `np.float64 == np.dtype(float).type`.\n",
      "  from ._conv import register_converters as _register_converters\n"
     ]
    }
   ],
   "source": [
    "import numpy as np\n",
    "import tensorflow as tf"
   ]
  },
  {
   "cell_type": "code",
   "execution_count": 4,
   "metadata": {},
   "outputs": [
    {
     "name": "stdout",
     "output_type": "stream",
     "text": [
      "labels shape (7, 4)\n",
      "[[0 1 1 0]\n",
      " [1 0 0 0]\n",
      " [0 1 1 1]\n",
      " [1 0 1 0]\n",
      " [1 1 1 1]\n",
      " [1 1 1 1]\n",
      " [0 0 0 0]]\n",
      "(7, 4)\n",
      "[[0 1 1 0]\n",
      " [1 0 0 0]\n",
      " [0 1 1 1]\n",
      " [1 0 1 0]\n",
      " [1 1 1 1]\n",
      " [1 1 1 1]\n",
      " [0 0 0 0]]\n"
     ]
    }
   ],
   "source": [
    "tf.reset_default_graph()\n",
    "# labels\n",
    "labels = np.array([\n",
    "    [0,1,1,0],[1,0,0,0],[0,1,1,1],[1,0,1,0],[1,1,1,1],[1,1,1,1],[0,0,0,0]\n",
    "])\n",
    "\n",
    "print(\"labels shape\",labels.shape)\n",
    "depth = 2\n",
    "labels_onehot = tf.one_hot(labels, depth)\n",
    "\n",
    "logits = labels_onehot\n",
    "\n",
    "loss = tf.nn.softmax_cross_entropy_with_logits_v2(labels=labels_onehot, logits=logits)\n",
    "loss_prom =tf.reduce_mean(loss)\n",
    "\n",
    "labels_single = tf.argmax(labels_onehot, axis=-1)\n",
    "\n",
    "with tf.Session() as sess:\n",
    "    #labels_onehot_np = sess.run(labels_onehot)\n",
    "    out_np = sess.run(labels_single)\n",
    "print(out_np)\n",
    "print(out_np.shape)\n",
    "print(labels)    \n",
    "\n",
    "#print(labels_onehot_np)\n",
    "#print(labels_onehot_np.shape)"
   ]
  }
 ],
 "metadata": {
  "kernelspec": {
   "display_name": "Python 3",
   "language": "python",
   "name": "python3"
  },
  "language_info": {
   "codemirror_mode": {
    "name": "ipython",
    "version": 3
   },
   "file_extension": ".py",
   "mimetype": "text/x-python",
   "name": "python",
   "nbconvert_exporter": "python",
   "pygments_lexer": "ipython3",
   "version": "3.6.3"
  }
 },
 "nbformat": 4,
 "nbformat_minor": 2
}
