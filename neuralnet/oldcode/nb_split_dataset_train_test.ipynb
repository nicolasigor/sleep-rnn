{
 "cells": [
  {
   "cell_type": "code",
   "execution_count": 19,
   "metadata": {
    "collapsed": true
   },
   "outputs": [
    {
     "name": "stdout",
     "output_type": "stream",
     "text": [
      "Loaded (3138300, 5)\n"
     ]
    },
    {
     "name": "stdout",
     "output_type": "stream",
     "text": [
      "Train set size: (2895900, 5)\nTest set size: (242400, 5)\n"
     ]
    },
    {
     "name": "stdout",
     "output_type": "stream",
     "text": [
      "Full Database saved\n"
     ]
    }
   ],
   "source": [
    "import pandas as pd\n",
    "import numpy as np\n",
    "import pickle\n",
    "\n",
    "# Load data lite\n",
    "pickle_name = \"pickle_data/n2fft_dataframe_lite.pkl\"\n",
    "unpickled_df = pd.read_pickle(pickle_name)\n",
    "print('Loaded', unpickled_df.shape)\n",
    "\n",
    "# Split lite data\n",
    "train_set_df = unpickled_df[unpickled_df['ID_REG'] == 0]\n",
    "print('Train set size:', train_set_df.shape)\n",
    "test_set_df = unpickled_df[unpickled_df['ID_REG'] == 1]\n",
    "print('Test set size:', test_set_df.shape)\n",
    "\n",
    "# Save lite data\n",
    "train_lite_name = \"pickle_data/n2fft_dataframe_lite_train.pkl\"\n",
    "test_lite_name = \"pickle_data/n2fft_dataframe_lite_test.pkl\"\n",
    "pd.to_pickle(train_set_df, train_lite_name)\n",
    "pd.to_pickle(test_set_df, test_lite_name)\n",
    "print(\"Lite Database saved\")\n"
   ]
  },
  {
   "cell_type": "code",
   "execution_count": 20,
   "metadata": {
    "collapsed": true
   },
   "outputs": [
    {
     "name": "stdout",
     "output_type": "stream",
     "text": [
      "Loaded (3138300, 5)\n"
     ]
    },
    {
     "name": "stdout",
     "output_type": "stream",
     "text": [
      "Train set size: (2895900, 5)\nTest set size: (242400, 5)\n"
     ]
    },
    {
     "name": "stdout",
     "output_type": "stream",
     "text": [
      "Full Database saved\n"
     ]
    }
   ],
   "source": [
    "# Load data full\n",
    "pickle_name = \"pickle_data/n2fft_dataframe_full.pkl\"\n",
    "unpickled_df = pd.read_pickle(pickle_name)\n",
    "print('Loaded', unpickled_df.shape)\n",
    "\n",
    "# Split full data\n",
    "train_set_df = unpickled_df[unpickled_df['ID_REG'] > 0]\n",
    "print('Train set size:', train_set_df.shape)\n",
    "test_set_df = unpickled_df[unpickled_df['ID_REG'] == 0]\n",
    "print('Test set size:', test_set_df.shape)\n",
    "\n",
    "# Save lite data\n",
    "train_full_name = \"pickle_data/n2fft_dataframe_full_train.pkl\"\n",
    "test_full_name = \"pickle_data/n2fft_dataframe_full_test.pkl\"\n",
    "pd.to_pickle(train_set_df, train_full_name)\n",
    "pd.to_pickle(test_set_df, test_full_name)\n",
    "print(\"Full Database saved\")\n"
   ]
  },
  {
   "cell_type": "code",
   "execution_count": 17,
   "metadata": {
    "collapsed": true
   },
   "outputs": [
    {
     "name": "stdout",
     "output_type": "stream",
     "text": [
      "Loaded (3138300, 5)\n"
     ]
    },
    {
     "name": "stdout",
     "output_type": "stream",
     "text": [
      "Train set size: (2895900, 5)\nTest set size: (242400, 5)\n"
     ]
    },
    {
     "name": "stdout",
     "output_type": "stream",
     "text": [
      "Full Database saved\n"
     ]
    }
   ],
   "source": [
    ""
   ]
  },
  {
   "cell_type": "code",
   "execution_count": null,
   "metadata": {
    "collapsed": true
   },
   "outputs": [
    {
     "name": "stdout",
     "output_type": "stream",
     "text": [
      "Loaded (3138300, 5)\n"
     ]
    },
    {
     "name": "stdout",
     "output_type": "stream",
     "text": [
      "Train set size: (2895900, 5)\nTest set size: (242400, 5)\n"
     ]
    },
    {
     "name": "stdout",
     "output_type": "stream",
     "text": [
      "Full Database saved\n"
     ]
    }
   ],
   "source": [
    ""
   ]
  }
 ],
 "metadata": {
  "kernelspec": {
   "display_name": "Python 2",
   "language": "python",
   "name": "python2"
  },
  "language_info": {
   "codemirror_mode": {
    "name": "ipython",
    "version": 2
   },
   "file_extension": ".py",
   "mimetype": "text/x-python",
   "name": "python",
   "nbconvert_exporter": "python",
   "pygments_lexer": "ipython2",
   "version": "2.7.6"
  }
 },
 "nbformat": 4,
 "nbformat_minor": 0
}
