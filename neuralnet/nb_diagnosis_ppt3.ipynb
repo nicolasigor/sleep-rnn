{
 "cells": [
  {
   "cell_type": "code",
   "execution_count": 55,
   "metadata": {},
   "outputs": [],
   "source": [
    "import numpy as np\n",
    "import matplotlib.pyplot as plt\n",
    "from matplotlib import gridspec\n",
    "import pywt\n",
    "from ipywidgets import interact, interactive, fixed, interact_manual\n",
    "import ipywidgets as widgets\n",
    "\n",
    "from sleep_data import SleepDataMASS"
   ]
  },
  {
   "cell_type": "code",
   "execution_count": 2,
   "metadata": {},
   "outputs": [
    {
     "name": "stdout",
     "output_type": "stream",
     "text": [
      "\n",
      "Loading MASS from checkpoint\n",
      "\n",
      "Pages in train set: 5838\n",
      "Pages in val set: 1869\n",
      "Pages in test set: 3094\n",
      "\n",
      "Pages in MASS dataset: 10801\n"
     ]
    }
   ],
   "source": [
    "dataset = SleepDataMASS(load_from_checkpoint=True)"
   ]
  },
  {
   "cell_type": "code",
   "execution_count": 39,
   "metadata": {},
   "outputs": [
    {
     "name": "stdout",
     "output_type": "stream",
     "text": [
      "Signal (1869, 4000)\n",
      "Expert marks (1869, 400)\n",
      "NN marks (1869, 400)\n"
     ]
    }
   ],
   "source": [
    "subset_name = \"val\"\n",
    "\n",
    "fs = dataset.get_fs()\n",
    "signals, exp_marks = dataset.get_augmented_numpy_subset(subset_name, 1, 0)\n",
    "size_half_page = int(signals.shape[1]/4)\n",
    "signals = signals[:, size_half_page:-size_half_page]\n",
    "exp_marks = exp_marks[:, size_half_page:-size_half_page:10]\n",
    "print(\"Signal\", signals.shape)\n",
    "print(\"Expert marks\", exp_marks.shape)\n",
    "\n",
    "nn_marks = np.loadtxt(\"falcondata/marks_ppt3/predictions_\"+subset_name+\"_central.csv\")\n",
    "print(\"NN marks\", nn_marks.shape)\n",
    "\n",
    "n_pages = exp_marks.shape[0]"
   ]
  },
  {
   "cell_type": "code",
   "execution_count": 56,
   "metadata": {},
   "outputs": [],
   "source": [
    "def set_cwt(fs):\n",
    "    # Parameters CWT\n",
    "    fb = 1.5\n",
    "    lower_freq = 3\n",
    "    upper_freq = 40\n",
    "    n_scales = 32\n",
    "    # Generate initial and last scale\n",
    "    s_0 = fs / upper_freq\n",
    "    s_n = fs / lower_freq\n",
    "    # Generate the array of scales\n",
    "    base = np.power(s_n / s_0, 1 / (n_scales - 1))\n",
    "    scales = s_0 * np.power(base, np.arange(n_scales))\n",
    "    # Pywavelets\n",
    "    w = pywt.ContinuousWavelet('cmor')\n",
    "    w.center_frequency = 1\n",
    "    w.bandwidth_frequency = fb\n",
    "    return scales, w\n",
    "# scales, w = set_cwt(fs)"
   ]
  },
  {
   "cell_type": "code",
   "execution_count": 57,
   "metadata": {},
   "outputs": [],
   "source": [
    "def get_cwt(segment, scales, w, fs):\n",
    "    coef, freqs = pywt.cwt(segment, scales, w, 1/fs)\n",
    "    abs_coef = np.abs(coef)\n",
    "    return abs_coef * freqs[:, np.newaxis]"
   ]
  },
  {
   "cell_type": "code",
   "execution_count": 78,
   "metadata": {},
   "outputs": [
    {
     "data": {
      "application/vnd.jupyter.widget-view+json": {
       "model_id": "cf5a87a8519e4b2e938a8594511a6f89",
       "version_major": 2,
       "version_minor": 0
      },
      "text/plain": [
       "interactive(children=(IntSlider(value=1, description='page', max=1869, min=1), Output()), _dom_classes=('widge…"
      ]
     },
     "metadata": {},
     "output_type": "display_data"
    }
   ],
   "source": [
    "def plot_page(page):\n",
    "    global signals, exp_marks, nn_marks, fs\n",
    "    fig = plt.figure(figsize=(15, 6)) \n",
    "    gs = gridspec.GridSpec(4, 1, height_ratios=[2, 3, 1, 1]) \n",
    "    \n",
    "    time_axis = np.arange(0, signals.shape[1])/fs\n",
    "    this_signal = signals[page, :]\n",
    "    this_mark = exp_marks[page, :]\n",
    "    this_pred = nn_marks[page, :]\n",
    "    scales, w = set_cwt(fs)\n",
    "    this_cwt = get_cwt(this_signal, scales, w, fs)\n",
    "\n",
    "    # Signal\n",
    "    ax0 = fig.add_subplot(gs[0])\n",
    "    ax0.plot(time_axis, this_signal)\n",
    "    ax0.get_xaxis().set_ticks([])\n",
    "    ax0.get_yaxis().set_ticks([])\n",
    "    ax0.set_xlim([0, 20])\n",
    "    \n",
    "    # CWT (con Pywavelets)\n",
    "    ax1 = fig.add_subplot(gs[1])\n",
    "    ax1.imshow(this_cwt, interpolation=None, aspect='auto', extent=[1, 20, 32, 1])\n",
    "    \n",
    "    # ax1.plot(this_mark)\n",
    "    \n",
    "    # Expert mark\n",
    "    \n",
    "    # NN mark\n",
    "    plt.tight_layout()\n",
    "    plt.show()\n",
    "\n",
    "interact(plot_page, page=widgets.IntSlider(min=1,max=n_pages,step=1,value=1));\n"
   ]
  },
  {
   "cell_type": "code",
   "execution_count": null,
   "metadata": {},
   "outputs": [],
   "source": []
  }
 ],
 "metadata": {
  "kernelspec": {
   "display_name": "Python 3",
   "language": "python",
   "name": "python3"
  },
  "language_info": {
   "codemirror_mode": {
    "name": "ipython",
    "version": 3
   },
   "file_extension": ".py",
   "mimetype": "text/x-python",
   "name": "python",
   "nbconvert_exporter": "python",
   "pygments_lexer": "ipython3",
   "version": "3.5.2"
  }
 },
 "nbformat": 4,
 "nbformat_minor": 2
}
